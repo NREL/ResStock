{
 "cells": [
  {
   "cell_type": "code",
   "execution_count": 1,
   "id": "121f95ab-30a4-4c19-bb44-00c991ab0771",
   "metadata": {},
   "outputs": [],
   "source": [
    "import pandas as pd"
   ]
  },
  {
   "cell_type": "code",
   "execution_count": 2,
   "id": "9d142de5-8cc4-4c79-919e-ce827f3bffbf",
   "metadata": {},
   "outputs": [],
   "source": [
    "# Define runs included\n",
    "# run0"
   ]
  },
  {
   "cell_type": "code",
   "execution_count": null,
   "id": "8d3e7767-f934-4737-83a9-9f26c7eb1b0b",
   "metadata": {},
   "outputs": [],
   "source": [
    "#Import EIA Data\n",
    "#Import ResStock annual data\n",
    "#Import End Use Data\n",
    "#Import ResStock timeseries"
   ]
  },
  {
   "cell_type": "code",
   "execution_count": 4,
   "id": "b15bd74b-65b8-4df8-b85d-157ca62acec6",
   "metadata": {},
   "outputs": [],
   "source": [
    "# Comparison 1: Annual Electricity and Gas"
   ]
  },
  {
   "cell_type": "code",
   "execution_count": null,
   "id": "09a3497f-4ca5-4ca4-be7e-e3f5235e9222",
   "metadata": {},
   "outputs": [],
   "source": [
    "# any data adjustment for apples to apples comparison"
   ]
  },
  {
   "cell_type": "code",
   "execution_count": 6,
   "id": "34a9304b-3dec-481d-ba04-ec0490b7bd17",
   "metadata": {},
   "outputs": [],
   "source": [
    "# EIA Monthly Electricity vs Hawaii State"
   ]
  },
  {
   "cell_type": "code",
   "execution_count": null,
   "id": "f1a17397-2512-42a2-85cd-18a1fe944f04",
   "metadata": {},
   "outputs": [],
   "source": [
    "# EIA Monthly Electricity vs each of 4 county aggregations"
   ]
  },
  {
   "cell_type": "code",
   "execution_count": 7,
   "id": "0a07c60c-99bf-47e1-b2f3-1bae11555e46",
   "metadata": {},
   "outputs": [],
   "source": [
    "# EIA Monthly Gas vs Hawaii State"
   ]
  },
  {
   "cell_type": "code",
   "execution_count": null,
   "id": "b0cbb69c-5ea7-4ff5-b4cc-ea08238932a2",
   "metadata": {},
   "outputs": [],
   "source": [
    "# Summary error statistics"
   ]
  },
  {
   "cell_type": "code",
   "execution_count": 5,
   "id": "2c764d9b-75c5-4f6e-93c4-730259821e6c",
   "metadata": {},
   "outputs": [],
   "source": [
    "# Comparison 2: End Use"
   ]
  },
  {
   "cell_type": "code",
   "execution_count": null,
   "id": "2573162f-de40-4480-a527-251277f72046",
   "metadata": {},
   "outputs": [],
   "source": [
    "# any data adjustment for apples to apples comparison"
   ]
  },
  {
   "cell_type": "code",
   "execution_count": 8,
   "id": "d9188c6e-3856-41ee-8b50-e3195f2997e7",
   "metadata": {},
   "outputs": [],
   "source": [
    "# EndUse Study annual vs Hawaii State"
   ]
  },
  {
   "cell_type": "code",
   "execution_count": 9,
   "id": "b250d4e4-4a80-4a69-a632-8d82f3c8ee9a",
   "metadata": {},
   "outputs": [],
   "source": [
    "# EndUse Study annual vs 4 county aggregations"
   ]
  },
  {
   "cell_type": "code",
   "execution_count": null,
   "id": "6867e848-9069-412c-b53a-2aa57542ef13",
   "metadata": {},
   "outputs": [],
   "source": [
    "# Summary error statistics"
   ]
  },
  {
   "cell_type": "code",
   "execution_count": null,
   "id": "14ff9f2f-1c4c-4b38-8f0a-a55b3e62557b",
   "metadata": {},
   "outputs": [],
   "source": [
    "# Comparsion 3: Load Shape\n"
   ]
  },
  {
   "cell_type": "code",
   "execution_count": null,
   "id": "4c1abf41-0bd6-4fef-8ad7-d7e7bc175425",
   "metadata": {},
   "outputs": [],
   "source": [
    "# Hawaii seasonal load shapes (electricity only) - state and each county"
   ]
  }
 ],
 "metadata": {
  "kernelspec": {
   "display_name": "Python 3 (ipykernel)",
   "language": "python",
   "name": "python3"
  },
  "language_info": {
   "codemirror_mode": {
    "name": "ipython",
    "version": 3
   },
   "file_extension": ".py",
   "mimetype": "text/x-python",
   "name": "python",
   "nbconvert_exporter": "python",
   "pygments_lexer": "ipython3",
   "version": "3.11.7"
  }
 },
 "nbformat": 4,
 "nbformat_minor": 5
}
