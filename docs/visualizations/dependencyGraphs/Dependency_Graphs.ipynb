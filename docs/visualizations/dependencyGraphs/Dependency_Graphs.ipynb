{
 "cells": [
  {
   "cell_type": "markdown",
   "metadata": {},
   "source": [
    "# Identifying the level of each housing characteristic\n",
    "\n",
    "This notebook visualizes the ResStock project as a hierarchical graph with the nodes being the housing characteristics the dependencies as directed edges.  The housing characteristics at the top of the graph are high level characteristics that have little dependencies, where housing characteristics at the bottom of the graph have many dependencies or depend on characteristics that have many dependencies.\n",
    "\n",
    "## Python Version"
   ]
  },
  {
   "cell_type": "code",
   "execution_count": 1,
   "metadata": {},
   "outputs": [
    {
     "name": "stdout",
     "output_type": "stream",
     "text": [
      "3.10.0 (default, Mar  3 2022, 03:57:21) [Clang 12.0.0 ]\n"
     ]
    }
   ],
   "source": [
    "import sys\n",
    "print(sys.version)"
   ]
  },
  {
   "cell_type": "markdown",
   "metadata": {},
   "source": [
    "## Import Modules"
   ]
  },
  {
   "cell_type": "code",
   "execution_count": 169,
   "metadata": {},
   "outputs": [],
   "source": [
    "import os\n",
    "import numpy as np\n",
    "import pandas as pd\n",
    "from matplotlib import pyplot as plt\n",
    "from glob import glob\n",
    "from os.path import isfile, join\n",
    "import networkx as nx\n",
    "from networkx.drawing.nx_agraph import graphviz_layout\n",
    "\n",
    "import eulpuq.bayesian_update.children as ch"
   ]
  },
  {
   "cell_type": "markdown",
   "metadata": {},
   "source": [
    "## Functions"
   ]
  },
  {
   "cell_type": "code",
   "execution_count": 144,
   "metadata": {},
   "outputs": [],
   "source": [
    "def load_adj_graph(path_adj):\n",
    "    \"\"\"\n",
    "    This function loads the adjacency matrix in as a data frame and then converts\n",
    "    it to a graph.\n",
    "    \"\"\"\n",
    "    adj_df = pd.read_csv(path_adj,index_col=0)\n",
    "\n",
    "    # Create Graph\n",
    "    G = nx.from_pandas_adjacency(adj_df,nx.DiGraph())\n",
    "\n",
    "    # Reset index for convienience\n",
    "    adj_df.reset_index(inplace=True,drop=True)\n",
    "    \n",
    "    return adj_df,G\n",
    "\n",
    "def get_level_df(adj_df,nlevels,n_nodes):\n",
    "    \"\"\"\n",
    "    This function returns the level of each housing characteristic(0 is no dependencies)\n",
    "    \"\"\"\n",
    "    # Initialize node level values\n",
    "    level = np.zeros_like(adj_df.iloc[:,0])\n",
    "\n",
    "    # Iterate over nodes up to the longest path length\n",
    "    for j in range(int(nlevels)):\n",
    "        # For each housing characteristic node\n",
    "        for i in range(n_nodes):\n",
    "            # Get the index of the dependencies\n",
    "            column_name = adj_df.columns[i]\n",
    "            dependencies = np.where(adj_df[column_name] == 1)[0]\n",
    "\n",
    "            #If there are dependencies\n",
    "            if len(dependencies) > 0:\n",
    "                # Get the level of the dependencies\n",
    "                dependency_levels = level[dependencies]\n",
    "\n",
    "                # Identify the maximum level of the dependencies\n",
    "                max_level = np.max(dependency_levels)\n",
    "\n",
    "                # This node's level must be one greater than the max level\n",
    "                level[i] = max_level + 1\n",
    "\n",
    "\n",
    "    # Print housing characteristics grouped by levels\n",
    "    hc_level_names = list()\n",
    "    levels = list()\n",
    "    for i in range(int(nlevels)):\n",
    "        idx = np.where(level == i)[0]\n",
    "        for j in range(len(idx)):\n",
    "            hc_level_names.append(node_names[idx[j]])\n",
    "            levels.append(i)\n",
    "    \n",
    "    # Create Data Frame\n",
    "    hc_level_df = pd.DataFrame(columns=['housing_characteristic','level'])\n",
    "    hc_level_df['housing_characteristic'] = hc_level_names\n",
    "    hc_level_df['level'] = levels\n",
    "    \n",
    "    return hc_level_df, level\n",
    "\n",
    "def isolate_levels(G,level,node_names):\n",
    "    \"\"\"\n",
    "    This function gets edges that do not jump different levels.\n",
    "    \"\"\"\n",
    "    jump_edges = list()\n",
    "    edges_new = list()\n",
    "    for edge in G.edges:\n",
    "        idx_in = np.where(edge[0] == node_names)[0][0]\n",
    "        idx_out = np.where(edge[1] == node_names)[0][0]\n",
    "\n",
    "        jump = int(np.fabs(level[idx_in] - level[idx_out]))\n",
    "        if jump > 1:\n",
    "            jump_edges.append(edge)\n",
    "        else:\n",
    "            edges_new.append(edge)\n",
    "\n",
    "    return edges_new\n"
   ]
  },
  {
   "cell_type": "markdown",
   "metadata": {},
   "source": [
    "## Calculate adjacency_matrix"
   ]
  },
  {
   "cell_type": "code",
   "execution_count": 175,
   "metadata": {},
   "outputs": [
    {
     "name": "stdout",
     "output_type": "stream",
     "text": [
      "Saved adj_df for /Users/lliu2/Documents/GitHub/EULP-uncertainty-quantification/eulpuq to:\n",
      "  /Users/lliu2/Documents/GitHub/EULP-uncertainty-quantification/eulpuq/util/dependency_wheel/adjacency_matrix.csv\n"
     ]
    }
   ],
   "source": [
    "override_existing_adj_df = True # <-----\n",
    "\n",
    "# Get all project directories\n",
    "# project_dirs = glob(join('..','..','..','project_*'))\n",
    "project_dirs = [\"/Users/lliu2/Documents/GitHub/EULP-uncertainty-quantification/eulpuq\"]\n",
    "\n",
    "for project_dir in project_dirs:\n",
    "    outdir = join(project_dir, 'util', 'dependency_wheel')\n",
    "    os.makedirs(outdir, exist_ok=True)\n",
    "    \n",
    "    path_HCs = join(project_dir, \"housing_characteristics\")\n",
    "    level_dct, adj_df = ch.level_calc(path_HCs)\n",
    "    \n",
    "    if override_existing_adj_df:\n",
    "        outfile = join(outdir, \"adjacency_matrix.csv\")\n",
    "        adj_df.to_csv(outfile, index=True)\n",
    "        print(f\"Saved adj_df for {project_dir} to:\\n  {outfile}\")"
   ]
  },
  {
   "cell_type": "markdown",
   "metadata": {},
   "source": [
    "## Load data and plot"
   ]
  },
  {
   "cell_type": "code",
   "execution_count": 176,
   "metadata": {
    "scrolled": false
   },
   "outputs": [
    {
     "name": "stdout",
     "output_type": "stream",
     "text": [
      "Creating a dependency graphs for project:\n",
      "----------------------------------------\n",
      "/Users/lliu2/Documents/GitHub/EULP-uncertainty-quantification/eulpuq\n",
      "DiGraph with 127 nodes and 219 edges\n",
      "Longest path length:\t 12\n",
      "Maximum level:\t 12\n"
     ]
    },
    {
     "name": "stderr",
     "output_type": "stream",
     "text": [
      "/var/folders/zw/lhnn73fj2250g9z11h_whq1szkf2pm/T/ipykernel_24827/2168468520.py:24: DeprecationWarning: info is deprecated and will be removed in version 3.0.\n",
      "\n",
      "  print(nx.info(G))\n"
     ]
    },
    {
     "name": "stdout",
     "output_type": "stream",
     "text": [
      "  >> Dependency graphs created, check graphs at /Users/lliu2/Documents/GitHub/EULP-uncertainty-quantification/eulpuq/util/dependency_graphs\n",
      "\n"
     ]
    }
   ],
   "source": [
    "# for colors: https://graphviz.org/doc/info/colors.html\n",
    "color_cycle = [\"gainsboro\", \"darkslategray1\", \"yellow\", \"lightpink\", \"yellowgreen\", \"tan1\", \"plum\",\n",
    "               \"antiquewhite1\", \"lightskyblue2\", \"gold\", \"thistle1\", \"palegreen1\", \"darksalmon\", \"mediumpurple1\"]\n",
    "\n",
    "print('Creating a dependency graphs for project:')\n",
    "print('----------------------------------------')\n",
    "for project_dir in project_dirs:\n",
    "\n",
    "    # Create path for adjacency matrix\n",
    "    path_adj = join(project_dir,'util/dependency_wheel/adjacency_matrix.csv')\n",
    "\n",
    "    # Load adjacency matric and construct graph\n",
    "    try:\n",
    "        # Load adjacency matrix and graph\n",
    "        adj_df, G = load_adj_graph(path_adj)\n",
    "\n",
    "        # Get information about the graph\n",
    "        print(project_dir)\n",
    "        n_nodes = len(G.nodes)\n",
    "        n_edges = len(G.edges)\n",
    "        node_names = adj_df.columns.values\n",
    "        longest_path_len = nx.dag_longest_path_length(G) # max level != num of levels\n",
    "        edges_org = G.edges\n",
    "        print(nx.info(G))\n",
    "        print('Longest path length:\\t %d' % longest_path_len)\n",
    "        \n",
    "        # Get levels\n",
    "        nlevels = int(longest_path_len+1)\n",
    "        hc_level_df, level = get_level_df(adj_df, nlevels, n_nodes)\n",
    "        print('Maximum level:\\t %d' % hc_level_df['level'].max() )\n",
    "        assert nlevels == hc_level_df[\"level\"].nunique()\n",
    "        \n",
    "        # Save the levels data frame\n",
    "        ## Make directory if it doesn't exist\n",
    "        outdir = join(project_dir,'util','dependency_graphs')\n",
    "        os.makedirs(outdir, exist_ok=True)\n",
    "\n",
    "        ## Save data frame\n",
    "        hc_level_df.to_csv(join(outdir,'hc_levels.csv'),index=False)\n",
    "        \n",
    "        edges_new = isolate_levels(G,level,node_names)\n",
    "        \n",
    "        # Create Plots\n",
    "        G_new = nx.DiGraph()\n",
    "        G_new.add_nodes_from(node_names)\n",
    "        G_new.add_edges_from(edges_new)\n",
    "\n",
    "        scale_x = 1.0\n",
    "        scale_y = 1.0\n",
    "        pos = {}\n",
    "        for i in range(int(longest_path_len)+1):\n",
    "            idx = np.where(level == i)[0][::-1]\n",
    "            n_level = len(idx)\n",
    "\n",
    "            j = 1\n",
    "            for idx_i in idx:\n",
    "                y = n_level*scale_y*(float(j)/float(n_level)) - n_level/2.0\n",
    "                x = i*scale_x\n",
    "                pos[node_names[idx_i]] = (x,y)\n",
    "                j += 1\n",
    "        \n",
    "        # make color dict\n",
    "        level_dct = hc_level_df.set_index(\"housing_characteristic\")[\"level\"]\n",
    "        colors = np.tile(color_cycle, nlevels//len(color_cycle)+1)[:nlevels]\n",
    "        level_color_dct = dict(zip(range(nlevels), colors))\n",
    "        \n",
    "        ### [1] dependency graph full\n",
    "        out_file = join(outdir,'Network_Dependency_Graph_Full.pdf')\n",
    "        nx.nx_agraph.write_dot(G, \"test.dot\")\n",
    "        fig, ax = plt.subplots(figsize=(15,15))\n",
    "        pos = graphviz_layout(G, prog='dot') #nx.shell_layout(G) #nx.spring_layout(G)\n",
    "        nx.draw(G, ax=ax, pos=pos, with_labels=True,\n",
    "                font_size=5, node_size=300, node_color=\"green\", alpha=0.8, edge_color=\"gray\",)\n",
    "        fig.savefig(out_file)\n",
    "        plt.close()\n",
    "        \n",
    "        out_file = join(outdir,'Dependency_Graph_Full.pdf')\n",
    "        A = nx.nx_agraph.to_agraph(G)\n",
    "        A.node_attr['style'] = 'filled'\n",
    "        A.node_attr['shape'] = 'box'\n",
    "        A.node_attr['fontsize'] = 8\n",
    "        A.node_attr['height'] = 0.5\n",
    "        A.node_attr['margin'] = 0.1\n",
    "        A.edge_attr['color'] = 'darkgray'\n",
    "        \n",
    "        # color labels by level\n",
    "        for node in A.nodes():\n",
    "            n = A.get_node(node)\n",
    "            level = level_dct[node]\n",
    "            n.attr['fillcolor'] = level_color_dct[level]\n",
    "            \n",
    "        A.draw(out_file, prog=\"dot\")\n",
    "        \n",
    "        ### [2] dependency graph levels\n",
    "        out_file = join(outdir,'Network_Dependency_Graph_Levels.pdf')\n",
    "        nx.nx_agraph.write_dot(G_new,\"test.dot\")\n",
    "        fig, ax = plt.subplots(figsize=(15,15))\n",
    "        pos = graphviz_layout(G_new, prog='dot') #nx.shell_layout(G_new) #nx.spring_layout(G_new)\n",
    "        nx.draw(G_new, ax=ax, pos=pos, with_labels=True, \n",
    "                font_size=5, node_size=300, node_color=\"green\", alpha=0.8, edge_color=\"gray\",)\n",
    "        fig.savefig(out_file)\n",
    "        plt.close()\n",
    "        \n",
    "        out_file = join(outdir,'Dependency_Graph_Levels.pdf')\n",
    "        A = nx.nx_agraph.to_agraph(G_new)\n",
    "        A.node_attr['style'] = 'filled'\n",
    "        A.node_attr['shape'] = 'box'\n",
    "        A.node_attr['fontsize'] = 8\n",
    "        A.node_attr['height'] = 0.5\n",
    "        A.node_attr['margin'] = 0.1\n",
    "        A.edge_attr['color'] = 'darkgray'\n",
    "        \n",
    "        # color labels by level\n",
    "        for node in A.nodes():\n",
    "            n = A.get_node(node)\n",
    "            level = level_dct[node]\n",
    "            n.attr['fillcolor'] = level_color_dct[level]\n",
    "            \n",
    "        A.draw(out_file, prog=\"dot\")\n",
    "        \n",
    "        print(f\"  >> Dependency graphs created, check graphs at {outdir}\\n\")\n",
    "    except IOError:\n",
    "        pass\n",
    "        "
   ]
  },
  {
   "cell_type": "code",
   "execution_count": null,
   "metadata": {},
   "outputs": [],
   "source": []
  }
 ],
 "metadata": {
  "kernelspec": {
   "display_name": "Python 3 (ipykernel)",
   "language": "python",
   "name": "python3"
  },
  "language_info": {
   "codemirror_mode": {
    "name": "ipython",
    "version": 3
   },
   "file_extension": ".py",
   "mimetype": "text/x-python",
   "name": "python",
   "nbconvert_exporter": "python",
   "pygments_lexer": "ipython3",
   "version": "3.10.0"
  }
 },
 "nbformat": 4,
 "nbformat_minor": 2
}
