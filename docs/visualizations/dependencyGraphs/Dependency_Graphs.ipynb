{
 "cells": [
  {
   "cell_type": "markdown",
   "metadata": {},
   "source": [
    "# Identifying the level of each housing characteristic\n",
    "\n",
    "This notebook uses the UQ conda env. It visualizes the ResStock project as a hierarchical graph with the nodes being the housing characteristics the dependencies as directed edges.  The housing characteristics at the top of the graph are high level characteristics that have little dependencies, where housing characteristics at the bottom of the graph have many dependencies or depend on characteristics that have many dependencies.\n",
    "\n",
    "## Python Version"
   ]
  },
  {
   "cell_type": "code",
   "execution_count": null,
   "metadata": {},
   "outputs": [],
   "source": [
    "import sys\n",
    "print(sys.version)"
   ]
  },
  {
   "cell_type": "markdown",
   "metadata": {},
   "source": [
    "## Import Modules"
   ]
  },
  {
   "cell_type": "code",
   "execution_count": null,
   "metadata": {},
   "outputs": [],
   "source": [
    "from pathlib import Path\n",
    "import numpy as np\n",
    "import pandas as pd\n",
    "from matplotlib import pyplot as plt\n",
    "import networkx as nx\n",
    "from networkx.drawing.nx_agraph import graphviz_layout\n",
    "\n",
    "import eulpuq.bayesian_update.children as ch"
   ]
  },
  {
   "cell_type": "markdown",
   "metadata": {},
   "source": [
    "## Functions"
   ]
  },
  {
   "cell_type": "code",
   "execution_count": null,
   "metadata": {},
   "outputs": [],
   "source": [
    "def load_adj_graph(path_adj):\n",
    "    \"\"\"\n",
    "    This function loads the adjacency matrix in as a data frame and then converts\n",
    "    it to a graph.\n",
    "    \"\"\"\n",
    "    adj_df = pd.read_csv(path_adj,index_col=0)\n",
    "\n",
    "    # Create Graph\n",
    "    G = nx.from_pandas_adjacency(adj_df,nx.DiGraph())\n",
    "\n",
    "    # Reset index for convienience\n",
    "    adj_df.reset_index(inplace=True,drop=True)\n",
    "    \n",
    "    return adj_df, G\n",
    "\n",
    "\n",
    "def get_level_df(graph):\n",
    "    hc_levels = {node: 0 for node in nx.topological_sort(graph)}\n",
    "\n",
    "    # get level based on lowest ancestor\n",
    "    for node in hc_levels:\n",
    "        ancestors = nx.ancestors(graph, node)\n",
    "        if ancestors:\n",
    "            hc_levels[node] = max(hc_levels[anc] for anc in ancestors) + 1\n",
    "\n",
    "    # save a copy\n",
    "    hc_level_df = pd.DataFrame(\n",
    "        hc_levels.items(), columns=[\"housing_characteristic\", \"level\"]\n",
    "    )\n",
    "    \n",
    "    return hc_level_df\n",
    "\n",
    "\n",
    "def isolate_levels(G, hc_level_df):\n",
    "    level_dct = hc_level_df.set_index(\"housing_characteristic\")[\"level\"]\n",
    "    \n",
    "    edges_new = []\n",
    "    for edge in G.edges:\n",
    "        if np.abs(level_dct[edge[0]]-level_dct[edge[1]]) == 1:\n",
    "            edges_new.append(edge)\n",
    "    \n",
    "    return edges_new\n"
   ]
  },
  {
   "cell_type": "markdown",
   "metadata": {},
   "source": [
    "## Calculate adjacency_matrix"
   ]
  },
  {
   "cell_type": "code",
   "execution_count": null,
   "metadata": {},
   "outputs": [],
   "source": [
    "override_existing_adj_df = True # <-----\n",
    "\n",
    "# Get all project directories\n",
    "project_dirs = list(\n",
    "    Path(\".\").resolve().parent.parent.parent.glob(\"project_*\")\n",
    ")\n",
    "\n",
    "for project_dir in project_dirs:\n",
    "    outdir = project_dir / 'util' / 'dependency_wheel'\n",
    "    outdir.mkdir(parents=True, exist_ok=True)\n",
    "    \n",
    "    path_HCs = str(project_dir / \"housing_characteristics\")\n",
    "    level_dct, adj_df = ch.level_calc(path_HCs)\n",
    "    \n",
    "    if override_existing_adj_df:\n",
    "        outfile = outdir / \"adjacency_matrix.csv\"\n",
    "        adj_df.to_csv(outfile, index=True)\n",
    "        \n",
    "        print(f\"Saved adj_df for {project_dir} to:\\n  {outfile}\")"
   ]
  },
  {
   "cell_type": "markdown",
   "metadata": {},
   "source": [
    "## Load data and plot"
   ]
  },
  {
   "cell_type": "code",
   "execution_count": null,
   "metadata": {
    "scrolled": true
   },
   "outputs": [],
   "source": [
    "# for colors: https://graphviz.org/doc/info/colors.html\n",
    "color_cycle = [\"gainsboro\", \"darkslategray1\", \"yellow\", \"lightpink\", \"yellowgreen\", \"tan1\", \"plum\",\n",
    "               \"antiquewhite1\", \"lightskyblue2\", \"gold\", \"thistle1\", \"palegreen1\", \"darksalmon\", \"mediumpurple1\"]\n",
    "\n",
    "for project_dir in project_dirs:\n",
    "    \n",
    "    print(f'Creating dependency graphs for {project_dir.name}:')\n",
    "    print('----------------------------------------')\n",
    "    print(project_dir)\n",
    "\n",
    "    # Create path for adjacency matrix\n",
    "    path_adj = project_dir / 'util/dependency_wheel/adjacency_matrix.csv'\n",
    "\n",
    "    # Load adjacency matrix and construct graph\n",
    "    try:\n",
    "        # Load adjacency matrix and graph\n",
    "        adj_df, G = load_adj_graph(path_adj)\n",
    "        hc_level_df= get_level_df(G)\n",
    "\n",
    "        # Get information about the graph\n",
    "        longest_path_len = nx.dag_longest_path_length(G) # max level != num of levels\n",
    "        print(f'DiGraph with {G.number_of_nodes()} nodes and {G.number_of_edges()} edges')\n",
    "        print('Max level: %d' % longest_path_len)\n",
    "        \n",
    "        # check levels\n",
    "        nlevels = int(longest_path_len+1)\n",
    "        assert nlevels == hc_level_df[\"level\"].nunique()\n",
    "        \n",
    "        # Save the levels data frame\n",
    "        ## Make directory if it doesn't exist\n",
    "        outdir = project_dir / 'util'/ 'dependency_graphs'\n",
    "        outdir.mkdir(parents=True, exist_ok=True)\n",
    "        hc_level_df.to_csv(outdir / 'hc_levels.csv',index=False)\n",
    "        \n",
    "        # Create Plots\n",
    "        # make color dict\n",
    "        level_dct = hc_level_df.set_index(\"housing_characteristic\")[\"level\"]\n",
    "        colors = np.tile(color_cycle, nlevels//len(color_cycle)+1)[:nlevels]\n",
    "        level_color_dct = dict(zip(range(nlevels), colors))\n",
    "        \n",
    "        ### [1] dependency graph full\n",
    "        print(\"1. Full dependency graph...\")\n",
    "        out_file = outdir / 'Dependency_Graph_Full.pdf'\n",
    "        A = nx.nx_agraph.to_agraph(G)\n",
    "        A.node_attr['style'] = 'filled'\n",
    "        A.node_attr['shape'] = 'box'\n",
    "        A.node_attr['fontsize'] = 8\n",
    "        A.node_attr['height'] = 0.5\n",
    "        A.node_attr['margin'] = 0.1\n",
    "        A.edge_attr['color'] = 'darkgray'\n",
    "        \n",
    "        # color labels by level\n",
    "        for node in A.nodes():\n",
    "            n = A.get_node(node)\n",
    "            level = level_dct[node]\n",
    "            n.attr['fillcolor'] = level_color_dct[level]\n",
    "            \n",
    "        A.draw(out_file, prog=\"dot\")\n",
    "        \n",
    "        ### [2] dependency graph levels\n",
    "        print(\"2. Level dependency graph...\")\n",
    "        \n",
    "        # create new graph\n",
    "        edges_new = isolate_levels(G, hc_level_df)\n",
    "        G_new = nx.DiGraph()\n",
    "        G_new.add_nodes_from(list(G.nodes))\n",
    "        G_new.add_edges_from(edges_new)\n",
    "        \n",
    "        out_file = outdir / 'Dependency_Graph_Levels.pdf'\n",
    "        A = nx.nx_agraph.to_agraph(G_new)\n",
    "        A.node_attr['style'] = 'filled'\n",
    "        A.node_attr['shape'] = 'box'\n",
    "        A.node_attr['fontsize'] = 8\n",
    "        A.node_attr['height'] = 0.5\n",
    "        A.node_attr['margin'] = 0.1\n",
    "        A.edge_attr['color'] = 'darkgray'\n",
    "        \n",
    "        # color labels by level\n",
    "        for node in A.nodes():\n",
    "            n = A.get_node(node)\n",
    "            level = level_dct[node]\n",
    "            n.attr['fillcolor'] = level_color_dct[level]\n",
    "            \n",
    "        A.draw(out_file, prog=\"dot\")\n",
    "        \n",
    "        print(f\">> Dependency graphs created {project_dir.name}, check graphs at: {outdir}\\n\")\n",
    "    except IOError:\n",
    "        pass\n",
    "        "
   ]
  },
  {
   "cell_type": "code",
   "execution_count": null,
   "metadata": {},
   "outputs": [],
   "source": []
  }
 ],
 "metadata": {
  "kernelspec": {
   "display_name": "Python 3 (ipykernel)",
   "language": "python",
   "name": "python3"
  },
  "language_info": {
   "codemirror_mode": {
    "name": "ipython",
    "version": 3
   },
   "file_extension": ".py",
   "mimetype": "text/x-python",
   "name": "python",
   "nbconvert_exporter": "python",
   "pygments_lexer": "ipython3",
   "version": "3.10.0"
  }
 },
 "nbformat": 4,
 "nbformat_minor": 2
}
