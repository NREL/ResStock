{
 "cells": [
  {
   "cell_type": "markdown",
   "metadata": {},
   "source": [
    "## Visualization Notebook for LA100 5000K sample run comparison\n",
    "\n",
    "A notebook to create comparison graphics by the City of LA total residential stock.\n",
    "\n",
    "### LA Cohorts\n",
    "\n",
    "Only the total residential stock is also available for visualizations.\n",
    "\n",
    "### Season definitions\n",
    "Seasons in this notebook are used to purely investigate the response of our energy models to weather.\n",
    "\n",
    "- **Winter:** monthly average temperature < 55 F\n",
    "- **Shoulder:** 55 F >= monthly average temperature <= 70 F\n",
    "- **Summer:** monthly average temperature > 70 F\n",
    "\n",
    "## Load Modules"
   ]
  },
  {
   "cell_type": "code",
   "execution_count": null,
   "metadata": {},
   "outputs": [],
   "source": [
    "import os\n",
    "from pathlib import Path\n",
    "import numpy as np\n",
    "import pandas as pd\n",
    "import matplotlib.pyplot as plt\n",
    "\n",
    "from eulpcv.EZVIZ import EZVIZ\n",
    "import eulpcv.resstock_enduse_categories as enduse_categories\n",
    "\n",
    "from make_la100_dataset import AggregateDataLA"
   ]
  },
  {
   "cell_type": "markdown",
   "metadata": {},
   "source": [
    "Note: The available Athena tables in the `la-100` bucket on AWS are as follows:\n",
    "\n",
    "- '2012_old_resstock_mshp_run'\n",
    "- '2012_hpxml_mshp_run'\n"
   ]
  },
  {
   "cell_type": "markdown",
   "metadata": {},
   "source": [
    "## 1. Set path"
   ]
  },
  {
   "cell_type": "code",
   "execution_count": null,
   "metadata": {},
   "outputs": [],
   "source": [
    "### set file path\n",
    "lrd_year = 2012 # <--- 2012, 2016, 2017\n",
    "aggregate_data_file_path = Path(\".\").resolve().parent / \"pre_post_hpxml_comparison\" / \"data\" / \"la100_baseline\" / f\"aggregated_dataset_LRD_{lrd_year}.csv\"\n",
    "\n",
    "print(f\"aggregate_data_file_path exists? : {aggregate_data_file_path.exists()}\")\n",
    "aggregate_data_file_path\n"
   ]
  },
  {
   "cell_type": "code",
   "execution_count": null,
   "metadata": {},
   "outputs": [],
   "source": [
    "figure_output_dir = Path(\".\").resolve().parent / \"pre_post_hpxml_comparison\" / \"data\" / \"la100_baseline\" / \"plots\" / f\"LRD_{lrd_year}\"\n",
    "figure_output_dir.mkdir(parents=True, exist_ok=True)\n",
    "\n",
    "figure_output_dir"
   ]
  },
  {
   "cell_type": "markdown",
   "metadata": {},
   "source": [
    "## 2. Create / load aggregated dataset\n",
    "load dataset directly if *aggregate_data_file_path* exists"
   ]
  },
  {
   "cell_type": "code",
   "execution_count": null,
   "metadata": {},
   "outputs": [],
   "source": [
    "# Read data\n",
    "if aggregate_data_file_path.exists():\n",
    "    aggregated_dataset_raw = pd.read_csv(\n",
    "        aggregate_data_file_path, \n",
    "        parse_dates = ['timestamp']\n",
    "    )\n",
    "\n",
    "else:\n",
    "    AggData = AggregateDataLA()\n",
    "    aggregated_dataset_raw = AggData.get_aggregated_dataset(lrd_year)\n",
    "    \n",
    "print(\"aggregated_dataset_raw loaded\")\n",
    "aggregated_dataset_raw"
   ]
  },
  {
   "cell_type": "code",
   "execution_count": null,
   "metadata": {},
   "outputs": [],
   "source": [
    "# Info about the dataframe\n",
    "print(\"Shape of Aggregate Dataset: \", np.shape(aggregated_dataset_raw))\n",
    "print()\n",
    "\n",
    "print('Columns of the Aggregate Dataset:')\n",
    "for col in aggregated_dataset_raw.columns.values:\n",
    "    print('  %s' % col)\n",
    "\n",
    "print()\n",
    "print('Truth data and simulation results available:')\n",
    "for run in aggregated_dataset_raw['run'].unique():\n",
    "    print('  %s' % run)\n",
    "\n",
    "print()\n",
    "print('Stock sections available for analysis:')\n",
    "for cohort in aggregated_dataset_raw['cohort'].unique():\n",
    "    print('  %s' % cohort)\n"
   ]
  },
  {
   "cell_type": "code",
   "execution_count": null,
   "metadata": {},
   "outputs": [],
   "source": [
    "# Summary about the dataframe\n",
    "summary = aggregated_dataset_raw.groupby(['run','cohort'])[['dwelling_units', 'kwh', 'kwh_per_unit']].mean()\n",
    "summary"
   ]
  },
  {
   "cell_type": "markdown",
   "metadata": {},
   "source": [
    "## 3. Visualize\n",
    "### 3.1. Compare end use plots between Old-ResStock, HPXML, and Old-LA100 results"
   ]
  },
  {
   "cell_type": "code",
   "execution_count": null,
   "metadata": {},
   "outputs": [],
   "source": [
    "metric = \"kwh_per_unit\" # <--- \"kwh\", \"kwh_per_unit\"\n",
    "enduses = [x for x in enduse_categories.abbreviated_enduse_list() if x != \"total\"]"
   ]
  },
  {
   "cell_type": "code",
   "execution_count": null,
   "metadata": {},
   "outputs": [],
   "source": [
    "run = \"2012_old_resstock_mshp_run\"\n",
    "df_plot = aggregated_dataset_raw.loc[\n",
    "    (aggregated_dataset_raw[\"run\"]==run) & \\\n",
    "    (aggregated_dataset_raw[\"enduse_category\"].isin(enduses)) & \\\n",
    "    (aggregated_dataset_raw[\"cohort\"]==\"Total Residential Stock\")\n",
    "].set_index([\"timestamp\", \"enduse_category\"])[metric].unstack()\n",
    "\n",
    "run2 = \"2012_hpxml_mshp_run\"\n",
    "df_plot2 = aggregated_dataset_raw.loc[\n",
    "    (aggregated_dataset_raw[\"run\"]==run2) & \\\n",
    "    (aggregated_dataset_raw[\"enduse_category\"].isin(enduses)) & \\\n",
    "    (aggregated_dataset_raw[\"cohort\"]==\"Total Residential Stock\")\n",
    "].set_index([\"timestamp\", \"enduse_category\"])[metric].unstack()\n",
    "\n",
    "run3 = \"2015_reference_old_la100\"\n",
    "df_plot3 = aggregated_dataset_raw.loc[\n",
    "    (aggregated_dataset_raw[\"run\"]==run3) & \\\n",
    "    (aggregated_dataset_raw[\"enduse_category\"].isin(enduses)) & \\\n",
    "    (aggregated_dataset_raw[\"cohort\"]==\"Total Residential Stock\")\n",
    "].set_index([\"timestamp\", \"enduse_category\"])[metric].unstack()"
   ]
  },
  {
   "cell_type": "code",
   "execution_count": null,
   "metadata": {},
   "outputs": [],
   "source": [
    "### plotting paras\n",
    "\n",
    "# from visualization_notebook\n",
    "seasons = {\n",
    "    \"summer_months\": [5, 6, 7, 8, 9],\n",
    "    \"shoulder_months\": [4, 10, 11],\n",
    "    \"winter_months\": [1, 2, 3, 12],\n",
    "}\n",
    "\n",
    "# from EZVIZ\n",
    "color_list = [\n",
    "                '#F7DF10',  # Interior Lighting\n",
    "                '#DEC310',  # Exterior Lighting\n",
    "                '#4A4D4A',  # Plug Loads\n",
    "                '#29AAE7',  # Refrigerator\n",
    "                '#3cb6f0',  # Extra Refrigerator\n",
    "                '#59caff',  # Freezer\n",
    "                '#51e889',  # Clothes Washer\n",
    "                '#FF79AD',  # Clothes Dryer\n",
    "                '#D3D3D3',  # Dishwasher\n",
    "                '#ff2200',  # Cooking Range\n",
    "                '#632C94',  # Well Pump\n",
    "                '#ff7300',  # Pool/Spa Pump\n",
    "                '#FFB239',  # Hot Water\n",
    "                '#C0C0C0',  # Ceiling Fan\n",
    "                '#FF79AD',  # Vent Fans\n",
    "                '#632C94',  # HVAC Fan/Pump\n",
    "                '#0071BD',  # Cooling\n",
    "                '#EF1C21',  # Heating\n",
    "                '#1adb61',  # Electric Vehicle\n",
    "                '#4748a8'  # PV\n",
    "            ]\n",
    "\n",
    "ymin = min(\n",
    "    df_plot[\"pv\"].min(),\n",
    "    df_plot2[\"pv\"].min(),\n",
    "    df_plot3[\"pv\"].min()\n",
    ")*1.2\n",
    "ymin\n",
    "ymax = max(\n",
    "    df_plot.sum(axis=1).max(),\n",
    "    df_plot2.sum(axis=1).max(),\n",
    "    df_plot3.sum(axis=1).max()\n",
    ")*0.75\n",
    "print(f\"ymin: {ymin}, ymax: {ymax}\")"
   ]
  },
  {
   "cell_type": "code",
   "execution_count": null,
   "metadata": {},
   "outputs": [],
   "source": [
    "fig = plt.figure(figsize=(15, 10))\n",
    "\n",
    "fig_n = 0\n",
    "for season in seasons:\n",
    "    ### [1] ###\n",
    "    fig_n = fig_n + 1\n",
    "    ax = plt.subplot(3, 3, fig_n)\n",
    "    sim_run = \"Old-ResStock\"\n",
    "\n",
    "    df_diurnal = df_plot.loc[df_plot.index.month.isin(seasons[season])]\n",
    "    df_diurnal = df_diurnal.groupby(df_diurnal.index.hour).mean()\n",
    "    missing_enduses = list(set(enduses).difference(set(df_diurnal.columns)))\n",
    "    if missing_enduses:\n",
    "        for eu in missing_enduses:\n",
    "            df_diurnal[eu] = np.nan\n",
    "    df_diurnal[enduses].plot(kind=\"area\", stacked=True, ax=ax, color=color_list, legend=False, ls='None')\n",
    "    ax.set_ylabel(metric)\n",
    "    ax.set_ylim(ymin=ymin, ymax=ymax)\n",
    "    ax.margins(x=0)\n",
    "    ax.set_xticks(np.arange(df_diurnal.index[0], df_diurnal.index[-1], 3))\n",
    "    ax.set_title(f'{sim_run}-{season}')\n",
    "\n",
    "    ### [2] ###\n",
    "    fig_n = fig_n + 1\n",
    "    ax = plt.subplot(3, 3, fig_n)\n",
    "    sim_run2 = \"HPXML\"\n",
    "\n",
    "    df_diurnal2 = df_plot2.loc[df_plot2.index.month.isin(seasons[season])]\n",
    "    df_diurnal2 = df_diurnal2.groupby(df_diurnal2.index.hour).mean()\n",
    "    missing_enduses = list(set(enduses).difference(set(df_diurnal2.columns)))\n",
    "    if missing_enduses:\n",
    "        for eu in missing_enduses:\n",
    "            df_diurnal2[eu] = np.nan\n",
    "            \n",
    "    df_diurnal2[enduses].plot(kind=\"area\", stacked=True, ax=ax, color=color_list, legend=False, ls='None')\n",
    "    ax.set_ylim(ymin=ymin, ymax=ymax)\n",
    "    ax.margins(x=0)\n",
    "    ax.set_xticks(np.arange(df_diurnal2.index[0], df_diurnal2.index[-1], 3))\n",
    "    ax.set_title(f'{sim_run2} - {season}')\n",
    "\n",
    "    ### [3] ###\n",
    "    fig_n = fig_n + 1\n",
    "    ax = plt.subplot(3, 3, fig_n)\n",
    "    sim_run3 = \"2015_reference\"\n",
    "\n",
    "    df_diurnal3 = df_plot3.loc[df_plot3.index.month.isin(seasons[season])]\n",
    "    df_diurnal3 = df_diurnal3.groupby(df_diurnal3.index.hour).mean()\n",
    "    missing_enduses = list(set(enduses).difference(set(df_diurnal3.columns)))\n",
    "    if missing_enduses:\n",
    "        for eu in missing_enduses:\n",
    "            df_diurnal3[eu] = np.nan\n",
    "            \n",
    "    df_diurnal3[enduses].plot(kind=\"area\", stacked=True, ax=ax, color=color_list, legend=False, ls='None')\n",
    "    ax.set_ylim(ymin=ymin, ymax=ymax)\n",
    "    ax.margins(x=0)\n",
    "    ax.set_xticks(np.arange(df_diurnal3.index[0], df_diurnal3.index[-1], 3))\n",
    "    ax.set_title(f'{sim_run3} - {season}')\n",
    "    \n",
    "ax = plt.gca()\n",
    "handles, labels = ax.get_legend_handles_labels()\n",
    "fig.legend(handles[::-1], labels[::-1], loc=\"center left\", bbox_to_anchor=(1, 0.5))\n",
    "fig.tight_layout()\n",
    "\n",
    "figfile = figure_output_dir / \"enduse_comparison_baseline.pdf\"\n",
    "fig.savefig(figfile)\n"
   ]
  },
  {
   "cell_type": "markdown",
   "metadata": {},
   "source": [
    "### 3.2. Plot EULP Visualization plots\n",
    "#### 3.2.1. Initialize EZVIZ Object"
   ]
  },
  {
   "cell_type": "code",
   "execution_count": null,
   "metadata": {},
   "outputs": [],
   "source": [
    "%load_ext autoreload\n",
    "%reload_ext autoreload\n",
    "%autoreload 2\n",
    "\n",
    "# 2018 Definition for the weather file Wilmington NC # <-- fix this\n",
    "ezviz = EZVIZ(\n",
    "    stock = 'resstock',\n",
    "    summer_months = [5, 6, 7, 8, 9],\n",
    "    shoulder_months = [4, 10, 11],\n",
    "    winter_months = [1, 2, 3, 12],\n",
    "    figure_output_dir = str(figure_output_dir),\n",
    ")"
   ]
  },
  {
   "cell_type": "markdown",
   "metadata": {},
   "source": [
    "#### 3.2.2. Select data"
   ]
  },
  {
   "cell_type": "code",
   "execution_count": null,
   "metadata": {},
   "outputs": [],
   "source": [
    "truth_data_label = [f\"{lrd_year}_LRD\"]\n",
    "buildstock_data_label = [\"2012_old_resstock_mshp_run\", \"2012_hpxml_mshp_run\", \"2015_reference_old_la100\"]"
   ]
  },
  {
   "cell_type": "markdown",
   "metadata": {},
   "source": [
    "#### auto-set plotting types"
   ]
  },
  {
   "cell_type": "code",
   "execution_count": null,
   "metadata": {},
   "outputs": [],
   "source": [
    "if lrd_year == 2012:\n",
    "    plots = \"all\"\n",
    "elif lrd_year % 4 != 0:\n",
    "    # not leap year\n",
    "    plots = [\n",
    "        \"day_type_comparison\",\n",
    "        \"day_type_comparison_stacked_by_enduse\",\n",
    "        \"top_10_days_day_type_comparison\",\n",
    "]\n",
    "else:\n",
    "    plots = [\n",
    "        \"plot_load_duration_curve\",\n",
    "        \"plot_load_duration_curve_top_100_hrs\",\n",
    "        \"plot_annual_total_bar_chart\",\n",
    "        \"day_type_comparison\",\n",
    "        \"day_type_comparison_stacked_by_enduse\",\n",
    "        \"bar_chart_of_annual_hourly_electricity_error\",\n",
    "        \"top_10_days_day_type_comparison\",\n",
    "]"
   ]
  },
  {
   "cell_type": "code",
   "execution_count": null,
   "metadata": {
    "scrolled": false
   },
   "outputs": [],
   "source": [
    "# Downselect to customer class\n",
    "cohort = 'Total Residential Stock'\n",
    "data_filter = aggregated_dataset_raw['cohort'] == cohort\n",
    "aggregated_dataset = aggregated_dataset_raw.loc[data_filter]\n",
    "\n",
    "# Generate calibration graphics\n",
    "ezviz.generate_plots_for_cohort(\n",
    "    aggregated_dataset = aggregated_dataset.set_index(['timestamp']),\n",
    "    buildstock_data_label = buildstock_data_label,\n",
    "    truth_data_label = truth_data_label,\n",
    "    cohort = cohort,\n",
    "    enduse_list = enduse_categories.abbreviated_enduse_list(),\n",
    "    energy_column = 'kwh',\n",
    "    plots = plots,\n",
    ")"
   ]
  },
  {
   "cell_type": "markdown",
   "metadata": {},
   "source": [
    "### export to HTML\n",
    "This can take a while"
   ]
  },
  {
   "cell_type": "code",
   "execution_count": null,
   "metadata": {},
   "outputs": [],
   "source": [
    "this_file = Path(\".\").resolve() / \"ResStock_LA_visualization_notebook.ipynb\"\n",
    "cmd = f\"jupyter nbconvert --execute --to html {str(this_file)}\"\n",
    "os.system(cmd)"
   ]
  }
 ],
 "metadata": {
  "kernelspec": {
   "display_name": "EULP-calibration-and-validation",
   "language": "python",
   "name": "eulp-calibration-and-validation"
  },
  "language_info": {
   "codemirror_mode": {
    "name": "ipython",
    "version": 3
   },
   "file_extension": ".py",
   "mimetype": "text/x-python",
   "name": "python",
   "nbconvert_exporter": "python",
   "pygments_lexer": "ipython3",
   "version": "3.8.5"
  }
 },
 "nbformat": 4,
 "nbformat_minor": 2
}
