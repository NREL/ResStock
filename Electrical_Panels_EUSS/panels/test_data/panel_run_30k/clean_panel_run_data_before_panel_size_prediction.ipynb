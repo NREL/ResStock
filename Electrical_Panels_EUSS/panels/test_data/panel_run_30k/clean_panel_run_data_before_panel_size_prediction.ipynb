{
 "cells": [
  {
   "cell_type": "code",
   "execution_count": 1,
   "id": "e5660e33-1914-463e-83c4-0c6c6c0c2999",
   "metadata": {},
   "outputs": [],
   "source": [
    "import pandas as pd\n",
    "import numpy as np"
   ]
  },
  {
   "cell_type": "code",
   "execution_count": 22,
   "id": "d056ccf6",
   "metadata": {},
   "outputs": [
    {
     "ename": "KeyError",
     "evalue": "'build_existing_model.hvac_cooling_type'",
     "output_type": "error",
     "traceback": [
      "\u001b[1;31m---------------------------------------------------------------------------\u001b[0m",
      "\u001b[1;31mKeyError\u001b[0m                                  Traceback (most recent call last)",
      "File \u001b[1;32m~\\AppData\\Roaming\\Python\\Python311\\site-packages\\pandas\\core\\indexes\\base.py:3653\u001b[0m, in \u001b[0;36mIndex.get_loc\u001b[1;34m(self, key)\u001b[0m\n\u001b[0;32m   3652\u001b[0m \u001b[38;5;28;01mtry\u001b[39;00m:\n\u001b[1;32m-> 3653\u001b[0m     \u001b[38;5;28;01mreturn\u001b[39;00m \u001b[38;5;28;43mself\u001b[39;49m\u001b[38;5;241;43m.\u001b[39;49m\u001b[43m_engine\u001b[49m\u001b[38;5;241;43m.\u001b[39;49m\u001b[43mget_loc\u001b[49m\u001b[43m(\u001b[49m\u001b[43mcasted_key\u001b[49m\u001b[43m)\u001b[49m\n\u001b[0;32m   3654\u001b[0m \u001b[38;5;28;01mexcept\u001b[39;00m \u001b[38;5;167;01mKeyError\u001b[39;00m \u001b[38;5;28;01mas\u001b[39;00m err:\n",
      "File \u001b[1;32m~\\AppData\\Roaming\\Python\\Python311\\site-packages\\pandas\\_libs\\index.pyx:147\u001b[0m, in \u001b[0;36mpandas._libs.index.IndexEngine.get_loc\u001b[1;34m()\u001b[0m\n",
      "File \u001b[1;32m~\\AppData\\Roaming\\Python\\Python311\\site-packages\\pandas\\_libs\\index.pyx:176\u001b[0m, in \u001b[0;36mpandas._libs.index.IndexEngine.get_loc\u001b[1;34m()\u001b[0m\n",
      "File \u001b[1;32mpandas\\_libs\\hashtable_class_helper.pxi:7080\u001b[0m, in \u001b[0;36mpandas._libs.hashtable.PyObjectHashTable.get_item\u001b[1;34m()\u001b[0m\n",
      "File \u001b[1;32mpandas\\_libs\\hashtable_class_helper.pxi:7088\u001b[0m, in \u001b[0;36mpandas._libs.hashtable.PyObjectHashTable.get_item\u001b[1;34m()\u001b[0m\n",
      "\u001b[1;31mKeyError\u001b[0m: 'build_existing_model.hvac_cooling_type'",
      "\nThe above exception was the direct cause of the following exception:\n",
      "\u001b[1;31mKeyError\u001b[0m                                  Traceback (most recent call last)",
      "Cell \u001b[1;32mIn[22], line 4\u001b[0m\n\u001b[0;32m      2\u001b[0m df \u001b[38;5;241m=\u001b[39m pd\u001b[38;5;241m.\u001b[39mread_parquet(\u001b[38;5;124mf\u001b[39m\u001b[38;5;124m'\u001b[39m\u001b[38;5;124mresults_\u001b[39m\u001b[38;5;132;01m{\u001b[39;00mup\u001b[38;5;132;01m}\u001b[39;00m\u001b[38;5;124m.parquet\u001b[39m\u001b[38;5;124m'\u001b[39m)\n\u001b[0;32m      3\u001b[0m df \u001b[38;5;241m=\u001b[39m df\u001b[38;5;241m.\u001b[39mloc[df[\u001b[38;5;124m'\u001b[39m\u001b[38;5;124mcompleted_status\u001b[39m\u001b[38;5;124m'\u001b[39m] \u001b[38;5;241m==\u001b[39m \u001b[38;5;124m'\u001b[39m\u001b[38;5;124mSuccess\u001b[39m\u001b[38;5;124m'\u001b[39m]\n\u001b[1;32m----> 4\u001b[0m df\u001b[38;5;241m.\u001b[39mloc[\u001b[43mdf\u001b[49m\u001b[43m[\u001b[49m\u001b[38;5;124;43m'\u001b[39;49m\u001b[38;5;124;43mbuild_existing_model.hvac_cooling_type\u001b[39;49m\u001b[38;5;124;43m'\u001b[39;49m\u001b[43m]\u001b[49m \u001b[38;5;241m==\u001b[39m \u001b[38;5;124m'\u001b[39m\u001b[38;5;124mDucted Heat Pump\u001b[39m\u001b[38;5;124m'\u001b[39m, \u001b[38;5;124m'\u001b[39m\u001b[38;5;124mbuild_existing_model.hvac_cooling_type\u001b[39m\u001b[38;5;124m'\u001b[39m] \u001b[38;5;241m=\u001b[39m \u001b[38;5;124m\"\u001b[39m\u001b[38;5;124mHeat Pump\u001b[39m\u001b[38;5;124m\"\u001b[39m\n\u001b[0;32m      5\u001b[0m df\u001b[38;5;241m.\u001b[39mloc[df[\u001b[38;5;124m'\u001b[39m\u001b[38;5;124mbuild_existing_model.hvac_cooling_type\u001b[39m\u001b[38;5;124m'\u001b[39m] \u001b[38;5;241m==\u001b[39m \u001b[38;5;124m'\u001b[39m\u001b[38;5;124mNon-Ducted Heat Pump\u001b[39m\u001b[38;5;124m'\u001b[39m, \u001b[38;5;124m'\u001b[39m\u001b[38;5;124mbuild_existing_model.hvac_cooling_type\u001b[39m\u001b[38;5;124m'\u001b[39m] \u001b[38;5;241m=\u001b[39m \u001b[38;5;124m\"\u001b[39m\u001b[38;5;124mHeat Pump\u001b[39m\u001b[38;5;124m\"\u001b[39m\n\u001b[0;32m      6\u001b[0m df\u001b[38;5;241m.\u001b[39mloc[df[\u001b[38;5;124m'\u001b[39m\u001b[38;5;124mbuild_existing_model.cooking_range\u001b[39m\u001b[38;5;124m'\u001b[39m] \u001b[38;5;241m==\u001b[39m \u001b[38;5;124m'\u001b[39m\u001b[38;5;124mElectric Resistance\u001b[39m\u001b[38;5;124m'\u001b[39m, \u001b[38;5;124m'\u001b[39m\u001b[38;5;124mbuild_existing_model.cooking_range\u001b[39m\u001b[38;5;124m'\u001b[39m] \u001b[38;5;241m=\u001b[39m \u001b[38;5;124m\"\u001b[39m\u001b[38;5;124mElectric, 100\u001b[39m\u001b[38;5;124m%\u001b[39m\u001b[38;5;124m Usage\u001b[39m\u001b[38;5;124m\"\u001b[39m\n",
      "File \u001b[1;32m~\\AppData\\Roaming\\Python\\Python311\\site-packages\\pandas\\core\\frame.py:3761\u001b[0m, in \u001b[0;36mDataFrame.__getitem__\u001b[1;34m(self, key)\u001b[0m\n\u001b[0;32m   3759\u001b[0m \u001b[38;5;28;01mif\u001b[39;00m \u001b[38;5;28mself\u001b[39m\u001b[38;5;241m.\u001b[39mcolumns\u001b[38;5;241m.\u001b[39mnlevels \u001b[38;5;241m>\u001b[39m \u001b[38;5;241m1\u001b[39m:\n\u001b[0;32m   3760\u001b[0m     \u001b[38;5;28;01mreturn\u001b[39;00m \u001b[38;5;28mself\u001b[39m\u001b[38;5;241m.\u001b[39m_getitem_multilevel(key)\n\u001b[1;32m-> 3761\u001b[0m indexer \u001b[38;5;241m=\u001b[39m \u001b[38;5;28;43mself\u001b[39;49m\u001b[38;5;241;43m.\u001b[39;49m\u001b[43mcolumns\u001b[49m\u001b[38;5;241;43m.\u001b[39;49m\u001b[43mget_loc\u001b[49m\u001b[43m(\u001b[49m\u001b[43mkey\u001b[49m\u001b[43m)\u001b[49m\n\u001b[0;32m   3762\u001b[0m \u001b[38;5;28;01mif\u001b[39;00m is_integer(indexer):\n\u001b[0;32m   3763\u001b[0m     indexer \u001b[38;5;241m=\u001b[39m [indexer]\n",
      "File \u001b[1;32m~\\AppData\\Roaming\\Python\\Python311\\site-packages\\pandas\\core\\indexes\\base.py:3655\u001b[0m, in \u001b[0;36mIndex.get_loc\u001b[1;34m(self, key)\u001b[0m\n\u001b[0;32m   3653\u001b[0m     \u001b[38;5;28;01mreturn\u001b[39;00m \u001b[38;5;28mself\u001b[39m\u001b[38;5;241m.\u001b[39m_engine\u001b[38;5;241m.\u001b[39mget_loc(casted_key)\n\u001b[0;32m   3654\u001b[0m \u001b[38;5;28;01mexcept\u001b[39;00m \u001b[38;5;167;01mKeyError\u001b[39;00m \u001b[38;5;28;01mas\u001b[39;00m err:\n\u001b[1;32m-> 3655\u001b[0m     \u001b[38;5;28;01mraise\u001b[39;00m \u001b[38;5;167;01mKeyError\u001b[39;00m(key) \u001b[38;5;28;01mfrom\u001b[39;00m \u001b[38;5;21;01merr\u001b[39;00m\n\u001b[0;32m   3656\u001b[0m \u001b[38;5;28;01mexcept\u001b[39;00m \u001b[38;5;167;01mTypeError\u001b[39;00m:\n\u001b[0;32m   3657\u001b[0m     \u001b[38;5;66;03m# If we have a listlike key, _check_indexing_error will raise\u001b[39;00m\n\u001b[0;32m   3658\u001b[0m     \u001b[38;5;66;03m#  InvalidIndexError. Otherwise we fall through and re-raise\u001b[39;00m\n\u001b[0;32m   3659\u001b[0m     \u001b[38;5;66;03m#  the TypeError.\u001b[39;00m\n\u001b[0;32m   3660\u001b[0m     \u001b[38;5;28mself\u001b[39m\u001b[38;5;241m.\u001b[39m_check_indexing_error(key)\n",
      "\u001b[1;31mKeyError\u001b[0m: 'build_existing_model.hvac_cooling_type'"
     ]
    }
   ],
   "source": [
    "up = 'up00' # apply it to up00\n",
    "df = pd.read_parquet(f'results_{up}.parquet')\n",
    "df = df.loc[df['completed_status'] == 'Success']\n",
    "df.loc[df['build_existing_model.hvac_cooling_type'] == 'Ducted Heat Pump', 'build_existing_model.hvac_cooling_type'] = \"Heat Pump\"\n",
    "df.loc[df['build_existing_model.hvac_cooling_type'] == 'Non-Ducted Heat Pump', 'build_existing_model.hvac_cooling_type'] = \"Heat Pump\"\n",
    "df.loc[df['build_existing_model.cooking_range'] == 'Electric Resistance', 'build_existing_model.cooking_range'] = \"Electric, 100% Usage\"\n",
    "df.loc[df['build_existing_model.cooking_range'] == 'Electric Induction', 'build_existing_model.cooking_range'] = \"Electric, 100% Usage\"\n",
    "df.loc[df['build_existing_model.cooking_range'] == 'Gas', 'build_existing_model.cooking_range'] = \"Gas, 100% Usage\"\n",
    "df.loc[df['build_existing_model.cooking_range'] == 'Propane', 'build_existing_model.cooking_range'] = \"Propane, 100% Usage\"\n",
    "df.loc[df['build_existing_model.clothes_dryer'] == 'Electric', 'build_existing_model.clothes_dryer'] = \"Electric, 100% Usage\"\n",
    "df.loc[df['build_existing_model.clothes_dryer'] == 'Gas', 'build_existing_model.clothes_dryer'] = \"Gas, 100% Usage\"\n",
    "df.loc[df['build_existing_model.clothes_dryer'] == 'Propane', 'build_existing_model.clothes_dryer'] = \"Propane, 100% Usage\"\n",
    "df.loc[df['build_existing_model.heating_fuel'] == 'Wood', 'build_existing_model.heating_fuel'] = \"Other Fuel\"\n",
    "df.rename(columns = {'build_existing_model.duct_leakage_and_insulation':'build_existing_model.ducts',\n",
    "                     'build_existing_model.hvac_secondary_heating_type':'build_existing_model.hvac_secondary_heating_type_and_fuel',\n",
    "                     'qoi_report.qoi_hourly_peak_magnitude_use_kw':'qoi_report.qoi_peak_magnitude_use_kw'}, inplace = True) \n",
    "df.to_csv(f'results_{up}.csv', na_rep='None', index=False)"
   ]
  },
  {
   "cell_type": "code",
   "execution_count": 26,
   "id": "305c7a24-84ec-49d1-b60f-44683293004e",
   "metadata": {},
   "outputs": [],
   "source": [
    "up = 'up01' # apply it to up00\n",
    "df = pd.read_parquet(f'results_{up}.parquet')\n",
    "df = df.loc[df['completed_status'] == 'Success']\n",
    "df.rename(columns = {'build_existing_model.duct_leakage_and_insulation':'build_existing_model.ducts',\n",
    "                     'build_existing_model.hvac_secondary_heating_type':'build_existing_model.hvac_secondary_heating_type_and_fuel',\n",
    "                     'qoi_report.qoi_hourly_peak_magnitude_use_kw':'qoi_report.qoi_peak_magnitude_use_kw'}, inplace = True) \n",
    "df.to_csv(f'results_{up}.csv', na_rep='None', index=False)"
   ]
  },
  {
   "cell_type": "code",
   "execution_count": null,
   "id": "2c8a03a8-1caa-4c19-9988-aa43d0af5c78",
   "metadata": {},
   "outputs": [],
   "source": [
    "up = 'up01' # apply it to up01-up10\n",
    "dfu = pd.read_parquet(f'results_{up}.parquet')"
   ]
  },
  {
   "cell_type": "code",
   "execution_count": 17,
   "id": "b8a8b5b9-4fa8-4889-af0b-f21e6bf98264",
   "metadata": {},
   "outputs": [],
   "source": [
    "euss = pd.read_csv('euss1_2018_results_up00_100.csv')"
   ]
  },
  {
   "cell_type": "code",
   "execution_count": 18,
   "id": "9f5a3800",
   "metadata": {},
   "outputs": [
    {
     "data": {
      "text/plain": [
       "array(['10% Leakage, Uninsulated', nan, '20% Leakage, R-6',\n",
       "       '0% Leakage, Uninsulated', '20% Leakage, R-4', '20% Leakage, R-8',\n",
       "       '20% Leakage, Uninsulated', '30% Leakage, R-6', '30% Leakage, R-8',\n",
       "       '30% Leakage, Uninsulated', '10% Leakage, R-6', '30% Leakage, R-4',\n",
       "       '10% Leakage, R-4', '10% Leakage, R-8'], dtype=object)"
      ]
     },
     "execution_count": 18,
     "metadata": {},
     "output_type": "execute_result"
    }
   ],
   "source": [
    "euss['build_existing_model.ducts'].unique()"
   ]
  },
  {
   "cell_type": "code",
   "execution_count": 2,
   "id": "1c28946f",
   "metadata": {},
   "outputs": [],
   "source": [
    "up = 'up00' # apply it to up00\n",
    "df = pd.read_parquet(f'results_{up}.parquet')\n",
    "df = df.loc[df['completed_status'] == 'Success']"
   ]
  },
  {
   "cell_type": "code",
   "execution_count": 11,
   "id": "fca7b14e-6607-41ae-ac6d-3fe8a024d929",
   "metadata": {},
   "outputs": [],
   "source": [
    "test = df.head(10)\n",
    "test.to_csv('test.csv', na_rep='None', index=False)"
   ]
  },
  {
   "cell_type": "code",
   "execution_count": null,
   "id": "f25e178e-dc45-4830-8345-ba2bd22ef231",
   "metadata": {},
   "outputs": [],
   "source": []
  }
 ],
 "metadata": {
  "kernelspec": {
   "display_name": "Python 3 (ipykernel)",
   "language": "python",
   "name": "python3"
  },
  "language_info": {
   "codemirror_mode": {
    "name": "ipython",
    "version": 3
   },
   "file_extension": ".py",
   "mimetype": "text/x-python",
   "name": "python",
   "nbconvert_exporter": "python",
   "pygments_lexer": "ipython3",
   "version": "3.11.8"
  },
  "vscode": {
   "interpreter": {
    "hash": "3a57d1f596c9ff9c21fe2833ccf65af76902e525ab80c4cb66d19dbf82ca6dce"
   }
  }
 },
 "nbformat": 4,
 "nbformat_minor": 5
}
