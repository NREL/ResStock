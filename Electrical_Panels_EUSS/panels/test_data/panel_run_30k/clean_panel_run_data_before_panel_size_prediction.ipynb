{
 "cells": [
  {
   "cell_type": "code",
   "execution_count": 1,
   "id": "e5660e33-1914-463e-83c4-0c6c6c0c2999",
   "metadata": {},
   "outputs": [],
   "source": [
    "import pandas as pd\n",
    "import numpy as np"
   ]
  },
  {
   "cell_type": "code",
   "execution_count": null,
   "id": "d056ccf6",
   "metadata": {},
   "outputs": [],
   "source": [
    "up = 'up00' # apply it to up00\n",
    "df = pd.read_parquet(f'results_{up}.parquet')\n",
    "df = df.loc[df['completed_status'] == 'Success']\n",
    "df.loc[df['build_existing_model.hvac_cooling_type'] == 'Ducted Heat Pump', 'build_existing_model.hvac_cooling_type'] = \"Heat Pump\"\n",
    "df.loc[df['build_existing_model.hvac_cooling_type'] == 'Non-Ducted Heat Pump', 'build_existing_model.hvac_cooling_type'] = \"Heat Pump\"\n",
    "df.loc[df['build_existing_model.cooking_range'] == 'Electric Resistance', 'build_existing_model.cooking_range'] = \"Electric, 100% Usage\"\n",
    "df.loc[df['build_existing_model.cooking_range'] == 'Electric Induction', 'build_existing_model.cooking_range'] = \"Electric, 100% Usage\"\n",
    "df.loc[df['build_existing_model.cooking_range'] == 'Gas', 'build_existing_model.cooking_range'] = \"Gas, 100% Usage\"\n",
    "df.loc[df['build_existing_model.cooking_range'] == 'Propane', 'build_existing_model.cooking_range'] = \"Propane, 100% Usage\"\n",
    "df.loc[df['build_existing_model.clothes_dryer'] == 'Electric', 'build_existing_model.clothes_dryer'] = \"Electric, 100% Usage\"\n",
    "df.loc[df['build_existing_model.clothes_dryer'] == 'Gas', 'build_existing_model.clothes_dryer'] = \"Gas, 100% Usage\"\n",
    "df.loc[df['build_existing_model.clothes_dryer'] == 'Propane', 'build_existing_model.clothes_dryer'] = \"Propane, 100% Usage\"\n",
    "df.loc[df['build_existing_model.heating_fuel'] == 'Wood', 'build_existing_model.heating_fuel'] = \"Other Fuel\"\n",
    "df.rename(columns = {'build_existing_model.duct_leakage_and_insulation':'build_existing_model.ducts',\n",
    "                     'build_existing_model.hvac_secondary_heating_type':'build_existing_model.hvac_secondary_heating_type_and_fuel',\n",
    "                     'qoi_report.qoi_hourly_peak_magnitude_use_kw':'qoi_report.qoi_peak_magnitude_use_kw'}, inplace = True) \n",
    "df.to_csv(f'results_{up}.csv', na_rep='None', index=False)"
   ]
  },
  {
   "cell_type": "code",
   "execution_count": null,
   "id": "305c7a24-84ec-49d1-b60f-44683293004e",
   "metadata": {},
   "outputs": [],
   "source": [
    "up = 'up01' # apply it to up00\n",
    "df = pd.read_parquet(f'results_{up}.parquet')\n",
    "df = df.loc[df['completed_status'] == 'Success']\n",
    "df.rename(columns = {'build_existing_model.duct_leakage_and_insulation':'build_existing_model.ducts',\n",
    "                     'build_existing_model.hvac_secondary_heating_type':'build_existing_model.hvac_secondary_heating_type_and_fuel',\n",
    "                     'qoi_report.qoi_hourly_peak_magnitude_use_kw':'qoi_report.qoi_peak_magnitude_use_kw'}, inplace = True) \n",
    "df.to_csv(f'results_{up}.csv', na_rep='None', index=False)"
   ]
  },
  {
   "cell_type": "code",
   "execution_count": null,
   "id": "2c8a03a8-1caa-4c19-9988-aa43d0af5c78",
   "metadata": {},
   "outputs": [],
   "source": [
    "up = 'up01' # apply it to up01-up10\n",
    "dfu = pd.read_parquet(f'results_{up}.parquet')"
   ]
  },
  {
   "cell_type": "code",
   "execution_count": null,
   "id": "b8a8b5b9-4fa8-4889-af0b-f21e6bf98264",
   "metadata": {},
   "outputs": [],
   "source": [
    "euss = pd.read_csv('euss1_2018_results_up00_100.csv')"
   ]
  },
  {
   "cell_type": "code",
   "execution_count": null,
   "id": "9f5a3800",
   "metadata": {},
   "outputs": [],
   "source": [
    "euss['build_existing_model.ducts'].unique()"
   ]
  },
  {
   "cell_type": "code",
   "execution_count": null,
   "id": "1c28946f",
   "metadata": {},
   "outputs": [],
   "source": [
    "up = 'up00' # apply it to up00\n",
    "df = pd.read_parquet(f'results_{up}.parquet')\n",
    "df = df.loc[df['completed_status'] == 'Success']"
   ]
  },
  {
   "cell_type": "code",
   "execution_count": null,
   "id": "fca7b14e-6607-41ae-ac6d-3fe8a024d929",
   "metadata": {},
   "outputs": [],
   "source": [
    "test = df.head(10)\n",
    "test.to_csv('test.csv', na_rep='None', index=False)"
   ]
  },
  {
   "cell_type": "code",
   "execution_count": null,
   "id": "f25e178e-dc45-4830-8345-ba2bd22ef231",
   "metadata": {},
   "outputs": [],
   "source": []
  }
 ],
 "metadata": {
  "kernelspec": {
   "display_name": "Python 3 (ipykernel)",
   "language": "python",
   "name": "python3"
  },
  "language_info": {
   "codemirror_mode": {
    "name": "ipython",
    "version": 3
   },
   "file_extension": ".py",
   "mimetype": "text/x-python",
   "name": "python",
   "nbconvert_exporter": "python",
   "pygments_lexer": "ipython3",
   "version": "3.11.8"
  },
  "vscode": {
   "interpreter": {
    "hash": "3a57d1f596c9ff9c21fe2833ccf65af76902e525ab80c4cb66d19dbf82ca6dce"
   }
  }
 },
 "nbformat": 4,
 "nbformat_minor": 5
}
