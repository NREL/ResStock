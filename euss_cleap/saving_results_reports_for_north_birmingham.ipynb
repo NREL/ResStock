{
 "cells": [
  {
   "cell_type": "code",
   "execution_count": 1,
   "id": "db22b178",
   "metadata": {},
   "outputs": [],
   "source": [
    "import plotly.graph_objects as go\n",
    "from plotly.subplots import make_subplots\n",
    "import plotly.express as px\n",
    "import pandas as pd\n",
    "import numpy as np\n",
    "from pathlib import Path"
   ]
  },
  {
   "cell_type": "markdown",
   "id": "4d6ffd8b",
   "metadata": {},
   "source": [
    "# Functions"
   ]
  },
  {
   "cell_type": "code",
   "execution_count": 2,
   "id": "37898dad",
   "metadata": {},
   "outputs": [],
   "source": [
    "def weighted_mean(x, metric: str):\n",
    "    if len(x[metric].dropna()) == 0:\n",
    "        res = 0\n",
    "    else:\n",
    "        res = (x[metric] * x[\"sample_weight\"]).sum()/x[\"sample_weight\"].sum()\n",
    "    col_name = f\"{metric} wt_mean\"\n",
    "    return pd.Series({col_name: res})\n",
    "\n",
    "def weighted_percentile(x, metric: str, percents: int):\n",
    "    col_name = f\"{metric} wt_p{percents}\"\n",
    "    res = _weighted_percentile(x[metric], percents, weights=x[\"sample_weight\"])\n",
    "    return pd.Series({col_name: res})\n",
    "\n",
    "def _weighted_percentile(data, percents: int, weights=None):\n",
    "    \"\"\"\n",
    "    perc : percentile in 0 - 1\n",
    "    \"\"\"\n",
    "    # dropna\n",
    "    idx = ~np.isnan(data) & ~np.isnan(weights)\n",
    "    data = np.array(data)[idx]\n",
    "    if len(data) == 0:\n",
    "        return np.nan\n",
    "    if weights is None:\n",
    "        return np.percentile(data, percents)\n",
    "    weights = np.array(weights)[idx]\n",
    "    ix = np.argsort(data)\n",
    "    data = data[ix] # sort data\n",
    "    weights = weights[ix] # sort weights\n",
    "    cdf = (np.cumsum(weights) - 0.5 * weights) / np.sum(weights) # 'like' a CDF function\n",
    "    return np.interp(percents, cdf, data)\n",
    "\n",
    "def get_summary(df, metric, lower_percentile=0.10, middle_percentile1=0.25, middle_percentile2=0.75, upper_percentile=0.90):\n",
    "    dfgb = df.groupby([\"upgrade_name\"])\n",
    "    dfs = pd.concat([\n",
    "        dfgb[\"sample_weight\"].count().rename(\"n_samples\"),\n",
    "        dfgb[\"sample_weight\"].sum().rename(\"n_represented\"),\n",
    "        dfgb.apply(lambda x: weighted_mean(x, metric)),\n",
    "        dfgb.apply(lambda x: weighted_percentile(x, metric, percents=lower_percentile)),\n",
    "        dfgb.apply(lambda x: weighted_percentile(x, metric, percents=middle_percentile1)),\n",
    "        dfgb.apply(lambda x: weighted_percentile(x, metric, percents=middle_percentile2)),\n",
    "        dfgb.apply(lambda x: weighted_percentile(x, metric, percents=upper_percentile)),\n",
    "    ], axis=1)\n",
    "    dfs = dfs.sort_values(by=f\"{metric} wt_mean\", ascending=False)\n",
    "\n",
    "    return dfs"
   ]
  },
  {
   "cell_type": "markdown",
   "id": "e2c92a98",
   "metadata": {},
   "source": [
    "## Whole Community Upgrade Cost Per Dwelling Unit"
   ]
  },
  {
   "cell_type": "code",
   "execution_count": 3,
   "id": "db8bfb6a",
   "metadata": {},
   "outputs": [],
   "source": [
    "def community_mean_upgrade_cost(commnity_results):\n",
    "    results = commnity_results[['upgrade_name',\n",
    "                       'upgrade_cost_usd',\n",
    "                                'sample_weight']]\n",
    "    results = results.loc[results['upgrade_name'] != 'baseline']\n",
    "    results['upgrade_cost_usd'] = results['upgrade_cost_usd']*results['sample_weight']\n",
    "    \n",
    "    agg_functions = {'upgrade_name': 'first',\n",
    "                     'upgrade_cost_usd': 'sum',\n",
    "                    'sample_weight': 'sum'}\n",
    "    results = results.groupby(results['upgrade_name']).aggregate(agg_functions)\n",
    "    results['upgrade_cost_usd'] = results['upgrade_cost_usd']/results['sample_weight']\n",
    "    results = results.sort_values('upgrade_cost_usd')\n",
    "    results['upgrade_cost_usd'] = results['upgrade_cost_usd'].round(1) \n",
    "    \n",
    "    print('upgrade_cost_usd per dwelling unit')\n",
    "    display(results['upgrade_cost_usd'])\n",
    "    return results['upgrade_cost_usd']"
   ]
  },
  {
   "cell_type": "markdown",
   "id": "0a8130e7",
   "metadata": {},
   "source": [
    "## Whole Community Total Annual Savings"
   ]
  },
  {
   "cell_type": "code",
   "execution_count": 4,
   "id": "eaa95d01",
   "metadata": {},
   "outputs": [],
   "source": [
    "# flavor 1 - with electricity and non-electricity split\n",
    "def figure_total_savings_1(commnity_results):\n",
    "    results = commnity_results[['upgrade_name',\n",
    "                       'saving_energy.electricity_kwh',\n",
    "                      'saving_energy.natural_gas_therm',\n",
    "                                'saving_energy.fuel_oil_mmbtu',\n",
    "                                'saving_energy.propane_mmbtu',\n",
    "                       'saving_cbill.total_usd',\n",
    "                       'saving_emission.total_kgCO2e',\n",
    "                                'sample_weight']]\n",
    "    results = results.loc[results['upgrade_name'] != 'baseline']\n",
    "    results['saving_energy.natural_gas_fuel_oil_propane_mmbtu'] = results['saving_energy.natural_gas_therm']*0.1 + results['saving_energy.fuel_oil_mmbtu']+ results['saving_energy.propane_mmbtu']\n",
    "    results['saving_energy.electricity_kwh'] = results['saving_energy.electricity_kwh']*results['sample_weight']\n",
    "    results['saving_energy.natural_gas_fuel_oil_propane_mmbtu'] = results['saving_energy.natural_gas_fuel_oil_propane_mmbtu']*results['sample_weight']\n",
    "    results['saving_cbill.total_usd'] = results['saving_cbill.total_usd']*results['sample_weight']\n",
    "    results['saving_emission.total_kgCO2e'] = results['saving_emission.total_kgCO2e']*results['sample_weight']\n",
    "    \n",
    "    agg_functions = {'upgrade_name': 'first',\n",
    "                     'saving_energy.electricity_kwh': 'sum',\n",
    "                     'saving_energy.natural_gas_fuel_oil_propane_mmbtu': 'sum', \n",
    "                     'saving_cbill.total_usd': 'sum',\n",
    "                     'saving_emission.total_kgCO2e': 'sum'}\n",
    "    results = results.groupby(results['upgrade_name']).aggregate(agg_functions)\n",
    "    results = results.sort_values('saving_cbill.total_usd')\n",
    "    \n",
    "    fig = make_subplots(rows=1, cols=5, horizontal_spacing=0.12, column_widths=[0.001, 1, 1, 1, 1])\n",
    "    \n",
    "    fig.add_trace(go.Bar(\n",
    "        x=[0] * 176,\n",
    "        y=results['upgrade_name'],\n",
    "        text=None,\n",
    "        orientation='h'), row=1, col=1)\n",
    "    \n",
    "    fig.add_trace(go.Bar(\n",
    "        x=results['saving_cbill.total_usd'],\n",
    "        y=results['upgrade_name'],\n",
    "        text=results['saving_cbill.total_usd'],\n",
    "        orientation='h'), row=1, col=2)\n",
    "    \n",
    "    fig.add_trace(go.Bar(\n",
    "        x=results['saving_emission.total_kgCO2e'],\n",
    "        y=results['upgrade_name'],\n",
    "        text=results['saving_emission.total_kgCO2e'],\n",
    "        orientation='h'),row=1, col=3)\n",
    "    \n",
    "    fig.add_trace(go.Bar(\n",
    "        x=results['saving_energy.electricity_kwh'],\n",
    "        y=results['upgrade_name'],\n",
    "        text=results['saving_energy.electricity_kwh'],\n",
    "        orientation='h'),row=1, col=4)\n",
    "    \n",
    "    fig.add_trace(go.Bar(\n",
    "        x=results['saving_energy.natural_gas_fuel_oil_propane_mmbtu'],\n",
    "        y=results['upgrade_name'],\n",
    "        text=results['saving_energy.natural_gas_fuel_oil_propane_mmbtu'],\n",
    "        orientation='h'),row=1, col=5)\n",
    "\n",
    "    fig.update_traces(textfont_size=10, textangle=0, textposition=\"outside\", cliponaxis=False)\n",
    "    fig.update_traces(marker_color='rgb(0, 121, 61)', marker_line_color='rgb(0, 121, 61)')\n",
    "    fig.update_traces(marker_color='rgb(255, 255, 255)', marker_line_color='rgb(255, 255, 255)',row=1,col=1)\n",
    "    fig.update_traces(texttemplate='%{text:.3s}', textposition='outside',row=1,col=2)\n",
    "    fig.update_traces(texttemplate='%{text:.3s}', textposition='outside',row=1,col=3)\n",
    "    fig.update_traces(texttemplate='%{text:.3s}', textposition='outside',row=1,col=4)\n",
    "    fig.update_traces(texttemplate='%{text:.3s}', textposition='outside',row=1,col=5)\n",
    "    fig.update_layout(xaxis_title=\"\", xaxis_visible=False, yaxis_visible=True,\n",
    "                      xaxis2_title=\"Bill<br>Savings<br>usd\", xaxis2_visible=True, yaxis2_visible=False,\n",
    "                      xaxis3_title=\"Emission<br>Savings<br>kgCO2e\", xaxis3_visible=True, yaxis3_visible=False,\n",
    "                      xaxis4_title=\"Electricity<br>Savings<br>kwh\", xaxis4_visible=True, yaxis4_visible=False,\n",
    "                      xaxis5_title=\"Gas, Propane,<br>Fuel Oil Savings<br>MMBtu\", xaxis5_visible=True, yaxis5_visible=False,\n",
    "                     title='Total Annual Savings for the Whole Community')\n",
    "    fig.update_layout(\n",
    "    autosize=False,\n",
    "    width=900,\n",
    "    height=500,\n",
    "    font=dict(size=10),\n",
    "    plot_bgcolor='rgba(0, 0, 0, 0)',)\n",
    "    fig.update_xaxes(tickangle=45)\n",
    "    fig.update_layout(showlegend=False)\n",
    "    \n",
    "    fig.show()\n",
    "    fig.write_image(fig_dir / 'total_annual_savings_1.svg')    \n",
    "\n",
    "# flavor 2 - site, electricity, and non-electricity\n",
    "def figure_total_savings_2(commnity_results):\n",
    "    results = commnity_results[[\n",
    "        'upgrade_name',\n",
    "        'saving_energy.total_mmbtu',\n",
    "        'saving_energy.electricity_kwh',\n",
    "        'saving_energy.natural_gas_therm',\n",
    "        'saving_energy.fuel_oil_mmbtu',\n",
    "        'saving_energy.propane_mmbtu',\n",
    "        'saving_cbill.total_usd',\n",
    "        'saving_emission.total_kgCO2e',\n",
    "        'sample_weight']]\n",
    "    results = results.loc[results['upgrade_name'] != 'baseline']\n",
    "    results['saving_energy.natural_gas_fuel_oil_propane_mmbtu'] = results['saving_energy.natural_gas_therm']*0.1 + results['saving_energy.fuel_oil_mmbtu']+ results['saving_energy.propane_mmbtu']\n",
    "    results['saving_energy.electricity_kwh'] = results['saving_energy.electricity_kwh']*results['sample_weight']\n",
    "    results['saving_energy.natural_gas_fuel_oil_propane_mmbtu'] = results['saving_energy.natural_gas_fuel_oil_propane_mmbtu']*results['sample_weight']\n",
    "    results['saving_cbill.total_usd'] = results['saving_cbill.total_usd']*results['sample_weight']\n",
    "    results['saving_emission.total_kgCO2e'] = results['saving_emission.total_kgCO2e']*results['sample_weight']\n",
    "    results['saving_energy.total_mmbtu'] = results['saving_energy.total_mmbtu']*results['sample_weight']\n",
    "    \n",
    "    agg_functions = {'upgrade_name': 'first',\n",
    "                     'saving_energy.electricity_kwh': 'sum',\n",
    "                     'saving_energy.natural_gas_fuel_oil_propane_mmbtu': 'sum', \n",
    "                      'saving_energy.total_mmbtu': 'sum', \n",
    "                     'saving_cbill.total_usd': 'sum',\n",
    "                     'saving_emission.total_kgCO2e': 'sum'}\n",
    "    results = results.groupby(results['upgrade_name']).aggregate(agg_functions)\n",
    "    results = results.sort_values('saving_cbill.total_usd')\n",
    "    \n",
    "    fig = make_subplots(rows=1, cols=6, horizontal_spacing=0.12, column_widths=[0.001, 1, 1, 1, 1, 1])\n",
    "    \n",
    "    fig.add_trace(go.Bar(\n",
    "        x=[0] * 176,\n",
    "        y=results['upgrade_name'],\n",
    "        text=None,\n",
    "        orientation='h'), row=1, col=1)\n",
    "    \n",
    "    fig.add_trace(go.Bar(\n",
    "        x=results['saving_cbill.total_usd'],\n",
    "        y=results['upgrade_name'],\n",
    "        text=results['saving_cbill.total_usd'],\n",
    "        orientation='h'), row=1, col=2)\n",
    "    \n",
    "    fig.add_trace(go.Bar(\n",
    "        x=results['saving_emission.total_kgCO2e'],\n",
    "        y=results['upgrade_name'],\n",
    "        text=results['saving_emission.total_kgCO2e'],\n",
    "        orientation='h'),row=1, col=3)\n",
    "\n",
    "    fig.add_trace(go.Bar(\n",
    "        x=results['saving_energy.total_mmbtu'],\n",
    "        y=results['upgrade_name'],\n",
    "        text=results['saving_energy.total_mmbtu'],\n",
    "        orientation='h'),row=1, col=4)\n",
    "    \n",
    "    fig.add_trace(go.Bar(\n",
    "        x=results['saving_energy.electricity_kwh'],\n",
    "        y=results['upgrade_name'],\n",
    "        text=results['saving_energy.electricity_kwh'],\n",
    "        orientation='h'),row=1, col=5)\n",
    "    \n",
    "    fig.add_trace(go.Bar(\n",
    "        x=results['saving_energy.natural_gas_fuel_oil_propane_mmbtu'],\n",
    "        y=results['upgrade_name'],\n",
    "        text=results['saving_energy.natural_gas_fuel_oil_propane_mmbtu'],\n",
    "        orientation='h'),row=1, col=6)\n",
    "\n",
    "    fig.update_traces(textfont_size=10, textangle=0, textposition=\"outside\", cliponaxis=False)\n",
    "    fig.update_traces(marker_color='rgb(0, 121, 61)', marker_line_color='rgb(0, 121, 61)')\n",
    "    fig.update_traces(marker_color='rgb(255, 255, 255)', marker_line_color='rgb(255, 255, 255)',row=1,col=1)\n",
    "    fig.update_traces(texttemplate='%{text:.3s}', textposition='outside',row=1,col=2)\n",
    "    fig.update_traces(texttemplate='%{text:.3s}', textposition='outside',row=1,col=3)\n",
    "    fig.update_traces(texttemplate='%{text:.3s}', textposition='outside',row=1,col=4)\n",
    "    fig.update_traces(texttemplate='%{text:.3s}', textposition='outside',row=1,col=5)\n",
    "    fig.update_traces(texttemplate='%{text:.3s}', textposition='outside',row=1,col=6)\n",
    "    fig.update_layout(xaxis_title=\"\", xaxis_visible=False, yaxis_visible=True,\n",
    "                      xaxis2_title=\"Bill<br>Savings<br>usd\", xaxis2_visible=True, yaxis2_visible=False,\n",
    "                      xaxis3_title=\"Site Emission<br>Saving<br>kgCO2e\", xaxis3_visible=True, yaxis3_visible=False,\n",
    "                      xaxis4_title=\"Site Energy<br>Saving<br>MMBtu\", xaxis4_visible=True, yaxis4_visible=False,\n",
    "                      xaxis5_title=\"Electricity<br>Saving<br>kwh\", xaxis5_visible=True, yaxis5_visible=False,\n",
    "                      xaxis6_title=\"Gas, Propane,<br>Fuel Oil Saving<br>MMBtu\", xaxis6_visible=True, yaxis6_visible=False,\n",
    "                     title='Community Total Annual Savings')\n",
    "    fig.update_layout(\n",
    "    autosize=False,\n",
    "    width=1100,\n",
    "    height=500,\n",
    "    font=dict(size=10),\n",
    "    plot_bgcolor='rgba(0, 0, 0, 0)',)\n",
    "    fig.update_xaxes(tickangle=45)\n",
    "    fig.update_layout(showlegend=False)\n",
    "    \n",
    "    fig.show()\n",
    "    fig.write_image(fig_dir / 'total_annual_savings.svg')\n",
    "    \n",
    "    return results[['saving_cbill.total_usd','saving_emission.total_kgCO2e','saving_energy.total_mmbtu','saving_energy.electricity_kwh','saving_energy.natural_gas_fuel_oil_propane_mmbtu']]\n",
    "\n",
    "# flavor 3 - site energy only\n",
    "def figure_total_savings_3(commnity_results):\n",
    "    results = commnity_results[[\n",
    "        'upgrade_name',\n",
    "        'saving_energy.total_mmbtu',\n",
    "        'saving_cbill.total_usd',\n",
    "        'saving_emission.total_kgCO2e',\n",
    "        'sample_weight']]\n",
    "    results = results.loc[results['upgrade_name'] != 'baseline']\n",
    "    results['saving_energy.total_mmbtu'] = results['saving_energy.total_mmbtu']*results['sample_weight']\n",
    "    results['saving_cbill.total_usd'] = results['saving_cbill.total_usd']*results['sample_weight']\n",
    "    results['saving_emission.total_kgCO2e'] = results['saving_emission.total_kgCO2e']*results['sample_weight']\n",
    "    \n",
    "    agg_functions = {'upgrade_name': 'first',\n",
    "                     'saving_energy.total_mmbtu': 'sum', \n",
    "                     'saving_cbill.total_usd': 'sum',\n",
    "                     'saving_emission.total_kgCO2e': 'sum'}\n",
    "    results = results.groupby(results['upgrade_name']).aggregate(agg_functions)\n",
    "    results = results.sort_values('saving_cbill.total_usd')\n",
    "    \n",
    "    fig = make_subplots(rows=1, cols=4, horizontal_spacing=0.1, column_widths=[0.02, 1, 1, 1])\n",
    "    \n",
    "    fig.add_trace(go.Bar(\n",
    "        x=[0] * 176,\n",
    "        y=results['upgrade_name'],\n",
    "        text=None,\n",
    "        orientation='h'), row=1, col=1)\n",
    "    \n",
    "    fig.add_trace(go.Bar(\n",
    "        x=results['saving_cbill.total_usd'],\n",
    "        y=results['upgrade_name'],\n",
    "        text=results['saving_cbill.total_usd'],\n",
    "        orientation='h'), row=1, col=2)\n",
    "    \n",
    "    fig.add_trace(go.Bar(\n",
    "        x=results['saving_emission.total_kgCO2e'],\n",
    "        y=results['upgrade_name'],\n",
    "        text=results['saving_emission.total_kgCO2e'],\n",
    "        orientation='h'),row=1, col=3)\n",
    "    \n",
    "    fig.add_trace(go.Bar(\n",
    "        x=results['saving_energy.total_mmbtu'],\n",
    "        y=results['upgrade_name'],\n",
    "        text=results['saving_energy.total_mmbtu'],\n",
    "        orientation='h'),row=1, col=4)\n",
    "\n",
    "    fig.update_traces(textfont_size=10, textangle=0, textposition=\"outside\", cliponaxis=False)\n",
    "    fig.update_traces(marker_color='rgb(0, 121, 61)', marker_line_color='rgb(0, 121, 61)')\n",
    "    fig.update_traces(marker_color='rgb(255, 255, 255)', marker_line_color='rgb(255, 255, 255)',row=1,col=1)\n",
    "    fig.update_traces(texttemplate='%{text:.3s}', textposition='outside',row=1,col=2)\n",
    "    fig.update_traces(texttemplate='%{text:.3s}', textposition='outside',row=1,col=3)\n",
    "    fig.update_traces(texttemplate='%{text:.3s}', textposition='outside',row=1,col=4)\n",
    "    fig.update_layout(xaxis_title=\"\", xaxis_visible=False, yaxis_visible=True,\n",
    "                      xaxis2_title=\"Bill Savings<br>usd\", xaxis2_visible=True, yaxis2_visible=False,\n",
    "                      xaxis3_title=\"Emission Savings<br>kgCO2e\", xaxis3_visible=True, yaxis3_visible=False,\n",
    "                      xaxis4_title=\"Energy Savings<br>MMBtu\", xaxis4_visible=True, yaxis4_visible=False,\n",
    "                     title='Total Annual Savings for the Whole Community')\n",
    "    fig.update_layout(\n",
    "    autosize=False,\n",
    "    width=850,\n",
    "    height=500,\n",
    "    font=dict(size=10),\n",
    "    plot_bgcolor='rgba(0, 0, 0, 0)',)\n",
    "    fig.update_xaxes(tickangle=45)\n",
    "    fig.update_layout(showlegend=False)\n",
    "    \n",
    "    fig.show()\n",
    "    fig.write_image(fig_dir / 'total_annual_savings_3.svg')"
   ]
  },
  {
   "cell_type": "markdown",
   "id": "5e598a0f",
   "metadata": {},
   "source": [
    "## Whole Community Annual Savings Per Dewlling Unit"
   ]
  },
  {
   "cell_type": "code",
   "execution_count": 5,
   "id": "7df58f8e",
   "metadata": {},
   "outputs": [],
   "source": [
    "def figure_mean_savings(commnity_results):\n",
    "    results = commnity_results[['upgrade_name',\n",
    "                       'saving_energy.total_mmbtu',\n",
    "                       'saving_cbill.total_usd',\n",
    "                       'saving_emission.total_kgCO2e',\n",
    "                                'sample_weight']]\n",
    "    results = results.loc[results['upgrade_name'] != 'baseline']\n",
    "    results['saving_energy.total_mmbtu'] = results['saving_energy.total_mmbtu']*results['sample_weight']\n",
    "    results['saving_cbill.total_usd'] = results['saving_cbill.total_usd']*results['sample_weight']\n",
    "    results['saving_emission.total_kgCO2e'] = results['saving_emission.total_kgCO2e']*results['sample_weight']\n",
    "    \n",
    "    agg_functions = {'upgrade_name': 'first',\n",
    "                     'saving_energy.total_mmbtu': 'sum', \n",
    "                     'saving_cbill.total_usd': 'sum',\n",
    "                     'saving_emission.total_kgCO2e': 'sum',\n",
    "                    'sample_weight': 'sum'}\n",
    "    results = results.groupby(results['upgrade_name']).aggregate(agg_functions)\n",
    "    results['saving_energy.total_mmbtu'] = results['saving_energy.total_mmbtu']/results['sample_weight']\n",
    "    results['saving_cbill.total_usd'] = results['saving_cbill.total_usd']/results['sample_weight']\n",
    "    results['saving_emission.total_kgCO2e'] = results['saving_emission.total_kgCO2e']/results['sample_weight']\n",
    "    results = results.sort_values('saving_cbill.total_usd')\n",
    "    \n",
    "    print('sample_weight')\n",
    "    display(results['sample_weight'])\n",
    "  \n",
    "    fig = make_subplots(rows=1, cols=4, horizontal_spacing=0.1, column_widths=[0.02, 1, 1, 1])\n",
    "    \n",
    "    fig.add_trace(go.Bar(\n",
    "        x=[0] * 176,\n",
    "        y=results['upgrade_name'],\n",
    "        text=None,\n",
    "        orientation='h'), row=1, col=1)\n",
    "    \n",
    "    fig.add_trace(go.Bar(\n",
    "        x=results['saving_cbill.total_usd'],\n",
    "        y=results['upgrade_name'],\n",
    "        text=results['saving_cbill.total_usd'],\n",
    "        orientation='h'), row=1, col=2)\n",
    "    \n",
    "    fig.add_trace(go.Bar(\n",
    "        x=results['saving_emission.total_kgCO2e'],\n",
    "        y=results['upgrade_name'],\n",
    "        text=results['saving_emission.total_kgCO2e'],\n",
    "        orientation='h'),row=1, col=3)\n",
    "    \n",
    "    fig.add_trace(go.Bar(\n",
    "        x=results['saving_energy.total_mmbtu'],\n",
    "        y=results['upgrade_name'],\n",
    "        text=results['saving_energy.total_mmbtu'],\n",
    "        orientation='h'),row=1, col=4)\n",
    "\n",
    "    fig.update_traces(textfont_size=10, textangle=0, textposition=\"outside\", cliponaxis=False)\n",
    "    fig.update_traces(marker_color='rgb(0, 121, 61)', marker_line_color='rgb(0, 121, 61)')\n",
    "    fig.update_traces(marker_color='rgb(255, 255, 255)', marker_line_color='rgb(255, 255, 255)',row=1,col=1)\n",
    "    fig.update_traces(texttemplate='%{text:.3s}', textposition='outside',row=1,col=2)\n",
    "    fig.update_traces(texttemplate='%{text:.3s}', textposition='outside',row=1,col=3)\n",
    "    fig.update_traces(texttemplate='%{text:.3s}', textposition='outside',row=1,col=4)\n",
    "    fig.update_layout(xaxis_title=\"\", xaxis_visible=False, yaxis_visible=True,\n",
    "                      xaxis2_title=\"Bill Savings<br>usd\", xaxis2_visible=True, yaxis2_visible=False,\n",
    "                      xaxis3_title=\"Emission Savings<br>kgCO2e\", xaxis3_visible=True, yaxis3_visible=False,\n",
    "                      xaxis4_title=\"Energy Savings<br>MMBtu\", xaxis4_visible=True, yaxis4_visible=False,\n",
    "                     title='Annual Savings Per Dwelling Unit')\n",
    "    fig.update_layout(\n",
    "    autosize=False,\n",
    "    width=850,\n",
    "    height=500,\n",
    "    font=dict(size=10),\n",
    "    plot_bgcolor='rgba(0, 0, 0, 0)',)\n",
    "    fig.update_xaxes(tickangle=45)\n",
    "    fig.update_layout(showlegend=False)\n",
    "    \n",
    "    fig.show()\n",
    "    fig.write_image(fig_dir / 'annual_saving_per_dwelling_unit.svg')\n",
    "    \n",
    "    return results[['saving_cbill.total_usd','saving_emission.total_kgCO2e','saving_energy.total_mmbtu']]"
   ]
  },
  {
   "cell_type": "markdown",
   "id": "629953b2",
   "metadata": {},
   "source": [
    "## Segment Upgrade Cost Per Dwelling Unit"
   ]
  },
  {
   "cell_type": "code",
   "execution_count": 6,
   "id": "b17b036c",
   "metadata": {},
   "outputs": [],
   "source": [
    "def segment_mean_upgrade_cost(commnity_results):\n",
    "    results = commnity_results[['upgrade_name',\n",
    "                       'upgrade_cost_usd',\n",
    "                                'sample_weight',\n",
    "                                'segment']]\n",
    "    results = results.loc[results['upgrade_name'] != 'baseline']\n",
    "    results['upgrade_cost_usd'] = results['upgrade_cost_usd']*results['sample_weight']\n",
    "    \n",
    "    segment1 = results.loc[results['segment'] == 'segment1']\n",
    "    segment2 = results.loc[results['segment'] == 'segment2']\n",
    "    \n",
    "    agg_functions = {'upgrade_name': 'first',\n",
    "                     'segment': 'first',\n",
    "                     'upgrade_cost_usd': 'sum',\n",
    "                    'sample_weight': 'sum'}\n",
    "    \n",
    "    segment1 = segment1.groupby(segment1['upgrade_name']).aggregate(agg_functions)\n",
    "    segment2 = segment2.groupby(segment2['upgrade_name']).aggregate(agg_functions)\n",
    "    \n",
    "    segment1['upgrade_cost_usd'] = segment1['upgrade_cost_usd']/segment1['sample_weight']\n",
    "    segment2['upgrade_cost_usd'] = segment2['upgrade_cost_usd']/segment2['sample_weight']\n",
    "    \n",
    "    segment1 = segment1.sort_values('upgrade_cost_usd')\n",
    "    segment2 = segment2.sort_values('upgrade_cost_usd')\n",
    "    \n",
    "    segment1['upgrade_cost_usd'] = segment1['upgrade_cost_usd'].round(1)\n",
    "    segment2['upgrade_cost_usd'] = segment2['upgrade_cost_usd'].round(1)\n",
    "    \n",
    "    print('segment1: upgrade cost (usd) per dwelling unit')\n",
    "    display(segment1['upgrade_cost_usd'])\n",
    "    print('segment2: upgrade cost (usd) per dwelling unit')\n",
    "    display(segment2['upgrade_cost_usd'])\n",
    "    \n",
    "    return (segment1['upgrade_cost_usd'], segment2['upgrade_cost_usd'])"
   ]
  },
  {
   "cell_type": "markdown",
   "id": "2233e9eb",
   "metadata": {},
   "source": [
    "## Segment Savings Per Dollar Invested"
   ]
  },
  {
   "cell_type": "code",
   "execution_count": 7,
   "id": "b63f0b29",
   "metadata": {},
   "outputs": [],
   "source": [
    "def segment_savings_per_dollar(indicator, commnity_results):\n",
    "    \n",
    "    results = commnity_results[['upgrade_name', indicator, 'upgrade_cost_usd', 'sample_weight', 'segment']]\n",
    "    results = results.loc[results['upgrade_name'] != 'baseline']\n",
    "    results[indicator] = results[indicator]*results['sample_weight']\n",
    "    results['upgrade_cost_usd'] = results['upgrade_cost_usd']*results['sample_weight']\n",
    "    \n",
    "    segment1 = results.loc[results['segment'] == 'segment1']\n",
    "    segment2 = results.loc[results['segment'] == 'segment2']\n",
    "    \n",
    "    agg_functions = {'upgrade_name': 'first',\n",
    "                     indicator: 'sum',\n",
    "                     'upgrade_cost_usd': 'sum',\n",
    "                     'sample_weight': 'sum'}\n",
    "    \n",
    "    segment1_agg = segment1.groupby(segment1['upgrade_name']).aggregate(agg_functions)\n",
    "    segment2_agg = segment2.groupby(segment2['upgrade_name']).aggregate(agg_functions)\n",
    "    \n",
    "    segment1_agg[indicator] = segment1_agg[indicator]/segment1_agg['upgrade_cost_usd']\n",
    "    segment2_agg[indicator] = segment2_agg[indicator]/segment2_agg['upgrade_cost_usd']\n",
    "    \n",
    "    segment1_agg = segment1_agg.sort_values([indicator], ascending=False)\n",
    "    segment2_agg = segment2_agg.sort_values([indicator], ascending=False)\n",
    "    \n",
    "    segment1_agg[indicator] = segment1_agg[indicator].round(5)\n",
    "    segment2_agg[indicator] = segment2_agg[indicator].round(5)\n",
    "    \n",
    "    print('segment1')\n",
    "    display(segment1_agg[indicator])\n",
    "    print('segment2')\n",
    "    display(segment2_agg[indicator])\n",
    "    \n",
    "    return (segment1_agg[indicator],segment2_agg[indicator])"
   ]
  },
  {
   "cell_type": "markdown",
   "id": "4578ff09",
   "metadata": {},
   "source": [
    "## Segment Annual Total Savings"
   ]
  },
  {
   "cell_type": "code",
   "execution_count": 8,
   "id": "f1de1889",
   "metadata": {},
   "outputs": [],
   "source": [
    "def segment_annual_total_savings(indicator, commnity_results):\n",
    "    \n",
    "    results = commnity_results[['upgrade_name', indicator, 'sample_weight', 'segment']]\n",
    "    results = results.loc[results['upgrade_name'] != 'baseline']\n",
    "    results[indicator] = results[indicator]*results['sample_weight']\n",
    "    \n",
    "    segment1 = results.loc[results['segment'] == 'segment1']\n",
    "    segment2 = results.loc[results['segment'] == 'segment2']\n",
    "    \n",
    "    agg_functions = {'upgrade_name': 'first',\n",
    "                     indicator: 'sum',\n",
    "                    'sample_weight': 'sum'}\n",
    "    \n",
    "    segment1_agg = segment1.groupby(segment1['upgrade_name']).aggregate(agg_functions)\n",
    "    segment2_agg = segment2.groupby(segment2['upgrade_name']).aggregate(agg_functions)\n",
    "    \n",
    "    segment1_agg = segment1_agg.sort_values([indicator], ascending=False)\n",
    "    segment2_agg = segment2_agg.sort_values([indicator], ascending=False)\n",
    "    \n",
    "    segment1_agg[indicator] = segment1_agg[indicator].round(1)\n",
    "    segment2_agg[indicator] = segment2_agg[indicator].round(1)\n",
    "\n",
    "    print('segment1')\n",
    "    display(segment1_agg[indicator])\n",
    "    print('segment2')\n",
    "    display(segment2_agg[indicator])\n",
    "    \n",
    "    return (segment1_agg[indicator],segment2_agg[indicator])"
   ]
  },
  {
   "cell_type": "markdown",
   "id": "102d90f1",
   "metadata": {},
   "source": [
    "## Segment Annual Savings Per Dwelling Unit"
   ]
  },
  {
   "cell_type": "code",
   "execution_count": 9,
   "id": "6b74793b",
   "metadata": {},
   "outputs": [],
   "source": [
    "def segment_mean_savings(indicator, commnity_results):\n",
    "    \n",
    "    results = commnity_results[['upgrade_name', indicator, 'sample_weight', 'segment']]\n",
    "    results = results.loc[results['upgrade_name'] != 'baseline']\n",
    "    results[indicator] = results[indicator]*results['sample_weight']\n",
    "    \n",
    "    segment1 = results.loc[results['segment'] == 'segment1']\n",
    "    segment2 = results.loc[results['segment'] == 'segment2']\n",
    "    \n",
    "    agg_functions = {'upgrade_name': 'first',\n",
    "                     indicator: 'sum',\n",
    "                    'sample_weight': 'sum'}\n",
    "    \n",
    "    segment1_agg = segment1.groupby(segment1['upgrade_name']).aggregate(agg_functions)\n",
    "    segment2_agg = segment2.groupby(segment2['upgrade_name']).aggregate(agg_functions)\n",
    "    \n",
    "    segment1_agg[indicator] = segment1_agg[indicator]/segment1_agg['sample_weight']\n",
    "    segment2_agg[indicator] = segment2_agg[indicator]/segment2_agg['sample_weight']\n",
    "    \n",
    "    segment1_agg = segment1_agg.sort_values([indicator], ascending=False)\n",
    "    segment2_agg = segment2_agg.sort_values([indicator], ascending=False)\n",
    "    \n",
    "    segment1_agg[indicator] = segment1_agg[indicator].round(1)\n",
    "    segment2_agg[indicator] = segment2_agg[indicator].round(1)\n",
    "    \n",
    "    print('segment1')\n",
    "    display(segment1_agg[indicator])\n",
    "    print('segment2')\n",
    "    display(segment2_agg[indicator])\n",
    "    \n",
    "    return (segment1_agg[indicator],segment2_agg[indicator])"
   ]
  },
  {
   "cell_type": "markdown",
   "id": "4e3a051b",
   "metadata": {},
   "source": [
    "## Segment Percent Stock with Net Positive Savings"
   ]
  },
  {
   "cell_type": "code",
   "execution_count": 10,
   "id": "862cf0d7",
   "metadata": {},
   "outputs": [],
   "source": [
    "def figure_positive_negative_savings(segment, income, commnity_results):\n",
    "    results = commnity_results[['upgrade_name',\n",
    "                                  'saving_energy.total_mmbtu',\n",
    "                                  'saving_cbill.total_usd',\n",
    "                                  'saving_emission.total_kgCO2e',\n",
    "                                'sample_weight',\n",
    "                               'segment']]\n",
    "    results = results.loc[results['upgrade_name'] != 'baseline']\n",
    "    results = results.loc[results['segment'] == segment]\n",
    "    results = results.groupby(results['upgrade_name'])\n",
    "  \n",
    "    def pos(col): \n",
    "      return col[col > 0].count()\n",
    "  \n",
    "    def neg(col): \n",
    "      return col[col < 0].count() \n",
    "\n",
    "    percentage = pd.DataFrame()\n",
    "\n",
    "    bill = results['saving_cbill.total_usd'].agg([('negative_values', neg),('positive_values', pos)])\n",
    "    emission = results['saving_emission.total_kgCO2e'].agg([('negative_values', neg),('positive_values', pos)])\n",
    "    energy = results['saving_energy.total_mmbtu'].agg([('negative_values', neg),('positive_values', pos)])\n",
    "    \n",
    "    percentage ['cbill_n'] = bill['negative_values']/(bill['negative_values']+bill['positive_values'])\n",
    "    percentage ['cbill_p'] = bill['positive_values']/(bill['negative_values']+bill['positive_values'])\n",
    "    percentage ['emission_n'] = emission['negative_values']/(emission['negative_values']+emission['positive_values'])\n",
    "    percentage ['emission_p'] = emission['positive_values']/(emission['negative_values']+emission['positive_values'])\n",
    "    percentage ['energy_n'] = energy['negative_values']/(energy['negative_values']+energy['positive_values'])\n",
    "    percentage ['energy_p'] = energy['positive_values']/(energy['negative_values']+energy['positive_values'])\n",
    "    \n",
    "    \n",
    "    percentage = percentage.sort_values(('cbill_p'))\n",
    "    upgrade_name = percentage.index\n",
    "    \n",
    "    fig = make_subplots(rows=1, cols=3)\n",
    "    marker1= dict(color='red')\n",
    "    marker2= dict(color='green')\n",
    "    \n",
    "    fig.add_bar(y=upgrade_name, x=percentage ['cbill_n'], text=percentage ['cbill_n'],\n",
    "                orientation='h',name = \"Negative\",row=1, col=1, marker=marker1)\n",
    "    fig.add_bar(y=upgrade_name, x=percentage ['cbill_p'],text=percentage ['cbill_p'],\n",
    "                orientation='h', name = \"Positive\", row=1, col=1, marker=marker2)\n",
    "    \n",
    "    fig.add_bar(y=upgrade_name, x=percentage ['emission_n'], text=percentage ['emission_n'],\n",
    "                orientation='h',showlegend=False, row=1, col=2, marker=marker1)\n",
    "    fig.add_bar(y=upgrade_name, x=percentage ['emission_p'],text=percentage ['emission_p'],\n",
    "                orientation='h', showlegend=False, row=1, col=2, marker=marker2)\n",
    "    \n",
    "    fig.add_bar(y=upgrade_name, x=percentage ['energy_n'],text=percentage ['energy_n'],\n",
    "                orientation='h',showlegend=False, row=1, col=3, marker=marker1)\n",
    "    fig.add_bar(y=upgrade_name, x=percentage ['energy_p'],text=percentage ['energy_p'],\n",
    "                orientation='h', showlegend=False, row=1, col=3, marker=marker2)\n",
    "   \n",
    "  \n",
    "    fig.update_layout(barmode=\"relative\")\n",
    "    fig.update_traces(texttemplate='%{text:.0%}', textposition='inside')\n",
    "    \n",
    "    fig.update_layout(xaxis_title=\"Bill\", xaxis_visible=True, yaxis_visible=True,\n",
    "                      xaxis2_title=\"Emission\", xaxis2_visible=True, yaxis2_visible=False,\n",
    "                      xaxis3_title=\"Total Energy\", xaxis3_visible=True, yaxis3_visible=False,\n",
    "                      font=dict(size=10))\n",
    "    \n",
    "    fig.update_layout(\n",
    "        title='Percentage of Household in Positive and Negative Savings')\n",
    "    \n",
    "    fig.update_layout(\n",
    "    autosize=False,\n",
    "    width=1000,\n",
    "    height=500,\n",
    "    font=dict(size=10))\n",
    "    fig.layout.xaxis1.tickformat = ',.0%'\n",
    "    fig.layout.xaxis2.tickformat = ',.0%'\n",
    "    fig.layout.xaxis3.tickformat = ',.0%'\n",
    "    \n",
    "    fig.show()\n",
    "    fig.write_image(fig_dir / f'percentage_positive_saving_{segment}_{income}.svg')\n",
    "    return (percentage ['cbill_p'],percentage ['emission_p'],percentage ['energy_p'])"
   ]
  },
  {
   "cell_type": "markdown",
   "id": "63119384",
   "metadata": {},
   "source": [
    "## Segment Average Energy Burden (%) Before and after Upgrade."
   ]
  },
  {
   "cell_type": "code",
   "execution_count": 11,
   "id": "81da90ec",
   "metadata": {},
   "outputs": [],
   "source": [
    "def segment_mean_energy_burden(indicator, commnity_results):\n",
    "    \n",
    "    results = commnity_results[['upgrade_name', indicator, 'baseline_energy_burden_2023_cbills.%', 'sample_weight', 'segment']]\n",
    "    results.replace([np.inf, -np.inf], np.nan, inplace=True)\n",
    "    results.dropna(subset=['baseline_energy_burden_2023_cbills.%'], how=\"all\", inplace=True)\n",
    "    results[indicator] = results[indicator]*results['sample_weight']\n",
    "    results['baseline_energy_burden_2023_cbills.%'] = results['baseline_energy_burden_2023_cbills.%']*results['sample_weight']\n",
    "    \n",
    "    segment1 = results.loc[results['segment'] == 'segment1']\n",
    "    segment2 = results.loc[results['segment'] == 'segment2']\n",
    "    \n",
    "    agg_functions = {'upgrade_name': 'first',\n",
    "                     indicator: 'sum',\n",
    "                     'baseline_energy_burden_2023_cbills.%': 'sum',\n",
    "                    'sample_weight': 'sum'}\n",
    "    \n",
    "    segment1_agg = segment1.groupby(segment1['upgrade_name']).aggregate(agg_functions)\n",
    "    segment2_agg = segment2.groupby(segment2['upgrade_name']).aggregate(agg_functions)\n",
    "    \n",
    "    segment1_agg['baseline_energy_burden_2023_cbills.%'] = segment1_agg['baseline_energy_burden_2023_cbills.%']/segment1_agg['sample_weight']\n",
    "    segment2_agg['baseline_energy_burden_2023_cbills.%'] = segment2_agg['baseline_energy_burden_2023_cbills.%']/segment2_agg['sample_weight']\n",
    "    \n",
    "    segment1_agg[indicator] = segment1_agg[indicator]/segment1_agg['sample_weight']\n",
    "    segment2_agg[indicator] = segment2_agg[indicator]/segment2_agg['sample_weight']\n",
    "    \n",
    "    segment1_agg['energy_burden_diff'] = segment1_agg['baseline_energy_burden_2023_cbills.%'] - segment1_agg[indicator]\n",
    "    segment2_agg['energy_burden_diff'] = segment2_agg['baseline_energy_burden_2023_cbills.%'] - segment2_agg[indicator]\n",
    "    \n",
    "    segment1_agg = segment1_agg.sort_values(['energy_burden_diff'], ascending=False)\n",
    "    segment2_agg = segment2_agg.sort_values(['energy_burden_diff'], ascending=False)\n",
    "     \n",
    "    segment1_agg = segment1_agg[segment1_agg.upgrade_name != 'baseline']\n",
    "    segment2_agg = segment2_agg[segment2_agg.upgrade_name != 'baseline']\n",
    "     \n",
    "    segment1_agg = segment1_agg.rename(columns={'baseline_energy_burden_2023_cbills.%': 'before', indicator: 'after'})\n",
    "    segment2_agg = segment2_agg.rename(columns={'baseline_energy_burden_2023_cbills.%': 'before', indicator: 'after'})\n",
    "     \n",
    "    segment1_agg['before'] = segment1_agg['before'].round(1)\n",
    "    segment2_agg['before'] = segment2_agg['before'].round(1)\n",
    "    segment1_agg['after'] = segment1_agg['after'].round(1)\n",
    "    segment2_agg['after'] = segment2_agg['after'].round(1)\n",
    "    \n",
    "    print ('energy burden (%) before and after upgrade')\n",
    "    print('segment1')\n",
    "    display(segment1_agg[['before', 'after']])\n",
    "    print('segment2')\n",
    "    display(segment2_agg[['before', 'after']])\n",
    "    \n",
    "    return(segment1_agg[['before', 'after']],segment2_agg[['before', 'after']])"
   ]
  },
  {
   "cell_type": "code",
   "execution_count": 12,
   "id": "97b37ad7",
   "metadata": {},
   "outputs": [],
   "source": [
    "community = 'north_birmingham'\n",
    "fig_dir = Path(\".\").resolve() / \"results\" / community\n",
    "community_results = pd.read_parquet(f\"data_/community_building_samples_with_upgrade_cost_and_bill/{community}/processed_upgrade_results_tiered.parquet\")\n",
    "saving_results = pd.DataFrame()"
   ]
  },
  {
   "cell_type": "markdown",
   "id": "712ba191",
   "metadata": {},
   "source": [
    "# 1. Results for Whole Community"
   ]
  },
  {
   "cell_type": "markdown",
   "id": "825d991e",
   "metadata": {},
   "source": [
    "## 1.1 Upgrade Cost Per Dwelling Unit"
   ]
  },
  {
   "cell_type": "code",
   "execution_count": 13,
   "id": "d2f8640e",
   "metadata": {},
   "outputs": [
    {
     "name": "stdout",
     "output_type": "stream",
     "text": [
      "upgrade_cost_usd per dwelling unit\n"
     ]
    },
    {
     "data": {
      "text/plain": [
       "upgrade_name\n",
       "Electric Cooking                                                     977.8\n",
       "Electric Clothes Dryer                                              1098.0\n",
       "Induction Cooking                                                   1681.3\n",
       "Heat Pump Clothes Dryer                                             2209.5\n",
       "Heat Pump Water Heater                                              2784.0\n",
       "Basic Enclosure                                                     4919.5\n",
       "Enhanced Enclosure                                                  6923.8\n",
       "Mininum Efficiency Heat Pump with Existing Heat Backup             13767.5\n",
       "Mininum Efficiency Heat Pump with Electric Heat Backup             13870.7\n",
       "Mininum Efficiency Whole Home Electrification                      14705.3\n",
       "High Efficiency Heat Pump with Electric Heat Backup                24709.8\n",
       "Basic Enclosure + HPWH + High Efficiency HP/Electric Backup        29055.7\n",
       "Enhanced Enclosure + HPWH + High Efficiency HP/Electric Backup     30475.4\n",
       "High Efficiency Whole Home Electrification                         31012.5\n",
       "Basic Enclosure + High Efficiency Whole Home Electrification       32614.8\n",
       "Enhanced Enclosure + High Efficiency Whole Home Electrification    34034.5\n",
       "Name: upgrade_cost_usd, dtype: float64"
      ]
     },
     "metadata": {},
     "output_type": "display_data"
    }
   ],
   "source": [
    "results = community_mean_upgrade_cost(community_results)\n",
    "saving_results['whole_community_upgrade_cost_mean_usd'] = results"
   ]
  },
  {
   "cell_type": "markdown",
   "id": "8612601a",
   "metadata": {},
   "source": [
    "## 1.2 Total Annual Savings"
   ]
  },
  {
   "cell_type": "code",
   "execution_count": 14,
   "id": "2d30637c",
   "metadata": {},
   "outputs": [
    {
     "data": {
      "application/vnd.plotly.v1+json": {
       "config": {
        "plotlyServerURL": "https://plot.ly"
       },
       "data": [
        {
         "cliponaxis": false,
         "marker": {
          "color": "rgb(255, 255, 255)",
          "line": {
           "color": "rgb(255, 255, 255)"
          }
         },
         "orientation": "h",
         "textangle": 0,
         "textfont": {
          "size": 10
         },
         "textposition": "outside",
         "type": "bar",
         "x": [
          0,
          0,
          0,
          0,
          0,
          0,
          0,
          0,
          0,
          0,
          0,
          0,
          0,
          0,
          0,
          0,
          0,
          0,
          0,
          0,
          0,
          0,
          0,
          0,
          0,
          0,
          0,
          0,
          0,
          0,
          0,
          0,
          0,
          0,
          0,
          0,
          0,
          0,
          0,
          0,
          0,
          0,
          0,
          0,
          0,
          0,
          0,
          0,
          0,
          0,
          0,
          0,
          0,
          0,
          0,
          0,
          0,
          0,
          0,
          0,
          0,
          0,
          0,
          0,
          0,
          0,
          0,
          0,
          0,
          0,
          0,
          0,
          0,
          0,
          0,
          0,
          0,
          0,
          0,
          0,
          0,
          0,
          0,
          0,
          0,
          0,
          0,
          0,
          0,
          0,
          0,
          0,
          0,
          0,
          0,
          0,
          0,
          0,
          0,
          0,
          0,
          0,
          0,
          0,
          0,
          0,
          0,
          0,
          0,
          0,
          0,
          0,
          0,
          0,
          0,
          0,
          0,
          0,
          0,
          0,
          0,
          0,
          0,
          0,
          0,
          0,
          0,
          0,
          0,
          0,
          0,
          0,
          0,
          0,
          0,
          0,
          0,
          0,
          0,
          0,
          0,
          0,
          0,
          0,
          0,
          0,
          0,
          0,
          0,
          0,
          0,
          0,
          0,
          0,
          0,
          0,
          0,
          0,
          0,
          0,
          0,
          0,
          0,
          0,
          0,
          0,
          0,
          0,
          0,
          0,
          0,
          0,
          0,
          0,
          0,
          0
         ],
         "xaxis": "x",
         "y": [
          "Mininum Efficiency Whole Home Electrification",
          "Electric Clothes Dryer",
          "Electric Cooking",
          "Induction Cooking",
          "Heat Pump Clothes Dryer",
          "Heat Pump Water Heater",
          "Mininum Efficiency Heat Pump with Existing Heat Backup",
          "Mininum Efficiency Heat Pump with Electric Heat Backup",
          "Basic Enclosure",
          "Enhanced Enclosure",
          "High Efficiency Whole Home Electrification",
          "Basic Enclosure + HPWH + High Efficiency HP/Electric Backup",
          "Basic Enclosure + High Efficiency Whole Home Electrification",
          "Enhanced Enclosure + HPWH + High Efficiency HP/Electric Backup",
          "Enhanced Enclosure + High Efficiency Whole Home Electrification",
          "High Efficiency Heat Pump with Electric Heat Backup"
         ],
         "yaxis": "y"
        },
        {
         "cliponaxis": false,
         "marker": {
          "color": "rgb(0, 121, 61)",
          "line": {
           "color": "rgb(0, 121, 61)"
          }
         },
         "orientation": "h",
         "text": [
          -2182246.3650182523,
          -8529.422120033068,
          -3507.6173241452866,
          44927.518714800884,
          304773.2660628713,
          1475241.0898088973,
          3738670.0920801954,
          4152850.167611003,
          4910457.587500244,
          5684896.489927825,
          6947224.467164925,
          8394765.652745299,
          8590117.104245536,
          8628945.742760003,
          8824323.291500937,
          9359288.369550917
         ],
         "textangle": 0,
         "textfont": {
          "size": 10
         },
         "textposition": "outside",
         "texttemplate": "%{text:.3s}",
         "type": "bar",
         "x": [
          -2182246.3650182523,
          -8529.422120033068,
          -3507.6173241452866,
          44927.518714800884,
          304773.2660628713,
          1475241.0898088973,
          3738670.0920801954,
          4152850.167611003,
          4910457.587500244,
          5684896.489927825,
          6947224.467164925,
          8394765.652745299,
          8590117.104245536,
          8628945.742760003,
          8824323.291500937,
          9359288.369550917
         ],
         "xaxis": "x2",
         "y": [
          "Mininum Efficiency Whole Home Electrification",
          "Electric Clothes Dryer",
          "Electric Cooking",
          "Induction Cooking",
          "Heat Pump Clothes Dryer",
          "Heat Pump Water Heater",
          "Mininum Efficiency Heat Pump with Existing Heat Backup",
          "Mininum Efficiency Heat Pump with Electric Heat Backup",
          "Basic Enclosure",
          "Enhanced Enclosure",
          "High Efficiency Whole Home Electrification",
          "Basic Enclosure + HPWH + High Efficiency HP/Electric Backup",
          "Basic Enclosure + High Efficiency Whole Home Electrification",
          "Enhanced Enclosure + HPWH + High Efficiency HP/Electric Backup",
          "Enhanced Enclosure + High Efficiency Whole Home Electrification",
          "High Efficiency Heat Pump with Electric Heat Backup"
         ],
         "yaxis": "y2"
        },
        {
         "cliponaxis": false,
         "marker": {
          "color": "rgb(0, 121, 61)",
          "line": {
           "color": "rgb(0, 121, 61)"
          }
         },
         "orientation": "h",
         "text": [
          13741062.843165243,
          9733.240020114155,
          307758.32867574174,
          417483.9784088161,
          658063.9491377809,
          4842915.236298059,
          13432912.073972806,
          16756994.545025315,
          14889738.032951057,
          17394154.288633905,
          37614079.787796766,
          40687252.74006965,
          41762800.66761625,
          41346875.484037,
          42422423.411583595,
          29879646.70498943
         ],
         "textangle": 0,
         "textfont": {
          "size": 10
         },
         "textposition": "outside",
         "texttemplate": "%{text:.3s}",
         "type": "bar",
         "x": [
          13741062.843165243,
          9733.240020114155,
          307758.32867574174,
          417483.9784088161,
          658063.9491377809,
          4842915.236298059,
          13432912.073972806,
          16756994.545025315,
          14889738.032951057,
          17394154.288633905,
          37614079.787796766,
          40687252.74006965,
          41762800.66761625,
          41346875.484037,
          42422423.411583595,
          29879646.70498943
         ],
         "xaxis": "x3",
         "y": [
          "Mininum Efficiency Whole Home Electrification",
          "Electric Clothes Dryer",
          "Electric Cooking",
          "Induction Cooking",
          "Heat Pump Clothes Dryer",
          "Heat Pump Water Heater",
          "Mininum Efficiency Heat Pump with Existing Heat Backup",
          "Mininum Efficiency Heat Pump with Electric Heat Backup",
          "Basic Enclosure",
          "Enhanced Enclosure",
          "High Efficiency Whole Home Electrification",
          "Basic Enclosure + HPWH + High Efficiency HP/Electric Backup",
          "Basic Enclosure + High Efficiency Whole Home Electrification",
          "Enhanced Enclosure + HPWH + High Efficiency HP/Electric Backup",
          "Enhanced Enclosure + High Efficiency Whole Home Electrification",
          "High Efficiency Heat Pump with Electric Heat Backup"
         ],
         "yaxis": "y3"
        },
        {
         "cliponaxis": false,
         "marker": {
          "color": "rgb(0, 121, 61)",
          "line": {
           "color": "rgb(0, 121, 61)"
          }
         },
         "orientation": "h",
         "text": [
          -22440576.854309507,
          -199952.9887178384,
          -1292239.3942671693,
          -884748.0462564568,
          2430161.7529147915,
          5794416.0459879935,
          13673083.888238685,
          2428704.0883910223,
          27312889.048652284,
          31213247.63007825,
          55267726.89996701,
          67543240.77417393,
          69088654.48083226,
          69502689.38663587,
          71048103.0932942,
          46050371.24285545
         ],
         "textangle": 0,
         "textfont": {
          "size": 10
         },
         "textposition": "outside",
         "texttemplate": "%{text:.3s}",
         "type": "bar",
         "x": [
          -22440576.854309507,
          -199952.9887178384,
          -1292239.3942671693,
          -884748.0462564568,
          2430161.7529147915,
          5794416.0459879935,
          13673083.888238685,
          2428704.0883910223,
          27312889.048652284,
          31213247.63007825,
          55267726.89996701,
          67543240.77417393,
          69088654.48083226,
          69502689.38663587,
          71048103.0932942,
          46050371.24285545
         ],
         "xaxis": "x4",
         "y": [
          "Mininum Efficiency Whole Home Electrification",
          "Electric Clothes Dryer",
          "Electric Cooking",
          "Induction Cooking",
          "Heat Pump Clothes Dryer",
          "Heat Pump Water Heater",
          "Mininum Efficiency Heat Pump with Existing Heat Backup",
          "Mininum Efficiency Heat Pump with Electric Heat Backup",
          "Basic Enclosure",
          "Enhanced Enclosure",
          "High Efficiency Whole Home Electrification",
          "Basic Enclosure + HPWH + High Efficiency HP/Electric Backup",
          "Basic Enclosure + High Efficiency Whole Home Electrification",
          "Enhanced Enclosure + HPWH + High Efficiency HP/Electric Backup",
          "Enhanced Enclosure + High Efficiency Whole Home Electrification",
          "High Efficiency Heat Pump with Electric Heat Backup"
         ],
         "yaxis": "y4"
        },
        {
         "cliponaxis": false,
         "marker": {
          "color": "rgb(0, 121, 61)",
          "line": {
           "color": "rgb(0, 121, 61)"
          }
         },
         "orientation": "h",
         "text": [
          323469.95337490394,
          889.082705819859,
          9491.524205487582,
          9491.537749486339,
          889.082705819859,
          50899.262733504074,
          130857.98163047989,
          244416.68826921732,
          102676.98776723658,
          121352.91767267692,
          323469.95337490394,
          313089.33291959774,
          323469.95337490394,
          313089.33291959774,
          323469.95337490394,
          244394.82611599332
         ],
         "textangle": 0,
         "textfont": {
          "size": 10
         },
         "textposition": "outside",
         "texttemplate": "%{text:.3s}",
         "type": "bar",
         "x": [
          323469.95337490394,
          889.082705819859,
          9491.524205487582,
          9491.537749486339,
          889.082705819859,
          50899.262733504074,
          130857.98163047989,
          244416.68826921732,
          102676.98776723658,
          121352.91767267692,
          323469.95337490394,
          313089.33291959774,
          323469.95337490394,
          313089.33291959774,
          323469.95337490394,
          244394.82611599332
         ],
         "xaxis": "x5",
         "y": [
          "Mininum Efficiency Whole Home Electrification",
          "Electric Clothes Dryer",
          "Electric Cooking",
          "Induction Cooking",
          "Heat Pump Clothes Dryer",
          "Heat Pump Water Heater",
          "Mininum Efficiency Heat Pump with Existing Heat Backup",
          "Mininum Efficiency Heat Pump with Electric Heat Backup",
          "Basic Enclosure",
          "Enhanced Enclosure",
          "High Efficiency Whole Home Electrification",
          "Basic Enclosure + HPWH + High Efficiency HP/Electric Backup",
          "Basic Enclosure + High Efficiency Whole Home Electrification",
          "Enhanced Enclosure + HPWH + High Efficiency HP/Electric Backup",
          "Enhanced Enclosure + High Efficiency Whole Home Electrification",
          "High Efficiency Heat Pump with Electric Heat Backup"
         ],
         "yaxis": "y5"
        }
       ],
       "layout": {
        "autosize": false,
        "font": {
         "size": 10
        },
        "height": 500,
        "plot_bgcolor": "rgba(0, 0, 0, 0)",
        "showlegend": false,
        "template": {
         "data": {
          "bar": [
           {
            "error_x": {
             "color": "#2a3f5f"
            },
            "error_y": {
             "color": "#2a3f5f"
            },
            "marker": {
             "line": {
              "color": "#E5ECF6",
              "width": 0.5
             },
             "pattern": {
              "fillmode": "overlay",
              "size": 10,
              "solidity": 0.2
             }
            },
            "type": "bar"
           }
          ],
          "barpolar": [
           {
            "marker": {
             "line": {
              "color": "#E5ECF6",
              "width": 0.5
             },
             "pattern": {
              "fillmode": "overlay",
              "size": 10,
              "solidity": 0.2
             }
            },
            "type": "barpolar"
           }
          ],
          "carpet": [
           {
            "aaxis": {
             "endlinecolor": "#2a3f5f",
             "gridcolor": "white",
             "linecolor": "white",
             "minorgridcolor": "white",
             "startlinecolor": "#2a3f5f"
            },
            "baxis": {
             "endlinecolor": "#2a3f5f",
             "gridcolor": "white",
             "linecolor": "white",
             "minorgridcolor": "white",
             "startlinecolor": "#2a3f5f"
            },
            "type": "carpet"
           }
          ],
          "choropleth": [
           {
            "colorbar": {
             "outlinewidth": 0,
             "ticks": ""
            },
            "type": "choropleth"
           }
          ],
          "contour": [
           {
            "colorbar": {
             "outlinewidth": 0,
             "ticks": ""
            },
            "colorscale": [
             [
              0,
              "#0d0887"
             ],
             [
              0.1111111111111111,
              "#46039f"
             ],
             [
              0.2222222222222222,
              "#7201a8"
             ],
             [
              0.3333333333333333,
              "#9c179e"
             ],
             [
              0.4444444444444444,
              "#bd3786"
             ],
             [
              0.5555555555555556,
              "#d8576b"
             ],
             [
              0.6666666666666666,
              "#ed7953"
             ],
             [
              0.7777777777777778,
              "#fb9f3a"
             ],
             [
              0.8888888888888888,
              "#fdca26"
             ],
             [
              1,
              "#f0f921"
             ]
            ],
            "type": "contour"
           }
          ],
          "contourcarpet": [
           {
            "colorbar": {
             "outlinewidth": 0,
             "ticks": ""
            },
            "type": "contourcarpet"
           }
          ],
          "heatmap": [
           {
            "colorbar": {
             "outlinewidth": 0,
             "ticks": ""
            },
            "colorscale": [
             [
              0,
              "#0d0887"
             ],
             [
              0.1111111111111111,
              "#46039f"
             ],
             [
              0.2222222222222222,
              "#7201a8"
             ],
             [
              0.3333333333333333,
              "#9c179e"
             ],
             [
              0.4444444444444444,
              "#bd3786"
             ],
             [
              0.5555555555555556,
              "#d8576b"
             ],
             [
              0.6666666666666666,
              "#ed7953"
             ],
             [
              0.7777777777777778,
              "#fb9f3a"
             ],
             [
              0.8888888888888888,
              "#fdca26"
             ],
             [
              1,
              "#f0f921"
             ]
            ],
            "type": "heatmap"
           }
          ],
          "heatmapgl": [
           {
            "colorbar": {
             "outlinewidth": 0,
             "ticks": ""
            },
            "colorscale": [
             [
              0,
              "#0d0887"
             ],
             [
              0.1111111111111111,
              "#46039f"
             ],
             [
              0.2222222222222222,
              "#7201a8"
             ],
             [
              0.3333333333333333,
              "#9c179e"
             ],
             [
              0.4444444444444444,
              "#bd3786"
             ],
             [
              0.5555555555555556,
              "#d8576b"
             ],
             [
              0.6666666666666666,
              "#ed7953"
             ],
             [
              0.7777777777777778,
              "#fb9f3a"
             ],
             [
              0.8888888888888888,
              "#fdca26"
             ],
             [
              1,
              "#f0f921"
             ]
            ],
            "type": "heatmapgl"
           }
          ],
          "histogram": [
           {
            "marker": {
             "pattern": {
              "fillmode": "overlay",
              "size": 10,
              "solidity": 0.2
             }
            },
            "type": "histogram"
           }
          ],
          "histogram2d": [
           {
            "colorbar": {
             "outlinewidth": 0,
             "ticks": ""
            },
            "colorscale": [
             [
              0,
              "#0d0887"
             ],
             [
              0.1111111111111111,
              "#46039f"
             ],
             [
              0.2222222222222222,
              "#7201a8"
             ],
             [
              0.3333333333333333,
              "#9c179e"
             ],
             [
              0.4444444444444444,
              "#bd3786"
             ],
             [
              0.5555555555555556,
              "#d8576b"
             ],
             [
              0.6666666666666666,
              "#ed7953"
             ],
             [
              0.7777777777777778,
              "#fb9f3a"
             ],
             [
              0.8888888888888888,
              "#fdca26"
             ],
             [
              1,
              "#f0f921"
             ]
            ],
            "type": "histogram2d"
           }
          ],
          "histogram2dcontour": [
           {
            "colorbar": {
             "outlinewidth": 0,
             "ticks": ""
            },
            "colorscale": [
             [
              0,
              "#0d0887"
             ],
             [
              0.1111111111111111,
              "#46039f"
             ],
             [
              0.2222222222222222,
              "#7201a8"
             ],
             [
              0.3333333333333333,
              "#9c179e"
             ],
             [
              0.4444444444444444,
              "#bd3786"
             ],
             [
              0.5555555555555556,
              "#d8576b"
             ],
             [
              0.6666666666666666,
              "#ed7953"
             ],
             [
              0.7777777777777778,
              "#fb9f3a"
             ],
             [
              0.8888888888888888,
              "#fdca26"
             ],
             [
              1,
              "#f0f921"
             ]
            ],
            "type": "histogram2dcontour"
           }
          ],
          "mesh3d": [
           {
            "colorbar": {
             "outlinewidth": 0,
             "ticks": ""
            },
            "type": "mesh3d"
           }
          ],
          "parcoords": [
           {
            "line": {
             "colorbar": {
              "outlinewidth": 0,
              "ticks": ""
             }
            },
            "type": "parcoords"
           }
          ],
          "pie": [
           {
            "automargin": true,
            "type": "pie"
           }
          ],
          "scatter": [
           {
            "fillpattern": {
             "fillmode": "overlay",
             "size": 10,
             "solidity": 0.2
            },
            "type": "scatter"
           }
          ],
          "scatter3d": [
           {
            "line": {
             "colorbar": {
              "outlinewidth": 0,
              "ticks": ""
             }
            },
            "marker": {
             "colorbar": {
              "outlinewidth": 0,
              "ticks": ""
             }
            },
            "type": "scatter3d"
           }
          ],
          "scattercarpet": [
           {
            "marker": {
             "colorbar": {
              "outlinewidth": 0,
              "ticks": ""
             }
            },
            "type": "scattercarpet"
           }
          ],
          "scattergeo": [
           {
            "marker": {
             "colorbar": {
              "outlinewidth": 0,
              "ticks": ""
             }
            },
            "type": "scattergeo"
           }
          ],
          "scattergl": [
           {
            "marker": {
             "colorbar": {
              "outlinewidth": 0,
              "ticks": ""
             }
            },
            "type": "scattergl"
           }
          ],
          "scattermapbox": [
           {
            "marker": {
             "colorbar": {
              "outlinewidth": 0,
              "ticks": ""
             }
            },
            "type": "scattermapbox"
           }
          ],
          "scatterpolar": [
           {
            "marker": {
             "colorbar": {
              "outlinewidth": 0,
              "ticks": ""
             }
            },
            "type": "scatterpolar"
           }
          ],
          "scatterpolargl": [
           {
            "marker": {
             "colorbar": {
              "outlinewidth": 0,
              "ticks": ""
             }
            },
            "type": "scatterpolargl"
           }
          ],
          "scatterternary": [
           {
            "marker": {
             "colorbar": {
              "outlinewidth": 0,
              "ticks": ""
             }
            },
            "type": "scatterternary"
           }
          ],
          "surface": [
           {
            "colorbar": {
             "outlinewidth": 0,
             "ticks": ""
            },
            "colorscale": [
             [
              0,
              "#0d0887"
             ],
             [
              0.1111111111111111,
              "#46039f"
             ],
             [
              0.2222222222222222,
              "#7201a8"
             ],
             [
              0.3333333333333333,
              "#9c179e"
             ],
             [
              0.4444444444444444,
              "#bd3786"
             ],
             [
              0.5555555555555556,
              "#d8576b"
             ],
             [
              0.6666666666666666,
              "#ed7953"
             ],
             [
              0.7777777777777778,
              "#fb9f3a"
             ],
             [
              0.8888888888888888,
              "#fdca26"
             ],
             [
              1,
              "#f0f921"
             ]
            ],
            "type": "surface"
           }
          ],
          "table": [
           {
            "cells": {
             "fill": {
              "color": "#EBF0F8"
             },
             "line": {
              "color": "white"
             }
            },
            "header": {
             "fill": {
              "color": "#C8D4E3"
             },
             "line": {
              "color": "white"
             }
            },
            "type": "table"
           }
          ]
         },
         "layout": {
          "annotationdefaults": {
           "arrowcolor": "#2a3f5f",
           "arrowhead": 0,
           "arrowwidth": 1
          },
          "autotypenumbers": "strict",
          "coloraxis": {
           "colorbar": {
            "outlinewidth": 0,
            "ticks": ""
           }
          },
          "colorscale": {
           "diverging": [
            [
             0,
             "#8e0152"
            ],
            [
             0.1,
             "#c51b7d"
            ],
            [
             0.2,
             "#de77ae"
            ],
            [
             0.3,
             "#f1b6da"
            ],
            [
             0.4,
             "#fde0ef"
            ],
            [
             0.5,
             "#f7f7f7"
            ],
            [
             0.6,
             "#e6f5d0"
            ],
            [
             0.7,
             "#b8e186"
            ],
            [
             0.8,
             "#7fbc41"
            ],
            [
             0.9,
             "#4d9221"
            ],
            [
             1,
             "#276419"
            ]
           ],
           "sequential": [
            [
             0,
             "#0d0887"
            ],
            [
             0.1111111111111111,
             "#46039f"
            ],
            [
             0.2222222222222222,
             "#7201a8"
            ],
            [
             0.3333333333333333,
             "#9c179e"
            ],
            [
             0.4444444444444444,
             "#bd3786"
            ],
            [
             0.5555555555555556,
             "#d8576b"
            ],
            [
             0.6666666666666666,
             "#ed7953"
            ],
            [
             0.7777777777777778,
             "#fb9f3a"
            ],
            [
             0.8888888888888888,
             "#fdca26"
            ],
            [
             1,
             "#f0f921"
            ]
           ],
           "sequentialminus": [
            [
             0,
             "#0d0887"
            ],
            [
             0.1111111111111111,
             "#46039f"
            ],
            [
             0.2222222222222222,
             "#7201a8"
            ],
            [
             0.3333333333333333,
             "#9c179e"
            ],
            [
             0.4444444444444444,
             "#bd3786"
            ],
            [
             0.5555555555555556,
             "#d8576b"
            ],
            [
             0.6666666666666666,
             "#ed7953"
            ],
            [
             0.7777777777777778,
             "#fb9f3a"
            ],
            [
             0.8888888888888888,
             "#fdca26"
            ],
            [
             1,
             "#f0f921"
            ]
           ]
          },
          "colorway": [
           "#636efa",
           "#EF553B",
           "#00cc96",
           "#ab63fa",
           "#FFA15A",
           "#19d3f3",
           "#FF6692",
           "#B6E880",
           "#FF97FF",
           "#FECB52"
          ],
          "font": {
           "color": "#2a3f5f"
          },
          "geo": {
           "bgcolor": "white",
           "lakecolor": "white",
           "landcolor": "#E5ECF6",
           "showlakes": true,
           "showland": true,
           "subunitcolor": "white"
          },
          "hoverlabel": {
           "align": "left"
          },
          "hovermode": "closest",
          "mapbox": {
           "style": "light"
          },
          "paper_bgcolor": "white",
          "plot_bgcolor": "#E5ECF6",
          "polar": {
           "angularaxis": {
            "gridcolor": "white",
            "linecolor": "white",
            "ticks": ""
           },
           "bgcolor": "#E5ECF6",
           "radialaxis": {
            "gridcolor": "white",
            "linecolor": "white",
            "ticks": ""
           }
          },
          "scene": {
           "xaxis": {
            "backgroundcolor": "#E5ECF6",
            "gridcolor": "white",
            "gridwidth": 2,
            "linecolor": "white",
            "showbackground": true,
            "ticks": "",
            "zerolinecolor": "white"
           },
           "yaxis": {
            "backgroundcolor": "#E5ECF6",
            "gridcolor": "white",
            "gridwidth": 2,
            "linecolor": "white",
            "showbackground": true,
            "ticks": "",
            "zerolinecolor": "white"
           },
           "zaxis": {
            "backgroundcolor": "#E5ECF6",
            "gridcolor": "white",
            "gridwidth": 2,
            "linecolor": "white",
            "showbackground": true,
            "ticks": "",
            "zerolinecolor": "white"
           }
          },
          "shapedefaults": {
           "line": {
            "color": "#2a3f5f"
           }
          },
          "ternary": {
           "aaxis": {
            "gridcolor": "white",
            "linecolor": "white",
            "ticks": ""
           },
           "baxis": {
            "gridcolor": "white",
            "linecolor": "white",
            "ticks": ""
           },
           "bgcolor": "#E5ECF6",
           "caxis": {
            "gridcolor": "white",
            "linecolor": "white",
            "ticks": ""
           }
          },
          "title": {
           "x": 0.05
          },
          "xaxis": {
           "automargin": true,
           "gridcolor": "white",
           "linecolor": "white",
           "ticks": "",
           "title": {
            "standoff": 15
           },
           "zerolinecolor": "white",
           "zerolinewidth": 2
          },
          "yaxis": {
           "automargin": true,
           "gridcolor": "white",
           "linecolor": "white",
           "ticks": "",
           "title": {
            "standoff": 15
           },
           "zerolinecolor": "white",
           "zerolinewidth": 2
          }
         }
        },
        "title": {
         "text": "Total Annual Savings for the Whole Community"
        },
        "width": 900,
        "xaxis": {
         "anchor": "y",
         "domain": [
          0,
          0.00012996750812296928
         ],
         "tickangle": 45,
         "title": {
          "text": ""
         },
         "visible": false
        },
        "xaxis2": {
         "anchor": "y2",
         "domain": [
          0.12012996750812296,
          0.25009747563109225
         ],
         "tickangle": 45,
         "title": {
          "text": "Bill<br>Savings<br>usd"
         },
         "visible": true
        },
        "xaxis3": {
         "anchor": "y3",
         "domain": [
          0.37009747563109224,
          0.5000649837540615
         ],
         "tickangle": 45,
         "title": {
          "text": "Emission<br>Savings<br>kgCO2e"
         },
         "visible": true
        },
        "xaxis4": {
         "anchor": "y4",
         "domain": [
          0.6200649837540615,
          0.7500324918770308
         ],
         "tickangle": 45,
         "title": {
          "text": "Electricity<br>Savings<br>kwh"
         },
         "visible": true
        },
        "xaxis5": {
         "anchor": "y5",
         "domain": [
          0.8700324918770308,
          1
         ],
         "tickangle": 45,
         "title": {
          "text": "Gas, Propane,<br>Fuel Oil Savings<br>MMBtu"
         },
         "visible": true
        },
        "yaxis": {
         "anchor": "x",
         "domain": [
          0,
          1
         ],
         "visible": true
        },
        "yaxis2": {
         "anchor": "x2",
         "domain": [
          0,
          1
         ],
         "visible": false
        },
        "yaxis3": {
         "anchor": "x3",
         "domain": [
          0,
          1
         ],
         "visible": false
        },
        "yaxis4": {
         "anchor": "x4",
         "domain": [
          0,
          1
         ],
         "visible": false
        },
        "yaxis5": {
         "anchor": "x5",
         "domain": [
          0,
          1
         ],
         "visible": false
        }
       }
      }
     },
     "metadata": {},
     "output_type": "display_data"
    }
   ],
   "source": [
    "figure_total_savings_1(community_results)"
   ]
  },
  {
   "cell_type": "code",
   "execution_count": 15,
   "id": "ebec6b8d",
   "metadata": {},
   "outputs": [
    {
     "data": {
      "application/vnd.plotly.v1+json": {
       "config": {
        "plotlyServerURL": "https://plot.ly"
       },
       "data": [
        {
         "cliponaxis": false,
         "marker": {
          "color": "rgb(255, 255, 255)",
          "line": {
           "color": "rgb(255, 255, 255)"
          }
         },
         "orientation": "h",
         "textangle": 0,
         "textfont": {
          "size": 10
         },
         "textposition": "outside",
         "type": "bar",
         "x": [
          0,
          0,
          0,
          0,
          0,
          0,
          0,
          0,
          0,
          0,
          0,
          0,
          0,
          0,
          0,
          0,
          0,
          0,
          0,
          0,
          0,
          0,
          0,
          0,
          0,
          0,
          0,
          0,
          0,
          0,
          0,
          0,
          0,
          0,
          0,
          0,
          0,
          0,
          0,
          0,
          0,
          0,
          0,
          0,
          0,
          0,
          0,
          0,
          0,
          0,
          0,
          0,
          0,
          0,
          0,
          0,
          0,
          0,
          0,
          0,
          0,
          0,
          0,
          0,
          0,
          0,
          0,
          0,
          0,
          0,
          0,
          0,
          0,
          0,
          0,
          0,
          0,
          0,
          0,
          0,
          0,
          0,
          0,
          0,
          0,
          0,
          0,
          0,
          0,
          0,
          0,
          0,
          0,
          0,
          0,
          0,
          0,
          0,
          0,
          0,
          0,
          0,
          0,
          0,
          0,
          0,
          0,
          0,
          0,
          0,
          0,
          0,
          0,
          0,
          0,
          0,
          0,
          0,
          0,
          0,
          0,
          0,
          0,
          0,
          0,
          0,
          0,
          0,
          0,
          0,
          0,
          0,
          0,
          0,
          0,
          0,
          0,
          0,
          0,
          0,
          0,
          0,
          0,
          0,
          0,
          0,
          0,
          0,
          0,
          0,
          0,
          0,
          0,
          0,
          0,
          0,
          0,
          0,
          0,
          0,
          0,
          0,
          0,
          0,
          0,
          0,
          0,
          0,
          0,
          0,
          0,
          0,
          0,
          0,
          0,
          0
         ],
         "xaxis": "x",
         "y": [
          "Mininum Efficiency Whole Home Electrification",
          "Electric Clothes Dryer",
          "Electric Cooking",
          "Induction Cooking",
          "Heat Pump Clothes Dryer",
          "Heat Pump Water Heater",
          "Mininum Efficiency Heat Pump with Existing Heat Backup",
          "Mininum Efficiency Heat Pump with Electric Heat Backup",
          "Basic Enclosure",
          "Enhanced Enclosure",
          "High Efficiency Whole Home Electrification",
          "Basic Enclosure + HPWH + High Efficiency HP/Electric Backup",
          "Basic Enclosure + High Efficiency Whole Home Electrification",
          "Enhanced Enclosure + HPWH + High Efficiency HP/Electric Backup",
          "Enhanced Enclosure + High Efficiency Whole Home Electrification",
          "High Efficiency Heat Pump with Electric Heat Backup"
         ],
         "yaxis": "y"
        },
        {
         "cliponaxis": false,
         "marker": {
          "color": "rgb(0, 121, 61)",
          "line": {
           "color": "rgb(0, 121, 61)"
          }
         },
         "orientation": "h",
         "text": [
          -2182246.3650182523,
          -8529.422120033068,
          -3507.6173241452866,
          44927.518714800884,
          304773.2660628713,
          1475241.0898088973,
          3738670.0920801954,
          4152850.167611003,
          4910457.587500244,
          5684896.489927825,
          6947224.467164925,
          8394765.652745299,
          8590117.104245536,
          8628945.742760003,
          8824323.291500937,
          9359288.369550917
         ],
         "textangle": 0,
         "textfont": {
          "size": 10
         },
         "textposition": "outside",
         "texttemplate": "%{text:.3s}",
         "type": "bar",
         "x": [
          -2182246.3650182523,
          -8529.422120033068,
          -3507.6173241452866,
          44927.518714800884,
          304773.2660628713,
          1475241.0898088973,
          3738670.0920801954,
          4152850.167611003,
          4910457.587500244,
          5684896.489927825,
          6947224.467164925,
          8394765.652745299,
          8590117.104245536,
          8628945.742760003,
          8824323.291500937,
          9359288.369550917
         ],
         "xaxis": "x2",
         "y": [
          "Mininum Efficiency Whole Home Electrification",
          "Electric Clothes Dryer",
          "Electric Cooking",
          "Induction Cooking",
          "Heat Pump Clothes Dryer",
          "Heat Pump Water Heater",
          "Mininum Efficiency Heat Pump with Existing Heat Backup",
          "Mininum Efficiency Heat Pump with Electric Heat Backup",
          "Basic Enclosure",
          "Enhanced Enclosure",
          "High Efficiency Whole Home Electrification",
          "Basic Enclosure + HPWH + High Efficiency HP/Electric Backup",
          "Basic Enclosure + High Efficiency Whole Home Electrification",
          "Enhanced Enclosure + HPWH + High Efficiency HP/Electric Backup",
          "Enhanced Enclosure + High Efficiency Whole Home Electrification",
          "High Efficiency Heat Pump with Electric Heat Backup"
         ],
         "yaxis": "y2"
        },
        {
         "cliponaxis": false,
         "marker": {
          "color": "rgb(0, 121, 61)",
          "line": {
           "color": "rgb(0, 121, 61)"
          }
         },
         "orientation": "h",
         "text": [
          13741062.843165243,
          9733.240020114155,
          307758.32867574174,
          417483.9784088161,
          658063.9491377809,
          4842915.236298059,
          13432912.073972806,
          16756994.545025315,
          14889738.032951057,
          17394154.288633905,
          37614079.787796766,
          40687252.74006965,
          41762800.66761625,
          41346875.484037,
          42422423.411583595,
          29879646.70498943
         ],
         "textangle": 0,
         "textfont": {
          "size": 10
         },
         "textposition": "outside",
         "texttemplate": "%{text:.3s}",
         "type": "bar",
         "x": [
          13741062.843165243,
          9733.240020114155,
          307758.32867574174,
          417483.9784088161,
          658063.9491377809,
          4842915.236298059,
          13432912.073972806,
          16756994.545025315,
          14889738.032951057,
          17394154.288633905,
          37614079.787796766,
          40687252.74006965,
          41762800.66761625,
          41346875.484037,
          42422423.411583595,
          29879646.70498943
         ],
         "xaxis": "x3",
         "y": [
          "Mininum Efficiency Whole Home Electrification",
          "Electric Clothes Dryer",
          "Electric Cooking",
          "Induction Cooking",
          "Heat Pump Clothes Dryer",
          "Heat Pump Water Heater",
          "Mininum Efficiency Heat Pump with Existing Heat Backup",
          "Mininum Efficiency Heat Pump with Electric Heat Backup",
          "Basic Enclosure",
          "Enhanced Enclosure",
          "High Efficiency Whole Home Electrification",
          "Basic Enclosure + HPWH + High Efficiency HP/Electric Backup",
          "Basic Enclosure + High Efficiency Whole Home Electrification",
          "Enhanced Enclosure + HPWH + High Efficiency HP/Electric Backup",
          "Enhanced Enclosure + High Efficiency Whole Home Electrification",
          "High Efficiency Heat Pump with Electric Heat Backup"
         ],
         "yaxis": "y3"
        },
        {
         "cliponaxis": false,
         "marker": {
          "color": "rgb(0, 121, 61)",
          "line": {
           "color": "rgb(0, 121, 61)"
          }
         },
         "orientation": "h",
         "text": [
          246899.45894477126,
          206.81478794642882,
          5082.194845482177,
          6472.652104252045,
          9181.1388030484,
          70670.79540270798,
          177512.64457452364,
          252703.78796339277,
          195872.43757918238,
          227857.25160743098,
          512051.1660300889,
          543556.268068612,
          559210.0589759124,
          550242.2109621232,
          565896.0018694237,
          401525.3785065398
         ],
         "textangle": 0,
         "textfont": {
          "size": 10
         },
         "textposition": "outside",
         "texttemplate": "%{text:.3s}",
         "type": "bar",
         "x": [
          246899.45894477126,
          206.81478794642882,
          5082.194845482177,
          6472.652104252045,
          9181.1388030484,
          70670.79540270798,
          177512.64457452364,
          252703.78796339277,
          195872.43757918238,
          227857.25160743098,
          512051.1660300889,
          543556.268068612,
          559210.0589759124,
          550242.2109621232,
          565896.0018694237,
          401525.3785065398
         ],
         "xaxis": "x4",
         "y": [
          "Mininum Efficiency Whole Home Electrification",
          "Electric Clothes Dryer",
          "Electric Cooking",
          "Induction Cooking",
          "Heat Pump Clothes Dryer",
          "Heat Pump Water Heater",
          "Mininum Efficiency Heat Pump with Existing Heat Backup",
          "Mininum Efficiency Heat Pump with Electric Heat Backup",
          "Basic Enclosure",
          "Enhanced Enclosure",
          "High Efficiency Whole Home Electrification",
          "Basic Enclosure + HPWH + High Efficiency HP/Electric Backup",
          "Basic Enclosure + High Efficiency Whole Home Electrification",
          "Enhanced Enclosure + HPWH + High Efficiency HP/Electric Backup",
          "Enhanced Enclosure + High Efficiency Whole Home Electrification",
          "High Efficiency Heat Pump with Electric Heat Backup"
         ],
         "yaxis": "y4"
        },
        {
         "cliponaxis": false,
         "marker": {
          "color": "rgb(0, 121, 61)",
          "line": {
           "color": "rgb(0, 121, 61)"
          }
         },
         "orientation": "h",
         "text": [
          -22440576.854309507,
          -199952.9887178384,
          -1292239.3942671693,
          -884748.0462564568,
          2430161.7529147915,
          5794416.0459879935,
          13673083.888238685,
          2428704.0883910223,
          27312889.048652284,
          31213247.63007825,
          55267726.89996701,
          67543240.77417393,
          69088654.48083226,
          69502689.38663587,
          71048103.0932942,
          46050371.24285545
         ],
         "textangle": 0,
         "textfont": {
          "size": 10
         },
         "textposition": "outside",
         "texttemplate": "%{text:.3s}",
         "type": "bar",
         "x": [
          -22440576.854309507,
          -199952.9887178384,
          -1292239.3942671693,
          -884748.0462564568,
          2430161.7529147915,
          5794416.0459879935,
          13673083.888238685,
          2428704.0883910223,
          27312889.048652284,
          31213247.63007825,
          55267726.89996701,
          67543240.77417393,
          69088654.48083226,
          69502689.38663587,
          71048103.0932942,
          46050371.24285545
         ],
         "xaxis": "x5",
         "y": [
          "Mininum Efficiency Whole Home Electrification",
          "Electric Clothes Dryer",
          "Electric Cooking",
          "Induction Cooking",
          "Heat Pump Clothes Dryer",
          "Heat Pump Water Heater",
          "Mininum Efficiency Heat Pump with Existing Heat Backup",
          "Mininum Efficiency Heat Pump with Electric Heat Backup",
          "Basic Enclosure",
          "Enhanced Enclosure",
          "High Efficiency Whole Home Electrification",
          "Basic Enclosure + HPWH + High Efficiency HP/Electric Backup",
          "Basic Enclosure + High Efficiency Whole Home Electrification",
          "Enhanced Enclosure + HPWH + High Efficiency HP/Electric Backup",
          "Enhanced Enclosure + High Efficiency Whole Home Electrification",
          "High Efficiency Heat Pump with Electric Heat Backup"
         ],
         "yaxis": "y5"
        },
        {
         "cliponaxis": false,
         "marker": {
          "color": "rgb(0, 121, 61)",
          "line": {
           "color": "rgb(0, 121, 61)"
          }
         },
         "orientation": "h",
         "text": [
          323469.95337490394,
          889.082705819859,
          9491.524205487582,
          9491.537749486339,
          889.082705819859,
          50899.262733504074,
          130857.98163047989,
          244416.68826921732,
          102676.98776723658,
          121352.91767267692,
          323469.95337490394,
          313089.33291959774,
          323469.95337490394,
          313089.33291959774,
          323469.95337490394,
          244394.82611599332
         ],
         "textangle": 0,
         "textfont": {
          "size": 10
         },
         "textposition": "outside",
         "texttemplate": "%{text:.3s}",
         "type": "bar",
         "x": [
          323469.95337490394,
          889.082705819859,
          9491.524205487582,
          9491.537749486339,
          889.082705819859,
          50899.262733504074,
          130857.98163047989,
          244416.68826921732,
          102676.98776723658,
          121352.91767267692,
          323469.95337490394,
          313089.33291959774,
          323469.95337490394,
          313089.33291959774,
          323469.95337490394,
          244394.82611599332
         ],
         "xaxis": "x6",
         "y": [
          "Mininum Efficiency Whole Home Electrification",
          "Electric Clothes Dryer",
          "Electric Cooking",
          "Induction Cooking",
          "Heat Pump Clothes Dryer",
          "Heat Pump Water Heater",
          "Mininum Efficiency Heat Pump with Existing Heat Backup",
          "Mininum Efficiency Heat Pump with Electric Heat Backup",
          "Basic Enclosure",
          "Enhanced Enclosure",
          "High Efficiency Whole Home Electrification",
          "Basic Enclosure + HPWH + High Efficiency HP/Electric Backup",
          "Basic Enclosure + High Efficiency Whole Home Electrification",
          "Enhanced Enclosure + HPWH + High Efficiency HP/Electric Backup",
          "Enhanced Enclosure + High Efficiency Whole Home Electrification",
          "High Efficiency Heat Pump with Electric Heat Backup"
         ],
         "yaxis": "y6"
        }
       ],
       "layout": {
        "autosize": false,
        "font": {
         "size": 10
        },
        "height": 500,
        "plot_bgcolor": "rgba(0, 0, 0, 0)",
        "showlegend": false,
        "template": {
         "data": {
          "bar": [
           {
            "error_x": {
             "color": "#2a3f5f"
            },
            "error_y": {
             "color": "#2a3f5f"
            },
            "marker": {
             "line": {
              "color": "#E5ECF6",
              "width": 0.5
             },
             "pattern": {
              "fillmode": "overlay",
              "size": 10,
              "solidity": 0.2
             }
            },
            "type": "bar"
           }
          ],
          "barpolar": [
           {
            "marker": {
             "line": {
              "color": "#E5ECF6",
              "width": 0.5
             },
             "pattern": {
              "fillmode": "overlay",
              "size": 10,
              "solidity": 0.2
             }
            },
            "type": "barpolar"
           }
          ],
          "carpet": [
           {
            "aaxis": {
             "endlinecolor": "#2a3f5f",
             "gridcolor": "white",
             "linecolor": "white",
             "minorgridcolor": "white",
             "startlinecolor": "#2a3f5f"
            },
            "baxis": {
             "endlinecolor": "#2a3f5f",
             "gridcolor": "white",
             "linecolor": "white",
             "minorgridcolor": "white",
             "startlinecolor": "#2a3f5f"
            },
            "type": "carpet"
           }
          ],
          "choropleth": [
           {
            "colorbar": {
             "outlinewidth": 0,
             "ticks": ""
            },
            "type": "choropleth"
           }
          ],
          "contour": [
           {
            "colorbar": {
             "outlinewidth": 0,
             "ticks": ""
            },
            "colorscale": [
             [
              0,
              "#0d0887"
             ],
             [
              0.1111111111111111,
              "#46039f"
             ],
             [
              0.2222222222222222,
              "#7201a8"
             ],
             [
              0.3333333333333333,
              "#9c179e"
             ],
             [
              0.4444444444444444,
              "#bd3786"
             ],
             [
              0.5555555555555556,
              "#d8576b"
             ],
             [
              0.6666666666666666,
              "#ed7953"
             ],
             [
              0.7777777777777778,
              "#fb9f3a"
             ],
             [
              0.8888888888888888,
              "#fdca26"
             ],
             [
              1,
              "#f0f921"
             ]
            ],
            "type": "contour"
           }
          ],
          "contourcarpet": [
           {
            "colorbar": {
             "outlinewidth": 0,
             "ticks": ""
            },
            "type": "contourcarpet"
           }
          ],
          "heatmap": [
           {
            "colorbar": {
             "outlinewidth": 0,
             "ticks": ""
            },
            "colorscale": [
             [
              0,
              "#0d0887"
             ],
             [
              0.1111111111111111,
              "#46039f"
             ],
             [
              0.2222222222222222,
              "#7201a8"
             ],
             [
              0.3333333333333333,
              "#9c179e"
             ],
             [
              0.4444444444444444,
              "#bd3786"
             ],
             [
              0.5555555555555556,
              "#d8576b"
             ],
             [
              0.6666666666666666,
              "#ed7953"
             ],
             [
              0.7777777777777778,
              "#fb9f3a"
             ],
             [
              0.8888888888888888,
              "#fdca26"
             ],
             [
              1,
              "#f0f921"
             ]
            ],
            "type": "heatmap"
           }
          ],
          "heatmapgl": [
           {
            "colorbar": {
             "outlinewidth": 0,
             "ticks": ""
            },
            "colorscale": [
             [
              0,
              "#0d0887"
             ],
             [
              0.1111111111111111,
              "#46039f"
             ],
             [
              0.2222222222222222,
              "#7201a8"
             ],
             [
              0.3333333333333333,
              "#9c179e"
             ],
             [
              0.4444444444444444,
              "#bd3786"
             ],
             [
              0.5555555555555556,
              "#d8576b"
             ],
             [
              0.6666666666666666,
              "#ed7953"
             ],
             [
              0.7777777777777778,
              "#fb9f3a"
             ],
             [
              0.8888888888888888,
              "#fdca26"
             ],
             [
              1,
              "#f0f921"
             ]
            ],
            "type": "heatmapgl"
           }
          ],
          "histogram": [
           {
            "marker": {
             "pattern": {
              "fillmode": "overlay",
              "size": 10,
              "solidity": 0.2
             }
            },
            "type": "histogram"
           }
          ],
          "histogram2d": [
           {
            "colorbar": {
             "outlinewidth": 0,
             "ticks": ""
            },
            "colorscale": [
             [
              0,
              "#0d0887"
             ],
             [
              0.1111111111111111,
              "#46039f"
             ],
             [
              0.2222222222222222,
              "#7201a8"
             ],
             [
              0.3333333333333333,
              "#9c179e"
             ],
             [
              0.4444444444444444,
              "#bd3786"
             ],
             [
              0.5555555555555556,
              "#d8576b"
             ],
             [
              0.6666666666666666,
              "#ed7953"
             ],
             [
              0.7777777777777778,
              "#fb9f3a"
             ],
             [
              0.8888888888888888,
              "#fdca26"
             ],
             [
              1,
              "#f0f921"
             ]
            ],
            "type": "histogram2d"
           }
          ],
          "histogram2dcontour": [
           {
            "colorbar": {
             "outlinewidth": 0,
             "ticks": ""
            },
            "colorscale": [
             [
              0,
              "#0d0887"
             ],
             [
              0.1111111111111111,
              "#46039f"
             ],
             [
              0.2222222222222222,
              "#7201a8"
             ],
             [
              0.3333333333333333,
              "#9c179e"
             ],
             [
              0.4444444444444444,
              "#bd3786"
             ],
             [
              0.5555555555555556,
              "#d8576b"
             ],
             [
              0.6666666666666666,
              "#ed7953"
             ],
             [
              0.7777777777777778,
              "#fb9f3a"
             ],
             [
              0.8888888888888888,
              "#fdca26"
             ],
             [
              1,
              "#f0f921"
             ]
            ],
            "type": "histogram2dcontour"
           }
          ],
          "mesh3d": [
           {
            "colorbar": {
             "outlinewidth": 0,
             "ticks": ""
            },
            "type": "mesh3d"
           }
          ],
          "parcoords": [
           {
            "line": {
             "colorbar": {
              "outlinewidth": 0,
              "ticks": ""
             }
            },
            "type": "parcoords"
           }
          ],
          "pie": [
           {
            "automargin": true,
            "type": "pie"
           }
          ],
          "scatter": [
           {
            "fillpattern": {
             "fillmode": "overlay",
             "size": 10,
             "solidity": 0.2
            },
            "type": "scatter"
           }
          ],
          "scatter3d": [
           {
            "line": {
             "colorbar": {
              "outlinewidth": 0,
              "ticks": ""
             }
            },
            "marker": {
             "colorbar": {
              "outlinewidth": 0,
              "ticks": ""
             }
            },
            "type": "scatter3d"
           }
          ],
          "scattercarpet": [
           {
            "marker": {
             "colorbar": {
              "outlinewidth": 0,
              "ticks": ""
             }
            },
            "type": "scattercarpet"
           }
          ],
          "scattergeo": [
           {
            "marker": {
             "colorbar": {
              "outlinewidth": 0,
              "ticks": ""
             }
            },
            "type": "scattergeo"
           }
          ],
          "scattergl": [
           {
            "marker": {
             "colorbar": {
              "outlinewidth": 0,
              "ticks": ""
             }
            },
            "type": "scattergl"
           }
          ],
          "scattermapbox": [
           {
            "marker": {
             "colorbar": {
              "outlinewidth": 0,
              "ticks": ""
             }
            },
            "type": "scattermapbox"
           }
          ],
          "scatterpolar": [
           {
            "marker": {
             "colorbar": {
              "outlinewidth": 0,
              "ticks": ""
             }
            },
            "type": "scatterpolar"
           }
          ],
          "scatterpolargl": [
           {
            "marker": {
             "colorbar": {
              "outlinewidth": 0,
              "ticks": ""
             }
            },
            "type": "scatterpolargl"
           }
          ],
          "scatterternary": [
           {
            "marker": {
             "colorbar": {
              "outlinewidth": 0,
              "ticks": ""
             }
            },
            "type": "scatterternary"
           }
          ],
          "surface": [
           {
            "colorbar": {
             "outlinewidth": 0,
             "ticks": ""
            },
            "colorscale": [
             [
              0,
              "#0d0887"
             ],
             [
              0.1111111111111111,
              "#46039f"
             ],
             [
              0.2222222222222222,
              "#7201a8"
             ],
             [
              0.3333333333333333,
              "#9c179e"
             ],
             [
              0.4444444444444444,
              "#bd3786"
             ],
             [
              0.5555555555555556,
              "#d8576b"
             ],
             [
              0.6666666666666666,
              "#ed7953"
             ],
             [
              0.7777777777777778,
              "#fb9f3a"
             ],
             [
              0.8888888888888888,
              "#fdca26"
             ],
             [
              1,
              "#f0f921"
             ]
            ],
            "type": "surface"
           }
          ],
          "table": [
           {
            "cells": {
             "fill": {
              "color": "#EBF0F8"
             },
             "line": {
              "color": "white"
             }
            },
            "header": {
             "fill": {
              "color": "#C8D4E3"
             },
             "line": {
              "color": "white"
             }
            },
            "type": "table"
           }
          ]
         },
         "layout": {
          "annotationdefaults": {
           "arrowcolor": "#2a3f5f",
           "arrowhead": 0,
           "arrowwidth": 1
          },
          "autotypenumbers": "strict",
          "coloraxis": {
           "colorbar": {
            "outlinewidth": 0,
            "ticks": ""
           }
          },
          "colorscale": {
           "diverging": [
            [
             0,
             "#8e0152"
            ],
            [
             0.1,
             "#c51b7d"
            ],
            [
             0.2,
             "#de77ae"
            ],
            [
             0.3,
             "#f1b6da"
            ],
            [
             0.4,
             "#fde0ef"
            ],
            [
             0.5,
             "#f7f7f7"
            ],
            [
             0.6,
             "#e6f5d0"
            ],
            [
             0.7,
             "#b8e186"
            ],
            [
             0.8,
             "#7fbc41"
            ],
            [
             0.9,
             "#4d9221"
            ],
            [
             1,
             "#276419"
            ]
           ],
           "sequential": [
            [
             0,
             "#0d0887"
            ],
            [
             0.1111111111111111,
             "#46039f"
            ],
            [
             0.2222222222222222,
             "#7201a8"
            ],
            [
             0.3333333333333333,
             "#9c179e"
            ],
            [
             0.4444444444444444,
             "#bd3786"
            ],
            [
             0.5555555555555556,
             "#d8576b"
            ],
            [
             0.6666666666666666,
             "#ed7953"
            ],
            [
             0.7777777777777778,
             "#fb9f3a"
            ],
            [
             0.8888888888888888,
             "#fdca26"
            ],
            [
             1,
             "#f0f921"
            ]
           ],
           "sequentialminus": [
            [
             0,
             "#0d0887"
            ],
            [
             0.1111111111111111,
             "#46039f"
            ],
            [
             0.2222222222222222,
             "#7201a8"
            ],
            [
             0.3333333333333333,
             "#9c179e"
            ],
            [
             0.4444444444444444,
             "#bd3786"
            ],
            [
             0.5555555555555556,
             "#d8576b"
            ],
            [
             0.6666666666666666,
             "#ed7953"
            ],
            [
             0.7777777777777778,
             "#fb9f3a"
            ],
            [
             0.8888888888888888,
             "#fdca26"
            ],
            [
             1,
             "#f0f921"
            ]
           ]
          },
          "colorway": [
           "#636efa",
           "#EF553B",
           "#00cc96",
           "#ab63fa",
           "#FFA15A",
           "#19d3f3",
           "#FF6692",
           "#B6E880",
           "#FF97FF",
           "#FECB52"
          ],
          "font": {
           "color": "#2a3f5f"
          },
          "geo": {
           "bgcolor": "white",
           "lakecolor": "white",
           "landcolor": "#E5ECF6",
           "showlakes": true,
           "showland": true,
           "subunitcolor": "white"
          },
          "hoverlabel": {
           "align": "left"
          },
          "hovermode": "closest",
          "mapbox": {
           "style": "light"
          },
          "paper_bgcolor": "white",
          "plot_bgcolor": "#E5ECF6",
          "polar": {
           "angularaxis": {
            "gridcolor": "white",
            "linecolor": "white",
            "ticks": ""
           },
           "bgcolor": "#E5ECF6",
           "radialaxis": {
            "gridcolor": "white",
            "linecolor": "white",
            "ticks": ""
           }
          },
          "scene": {
           "xaxis": {
            "backgroundcolor": "#E5ECF6",
            "gridcolor": "white",
            "gridwidth": 2,
            "linecolor": "white",
            "showbackground": true,
            "ticks": "",
            "zerolinecolor": "white"
           },
           "yaxis": {
            "backgroundcolor": "#E5ECF6",
            "gridcolor": "white",
            "gridwidth": 2,
            "linecolor": "white",
            "showbackground": true,
            "ticks": "",
            "zerolinecolor": "white"
           },
           "zaxis": {
            "backgroundcolor": "#E5ECF6",
            "gridcolor": "white",
            "gridwidth": 2,
            "linecolor": "white",
            "showbackground": true,
            "ticks": "",
            "zerolinecolor": "white"
           }
          },
          "shapedefaults": {
           "line": {
            "color": "#2a3f5f"
           }
          },
          "ternary": {
           "aaxis": {
            "gridcolor": "white",
            "linecolor": "white",
            "ticks": ""
           },
           "baxis": {
            "gridcolor": "white",
            "linecolor": "white",
            "ticks": ""
           },
           "bgcolor": "#E5ECF6",
           "caxis": {
            "gridcolor": "white",
            "linecolor": "white",
            "ticks": ""
           }
          },
          "title": {
           "x": 0.05
          },
          "xaxis": {
           "automargin": true,
           "gridcolor": "white",
           "linecolor": "white",
           "ticks": "",
           "title": {
            "standoff": 15
           },
           "zerolinecolor": "white",
           "zerolinewidth": 2
          },
          "yaxis": {
           "automargin": true,
           "gridcolor": "white",
           "linecolor": "white",
           "ticks": "",
           "title": {
            "standoff": 15
           },
           "zerolinecolor": "white",
           "zerolinewidth": 2
          }
         }
        },
        "title": {
         "text": "Community Total Annual Savings"
        },
        "width": 1100,
        "xaxis": {
         "anchor": "y",
         "domain": [
          0,
          0.00007998400319936014
         ],
         "tickangle": 45,
         "title": {
          "text": ""
         },
         "visible": false
        },
        "xaxis2": {
         "anchor": "y2",
         "domain": [
          0.12007998400319936,
          0.2000639872025595
         ],
         "tickangle": 45,
         "title": {
          "text": "Bill<br>Savings<br>usd"
         },
         "visible": true
        },
        "xaxis3": {
         "anchor": "y3",
         "domain": [
          0.32006398720255946,
          0.40004799040191963
         ],
         "tickangle": 45,
         "title": {
          "text": "Site Emission<br>Saving<br>kgCO2e"
         },
         "visible": true
        },
        "xaxis4": {
         "anchor": "y4",
         "domain": [
          0.5200479904019196,
          0.6000319936012798
         ],
         "tickangle": 45,
         "title": {
          "text": "Site Energy<br>Saving<br>MMBtu"
         },
         "visible": true
        },
        "xaxis5": {
         "anchor": "y5",
         "domain": [
          0.7200319936012798,
          0.80001599680064
         ],
         "tickangle": 45,
         "title": {
          "text": "Electricity<br>Saving<br>kwh"
         },
         "visible": true
        },
        "xaxis6": {
         "anchor": "y6",
         "domain": [
          0.9200159968006398,
          1
         ],
         "tickangle": 45,
         "title": {
          "text": "Gas, Propane,<br>Fuel Oil Saving<br>MMBtu"
         },
         "visible": true
        },
        "yaxis": {
         "anchor": "x",
         "domain": [
          0,
          1
         ],
         "visible": true
        },
        "yaxis2": {
         "anchor": "x2",
         "domain": [
          0,
          1
         ],
         "visible": false
        },
        "yaxis3": {
         "anchor": "x3",
         "domain": [
          0,
          1
         ],
         "visible": false
        },
        "yaxis4": {
         "anchor": "x4",
         "domain": [
          0,
          1
         ],
         "visible": false
        },
        "yaxis5": {
         "anchor": "x5",
         "domain": [
          0,
          1
         ],
         "visible": false
        },
        "yaxis6": {
         "anchor": "x6",
         "domain": [
          0,
          1
         ],
         "visible": false
        }
       }
      }
     },
     "metadata": {},
     "output_type": "display_data"
    }
   ],
   "source": [
    "results = figure_total_savings_2(community_results)\n",
    "saving_results[['whole_community_saving_bill_total_usd','whole_community_saving_emission_total_kgCO2e','whole_community_saving_energy_total_mmbtu','whole_community_saving_electricity_total_kwh','whole_community_saving_natural_gas_fuel_oil_propane_total_mmbtu']] = results"
   ]
  },
  {
   "cell_type": "code",
   "execution_count": 16,
   "id": "e7ef5df2",
   "metadata": {},
   "outputs": [
    {
     "data": {
      "application/vnd.plotly.v1+json": {
       "config": {
        "plotlyServerURL": "https://plot.ly"
       },
       "data": [
        {
         "cliponaxis": false,
         "marker": {
          "color": "rgb(255, 255, 255)",
          "line": {
           "color": "rgb(255, 255, 255)"
          }
         },
         "orientation": "h",
         "textangle": 0,
         "textfont": {
          "size": 10
         },
         "textposition": "outside",
         "type": "bar",
         "x": [
          0,
          0,
          0,
          0,
          0,
          0,
          0,
          0,
          0,
          0,
          0,
          0,
          0,
          0,
          0,
          0,
          0,
          0,
          0,
          0,
          0,
          0,
          0,
          0,
          0,
          0,
          0,
          0,
          0,
          0,
          0,
          0,
          0,
          0,
          0,
          0,
          0,
          0,
          0,
          0,
          0,
          0,
          0,
          0,
          0,
          0,
          0,
          0,
          0,
          0,
          0,
          0,
          0,
          0,
          0,
          0,
          0,
          0,
          0,
          0,
          0,
          0,
          0,
          0,
          0,
          0,
          0,
          0,
          0,
          0,
          0,
          0,
          0,
          0,
          0,
          0,
          0,
          0,
          0,
          0,
          0,
          0,
          0,
          0,
          0,
          0,
          0,
          0,
          0,
          0,
          0,
          0,
          0,
          0,
          0,
          0,
          0,
          0,
          0,
          0,
          0,
          0,
          0,
          0,
          0,
          0,
          0,
          0,
          0,
          0,
          0,
          0,
          0,
          0,
          0,
          0,
          0,
          0,
          0,
          0,
          0,
          0,
          0,
          0,
          0,
          0,
          0,
          0,
          0,
          0,
          0,
          0,
          0,
          0,
          0,
          0,
          0,
          0,
          0,
          0,
          0,
          0,
          0,
          0,
          0,
          0,
          0,
          0,
          0,
          0,
          0,
          0,
          0,
          0,
          0,
          0,
          0,
          0,
          0,
          0,
          0,
          0,
          0,
          0,
          0,
          0,
          0,
          0,
          0,
          0,
          0,
          0,
          0,
          0,
          0,
          0
         ],
         "xaxis": "x",
         "y": [
          "Mininum Efficiency Whole Home Electrification",
          "Electric Clothes Dryer",
          "Electric Cooking",
          "Induction Cooking",
          "Heat Pump Clothes Dryer",
          "Heat Pump Water Heater",
          "Mininum Efficiency Heat Pump with Existing Heat Backup",
          "Mininum Efficiency Heat Pump with Electric Heat Backup",
          "Basic Enclosure",
          "Enhanced Enclosure",
          "High Efficiency Whole Home Electrification",
          "Basic Enclosure + HPWH + High Efficiency HP/Electric Backup",
          "Basic Enclosure + High Efficiency Whole Home Electrification",
          "Enhanced Enclosure + HPWH + High Efficiency HP/Electric Backup",
          "Enhanced Enclosure + High Efficiency Whole Home Electrification",
          "High Efficiency Heat Pump with Electric Heat Backup"
         ],
         "yaxis": "y"
        },
        {
         "cliponaxis": false,
         "marker": {
          "color": "rgb(0, 121, 61)",
          "line": {
           "color": "rgb(0, 121, 61)"
          }
         },
         "orientation": "h",
         "text": [
          -2182246.3650182523,
          -8529.422120033068,
          -3507.6173241452866,
          44927.518714800884,
          304773.2660628713,
          1475241.0898088973,
          3738670.0920801954,
          4152850.167611003,
          4910457.587500244,
          5684896.489927825,
          6947224.467164925,
          8394765.652745299,
          8590117.104245536,
          8628945.742760003,
          8824323.291500937,
          9359288.369550917
         ],
         "textangle": 0,
         "textfont": {
          "size": 10
         },
         "textposition": "outside",
         "texttemplate": "%{text:.3s}",
         "type": "bar",
         "x": [
          -2182246.3650182523,
          -8529.422120033068,
          -3507.6173241452866,
          44927.518714800884,
          304773.2660628713,
          1475241.0898088973,
          3738670.0920801954,
          4152850.167611003,
          4910457.587500244,
          5684896.489927825,
          6947224.467164925,
          8394765.652745299,
          8590117.104245536,
          8628945.742760003,
          8824323.291500937,
          9359288.369550917
         ],
         "xaxis": "x2",
         "y": [
          "Mininum Efficiency Whole Home Electrification",
          "Electric Clothes Dryer",
          "Electric Cooking",
          "Induction Cooking",
          "Heat Pump Clothes Dryer",
          "Heat Pump Water Heater",
          "Mininum Efficiency Heat Pump with Existing Heat Backup",
          "Mininum Efficiency Heat Pump with Electric Heat Backup",
          "Basic Enclosure",
          "Enhanced Enclosure",
          "High Efficiency Whole Home Electrification",
          "Basic Enclosure + HPWH + High Efficiency HP/Electric Backup",
          "Basic Enclosure + High Efficiency Whole Home Electrification",
          "Enhanced Enclosure + HPWH + High Efficiency HP/Electric Backup",
          "Enhanced Enclosure + High Efficiency Whole Home Electrification",
          "High Efficiency Heat Pump with Electric Heat Backup"
         ],
         "yaxis": "y2"
        },
        {
         "cliponaxis": false,
         "marker": {
          "color": "rgb(0, 121, 61)",
          "line": {
           "color": "rgb(0, 121, 61)"
          }
         },
         "orientation": "h",
         "text": [
          13741062.843165243,
          9733.240020114155,
          307758.32867574174,
          417483.9784088161,
          658063.9491377809,
          4842915.236298059,
          13432912.073972806,
          16756994.545025315,
          14889738.032951057,
          17394154.288633905,
          37614079.787796766,
          40687252.74006965,
          41762800.66761625,
          41346875.484037,
          42422423.411583595,
          29879646.70498943
         ],
         "textangle": 0,
         "textfont": {
          "size": 10
         },
         "textposition": "outside",
         "texttemplate": "%{text:.3s}",
         "type": "bar",
         "x": [
          13741062.843165243,
          9733.240020114155,
          307758.32867574174,
          417483.9784088161,
          658063.9491377809,
          4842915.236298059,
          13432912.073972806,
          16756994.545025315,
          14889738.032951057,
          17394154.288633905,
          37614079.787796766,
          40687252.74006965,
          41762800.66761625,
          41346875.484037,
          42422423.411583595,
          29879646.70498943
         ],
         "xaxis": "x3",
         "y": [
          "Mininum Efficiency Whole Home Electrification",
          "Electric Clothes Dryer",
          "Electric Cooking",
          "Induction Cooking",
          "Heat Pump Clothes Dryer",
          "Heat Pump Water Heater",
          "Mininum Efficiency Heat Pump with Existing Heat Backup",
          "Mininum Efficiency Heat Pump with Electric Heat Backup",
          "Basic Enclosure",
          "Enhanced Enclosure",
          "High Efficiency Whole Home Electrification",
          "Basic Enclosure + HPWH + High Efficiency HP/Electric Backup",
          "Basic Enclosure + High Efficiency Whole Home Electrification",
          "Enhanced Enclosure + HPWH + High Efficiency HP/Electric Backup",
          "Enhanced Enclosure + High Efficiency Whole Home Electrification",
          "High Efficiency Heat Pump with Electric Heat Backup"
         ],
         "yaxis": "y3"
        },
        {
         "cliponaxis": false,
         "marker": {
          "color": "rgb(0, 121, 61)",
          "line": {
           "color": "rgb(0, 121, 61)"
          }
         },
         "orientation": "h",
         "text": [
          246899.45894477126,
          206.81478794642882,
          5082.194845482177,
          6472.652104252045,
          9181.1388030484,
          70670.79540270798,
          177512.64457452364,
          252703.78796339277,
          195872.43757918238,
          227857.25160743098,
          512051.1660300889,
          543556.268068612,
          559210.0589759124,
          550242.2109621232,
          565896.0018694237,
          401525.3785065398
         ],
         "textangle": 0,
         "textfont": {
          "size": 10
         },
         "textposition": "outside",
         "texttemplate": "%{text:.3s}",
         "type": "bar",
         "x": [
          246899.45894477126,
          206.81478794642882,
          5082.194845482177,
          6472.652104252045,
          9181.1388030484,
          70670.79540270798,
          177512.64457452364,
          252703.78796339277,
          195872.43757918238,
          227857.25160743098,
          512051.1660300889,
          543556.268068612,
          559210.0589759124,
          550242.2109621232,
          565896.0018694237,
          401525.3785065398
         ],
         "xaxis": "x4",
         "y": [
          "Mininum Efficiency Whole Home Electrification",
          "Electric Clothes Dryer",
          "Electric Cooking",
          "Induction Cooking",
          "Heat Pump Clothes Dryer",
          "Heat Pump Water Heater",
          "Mininum Efficiency Heat Pump with Existing Heat Backup",
          "Mininum Efficiency Heat Pump with Electric Heat Backup",
          "Basic Enclosure",
          "Enhanced Enclosure",
          "High Efficiency Whole Home Electrification",
          "Basic Enclosure + HPWH + High Efficiency HP/Electric Backup",
          "Basic Enclosure + High Efficiency Whole Home Electrification",
          "Enhanced Enclosure + HPWH + High Efficiency HP/Electric Backup",
          "Enhanced Enclosure + High Efficiency Whole Home Electrification",
          "High Efficiency Heat Pump with Electric Heat Backup"
         ],
         "yaxis": "y4"
        }
       ],
       "layout": {
        "autosize": false,
        "font": {
         "size": 10
        },
        "height": 500,
        "plot_bgcolor": "rgba(0, 0, 0, 0)",
        "showlegend": false,
        "template": {
         "data": {
          "bar": [
           {
            "error_x": {
             "color": "#2a3f5f"
            },
            "error_y": {
             "color": "#2a3f5f"
            },
            "marker": {
             "line": {
              "color": "#E5ECF6",
              "width": 0.5
             },
             "pattern": {
              "fillmode": "overlay",
              "size": 10,
              "solidity": 0.2
             }
            },
            "type": "bar"
           }
          ],
          "barpolar": [
           {
            "marker": {
             "line": {
              "color": "#E5ECF6",
              "width": 0.5
             },
             "pattern": {
              "fillmode": "overlay",
              "size": 10,
              "solidity": 0.2
             }
            },
            "type": "barpolar"
           }
          ],
          "carpet": [
           {
            "aaxis": {
             "endlinecolor": "#2a3f5f",
             "gridcolor": "white",
             "linecolor": "white",
             "minorgridcolor": "white",
             "startlinecolor": "#2a3f5f"
            },
            "baxis": {
             "endlinecolor": "#2a3f5f",
             "gridcolor": "white",
             "linecolor": "white",
             "minorgridcolor": "white",
             "startlinecolor": "#2a3f5f"
            },
            "type": "carpet"
           }
          ],
          "choropleth": [
           {
            "colorbar": {
             "outlinewidth": 0,
             "ticks": ""
            },
            "type": "choropleth"
           }
          ],
          "contour": [
           {
            "colorbar": {
             "outlinewidth": 0,
             "ticks": ""
            },
            "colorscale": [
             [
              0,
              "#0d0887"
             ],
             [
              0.1111111111111111,
              "#46039f"
             ],
             [
              0.2222222222222222,
              "#7201a8"
             ],
             [
              0.3333333333333333,
              "#9c179e"
             ],
             [
              0.4444444444444444,
              "#bd3786"
             ],
             [
              0.5555555555555556,
              "#d8576b"
             ],
             [
              0.6666666666666666,
              "#ed7953"
             ],
             [
              0.7777777777777778,
              "#fb9f3a"
             ],
             [
              0.8888888888888888,
              "#fdca26"
             ],
             [
              1,
              "#f0f921"
             ]
            ],
            "type": "contour"
           }
          ],
          "contourcarpet": [
           {
            "colorbar": {
             "outlinewidth": 0,
             "ticks": ""
            },
            "type": "contourcarpet"
           }
          ],
          "heatmap": [
           {
            "colorbar": {
             "outlinewidth": 0,
             "ticks": ""
            },
            "colorscale": [
             [
              0,
              "#0d0887"
             ],
             [
              0.1111111111111111,
              "#46039f"
             ],
             [
              0.2222222222222222,
              "#7201a8"
             ],
             [
              0.3333333333333333,
              "#9c179e"
             ],
             [
              0.4444444444444444,
              "#bd3786"
             ],
             [
              0.5555555555555556,
              "#d8576b"
             ],
             [
              0.6666666666666666,
              "#ed7953"
             ],
             [
              0.7777777777777778,
              "#fb9f3a"
             ],
             [
              0.8888888888888888,
              "#fdca26"
             ],
             [
              1,
              "#f0f921"
             ]
            ],
            "type": "heatmap"
           }
          ],
          "heatmapgl": [
           {
            "colorbar": {
             "outlinewidth": 0,
             "ticks": ""
            },
            "colorscale": [
             [
              0,
              "#0d0887"
             ],
             [
              0.1111111111111111,
              "#46039f"
             ],
             [
              0.2222222222222222,
              "#7201a8"
             ],
             [
              0.3333333333333333,
              "#9c179e"
             ],
             [
              0.4444444444444444,
              "#bd3786"
             ],
             [
              0.5555555555555556,
              "#d8576b"
             ],
             [
              0.6666666666666666,
              "#ed7953"
             ],
             [
              0.7777777777777778,
              "#fb9f3a"
             ],
             [
              0.8888888888888888,
              "#fdca26"
             ],
             [
              1,
              "#f0f921"
             ]
            ],
            "type": "heatmapgl"
           }
          ],
          "histogram": [
           {
            "marker": {
             "pattern": {
              "fillmode": "overlay",
              "size": 10,
              "solidity": 0.2
             }
            },
            "type": "histogram"
           }
          ],
          "histogram2d": [
           {
            "colorbar": {
             "outlinewidth": 0,
             "ticks": ""
            },
            "colorscale": [
             [
              0,
              "#0d0887"
             ],
             [
              0.1111111111111111,
              "#46039f"
             ],
             [
              0.2222222222222222,
              "#7201a8"
             ],
             [
              0.3333333333333333,
              "#9c179e"
             ],
             [
              0.4444444444444444,
              "#bd3786"
             ],
             [
              0.5555555555555556,
              "#d8576b"
             ],
             [
              0.6666666666666666,
              "#ed7953"
             ],
             [
              0.7777777777777778,
              "#fb9f3a"
             ],
             [
              0.8888888888888888,
              "#fdca26"
             ],
             [
              1,
              "#f0f921"
             ]
            ],
            "type": "histogram2d"
           }
          ],
          "histogram2dcontour": [
           {
            "colorbar": {
             "outlinewidth": 0,
             "ticks": ""
            },
            "colorscale": [
             [
              0,
              "#0d0887"
             ],
             [
              0.1111111111111111,
              "#46039f"
             ],
             [
              0.2222222222222222,
              "#7201a8"
             ],
             [
              0.3333333333333333,
              "#9c179e"
             ],
             [
              0.4444444444444444,
              "#bd3786"
             ],
             [
              0.5555555555555556,
              "#d8576b"
             ],
             [
              0.6666666666666666,
              "#ed7953"
             ],
             [
              0.7777777777777778,
              "#fb9f3a"
             ],
             [
              0.8888888888888888,
              "#fdca26"
             ],
             [
              1,
              "#f0f921"
             ]
            ],
            "type": "histogram2dcontour"
           }
          ],
          "mesh3d": [
           {
            "colorbar": {
             "outlinewidth": 0,
             "ticks": ""
            },
            "type": "mesh3d"
           }
          ],
          "parcoords": [
           {
            "line": {
             "colorbar": {
              "outlinewidth": 0,
              "ticks": ""
             }
            },
            "type": "parcoords"
           }
          ],
          "pie": [
           {
            "automargin": true,
            "type": "pie"
           }
          ],
          "scatter": [
           {
            "fillpattern": {
             "fillmode": "overlay",
             "size": 10,
             "solidity": 0.2
            },
            "type": "scatter"
           }
          ],
          "scatter3d": [
           {
            "line": {
             "colorbar": {
              "outlinewidth": 0,
              "ticks": ""
             }
            },
            "marker": {
             "colorbar": {
              "outlinewidth": 0,
              "ticks": ""
             }
            },
            "type": "scatter3d"
           }
          ],
          "scattercarpet": [
           {
            "marker": {
             "colorbar": {
              "outlinewidth": 0,
              "ticks": ""
             }
            },
            "type": "scattercarpet"
           }
          ],
          "scattergeo": [
           {
            "marker": {
             "colorbar": {
              "outlinewidth": 0,
              "ticks": ""
             }
            },
            "type": "scattergeo"
           }
          ],
          "scattergl": [
           {
            "marker": {
             "colorbar": {
              "outlinewidth": 0,
              "ticks": ""
             }
            },
            "type": "scattergl"
           }
          ],
          "scattermapbox": [
           {
            "marker": {
             "colorbar": {
              "outlinewidth": 0,
              "ticks": ""
             }
            },
            "type": "scattermapbox"
           }
          ],
          "scatterpolar": [
           {
            "marker": {
             "colorbar": {
              "outlinewidth": 0,
              "ticks": ""
             }
            },
            "type": "scatterpolar"
           }
          ],
          "scatterpolargl": [
           {
            "marker": {
             "colorbar": {
              "outlinewidth": 0,
              "ticks": ""
             }
            },
            "type": "scatterpolargl"
           }
          ],
          "scatterternary": [
           {
            "marker": {
             "colorbar": {
              "outlinewidth": 0,
              "ticks": ""
             }
            },
            "type": "scatterternary"
           }
          ],
          "surface": [
           {
            "colorbar": {
             "outlinewidth": 0,
             "ticks": ""
            },
            "colorscale": [
             [
              0,
              "#0d0887"
             ],
             [
              0.1111111111111111,
              "#46039f"
             ],
             [
              0.2222222222222222,
              "#7201a8"
             ],
             [
              0.3333333333333333,
              "#9c179e"
             ],
             [
              0.4444444444444444,
              "#bd3786"
             ],
             [
              0.5555555555555556,
              "#d8576b"
             ],
             [
              0.6666666666666666,
              "#ed7953"
             ],
             [
              0.7777777777777778,
              "#fb9f3a"
             ],
             [
              0.8888888888888888,
              "#fdca26"
             ],
             [
              1,
              "#f0f921"
             ]
            ],
            "type": "surface"
           }
          ],
          "table": [
           {
            "cells": {
             "fill": {
              "color": "#EBF0F8"
             },
             "line": {
              "color": "white"
             }
            },
            "header": {
             "fill": {
              "color": "#C8D4E3"
             },
             "line": {
              "color": "white"
             }
            },
            "type": "table"
           }
          ]
         },
         "layout": {
          "annotationdefaults": {
           "arrowcolor": "#2a3f5f",
           "arrowhead": 0,
           "arrowwidth": 1
          },
          "autotypenumbers": "strict",
          "coloraxis": {
           "colorbar": {
            "outlinewidth": 0,
            "ticks": ""
           }
          },
          "colorscale": {
           "diverging": [
            [
             0,
             "#8e0152"
            ],
            [
             0.1,
             "#c51b7d"
            ],
            [
             0.2,
             "#de77ae"
            ],
            [
             0.3,
             "#f1b6da"
            ],
            [
             0.4,
             "#fde0ef"
            ],
            [
             0.5,
             "#f7f7f7"
            ],
            [
             0.6,
             "#e6f5d0"
            ],
            [
             0.7,
             "#b8e186"
            ],
            [
             0.8,
             "#7fbc41"
            ],
            [
             0.9,
             "#4d9221"
            ],
            [
             1,
             "#276419"
            ]
           ],
           "sequential": [
            [
             0,
             "#0d0887"
            ],
            [
             0.1111111111111111,
             "#46039f"
            ],
            [
             0.2222222222222222,
             "#7201a8"
            ],
            [
             0.3333333333333333,
             "#9c179e"
            ],
            [
             0.4444444444444444,
             "#bd3786"
            ],
            [
             0.5555555555555556,
             "#d8576b"
            ],
            [
             0.6666666666666666,
             "#ed7953"
            ],
            [
             0.7777777777777778,
             "#fb9f3a"
            ],
            [
             0.8888888888888888,
             "#fdca26"
            ],
            [
             1,
             "#f0f921"
            ]
           ],
           "sequentialminus": [
            [
             0,
             "#0d0887"
            ],
            [
             0.1111111111111111,
             "#46039f"
            ],
            [
             0.2222222222222222,
             "#7201a8"
            ],
            [
             0.3333333333333333,
             "#9c179e"
            ],
            [
             0.4444444444444444,
             "#bd3786"
            ],
            [
             0.5555555555555556,
             "#d8576b"
            ],
            [
             0.6666666666666666,
             "#ed7953"
            ],
            [
             0.7777777777777778,
             "#fb9f3a"
            ],
            [
             0.8888888888888888,
             "#fdca26"
            ],
            [
             1,
             "#f0f921"
            ]
           ]
          },
          "colorway": [
           "#636efa",
           "#EF553B",
           "#00cc96",
           "#ab63fa",
           "#FFA15A",
           "#19d3f3",
           "#FF6692",
           "#B6E880",
           "#FF97FF",
           "#FECB52"
          ],
          "font": {
           "color": "#2a3f5f"
          },
          "geo": {
           "bgcolor": "white",
           "lakecolor": "white",
           "landcolor": "#E5ECF6",
           "showlakes": true,
           "showland": true,
           "subunitcolor": "white"
          },
          "hoverlabel": {
           "align": "left"
          },
          "hovermode": "closest",
          "mapbox": {
           "style": "light"
          },
          "paper_bgcolor": "white",
          "plot_bgcolor": "#E5ECF6",
          "polar": {
           "angularaxis": {
            "gridcolor": "white",
            "linecolor": "white",
            "ticks": ""
           },
           "bgcolor": "#E5ECF6",
           "radialaxis": {
            "gridcolor": "white",
            "linecolor": "white",
            "ticks": ""
           }
          },
          "scene": {
           "xaxis": {
            "backgroundcolor": "#E5ECF6",
            "gridcolor": "white",
            "gridwidth": 2,
            "linecolor": "white",
            "showbackground": true,
            "ticks": "",
            "zerolinecolor": "white"
           },
           "yaxis": {
            "backgroundcolor": "#E5ECF6",
            "gridcolor": "white",
            "gridwidth": 2,
            "linecolor": "white",
            "showbackground": true,
            "ticks": "",
            "zerolinecolor": "white"
           },
           "zaxis": {
            "backgroundcolor": "#E5ECF6",
            "gridcolor": "white",
            "gridwidth": 2,
            "linecolor": "white",
            "showbackground": true,
            "ticks": "",
            "zerolinecolor": "white"
           }
          },
          "shapedefaults": {
           "line": {
            "color": "#2a3f5f"
           }
          },
          "ternary": {
           "aaxis": {
            "gridcolor": "white",
            "linecolor": "white",
            "ticks": ""
           },
           "baxis": {
            "gridcolor": "white",
            "linecolor": "white",
            "ticks": ""
           },
           "bgcolor": "#E5ECF6",
           "caxis": {
            "gridcolor": "white",
            "linecolor": "white",
            "ticks": ""
           }
          },
          "title": {
           "x": 0.05
          },
          "xaxis": {
           "automargin": true,
           "gridcolor": "white",
           "linecolor": "white",
           "ticks": "",
           "title": {
            "standoff": 15
           },
           "zerolinecolor": "white",
           "zerolinewidth": 2
          },
          "yaxis": {
           "automargin": true,
           "gridcolor": "white",
           "linecolor": "white",
           "ticks": "",
           "title": {
            "standoff": 15
           },
           "zerolinecolor": "white",
           "zerolinewidth": 2
          }
         }
        },
        "title": {
         "text": "Total Annual Savings for the Whole Community"
        },
        "width": 850,
        "xaxis": {
         "anchor": "y",
         "domain": [
          0,
          0.004635761589403973
         ],
         "tickangle": 45,
         "title": {
          "text": ""
         },
         "visible": false
        },
        "xaxis2": {
         "anchor": "y2",
         "domain": [
          0.10463576158940398,
          0.33642384105960266
         ],
         "tickangle": 45,
         "title": {
          "text": "Bill Savings<br>usd"
         },
         "visible": true
        },
        "xaxis3": {
         "anchor": "y3",
         "domain": [
          0.43642384105960264,
          0.6682119205298013
         ],
         "tickangle": 45,
         "title": {
          "text": "Emission Savings<br>kgCO2e"
         },
         "visible": true
        },
        "xaxis4": {
         "anchor": "y4",
         "domain": [
          0.7682119205298014,
          1
         ],
         "tickangle": 45,
         "title": {
          "text": "Energy Savings<br>MMBtu"
         },
         "visible": true
        },
        "yaxis": {
         "anchor": "x",
         "domain": [
          0,
          1
         ],
         "visible": true
        },
        "yaxis2": {
         "anchor": "x2",
         "domain": [
          0,
          1
         ],
         "visible": false
        },
        "yaxis3": {
         "anchor": "x3",
         "domain": [
          0,
          1
         ],
         "visible": false
        },
        "yaxis4": {
         "anchor": "x4",
         "domain": [
          0,
          1
         ],
         "visible": false
        }
       }
      }
     },
     "metadata": {},
     "output_type": "display_data"
    }
   ],
   "source": [
    "figure_total_savings_3(community_results) "
   ]
  },
  {
   "cell_type": "markdown",
   "id": "e25c8f8e",
   "metadata": {},
   "source": [
    "## 1.3 Annual Savings Per Dwelling Unit"
   ]
  },
  {
   "cell_type": "code",
   "execution_count": 17,
   "id": "9ba37c55",
   "metadata": {},
   "outputs": [
    {
     "name": "stdout",
     "output_type": "stream",
     "text": [
      "sample_weight\n"
     ]
    },
    {
     "data": {
      "text/plain": [
       "upgrade_name\n",
       "Mininum Efficiency Whole Home Electrification                       7450.699007\n",
       "Electric Clothes Dryer                                               551.443449\n",
       "Electric Cooking                                                    3699.568356\n",
       "Induction Cooking                                                  12295.020944\n",
       "Heat Pump Clothes Dryer                                            10690.615578\n",
       "Heat Pump Water Heater                                             12368.694344\n",
       "Mininum Efficiency Heat Pump with Existing Heat Backup             12421.781716\n",
       "Mininum Efficiency Heat Pump with Electric Heat Backup             12433.212256\n",
       "Basic Enclosure                                                    12314.594893\n",
       "Enhanced Enclosure                                                 12340.998249\n",
       "High Efficiency Whole Home Electrification                         12445.000000\n",
       "Basic Enclosure + HPWH + High Efficiency HP/Electric Backup        12445.000000\n",
       "Basic Enclosure + High Efficiency Whole Home Electrification       12445.000000\n",
       "Enhanced Enclosure + HPWH + High Efficiency HP/Electric Backup     12445.000000\n",
       "Enhanced Enclosure + High Efficiency Whole Home Electrification    12445.000000\n",
       "High Efficiency Heat Pump with Electric Heat Backup                12433.212256\n",
       "Name: sample_weight, dtype: float64"
      ]
     },
     "metadata": {},
     "output_type": "display_data"
    },
    {
     "data": {
      "application/vnd.plotly.v1+json": {
       "config": {
        "plotlyServerURL": "https://plot.ly"
       },
       "data": [
        {
         "cliponaxis": false,
         "marker": {
          "color": "rgb(255, 255, 255)",
          "line": {
           "color": "rgb(255, 255, 255)"
          }
         },
         "orientation": "h",
         "textangle": 0,
         "textfont": {
          "size": 10
         },
         "textposition": "outside",
         "type": "bar",
         "x": [
          0,
          0,
          0,
          0,
          0,
          0,
          0,
          0,
          0,
          0,
          0,
          0,
          0,
          0,
          0,
          0,
          0,
          0,
          0,
          0,
          0,
          0,
          0,
          0,
          0,
          0,
          0,
          0,
          0,
          0,
          0,
          0,
          0,
          0,
          0,
          0,
          0,
          0,
          0,
          0,
          0,
          0,
          0,
          0,
          0,
          0,
          0,
          0,
          0,
          0,
          0,
          0,
          0,
          0,
          0,
          0,
          0,
          0,
          0,
          0,
          0,
          0,
          0,
          0,
          0,
          0,
          0,
          0,
          0,
          0,
          0,
          0,
          0,
          0,
          0,
          0,
          0,
          0,
          0,
          0,
          0,
          0,
          0,
          0,
          0,
          0,
          0,
          0,
          0,
          0,
          0,
          0,
          0,
          0,
          0,
          0,
          0,
          0,
          0,
          0,
          0,
          0,
          0,
          0,
          0,
          0,
          0,
          0,
          0,
          0,
          0,
          0,
          0,
          0,
          0,
          0,
          0,
          0,
          0,
          0,
          0,
          0,
          0,
          0,
          0,
          0,
          0,
          0,
          0,
          0,
          0,
          0,
          0,
          0,
          0,
          0,
          0,
          0,
          0,
          0,
          0,
          0,
          0,
          0,
          0,
          0,
          0,
          0,
          0,
          0,
          0,
          0,
          0,
          0,
          0,
          0,
          0,
          0,
          0,
          0,
          0,
          0,
          0,
          0,
          0,
          0,
          0,
          0,
          0,
          0,
          0,
          0,
          0,
          0,
          0,
          0
         ],
         "xaxis": "x",
         "y": [
          "Mininum Efficiency Whole Home Electrification",
          "Electric Clothes Dryer",
          "Electric Cooking",
          "Induction Cooking",
          "Heat Pump Clothes Dryer",
          "Heat Pump Water Heater",
          "Mininum Efficiency Heat Pump with Existing Heat Backup",
          "Mininum Efficiency Heat Pump with Electric Heat Backup",
          "Basic Enclosure",
          "Enhanced Enclosure",
          "High Efficiency Whole Home Electrification",
          "Basic Enclosure + HPWH + High Efficiency HP/Electric Backup",
          "Basic Enclosure + High Efficiency Whole Home Electrification",
          "Enhanced Enclosure + HPWH + High Efficiency HP/Electric Backup",
          "Enhanced Enclosure + High Efficiency Whole Home Electrification",
          "High Efficiency Heat Pump with Electric Heat Backup"
         ],
         "yaxis": "y"
        },
        {
         "cliponaxis": false,
         "marker": {
          "color": "rgb(0, 121, 61)",
          "line": {
           "color": "rgb(0, 121, 61)"
          }
         },
         "orientation": "h",
         "text": [
          -292.89149419321296,
          -15.467446644732329,
          -0.9481152898286888,
          3.654122991577172,
          28.508486142857006,
          119.27217608858815,
          300.9769594597515,
          334.01264951442647,
          398.75104542005,
          460.6512678568678,
          558.2341877995119,
          674.5492690032382,
          690.2464527316623,
          693.3664718971478,
          709.0657526316544,
          752.7651082296601
         ],
         "textangle": 0,
         "textfont": {
          "size": 10
         },
         "textposition": "outside",
         "texttemplate": "%{text:.3s}",
         "type": "bar",
         "x": [
          -292.89149419321296,
          -15.467446644732329,
          -0.9481152898286888,
          3.654122991577172,
          28.508486142857006,
          119.27217608858815,
          300.9769594597515,
          334.01264951442647,
          398.75104542005,
          460.6512678568678,
          558.2341877995119,
          674.5492690032382,
          690.2464527316623,
          693.3664718971478,
          709.0657526316544,
          752.7651082296601
         ],
         "xaxis": "x2",
         "y": [
          "Mininum Efficiency Whole Home Electrification",
          "Electric Clothes Dryer",
          "Electric Cooking",
          "Induction Cooking",
          "Heat Pump Clothes Dryer",
          "Heat Pump Water Heater",
          "Mininum Efficiency Heat Pump with Existing Heat Backup",
          "Mininum Efficiency Heat Pump with Electric Heat Backup",
          "Basic Enclosure",
          "Enhanced Enclosure",
          "High Efficiency Whole Home Electrification",
          "Basic Enclosure + HPWH + High Efficiency HP/Electric Backup",
          "Basic Enclosure + High Efficiency Whole Home Electrification",
          "Enhanced Enclosure + HPWH + High Efficiency HP/Electric Backup",
          "Enhanced Enclosure + High Efficiency Whole Home Electrification",
          "High Efficiency Heat Pump with Electric Heat Backup"
         ],
         "yaxis": "y2"
        },
        {
         "cliponaxis": false,
         "marker": {
          "color": "rgb(0, 121, 61)",
          "line": {
           "color": "rgb(0, 121, 61)"
          }
         },
         "orientation": "h",
         "text": [
          1844.2649246451354,
          17.650477203830246,
          83.1876313818513,
          33.95553210500785,
          61.55529065084771,
          391.5461973206523,
          1081.3997847199716,
          1347.7606751949093,
          1209.113102164558,
          1409.4608829823937,
          3022.4250532580772,
          3269.3654270847455,
          3355.7895273295503,
          3322.368459946726,
          3408.792560191531,
          2403.2121457995654
         ],
         "textangle": 0,
         "textfont": {
          "size": 10
         },
         "textposition": "outside",
         "texttemplate": "%{text:.3s}",
         "type": "bar",
         "x": [
          1844.2649246451354,
          17.650477203830246,
          83.1876313818513,
          33.95553210500785,
          61.55529065084771,
          391.5461973206523,
          1081.3997847199716,
          1347.7606751949093,
          1209.113102164558,
          1409.4608829823937,
          3022.4250532580772,
          3269.3654270847455,
          3355.7895273295503,
          3322.368459946726,
          3408.792560191531,
          2403.2121457995654
         ],
         "xaxis": "x3",
         "y": [
          "Mininum Efficiency Whole Home Electrification",
          "Electric Clothes Dryer",
          "Electric Cooking",
          "Induction Cooking",
          "Heat Pump Clothes Dryer",
          "Heat Pump Water Heater",
          "Mininum Efficiency Heat Pump with Existing Heat Backup",
          "Mininum Efficiency Heat Pump with Electric Heat Backup",
          "Basic Enclosure",
          "Enhanced Enclosure",
          "High Efficiency Whole Home Electrification",
          "Basic Enclosure + HPWH + High Efficiency HP/Electric Backup",
          "Basic Enclosure + High Efficiency Whole Home Electrification",
          "Enhanced Enclosure + HPWH + High Efficiency HP/Electric Backup",
          "Enhanced Enclosure + High Efficiency Whole Home Electrification",
          "High Efficiency Heat Pump with Electric Heat Backup"
         ],
         "yaxis": "y3"
        },
        {
         "cliponaxis": false,
         "marker": {
          "color": "rgb(0, 121, 61)",
          "line": {
           "color": "rgb(0, 121, 61)"
          }
         },
         "orientation": "h",
         "text": [
          33.137757773387364,
          0.37504260580441484,
          1.3737264341013438,
          0.5264449839923144,
          0.8588035680542857,
          5.713682740957461,
          14.29043341986155,
          20.32489937110849,
          15.90571507072783,
          18.463437642059336,
          41.14513186260257,
          43.67667883235131,
          44.934516591073724,
          44.213918116683274,
          45.471755875405684,
          32.29458085635774
         ],
         "textangle": 0,
         "textfont": {
          "size": 10
         },
         "textposition": "outside",
         "texttemplate": "%{text:.3s}",
         "type": "bar",
         "x": [
          33.137757773387364,
          0.37504260580441484,
          1.3737264341013438,
          0.5264449839923144,
          0.8588035680542857,
          5.713682740957461,
          14.29043341986155,
          20.32489937110849,
          15.90571507072783,
          18.463437642059336,
          41.14513186260257,
          43.67667883235131,
          44.934516591073724,
          44.213918116683274,
          45.471755875405684,
          32.29458085635774
         ],
         "xaxis": "x4",
         "y": [
          "Mininum Efficiency Whole Home Electrification",
          "Electric Clothes Dryer",
          "Electric Cooking",
          "Induction Cooking",
          "Heat Pump Clothes Dryer",
          "Heat Pump Water Heater",
          "Mininum Efficiency Heat Pump with Existing Heat Backup",
          "Mininum Efficiency Heat Pump with Electric Heat Backup",
          "Basic Enclosure",
          "Enhanced Enclosure",
          "High Efficiency Whole Home Electrification",
          "Basic Enclosure + HPWH + High Efficiency HP/Electric Backup",
          "Basic Enclosure + High Efficiency Whole Home Electrification",
          "Enhanced Enclosure + HPWH + High Efficiency HP/Electric Backup",
          "Enhanced Enclosure + High Efficiency Whole Home Electrification",
          "High Efficiency Heat Pump with Electric Heat Backup"
         ],
         "yaxis": "y4"
        }
       ],
       "layout": {
        "autosize": false,
        "font": {
         "size": 10
        },
        "height": 500,
        "plot_bgcolor": "rgba(0, 0, 0, 0)",
        "showlegend": false,
        "template": {
         "data": {
          "bar": [
           {
            "error_x": {
             "color": "#2a3f5f"
            },
            "error_y": {
             "color": "#2a3f5f"
            },
            "marker": {
             "line": {
              "color": "#E5ECF6",
              "width": 0.5
             },
             "pattern": {
              "fillmode": "overlay",
              "size": 10,
              "solidity": 0.2
             }
            },
            "type": "bar"
           }
          ],
          "barpolar": [
           {
            "marker": {
             "line": {
              "color": "#E5ECF6",
              "width": 0.5
             },
             "pattern": {
              "fillmode": "overlay",
              "size": 10,
              "solidity": 0.2
             }
            },
            "type": "barpolar"
           }
          ],
          "carpet": [
           {
            "aaxis": {
             "endlinecolor": "#2a3f5f",
             "gridcolor": "white",
             "linecolor": "white",
             "minorgridcolor": "white",
             "startlinecolor": "#2a3f5f"
            },
            "baxis": {
             "endlinecolor": "#2a3f5f",
             "gridcolor": "white",
             "linecolor": "white",
             "minorgridcolor": "white",
             "startlinecolor": "#2a3f5f"
            },
            "type": "carpet"
           }
          ],
          "choropleth": [
           {
            "colorbar": {
             "outlinewidth": 0,
             "ticks": ""
            },
            "type": "choropleth"
           }
          ],
          "contour": [
           {
            "colorbar": {
             "outlinewidth": 0,
             "ticks": ""
            },
            "colorscale": [
             [
              0,
              "#0d0887"
             ],
             [
              0.1111111111111111,
              "#46039f"
             ],
             [
              0.2222222222222222,
              "#7201a8"
             ],
             [
              0.3333333333333333,
              "#9c179e"
             ],
             [
              0.4444444444444444,
              "#bd3786"
             ],
             [
              0.5555555555555556,
              "#d8576b"
             ],
             [
              0.6666666666666666,
              "#ed7953"
             ],
             [
              0.7777777777777778,
              "#fb9f3a"
             ],
             [
              0.8888888888888888,
              "#fdca26"
             ],
             [
              1,
              "#f0f921"
             ]
            ],
            "type": "contour"
           }
          ],
          "contourcarpet": [
           {
            "colorbar": {
             "outlinewidth": 0,
             "ticks": ""
            },
            "type": "contourcarpet"
           }
          ],
          "heatmap": [
           {
            "colorbar": {
             "outlinewidth": 0,
             "ticks": ""
            },
            "colorscale": [
             [
              0,
              "#0d0887"
             ],
             [
              0.1111111111111111,
              "#46039f"
             ],
             [
              0.2222222222222222,
              "#7201a8"
             ],
             [
              0.3333333333333333,
              "#9c179e"
             ],
             [
              0.4444444444444444,
              "#bd3786"
             ],
             [
              0.5555555555555556,
              "#d8576b"
             ],
             [
              0.6666666666666666,
              "#ed7953"
             ],
             [
              0.7777777777777778,
              "#fb9f3a"
             ],
             [
              0.8888888888888888,
              "#fdca26"
             ],
             [
              1,
              "#f0f921"
             ]
            ],
            "type": "heatmap"
           }
          ],
          "heatmapgl": [
           {
            "colorbar": {
             "outlinewidth": 0,
             "ticks": ""
            },
            "colorscale": [
             [
              0,
              "#0d0887"
             ],
             [
              0.1111111111111111,
              "#46039f"
             ],
             [
              0.2222222222222222,
              "#7201a8"
             ],
             [
              0.3333333333333333,
              "#9c179e"
             ],
             [
              0.4444444444444444,
              "#bd3786"
             ],
             [
              0.5555555555555556,
              "#d8576b"
             ],
             [
              0.6666666666666666,
              "#ed7953"
             ],
             [
              0.7777777777777778,
              "#fb9f3a"
             ],
             [
              0.8888888888888888,
              "#fdca26"
             ],
             [
              1,
              "#f0f921"
             ]
            ],
            "type": "heatmapgl"
           }
          ],
          "histogram": [
           {
            "marker": {
             "pattern": {
              "fillmode": "overlay",
              "size": 10,
              "solidity": 0.2
             }
            },
            "type": "histogram"
           }
          ],
          "histogram2d": [
           {
            "colorbar": {
             "outlinewidth": 0,
             "ticks": ""
            },
            "colorscale": [
             [
              0,
              "#0d0887"
             ],
             [
              0.1111111111111111,
              "#46039f"
             ],
             [
              0.2222222222222222,
              "#7201a8"
             ],
             [
              0.3333333333333333,
              "#9c179e"
             ],
             [
              0.4444444444444444,
              "#bd3786"
             ],
             [
              0.5555555555555556,
              "#d8576b"
             ],
             [
              0.6666666666666666,
              "#ed7953"
             ],
             [
              0.7777777777777778,
              "#fb9f3a"
             ],
             [
              0.8888888888888888,
              "#fdca26"
             ],
             [
              1,
              "#f0f921"
             ]
            ],
            "type": "histogram2d"
           }
          ],
          "histogram2dcontour": [
           {
            "colorbar": {
             "outlinewidth": 0,
             "ticks": ""
            },
            "colorscale": [
             [
              0,
              "#0d0887"
             ],
             [
              0.1111111111111111,
              "#46039f"
             ],
             [
              0.2222222222222222,
              "#7201a8"
             ],
             [
              0.3333333333333333,
              "#9c179e"
             ],
             [
              0.4444444444444444,
              "#bd3786"
             ],
             [
              0.5555555555555556,
              "#d8576b"
             ],
             [
              0.6666666666666666,
              "#ed7953"
             ],
             [
              0.7777777777777778,
              "#fb9f3a"
             ],
             [
              0.8888888888888888,
              "#fdca26"
             ],
             [
              1,
              "#f0f921"
             ]
            ],
            "type": "histogram2dcontour"
           }
          ],
          "mesh3d": [
           {
            "colorbar": {
             "outlinewidth": 0,
             "ticks": ""
            },
            "type": "mesh3d"
           }
          ],
          "parcoords": [
           {
            "line": {
             "colorbar": {
              "outlinewidth": 0,
              "ticks": ""
             }
            },
            "type": "parcoords"
           }
          ],
          "pie": [
           {
            "automargin": true,
            "type": "pie"
           }
          ],
          "scatter": [
           {
            "fillpattern": {
             "fillmode": "overlay",
             "size": 10,
             "solidity": 0.2
            },
            "type": "scatter"
           }
          ],
          "scatter3d": [
           {
            "line": {
             "colorbar": {
              "outlinewidth": 0,
              "ticks": ""
             }
            },
            "marker": {
             "colorbar": {
              "outlinewidth": 0,
              "ticks": ""
             }
            },
            "type": "scatter3d"
           }
          ],
          "scattercarpet": [
           {
            "marker": {
             "colorbar": {
              "outlinewidth": 0,
              "ticks": ""
             }
            },
            "type": "scattercarpet"
           }
          ],
          "scattergeo": [
           {
            "marker": {
             "colorbar": {
              "outlinewidth": 0,
              "ticks": ""
             }
            },
            "type": "scattergeo"
           }
          ],
          "scattergl": [
           {
            "marker": {
             "colorbar": {
              "outlinewidth": 0,
              "ticks": ""
             }
            },
            "type": "scattergl"
           }
          ],
          "scattermapbox": [
           {
            "marker": {
             "colorbar": {
              "outlinewidth": 0,
              "ticks": ""
             }
            },
            "type": "scattermapbox"
           }
          ],
          "scatterpolar": [
           {
            "marker": {
             "colorbar": {
              "outlinewidth": 0,
              "ticks": ""
             }
            },
            "type": "scatterpolar"
           }
          ],
          "scatterpolargl": [
           {
            "marker": {
             "colorbar": {
              "outlinewidth": 0,
              "ticks": ""
             }
            },
            "type": "scatterpolargl"
           }
          ],
          "scatterternary": [
           {
            "marker": {
             "colorbar": {
              "outlinewidth": 0,
              "ticks": ""
             }
            },
            "type": "scatterternary"
           }
          ],
          "surface": [
           {
            "colorbar": {
             "outlinewidth": 0,
             "ticks": ""
            },
            "colorscale": [
             [
              0,
              "#0d0887"
             ],
             [
              0.1111111111111111,
              "#46039f"
             ],
             [
              0.2222222222222222,
              "#7201a8"
             ],
             [
              0.3333333333333333,
              "#9c179e"
             ],
             [
              0.4444444444444444,
              "#bd3786"
             ],
             [
              0.5555555555555556,
              "#d8576b"
             ],
             [
              0.6666666666666666,
              "#ed7953"
             ],
             [
              0.7777777777777778,
              "#fb9f3a"
             ],
             [
              0.8888888888888888,
              "#fdca26"
             ],
             [
              1,
              "#f0f921"
             ]
            ],
            "type": "surface"
           }
          ],
          "table": [
           {
            "cells": {
             "fill": {
              "color": "#EBF0F8"
             },
             "line": {
              "color": "white"
             }
            },
            "header": {
             "fill": {
              "color": "#C8D4E3"
             },
             "line": {
              "color": "white"
             }
            },
            "type": "table"
           }
          ]
         },
         "layout": {
          "annotationdefaults": {
           "arrowcolor": "#2a3f5f",
           "arrowhead": 0,
           "arrowwidth": 1
          },
          "autotypenumbers": "strict",
          "coloraxis": {
           "colorbar": {
            "outlinewidth": 0,
            "ticks": ""
           }
          },
          "colorscale": {
           "diverging": [
            [
             0,
             "#8e0152"
            ],
            [
             0.1,
             "#c51b7d"
            ],
            [
             0.2,
             "#de77ae"
            ],
            [
             0.3,
             "#f1b6da"
            ],
            [
             0.4,
             "#fde0ef"
            ],
            [
             0.5,
             "#f7f7f7"
            ],
            [
             0.6,
             "#e6f5d0"
            ],
            [
             0.7,
             "#b8e186"
            ],
            [
             0.8,
             "#7fbc41"
            ],
            [
             0.9,
             "#4d9221"
            ],
            [
             1,
             "#276419"
            ]
           ],
           "sequential": [
            [
             0,
             "#0d0887"
            ],
            [
             0.1111111111111111,
             "#46039f"
            ],
            [
             0.2222222222222222,
             "#7201a8"
            ],
            [
             0.3333333333333333,
             "#9c179e"
            ],
            [
             0.4444444444444444,
             "#bd3786"
            ],
            [
             0.5555555555555556,
             "#d8576b"
            ],
            [
             0.6666666666666666,
             "#ed7953"
            ],
            [
             0.7777777777777778,
             "#fb9f3a"
            ],
            [
             0.8888888888888888,
             "#fdca26"
            ],
            [
             1,
             "#f0f921"
            ]
           ],
           "sequentialminus": [
            [
             0,
             "#0d0887"
            ],
            [
             0.1111111111111111,
             "#46039f"
            ],
            [
             0.2222222222222222,
             "#7201a8"
            ],
            [
             0.3333333333333333,
             "#9c179e"
            ],
            [
             0.4444444444444444,
             "#bd3786"
            ],
            [
             0.5555555555555556,
             "#d8576b"
            ],
            [
             0.6666666666666666,
             "#ed7953"
            ],
            [
             0.7777777777777778,
             "#fb9f3a"
            ],
            [
             0.8888888888888888,
             "#fdca26"
            ],
            [
             1,
             "#f0f921"
            ]
           ]
          },
          "colorway": [
           "#636efa",
           "#EF553B",
           "#00cc96",
           "#ab63fa",
           "#FFA15A",
           "#19d3f3",
           "#FF6692",
           "#B6E880",
           "#FF97FF",
           "#FECB52"
          ],
          "font": {
           "color": "#2a3f5f"
          },
          "geo": {
           "bgcolor": "white",
           "lakecolor": "white",
           "landcolor": "#E5ECF6",
           "showlakes": true,
           "showland": true,
           "subunitcolor": "white"
          },
          "hoverlabel": {
           "align": "left"
          },
          "hovermode": "closest",
          "mapbox": {
           "style": "light"
          },
          "paper_bgcolor": "white",
          "plot_bgcolor": "#E5ECF6",
          "polar": {
           "angularaxis": {
            "gridcolor": "white",
            "linecolor": "white",
            "ticks": ""
           },
           "bgcolor": "#E5ECF6",
           "radialaxis": {
            "gridcolor": "white",
            "linecolor": "white",
            "ticks": ""
           }
          },
          "scene": {
           "xaxis": {
            "backgroundcolor": "#E5ECF6",
            "gridcolor": "white",
            "gridwidth": 2,
            "linecolor": "white",
            "showbackground": true,
            "ticks": "",
            "zerolinecolor": "white"
           },
           "yaxis": {
            "backgroundcolor": "#E5ECF6",
            "gridcolor": "white",
            "gridwidth": 2,
            "linecolor": "white",
            "showbackground": true,
            "ticks": "",
            "zerolinecolor": "white"
           },
           "zaxis": {
            "backgroundcolor": "#E5ECF6",
            "gridcolor": "white",
            "gridwidth": 2,
            "linecolor": "white",
            "showbackground": true,
            "ticks": "",
            "zerolinecolor": "white"
           }
          },
          "shapedefaults": {
           "line": {
            "color": "#2a3f5f"
           }
          },
          "ternary": {
           "aaxis": {
            "gridcolor": "white",
            "linecolor": "white",
            "ticks": ""
           },
           "baxis": {
            "gridcolor": "white",
            "linecolor": "white",
            "ticks": ""
           },
           "bgcolor": "#E5ECF6",
           "caxis": {
            "gridcolor": "white",
            "linecolor": "white",
            "ticks": ""
           }
          },
          "title": {
           "x": 0.05
          },
          "xaxis": {
           "automargin": true,
           "gridcolor": "white",
           "linecolor": "white",
           "ticks": "",
           "title": {
            "standoff": 15
           },
           "zerolinecolor": "white",
           "zerolinewidth": 2
          },
          "yaxis": {
           "automargin": true,
           "gridcolor": "white",
           "linecolor": "white",
           "ticks": "",
           "title": {
            "standoff": 15
           },
           "zerolinecolor": "white",
           "zerolinewidth": 2
          }
         }
        },
        "title": {
         "text": "Annual Savings Per Dwelling Unit"
        },
        "width": 850,
        "xaxis": {
         "anchor": "y",
         "domain": [
          0,
          0.004635761589403973
         ],
         "tickangle": 45,
         "title": {
          "text": ""
         },
         "visible": false
        },
        "xaxis2": {
         "anchor": "y2",
         "domain": [
          0.10463576158940398,
          0.33642384105960266
         ],
         "tickangle": 45,
         "title": {
          "text": "Bill Savings<br>usd"
         },
         "visible": true
        },
        "xaxis3": {
         "anchor": "y3",
         "domain": [
          0.43642384105960264,
          0.6682119205298013
         ],
         "tickangle": 45,
         "title": {
          "text": "Emission Savings<br>kgCO2e"
         },
         "visible": true
        },
        "xaxis4": {
         "anchor": "y4",
         "domain": [
          0.7682119205298014,
          1
         ],
         "tickangle": 45,
         "title": {
          "text": "Energy Savings<br>MMBtu"
         },
         "visible": true
        },
        "yaxis": {
         "anchor": "x",
         "domain": [
          0,
          1
         ],
         "visible": true
        },
        "yaxis2": {
         "anchor": "x2",
         "domain": [
          0,
          1
         ],
         "visible": false
        },
        "yaxis3": {
         "anchor": "x3",
         "domain": [
          0,
          1
         ],
         "visible": false
        },
        "yaxis4": {
         "anchor": "x4",
         "domain": [
          0,
          1
         ],
         "visible": false
        }
       }
      }
     },
     "metadata": {},
     "output_type": "display_data"
    }
   ],
   "source": [
    "results = figure_mean_savings(community_results) \n",
    "saving_results[['whole_community_saving_bill_mean_usd','whole_community_saving_emission_mean_kgCO2e','whole_community_saving_energy_mean_mmbtu']] = results"
   ]
  },
  {
   "cell_type": "code",
   "execution_count": 18,
   "id": "56acc7f3",
   "metadata": {},
   "outputs": [
    {
     "name": "stdout",
     "output_type": "stream",
     "text": [
      "Community summary:\n"
     ]
    },
    {
     "data": {
      "text/html": [
       "<div>\n",
       "<style scoped>\n",
       "    .dataframe tbody tr th:only-of-type {\n",
       "        vertical-align: middle;\n",
       "    }\n",
       "\n",
       "    .dataframe tbody tr th {\n",
       "        vertical-align: top;\n",
       "    }\n",
       "\n",
       "    .dataframe thead th {\n",
       "        text-align: right;\n",
       "    }\n",
       "</style>\n",
       "<table border=\"1\" class=\"dataframe\">\n",
       "  <thead>\n",
       "    <tr style=\"text-align: right;\">\n",
       "      <th></th>\n",
       "      <th>n_samples</th>\n",
       "      <th>n_represented</th>\n",
       "      <th>saving_cbill.total_usd wt_mean</th>\n",
       "      <th>saving_cbill.total_usd wt_p0.1</th>\n",
       "      <th>saving_cbill.total_usd wt_p0.25</th>\n",
       "      <th>saving_cbill.total_usd wt_p0.75</th>\n",
       "      <th>saving_cbill.total_usd wt_p0.9</th>\n",
       "    </tr>\n",
       "    <tr>\n",
       "      <th>upgrade_name</th>\n",
       "      <th></th>\n",
       "      <th></th>\n",
       "      <th></th>\n",
       "      <th></th>\n",
       "      <th></th>\n",
       "      <th></th>\n",
       "      <th></th>\n",
       "    </tr>\n",
       "  </thead>\n",
       "  <tbody>\n",
       "    <tr>\n",
       "      <th>High Efficiency Heat Pump with Electric Heat Backup</th>\n",
       "      <td>1155</td>\n",
       "      <td>12433.212256</td>\n",
       "      <td>752.765108</td>\n",
       "      <td>165.765002</td>\n",
       "      <td>329.700135</td>\n",
       "      <td>1048.324478</td>\n",
       "      <td>1479.985052</td>\n",
       "    </tr>\n",
       "    <tr>\n",
       "      <th>Enhanced Enclosure + High Efficiency Whole Home Electrification</th>\n",
       "      <td>1158</td>\n",
       "      <td>12445.000000</td>\n",
       "      <td>709.065753</td>\n",
       "      <td>49.056577</td>\n",
       "      <td>253.390977</td>\n",
       "      <td>970.540442</td>\n",
       "      <td>1728.640656</td>\n",
       "    </tr>\n",
       "    <tr>\n",
       "      <th>Enhanced Enclosure + HPWH + High Efficiency HP/Electric Backup</th>\n",
       "      <td>1158</td>\n",
       "      <td>12445.000000</td>\n",
       "      <td>693.366472</td>\n",
       "      <td>49.049807</td>\n",
       "      <td>239.756446</td>\n",
       "      <td>949.397552</td>\n",
       "      <td>1687.559404</td>\n",
       "    </tr>\n",
       "    <tr>\n",
       "      <th>Basic Enclosure + High Efficiency Whole Home Electrification</th>\n",
       "      <td>1158</td>\n",
       "      <td>12445.000000</td>\n",
       "      <td>690.246453</td>\n",
       "      <td>29.510412</td>\n",
       "      <td>240.188923</td>\n",
       "      <td>942.629840</td>\n",
       "      <td>1706.959359</td>\n",
       "    </tr>\n",
       "    <tr>\n",
       "      <th>Basic Enclosure + HPWH + High Efficiency HP/Electric Backup</th>\n",
       "      <td>1158</td>\n",
       "      <td>12445.000000</td>\n",
       "      <td>674.549269</td>\n",
       "      <td>30.399365</td>\n",
       "      <td>236.599136</td>\n",
       "      <td>937.081554</td>\n",
       "      <td>1680.904171</td>\n",
       "    </tr>\n",
       "    <tr>\n",
       "      <th>High Efficiency Whole Home Electrification</th>\n",
       "      <td>1158</td>\n",
       "      <td>12445.000000</td>\n",
       "      <td>558.234188</td>\n",
       "      <td>-88.540531</td>\n",
       "      <td>138.257766</td>\n",
       "      <td>854.303992</td>\n",
       "      <td>1450.784894</td>\n",
       "    </tr>\n",
       "    <tr>\n",
       "      <th>Enhanced Enclosure</th>\n",
       "      <td>1148</td>\n",
       "      <td>12340.998249</td>\n",
       "      <td>460.651268</td>\n",
       "      <td>47.703211</td>\n",
       "      <td>142.944359</td>\n",
       "      <td>639.227845</td>\n",
       "      <td>1026.134614</td>\n",
       "    </tr>\n",
       "    <tr>\n",
       "      <th>Basic Enclosure</th>\n",
       "      <td>1143</td>\n",
       "      <td>12314.594893</td>\n",
       "      <td>398.751045</td>\n",
       "      <td>42.410174</td>\n",
       "      <td>117.696592</td>\n",
       "      <td>564.438690</td>\n",
       "      <td>902.914178</td>\n",
       "    </tr>\n",
       "    <tr>\n",
       "      <th>Mininum Efficiency Heat Pump with Electric Heat Backup</th>\n",
       "      <td>1155</td>\n",
       "      <td>12433.212256</td>\n",
       "      <td>334.012650</td>\n",
       "      <td>-17.294793</td>\n",
       "      <td>87.648743</td>\n",
       "      <td>503.134468</td>\n",
       "      <td>809.766173</td>\n",
       "    </tr>\n",
       "    <tr>\n",
       "      <th>Mininum Efficiency Heat Pump with Existing Heat Backup</th>\n",
       "      <td>1157</td>\n",
       "      <td>12421.781716</td>\n",
       "      <td>300.976959</td>\n",
       "      <td>6.705248</td>\n",
       "      <td>74.554773</td>\n",
       "      <td>454.497412</td>\n",
       "      <td>760.611537</td>\n",
       "    </tr>\n",
       "    <tr>\n",
       "      <th>Heat Pump Water Heater</th>\n",
       "      <td>1149</td>\n",
       "      <td>12368.694344</td>\n",
       "      <td>119.272176</td>\n",
       "      <td>19.877795</td>\n",
       "      <td>60.106721</td>\n",
       "      <td>164.655914</td>\n",
       "      <td>241.410037</td>\n",
       "    </tr>\n",
       "    <tr>\n",
       "      <th>Heat Pump Clothes Dryer</th>\n",
       "      <td>991</td>\n",
       "      <td>10690.615578</td>\n",
       "      <td>28.508486</td>\n",
       "      <td>0.000000</td>\n",
       "      <td>16.322719</td>\n",
       "      <td>37.165954</td>\n",
       "      <td>53.897167</td>\n",
       "    </tr>\n",
       "    <tr>\n",
       "      <th>Induction Cooking</th>\n",
       "      <td>1146</td>\n",
       "      <td>12295.020944</td>\n",
       "      <td>3.654123</td>\n",
       "      <td>0.000000</td>\n",
       "      <td>3.550336</td>\n",
       "      <td>6.124125</td>\n",
       "      <td>9.505160</td>\n",
       "    </tr>\n",
       "    <tr>\n",
       "      <th>baseline</th>\n",
       "      <td>1158</td>\n",
       "      <td>12445.000000</td>\n",
       "      <td>0.000000</td>\n",
       "      <td>0.000000</td>\n",
       "      <td>0.000000</td>\n",
       "      <td>0.000000</td>\n",
       "      <td>0.000000</td>\n",
       "    </tr>\n",
       "    <tr>\n",
       "      <th>Electric Cooking</th>\n",
       "      <td>326</td>\n",
       "      <td>3699.568356</td>\n",
       "      <td>-0.948115</td>\n",
       "      <td>-31.360736</td>\n",
       "      <td>1.541714</td>\n",
       "      <td>5.782409</td>\n",
       "      <td>8.829964</td>\n",
       "    </tr>\n",
       "    <tr>\n",
       "      <th>Electric Clothes Dryer</th>\n",
       "      <td>45</td>\n",
       "      <td>551.443449</td>\n",
       "      <td>-15.467447</td>\n",
       "      <td>-32.696991</td>\n",
       "      <td>-24.232958</td>\n",
       "      <td>-0.958524</td>\n",
       "      <td>0.000000</td>\n",
       "    </tr>\n",
       "    <tr>\n",
       "      <th>Mininum Efficiency Whole Home Electrification</th>\n",
       "      <td>613</td>\n",
       "      <td>7450.699007</td>\n",
       "      <td>-292.891494</td>\n",
       "      <td>-900.568457</td>\n",
       "      <td>-501.622381</td>\n",
       "      <td>-31.739302</td>\n",
       "      <td>76.484849</td>\n",
       "    </tr>\n",
       "  </tbody>\n",
       "</table>\n",
       "</div>"
      ],
      "text/plain": [
       "                                                    n_samples  n_represented  \\\n",
       "upgrade_name                                                                   \n",
       "High Efficiency Heat Pump with Electric Heat Ba...       1155   12433.212256   \n",
       "Enhanced Enclosure + High Efficiency Whole Home...       1158   12445.000000   \n",
       "Enhanced Enclosure + HPWH + High Efficiency HP/...       1158   12445.000000   \n",
       "Basic Enclosure + High Efficiency Whole Home El...       1158   12445.000000   \n",
       "Basic Enclosure + HPWH + High Efficiency HP/Ele...       1158   12445.000000   \n",
       "High Efficiency Whole Home Electrification               1158   12445.000000   \n",
       "Enhanced Enclosure                                       1148   12340.998249   \n",
       "Basic Enclosure                                          1143   12314.594893   \n",
       "Mininum Efficiency Heat Pump with Electric Heat...       1155   12433.212256   \n",
       "Mininum Efficiency Heat Pump with Existing Heat...       1157   12421.781716   \n",
       "Heat Pump Water Heater                                   1149   12368.694344   \n",
       "Heat Pump Clothes Dryer                                   991   10690.615578   \n",
       "Induction Cooking                                        1146   12295.020944   \n",
       "baseline                                                 1158   12445.000000   \n",
       "Electric Cooking                                          326    3699.568356   \n",
       "Electric Clothes Dryer                                     45     551.443449   \n",
       "Mininum Efficiency Whole Home Electrification             613    7450.699007   \n",
       "\n",
       "                                                    saving_cbill.total_usd wt_mean  \\\n",
       "upgrade_name                                                                         \n",
       "High Efficiency Heat Pump with Electric Heat Ba...                      752.765108   \n",
       "Enhanced Enclosure + High Efficiency Whole Home...                      709.065753   \n",
       "Enhanced Enclosure + HPWH + High Efficiency HP/...                      693.366472   \n",
       "Basic Enclosure + High Efficiency Whole Home El...                      690.246453   \n",
       "Basic Enclosure + HPWH + High Efficiency HP/Ele...                      674.549269   \n",
       "High Efficiency Whole Home Electrification                              558.234188   \n",
       "Enhanced Enclosure                                                      460.651268   \n",
       "Basic Enclosure                                                         398.751045   \n",
       "Mininum Efficiency Heat Pump with Electric Heat...                      334.012650   \n",
       "Mininum Efficiency Heat Pump with Existing Heat...                      300.976959   \n",
       "Heat Pump Water Heater                                                  119.272176   \n",
       "Heat Pump Clothes Dryer                                                  28.508486   \n",
       "Induction Cooking                                                         3.654123   \n",
       "baseline                                                                  0.000000   \n",
       "Electric Cooking                                                         -0.948115   \n",
       "Electric Clothes Dryer                                                  -15.467447   \n",
       "Mininum Efficiency Whole Home Electrification                          -292.891494   \n",
       "\n",
       "                                                    saving_cbill.total_usd wt_p0.1  \\\n",
       "upgrade_name                                                                         \n",
       "High Efficiency Heat Pump with Electric Heat Ba...                      165.765002   \n",
       "Enhanced Enclosure + High Efficiency Whole Home...                       49.056577   \n",
       "Enhanced Enclosure + HPWH + High Efficiency HP/...                       49.049807   \n",
       "Basic Enclosure + High Efficiency Whole Home El...                       29.510412   \n",
       "Basic Enclosure + HPWH + High Efficiency HP/Ele...                       30.399365   \n",
       "High Efficiency Whole Home Electrification                              -88.540531   \n",
       "Enhanced Enclosure                                                       47.703211   \n",
       "Basic Enclosure                                                          42.410174   \n",
       "Mininum Efficiency Heat Pump with Electric Heat...                      -17.294793   \n",
       "Mininum Efficiency Heat Pump with Existing Heat...                        6.705248   \n",
       "Heat Pump Water Heater                                                   19.877795   \n",
       "Heat Pump Clothes Dryer                                                   0.000000   \n",
       "Induction Cooking                                                         0.000000   \n",
       "baseline                                                                  0.000000   \n",
       "Electric Cooking                                                        -31.360736   \n",
       "Electric Clothes Dryer                                                  -32.696991   \n",
       "Mininum Efficiency Whole Home Electrification                          -900.568457   \n",
       "\n",
       "                                                    saving_cbill.total_usd wt_p0.25  \\\n",
       "upgrade_name                                                                          \n",
       "High Efficiency Heat Pump with Electric Heat Ba...                       329.700135   \n",
       "Enhanced Enclosure + High Efficiency Whole Home...                       253.390977   \n",
       "Enhanced Enclosure + HPWH + High Efficiency HP/...                       239.756446   \n",
       "Basic Enclosure + High Efficiency Whole Home El...                       240.188923   \n",
       "Basic Enclosure + HPWH + High Efficiency HP/Ele...                       236.599136   \n",
       "High Efficiency Whole Home Electrification                               138.257766   \n",
       "Enhanced Enclosure                                                       142.944359   \n",
       "Basic Enclosure                                                          117.696592   \n",
       "Mininum Efficiency Heat Pump with Electric Heat...                        87.648743   \n",
       "Mininum Efficiency Heat Pump with Existing Heat...                        74.554773   \n",
       "Heat Pump Water Heater                                                    60.106721   \n",
       "Heat Pump Clothes Dryer                                                   16.322719   \n",
       "Induction Cooking                                                          3.550336   \n",
       "baseline                                                                   0.000000   \n",
       "Electric Cooking                                                           1.541714   \n",
       "Electric Clothes Dryer                                                   -24.232958   \n",
       "Mininum Efficiency Whole Home Electrification                           -501.622381   \n",
       "\n",
       "                                                    saving_cbill.total_usd wt_p0.75  \\\n",
       "upgrade_name                                                                          \n",
       "High Efficiency Heat Pump with Electric Heat Ba...                      1048.324478   \n",
       "Enhanced Enclosure + High Efficiency Whole Home...                       970.540442   \n",
       "Enhanced Enclosure + HPWH + High Efficiency HP/...                       949.397552   \n",
       "Basic Enclosure + High Efficiency Whole Home El...                       942.629840   \n",
       "Basic Enclosure + HPWH + High Efficiency HP/Ele...                       937.081554   \n",
       "High Efficiency Whole Home Electrification                               854.303992   \n",
       "Enhanced Enclosure                                                       639.227845   \n",
       "Basic Enclosure                                                          564.438690   \n",
       "Mininum Efficiency Heat Pump with Electric Heat...                       503.134468   \n",
       "Mininum Efficiency Heat Pump with Existing Heat...                       454.497412   \n",
       "Heat Pump Water Heater                                                   164.655914   \n",
       "Heat Pump Clothes Dryer                                                   37.165954   \n",
       "Induction Cooking                                                          6.124125   \n",
       "baseline                                                                   0.000000   \n",
       "Electric Cooking                                                           5.782409   \n",
       "Electric Clothes Dryer                                                    -0.958524   \n",
       "Mininum Efficiency Whole Home Electrification                            -31.739302   \n",
       "\n",
       "                                                    saving_cbill.total_usd wt_p0.9  \n",
       "upgrade_name                                                                        \n",
       "High Efficiency Heat Pump with Electric Heat Ba...                     1479.985052  \n",
       "Enhanced Enclosure + High Efficiency Whole Home...                     1728.640656  \n",
       "Enhanced Enclosure + HPWH + High Efficiency HP/...                     1687.559404  \n",
       "Basic Enclosure + High Efficiency Whole Home El...                     1706.959359  \n",
       "Basic Enclosure + HPWH + High Efficiency HP/Ele...                     1680.904171  \n",
       "High Efficiency Whole Home Electrification                             1450.784894  \n",
       "Enhanced Enclosure                                                     1026.134614  \n",
       "Basic Enclosure                                                         902.914178  \n",
       "Mininum Efficiency Heat Pump with Electric Heat...                      809.766173  \n",
       "Mininum Efficiency Heat Pump with Existing Heat...                      760.611537  \n",
       "Heat Pump Water Heater                                                  241.410037  \n",
       "Heat Pump Clothes Dryer                                                  53.897167  \n",
       "Induction Cooking                                                         9.505160  \n",
       "baseline                                                                  0.000000  \n",
       "Electric Cooking                                                          8.829964  \n",
       "Electric Clothes Dryer                                                    0.000000  \n",
       "Mininum Efficiency Whole Home Electrification                            76.484849  "
      ]
     },
     "execution_count": 18,
     "metadata": {},
     "output_type": "execute_result"
    }
   ],
   "source": [
    "metric = \"saving_cbill.total_usd\"\n",
    "print(\"Community summary:\")\n",
    "results = get_summary(community_results, metric, lower_percentile=0.10, middle_percentile1=0.25, middle_percentile2=0.75, upper_percentile=0.90)\n",
    "saving_results['whole_community_saving_bill_total_usd_wt_p0.1'] = results.iloc[:, 3]\n",
    "saving_results['whole_community_saving_bill_total_usd_wt_p0.25'] = results.iloc[:, 4]\n",
    "saving_results['whole_community_saving_bill_total_usd_wt_p0.75'] = results.iloc[:, 5]\n",
    "saving_results['whole_community_saving_bill_total_usd_wt_p0.9'] = results.iloc[:, 6]\n",
    "results"
   ]
  },
  {
   "cell_type": "markdown",
   "id": "35e7b6ad",
   "metadata": {},
   "source": [
    "# 2. Results for Segments (All Income)"
   ]
  },
  {
   "cell_type": "markdown",
   "id": "9c79f834",
   "metadata": {},
   "source": [
    "Segment Definition\n",
    "\n",
    "Segment 1. Occupied, Single family detached, gas heating, all income  \n",
    "\n",
    "Segment 2. Occupied, Single family detached, electric heating, all income   \n"
   ]
  },
  {
   "cell_type": "code",
   "execution_count": 19,
   "id": "42e13001",
   "metadata": {},
   "outputs": [],
   "source": [
    "income = 'all_incomes'\n",
    "vacancy_status = ['Occupied']\n",
    "\n",
    "seg1_building_type = ['Single-Family Detached']\n",
    "seg1_heating_fuel = ['Natural Gas']\n",
    "\n",
    "seg2_building_type = ['Single-Family Detached']\n",
    "seg2_heating_fuel = ['Electricity']\n",
    "\n",
    "\n",
    "community_results.loc[community_results['build_existing_model.vacancy_status'].isin(vacancy_status) & \n",
    "                     community_results['build_existing_model.geometry_building_type_recs'].isin(seg1_building_type) &\n",
    "                      community_results['build_existing_model.heating_fuel'].isin(seg1_heating_fuel),\n",
    "                     'segment'] = 'segment1'\n",
    "community_results.loc[community_results['build_existing_model.vacancy_status'].isin(vacancy_status) & \n",
    "                     community_results['build_existing_model.geometry_building_type_recs'].isin(seg2_building_type) & \n",
    "                      community_results['build_existing_model.heating_fuel'].isin(seg2_heating_fuel),\n",
    "                     'segment'] = 'segment2'"
   ]
  },
  {
   "cell_type": "code",
   "execution_count": 20,
   "id": "b35bfa65",
   "metadata": {},
   "outputs": [
    {
     "name": "stdout",
     "output_type": "stream",
     "text": [
      "Summary for segment: nan: \n"
     ]
    },
    {
     "data": {
      "text/html": [
       "<div>\n",
       "<style scoped>\n",
       "    .dataframe tbody tr th:only-of-type {\n",
       "        vertical-align: middle;\n",
       "    }\n",
       "\n",
       "    .dataframe tbody tr th {\n",
       "        vertical-align: top;\n",
       "    }\n",
       "\n",
       "    .dataframe thead th {\n",
       "        text-align: right;\n",
       "    }\n",
       "</style>\n",
       "<table border=\"1\" class=\"dataframe\">\n",
       "  <thead>\n",
       "    <tr style=\"text-align: right;\">\n",
       "      <th></th>\n",
       "      <th>n_samples</th>\n",
       "      <th>n_represented</th>\n",
       "      <th>saving_cbill.total_usd wt_mean</th>\n",
       "      <th>saving_cbill.total_usd wt_p0.1</th>\n",
       "      <th>saving_cbill.total_usd wt_p0.25</th>\n",
       "      <th>saving_cbill.total_usd wt_p0.75</th>\n",
       "      <th>saving_cbill.total_usd wt_p0.9</th>\n",
       "    </tr>\n",
       "    <tr>\n",
       "      <th>upgrade_name</th>\n",
       "      <th></th>\n",
       "      <th></th>\n",
       "      <th></th>\n",
       "      <th></th>\n",
       "      <th></th>\n",
       "      <th></th>\n",
       "      <th></th>\n",
       "    </tr>\n",
       "  </thead>\n",
       "  <tbody>\n",
       "    <tr>\n",
       "      <th>Enhanced Enclosure + High Efficiency Whole Home Electrification</th>\n",
       "      <td>410</td>\n",
       "      <td>4945.494403</td>\n",
       "      <td>484.242989</td>\n",
       "      <td>73.896275</td>\n",
       "      <td>237.575436</td>\n",
       "      <td>640.150121</td>\n",
       "      <td>961.528454</td>\n",
       "    </tr>\n",
       "    <tr>\n",
       "      <th>Enhanced Enclosure + HPWH + High Efficiency HP/Electric Backup</th>\n",
       "      <td>410</td>\n",
       "      <td>4945.494403</td>\n",
       "      <td>475.548088</td>\n",
       "      <td>83.800962</td>\n",
       "      <td>237.209309</td>\n",
       "      <td>611.370991</td>\n",
       "      <td>944.870241</td>\n",
       "    </tr>\n",
       "    <tr>\n",
       "      <th>Basic Enclosure + High Efficiency Whole Home Electrification</th>\n",
       "      <td>410</td>\n",
       "      <td>4945.494403</td>\n",
       "      <td>469.973978</td>\n",
       "      <td>67.309907</td>\n",
       "      <td>237.239343</td>\n",
       "      <td>634.340334</td>\n",
       "      <td>941.666430</td>\n",
       "    </tr>\n",
       "    <tr>\n",
       "      <th>Basic Enclosure + HPWH + High Efficiency HP/Electric Backup</th>\n",
       "      <td>410</td>\n",
       "      <td>4945.494403</td>\n",
       "      <td>461.279585</td>\n",
       "      <td>79.486142</td>\n",
       "      <td>235.471498</td>\n",
       "      <td>609.133309</td>\n",
       "      <td>938.707605</td>\n",
       "    </tr>\n",
       "    <tr>\n",
       "      <th>High Efficiency Whole Home Electrification</th>\n",
       "      <td>410</td>\n",
       "      <td>4945.494403</td>\n",
       "      <td>401.227983</td>\n",
       "      <td>22.795065</td>\n",
       "      <td>194.735643</td>\n",
       "      <td>554.985558</td>\n",
       "      <td>854.299983</td>\n",
       "    </tr>\n",
       "    <tr>\n",
       "      <th>High Efficiency Heat Pump with Electric Heat Backup</th>\n",
       "      <td>407</td>\n",
       "      <td>4933.706659</td>\n",
       "      <td>391.801805</td>\n",
       "      <td>117.300494</td>\n",
       "      <td>197.447925</td>\n",
       "      <td>524.464528</td>\n",
       "      <td>716.074699</td>\n",
       "    </tr>\n",
       "    <tr>\n",
       "      <th>Enhanced Enclosure</th>\n",
       "      <td>404</td>\n",
       "      <td>4895.519812</td>\n",
       "      <td>219.145853</td>\n",
       "      <td>31.057752</td>\n",
       "      <td>63.968032</td>\n",
       "      <td>315.039148</td>\n",
       "      <td>462.308780</td>\n",
       "    </tr>\n",
       "    <tr>\n",
       "      <th>Basic Enclosure</th>\n",
       "      <td>400</td>\n",
       "      <td>4874.921027</td>\n",
       "      <td>183.253826</td>\n",
       "      <td>25.057879</td>\n",
       "      <td>52.660875</td>\n",
       "      <td>271.378779</td>\n",
       "      <td>408.027748</td>\n",
       "    </tr>\n",
       "    <tr>\n",
       "      <th>Mininum Efficiency Heat Pump with Electric Heat Backup</th>\n",
       "      <td>407</td>\n",
       "      <td>4933.706659</td>\n",
       "      <td>145.483939</td>\n",
       "      <td>-35.816041</td>\n",
       "      <td>44.078407</td>\n",
       "      <td>224.261941</td>\n",
       "      <td>416.001927</td>\n",
       "    </tr>\n",
       "    <tr>\n",
       "      <th>Mininum Efficiency Heat Pump with Existing Heat Backup</th>\n",
       "      <td>409</td>\n",
       "      <td>4922.276119</td>\n",
       "      <td>140.343438</td>\n",
       "      <td>-27.771204</td>\n",
       "      <td>37.361225</td>\n",
       "      <td>208.218142</td>\n",
       "      <td>390.866071</td>\n",
       "    </tr>\n",
       "    <tr>\n",
       "      <th>Heat Pump Water Heater</th>\n",
       "      <td>408</td>\n",
       "      <td>4930.568364</td>\n",
       "      <td>86.503024</td>\n",
       "      <td>14.138860</td>\n",
       "      <td>21.873111</td>\n",
       "      <td>119.488974</td>\n",
       "      <td>194.859698</td>\n",
       "    </tr>\n",
       "    <tr>\n",
       "      <th>Heat Pump Clothes Dryer</th>\n",
       "      <td>271</td>\n",
       "      <td>3474.620390</td>\n",
       "      <td>17.884603</td>\n",
       "      <td>0.000000</td>\n",
       "      <td>0.000000</td>\n",
       "      <td>29.740433</td>\n",
       "      <td>42.794372</td>\n",
       "    </tr>\n",
       "    <tr>\n",
       "      <th>Induction Cooking</th>\n",
       "      <td>404</td>\n",
       "      <td>4863.235341</td>\n",
       "      <td>1.376062</td>\n",
       "      <td>0.000000</td>\n",
       "      <td>0.000000</td>\n",
       "      <td>4.647138</td>\n",
       "      <td>7.098784</td>\n",
       "    </tr>\n",
       "    <tr>\n",
       "      <th>Electric Clothes Dryer</th>\n",
       "      <td>7</td>\n",
       "      <td>147.049129</td>\n",
       "      <td>0.000000</td>\n",
       "      <td>0.000000</td>\n",
       "      <td>0.000000</td>\n",
       "      <td>0.000000</td>\n",
       "      <td>0.000000</td>\n",
       "    </tr>\n",
       "    <tr>\n",
       "      <th>baseline</th>\n",
       "      <td>410</td>\n",
       "      <td>4945.494403</td>\n",
       "      <td>0.000000</td>\n",
       "      <td>0.000000</td>\n",
       "      <td>0.000000</td>\n",
       "      <td>0.000000</td>\n",
       "      <td>0.000000</td>\n",
       "    </tr>\n",
       "    <tr>\n",
       "      <th>Electric Cooking</th>\n",
       "      <td>87</td>\n",
       "      <td>1254.242324</td>\n",
       "      <td>-5.536855</td>\n",
       "      <td>-40.037788</td>\n",
       "      <td>0.000000</td>\n",
       "      <td>4.514739</td>\n",
       "      <td>5.737661</td>\n",
       "    </tr>\n",
       "    <tr>\n",
       "      <th>Mininum Efficiency Whole Home Electrification</th>\n",
       "      <td>142</td>\n",
       "      <td>2389.616391</td>\n",
       "      <td>-125.329217</td>\n",
       "      <td>-440.784015</td>\n",
       "      <td>-216.280518</td>\n",
       "      <td>0.000000</td>\n",
       "      <td>86.040261</td>\n",
       "    </tr>\n",
       "  </tbody>\n",
       "</table>\n",
       "</div>"
      ],
      "text/plain": [
       "                                                    n_samples  n_represented  \\\n",
       "upgrade_name                                                                   \n",
       "Enhanced Enclosure + High Efficiency Whole Home...        410    4945.494403   \n",
       "Enhanced Enclosure + HPWH + High Efficiency HP/...        410    4945.494403   \n",
       "Basic Enclosure + High Efficiency Whole Home El...        410    4945.494403   \n",
       "Basic Enclosure + HPWH + High Efficiency HP/Ele...        410    4945.494403   \n",
       "High Efficiency Whole Home Electrification                410    4945.494403   \n",
       "High Efficiency Heat Pump with Electric Heat Ba...        407    4933.706659   \n",
       "Enhanced Enclosure                                        404    4895.519812   \n",
       "Basic Enclosure                                           400    4874.921027   \n",
       "Mininum Efficiency Heat Pump with Electric Heat...        407    4933.706659   \n",
       "Mininum Efficiency Heat Pump with Existing Heat...        409    4922.276119   \n",
       "Heat Pump Water Heater                                    408    4930.568364   \n",
       "Heat Pump Clothes Dryer                                   271    3474.620390   \n",
       "Induction Cooking                                         404    4863.235341   \n",
       "Electric Clothes Dryer                                      7     147.049129   \n",
       "baseline                                                  410    4945.494403   \n",
       "Electric Cooking                                           87    1254.242324   \n",
       "Mininum Efficiency Whole Home Electrification             142    2389.616391   \n",
       "\n",
       "                                                    saving_cbill.total_usd wt_mean  \\\n",
       "upgrade_name                                                                         \n",
       "Enhanced Enclosure + High Efficiency Whole Home...                      484.242989   \n",
       "Enhanced Enclosure + HPWH + High Efficiency HP/...                      475.548088   \n",
       "Basic Enclosure + High Efficiency Whole Home El...                      469.973978   \n",
       "Basic Enclosure + HPWH + High Efficiency HP/Ele...                      461.279585   \n",
       "High Efficiency Whole Home Electrification                              401.227983   \n",
       "High Efficiency Heat Pump with Electric Heat Ba...                      391.801805   \n",
       "Enhanced Enclosure                                                      219.145853   \n",
       "Basic Enclosure                                                         183.253826   \n",
       "Mininum Efficiency Heat Pump with Electric Heat...                      145.483939   \n",
       "Mininum Efficiency Heat Pump with Existing Heat...                      140.343438   \n",
       "Heat Pump Water Heater                                                   86.503024   \n",
       "Heat Pump Clothes Dryer                                                  17.884603   \n",
       "Induction Cooking                                                         1.376062   \n",
       "Electric Clothes Dryer                                                    0.000000   \n",
       "baseline                                                                  0.000000   \n",
       "Electric Cooking                                                         -5.536855   \n",
       "Mininum Efficiency Whole Home Electrification                          -125.329217   \n",
       "\n",
       "                                                    saving_cbill.total_usd wt_p0.1  \\\n",
       "upgrade_name                                                                         \n",
       "Enhanced Enclosure + High Efficiency Whole Home...                       73.896275   \n",
       "Enhanced Enclosure + HPWH + High Efficiency HP/...                       83.800962   \n",
       "Basic Enclosure + High Efficiency Whole Home El...                       67.309907   \n",
       "Basic Enclosure + HPWH + High Efficiency HP/Ele...                       79.486142   \n",
       "High Efficiency Whole Home Electrification                               22.795065   \n",
       "High Efficiency Heat Pump with Electric Heat Ba...                      117.300494   \n",
       "Enhanced Enclosure                                                       31.057752   \n",
       "Basic Enclosure                                                          25.057879   \n",
       "Mininum Efficiency Heat Pump with Electric Heat...                      -35.816041   \n",
       "Mininum Efficiency Heat Pump with Existing Heat...                      -27.771204   \n",
       "Heat Pump Water Heater                                                   14.138860   \n",
       "Heat Pump Clothes Dryer                                                   0.000000   \n",
       "Induction Cooking                                                         0.000000   \n",
       "Electric Clothes Dryer                                                    0.000000   \n",
       "baseline                                                                  0.000000   \n",
       "Electric Cooking                                                        -40.037788   \n",
       "Mininum Efficiency Whole Home Electrification                          -440.784015   \n",
       "\n",
       "                                                    saving_cbill.total_usd wt_p0.25  \\\n",
       "upgrade_name                                                                          \n",
       "Enhanced Enclosure + High Efficiency Whole Home...                       237.575436   \n",
       "Enhanced Enclosure + HPWH + High Efficiency HP/...                       237.209309   \n",
       "Basic Enclosure + High Efficiency Whole Home El...                       237.239343   \n",
       "Basic Enclosure + HPWH + High Efficiency HP/Ele...                       235.471498   \n",
       "High Efficiency Whole Home Electrification                               194.735643   \n",
       "High Efficiency Heat Pump with Electric Heat Ba...                       197.447925   \n",
       "Enhanced Enclosure                                                        63.968032   \n",
       "Basic Enclosure                                                           52.660875   \n",
       "Mininum Efficiency Heat Pump with Electric Heat...                        44.078407   \n",
       "Mininum Efficiency Heat Pump with Existing Heat...                        37.361225   \n",
       "Heat Pump Water Heater                                                    21.873111   \n",
       "Heat Pump Clothes Dryer                                                    0.000000   \n",
       "Induction Cooking                                                          0.000000   \n",
       "Electric Clothes Dryer                                                     0.000000   \n",
       "baseline                                                                   0.000000   \n",
       "Electric Cooking                                                           0.000000   \n",
       "Mininum Efficiency Whole Home Electrification                           -216.280518   \n",
       "\n",
       "                                                    saving_cbill.total_usd wt_p0.75  \\\n",
       "upgrade_name                                                                          \n",
       "Enhanced Enclosure + High Efficiency Whole Home...                       640.150121   \n",
       "Enhanced Enclosure + HPWH + High Efficiency HP/...                       611.370991   \n",
       "Basic Enclosure + High Efficiency Whole Home El...                       634.340334   \n",
       "Basic Enclosure + HPWH + High Efficiency HP/Ele...                       609.133309   \n",
       "High Efficiency Whole Home Electrification                               554.985558   \n",
       "High Efficiency Heat Pump with Electric Heat Ba...                       524.464528   \n",
       "Enhanced Enclosure                                                       315.039148   \n",
       "Basic Enclosure                                                          271.378779   \n",
       "Mininum Efficiency Heat Pump with Electric Heat...                       224.261941   \n",
       "Mininum Efficiency Heat Pump with Existing Heat...                       208.218142   \n",
       "Heat Pump Water Heater                                                   119.488974   \n",
       "Heat Pump Clothes Dryer                                                   29.740433   \n",
       "Induction Cooking                                                          4.647138   \n",
       "Electric Clothes Dryer                                                     0.000000   \n",
       "baseline                                                                   0.000000   \n",
       "Electric Cooking                                                           4.514739   \n",
       "Mininum Efficiency Whole Home Electrification                              0.000000   \n",
       "\n",
       "                                                    saving_cbill.total_usd wt_p0.9  \n",
       "upgrade_name                                                                        \n",
       "Enhanced Enclosure + High Efficiency Whole Home...                      961.528454  \n",
       "Enhanced Enclosure + HPWH + High Efficiency HP/...                      944.870241  \n",
       "Basic Enclosure + High Efficiency Whole Home El...                      941.666430  \n",
       "Basic Enclosure + HPWH + High Efficiency HP/Ele...                      938.707605  \n",
       "High Efficiency Whole Home Electrification                              854.299983  \n",
       "High Efficiency Heat Pump with Electric Heat Ba...                      716.074699  \n",
       "Enhanced Enclosure                                                      462.308780  \n",
       "Basic Enclosure                                                         408.027748  \n",
       "Mininum Efficiency Heat Pump with Electric Heat...                      416.001927  \n",
       "Mininum Efficiency Heat Pump with Existing Heat...                      390.866071  \n",
       "Heat Pump Water Heater                                                  194.859698  \n",
       "Heat Pump Clothes Dryer                                                  42.794372  \n",
       "Induction Cooking                                                         7.098784  \n",
       "Electric Clothes Dryer                                                    0.000000  \n",
       "baseline                                                                  0.000000  \n",
       "Electric Cooking                                                          5.737661  \n",
       "Mininum Efficiency Whole Home Electrification                            86.040261  "
      ]
     },
     "metadata": {},
     "output_type": "display_data"
    },
    {
     "name": "stdout",
     "output_type": "stream",
     "text": [
      "Summary for segment: segment1: \n"
     ]
    },
    {
     "data": {
      "text/html": [
       "<div>\n",
       "<style scoped>\n",
       "    .dataframe tbody tr th:only-of-type {\n",
       "        vertical-align: middle;\n",
       "    }\n",
       "\n",
       "    .dataframe tbody tr th {\n",
       "        vertical-align: top;\n",
       "    }\n",
       "\n",
       "    .dataframe thead th {\n",
       "        text-align: right;\n",
       "    }\n",
       "</style>\n",
       "<table border=\"1\" class=\"dataframe\">\n",
       "  <thead>\n",
       "    <tr style=\"text-align: right;\">\n",
       "      <th></th>\n",
       "      <th>n_samples</th>\n",
       "      <th>n_represented</th>\n",
       "      <th>saving_cbill.total_usd wt_mean</th>\n",
       "      <th>saving_cbill.total_usd wt_p0.1</th>\n",
       "      <th>saving_cbill.total_usd wt_p0.25</th>\n",
       "      <th>saving_cbill.total_usd wt_p0.75</th>\n",
       "      <th>saving_cbill.total_usd wt_p0.9</th>\n",
       "    </tr>\n",
       "    <tr>\n",
       "      <th>upgrade_name</th>\n",
       "      <th></th>\n",
       "      <th></th>\n",
       "      <th></th>\n",
       "      <th></th>\n",
       "      <th></th>\n",
       "      <th></th>\n",
       "      <th></th>\n",
       "    </tr>\n",
       "  </thead>\n",
       "  <tbody>\n",
       "    <tr>\n",
       "      <th>High Efficiency Heat Pump with Electric Heat Backup</th>\n",
       "      <td>392</td>\n",
       "      <td>4225.727612</td>\n",
       "      <td>898.223038</td>\n",
       "      <td>244.579751</td>\n",
       "      <td>551.518231</td>\n",
       "      <td>1197.855425</td>\n",
       "      <td>1490.188832</td>\n",
       "    </tr>\n",
       "    <tr>\n",
       "      <th>Enhanced Enclosure</th>\n",
       "      <td>391</td>\n",
       "      <td>4202.509328</td>\n",
       "      <td>609.705848</td>\n",
       "      <td>137.912045</td>\n",
       "      <td>299.163127</td>\n",
       "      <td>828.242459</td>\n",
       "      <td>1101.239432</td>\n",
       "    </tr>\n",
       "    <tr>\n",
       "      <th>Basic Enclosure</th>\n",
       "      <td>390</td>\n",
       "      <td>4196.704757</td>\n",
       "      <td>522.889760</td>\n",
       "      <td>122.399898</td>\n",
       "      <td>246.689317</td>\n",
       "      <td>714.975082</td>\n",
       "      <td>967.786354</td>\n",
       "    </tr>\n",
       "    <tr>\n",
       "      <th>Enhanced Enclosure + High Efficiency Whole Home Electrification</th>\n",
       "      <td>392</td>\n",
       "      <td>4225.727612</td>\n",
       "      <td>361.223048</td>\n",
       "      <td>-204.885362</td>\n",
       "      <td>107.104888</td>\n",
       "      <td>586.330374</td>\n",
       "      <td>807.494078</td>\n",
       "    </tr>\n",
       "    <tr>\n",
       "      <th>Mininum Efficiency Heat Pump with Electric Heat Backup</th>\n",
       "      <td>392</td>\n",
       "      <td>4225.727612</td>\n",
       "      <td>351.465714</td>\n",
       "      <td>-118.801518</td>\n",
       "      <td>177.891520</td>\n",
       "      <td>567.527880</td>\n",
       "      <td>795.518389</td>\n",
       "    </tr>\n",
       "    <tr>\n",
       "      <th>Enhanced Enclosure + HPWH + High Efficiency HP/Electric Backup</th>\n",
       "      <td>392</td>\n",
       "      <td>4225.727612</td>\n",
       "      <td>348.795446</td>\n",
       "      <td>-215.908973</td>\n",
       "      <td>92.729503</td>\n",
       "      <td>567.383273</td>\n",
       "      <td>798.667056</td>\n",
       "    </tr>\n",
       "    <tr>\n",
       "      <th>Basic Enclosure + High Efficiency Whole Home Electrification</th>\n",
       "      <td>392</td>\n",
       "      <td>4225.727612</td>\n",
       "      <td>337.105583</td>\n",
       "      <td>-232.961321</td>\n",
       "      <td>78.403256</td>\n",
       "      <td>545.053323</td>\n",
       "      <td>787.668485</td>\n",
       "    </tr>\n",
       "    <tr>\n",
       "      <th>Basic Enclosure + HPWH + High Efficiency HP/Electric Backup</th>\n",
       "      <td>392</td>\n",
       "      <td>4225.727612</td>\n",
       "      <td>324.665416</td>\n",
       "      <td>-254.892594</td>\n",
       "      <td>77.414783</td>\n",
       "      <td>530.889182</td>\n",
       "      <td>776.492656</td>\n",
       "    </tr>\n",
       "    <tr>\n",
       "      <th>Mininum Efficiency Heat Pump with Existing Heat Backup</th>\n",
       "      <td>392</td>\n",
       "      <td>4225.727612</td>\n",
       "      <td>259.834148</td>\n",
       "      <td>-68.876760</td>\n",
       "      <td>97.986635</td>\n",
       "      <td>454.324533</td>\n",
       "      <td>632.599367</td>\n",
       "    </tr>\n",
       "    <tr>\n",
       "      <th>High Efficiency Whole Home Electrification</th>\n",
       "      <td>392</td>\n",
       "      <td>4225.727612</td>\n",
       "      <td>154.617569</td>\n",
       "      <td>-397.908371</td>\n",
       "      <td>-77.175236</td>\n",
       "      <td>341.791396</td>\n",
       "      <td>629.869265</td>\n",
       "    </tr>\n",
       "    <tr>\n",
       "      <th>Heat Pump Water Heater</th>\n",
       "      <td>392</td>\n",
       "      <td>4225.727612</td>\n",
       "      <td>146.516033</td>\n",
       "      <td>67.941530</td>\n",
       "      <td>86.800507</td>\n",
       "      <td>196.188181</td>\n",
       "      <td>257.583154</td>\n",
       "    </tr>\n",
       "    <tr>\n",
       "      <th>Heat Pump Clothes Dryer</th>\n",
       "      <td>379</td>\n",
       "      <td>4070.054549</td>\n",
       "      <td>33.488066</td>\n",
       "      <td>13.755800</td>\n",
       "      <td>19.364301</td>\n",
       "      <td>43.890695</td>\n",
       "      <td>56.443098</td>\n",
       "    </tr>\n",
       "    <tr>\n",
       "      <th>Induction Cooking</th>\n",
       "      <td>389</td>\n",
       "      <td>4192.835044</td>\n",
       "      <td>7.053322</td>\n",
       "      <td>3.766327</td>\n",
       "      <td>4.496725</td>\n",
       "      <td>8.616114</td>\n",
       "      <td>12.422171</td>\n",
       "    </tr>\n",
       "    <tr>\n",
       "      <th>Electric Cooking</th>\n",
       "      <td>183</td>\n",
       "      <td>1960.594751</td>\n",
       "      <td>4.903832</td>\n",
       "      <td>2.070724</td>\n",
       "      <td>3.040669</td>\n",
       "      <td>6.196599</td>\n",
       "      <td>8.983351</td>\n",
       "    </tr>\n",
       "    <tr>\n",
       "      <th>baseline</th>\n",
       "      <td>392</td>\n",
       "      <td>4225.727612</td>\n",
       "      <td>0.000000</td>\n",
       "      <td>0.000000</td>\n",
       "      <td>0.000000</td>\n",
       "      <td>0.000000</td>\n",
       "      <td>0.000000</td>\n",
       "    </tr>\n",
       "    <tr>\n",
       "      <th>Electric Clothes Dryer</th>\n",
       "      <td>29</td>\n",
       "      <td>337.549618</td>\n",
       "      <td>-20.503203</td>\n",
       "      <td>-34.325768</td>\n",
       "      <td>-26.003352</td>\n",
       "      <td>-13.918243</td>\n",
       "      <td>-11.243667</td>\n",
       "    </tr>\n",
       "    <tr>\n",
       "      <th>Mininum Efficiency Whole Home Electrification</th>\n",
       "      <td>392</td>\n",
       "      <td>4225.727612</td>\n",
       "      <td>-441.189762</td>\n",
       "      <td>-1063.651526</td>\n",
       "      <td>-706.252952</td>\n",
       "      <td>-162.583991</td>\n",
       "      <td>20.875176</td>\n",
       "    </tr>\n",
       "  </tbody>\n",
       "</table>\n",
       "</div>"
      ],
      "text/plain": [
       "                                                    n_samples  n_represented  \\\n",
       "upgrade_name                                                                   \n",
       "High Efficiency Heat Pump with Electric Heat Ba...        392    4225.727612   \n",
       "Enhanced Enclosure                                        391    4202.509328   \n",
       "Basic Enclosure                                           390    4196.704757   \n",
       "Enhanced Enclosure + High Efficiency Whole Home...        392    4225.727612   \n",
       "Mininum Efficiency Heat Pump with Electric Heat...        392    4225.727612   \n",
       "Enhanced Enclosure + HPWH + High Efficiency HP/...        392    4225.727612   \n",
       "Basic Enclosure + High Efficiency Whole Home El...        392    4225.727612   \n",
       "Basic Enclosure + HPWH + High Efficiency HP/Ele...        392    4225.727612   \n",
       "Mininum Efficiency Heat Pump with Existing Heat...        392    4225.727612   \n",
       "High Efficiency Whole Home Electrification                392    4225.727612   \n",
       "Heat Pump Water Heater                                    392    4225.727612   \n",
       "Heat Pump Clothes Dryer                                   379    4070.054549   \n",
       "Induction Cooking                                         389    4192.835044   \n",
       "Electric Cooking                                          183    1960.594751   \n",
       "baseline                                                  392    4225.727612   \n",
       "Electric Clothes Dryer                                     29     337.549618   \n",
       "Mininum Efficiency Whole Home Electrification             392    4225.727612   \n",
       "\n",
       "                                                    saving_cbill.total_usd wt_mean  \\\n",
       "upgrade_name                                                                         \n",
       "High Efficiency Heat Pump with Electric Heat Ba...                      898.223038   \n",
       "Enhanced Enclosure                                                      609.705848   \n",
       "Basic Enclosure                                                         522.889760   \n",
       "Enhanced Enclosure + High Efficiency Whole Home...                      361.223048   \n",
       "Mininum Efficiency Heat Pump with Electric Heat...                      351.465714   \n",
       "Enhanced Enclosure + HPWH + High Efficiency HP/...                      348.795446   \n",
       "Basic Enclosure + High Efficiency Whole Home El...                      337.105583   \n",
       "Basic Enclosure + HPWH + High Efficiency HP/Ele...                      324.665416   \n",
       "Mininum Efficiency Heat Pump with Existing Heat...                      259.834148   \n",
       "High Efficiency Whole Home Electrification                              154.617569   \n",
       "Heat Pump Water Heater                                                  146.516033   \n",
       "Heat Pump Clothes Dryer                                                  33.488066   \n",
       "Induction Cooking                                                         7.053322   \n",
       "Electric Cooking                                                          4.903832   \n",
       "baseline                                                                  0.000000   \n",
       "Electric Clothes Dryer                                                  -20.503203   \n",
       "Mininum Efficiency Whole Home Electrification                          -441.189762   \n",
       "\n",
       "                                                    saving_cbill.total_usd wt_p0.1  \\\n",
       "upgrade_name                                                                         \n",
       "High Efficiency Heat Pump with Electric Heat Ba...                      244.579751   \n",
       "Enhanced Enclosure                                                      137.912045   \n",
       "Basic Enclosure                                                         122.399898   \n",
       "Enhanced Enclosure + High Efficiency Whole Home...                     -204.885362   \n",
       "Mininum Efficiency Heat Pump with Electric Heat...                     -118.801518   \n",
       "Enhanced Enclosure + HPWH + High Efficiency HP/...                     -215.908973   \n",
       "Basic Enclosure + High Efficiency Whole Home El...                     -232.961321   \n",
       "Basic Enclosure + HPWH + High Efficiency HP/Ele...                     -254.892594   \n",
       "Mininum Efficiency Heat Pump with Existing Heat...                      -68.876760   \n",
       "High Efficiency Whole Home Electrification                             -397.908371   \n",
       "Heat Pump Water Heater                                                   67.941530   \n",
       "Heat Pump Clothes Dryer                                                  13.755800   \n",
       "Induction Cooking                                                         3.766327   \n",
       "Electric Cooking                                                          2.070724   \n",
       "baseline                                                                  0.000000   \n",
       "Electric Clothes Dryer                                                  -34.325768   \n",
       "Mininum Efficiency Whole Home Electrification                         -1063.651526   \n",
       "\n",
       "                                                    saving_cbill.total_usd wt_p0.25  \\\n",
       "upgrade_name                                                                          \n",
       "High Efficiency Heat Pump with Electric Heat Ba...                       551.518231   \n",
       "Enhanced Enclosure                                                       299.163127   \n",
       "Basic Enclosure                                                          246.689317   \n",
       "Enhanced Enclosure + High Efficiency Whole Home...                       107.104888   \n",
       "Mininum Efficiency Heat Pump with Electric Heat...                       177.891520   \n",
       "Enhanced Enclosure + HPWH + High Efficiency HP/...                        92.729503   \n",
       "Basic Enclosure + High Efficiency Whole Home El...                        78.403256   \n",
       "Basic Enclosure + HPWH + High Efficiency HP/Ele...                        77.414783   \n",
       "Mininum Efficiency Heat Pump with Existing Heat...                        97.986635   \n",
       "High Efficiency Whole Home Electrification                               -77.175236   \n",
       "Heat Pump Water Heater                                                    86.800507   \n",
       "Heat Pump Clothes Dryer                                                   19.364301   \n",
       "Induction Cooking                                                          4.496725   \n",
       "Electric Cooking                                                           3.040669   \n",
       "baseline                                                                   0.000000   \n",
       "Electric Clothes Dryer                                                   -26.003352   \n",
       "Mininum Efficiency Whole Home Electrification                           -706.252952   \n",
       "\n",
       "                                                    saving_cbill.total_usd wt_p0.75  \\\n",
       "upgrade_name                                                                          \n",
       "High Efficiency Heat Pump with Electric Heat Ba...                      1197.855425   \n",
       "Enhanced Enclosure                                                       828.242459   \n",
       "Basic Enclosure                                                          714.975082   \n",
       "Enhanced Enclosure + High Efficiency Whole Home...                       586.330374   \n",
       "Mininum Efficiency Heat Pump with Electric Heat...                       567.527880   \n",
       "Enhanced Enclosure + HPWH + High Efficiency HP/...                       567.383273   \n",
       "Basic Enclosure + High Efficiency Whole Home El...                       545.053323   \n",
       "Basic Enclosure + HPWH + High Efficiency HP/Ele...                       530.889182   \n",
       "Mininum Efficiency Heat Pump with Existing Heat...                       454.324533   \n",
       "High Efficiency Whole Home Electrification                               341.791396   \n",
       "Heat Pump Water Heater                                                   196.188181   \n",
       "Heat Pump Clothes Dryer                                                   43.890695   \n",
       "Induction Cooking                                                          8.616114   \n",
       "Electric Cooking                                                           6.196599   \n",
       "baseline                                                                   0.000000   \n",
       "Electric Clothes Dryer                                                   -13.918243   \n",
       "Mininum Efficiency Whole Home Electrification                           -162.583991   \n",
       "\n",
       "                                                    saving_cbill.total_usd wt_p0.9  \n",
       "upgrade_name                                                                        \n",
       "High Efficiency Heat Pump with Electric Heat Ba...                     1490.188832  \n",
       "Enhanced Enclosure                                                     1101.239432  \n",
       "Basic Enclosure                                                         967.786354  \n",
       "Enhanced Enclosure + High Efficiency Whole Home...                      807.494078  \n",
       "Mininum Efficiency Heat Pump with Electric Heat...                      795.518389  \n",
       "Enhanced Enclosure + HPWH + High Efficiency HP/...                      798.667056  \n",
       "Basic Enclosure + High Efficiency Whole Home El...                      787.668485  \n",
       "Basic Enclosure + HPWH + High Efficiency HP/Ele...                      776.492656  \n",
       "Mininum Efficiency Heat Pump with Existing Heat...                      632.599367  \n",
       "High Efficiency Whole Home Electrification                              629.869265  \n",
       "Heat Pump Water Heater                                                  257.583154  \n",
       "Heat Pump Clothes Dryer                                                  56.443098  \n",
       "Induction Cooking                                                        12.422171  \n",
       "Electric Cooking                                                          8.983351  \n",
       "baseline                                                                  0.000000  \n",
       "Electric Clothes Dryer                                                  -11.243667  \n",
       "Mininum Efficiency Whole Home Electrification                            20.875176  "
      ]
     },
     "metadata": {},
     "output_type": "display_data"
    },
    {
     "name": "stdout",
     "output_type": "stream",
     "text": [
      "Summary for segment: segment2: \n"
     ]
    },
    {
     "data": {
      "text/html": [
       "<div>\n",
       "<style scoped>\n",
       "    .dataframe tbody tr th:only-of-type {\n",
       "        vertical-align: middle;\n",
       "    }\n",
       "\n",
       "    .dataframe tbody tr th {\n",
       "        vertical-align: top;\n",
       "    }\n",
       "\n",
       "    .dataframe thead th {\n",
       "        text-align: right;\n",
       "    }\n",
       "</style>\n",
       "<table border=\"1\" class=\"dataframe\">\n",
       "  <thead>\n",
       "    <tr style=\"text-align: right;\">\n",
       "      <th></th>\n",
       "      <th>n_samples</th>\n",
       "      <th>n_represented</th>\n",
       "      <th>saving_cbill.total_usd wt_mean</th>\n",
       "      <th>saving_cbill.total_usd wt_p0.1</th>\n",
       "      <th>saving_cbill.total_usd wt_p0.25</th>\n",
       "      <th>saving_cbill.total_usd wt_p0.75</th>\n",
       "      <th>saving_cbill.total_usd wt_p0.9</th>\n",
       "    </tr>\n",
       "    <tr>\n",
       "      <th>upgrade_name</th>\n",
       "      <th></th>\n",
       "      <th></th>\n",
       "      <th></th>\n",
       "      <th></th>\n",
       "      <th></th>\n",
       "      <th></th>\n",
       "      <th></th>\n",
       "    </tr>\n",
       "  </thead>\n",
       "  <tbody>\n",
       "    <tr>\n",
       "      <th>Enhanced Enclosure + High Efficiency Whole Home Electrification</th>\n",
       "      <td>356</td>\n",
       "      <td>3273.777985</td>\n",
       "      <td>1497.680085</td>\n",
       "      <td>701.242103</td>\n",
       "      <td>924.246727</td>\n",
       "      <td>1856.862419</td>\n",
       "      <td>2501.727022</td>\n",
       "    </tr>\n",
       "    <tr>\n",
       "      <th>Basic Enclosure + High Efficiency Whole Home Electrification</th>\n",
       "      <td>356</td>\n",
       "      <td>3273.777985</td>\n",
       "      <td>1478.825711</td>\n",
       "      <td>701.242103</td>\n",
       "      <td>908.599205</td>\n",
       "      <td>1804.705104</td>\n",
       "      <td>2462.872586</td>\n",
       "    </tr>\n",
       "    <tr>\n",
       "      <th>Enhanced Enclosure + HPWH + High Efficiency HP/Electric Backup</th>\n",
       "      <td>356</td>\n",
       "      <td>3273.777985</td>\n",
       "      <td>1467.176702</td>\n",
       "      <td>661.399598</td>\n",
       "      <td>891.048464</td>\n",
       "      <td>1815.668038</td>\n",
       "      <td>2462.948657</td>\n",
       "    </tr>\n",
       "    <tr>\n",
       "      <th>Basic Enclosure + HPWH + High Efficiency HP/Electric Backup</th>\n",
       "      <td>356</td>\n",
       "      <td>3273.777985</td>\n",
       "      <td>1448.345751</td>\n",
       "      <td>657.865077</td>\n",
       "      <td>869.268031</td>\n",
       "      <td>1786.088180</td>\n",
       "      <td>2415.426504</td>\n",
       "    </tr>\n",
       "    <tr>\n",
       "      <th>High Efficiency Whole Home Electrification</th>\n",
       "      <td>356</td>\n",
       "      <td>3273.777985</td>\n",
       "      <td>1316.394090</td>\n",
       "      <td>636.468155</td>\n",
       "      <td>839.627027</td>\n",
       "      <td>1602.599587</td>\n",
       "      <td>2152.728290</td>\n",
       "    </tr>\n",
       "    <tr>\n",
       "      <th>High Efficiency Heat Pump with Electric Heat Backup</th>\n",
       "      <td>356</td>\n",
       "      <td>3273.777985</td>\n",
       "      <td>1108.996186</td>\n",
       "      <td>430.160330</td>\n",
       "      <td>601.836225</td>\n",
       "      <td>1388.713866</td>\n",
       "      <td>1911.180045</td>\n",
       "    </tr>\n",
       "    <tr>\n",
       "      <th>Enhanced Enclosure</th>\n",
       "      <td>353</td>\n",
       "      <td>3242.969109</td>\n",
       "      <td>632.065567</td>\n",
       "      <td>114.341272</td>\n",
       "      <td>257.076004</td>\n",
       "      <td>837.608002</td>\n",
       "      <td>1341.124291</td>\n",
       "    </tr>\n",
       "    <tr>\n",
       "      <th>Mininum Efficiency Heat Pump with Electric Heat Backup</th>\n",
       "      <td>356</td>\n",
       "      <td>3273.777985</td>\n",
       "      <td>595.604443</td>\n",
       "      <td>114.100929</td>\n",
       "      <td>228.912488</td>\n",
       "      <td>799.342914</td>\n",
       "      <td>1241.220886</td>\n",
       "    </tr>\n",
       "    <tr>\n",
       "      <th>Mininum Efficiency Heat Pump with Existing Heat Backup</th>\n",
       "      <td>356</td>\n",
       "      <td>3273.777985</td>\n",
       "      <td>595.603189</td>\n",
       "      <td>114.100929</td>\n",
       "      <td>228.912488</td>\n",
       "      <td>799.342914</td>\n",
       "      <td>1241.220886</td>\n",
       "    </tr>\n",
       "    <tr>\n",
       "      <th>Basic Enclosure</th>\n",
       "      <td>353</td>\n",
       "      <td>3242.969109</td>\n",
       "      <td>562.045352</td>\n",
       "      <td>86.469676</td>\n",
       "      <td>211.983760</td>\n",
       "      <td>791.558444</td>\n",
       "      <td>1168.406155</td>\n",
       "    </tr>\n",
       "    <tr>\n",
       "      <th>Heat Pump Water Heater</th>\n",
       "      <td>349</td>\n",
       "      <td>3212.398369</td>\n",
       "      <td>133.730355</td>\n",
       "      <td>36.875295</td>\n",
       "      <td>64.965772</td>\n",
       "      <td>174.613582</td>\n",
       "      <td>263.117999</td>\n",
       "    </tr>\n",
       "    <tr>\n",
       "      <th>Heat Pump Clothes Dryer</th>\n",
       "      <td>341</td>\n",
       "      <td>3145.940639</td>\n",
       "      <td>33.800004</td>\n",
       "      <td>15.540260</td>\n",
       "      <td>22.340108</td>\n",
       "      <td>43.295585</td>\n",
       "      <td>56.106653</td>\n",
       "    </tr>\n",
       "    <tr>\n",
       "      <th>Induction Cooking</th>\n",
       "      <td>353</td>\n",
       "      <td>3238.950560</td>\n",
       "      <td>2.674321</td>\n",
       "      <td>3.371966</td>\n",
       "      <td>3.627435</td>\n",
       "      <td>5.249537</td>\n",
       "      <td>7.957737</td>\n",
       "    </tr>\n",
       "    <tr>\n",
       "      <th>baseline</th>\n",
       "      <td>356</td>\n",
       "      <td>3273.777985</td>\n",
       "      <td>0.000000</td>\n",
       "      <td>0.000000</td>\n",
       "      <td>0.000000</td>\n",
       "      <td>0.000000</td>\n",
       "      <td>0.000000</td>\n",
       "    </tr>\n",
       "    <tr>\n",
       "      <th>Electric Cooking</th>\n",
       "      <td>56</td>\n",
       "      <td>484.731281</td>\n",
       "      <td>-12.744149</td>\n",
       "      <td>-52.733806</td>\n",
       "      <td>-44.054221</td>\n",
       "      <td>8.439828</td>\n",
       "      <td>11.313832</td>\n",
       "    </tr>\n",
       "    <tr>\n",
       "      <th>Mininum Efficiency Whole Home Electrification</th>\n",
       "      <td>79</td>\n",
       "      <td>835.355004</td>\n",
       "      <td>-22.038358</td>\n",
       "      <td>-138.559145</td>\n",
       "      <td>-61.497919</td>\n",
       "      <td>5.391105</td>\n",
       "      <td>96.894630</td>\n",
       "    </tr>\n",
       "    <tr>\n",
       "      <th>Electric Clothes Dryer</th>\n",
       "      <td>9</td>\n",
       "      <td>66.844701</td>\n",
       "      <td>-24.064344</td>\n",
       "      <td>-40.051622</td>\n",
       "      <td>-29.542173</td>\n",
       "      <td>-18.422300</td>\n",
       "      <td>-15.652441</td>\n",
       "    </tr>\n",
       "  </tbody>\n",
       "</table>\n",
       "</div>"
      ],
      "text/plain": [
       "                                                    n_samples  n_represented  \\\n",
       "upgrade_name                                                                   \n",
       "Enhanced Enclosure + High Efficiency Whole Home...        356    3273.777985   \n",
       "Basic Enclosure + High Efficiency Whole Home El...        356    3273.777985   \n",
       "Enhanced Enclosure + HPWH + High Efficiency HP/...        356    3273.777985   \n",
       "Basic Enclosure + HPWH + High Efficiency HP/Ele...        356    3273.777985   \n",
       "High Efficiency Whole Home Electrification                356    3273.777985   \n",
       "High Efficiency Heat Pump with Electric Heat Ba...        356    3273.777985   \n",
       "Enhanced Enclosure                                        353    3242.969109   \n",
       "Mininum Efficiency Heat Pump with Electric Heat...        356    3273.777985   \n",
       "Mininum Efficiency Heat Pump with Existing Heat...        356    3273.777985   \n",
       "Basic Enclosure                                           353    3242.969109   \n",
       "Heat Pump Water Heater                                    349    3212.398369   \n",
       "Heat Pump Clothes Dryer                                   341    3145.940639   \n",
       "Induction Cooking                                         353    3238.950560   \n",
       "baseline                                                  356    3273.777985   \n",
       "Electric Cooking                                           56     484.731281   \n",
       "Mininum Efficiency Whole Home Electrification              79     835.355004   \n",
       "Electric Clothes Dryer                                      9      66.844701   \n",
       "\n",
       "                                                    saving_cbill.total_usd wt_mean  \\\n",
       "upgrade_name                                                                         \n",
       "Enhanced Enclosure + High Efficiency Whole Home...                     1497.680085   \n",
       "Basic Enclosure + High Efficiency Whole Home El...                     1478.825711   \n",
       "Enhanced Enclosure + HPWH + High Efficiency HP/...                     1467.176702   \n",
       "Basic Enclosure + HPWH + High Efficiency HP/Ele...                     1448.345751   \n",
       "High Efficiency Whole Home Electrification                             1316.394090   \n",
       "High Efficiency Heat Pump with Electric Heat Ba...                     1108.996186   \n",
       "Enhanced Enclosure                                                      632.065567   \n",
       "Mininum Efficiency Heat Pump with Electric Heat...                      595.604443   \n",
       "Mininum Efficiency Heat Pump with Existing Heat...                      595.603189   \n",
       "Basic Enclosure                                                         562.045352   \n",
       "Heat Pump Water Heater                                                  133.730355   \n",
       "Heat Pump Clothes Dryer                                                  33.800004   \n",
       "Induction Cooking                                                         2.674321   \n",
       "baseline                                                                  0.000000   \n",
       "Electric Cooking                                                        -12.744149   \n",
       "Mininum Efficiency Whole Home Electrification                           -22.038358   \n",
       "Electric Clothes Dryer                                                  -24.064344   \n",
       "\n",
       "                                                    saving_cbill.total_usd wt_p0.1  \\\n",
       "upgrade_name                                                                         \n",
       "Enhanced Enclosure + High Efficiency Whole Home...                      701.242103   \n",
       "Basic Enclosure + High Efficiency Whole Home El...                      701.242103   \n",
       "Enhanced Enclosure + HPWH + High Efficiency HP/...                      661.399598   \n",
       "Basic Enclosure + HPWH + High Efficiency HP/Ele...                      657.865077   \n",
       "High Efficiency Whole Home Electrification                              636.468155   \n",
       "High Efficiency Heat Pump with Electric Heat Ba...                      430.160330   \n",
       "Enhanced Enclosure                                                      114.341272   \n",
       "Mininum Efficiency Heat Pump with Electric Heat...                      114.100929   \n",
       "Mininum Efficiency Heat Pump with Existing Heat...                      114.100929   \n",
       "Basic Enclosure                                                          86.469676   \n",
       "Heat Pump Water Heater                                                   36.875295   \n",
       "Heat Pump Clothes Dryer                                                  15.540260   \n",
       "Induction Cooking                                                         3.371966   \n",
       "baseline                                                                  0.000000   \n",
       "Electric Cooking                                                        -52.733806   \n",
       "Mininum Efficiency Whole Home Electrification                          -138.559145   \n",
       "Electric Clothes Dryer                                                  -40.051622   \n",
       "\n",
       "                                                    saving_cbill.total_usd wt_p0.25  \\\n",
       "upgrade_name                                                                          \n",
       "Enhanced Enclosure + High Efficiency Whole Home...                       924.246727   \n",
       "Basic Enclosure + High Efficiency Whole Home El...                       908.599205   \n",
       "Enhanced Enclosure + HPWH + High Efficiency HP/...                       891.048464   \n",
       "Basic Enclosure + HPWH + High Efficiency HP/Ele...                       869.268031   \n",
       "High Efficiency Whole Home Electrification                               839.627027   \n",
       "High Efficiency Heat Pump with Electric Heat Ba...                       601.836225   \n",
       "Enhanced Enclosure                                                       257.076004   \n",
       "Mininum Efficiency Heat Pump with Electric Heat...                       228.912488   \n",
       "Mininum Efficiency Heat Pump with Existing Heat...                       228.912488   \n",
       "Basic Enclosure                                                          211.983760   \n",
       "Heat Pump Water Heater                                                    64.965772   \n",
       "Heat Pump Clothes Dryer                                                   22.340108   \n",
       "Induction Cooking                                                          3.627435   \n",
       "baseline                                                                   0.000000   \n",
       "Electric Cooking                                                         -44.054221   \n",
       "Mininum Efficiency Whole Home Electrification                            -61.497919   \n",
       "Electric Clothes Dryer                                                   -29.542173   \n",
       "\n",
       "                                                    saving_cbill.total_usd wt_p0.75  \\\n",
       "upgrade_name                                                                          \n",
       "Enhanced Enclosure + High Efficiency Whole Home...                      1856.862419   \n",
       "Basic Enclosure + High Efficiency Whole Home El...                      1804.705104   \n",
       "Enhanced Enclosure + HPWH + High Efficiency HP/...                      1815.668038   \n",
       "Basic Enclosure + HPWH + High Efficiency HP/Ele...                      1786.088180   \n",
       "High Efficiency Whole Home Electrification                              1602.599587   \n",
       "High Efficiency Heat Pump with Electric Heat Ba...                      1388.713866   \n",
       "Enhanced Enclosure                                                       837.608002   \n",
       "Mininum Efficiency Heat Pump with Electric Heat...                       799.342914   \n",
       "Mininum Efficiency Heat Pump with Existing Heat...                       799.342914   \n",
       "Basic Enclosure                                                          791.558444   \n",
       "Heat Pump Water Heater                                                   174.613582   \n",
       "Heat Pump Clothes Dryer                                                   43.295585   \n",
       "Induction Cooking                                                          5.249537   \n",
       "baseline                                                                   0.000000   \n",
       "Electric Cooking                                                           8.439828   \n",
       "Mininum Efficiency Whole Home Electrification                              5.391105   \n",
       "Electric Clothes Dryer                                                   -18.422300   \n",
       "\n",
       "                                                    saving_cbill.total_usd wt_p0.9  \n",
       "upgrade_name                                                                        \n",
       "Enhanced Enclosure + High Efficiency Whole Home...                     2501.727022  \n",
       "Basic Enclosure + High Efficiency Whole Home El...                     2462.872586  \n",
       "Enhanced Enclosure + HPWH + High Efficiency HP/...                     2462.948657  \n",
       "Basic Enclosure + HPWH + High Efficiency HP/Ele...                     2415.426504  \n",
       "High Efficiency Whole Home Electrification                             2152.728290  \n",
       "High Efficiency Heat Pump with Electric Heat Ba...                     1911.180045  \n",
       "Enhanced Enclosure                                                     1341.124291  \n",
       "Mininum Efficiency Heat Pump with Electric Heat...                     1241.220886  \n",
       "Mininum Efficiency Heat Pump with Existing Heat...                     1241.220886  \n",
       "Basic Enclosure                                                        1168.406155  \n",
       "Heat Pump Water Heater                                                  263.117999  \n",
       "Heat Pump Clothes Dryer                                                  56.106653  \n",
       "Induction Cooking                                                         7.957737  \n",
       "baseline                                                                  0.000000  \n",
       "Electric Cooking                                                         11.313832  \n",
       "Mininum Efficiency Whole Home Electrification                            96.894630  \n",
       "Electric Clothes Dryer                                                  -15.652441  "
      ]
     },
     "metadata": {},
     "output_type": "display_data"
    }
   ],
   "source": [
    "metric = 'saving_cbill.total_usd'  # TODO 'pct_saving_cbill.total_%' #'pct_saving_energy.total_%' #'saving_energy.total_mmbtu' #'saving_cbill.total_usd'\n",
    "\n",
    "for segment in sorted(community_results[\"segment\"].dropna().unique()):\n",
    "    print(f\"Summary for segment: {segment}: \")\n",
    "    df_seg = community_results.loc[community_results[\"segment\"]==segment]\n",
    "    results = get_summary(df_seg, metric, lower_percentile=0.10, middle_percentile1=0.25, middle_percentile2=0.75, upper_percentile=0.90)\n",
    "    saving_results[f'{segment}_{income}_saving_bill_total_usd_wt_p0.1'] = results.iloc[:, 3]\n",
    "    saving_results[f'{segment}_{income}_saving_bill_total_usd_wt_p0.25'] = results.iloc[:, 4]\n",
    "    saving_results[f'{segment}_{income}_saving_bill_total_usd_wt_p0.75'] = results.iloc[:, 5]\n",
    "    saving_results[f'{segment}_{income}_saving_bill_total_usd_wt_p0.9'] = results.iloc[:, 6]\n",
    "    display(results)"
   ]
  },
  {
   "cell_type": "markdown",
   "id": "13fe6b47",
   "metadata": {},
   "source": [
    "## 2.1 Upgrade Cost Per Dwelling Unit "
   ]
  },
  {
   "cell_type": "code",
   "execution_count": 21,
   "id": "585a1a25",
   "metadata": {},
   "outputs": [
    {
     "name": "stdout",
     "output_type": "stream",
     "text": [
      "segment1: upgrade cost (usd) per dwelling unit\n"
     ]
    },
    {
     "data": {
      "text/plain": [
       "upgrade_name\n",
       "Electric Cooking                                                     977.8\n",
       "Electric Clothes Dryer                                              1098.0\n",
       "Induction Cooking                                                   1681.3\n",
       "Heat Pump Clothes Dryer                                             2209.5\n",
       "Heat Pump Water Heater                                              2891.3\n",
       "Basic Enclosure                                                     6464.5\n",
       "Enhanced Enclosure                                                  8852.1\n",
       "Mininum Efficiency Heat Pump with Existing Heat Backup             16194.6\n",
       "Mininum Efficiency Heat Pump with Electric Heat Backup             16443.3\n",
       "Mininum Efficiency Whole Home Electrification                      19425.5\n",
       "High Efficiency Heat Pump with Electric Heat Backup                26772.6\n",
       "Basic Enclosure + HPWH + High Efficiency HP/Electric Backup        31746.5\n",
       "Enhanced Enclosure + HPWH + High Efficiency HP/Electric Backup     33345.8\n",
       "High Efficiency Whole Home Electrification                         33460.2\n",
       "Basic Enclosure + High Efficiency Whole Home Electrification       35542.8\n",
       "Enhanced Enclosure + High Efficiency Whole Home Electrification    37142.2\n",
       "Name: upgrade_cost_usd, dtype: float64"
      ]
     },
     "metadata": {},
     "output_type": "display_data"
    },
    {
     "name": "stdout",
     "output_type": "stream",
     "text": [
      "segment2: upgrade cost (usd) per dwelling unit\n"
     ]
    },
    {
     "data": {
      "text/plain": [
       "upgrade_name\n",
       "Electric Cooking                                                     977.8\n",
       "Electric Clothes Dryer                                              1098.0\n",
       "Induction Cooking                                                   1681.3\n",
       "Mininum Efficiency Whole Home Electrification                       2050.6\n",
       "Heat Pump Clothes Dryer                                             2209.5\n",
       "Heat Pump Water Heater                                              2896.3\n",
       "Basic Enclosure                                                     5699.3\n",
       "Enhanced Enclosure                                                  7654.7\n",
       "Mininum Efficiency Heat Pump with Electric Heat Backup             15591.5\n",
       "Mininum Efficiency Heat Pump with Existing Heat Backup             15591.5\n",
       "High Efficiency Heat Pump with Electric Heat Backup                26662.5\n",
       "Basic Enclosure + HPWH + High Efficiency HP/Electric Backup        31360.1\n",
       "Enhanced Enclosure + HPWH + High Efficiency HP/Electric Backup     32694.8\n",
       "High Efficiency Whole Home Electrification                         33291.2\n",
       "Basic Enclosure + High Efficiency Whole Home Electrification       35146.7\n",
       "Enhanced Enclosure + High Efficiency Whole Home Electrification    36481.5\n",
       "Name: upgrade_cost_usd, dtype: float64"
      ]
     },
     "metadata": {},
     "output_type": "display_data"
    }
   ],
   "source": [
    "results = segment_mean_upgrade_cost(community_results) \n",
    "saving_results[f'segment1_{income}_upgrade_cost_mean_usd'] = results[0]\n",
    "saving_results[f'segment2_{income}_upgrade_cost_mean_usd'] = results[1]"
   ]
  },
  {
   "cell_type": "markdown",
   "id": "660e0aa3",
   "metadata": {},
   "source": [
    " ## 2.2 Annual Savings Per Dollar Invested"
   ]
  },
  {
   "cell_type": "markdown",
   "id": "9492f6e1",
   "metadata": {},
   "source": [
    " ### Annual Bill Savings Per Dollar Invested"
   ]
  },
  {
   "cell_type": "code",
   "execution_count": 22,
   "id": "6e31ced4",
   "metadata": {},
   "outputs": [
    {
     "name": "stdout",
     "output_type": "stream",
     "text": [
      "segment1\n"
     ]
    },
    {
     "data": {
      "text/plain": [
       "upgrade_name\n",
       "Basic Enclosure                                                    0.08089\n",
       "Enhanced Enclosure                                                 0.06888\n",
       "Heat Pump Water Heater                                             0.05067\n",
       "High Efficiency Heat Pump with Electric Heat Backup                0.03355\n",
       "Mininum Efficiency Heat Pump with Electric Heat Backup             0.02137\n",
       "Mininum Efficiency Heat Pump with Existing Heat Backup             0.01604\n",
       "Heat Pump Clothes Dryer                                            0.01516\n",
       "Enhanced Enclosure + HPWH + High Efficiency HP/Electric Backup     0.01046\n",
       "Basic Enclosure + HPWH + High Efficiency HP/Electric Backup        0.01023\n",
       "Enhanced Enclosure + High Efficiency Whole Home Electrification    0.00973\n",
       "Basic Enclosure + High Efficiency Whole Home Electrification       0.00948\n",
       "Electric Cooking                                                   0.00502\n",
       "High Efficiency Whole Home Electrification                         0.00462\n",
       "Induction Cooking                                                  0.00420\n",
       "Electric Clothes Dryer                                            -0.01867\n",
       "Mininum Efficiency Whole Home Electrification                     -0.02271\n",
       "Name: saving_cbill.total_usd, dtype: float64"
      ]
     },
     "metadata": {},
     "output_type": "display_data"
    },
    {
     "name": "stdout",
     "output_type": "stream",
     "text": [
      "segment2\n"
     ]
    },
    {
     "data": {
      "text/plain": [
       "upgrade_name\n",
       "Basic Enclosure                                                    0.09862\n",
       "Enhanced Enclosure                                                 0.08257\n",
       "Basic Enclosure + HPWH + High Efficiency HP/Electric Backup        0.04618\n",
       "Heat Pump Water Heater                                             0.04617\n",
       "Enhanced Enclosure + HPWH + High Efficiency HP/Electric Backup     0.04487\n",
       "Basic Enclosure + High Efficiency Whole Home Electrification       0.04208\n",
       "High Efficiency Heat Pump with Electric Heat Backup                0.04159\n",
       "Enhanced Enclosure + High Efficiency Whole Home Electrification    0.04105\n",
       "High Efficiency Whole Home Electrification                         0.03954\n",
       "Mininum Efficiency Heat Pump with Electric Heat Backup             0.03820\n",
       "Mininum Efficiency Heat Pump with Existing Heat Backup             0.03820\n",
       "Heat Pump Clothes Dryer                                            0.01530\n",
       "Induction Cooking                                                  0.00159\n",
       "Mininum Efficiency Whole Home Electrification                     -0.01075\n",
       "Electric Cooking                                                  -0.01303\n",
       "Electric Clothes Dryer                                            -0.02192\n",
       "Name: saving_cbill.total_usd, dtype: float64"
      ]
     },
     "metadata": {},
     "output_type": "display_data"
    }
   ],
   "source": [
    "indicator ='saving_cbill.total_usd'\n",
    "results = segment_savings_per_dollar(indicator, community_results) \n",
    "saving_results[f'segment1_{income}_saving_bill_per_dollar_invested_usd'] = results[0]\n",
    "saving_results[f'segment2_{income}_saving_bill_per_dollar_invested_usd'] = results[1]"
   ]
  },
  {
   "cell_type": "markdown",
   "id": "4be95afb",
   "metadata": {},
   "source": [
    " ### Annual Energy Savings Per Dollar Invested"
   ]
  },
  {
   "cell_type": "code",
   "execution_count": 23,
   "id": "d03da729",
   "metadata": {},
   "outputs": [
    {
     "name": "stdout",
     "output_type": "stream",
     "text": [
      "segment1\n"
     ]
    },
    {
     "data": {
      "text/plain": [
       "upgrade_name\n",
       "Basic Enclosure                                                    0.00403\n",
       "Enhanced Enclosure                                                 0.00343\n",
       "Heat Pump Water Heater                                             0.00284\n",
       "Mininum Efficiency Whole Home Electrification                      0.00251\n",
       "Mininum Efficiency Heat Pump with Electric Heat Backup             0.00223\n",
       "Basic Enclosure + HPWH + High Efficiency HP/Electric Backup        0.00218\n",
       "Enhanced Enclosure + HPWH + High Efficiency HP/Electric Backup     0.00210\n",
       "Basic Enclosure + High Efficiency Whole Home Electrification       0.00200\n",
       "High Efficiency Whole Home Electrification                         0.00197\n",
       "High Efficiency Heat Pump with Electric Heat Backup                0.00196\n",
       "Enhanced Enclosure + High Efficiency Whole Home Electrification    0.00194\n",
       "Electric Cooking                                                   0.00166\n",
       "Mininum Efficiency Heat Pump with Existing Heat Backup             0.00132\n",
       "Induction Cooking                                                  0.00053\n",
       "Heat Pump Clothes Dryer                                            0.00047\n",
       "Electric Clothes Dryer                                             0.00046\n",
       "Name: saving_energy.total_mmbtu, dtype: float64"
      ]
     },
     "metadata": {},
     "output_type": "display_data"
    },
    {
     "name": "stdout",
     "output_type": "stream",
     "text": [
      "segment2\n"
     ]
    },
    {
     "data": {
      "text/plain": [
       "upgrade_name\n",
       "Mininum Efficiency Whole Home Electrification                      0.00351\n",
       "Basic Enclosure                                                    0.00292\n",
       "Enhanced Enclosure                                                 0.00245\n",
       "Heat Pump Water Heater                                             0.00185\n",
       "Electric Cooking                                                   0.00155\n",
       "Basic Enclosure + HPWH + High Efficiency HP/Electric Backup        0.00141\n",
       "Enhanced Enclosure + HPWH + High Efficiency HP/Electric Backup     0.00137\n",
       "Basic Enclosure + High Efficiency Whole Home Electrification       0.00129\n",
       "Enhanced Enclosure + High Efficiency Whole Home Electrification    0.00126\n",
       "High Efficiency Heat Pump with Electric Heat Backup                0.00123\n",
       "High Efficiency Whole Home Electrification                         0.00123\n",
       "Mininum Efficiency Heat Pump with Electric Heat Backup             0.00115\n",
       "Mininum Efficiency Heat Pump with Existing Heat Backup             0.00115\n",
       "Electric Clothes Dryer                                             0.00048\n",
       "Heat Pump Clothes Dryer                                            0.00046\n",
       "Induction Cooking                                                  0.00022\n",
       "Name: saving_energy.total_mmbtu, dtype: float64"
      ]
     },
     "metadata": {},
     "output_type": "display_data"
    }
   ],
   "source": [
    "indicator = 'saving_energy.total_mmbtu'\n",
    "results = segment_savings_per_dollar(indicator, community_results) \n",
    "saving_results[f'segment1_{income}_saving_energy_per_dollar_invested_mmbtu'] = results[0]\n",
    "saving_results[f'segment2_{income}_saving_energy_per_dollar_invested_mmbtu'] = results[1]"
   ]
  },
  {
   "cell_type": "markdown",
   "id": "3b3ea80f",
   "metadata": {},
   "source": [
    " ### Annual Emission Savings Per Dollar Invested"
   ]
  },
  {
   "cell_type": "code",
   "execution_count": 24,
   "id": "b538dff9",
   "metadata": {},
   "outputs": [
    {
     "name": "stdout",
     "output_type": "stream",
     "text": [
      "segment1\n"
     ]
    },
    {
     "data": {
      "text/plain": [
       "upgrade_name\n",
       "Basic Enclosure                                                    0.26693\n",
       "Enhanced Enclosure                                                 0.22932\n",
       "Heat Pump Water Heater                                             0.18778\n",
       "Basic Enclosure + HPWH + High Efficiency HP/Electric Backup        0.14223\n",
       "Enhanced Enclosure + HPWH + High Efficiency HP/Electric Backup     0.13756\n",
       "Mininum Efficiency Whole Home Electrification                      0.13729\n",
       "Basic Enclosure + High Efficiency Whole Home Electrification       0.13055\n",
       "Enhanced Enclosure + High Efficiency Whole Home Electrification    0.12687\n",
       "High Efficiency Whole Home Electrification                         0.12472\n",
       "High Efficiency Heat Pump with Electric Heat Backup                0.12231\n",
       "Mininum Efficiency Heat Pump with Electric Heat Backup             0.11393\n",
       "Electric Cooking                                                   0.09686\n",
       "Mininum Efficiency Heat Pump with Existing Heat Backup             0.07509\n",
       "Heat Pump Clothes Dryer                                            0.03329\n",
       "Induction Cooking                                                  0.03249\n",
       "Electric Clothes Dryer                                             0.02235\n",
       "Name: saving_emission.total_kgCO2e, dtype: float64"
      ]
     },
     "metadata": {},
     "output_type": "display_data"
    },
    {
     "name": "stdout",
     "output_type": "stream",
     "text": [
      "segment2\n"
     ]
    },
    {
     "data": {
      "text/plain": [
       "upgrade_name\n",
       "Basic Enclosure                                                    0.27353\n",
       "Mininum Efficiency Whole Home Electrification                      0.24477\n",
       "Enhanced Enclosure                                                 0.23061\n",
       "Heat Pump Water Heater                                             0.13367\n",
       "Basic Enclosure + HPWH + High Efficiency HP/Electric Backup        0.12916\n",
       "Enhanced Enclosure + HPWH + High Efficiency HP/Electric Backup     0.12560\n",
       "Basic Enclosure + High Efficiency Whole Home Electrification       0.11797\n",
       "High Efficiency Heat Pump with Electric Heat Backup                0.11717\n",
       "Mininum Efficiency Heat Pump with Electric Heat Backup             0.11637\n",
       "Mininum Efficiency Heat Pump with Existing Heat Backup             0.11637\n",
       "Enhanced Enclosure + High Efficiency Whole Home Electrification    0.11519\n",
       "High Efficiency Whole Home Electrification                         0.11211\n",
       "Electric Cooking                                                   0.10019\n",
       "Heat Pump Clothes Dryer                                            0.03302\n",
       "Electric Clothes Dryer                                             0.01976\n",
       "Induction Cooking                                                  0.01539\n",
       "Name: saving_emission.total_kgCO2e, dtype: float64"
      ]
     },
     "metadata": {},
     "output_type": "display_data"
    }
   ],
   "source": [
    "indicator ='saving_emission.total_kgCO2e'\n",
    "results = segment_savings_per_dollar(indicator, community_results) \n",
    "saving_results[f'segment1_{income}_saving_emission_per_dollar_invested_kgCO2e'] = results[0]\n",
    "saving_results[f'segment2_{income}_saving_emission_per_dollar_invested_kgCO2e'] = results[1]"
   ]
  },
  {
   "cell_type": "markdown",
   "id": "961cd050",
   "metadata": {},
   "source": [
    "## 2.3 Annual Total Savings"
   ]
  },
  {
   "cell_type": "markdown",
   "id": "702400cd",
   "metadata": {},
   "source": [
    "### Annual Total Bill Savings"
   ]
  },
  {
   "cell_type": "code",
   "execution_count": 25,
   "id": "4cb37f5f",
   "metadata": {},
   "outputs": [
    {
     "name": "stdout",
     "output_type": "stream",
     "text": [
      "segment1\n"
     ]
    },
    {
     "data": {
      "text/plain": [
       "upgrade_name\n",
       "High Efficiency Heat Pump with Electric Heat Backup                3795645.9\n",
       "Enhanced Enclosure                                                 2562294.5\n",
       "Basic Enclosure                                                    2194413.9\n",
       "Enhanced Enclosure + High Efficiency Whole Home Electrification    1526430.2\n",
       "Mininum Efficiency Heat Pump with Electric Heat Backup             1485198.4\n",
       "Enhanced Enclosure + HPWH + High Efficiency HP/Electric Backup     1473914.5\n",
       "Basic Enclosure + High Efficiency Whole Home Electrification       1424516.4\n",
       "Basic Enclosure + HPWH + High Efficiency HP/Electric Backup        1371947.6\n",
       "Mininum Efficiency Heat Pump with Existing Heat Backup             1097988.3\n",
       "High Efficiency Whole Home Electrification                          653371.7\n",
       "Heat Pump Water Heater                                              619136.8\n",
       "Heat Pump Clothes Dryer                                             136298.3\n",
       "Induction Cooking                                                    29573.4\n",
       "Electric Cooking                                                      9614.4\n",
       "Electric Clothes Dryer                                               -6920.8\n",
       "Mininum Efficiency Whole Home Electrification                     -1864347.8\n",
       "Name: saving_cbill.total_usd, dtype: float64"
      ]
     },
     "metadata": {},
     "output_type": "display_data"
    },
    {
     "name": "stdout",
     "output_type": "stream",
     "text": [
      "segment2\n"
     ]
    },
    {
     "data": {
      "text/plain": [
       "upgrade_name\n",
       "Enhanced Enclosure + High Efficiency Whole Home Electrification    4903072.1\n",
       "Basic Enclosure + High Efficiency Whole Home Electrification       4841347.1\n",
       "Enhanced Enclosure + HPWH + High Efficiency HP/Electric Backup     4803210.8\n",
       "Basic Enclosure + HPWH + High Efficiency HP/Electric Backup        4741562.4\n",
       "High Efficiency Whole Home Electrification                         4309582.0\n",
       "High Efficiency Heat Pump with Electric Heat Backup                3630607.3\n",
       "Enhanced Enclosure                                                 2049769.1\n",
       "Mininum Efficiency Heat Pump with Electric Heat Backup             1949876.7\n",
       "Mininum Efficiency Heat Pump with Existing Heat Backup             1949872.6\n",
       "Basic Enclosure                                                    1822695.7\n",
       "Heat Pump Water Heater                                              429595.2\n",
       "Heat Pump Clothes Dryer                                             106332.8\n",
       "Induction Cooking                                                     8662.0\n",
       "Electric Clothes Dryer                                               -1608.6\n",
       "Electric Cooking                                                     -6177.5\n",
       "Mininum Efficiency Whole Home Electrification                       -18409.9\n",
       "Name: saving_cbill.total_usd, dtype: float64"
      ]
     },
     "metadata": {},
     "output_type": "display_data"
    }
   ],
   "source": [
    "indicator ='saving_cbill.total_usd'\n",
    "results = segment_annual_total_savings(indicator, community_results)\n",
    "saving_results[f'segment1_{income}_saving_bill_total_usd'] = results[0]\n",
    "saving_results[f'segment2_{income}_saving_bill_total_usd'] = results[1]"
   ]
  },
  {
   "cell_type": "markdown",
   "id": "5a9433f1",
   "metadata": {},
   "source": [
    "### Annual Total Energy Savings"
   ]
  },
  {
   "cell_type": "code",
   "execution_count": 26,
   "id": "772222fe",
   "metadata": {},
   "outputs": [
    {
     "name": "stdout",
     "output_type": "stream",
     "text": [
      "segment1\n"
     ]
    },
    {
     "data": {
      "text/plain": [
       "upgrade_name\n",
       "Enhanced Enclosure + High Efficiency Whole Home Electrification    303890.4\n",
       "Basic Enclosure + High Efficiency Whole Home Electrification       300939.4\n",
       "Enhanced Enclosure + HPWH + High Efficiency HP/Electric Backup     295912.1\n",
       "Basic Enclosure + HPWH + High Efficiency HP/Electric Backup        292961.1\n",
       "High Efficiency Whole Home Electrification                         278650.0\n",
       "High Efficiency Heat Pump with Electric Heat Backup                221488.4\n",
       "Mininum Efficiency Whole Home Electrification                      206091.2\n",
       "Mininum Efficiency Heat Pump with Electric Heat Backup             155075.5\n",
       "Enhanced Enclosure                                                 127596.2\n",
       "Basic Enclosure                                                    109290.2\n",
       "Mininum Efficiency Heat Pump with Existing Heat Backup              90556.1\n",
       "Heat Pump Water Heater                                              34728.1\n",
       "Heat Pump Clothes Dryer                                              4222.2\n",
       "Induction Cooking                                                    3756.1\n",
       "Electric Cooking                                                     3191.3\n",
       "Electric Clothes Dryer                                                171.8\n",
       "Name: saving_energy.total_mmbtu, dtype: float64"
      ]
     },
     "metadata": {},
     "output_type": "display_data"
    },
    {
     "name": "stdout",
     "output_type": "stream",
     "text": [
      "segment2\n"
     ]
    },
    {
     "data": {
      "text/plain": [
       "upgrade_name\n",
       "Enhanced Enclosure + High Efficiency Whole Home Electrification    150703.0\n",
       "Basic Enclosure + High Efficiency Whole Home Electrification       148922.3\n",
       "Enhanced Enclosure + HPWH + High Efficiency HP/Electric Backup     146336.8\n",
       "Basic Enclosure + HPWH + High Efficiency HP/Electric Backup        144556.0\n",
       "High Efficiency Whole Home Electrification                         133545.4\n",
       "High Efficiency Heat Pump with Electric Heat Backup                107275.3\n",
       "Enhanced Enclosure                                                  60767.5\n",
       "Mininum Efficiency Heat Pump with Electric Heat Backup              58951.1\n",
       "Mininum Efficiency Heat Pump with Existing Heat Backup              58951.0\n",
       "Basic Enclosure                                                     54035.9\n",
       "Heat Pump Water Heater                                              17221.3\n",
       "Mininum Efficiency Whole Home Electrification                        6014.9\n",
       "Heat Pump Clothes Dryer                                              3181.3\n",
       "Induction Cooking                                                    1185.0\n",
       "Electric Cooking                                                      736.0\n",
       "Electric Clothes Dryer                                                 35.0\n",
       "Name: saving_energy.total_mmbtu, dtype: float64"
      ]
     },
     "metadata": {},
     "output_type": "display_data"
    }
   ],
   "source": [
    "indicator ='saving_energy.total_mmbtu'\n",
    "results = segment_annual_total_savings(indicator, community_results)\n",
    "saving_results[f'segment1_{income}_saving_energy_total_mmbtu'] = results[0]\n",
    "saving_results[f'segment2_{income}_saving_energy_total_mmbtu'] = results[1]"
   ]
  },
  {
   "cell_type": "markdown",
   "id": "468edc4e",
   "metadata": {},
   "source": [
    "### Annual Total Emission Savings"
   ]
  },
  {
   "cell_type": "code",
   "execution_count": 27,
   "id": "5fb13c1b",
   "metadata": {},
   "outputs": [
    {
     "name": "stdout",
     "output_type": "stream",
     "text": [
      "segment1\n"
     ]
    },
    {
     "data": {
      "text/plain": [
       "upgrade_name\n",
       "Enhanced Enclosure + High Efficiency Whole Home Electrification    19912155.1\n",
       "Basic Enclosure + High Efficiency Whole Home Electrification       19608300.7\n",
       "Enhanced Enclosure + HPWH + High Efficiency HP/Electric Backup     19383775.0\n",
       "Basic Enclosure + HPWH + High Efficiency HP/Electric Backup        19079920.6\n",
       "High Efficiency Whole Home Electrification                         17634382.5\n",
       "High Efficiency Heat Pump with Electric Heat Backup                13836953.5\n",
       "Mininum Efficiency Whole Home Electrification                      11269415.2\n",
       "Enhanced Enclosure                                                  8530978.5\n",
       "Mininum Efficiency Heat Pump with Electric Heat Backup              7916340.1\n",
       "Basic Enclosure                                                     7241656.4\n",
       "Mininum Efficiency Heat Pump with Existing Heat Backup              5138743.1\n",
       "Heat Pump Water Heater                                              2294283.7\n",
       "Heat Pump Clothes Dryer                                              299376.1\n",
       "Induction Cooking                                                    229004.0\n",
       "Electric Cooking                                                     185682.8\n",
       "Electric Clothes Dryer                                                 8282.7\n",
       "Name: saving_emission.total_kgCO2e, dtype: float64"
      ]
     },
     "metadata": {},
     "output_type": "display_data"
    },
    {
     "name": "stdout",
     "output_type": "stream",
     "text": [
      "segment2\n"
     ]
    },
    {
     "data": {
      "text/plain": [
       "upgrade_name\n",
       "Enhanced Enclosure + High Efficiency Whole Home Electrification    13756931.3\n",
       "Basic Enclosure + High Efficiency Whole Home Electrification       13573474.2\n",
       "Enhanced Enclosure + HPWH + High Efficiency HP/Electric Backup     13443613.6\n",
       "Basic Enclosure + HPWH + High Efficiency HP/Electric Backup        13260156.5\n",
       "High Efficiency Whole Home Electrification                         12218838.8\n",
       "High Efficiency Heat Pump with Electric Heat Backup                10227312.5\n",
       "Mininum Efficiency Heat Pump with Electric Heat Backup              5939976.6\n",
       "Mininum Efficiency Heat Pump with Existing Heat Backup              5939968.4\n",
       "Enhanced Enclosure                                                  5724741.4\n",
       "Basic Enclosure                                                     5055598.3\n",
       "Heat Pump Water Heater                                              1243667.8\n",
       "Mininum Efficiency Whole Home Electrification                        419285.1\n",
       "Heat Pump Clothes Dryer                                              229515.7\n",
       "Induction Cooking                                                     83802.1\n",
       "Electric Cooking                                                      47485.2\n",
       "Electric Clothes Dryer                                                 1450.5\n",
       "Name: saving_emission.total_kgCO2e, dtype: float64"
      ]
     },
     "metadata": {},
     "output_type": "display_data"
    }
   ],
   "source": [
    "indicator ='saving_emission.total_kgCO2e'\n",
    "results = segment_annual_total_savings(indicator, community_results)\n",
    "saving_results[f'segment1_{income}_saving_emission_total_kgCO2e'] = results[0]\n",
    "saving_results[f'segment2_{income}_saving_emission_total_kgCO2e'] = results[1]"
   ]
  },
  {
   "cell_type": "markdown",
   "id": "83cbedb9",
   "metadata": {},
   "source": [
    "## 2.4 Annual Savings Per Dwelling Unit"
   ]
  },
  {
   "cell_type": "markdown",
   "id": "eb35438b",
   "metadata": {},
   "source": [
    "### Annual Bill Savings Per Dwelling Unit"
   ]
  },
  {
   "cell_type": "code",
   "execution_count": 28,
   "id": "876cf387",
   "metadata": {},
   "outputs": [
    {
     "name": "stdout",
     "output_type": "stream",
     "text": [
      "segment1\n"
     ]
    },
    {
     "data": {
      "text/plain": [
       "upgrade_name\n",
       "High Efficiency Heat Pump with Electric Heat Backup                898.2\n",
       "Enhanced Enclosure                                                 609.7\n",
       "Basic Enclosure                                                    522.9\n",
       "Enhanced Enclosure + High Efficiency Whole Home Electrification    361.2\n",
       "Mininum Efficiency Heat Pump with Electric Heat Backup             351.5\n",
       "Enhanced Enclosure + HPWH + High Efficiency HP/Electric Backup     348.8\n",
       "Basic Enclosure + High Efficiency Whole Home Electrification       337.1\n",
       "Basic Enclosure + HPWH + High Efficiency HP/Electric Backup        324.7\n",
       "Mininum Efficiency Heat Pump with Existing Heat Backup             259.8\n",
       "High Efficiency Whole Home Electrification                         154.6\n",
       "Heat Pump Water Heater                                             146.5\n",
       "Heat Pump Clothes Dryer                                             33.5\n",
       "Induction Cooking                                                    7.1\n",
       "Electric Cooking                                                     4.9\n",
       "Electric Clothes Dryer                                             -20.5\n",
       "Mininum Efficiency Whole Home Electrification                     -441.2\n",
       "Name: saving_cbill.total_usd, dtype: float64"
      ]
     },
     "metadata": {},
     "output_type": "display_data"
    },
    {
     "name": "stdout",
     "output_type": "stream",
     "text": [
      "segment2\n"
     ]
    },
    {
     "data": {
      "text/plain": [
       "upgrade_name\n",
       "Enhanced Enclosure + High Efficiency Whole Home Electrification    1497.7\n",
       "Basic Enclosure + High Efficiency Whole Home Electrification       1478.8\n",
       "Enhanced Enclosure + HPWH + High Efficiency HP/Electric Backup     1467.2\n",
       "Basic Enclosure + HPWH + High Efficiency HP/Electric Backup        1448.3\n",
       "High Efficiency Whole Home Electrification                         1316.4\n",
       "High Efficiency Heat Pump with Electric Heat Backup                1109.0\n",
       "Enhanced Enclosure                                                  632.1\n",
       "Mininum Efficiency Heat Pump with Electric Heat Backup              595.6\n",
       "Mininum Efficiency Heat Pump with Existing Heat Backup              595.6\n",
       "Basic Enclosure                                                     562.0\n",
       "Heat Pump Water Heater                                              133.7\n",
       "Heat Pump Clothes Dryer                                              33.8\n",
       "Induction Cooking                                                     2.7\n",
       "Electric Cooking                                                    -12.7\n",
       "Mininum Efficiency Whole Home Electrification                       -22.0\n",
       "Electric Clothes Dryer                                              -24.1\n",
       "Name: saving_cbill.total_usd, dtype: float64"
      ]
     },
     "metadata": {},
     "output_type": "display_data"
    }
   ],
   "source": [
    "indicator ='saving_cbill.total_usd'\n",
    "results = segment_mean_savings(indicator, community_results)\n",
    "saving_results[f'segment1_{income}_saving_bill_mean_usd'] = results[0]\n",
    "saving_results[f'segment2_{income}_saving_bill_mean_usd'] = results[1]"
   ]
  },
  {
   "cell_type": "markdown",
   "id": "e902c573",
   "metadata": {},
   "source": [
    "### Annual Energy Savings Per Dwelling Unit"
   ]
  },
  {
   "cell_type": "code",
   "execution_count": 29,
   "id": "5ad585ad",
   "metadata": {},
   "outputs": [
    {
     "name": "stdout",
     "output_type": "stream",
     "text": [
      "segment1\n"
     ]
    },
    {
     "data": {
      "text/plain": [
       "upgrade_name\n",
       "Enhanced Enclosure + High Efficiency Whole Home Electrification    71.9\n",
       "Basic Enclosure + High Efficiency Whole Home Electrification       71.2\n",
       "Enhanced Enclosure + HPWH + High Efficiency HP/Electric Backup     70.0\n",
       "Basic Enclosure + HPWH + High Efficiency HP/Electric Backup        69.3\n",
       "High Efficiency Whole Home Electrification                         65.9\n",
       "High Efficiency Heat Pump with Electric Heat Backup                52.4\n",
       "Mininum Efficiency Whole Home Electrification                      48.8\n",
       "Mininum Efficiency Heat Pump with Electric Heat Backup             36.7\n",
       "Enhanced Enclosure                                                 30.4\n",
       "Basic Enclosure                                                    26.0\n",
       "Mininum Efficiency Heat Pump with Existing Heat Backup             21.4\n",
       "Heat Pump Water Heater                                              8.2\n",
       "Electric Cooking                                                    1.6\n",
       "Heat Pump Clothes Dryer                                             1.0\n",
       "Induction Cooking                                                   0.9\n",
       "Electric Clothes Dryer                                              0.5\n",
       "Name: saving_energy.total_mmbtu, dtype: float64"
      ]
     },
     "metadata": {},
     "output_type": "display_data"
    },
    {
     "name": "stdout",
     "output_type": "stream",
     "text": [
      "segment2\n"
     ]
    },
    {
     "data": {
      "text/plain": [
       "upgrade_name\n",
       "Enhanced Enclosure + High Efficiency Whole Home Electrification    46.0\n",
       "Basic Enclosure + High Efficiency Whole Home Electrification       45.5\n",
       "Enhanced Enclosure + HPWH + High Efficiency HP/Electric Backup     44.7\n",
       "Basic Enclosure + HPWH + High Efficiency HP/Electric Backup        44.2\n",
       "High Efficiency Whole Home Electrification                         40.8\n",
       "High Efficiency Heat Pump with Electric Heat Backup                32.8\n",
       "Enhanced Enclosure                                                 18.7\n",
       "Mininum Efficiency Heat Pump with Electric Heat Backup             18.0\n",
       "Mininum Efficiency Heat Pump with Existing Heat Backup             18.0\n",
       "Basic Enclosure                                                    16.7\n",
       "Mininum Efficiency Whole Home Electrification                       7.2\n",
       "Heat Pump Water Heater                                              5.4\n",
       "Electric Cooking                                                    1.5\n",
       "Heat Pump Clothes Dryer                                             1.0\n",
       "Electric Clothes Dryer                                              0.5\n",
       "Induction Cooking                                                   0.4\n",
       "Name: saving_energy.total_mmbtu, dtype: float64"
      ]
     },
     "metadata": {},
     "output_type": "display_data"
    }
   ],
   "source": [
    "indicator ='saving_energy.total_mmbtu'\n",
    "results = segment_mean_savings(indicator, community_results) \n",
    "saving_results[f'segment1_{income}_saving_energy_mean_mmbtu'] = results[0]\n",
    "saving_results[f'segment2_{income}_saving_energy_mean_mmbtu'] = results[1]"
   ]
  },
  {
   "cell_type": "markdown",
   "id": "6d99e632",
   "metadata": {},
   "source": [
    "### Annual Percentage Energy Savings Per Dwelling Unit"
   ]
  },
  {
   "cell_type": "code",
   "execution_count": 30,
   "id": "ae160b7b",
   "metadata": {},
   "outputs": [
    {
     "name": "stdout",
     "output_type": "stream",
     "text": [
      "segment1\n"
     ]
    },
    {
     "data": {
      "text/plain": [
       "upgrade_name\n",
       "Enhanced Enclosure + High Efficiency Whole Home Electrification    64.5\n",
       "Basic Enclosure + High Efficiency Whole Home Electrification       63.9\n",
       "Enhanced Enclosure + HPWH + High Efficiency HP/Electric Backup     62.6\n",
       "Basic Enclosure + HPWH + High Efficiency HP/Electric Backup        62.0\n",
       "High Efficiency Whole Home Electrification                         59.2\n",
       "High Efficiency Heat Pump with Electric Heat Backup                45.9\n",
       "Mininum Efficiency Whole Home Electrification                      43.3\n",
       "Mininum Efficiency Heat Pump with Electric Heat Backup             31.5\n",
       "Enhanced Enclosure                                                 26.4\n",
       "Basic Enclosure                                                    22.7\n",
       "Mininum Efficiency Heat Pump with Existing Heat Backup             17.6\n",
       "Heat Pump Water Heater                                              8.2\n",
       "Electric Cooking                                                    1.7\n",
       "Heat Pump Clothes Dryer                                             1.0\n",
       "Induction Cooking                                                   0.9\n",
       "Electric Clothes Dryer                                              0.6\n",
       "Name: pct_saving_energy.total_%, dtype: float64"
      ]
     },
     "metadata": {},
     "output_type": "display_data"
    },
    {
     "name": "stdout",
     "output_type": "stream",
     "text": [
      "segment2\n"
     ]
    },
    {
     "data": {
      "text/plain": [
       "upgrade_name\n",
       "Enhanced Enclosure + High Efficiency Whole Home Electrification    53.0\n",
       "Basic Enclosure + High Efficiency Whole Home Electrification       52.4\n",
       "Enhanced Enclosure + HPWH + High Efficiency HP/Electric Backup     51.3\n",
       "Basic Enclosure + HPWH + High Efficiency HP/Electric Backup        50.6\n",
       "High Efficiency Whole Home Electrification                         47.1\n",
       "High Efficiency Heat Pump with Electric Heat Backup                37.0\n",
       "Enhanced Enclosure                                                 20.5\n",
       "Mininum Efficiency Heat Pump with Electric Heat Backup             19.4\n",
       "Mininum Efficiency Heat Pump with Existing Heat Backup             19.4\n",
       "Basic Enclosure                                                    18.1\n",
       "Mininum Efficiency Whole Home Electrification                       8.1\n",
       "Heat Pump Water Heater                                              6.6\n",
       "Electric Cooking                                                    2.1\n",
       "Heat Pump Clothes Dryer                                             1.3\n",
       "Electric Clothes Dryer                                              0.7\n",
       "Induction Cooking                                                   0.5\n",
       "Name: pct_saving_energy.total_%, dtype: float64"
      ]
     },
     "metadata": {},
     "output_type": "display_data"
    }
   ],
   "source": [
    "indicator ='pct_saving_energy.total_%'\n",
    "results = segment_mean_savings(indicator, community_results)\n",
    "saving_results[f'segment1_{income}_pct_saving_energy_mean_%'] = results[0]\n",
    "saving_results[f'segment2_{income}_pct_saving_energy_mean_%'] = results[1]"
   ]
  },
  {
   "cell_type": "markdown",
   "id": "4c18ce08",
   "metadata": {},
   "source": [
    "### Annual Emission Savings Per Dwelling Unit"
   ]
  },
  {
   "cell_type": "code",
   "execution_count": 31,
   "id": "a310fa8d",
   "metadata": {},
   "outputs": [
    {
     "name": "stdout",
     "output_type": "stream",
     "text": [
      "segment1\n"
     ]
    },
    {
     "data": {
      "text/plain": [
       "upgrade_name\n",
       "Enhanced Enclosure + High Efficiency Whole Home Electrification    4712.1\n",
       "Basic Enclosure + High Efficiency Whole Home Electrification       4640.2\n",
       "Enhanced Enclosure + HPWH + High Efficiency HP/Electric Backup     4587.1\n",
       "Basic Enclosure + HPWH + High Efficiency HP/Electric Backup        4515.2\n",
       "High Efficiency Whole Home Electrification                         4173.1\n",
       "High Efficiency Heat Pump with Electric Heat Backup                3274.5\n",
       "Mininum Efficiency Whole Home Electrification                      2666.9\n",
       "Enhanced Enclosure                                                 2030.0\n",
       "Mininum Efficiency Heat Pump with Electric Heat Backup             1873.4\n",
       "Basic Enclosure                                                    1725.6\n",
       "Mininum Efficiency Heat Pump with Existing Heat Backup             1216.1\n",
       "Heat Pump Water Heater                                              542.9\n",
       "Electric Cooking                                                     94.7\n",
       "Heat Pump Clothes Dryer                                              73.6\n",
       "Induction Cooking                                                    54.6\n",
       "Electric Clothes Dryer                                               24.5\n",
       "Name: saving_emission.total_kgCO2e, dtype: float64"
      ]
     },
     "metadata": {},
     "output_type": "display_data"
    },
    {
     "name": "stdout",
     "output_type": "stream",
     "text": [
      "segment2\n"
     ]
    },
    {
     "data": {
      "text/plain": [
       "upgrade_name\n",
       "Enhanced Enclosure + High Efficiency Whole Home Electrification    4202.2\n",
       "Basic Enclosure + High Efficiency Whole Home Electrification       4146.1\n",
       "Enhanced Enclosure + HPWH + High Efficiency HP/Electric Backup     4106.5\n",
       "Basic Enclosure + HPWH + High Efficiency HP/Electric Backup        4050.4\n",
       "High Efficiency Whole Home Electrification                         3732.3\n",
       "High Efficiency Heat Pump with Electric Heat Backup                3124.0\n",
       "Mininum Efficiency Heat Pump with Electric Heat Backup             1814.4\n",
       "Mininum Efficiency Heat Pump with Existing Heat Backup             1814.4\n",
       "Enhanced Enclosure                                                 1765.3\n",
       "Basic Enclosure                                                    1558.9\n",
       "Mininum Efficiency Whole Home Electrification                       501.9\n",
       "Heat Pump Water Heater                                              387.1\n",
       "Electric Cooking                                                     98.0\n",
       "Heat Pump Clothes Dryer                                              73.0\n",
       "Induction Cooking                                                    25.9\n",
       "Electric Clothes Dryer                                               21.7\n",
       "Name: saving_emission.total_kgCO2e, dtype: float64"
      ]
     },
     "metadata": {},
     "output_type": "display_data"
    }
   ],
   "source": [
    "indicator ='saving_emission.total_kgCO2e'\n",
    "results = segment_mean_savings(indicator, community_results)\n",
    "saving_results[f'segment1_{income}_saving_emission_mean_kgCO2e'] = results[0]\n",
    "saving_results[f'segment2_{income}_saving_emission_mean_kgCO2e'] = results[1]"
   ]
  },
  {
   "cell_type": "markdown",
   "id": "ebaaed40",
   "metadata": {},
   "source": [
    "## 2.5. Pecent Stock with Positive and Negtive Savings"
   ]
  },
  {
   "cell_type": "markdown",
   "id": "2660dc7b",
   "metadata": {},
   "source": [
    "### Segment 1"
   ]
  },
  {
   "cell_type": "code",
   "execution_count": 32,
   "id": "361be888",
   "metadata": {},
   "outputs": [
    {
     "data": {
      "application/vnd.plotly.v1+json": {
       "config": {
        "plotlyServerURL": "https://plot.ly"
       },
       "data": [
        {
         "marker": {
          "color": "red"
         },
         "name": "Negative",
         "orientation": "h",
         "text": [
          1,
          0.8698979591836735,
          0.2627551020408163,
          0.125,
          0.12244897959183673,
          0.11989795918367346,
          0.11224489795918367,
          0.07908163265306123,
          0.07397959183673469,
          0.007653061224489796,
          0.002551020408163265,
          0,
          0,
          0,
          0,
          0
         ],
         "textposition": "inside",
         "texttemplate": "%{text:.0%}",
         "type": "bar",
         "x": [
          1,
          0.8698979591836735,
          0.2627551020408163,
          0.125,
          0.12244897959183673,
          0.11989795918367346,
          0.11224489795918367,
          0.07908163265306123,
          0.07397959183673469,
          0.007653061224489796,
          0.002551020408163265,
          0,
          0,
          0,
          0,
          0
         ],
         "xaxis": "x",
         "y": [
          "Electric Clothes Dryer",
          "Mininum Efficiency Whole Home Electrification",
          "High Efficiency Whole Home Electrification",
          "Basic Enclosure + HPWH + High Efficiency HP/Electric Backup",
          "Basic Enclosure + High Efficiency Whole Home Electrification",
          "Enhanced Enclosure + HPWH + High Efficiency HP/Electric Backup",
          "Enhanced Enclosure + High Efficiency Whole Home Electrification",
          "Mininum Efficiency Heat Pump with Existing Heat Backup",
          "Mininum Efficiency Heat Pump with Electric Heat Backup",
          "High Efficiency Heat Pump with Electric Heat Backup",
          "Heat Pump Water Heater",
          "Basic Enclosure",
          "Electric Cooking",
          "Enhanced Enclosure",
          "Heat Pump Clothes Dryer",
          "Induction Cooking"
         ],
         "yaxis": "y"
        },
        {
         "marker": {
          "color": "green"
         },
         "name": "Positive",
         "orientation": "h",
         "text": [
          0,
          0.13010204081632654,
          0.7372448979591837,
          0.875,
          0.8775510204081632,
          0.8801020408163265,
          0.8877551020408163,
          0.9209183673469388,
          0.9260204081632653,
          0.9923469387755102,
          0.9974489795918368,
          1,
          1,
          1,
          1,
          1
         ],
         "textposition": "inside",
         "texttemplate": "%{text:.0%}",
         "type": "bar",
         "x": [
          0,
          0.13010204081632654,
          0.7372448979591837,
          0.875,
          0.8775510204081632,
          0.8801020408163265,
          0.8877551020408163,
          0.9209183673469388,
          0.9260204081632653,
          0.9923469387755102,
          0.9974489795918368,
          1,
          1,
          1,
          1,
          1
         ],
         "xaxis": "x",
         "y": [
          "Electric Clothes Dryer",
          "Mininum Efficiency Whole Home Electrification",
          "High Efficiency Whole Home Electrification",
          "Basic Enclosure + HPWH + High Efficiency HP/Electric Backup",
          "Basic Enclosure + High Efficiency Whole Home Electrification",
          "Enhanced Enclosure + HPWH + High Efficiency HP/Electric Backup",
          "Enhanced Enclosure + High Efficiency Whole Home Electrification",
          "Mininum Efficiency Heat Pump with Existing Heat Backup",
          "Mininum Efficiency Heat Pump with Electric Heat Backup",
          "High Efficiency Heat Pump with Electric Heat Backup",
          "Heat Pump Water Heater",
          "Basic Enclosure",
          "Electric Cooking",
          "Enhanced Enclosure",
          "Heat Pump Clothes Dryer",
          "Induction Cooking"
         ],
         "yaxis": "y"
        },
        {
         "marker": {
          "color": "red"
         },
         "orientation": "h",
         "showlegend": false,
         "text": [
          0,
          0,
          0,
          0,
          0,
          0,
          0,
          0.058673469387755105,
          0.017857142857142856,
          0,
          0,
          0,
          0,
          0,
          0,
          0
         ],
         "textposition": "inside",
         "texttemplate": "%{text:.0%}",
         "type": "bar",
         "x": [
          0,
          0,
          0,
          0,
          0,
          0,
          0,
          0.058673469387755105,
          0.017857142857142856,
          0,
          0,
          0,
          0,
          0,
          0,
          0
         ],
         "xaxis": "x2",
         "y": [
          "Electric Clothes Dryer",
          "Mininum Efficiency Whole Home Electrification",
          "High Efficiency Whole Home Electrification",
          "Basic Enclosure + HPWH + High Efficiency HP/Electric Backup",
          "Basic Enclosure + High Efficiency Whole Home Electrification",
          "Enhanced Enclosure + HPWH + High Efficiency HP/Electric Backup",
          "Enhanced Enclosure + High Efficiency Whole Home Electrification",
          "Mininum Efficiency Heat Pump with Existing Heat Backup",
          "Mininum Efficiency Heat Pump with Electric Heat Backup",
          "High Efficiency Heat Pump with Electric Heat Backup",
          "Heat Pump Water Heater",
          "Basic Enclosure",
          "Electric Cooking",
          "Enhanced Enclosure",
          "Heat Pump Clothes Dryer",
          "Induction Cooking"
         ],
         "yaxis": "y2"
        },
        {
         "marker": {
          "color": "green"
         },
         "orientation": "h",
         "showlegend": false,
         "text": [
          1,
          1,
          1,
          1,
          1,
          1,
          1,
          0.9413265306122449,
          0.9821428571428571,
          1,
          1,
          1,
          1,
          1,
          1,
          1
         ],
         "textposition": "inside",
         "texttemplate": "%{text:.0%}",
         "type": "bar",
         "x": [
          1,
          1,
          1,
          1,
          1,
          1,
          1,
          0.9413265306122449,
          0.9821428571428571,
          1,
          1,
          1,
          1,
          1,
          1,
          1
         ],
         "xaxis": "x2",
         "y": [
          "Electric Clothes Dryer",
          "Mininum Efficiency Whole Home Electrification",
          "High Efficiency Whole Home Electrification",
          "Basic Enclosure + HPWH + High Efficiency HP/Electric Backup",
          "Basic Enclosure + High Efficiency Whole Home Electrification",
          "Enhanced Enclosure + HPWH + High Efficiency HP/Electric Backup",
          "Enhanced Enclosure + High Efficiency Whole Home Electrification",
          "Mininum Efficiency Heat Pump with Existing Heat Backup",
          "Mininum Efficiency Heat Pump with Electric Heat Backup",
          "High Efficiency Heat Pump with Electric Heat Backup",
          "Heat Pump Water Heater",
          "Basic Enclosure",
          "Electric Cooking",
          "Enhanced Enclosure",
          "Heat Pump Clothes Dryer",
          "Induction Cooking"
         ],
         "yaxis": "y2"
        },
        {
         "marker": {
          "color": "red"
         },
         "orientation": "h",
         "showlegend": false,
         "text": [
          0,
          0,
          0,
          0,
          0,
          0,
          0,
          0.04081632653061224,
          0.002551020408163265,
          0,
          0,
          0,
          0,
          0,
          0,
          0
         ],
         "textposition": "inside",
         "texttemplate": "%{text:.0%}",
         "type": "bar",
         "x": [
          0,
          0,
          0,
          0,
          0,
          0,
          0,
          0.04081632653061224,
          0.002551020408163265,
          0,
          0,
          0,
          0,
          0,
          0,
          0
         ],
         "xaxis": "x3",
         "y": [
          "Electric Clothes Dryer",
          "Mininum Efficiency Whole Home Electrification",
          "High Efficiency Whole Home Electrification",
          "Basic Enclosure + HPWH + High Efficiency HP/Electric Backup",
          "Basic Enclosure + High Efficiency Whole Home Electrification",
          "Enhanced Enclosure + HPWH + High Efficiency HP/Electric Backup",
          "Enhanced Enclosure + High Efficiency Whole Home Electrification",
          "Mininum Efficiency Heat Pump with Existing Heat Backup",
          "Mininum Efficiency Heat Pump with Electric Heat Backup",
          "High Efficiency Heat Pump with Electric Heat Backup",
          "Heat Pump Water Heater",
          "Basic Enclosure",
          "Electric Cooking",
          "Enhanced Enclosure",
          "Heat Pump Clothes Dryer",
          "Induction Cooking"
         ],
         "yaxis": "y3"
        },
        {
         "marker": {
          "color": "green"
         },
         "orientation": "h",
         "showlegend": false,
         "text": [
          1,
          1,
          1,
          1,
          1,
          1,
          1,
          0.9591836734693877,
          0.9974489795918368,
          1,
          1,
          1,
          1,
          1,
          1,
          1
         ],
         "textposition": "inside",
         "texttemplate": "%{text:.0%}",
         "type": "bar",
         "x": [
          1,
          1,
          1,
          1,
          1,
          1,
          1,
          0.9591836734693877,
          0.9974489795918368,
          1,
          1,
          1,
          1,
          1,
          1,
          1
         ],
         "xaxis": "x3",
         "y": [
          "Electric Clothes Dryer",
          "Mininum Efficiency Whole Home Electrification",
          "High Efficiency Whole Home Electrification",
          "Basic Enclosure + HPWH + High Efficiency HP/Electric Backup",
          "Basic Enclosure + High Efficiency Whole Home Electrification",
          "Enhanced Enclosure + HPWH + High Efficiency HP/Electric Backup",
          "Enhanced Enclosure + High Efficiency Whole Home Electrification",
          "Mininum Efficiency Heat Pump with Existing Heat Backup",
          "Mininum Efficiency Heat Pump with Electric Heat Backup",
          "High Efficiency Heat Pump with Electric Heat Backup",
          "Heat Pump Water Heater",
          "Basic Enclosure",
          "Electric Cooking",
          "Enhanced Enclosure",
          "Heat Pump Clothes Dryer",
          "Induction Cooking"
         ],
         "yaxis": "y3"
        }
       ],
       "layout": {
        "autosize": false,
        "barmode": "relative",
        "font": {
         "size": 10
        },
        "height": 500,
        "template": {
         "data": {
          "bar": [
           {
            "error_x": {
             "color": "#2a3f5f"
            },
            "error_y": {
             "color": "#2a3f5f"
            },
            "marker": {
             "line": {
              "color": "#E5ECF6",
              "width": 0.5
             },
             "pattern": {
              "fillmode": "overlay",
              "size": 10,
              "solidity": 0.2
             }
            },
            "type": "bar"
           }
          ],
          "barpolar": [
           {
            "marker": {
             "line": {
              "color": "#E5ECF6",
              "width": 0.5
             },
             "pattern": {
              "fillmode": "overlay",
              "size": 10,
              "solidity": 0.2
             }
            },
            "type": "barpolar"
           }
          ],
          "carpet": [
           {
            "aaxis": {
             "endlinecolor": "#2a3f5f",
             "gridcolor": "white",
             "linecolor": "white",
             "minorgridcolor": "white",
             "startlinecolor": "#2a3f5f"
            },
            "baxis": {
             "endlinecolor": "#2a3f5f",
             "gridcolor": "white",
             "linecolor": "white",
             "minorgridcolor": "white",
             "startlinecolor": "#2a3f5f"
            },
            "type": "carpet"
           }
          ],
          "choropleth": [
           {
            "colorbar": {
             "outlinewidth": 0,
             "ticks": ""
            },
            "type": "choropleth"
           }
          ],
          "contour": [
           {
            "colorbar": {
             "outlinewidth": 0,
             "ticks": ""
            },
            "colorscale": [
             [
              0,
              "#0d0887"
             ],
             [
              0.1111111111111111,
              "#46039f"
             ],
             [
              0.2222222222222222,
              "#7201a8"
             ],
             [
              0.3333333333333333,
              "#9c179e"
             ],
             [
              0.4444444444444444,
              "#bd3786"
             ],
             [
              0.5555555555555556,
              "#d8576b"
             ],
             [
              0.6666666666666666,
              "#ed7953"
             ],
             [
              0.7777777777777778,
              "#fb9f3a"
             ],
             [
              0.8888888888888888,
              "#fdca26"
             ],
             [
              1,
              "#f0f921"
             ]
            ],
            "type": "contour"
           }
          ],
          "contourcarpet": [
           {
            "colorbar": {
             "outlinewidth": 0,
             "ticks": ""
            },
            "type": "contourcarpet"
           }
          ],
          "heatmap": [
           {
            "colorbar": {
             "outlinewidth": 0,
             "ticks": ""
            },
            "colorscale": [
             [
              0,
              "#0d0887"
             ],
             [
              0.1111111111111111,
              "#46039f"
             ],
             [
              0.2222222222222222,
              "#7201a8"
             ],
             [
              0.3333333333333333,
              "#9c179e"
             ],
             [
              0.4444444444444444,
              "#bd3786"
             ],
             [
              0.5555555555555556,
              "#d8576b"
             ],
             [
              0.6666666666666666,
              "#ed7953"
             ],
             [
              0.7777777777777778,
              "#fb9f3a"
             ],
             [
              0.8888888888888888,
              "#fdca26"
             ],
             [
              1,
              "#f0f921"
             ]
            ],
            "type": "heatmap"
           }
          ],
          "heatmapgl": [
           {
            "colorbar": {
             "outlinewidth": 0,
             "ticks": ""
            },
            "colorscale": [
             [
              0,
              "#0d0887"
             ],
             [
              0.1111111111111111,
              "#46039f"
             ],
             [
              0.2222222222222222,
              "#7201a8"
             ],
             [
              0.3333333333333333,
              "#9c179e"
             ],
             [
              0.4444444444444444,
              "#bd3786"
             ],
             [
              0.5555555555555556,
              "#d8576b"
             ],
             [
              0.6666666666666666,
              "#ed7953"
             ],
             [
              0.7777777777777778,
              "#fb9f3a"
             ],
             [
              0.8888888888888888,
              "#fdca26"
             ],
             [
              1,
              "#f0f921"
             ]
            ],
            "type": "heatmapgl"
           }
          ],
          "histogram": [
           {
            "marker": {
             "pattern": {
              "fillmode": "overlay",
              "size": 10,
              "solidity": 0.2
             }
            },
            "type": "histogram"
           }
          ],
          "histogram2d": [
           {
            "colorbar": {
             "outlinewidth": 0,
             "ticks": ""
            },
            "colorscale": [
             [
              0,
              "#0d0887"
             ],
             [
              0.1111111111111111,
              "#46039f"
             ],
             [
              0.2222222222222222,
              "#7201a8"
             ],
             [
              0.3333333333333333,
              "#9c179e"
             ],
             [
              0.4444444444444444,
              "#bd3786"
             ],
             [
              0.5555555555555556,
              "#d8576b"
             ],
             [
              0.6666666666666666,
              "#ed7953"
             ],
             [
              0.7777777777777778,
              "#fb9f3a"
             ],
             [
              0.8888888888888888,
              "#fdca26"
             ],
             [
              1,
              "#f0f921"
             ]
            ],
            "type": "histogram2d"
           }
          ],
          "histogram2dcontour": [
           {
            "colorbar": {
             "outlinewidth": 0,
             "ticks": ""
            },
            "colorscale": [
             [
              0,
              "#0d0887"
             ],
             [
              0.1111111111111111,
              "#46039f"
             ],
             [
              0.2222222222222222,
              "#7201a8"
             ],
             [
              0.3333333333333333,
              "#9c179e"
             ],
             [
              0.4444444444444444,
              "#bd3786"
             ],
             [
              0.5555555555555556,
              "#d8576b"
             ],
             [
              0.6666666666666666,
              "#ed7953"
             ],
             [
              0.7777777777777778,
              "#fb9f3a"
             ],
             [
              0.8888888888888888,
              "#fdca26"
             ],
             [
              1,
              "#f0f921"
             ]
            ],
            "type": "histogram2dcontour"
           }
          ],
          "mesh3d": [
           {
            "colorbar": {
             "outlinewidth": 0,
             "ticks": ""
            },
            "type": "mesh3d"
           }
          ],
          "parcoords": [
           {
            "line": {
             "colorbar": {
              "outlinewidth": 0,
              "ticks": ""
             }
            },
            "type": "parcoords"
           }
          ],
          "pie": [
           {
            "automargin": true,
            "type": "pie"
           }
          ],
          "scatter": [
           {
            "fillpattern": {
             "fillmode": "overlay",
             "size": 10,
             "solidity": 0.2
            },
            "type": "scatter"
           }
          ],
          "scatter3d": [
           {
            "line": {
             "colorbar": {
              "outlinewidth": 0,
              "ticks": ""
             }
            },
            "marker": {
             "colorbar": {
              "outlinewidth": 0,
              "ticks": ""
             }
            },
            "type": "scatter3d"
           }
          ],
          "scattercarpet": [
           {
            "marker": {
             "colorbar": {
              "outlinewidth": 0,
              "ticks": ""
             }
            },
            "type": "scattercarpet"
           }
          ],
          "scattergeo": [
           {
            "marker": {
             "colorbar": {
              "outlinewidth": 0,
              "ticks": ""
             }
            },
            "type": "scattergeo"
           }
          ],
          "scattergl": [
           {
            "marker": {
             "colorbar": {
              "outlinewidth": 0,
              "ticks": ""
             }
            },
            "type": "scattergl"
           }
          ],
          "scattermapbox": [
           {
            "marker": {
             "colorbar": {
              "outlinewidth": 0,
              "ticks": ""
             }
            },
            "type": "scattermapbox"
           }
          ],
          "scatterpolar": [
           {
            "marker": {
             "colorbar": {
              "outlinewidth": 0,
              "ticks": ""
             }
            },
            "type": "scatterpolar"
           }
          ],
          "scatterpolargl": [
           {
            "marker": {
             "colorbar": {
              "outlinewidth": 0,
              "ticks": ""
             }
            },
            "type": "scatterpolargl"
           }
          ],
          "scatterternary": [
           {
            "marker": {
             "colorbar": {
              "outlinewidth": 0,
              "ticks": ""
             }
            },
            "type": "scatterternary"
           }
          ],
          "surface": [
           {
            "colorbar": {
             "outlinewidth": 0,
             "ticks": ""
            },
            "colorscale": [
             [
              0,
              "#0d0887"
             ],
             [
              0.1111111111111111,
              "#46039f"
             ],
             [
              0.2222222222222222,
              "#7201a8"
             ],
             [
              0.3333333333333333,
              "#9c179e"
             ],
             [
              0.4444444444444444,
              "#bd3786"
             ],
             [
              0.5555555555555556,
              "#d8576b"
             ],
             [
              0.6666666666666666,
              "#ed7953"
             ],
             [
              0.7777777777777778,
              "#fb9f3a"
             ],
             [
              0.8888888888888888,
              "#fdca26"
             ],
             [
              1,
              "#f0f921"
             ]
            ],
            "type": "surface"
           }
          ],
          "table": [
           {
            "cells": {
             "fill": {
              "color": "#EBF0F8"
             },
             "line": {
              "color": "white"
             }
            },
            "header": {
             "fill": {
              "color": "#C8D4E3"
             },
             "line": {
              "color": "white"
             }
            },
            "type": "table"
           }
          ]
         },
         "layout": {
          "annotationdefaults": {
           "arrowcolor": "#2a3f5f",
           "arrowhead": 0,
           "arrowwidth": 1
          },
          "autotypenumbers": "strict",
          "coloraxis": {
           "colorbar": {
            "outlinewidth": 0,
            "ticks": ""
           }
          },
          "colorscale": {
           "diverging": [
            [
             0,
             "#8e0152"
            ],
            [
             0.1,
             "#c51b7d"
            ],
            [
             0.2,
             "#de77ae"
            ],
            [
             0.3,
             "#f1b6da"
            ],
            [
             0.4,
             "#fde0ef"
            ],
            [
             0.5,
             "#f7f7f7"
            ],
            [
             0.6,
             "#e6f5d0"
            ],
            [
             0.7,
             "#b8e186"
            ],
            [
             0.8,
             "#7fbc41"
            ],
            [
             0.9,
             "#4d9221"
            ],
            [
             1,
             "#276419"
            ]
           ],
           "sequential": [
            [
             0,
             "#0d0887"
            ],
            [
             0.1111111111111111,
             "#46039f"
            ],
            [
             0.2222222222222222,
             "#7201a8"
            ],
            [
             0.3333333333333333,
             "#9c179e"
            ],
            [
             0.4444444444444444,
             "#bd3786"
            ],
            [
             0.5555555555555556,
             "#d8576b"
            ],
            [
             0.6666666666666666,
             "#ed7953"
            ],
            [
             0.7777777777777778,
             "#fb9f3a"
            ],
            [
             0.8888888888888888,
             "#fdca26"
            ],
            [
             1,
             "#f0f921"
            ]
           ],
           "sequentialminus": [
            [
             0,
             "#0d0887"
            ],
            [
             0.1111111111111111,
             "#46039f"
            ],
            [
             0.2222222222222222,
             "#7201a8"
            ],
            [
             0.3333333333333333,
             "#9c179e"
            ],
            [
             0.4444444444444444,
             "#bd3786"
            ],
            [
             0.5555555555555556,
             "#d8576b"
            ],
            [
             0.6666666666666666,
             "#ed7953"
            ],
            [
             0.7777777777777778,
             "#fb9f3a"
            ],
            [
             0.8888888888888888,
             "#fdca26"
            ],
            [
             1,
             "#f0f921"
            ]
           ]
          },
          "colorway": [
           "#636efa",
           "#EF553B",
           "#00cc96",
           "#ab63fa",
           "#FFA15A",
           "#19d3f3",
           "#FF6692",
           "#B6E880",
           "#FF97FF",
           "#FECB52"
          ],
          "font": {
           "color": "#2a3f5f"
          },
          "geo": {
           "bgcolor": "white",
           "lakecolor": "white",
           "landcolor": "#E5ECF6",
           "showlakes": true,
           "showland": true,
           "subunitcolor": "white"
          },
          "hoverlabel": {
           "align": "left"
          },
          "hovermode": "closest",
          "mapbox": {
           "style": "light"
          },
          "paper_bgcolor": "white",
          "plot_bgcolor": "#E5ECF6",
          "polar": {
           "angularaxis": {
            "gridcolor": "white",
            "linecolor": "white",
            "ticks": ""
           },
           "bgcolor": "#E5ECF6",
           "radialaxis": {
            "gridcolor": "white",
            "linecolor": "white",
            "ticks": ""
           }
          },
          "scene": {
           "xaxis": {
            "backgroundcolor": "#E5ECF6",
            "gridcolor": "white",
            "gridwidth": 2,
            "linecolor": "white",
            "showbackground": true,
            "ticks": "",
            "zerolinecolor": "white"
           },
           "yaxis": {
            "backgroundcolor": "#E5ECF6",
            "gridcolor": "white",
            "gridwidth": 2,
            "linecolor": "white",
            "showbackground": true,
            "ticks": "",
            "zerolinecolor": "white"
           },
           "zaxis": {
            "backgroundcolor": "#E5ECF6",
            "gridcolor": "white",
            "gridwidth": 2,
            "linecolor": "white",
            "showbackground": true,
            "ticks": "",
            "zerolinecolor": "white"
           }
          },
          "shapedefaults": {
           "line": {
            "color": "#2a3f5f"
           }
          },
          "ternary": {
           "aaxis": {
            "gridcolor": "white",
            "linecolor": "white",
            "ticks": ""
           },
           "baxis": {
            "gridcolor": "white",
            "linecolor": "white",
            "ticks": ""
           },
           "bgcolor": "#E5ECF6",
           "caxis": {
            "gridcolor": "white",
            "linecolor": "white",
            "ticks": ""
           }
          },
          "title": {
           "x": 0.05
          },
          "xaxis": {
           "automargin": true,
           "gridcolor": "white",
           "linecolor": "white",
           "ticks": "",
           "title": {
            "standoff": 15
           },
           "zerolinecolor": "white",
           "zerolinewidth": 2
          },
          "yaxis": {
           "automargin": true,
           "gridcolor": "white",
           "linecolor": "white",
           "ticks": "",
           "title": {
            "standoff": 15
           },
           "zerolinecolor": "white",
           "zerolinewidth": 2
          }
         }
        },
        "title": {
         "text": "Percentage of Household in Positive and Negative Savings"
        },
        "width": 1000,
        "xaxis": {
         "anchor": "y",
         "domain": [
          0,
          0.2888888888888889
         ],
         "tickformat": ",.0%",
         "title": {
          "text": "Bill"
         },
         "visible": true
        },
        "xaxis2": {
         "anchor": "y2",
         "domain": [
          0.35555555555555557,
          0.6444444444444445
         ],
         "tickformat": ",.0%",
         "title": {
          "text": "Emission"
         },
         "visible": true
        },
        "xaxis3": {
         "anchor": "y3",
         "domain": [
          0.7111111111111111,
          1
         ],
         "tickformat": ",.0%",
         "title": {
          "text": "Total Energy"
         },
         "visible": true
        },
        "yaxis": {
         "anchor": "x",
         "domain": [
          0,
          1
         ],
         "visible": true
        },
        "yaxis2": {
         "anchor": "x2",
         "domain": [
          0,
          1
         ],
         "visible": false
        },
        "yaxis3": {
         "anchor": "x3",
         "domain": [
          0,
          1
         ],
         "visible": false
        }
       }
      }
     },
     "metadata": {},
     "output_type": "display_data"
    }
   ],
   "source": [
    "segment = 'segment1'\n",
    "results = figure_positive_negative_savings(segment, income, community_results) \n",
    "saving_results[f'segment1_{income}_pct_bill_positive_savings_%'] = results[0]*100\n",
    "saving_results[f'segment1_{income}_pct_emission_positive_savings_%'] = results[1]*100\n",
    "saving_results[f'segment1_{income}_pct_energy_positive_savings_%'] = results[2]*100"
   ]
  },
  {
   "cell_type": "markdown",
   "id": "f3357f7f",
   "metadata": {},
   "source": [
    "### Segment 2"
   ]
  },
  {
   "cell_type": "code",
   "execution_count": 33,
   "id": "362580ae",
   "metadata": {},
   "outputs": [
    {
     "data": {
      "application/vnd.plotly.v1+json": {
       "config": {
        "plotlyServerURL": "https://plot.ly"
       },
       "data": [
        {
         "marker": {
          "color": "red"
         },
         "name": "Negative",
         "orientation": "h",
         "text": [
          1,
          0.8481012658227848,
          0.3392857142857143,
          0.053824362606232294,
          0.02865329512893983,
          0.025280898876404494,
          0.025280898876404494,
          0.002932551319648094,
          0.0028089887640449437,
          0,
          0,
          0,
          0,
          0,
          0,
          0
         ],
         "textposition": "inside",
         "texttemplate": "%{text:.0%}",
         "type": "bar",
         "x": [
          1,
          0.8481012658227848,
          0.3392857142857143,
          0.053824362606232294,
          0.02865329512893983,
          0.025280898876404494,
          0.025280898876404494,
          0.002932551319648094,
          0.0028089887640449437,
          0,
          0,
          0,
          0,
          0,
          0,
          0
         ],
         "xaxis": "x",
         "y": [
          "Electric Clothes Dryer",
          "Mininum Efficiency Whole Home Electrification",
          "Electric Cooking",
          "Induction Cooking",
          "Heat Pump Water Heater",
          "Mininum Efficiency Heat Pump with Electric Heat Backup",
          "Mininum Efficiency Heat Pump with Existing Heat Backup",
          "Heat Pump Clothes Dryer",
          "High Efficiency Whole Home Electrification",
          "Basic Enclosure",
          "Basic Enclosure + HPWH + High Efficiency HP/Electric Backup",
          "Basic Enclosure + High Efficiency Whole Home Electrification",
          "Enhanced Enclosure",
          "Enhanced Enclosure + HPWH + High Efficiency HP/Electric Backup",
          "Enhanced Enclosure + High Efficiency Whole Home Electrification",
          "High Efficiency Heat Pump with Electric Heat Backup"
         ],
         "yaxis": "y"
        },
        {
         "marker": {
          "color": "green"
         },
         "name": "Positive",
         "orientation": "h",
         "text": [
          0,
          0.1518987341772152,
          0.6607142857142857,
          0.9461756373937678,
          0.9713467048710601,
          0.9747191011235955,
          0.9747191011235955,
          0.9970674486803519,
          0.9971910112359551,
          1,
          1,
          1,
          1,
          1,
          1,
          1
         ],
         "textposition": "inside",
         "texttemplate": "%{text:.0%}",
         "type": "bar",
         "x": [
          0,
          0.1518987341772152,
          0.6607142857142857,
          0.9461756373937678,
          0.9713467048710601,
          0.9747191011235955,
          0.9747191011235955,
          0.9970674486803519,
          0.9971910112359551,
          1,
          1,
          1,
          1,
          1,
          1,
          1
         ],
         "xaxis": "x",
         "y": [
          "Electric Clothes Dryer",
          "Mininum Efficiency Whole Home Electrification",
          "Electric Cooking",
          "Induction Cooking",
          "Heat Pump Water Heater",
          "Mininum Efficiency Heat Pump with Electric Heat Backup",
          "Mininum Efficiency Heat Pump with Existing Heat Backup",
          "Heat Pump Clothes Dryer",
          "High Efficiency Whole Home Electrification",
          "Basic Enclosure",
          "Basic Enclosure + HPWH + High Efficiency HP/Electric Backup",
          "Basic Enclosure + High Efficiency Whole Home Electrification",
          "Enhanced Enclosure",
          "Enhanced Enclosure + HPWH + High Efficiency HP/Electric Backup",
          "Enhanced Enclosure + High Efficiency Whole Home Electrification",
          "High Efficiency Heat Pump with Electric Heat Backup"
         ],
         "yaxis": "y"
        },
        {
         "marker": {
          "color": "red"
         },
         "orientation": "h",
         "showlegend": false,
         "text": [
          0,
          0,
          0,
          0,
          0,
          0.008426966292134831,
          0.008426966292134831,
          0,
          0,
          0,
          0,
          0,
          0,
          0,
          0,
          0
         ],
         "textposition": "inside",
         "texttemplate": "%{text:.0%}",
         "type": "bar",
         "x": [
          0,
          0,
          0,
          0,
          0,
          0.008426966292134831,
          0.008426966292134831,
          0,
          0,
          0,
          0,
          0,
          0,
          0,
          0,
          0
         ],
         "xaxis": "x2",
         "y": [
          "Electric Clothes Dryer",
          "Mininum Efficiency Whole Home Electrification",
          "Electric Cooking",
          "Induction Cooking",
          "Heat Pump Water Heater",
          "Mininum Efficiency Heat Pump with Electric Heat Backup",
          "Mininum Efficiency Heat Pump with Existing Heat Backup",
          "Heat Pump Clothes Dryer",
          "High Efficiency Whole Home Electrification",
          "Basic Enclosure",
          "Basic Enclosure + HPWH + High Efficiency HP/Electric Backup",
          "Basic Enclosure + High Efficiency Whole Home Electrification",
          "Enhanced Enclosure",
          "Enhanced Enclosure + HPWH + High Efficiency HP/Electric Backup",
          "Enhanced Enclosure + High Efficiency Whole Home Electrification",
          "High Efficiency Heat Pump with Electric Heat Backup"
         ],
         "yaxis": "y2"
        },
        {
         "marker": {
          "color": "green"
         },
         "orientation": "h",
         "showlegend": false,
         "text": [
          1,
          1,
          1,
          1,
          1,
          0.9915730337078652,
          0.9915730337078652,
          1,
          1,
          1,
          1,
          1,
          1,
          1,
          1,
          1
         ],
         "textposition": "inside",
         "texttemplate": "%{text:.0%}",
         "type": "bar",
         "x": [
          1,
          1,
          1,
          1,
          1,
          0.9915730337078652,
          0.9915730337078652,
          1,
          1,
          1,
          1,
          1,
          1,
          1,
          1,
          1
         ],
         "xaxis": "x2",
         "y": [
          "Electric Clothes Dryer",
          "Mininum Efficiency Whole Home Electrification",
          "Electric Cooking",
          "Induction Cooking",
          "Heat Pump Water Heater",
          "Mininum Efficiency Heat Pump with Electric Heat Backup",
          "Mininum Efficiency Heat Pump with Existing Heat Backup",
          "Heat Pump Clothes Dryer",
          "High Efficiency Whole Home Electrification",
          "Basic Enclosure",
          "Basic Enclosure + HPWH + High Efficiency HP/Electric Backup",
          "Basic Enclosure + High Efficiency Whole Home Electrification",
          "Enhanced Enclosure",
          "Enhanced Enclosure + HPWH + High Efficiency HP/Electric Backup",
          "Enhanced Enclosure + High Efficiency Whole Home Electrification",
          "High Efficiency Heat Pump with Electric Heat Backup"
         ],
         "yaxis": "y2"
        },
        {
         "marker": {
          "color": "red"
         },
         "orientation": "h",
         "showlegend": false,
         "text": [
          0,
          0,
          0,
          0,
          0,
          0.019662921348314606,
          0.019662921348314606,
          0,
          0,
          0,
          0,
          0,
          0,
          0,
          0,
          0
         ],
         "textposition": "inside",
         "texttemplate": "%{text:.0%}",
         "type": "bar",
         "x": [
          0,
          0,
          0,
          0,
          0,
          0.019662921348314606,
          0.019662921348314606,
          0,
          0,
          0,
          0,
          0,
          0,
          0,
          0,
          0
         ],
         "xaxis": "x3",
         "y": [
          "Electric Clothes Dryer",
          "Mininum Efficiency Whole Home Electrification",
          "Electric Cooking",
          "Induction Cooking",
          "Heat Pump Water Heater",
          "Mininum Efficiency Heat Pump with Electric Heat Backup",
          "Mininum Efficiency Heat Pump with Existing Heat Backup",
          "Heat Pump Clothes Dryer",
          "High Efficiency Whole Home Electrification",
          "Basic Enclosure",
          "Basic Enclosure + HPWH + High Efficiency HP/Electric Backup",
          "Basic Enclosure + High Efficiency Whole Home Electrification",
          "Enhanced Enclosure",
          "Enhanced Enclosure + HPWH + High Efficiency HP/Electric Backup",
          "Enhanced Enclosure + High Efficiency Whole Home Electrification",
          "High Efficiency Heat Pump with Electric Heat Backup"
         ],
         "yaxis": "y3"
        },
        {
         "marker": {
          "color": "green"
         },
         "orientation": "h",
         "showlegend": false,
         "text": [
          1,
          1,
          1,
          1,
          1,
          0.9803370786516854,
          0.9803370786516854,
          1,
          1,
          1,
          1,
          1,
          1,
          1,
          1,
          1
         ],
         "textposition": "inside",
         "texttemplate": "%{text:.0%}",
         "type": "bar",
         "x": [
          1,
          1,
          1,
          1,
          1,
          0.9803370786516854,
          0.9803370786516854,
          1,
          1,
          1,
          1,
          1,
          1,
          1,
          1,
          1
         ],
         "xaxis": "x3",
         "y": [
          "Electric Clothes Dryer",
          "Mininum Efficiency Whole Home Electrification",
          "Electric Cooking",
          "Induction Cooking",
          "Heat Pump Water Heater",
          "Mininum Efficiency Heat Pump with Electric Heat Backup",
          "Mininum Efficiency Heat Pump with Existing Heat Backup",
          "Heat Pump Clothes Dryer",
          "High Efficiency Whole Home Electrification",
          "Basic Enclosure",
          "Basic Enclosure + HPWH + High Efficiency HP/Electric Backup",
          "Basic Enclosure + High Efficiency Whole Home Electrification",
          "Enhanced Enclosure",
          "Enhanced Enclosure + HPWH + High Efficiency HP/Electric Backup",
          "Enhanced Enclosure + High Efficiency Whole Home Electrification",
          "High Efficiency Heat Pump with Electric Heat Backup"
         ],
         "yaxis": "y3"
        }
       ],
       "layout": {
        "autosize": false,
        "barmode": "relative",
        "font": {
         "size": 10
        },
        "height": 500,
        "template": {
         "data": {
          "bar": [
           {
            "error_x": {
             "color": "#2a3f5f"
            },
            "error_y": {
             "color": "#2a3f5f"
            },
            "marker": {
             "line": {
              "color": "#E5ECF6",
              "width": 0.5
             },
             "pattern": {
              "fillmode": "overlay",
              "size": 10,
              "solidity": 0.2
             }
            },
            "type": "bar"
           }
          ],
          "barpolar": [
           {
            "marker": {
             "line": {
              "color": "#E5ECF6",
              "width": 0.5
             },
             "pattern": {
              "fillmode": "overlay",
              "size": 10,
              "solidity": 0.2
             }
            },
            "type": "barpolar"
           }
          ],
          "carpet": [
           {
            "aaxis": {
             "endlinecolor": "#2a3f5f",
             "gridcolor": "white",
             "linecolor": "white",
             "minorgridcolor": "white",
             "startlinecolor": "#2a3f5f"
            },
            "baxis": {
             "endlinecolor": "#2a3f5f",
             "gridcolor": "white",
             "linecolor": "white",
             "minorgridcolor": "white",
             "startlinecolor": "#2a3f5f"
            },
            "type": "carpet"
           }
          ],
          "choropleth": [
           {
            "colorbar": {
             "outlinewidth": 0,
             "ticks": ""
            },
            "type": "choropleth"
           }
          ],
          "contour": [
           {
            "colorbar": {
             "outlinewidth": 0,
             "ticks": ""
            },
            "colorscale": [
             [
              0,
              "#0d0887"
             ],
             [
              0.1111111111111111,
              "#46039f"
             ],
             [
              0.2222222222222222,
              "#7201a8"
             ],
             [
              0.3333333333333333,
              "#9c179e"
             ],
             [
              0.4444444444444444,
              "#bd3786"
             ],
             [
              0.5555555555555556,
              "#d8576b"
             ],
             [
              0.6666666666666666,
              "#ed7953"
             ],
             [
              0.7777777777777778,
              "#fb9f3a"
             ],
             [
              0.8888888888888888,
              "#fdca26"
             ],
             [
              1,
              "#f0f921"
             ]
            ],
            "type": "contour"
           }
          ],
          "contourcarpet": [
           {
            "colorbar": {
             "outlinewidth": 0,
             "ticks": ""
            },
            "type": "contourcarpet"
           }
          ],
          "heatmap": [
           {
            "colorbar": {
             "outlinewidth": 0,
             "ticks": ""
            },
            "colorscale": [
             [
              0,
              "#0d0887"
             ],
             [
              0.1111111111111111,
              "#46039f"
             ],
             [
              0.2222222222222222,
              "#7201a8"
             ],
             [
              0.3333333333333333,
              "#9c179e"
             ],
             [
              0.4444444444444444,
              "#bd3786"
             ],
             [
              0.5555555555555556,
              "#d8576b"
             ],
             [
              0.6666666666666666,
              "#ed7953"
             ],
             [
              0.7777777777777778,
              "#fb9f3a"
             ],
             [
              0.8888888888888888,
              "#fdca26"
             ],
             [
              1,
              "#f0f921"
             ]
            ],
            "type": "heatmap"
           }
          ],
          "heatmapgl": [
           {
            "colorbar": {
             "outlinewidth": 0,
             "ticks": ""
            },
            "colorscale": [
             [
              0,
              "#0d0887"
             ],
             [
              0.1111111111111111,
              "#46039f"
             ],
             [
              0.2222222222222222,
              "#7201a8"
             ],
             [
              0.3333333333333333,
              "#9c179e"
             ],
             [
              0.4444444444444444,
              "#bd3786"
             ],
             [
              0.5555555555555556,
              "#d8576b"
             ],
             [
              0.6666666666666666,
              "#ed7953"
             ],
             [
              0.7777777777777778,
              "#fb9f3a"
             ],
             [
              0.8888888888888888,
              "#fdca26"
             ],
             [
              1,
              "#f0f921"
             ]
            ],
            "type": "heatmapgl"
           }
          ],
          "histogram": [
           {
            "marker": {
             "pattern": {
              "fillmode": "overlay",
              "size": 10,
              "solidity": 0.2
             }
            },
            "type": "histogram"
           }
          ],
          "histogram2d": [
           {
            "colorbar": {
             "outlinewidth": 0,
             "ticks": ""
            },
            "colorscale": [
             [
              0,
              "#0d0887"
             ],
             [
              0.1111111111111111,
              "#46039f"
             ],
             [
              0.2222222222222222,
              "#7201a8"
             ],
             [
              0.3333333333333333,
              "#9c179e"
             ],
             [
              0.4444444444444444,
              "#bd3786"
             ],
             [
              0.5555555555555556,
              "#d8576b"
             ],
             [
              0.6666666666666666,
              "#ed7953"
             ],
             [
              0.7777777777777778,
              "#fb9f3a"
             ],
             [
              0.8888888888888888,
              "#fdca26"
             ],
             [
              1,
              "#f0f921"
             ]
            ],
            "type": "histogram2d"
           }
          ],
          "histogram2dcontour": [
           {
            "colorbar": {
             "outlinewidth": 0,
             "ticks": ""
            },
            "colorscale": [
             [
              0,
              "#0d0887"
             ],
             [
              0.1111111111111111,
              "#46039f"
             ],
             [
              0.2222222222222222,
              "#7201a8"
             ],
             [
              0.3333333333333333,
              "#9c179e"
             ],
             [
              0.4444444444444444,
              "#bd3786"
             ],
             [
              0.5555555555555556,
              "#d8576b"
             ],
             [
              0.6666666666666666,
              "#ed7953"
             ],
             [
              0.7777777777777778,
              "#fb9f3a"
             ],
             [
              0.8888888888888888,
              "#fdca26"
             ],
             [
              1,
              "#f0f921"
             ]
            ],
            "type": "histogram2dcontour"
           }
          ],
          "mesh3d": [
           {
            "colorbar": {
             "outlinewidth": 0,
             "ticks": ""
            },
            "type": "mesh3d"
           }
          ],
          "parcoords": [
           {
            "line": {
             "colorbar": {
              "outlinewidth": 0,
              "ticks": ""
             }
            },
            "type": "parcoords"
           }
          ],
          "pie": [
           {
            "automargin": true,
            "type": "pie"
           }
          ],
          "scatter": [
           {
            "fillpattern": {
             "fillmode": "overlay",
             "size": 10,
             "solidity": 0.2
            },
            "type": "scatter"
           }
          ],
          "scatter3d": [
           {
            "line": {
             "colorbar": {
              "outlinewidth": 0,
              "ticks": ""
             }
            },
            "marker": {
             "colorbar": {
              "outlinewidth": 0,
              "ticks": ""
             }
            },
            "type": "scatter3d"
           }
          ],
          "scattercarpet": [
           {
            "marker": {
             "colorbar": {
              "outlinewidth": 0,
              "ticks": ""
             }
            },
            "type": "scattercarpet"
           }
          ],
          "scattergeo": [
           {
            "marker": {
             "colorbar": {
              "outlinewidth": 0,
              "ticks": ""
             }
            },
            "type": "scattergeo"
           }
          ],
          "scattergl": [
           {
            "marker": {
             "colorbar": {
              "outlinewidth": 0,
              "ticks": ""
             }
            },
            "type": "scattergl"
           }
          ],
          "scattermapbox": [
           {
            "marker": {
             "colorbar": {
              "outlinewidth": 0,
              "ticks": ""
             }
            },
            "type": "scattermapbox"
           }
          ],
          "scatterpolar": [
           {
            "marker": {
             "colorbar": {
              "outlinewidth": 0,
              "ticks": ""
             }
            },
            "type": "scatterpolar"
           }
          ],
          "scatterpolargl": [
           {
            "marker": {
             "colorbar": {
              "outlinewidth": 0,
              "ticks": ""
             }
            },
            "type": "scatterpolargl"
           }
          ],
          "scatterternary": [
           {
            "marker": {
             "colorbar": {
              "outlinewidth": 0,
              "ticks": ""
             }
            },
            "type": "scatterternary"
           }
          ],
          "surface": [
           {
            "colorbar": {
             "outlinewidth": 0,
             "ticks": ""
            },
            "colorscale": [
             [
              0,
              "#0d0887"
             ],
             [
              0.1111111111111111,
              "#46039f"
             ],
             [
              0.2222222222222222,
              "#7201a8"
             ],
             [
              0.3333333333333333,
              "#9c179e"
             ],
             [
              0.4444444444444444,
              "#bd3786"
             ],
             [
              0.5555555555555556,
              "#d8576b"
             ],
             [
              0.6666666666666666,
              "#ed7953"
             ],
             [
              0.7777777777777778,
              "#fb9f3a"
             ],
             [
              0.8888888888888888,
              "#fdca26"
             ],
             [
              1,
              "#f0f921"
             ]
            ],
            "type": "surface"
           }
          ],
          "table": [
           {
            "cells": {
             "fill": {
              "color": "#EBF0F8"
             },
             "line": {
              "color": "white"
             }
            },
            "header": {
             "fill": {
              "color": "#C8D4E3"
             },
             "line": {
              "color": "white"
             }
            },
            "type": "table"
           }
          ]
         },
         "layout": {
          "annotationdefaults": {
           "arrowcolor": "#2a3f5f",
           "arrowhead": 0,
           "arrowwidth": 1
          },
          "autotypenumbers": "strict",
          "coloraxis": {
           "colorbar": {
            "outlinewidth": 0,
            "ticks": ""
           }
          },
          "colorscale": {
           "diverging": [
            [
             0,
             "#8e0152"
            ],
            [
             0.1,
             "#c51b7d"
            ],
            [
             0.2,
             "#de77ae"
            ],
            [
             0.3,
             "#f1b6da"
            ],
            [
             0.4,
             "#fde0ef"
            ],
            [
             0.5,
             "#f7f7f7"
            ],
            [
             0.6,
             "#e6f5d0"
            ],
            [
             0.7,
             "#b8e186"
            ],
            [
             0.8,
             "#7fbc41"
            ],
            [
             0.9,
             "#4d9221"
            ],
            [
             1,
             "#276419"
            ]
           ],
           "sequential": [
            [
             0,
             "#0d0887"
            ],
            [
             0.1111111111111111,
             "#46039f"
            ],
            [
             0.2222222222222222,
             "#7201a8"
            ],
            [
             0.3333333333333333,
             "#9c179e"
            ],
            [
             0.4444444444444444,
             "#bd3786"
            ],
            [
             0.5555555555555556,
             "#d8576b"
            ],
            [
             0.6666666666666666,
             "#ed7953"
            ],
            [
             0.7777777777777778,
             "#fb9f3a"
            ],
            [
             0.8888888888888888,
             "#fdca26"
            ],
            [
             1,
             "#f0f921"
            ]
           ],
           "sequentialminus": [
            [
             0,
             "#0d0887"
            ],
            [
             0.1111111111111111,
             "#46039f"
            ],
            [
             0.2222222222222222,
             "#7201a8"
            ],
            [
             0.3333333333333333,
             "#9c179e"
            ],
            [
             0.4444444444444444,
             "#bd3786"
            ],
            [
             0.5555555555555556,
             "#d8576b"
            ],
            [
             0.6666666666666666,
             "#ed7953"
            ],
            [
             0.7777777777777778,
             "#fb9f3a"
            ],
            [
             0.8888888888888888,
             "#fdca26"
            ],
            [
             1,
             "#f0f921"
            ]
           ]
          },
          "colorway": [
           "#636efa",
           "#EF553B",
           "#00cc96",
           "#ab63fa",
           "#FFA15A",
           "#19d3f3",
           "#FF6692",
           "#B6E880",
           "#FF97FF",
           "#FECB52"
          ],
          "font": {
           "color": "#2a3f5f"
          },
          "geo": {
           "bgcolor": "white",
           "lakecolor": "white",
           "landcolor": "#E5ECF6",
           "showlakes": true,
           "showland": true,
           "subunitcolor": "white"
          },
          "hoverlabel": {
           "align": "left"
          },
          "hovermode": "closest",
          "mapbox": {
           "style": "light"
          },
          "paper_bgcolor": "white",
          "plot_bgcolor": "#E5ECF6",
          "polar": {
           "angularaxis": {
            "gridcolor": "white",
            "linecolor": "white",
            "ticks": ""
           },
           "bgcolor": "#E5ECF6",
           "radialaxis": {
            "gridcolor": "white",
            "linecolor": "white",
            "ticks": ""
           }
          },
          "scene": {
           "xaxis": {
            "backgroundcolor": "#E5ECF6",
            "gridcolor": "white",
            "gridwidth": 2,
            "linecolor": "white",
            "showbackground": true,
            "ticks": "",
            "zerolinecolor": "white"
           },
           "yaxis": {
            "backgroundcolor": "#E5ECF6",
            "gridcolor": "white",
            "gridwidth": 2,
            "linecolor": "white",
            "showbackground": true,
            "ticks": "",
            "zerolinecolor": "white"
           },
           "zaxis": {
            "backgroundcolor": "#E5ECF6",
            "gridcolor": "white",
            "gridwidth": 2,
            "linecolor": "white",
            "showbackground": true,
            "ticks": "",
            "zerolinecolor": "white"
           }
          },
          "shapedefaults": {
           "line": {
            "color": "#2a3f5f"
           }
          },
          "ternary": {
           "aaxis": {
            "gridcolor": "white",
            "linecolor": "white",
            "ticks": ""
           },
           "baxis": {
            "gridcolor": "white",
            "linecolor": "white",
            "ticks": ""
           },
           "bgcolor": "#E5ECF6",
           "caxis": {
            "gridcolor": "white",
            "linecolor": "white",
            "ticks": ""
           }
          },
          "title": {
           "x": 0.05
          },
          "xaxis": {
           "automargin": true,
           "gridcolor": "white",
           "linecolor": "white",
           "ticks": "",
           "title": {
            "standoff": 15
           },
           "zerolinecolor": "white",
           "zerolinewidth": 2
          },
          "yaxis": {
           "automargin": true,
           "gridcolor": "white",
           "linecolor": "white",
           "ticks": "",
           "title": {
            "standoff": 15
           },
           "zerolinecolor": "white",
           "zerolinewidth": 2
          }
         }
        },
        "title": {
         "text": "Percentage of Household in Positive and Negative Savings"
        },
        "width": 1000,
        "xaxis": {
         "anchor": "y",
         "domain": [
          0,
          0.2888888888888889
         ],
         "tickformat": ",.0%",
         "title": {
          "text": "Bill"
         },
         "visible": true
        },
        "xaxis2": {
         "anchor": "y2",
         "domain": [
          0.35555555555555557,
          0.6444444444444445
         ],
         "tickformat": ",.0%",
         "title": {
          "text": "Emission"
         },
         "visible": true
        },
        "xaxis3": {
         "anchor": "y3",
         "domain": [
          0.7111111111111111,
          1
         ],
         "tickformat": ",.0%",
         "title": {
          "text": "Total Energy"
         },
         "visible": true
        },
        "yaxis": {
         "anchor": "x",
         "domain": [
          0,
          1
         ],
         "visible": true
        },
        "yaxis2": {
         "anchor": "x2",
         "domain": [
          0,
          1
         ],
         "visible": false
        },
        "yaxis3": {
         "anchor": "x3",
         "domain": [
          0,
          1
         ],
         "visible": false
        }
       }
      }
     },
     "metadata": {},
     "output_type": "display_data"
    }
   ],
   "source": [
    "segment = 'segment2'\n",
    "results = figure_positive_negative_savings(segment, income, community_results)\n",
    "saving_results[f'segment2_{income}_pct_bill_positive_savings_%'] = results[0]*100\n",
    "saving_results[f'segment2_{income}_pct_emission_positive_savings_%'] = results[1]*100\n",
    "saving_results[f'segment2_{income}_pct_energy_positive_savings_%'] = results[2]*100"
   ]
  },
  {
   "cell_type": "markdown",
   "id": "b53c1061",
   "metadata": {},
   "source": [
    "## 2.6. Average Energy Burden (%) Before and after Upgrade"
   ]
  },
  {
   "cell_type": "code",
   "execution_count": 34,
   "id": "1c373671",
   "metadata": {},
   "outputs": [
    {
     "name": "stdout",
     "output_type": "stream",
     "text": [
      "energy burden (%) before and after upgrade\n",
      "segment1\n"
     ]
    },
    {
     "name": "stderr",
     "output_type": "stream",
     "text": [
      "/var/folders/qt/5nrnlf6148z2jxyxx_5yqgl0z8pq2p/T/ipykernel_42782/2800418672.py:4: SettingWithCopyWarning:\n",
      "\n",
      "\n",
      "A value is trying to be set on a copy of a slice from a DataFrame\n",
      "\n",
      "See the caveats in the documentation: https://pandas.pydata.org/pandas-docs/stable/user_guide/indexing.html#returning-a-view-versus-a-copy\n",
      "\n",
      "/var/folders/qt/5nrnlf6148z2jxyxx_5yqgl0z8pq2p/T/ipykernel_42782/2800418672.py:5: SettingWithCopyWarning:\n",
      "\n",
      "\n",
      "A value is trying to be set on a copy of a slice from a DataFrame\n",
      "\n",
      "See the caveats in the documentation: https://pandas.pydata.org/pandas-docs/stable/user_guide/indexing.html#returning-a-view-versus-a-copy\n",
      "\n",
      "/var/folders/qt/5nrnlf6148z2jxyxx_5yqgl0z8pq2p/T/ipykernel_42782/2800418672.py:6: SettingWithCopyWarning:\n",
      "\n",
      "\n",
      "A value is trying to be set on a copy of a slice from a DataFrame.\n",
      "Try using .loc[row_indexer,col_indexer] = value instead\n",
      "\n",
      "See the caveats in the documentation: https://pandas.pydata.org/pandas-docs/stable/user_guide/indexing.html#returning-a-view-versus-a-copy\n",
      "\n",
      "/var/folders/qt/5nrnlf6148z2jxyxx_5yqgl0z8pq2p/T/ipykernel_42782/2800418672.py:7: SettingWithCopyWarning:\n",
      "\n",
      "\n",
      "A value is trying to be set on a copy of a slice from a DataFrame.\n",
      "Try using .loc[row_indexer,col_indexer] = value instead\n",
      "\n",
      "See the caveats in the documentation: https://pandas.pydata.org/pandas-docs/stable/user_guide/indexing.html#returning-a-view-versus-a-copy\n",
      "\n"
     ]
    },
    {
     "data": {
      "text/html": [
       "<div>\n",
       "<style scoped>\n",
       "    .dataframe tbody tr th:only-of-type {\n",
       "        vertical-align: middle;\n",
       "    }\n",
       "\n",
       "    .dataframe tbody tr th {\n",
       "        vertical-align: top;\n",
       "    }\n",
       "\n",
       "    .dataframe thead th {\n",
       "        text-align: right;\n",
       "    }\n",
       "</style>\n",
       "<table border=\"1\" class=\"dataframe\">\n",
       "  <thead>\n",
       "    <tr style=\"text-align: right;\">\n",
       "      <th></th>\n",
       "      <th>before</th>\n",
       "      <th>after</th>\n",
       "    </tr>\n",
       "    <tr>\n",
       "      <th>upgrade_name</th>\n",
       "      <th></th>\n",
       "      <th></th>\n",
       "    </tr>\n",
       "  </thead>\n",
       "  <tbody>\n",
       "    <tr>\n",
       "      <th>High Efficiency Heat Pump with Electric Heat Backup</th>\n",
       "      <td>8.4</td>\n",
       "      <td>5.8</td>\n",
       "    </tr>\n",
       "    <tr>\n",
       "      <th>Enhanced Enclosure</th>\n",
       "      <td>8.4</td>\n",
       "      <td>6.6</td>\n",
       "    </tr>\n",
       "    <tr>\n",
       "      <th>Basic Enclosure</th>\n",
       "      <td>8.5</td>\n",
       "      <td>6.8</td>\n",
       "    </tr>\n",
       "    <tr>\n",
       "      <th>Enhanced Enclosure + High Efficiency Whole Home Electrification</th>\n",
       "      <td>8.4</td>\n",
       "      <td>7.2</td>\n",
       "    </tr>\n",
       "    <tr>\n",
       "      <th>Enhanced Enclosure + HPWH + High Efficiency HP/Electric Backup</th>\n",
       "      <td>8.4</td>\n",
       "      <td>7.2</td>\n",
       "    </tr>\n",
       "    <tr>\n",
       "      <th>Basic Enclosure + High Efficiency Whole Home Electrification</th>\n",
       "      <td>8.4</td>\n",
       "      <td>7.3</td>\n",
       "    </tr>\n",
       "    <tr>\n",
       "      <th>Mininum Efficiency Heat Pump with Electric Heat Backup</th>\n",
       "      <td>8.4</td>\n",
       "      <td>7.3</td>\n",
       "    </tr>\n",
       "    <tr>\n",
       "      <th>Basic Enclosure + HPWH + High Efficiency HP/Electric Backup</th>\n",
       "      <td>8.4</td>\n",
       "      <td>7.3</td>\n",
       "    </tr>\n",
       "    <tr>\n",
       "      <th>Mininum Efficiency Heat Pump with Existing Heat Backup</th>\n",
       "      <td>8.4</td>\n",
       "      <td>7.6</td>\n",
       "    </tr>\n",
       "    <tr>\n",
       "      <th>High Efficiency Whole Home Electrification</th>\n",
       "      <td>8.4</td>\n",
       "      <td>7.8</td>\n",
       "    </tr>\n",
       "    <tr>\n",
       "      <th>Heat Pump Water Heater</th>\n",
       "      <td>8.4</td>\n",
       "      <td>8.0</td>\n",
       "    </tr>\n",
       "    <tr>\n",
       "      <th>Heat Pump Clothes Dryer</th>\n",
       "      <td>8.5</td>\n",
       "      <td>8.4</td>\n",
       "    </tr>\n",
       "    <tr>\n",
       "      <th>Induction Cooking</th>\n",
       "      <td>8.4</td>\n",
       "      <td>8.4</td>\n",
       "    </tr>\n",
       "    <tr>\n",
       "      <th>Electric Cooking</th>\n",
       "      <td>8.4</td>\n",
       "      <td>8.4</td>\n",
       "    </tr>\n",
       "    <tr>\n",
       "      <th>Electric Clothes Dryer</th>\n",
       "      <td>5.5</td>\n",
       "      <td>5.5</td>\n",
       "    </tr>\n",
       "    <tr>\n",
       "      <th>Mininum Efficiency Whole Home Electrification</th>\n",
       "      <td>8.4</td>\n",
       "      <td>9.4</td>\n",
       "    </tr>\n",
       "  </tbody>\n",
       "</table>\n",
       "</div>"
      ],
      "text/plain": [
       "                                                    before  after\n",
       "upgrade_name                                                     \n",
       "High Efficiency Heat Pump with Electric Heat Ba...     8.4    5.8\n",
       "Enhanced Enclosure                                     8.4    6.6\n",
       "Basic Enclosure                                        8.5    6.8\n",
       "Enhanced Enclosure + High Efficiency Whole Home...     8.4    7.2\n",
       "Enhanced Enclosure + HPWH + High Efficiency HP/...     8.4    7.2\n",
       "Basic Enclosure + High Efficiency Whole Home El...     8.4    7.3\n",
       "Mininum Efficiency Heat Pump with Electric Heat...     8.4    7.3\n",
       "Basic Enclosure + HPWH + High Efficiency HP/Ele...     8.4    7.3\n",
       "Mininum Efficiency Heat Pump with Existing Heat...     8.4    7.6\n",
       "High Efficiency Whole Home Electrification             8.4    7.8\n",
       "Heat Pump Water Heater                                 8.4    8.0\n",
       "Heat Pump Clothes Dryer                                8.5    8.4\n",
       "Induction Cooking                                      8.4    8.4\n",
       "Electric Cooking                                       8.4    8.4\n",
       "Electric Clothes Dryer                                 5.5    5.5\n",
       "Mininum Efficiency Whole Home Electrification          8.4    9.4"
      ]
     },
     "metadata": {},
     "output_type": "display_data"
    },
    {
     "name": "stdout",
     "output_type": "stream",
     "text": [
      "segment2\n"
     ]
    },
    {
     "data": {
      "text/html": [
       "<div>\n",
       "<style scoped>\n",
       "    .dataframe tbody tr th:only-of-type {\n",
       "        vertical-align: middle;\n",
       "    }\n",
       "\n",
       "    .dataframe tbody tr th {\n",
       "        vertical-align: top;\n",
       "    }\n",
       "\n",
       "    .dataframe thead th {\n",
       "        text-align: right;\n",
       "    }\n",
       "</style>\n",
       "<table border=\"1\" class=\"dataframe\">\n",
       "  <thead>\n",
       "    <tr style=\"text-align: right;\">\n",
       "      <th></th>\n",
       "      <th>before</th>\n",
       "      <th>after</th>\n",
       "    </tr>\n",
       "    <tr>\n",
       "      <th>upgrade_name</th>\n",
       "      <th></th>\n",
       "      <th></th>\n",
       "    </tr>\n",
       "  </thead>\n",
       "  <tbody>\n",
       "    <tr>\n",
       "      <th>Enhanced Enclosure + High Efficiency Whole Home Electrification</th>\n",
       "      <td>10.1</td>\n",
       "      <td>4.8</td>\n",
       "    </tr>\n",
       "    <tr>\n",
       "      <th>Basic Enclosure + High Efficiency Whole Home Electrification</th>\n",
       "      <td>10.1</td>\n",
       "      <td>4.8</td>\n",
       "    </tr>\n",
       "    <tr>\n",
       "      <th>Enhanced Enclosure + HPWH + High Efficiency HP/Electric Backup</th>\n",
       "      <td>10.1</td>\n",
       "      <td>4.9</td>\n",
       "    </tr>\n",
       "    <tr>\n",
       "      <th>Basic Enclosure + HPWH + High Efficiency HP/Electric Backup</th>\n",
       "      <td>10.1</td>\n",
       "      <td>4.9</td>\n",
       "    </tr>\n",
       "    <tr>\n",
       "      <th>High Efficiency Whole Home Electrification</th>\n",
       "      <td>10.1</td>\n",
       "      <td>5.5</td>\n",
       "    </tr>\n",
       "    <tr>\n",
       "      <th>High Efficiency Heat Pump with Electric Heat Backup</th>\n",
       "      <td>10.1</td>\n",
       "      <td>6.1</td>\n",
       "    </tr>\n",
       "    <tr>\n",
       "      <th>Enhanced Enclosure</th>\n",
       "      <td>10.1</td>\n",
       "      <td>7.8</td>\n",
       "    </tr>\n",
       "    <tr>\n",
       "      <th>Basic Enclosure</th>\n",
       "      <td>10.1</td>\n",
       "      <td>7.9</td>\n",
       "    </tr>\n",
       "    <tr>\n",
       "      <th>Mininum Efficiency Heat Pump with Electric Heat Backup</th>\n",
       "      <td>10.1</td>\n",
       "      <td>7.9</td>\n",
       "    </tr>\n",
       "    <tr>\n",
       "      <th>Mininum Efficiency Heat Pump with Existing Heat Backup</th>\n",
       "      <td>10.1</td>\n",
       "      <td>7.9</td>\n",
       "    </tr>\n",
       "    <tr>\n",
       "      <th>Heat Pump Water Heater</th>\n",
       "      <td>10.1</td>\n",
       "      <td>9.8</td>\n",
       "    </tr>\n",
       "    <tr>\n",
       "      <th>Heat Pump Clothes Dryer</th>\n",
       "      <td>10.3</td>\n",
       "      <td>10.2</td>\n",
       "    </tr>\n",
       "    <tr>\n",
       "      <th>Induction Cooking</th>\n",
       "      <td>10.2</td>\n",
       "      <td>10.1</td>\n",
       "    </tr>\n",
       "    <tr>\n",
       "      <th>Electric Cooking</th>\n",
       "      <td>10.0</td>\n",
       "      <td>10.0</td>\n",
       "    </tr>\n",
       "    <tr>\n",
       "      <th>Mininum Efficiency Whole Home Electrification</th>\n",
       "      <td>9.3</td>\n",
       "      <td>9.3</td>\n",
       "    </tr>\n",
       "    <tr>\n",
       "      <th>Electric Clothes Dryer</th>\n",
       "      <td>10.9</td>\n",
       "      <td>11.0</td>\n",
       "    </tr>\n",
       "  </tbody>\n",
       "</table>\n",
       "</div>"
      ],
      "text/plain": [
       "                                                    before  after\n",
       "upgrade_name                                                     \n",
       "Enhanced Enclosure + High Efficiency Whole Home...    10.1    4.8\n",
       "Basic Enclosure + High Efficiency Whole Home El...    10.1    4.8\n",
       "Enhanced Enclosure + HPWH + High Efficiency HP/...    10.1    4.9\n",
       "Basic Enclosure + HPWH + High Efficiency HP/Ele...    10.1    4.9\n",
       "High Efficiency Whole Home Electrification            10.1    5.5\n",
       "High Efficiency Heat Pump with Electric Heat Ba...    10.1    6.1\n",
       "Enhanced Enclosure                                    10.1    7.8\n",
       "Basic Enclosure                                       10.1    7.9\n",
       "Mininum Efficiency Heat Pump with Electric Heat...    10.1    7.9\n",
       "Mininum Efficiency Heat Pump with Existing Heat...    10.1    7.9\n",
       "Heat Pump Water Heater                                10.1    9.8\n",
       "Heat Pump Clothes Dryer                               10.3   10.2\n",
       "Induction Cooking                                     10.2   10.1\n",
       "Electric Cooking                                      10.0   10.0\n",
       "Mininum Efficiency Whole Home Electrification          9.3    9.3\n",
       "Electric Clothes Dryer                                10.9   11.0"
      ]
     },
     "metadata": {},
     "output_type": "display_data"
    }
   ],
   "source": [
    "results = segment_mean_energy_burden('post-upgrade_energy_burden_2023_cbills.%', community_results) \n",
    "saving_results[[f'segment1_{income}_energy_burden_before_upgrade_%',f'segment1_{income}_energy_burden_after_upgrade_%']] = results[0]\n",
    "saving_results[[f'segment2_{income}_energy_burden_before_upgrade_%',f'segment2_{income}_energy_burden_after_upgrade_%']] = results[1]"
   ]
  },
  {
   "cell_type": "markdown",
   "id": "0dc19882",
   "metadata": {},
   "source": [
    "# 3. Results for Segments (0-80% AMI)"
   ]
  },
  {
   "cell_type": "markdown",
   "id": "baa2745c",
   "metadata": {},
   "source": [
    "Segment Definition\n",
    "\n",
    "Segment 1. Occupied, Single family detached, gas heating, 0-80% AMI  \n",
    "\n",
    "Segment 2. Occupied, Single family detached, electric heating, 0-80% AMI      "
   ]
  },
  {
   "cell_type": "code",
   "execution_count": 35,
   "id": "b85921e5",
   "metadata": {},
   "outputs": [],
   "source": [
    "community_results = pd.read_parquet(f\"data_/community_building_samples_with_upgrade_cost_and_bill/{community}/processed_upgrade_results_tiered.parquet\")\n",
    "\n",
    "income = '0-80%AMI'\n",
    "vacancy_status = ['Occupied']\n",
    "\n",
    "seg1_building_type = ['Single-Family Detached']\n",
    "seg1_heating_fuel = ['Natural Gas']\n",
    "seg1_median_income = ['0-30%','30-60%','60-80%']\n",
    "\n",
    "seg2_building_type = ['Single-Family Detached']\n",
    "seg2_heating_fuel = ['Electricity']\n",
    "seg2_median_income = ['0-30%','30-60%','60-80%']\n",
    "\n",
    "\n",
    "community_results.loc[community_results['build_existing_model.vacancy_status'].isin(vacancy_status) & \n",
    "                     community_results['build_existing_model.geometry_building_type_recs'].isin(seg1_building_type) & \n",
    "                      community_results['build_existing_model.heating_fuel'].isin(seg1_heating_fuel) &\n",
    "                     community_results['build_existing_model.area_median_income'].isin(seg1_median_income),\n",
    "                     'segment'] = 'segment1'\n",
    "community_results.loc[community_results['build_existing_model.vacancy_status'].isin(vacancy_status) & \n",
    "                     community_results['build_existing_model.geometry_building_type_recs'].isin(seg2_building_type) &\n",
    "                      community_results['build_existing_model.heating_fuel'].isin(seg2_heating_fuel) &\n",
    "                     community_results['build_existing_model.area_median_income'].isin(seg2_median_income),\n",
    "                     'segment'] = 'segment2'"
   ]
  },
  {
   "cell_type": "code",
   "execution_count": 36,
   "id": "fabe3d8a",
   "metadata": {},
   "outputs": [
    {
     "name": "stdout",
     "output_type": "stream",
     "text": [
      "Summary for segment: nan: \n"
     ]
    },
    {
     "data": {
      "text/html": [
       "<div>\n",
       "<style scoped>\n",
       "    .dataframe tbody tr th:only-of-type {\n",
       "        vertical-align: middle;\n",
       "    }\n",
       "\n",
       "    .dataframe tbody tr th {\n",
       "        vertical-align: top;\n",
       "    }\n",
       "\n",
       "    .dataframe thead th {\n",
       "        text-align: right;\n",
       "    }\n",
       "</style>\n",
       "<table border=\"1\" class=\"dataframe\">\n",
       "  <thead>\n",
       "    <tr style=\"text-align: right;\">\n",
       "      <th></th>\n",
       "      <th>n_samples</th>\n",
       "      <th>n_represented</th>\n",
       "      <th>saving_cbill.total_usd wt_mean</th>\n",
       "      <th>saving_cbill.total_usd wt_p0.1</th>\n",
       "      <th>saving_cbill.total_usd wt_p0.25</th>\n",
       "      <th>saving_cbill.total_usd wt_p0.75</th>\n",
       "      <th>saving_cbill.total_usd wt_p0.9</th>\n",
       "    </tr>\n",
       "    <tr>\n",
       "      <th>upgrade_name</th>\n",
       "      <th></th>\n",
       "      <th></th>\n",
       "      <th></th>\n",
       "      <th></th>\n",
       "      <th></th>\n",
       "      <th></th>\n",
       "      <th></th>\n",
       "    </tr>\n",
       "  </thead>\n",
       "  <tbody>\n",
       "    <tr>\n",
       "      <th>High Efficiency Heat Pump with Electric Heat Backup</th>\n",
       "      <td>933</td>\n",
       "      <td>9540.214122</td>\n",
       "      <td>702.055468</td>\n",
       "      <td>153.630782</td>\n",
       "      <td>288.035501</td>\n",
       "      <td>957.668037</td>\n",
       "      <td>1380.352245</td>\n",
       "    </tr>\n",
       "    <tr>\n",
       "      <th>Enhanced Enclosure + High Efficiency Whole Home Electrification</th>\n",
       "      <td>936</td>\n",
       "      <td>9552.001866</td>\n",
       "      <td>677.837733</td>\n",
       "      <td>48.793972</td>\n",
       "      <td>253.308470</td>\n",
       "      <td>891.687932</td>\n",
       "      <td>1545.701195</td>\n",
       "    </tr>\n",
       "    <tr>\n",
       "      <th>Enhanced Enclosure + HPWH + High Efficiency HP/Electric Backup</th>\n",
       "      <td>936</td>\n",
       "      <td>9552.001866</td>\n",
       "      <td>662.540826</td>\n",
       "      <td>45.499197</td>\n",
       "      <td>239.832130</td>\n",
       "      <td>865.493040</td>\n",
       "      <td>1528.297899</td>\n",
       "    </tr>\n",
       "    <tr>\n",
       "      <th>Basic Enclosure + High Efficiency Whole Home Electrification</th>\n",
       "      <td>936</td>\n",
       "      <td>9552.001866</td>\n",
       "      <td>658.826797</td>\n",
       "      <td>29.538960</td>\n",
       "      <td>238.401743</td>\n",
       "      <td>889.006754</td>\n",
       "      <td>1518.386727</td>\n",
       "    </tr>\n",
       "    <tr>\n",
       "      <th>Basic Enclosure + HPWH + High Efficiency HP/Electric Backup</th>\n",
       "      <td>936</td>\n",
       "      <td>9552.001866</td>\n",
       "      <td>643.531464</td>\n",
       "      <td>34.317677</td>\n",
       "      <td>237.314479</td>\n",
       "      <td>851.005522</td>\n",
       "      <td>1492.467326</td>\n",
       "    </tr>\n",
       "    <tr>\n",
       "      <th>High Efficiency Whole Home Electrification</th>\n",
       "      <td>936</td>\n",
       "      <td>9552.001866</td>\n",
       "      <td>540.998953</td>\n",
       "      <td>-77.295273</td>\n",
       "      <td>153.540073</td>\n",
       "      <td>809.379190</td>\n",
       "      <td>1327.427065</td>\n",
       "    </tr>\n",
       "    <tr>\n",
       "      <th>Enhanced Enclosure</th>\n",
       "      <td>926</td>\n",
       "      <td>9448.000114</td>\n",
       "      <td>414.603334</td>\n",
       "      <td>40.446996</td>\n",
       "      <td>113.725675</td>\n",
       "      <td>573.417270</td>\n",
       "      <td>960.501334</td>\n",
       "    </tr>\n",
       "    <tr>\n",
       "      <th>Basic Enclosure</th>\n",
       "      <td>921</td>\n",
       "      <td>9421.596759</td>\n",
       "      <td>354.828588</td>\n",
       "      <td>36.082770</td>\n",
       "      <td>87.620367</td>\n",
       "      <td>488.501564</td>\n",
       "      <td>848.974398</td>\n",
       "    </tr>\n",
       "    <tr>\n",
       "      <th>Mininum Efficiency Heat Pump with Electric Heat Backup</th>\n",
       "      <td>933</td>\n",
       "      <td>9540.214122</td>\n",
       "      <td>309.161686</td>\n",
       "      <td>-19.176947</td>\n",
       "      <td>70.036319</td>\n",
       "      <td>477.476430</td>\n",
       "      <td>796.308660</td>\n",
       "    </tr>\n",
       "    <tr>\n",
       "      <th>Mininum Efficiency Heat Pump with Existing Heat Backup</th>\n",
       "      <td>935</td>\n",
       "      <td>9528.783582</td>\n",
       "      <td>284.721746</td>\n",
       "      <td>8.223031</td>\n",
       "      <td>62.445051</td>\n",
       "      <td>412.471198</td>\n",
       "      <td>723.762780</td>\n",
       "    </tr>\n",
       "    <tr>\n",
       "      <th>Heat Pump Water Heater</th>\n",
       "      <td>929</td>\n",
       "      <td>9496.592665</td>\n",
       "      <td>115.988544</td>\n",
       "      <td>18.434786</td>\n",
       "      <td>54.488721</td>\n",
       "      <td>160.621903</td>\n",
       "      <td>242.873009</td>\n",
       "    </tr>\n",
       "    <tr>\n",
       "      <th>Heat Pump Clothes Dryer</th>\n",
       "      <td>775</td>\n",
       "      <td>7921.448289</td>\n",
       "      <td>27.803985</td>\n",
       "      <td>0.000000</td>\n",
       "      <td>15.579145</td>\n",
       "      <td>37.193996</td>\n",
       "      <td>55.698738</td>\n",
       "    </tr>\n",
       "    <tr>\n",
       "      <th>Induction Cooking</th>\n",
       "      <td>926</td>\n",
       "      <td>9431.045665</td>\n",
       "      <td>3.255258</td>\n",
       "      <td>0.000000</td>\n",
       "      <td>3.287447</td>\n",
       "      <td>5.915242</td>\n",
       "      <td>9.151868</td>\n",
       "    </tr>\n",
       "    <tr>\n",
       "      <th>baseline</th>\n",
       "      <td>936</td>\n",
       "      <td>9552.001866</td>\n",
       "      <td>0.000000</td>\n",
       "      <td>0.000000</td>\n",
       "      <td>0.000000</td>\n",
       "      <td>0.000000</td>\n",
       "      <td>0.000000</td>\n",
       "    </tr>\n",
       "    <tr>\n",
       "      <th>Electric Cooking</th>\n",
       "      <td>252</td>\n",
       "      <td>2762.397351</td>\n",
       "      <td>-1.716469</td>\n",
       "      <td>-36.526747</td>\n",
       "      <td>0.000000</td>\n",
       "      <td>5.457604</td>\n",
       "      <td>8.437444</td>\n",
       "    </tr>\n",
       "    <tr>\n",
       "      <th>Electric Clothes Dryer</th>\n",
       "      <td>33</td>\n",
       "      <td>367.632037</td>\n",
       "      <td>-13.377560</td>\n",
       "      <td>-32.652734</td>\n",
       "      <td>-20.154279</td>\n",
       "      <td>0.000000</td>\n",
       "      <td>0.000000</td>\n",
       "    </tr>\n",
       "    <tr>\n",
       "      <th>Mininum Efficiency Whole Home Electrification</th>\n",
       "      <td>457</td>\n",
       "      <td>5407.490052</td>\n",
       "      <td>-283.272863</td>\n",
       "      <td>-866.956721</td>\n",
       "      <td>-449.961827</td>\n",
       "      <td>-26.782577</td>\n",
       "      <td>72.337915</td>\n",
       "    </tr>\n",
       "  </tbody>\n",
       "</table>\n",
       "</div>"
      ],
      "text/plain": [
       "                                                    n_samples  n_represented  \\\n",
       "upgrade_name                                                                   \n",
       "High Efficiency Heat Pump with Electric Heat Ba...        933    9540.214122   \n",
       "Enhanced Enclosure + High Efficiency Whole Home...        936    9552.001866   \n",
       "Enhanced Enclosure + HPWH + High Efficiency HP/...        936    9552.001866   \n",
       "Basic Enclosure + High Efficiency Whole Home El...        936    9552.001866   \n",
       "Basic Enclosure + HPWH + High Efficiency HP/Ele...        936    9552.001866   \n",
       "High Efficiency Whole Home Electrification                936    9552.001866   \n",
       "Enhanced Enclosure                                        926    9448.000114   \n",
       "Basic Enclosure                                           921    9421.596759   \n",
       "Mininum Efficiency Heat Pump with Electric Heat...        933    9540.214122   \n",
       "Mininum Efficiency Heat Pump with Existing Heat...        935    9528.783582   \n",
       "Heat Pump Water Heater                                    929    9496.592665   \n",
       "Heat Pump Clothes Dryer                                   775    7921.448289   \n",
       "Induction Cooking                                         926    9431.045665   \n",
       "baseline                                                  936    9552.001866   \n",
       "Electric Cooking                                          252    2762.397351   \n",
       "Electric Clothes Dryer                                     33     367.632037   \n",
       "Mininum Efficiency Whole Home Electrification             457    5407.490052   \n",
       "\n",
       "                                                    saving_cbill.total_usd wt_mean  \\\n",
       "upgrade_name                                                                         \n",
       "High Efficiency Heat Pump with Electric Heat Ba...                      702.055468   \n",
       "Enhanced Enclosure + High Efficiency Whole Home...                      677.837733   \n",
       "Enhanced Enclosure + HPWH + High Efficiency HP/...                      662.540826   \n",
       "Basic Enclosure + High Efficiency Whole Home El...                      658.826797   \n",
       "Basic Enclosure + HPWH + High Efficiency HP/Ele...                      643.531464   \n",
       "High Efficiency Whole Home Electrification                              540.998953   \n",
       "Enhanced Enclosure                                                      414.603334   \n",
       "Basic Enclosure                                                         354.828588   \n",
       "Mininum Efficiency Heat Pump with Electric Heat...                      309.161686   \n",
       "Mininum Efficiency Heat Pump with Existing Heat...                      284.721746   \n",
       "Heat Pump Water Heater                                                  115.988544   \n",
       "Heat Pump Clothes Dryer                                                  27.803985   \n",
       "Induction Cooking                                                         3.255258   \n",
       "baseline                                                                  0.000000   \n",
       "Electric Cooking                                                         -1.716469   \n",
       "Electric Clothes Dryer                                                  -13.377560   \n",
       "Mininum Efficiency Whole Home Electrification                          -283.272863   \n",
       "\n",
       "                                                    saving_cbill.total_usd wt_p0.1  \\\n",
       "upgrade_name                                                                         \n",
       "High Efficiency Heat Pump with Electric Heat Ba...                      153.630782   \n",
       "Enhanced Enclosure + High Efficiency Whole Home...                       48.793972   \n",
       "Enhanced Enclosure + HPWH + High Efficiency HP/...                       45.499197   \n",
       "Basic Enclosure + High Efficiency Whole Home El...                       29.538960   \n",
       "Basic Enclosure + HPWH + High Efficiency HP/Ele...                       34.317677   \n",
       "High Efficiency Whole Home Electrification                              -77.295273   \n",
       "Enhanced Enclosure                                                       40.446996   \n",
       "Basic Enclosure                                                          36.082770   \n",
       "Mininum Efficiency Heat Pump with Electric Heat...                      -19.176947   \n",
       "Mininum Efficiency Heat Pump with Existing Heat...                        8.223031   \n",
       "Heat Pump Water Heater                                                   18.434786   \n",
       "Heat Pump Clothes Dryer                                                   0.000000   \n",
       "Induction Cooking                                                         0.000000   \n",
       "baseline                                                                  0.000000   \n",
       "Electric Cooking                                                        -36.526747   \n",
       "Electric Clothes Dryer                                                  -32.652734   \n",
       "Mininum Efficiency Whole Home Electrification                          -866.956721   \n",
       "\n",
       "                                                    saving_cbill.total_usd wt_p0.25  \\\n",
       "upgrade_name                                                                          \n",
       "High Efficiency Heat Pump with Electric Heat Ba...                       288.035501   \n",
       "Enhanced Enclosure + High Efficiency Whole Home...                       253.308470   \n",
       "Enhanced Enclosure + HPWH + High Efficiency HP/...                       239.832130   \n",
       "Basic Enclosure + High Efficiency Whole Home El...                       238.401743   \n",
       "Basic Enclosure + HPWH + High Efficiency HP/Ele...                       237.314479   \n",
       "High Efficiency Whole Home Electrification                               153.540073   \n",
       "Enhanced Enclosure                                                       113.725675   \n",
       "Basic Enclosure                                                           87.620367   \n",
       "Mininum Efficiency Heat Pump with Electric Heat...                        70.036319   \n",
       "Mininum Efficiency Heat Pump with Existing Heat...                        62.445051   \n",
       "Heat Pump Water Heater                                                    54.488721   \n",
       "Heat Pump Clothes Dryer                                                   15.579145   \n",
       "Induction Cooking                                                          3.287447   \n",
       "baseline                                                                   0.000000   \n",
       "Electric Cooking                                                           0.000000   \n",
       "Electric Clothes Dryer                                                   -20.154279   \n",
       "Mininum Efficiency Whole Home Electrification                           -449.961827   \n",
       "\n",
       "                                                    saving_cbill.total_usd wt_p0.75  \\\n",
       "upgrade_name                                                                          \n",
       "High Efficiency Heat Pump with Electric Heat Ba...                       957.668037   \n",
       "Enhanced Enclosure + High Efficiency Whole Home...                       891.687932   \n",
       "Enhanced Enclosure + HPWH + High Efficiency HP/...                       865.493040   \n",
       "Basic Enclosure + High Efficiency Whole Home El...                       889.006754   \n",
       "Basic Enclosure + HPWH + High Efficiency HP/Ele...                       851.005522   \n",
       "High Efficiency Whole Home Electrification                               809.379190   \n",
       "Enhanced Enclosure                                                       573.417270   \n",
       "Basic Enclosure                                                          488.501564   \n",
       "Mininum Efficiency Heat Pump with Electric Heat...                       477.476430   \n",
       "Mininum Efficiency Heat Pump with Existing Heat...                       412.471198   \n",
       "Heat Pump Water Heater                                                   160.621903   \n",
       "Heat Pump Clothes Dryer                                                   37.193996   \n",
       "Induction Cooking                                                          5.915242   \n",
       "baseline                                                                   0.000000   \n",
       "Electric Cooking                                                           5.457604   \n",
       "Electric Clothes Dryer                                                     0.000000   \n",
       "Mininum Efficiency Whole Home Electrification                            -26.782577   \n",
       "\n",
       "                                                    saving_cbill.total_usd wt_p0.9  \n",
       "upgrade_name                                                                        \n",
       "High Efficiency Heat Pump with Electric Heat Ba...                     1380.352245  \n",
       "Enhanced Enclosure + High Efficiency Whole Home...                     1545.701195  \n",
       "Enhanced Enclosure + HPWH + High Efficiency HP/...                     1528.297899  \n",
       "Basic Enclosure + High Efficiency Whole Home El...                     1518.386727  \n",
       "Basic Enclosure + HPWH + High Efficiency HP/Ele...                     1492.467326  \n",
       "High Efficiency Whole Home Electrification                             1327.427065  \n",
       "Enhanced Enclosure                                                      960.501334  \n",
       "Basic Enclosure                                                         848.974398  \n",
       "Mininum Efficiency Heat Pump with Electric Heat...                      796.308660  \n",
       "Mininum Efficiency Heat Pump with Existing Heat...                      723.762780  \n",
       "Heat Pump Water Heater                                                  242.873009  \n",
       "Heat Pump Clothes Dryer                                                  55.698738  \n",
       "Induction Cooking                                                         9.151868  \n",
       "baseline                                                                  0.000000  \n",
       "Electric Cooking                                                          8.437444  \n",
       "Electric Clothes Dryer                                                    0.000000  \n",
       "Mininum Efficiency Whole Home Electrification                            72.337915  "
      ]
     },
     "metadata": {},
     "output_type": "display_data"
    },
    {
     "name": "stdout",
     "output_type": "stream",
     "text": [
      "Summary for segment: segment1: \n"
     ]
    },
    {
     "data": {
      "text/html": [
       "<div>\n",
       "<style scoped>\n",
       "    .dataframe tbody tr th:only-of-type {\n",
       "        vertical-align: middle;\n",
       "    }\n",
       "\n",
       "    .dataframe tbody tr th {\n",
       "        vertical-align: top;\n",
       "    }\n",
       "\n",
       "    .dataframe thead th {\n",
       "        text-align: right;\n",
       "    }\n",
       "</style>\n",
       "<table border=\"1\" class=\"dataframe\">\n",
       "  <thead>\n",
       "    <tr style=\"text-align: right;\">\n",
       "      <th></th>\n",
       "      <th>n_samples</th>\n",
       "      <th>n_represented</th>\n",
       "      <th>saving_cbill.total_usd wt_mean</th>\n",
       "      <th>saving_cbill.total_usd wt_p0.1</th>\n",
       "      <th>saving_cbill.total_usd wt_p0.25</th>\n",
       "      <th>saving_cbill.total_usd wt_p0.75</th>\n",
       "      <th>saving_cbill.total_usd wt_p0.9</th>\n",
       "    </tr>\n",
       "    <tr>\n",
       "      <th>upgrade_name</th>\n",
       "      <th></th>\n",
       "      <th></th>\n",
       "      <th></th>\n",
       "      <th></th>\n",
       "      <th></th>\n",
       "      <th></th>\n",
       "      <th></th>\n",
       "    </tr>\n",
       "  </thead>\n",
       "  <tbody>\n",
       "    <tr>\n",
       "      <th>High Efficiency Heat Pump with Electric Heat Backup</th>\n",
       "      <td>134</td>\n",
       "      <td>1699.191387</td>\n",
       "      <td>807.248916</td>\n",
       "      <td>195.501759</td>\n",
       "      <td>510.092204</td>\n",
       "      <td>1061.619888</td>\n",
       "      <td>1466.434737</td>\n",
       "    </tr>\n",
       "    <tr>\n",
       "      <th>Enhanced Enclosure</th>\n",
       "      <td>134</td>\n",
       "      <td>1699.191387</td>\n",
       "      <td>564.621797</td>\n",
       "      <td>211.588833</td>\n",
       "      <td>297.021540</td>\n",
       "      <td>733.989391</td>\n",
       "      <td>1069.816531</td>\n",
       "    </tr>\n",
       "    <tr>\n",
       "      <th>Basic Enclosure</th>\n",
       "      <td>134</td>\n",
       "      <td>1699.191387</td>\n",
       "      <td>491.307100</td>\n",
       "      <td>158.586311</td>\n",
       "      <td>251.601503</td>\n",
       "      <td>655.290063</td>\n",
       "      <td>971.514837</td>\n",
       "    </tr>\n",
       "    <tr>\n",
       "      <th>Enhanced Enclosure + High Efficiency Whole Home Electrification</th>\n",
       "      <td>134</td>\n",
       "      <td>1699.191387</td>\n",
       "      <td>355.343253</td>\n",
       "      <td>-137.856006</td>\n",
       "      <td>132.190494</td>\n",
       "      <td>512.551001</td>\n",
       "      <td>784.191244</td>\n",
       "    </tr>\n",
       "    <tr>\n",
       "      <th>Enhanced Enclosure + HPWH + High Efficiency HP/Electric Backup</th>\n",
       "      <td>134</td>\n",
       "      <td>1699.191387</td>\n",
       "      <td>344.216248</td>\n",
       "      <td>-177.169999</td>\n",
       "      <td>132.353186</td>\n",
       "      <td>490.725538</td>\n",
       "      <td>778.610380</td>\n",
       "    </tr>\n",
       "    <tr>\n",
       "      <th>Basic Enclosure + High Efficiency Whole Home Electrification</th>\n",
       "      <td>134</td>\n",
       "      <td>1699.191387</td>\n",
       "      <td>336.841415</td>\n",
       "      <td>-169.422443</td>\n",
       "      <td>122.361106</td>\n",
       "      <td>510.623845</td>\n",
       "      <td>783.495725</td>\n",
       "    </tr>\n",
       "    <tr>\n",
       "      <th>Basic Enclosure + HPWH + High Efficiency HP/Electric Backup</th>\n",
       "      <td>134</td>\n",
       "      <td>1699.191387</td>\n",
       "      <td>325.708304</td>\n",
       "      <td>-210.998644</td>\n",
       "      <td>111.118352</td>\n",
       "      <td>493.640667</td>\n",
       "      <td>775.783981</td>\n",
       "    </tr>\n",
       "    <tr>\n",
       "      <th>Mininum Efficiency Heat Pump with Electric Heat Backup</th>\n",
       "      <td>134</td>\n",
       "      <td>1699.191387</td>\n",
       "      <td>311.472995</td>\n",
       "      <td>-121.372357</td>\n",
       "      <td>174.043984</td>\n",
       "      <td>473.271923</td>\n",
       "      <td>740.175186</td>\n",
       "    </tr>\n",
       "    <tr>\n",
       "      <th>Mininum Efficiency Heat Pump with Existing Heat Backup</th>\n",
       "      <td>134</td>\n",
       "      <td>1699.191387</td>\n",
       "      <td>206.858255</td>\n",
       "      <td>-180.800942</td>\n",
       "      <td>91.382722</td>\n",
       "      <td>377.269444</td>\n",
       "      <td>566.874042</td>\n",
       "    </tr>\n",
       "    <tr>\n",
       "      <th>High Efficiency Whole Home Electrification</th>\n",
       "      <td>134</td>\n",
       "      <td>1699.191387</td>\n",
       "      <td>163.091800</td>\n",
       "      <td>-313.246173</td>\n",
       "      <td>-31.081145</td>\n",
       "      <td>321.538375</td>\n",
       "      <td>586.433218</td>\n",
       "    </tr>\n",
       "    <tr>\n",
       "      <th>Heat Pump Water Heater</th>\n",
       "      <td>134</td>\n",
       "      <td>1699.191387</td>\n",
       "      <td>137.925786</td>\n",
       "      <td>65.566463</td>\n",
       "      <td>80.463085</td>\n",
       "      <td>179.104740</td>\n",
       "      <td>224.704804</td>\n",
       "    </tr>\n",
       "    <tr>\n",
       "      <th>Heat Pump Clothes Dryer</th>\n",
       "      <td>131</td>\n",
       "      <td>1629.536536</td>\n",
       "      <td>31.707228</td>\n",
       "      <td>13.213553</td>\n",
       "      <td>18.779998</td>\n",
       "      <td>38.454006</td>\n",
       "      <td>52.619085</td>\n",
       "    </tr>\n",
       "    <tr>\n",
       "      <th>Induction Cooking</th>\n",
       "      <td>132</td>\n",
       "      <td>1670.168532</td>\n",
       "      <td>7.033776</td>\n",
       "      <td>3.657801</td>\n",
       "      <td>4.380349</td>\n",
       "      <td>8.553506</td>\n",
       "      <td>13.116229</td>\n",
       "    </tr>\n",
       "    <tr>\n",
       "      <th>Electric Cooking</th>\n",
       "      <td>59</td>\n",
       "      <td>732.463138</td>\n",
       "      <td>5.293254</td>\n",
       "      <td>2.404467</td>\n",
       "      <td>3.077316</td>\n",
       "      <td>6.740939</td>\n",
       "      <td>10.184317</td>\n",
       "    </tr>\n",
       "    <tr>\n",
       "      <th>baseline</th>\n",
       "      <td>134</td>\n",
       "      <td>1699.191387</td>\n",
       "      <td>0.000000</td>\n",
       "      <td>0.000000</td>\n",
       "      <td>0.000000</td>\n",
       "      <td>0.000000</td>\n",
       "      <td>0.000000</td>\n",
       "    </tr>\n",
       "    <tr>\n",
       "      <th>Electric Clothes Dryer</th>\n",
       "      <td>10</td>\n",
       "      <td>148.983986</td>\n",
       "      <td>-18.248642</td>\n",
       "      <td>-32.979847</td>\n",
       "      <td>-23.421047</td>\n",
       "      <td>-12.580762</td>\n",
       "      <td>-9.627492</td>\n",
       "    </tr>\n",
       "    <tr>\n",
       "      <th>Mininum Efficiency Whole Home Electrification</th>\n",
       "      <td>134</td>\n",
       "      <td>1699.191387</td>\n",
       "      <td>-379.018654</td>\n",
       "      <td>-961.809104</td>\n",
       "      <td>-635.105470</td>\n",
       "      <td>-106.204378</td>\n",
       "      <td>37.272864</td>\n",
       "    </tr>\n",
       "  </tbody>\n",
       "</table>\n",
       "</div>"
      ],
      "text/plain": [
       "                                                    n_samples  n_represented  \\\n",
       "upgrade_name                                                                   \n",
       "High Efficiency Heat Pump with Electric Heat Ba...        134    1699.191387   \n",
       "Enhanced Enclosure                                        134    1699.191387   \n",
       "Basic Enclosure                                           134    1699.191387   \n",
       "Enhanced Enclosure + High Efficiency Whole Home...        134    1699.191387   \n",
       "Enhanced Enclosure + HPWH + High Efficiency HP/...        134    1699.191387   \n",
       "Basic Enclosure + High Efficiency Whole Home El...        134    1699.191387   \n",
       "Basic Enclosure + HPWH + High Efficiency HP/Ele...        134    1699.191387   \n",
       "Mininum Efficiency Heat Pump with Electric Heat...        134    1699.191387   \n",
       "Mininum Efficiency Heat Pump with Existing Heat...        134    1699.191387   \n",
       "High Efficiency Whole Home Electrification                134    1699.191387   \n",
       "Heat Pump Water Heater                                    134    1699.191387   \n",
       "Heat Pump Clothes Dryer                                   131    1629.536536   \n",
       "Induction Cooking                                         132    1670.168532   \n",
       "Electric Cooking                                           59     732.463138   \n",
       "baseline                                                  134    1699.191387   \n",
       "Electric Clothes Dryer                                     10     148.983986   \n",
       "Mininum Efficiency Whole Home Electrification             134    1699.191387   \n",
       "\n",
       "                                                    saving_cbill.total_usd wt_mean  \\\n",
       "upgrade_name                                                                         \n",
       "High Efficiency Heat Pump with Electric Heat Ba...                      807.248916   \n",
       "Enhanced Enclosure                                                      564.621797   \n",
       "Basic Enclosure                                                         491.307100   \n",
       "Enhanced Enclosure + High Efficiency Whole Home...                      355.343253   \n",
       "Enhanced Enclosure + HPWH + High Efficiency HP/...                      344.216248   \n",
       "Basic Enclosure + High Efficiency Whole Home El...                      336.841415   \n",
       "Basic Enclosure + HPWH + High Efficiency HP/Ele...                      325.708304   \n",
       "Mininum Efficiency Heat Pump with Electric Heat...                      311.472995   \n",
       "Mininum Efficiency Heat Pump with Existing Heat...                      206.858255   \n",
       "High Efficiency Whole Home Electrification                              163.091800   \n",
       "Heat Pump Water Heater                                                  137.925786   \n",
       "Heat Pump Clothes Dryer                                                  31.707228   \n",
       "Induction Cooking                                                         7.033776   \n",
       "Electric Cooking                                                          5.293254   \n",
       "baseline                                                                  0.000000   \n",
       "Electric Clothes Dryer                                                  -18.248642   \n",
       "Mininum Efficiency Whole Home Electrification                          -379.018654   \n",
       "\n",
       "                                                    saving_cbill.total_usd wt_p0.1  \\\n",
       "upgrade_name                                                                         \n",
       "High Efficiency Heat Pump with Electric Heat Ba...                      195.501759   \n",
       "Enhanced Enclosure                                                      211.588833   \n",
       "Basic Enclosure                                                         158.586311   \n",
       "Enhanced Enclosure + High Efficiency Whole Home...                     -137.856006   \n",
       "Enhanced Enclosure + HPWH + High Efficiency HP/...                     -177.169999   \n",
       "Basic Enclosure + High Efficiency Whole Home El...                     -169.422443   \n",
       "Basic Enclosure + HPWH + High Efficiency HP/Ele...                     -210.998644   \n",
       "Mininum Efficiency Heat Pump with Electric Heat...                     -121.372357   \n",
       "Mininum Efficiency Heat Pump with Existing Heat...                     -180.800942   \n",
       "High Efficiency Whole Home Electrification                             -313.246173   \n",
       "Heat Pump Water Heater                                                   65.566463   \n",
       "Heat Pump Clothes Dryer                                                  13.213553   \n",
       "Induction Cooking                                                         3.657801   \n",
       "Electric Cooking                                                          2.404467   \n",
       "baseline                                                                  0.000000   \n",
       "Electric Clothes Dryer                                                  -32.979847   \n",
       "Mininum Efficiency Whole Home Electrification                          -961.809104   \n",
       "\n",
       "                                                    saving_cbill.total_usd wt_p0.25  \\\n",
       "upgrade_name                                                                          \n",
       "High Efficiency Heat Pump with Electric Heat Ba...                       510.092204   \n",
       "Enhanced Enclosure                                                       297.021540   \n",
       "Basic Enclosure                                                          251.601503   \n",
       "Enhanced Enclosure + High Efficiency Whole Home...                       132.190494   \n",
       "Enhanced Enclosure + HPWH + High Efficiency HP/...                       132.353186   \n",
       "Basic Enclosure + High Efficiency Whole Home El...                       122.361106   \n",
       "Basic Enclosure + HPWH + High Efficiency HP/Ele...                       111.118352   \n",
       "Mininum Efficiency Heat Pump with Electric Heat...                       174.043984   \n",
       "Mininum Efficiency Heat Pump with Existing Heat...                        91.382722   \n",
       "High Efficiency Whole Home Electrification                               -31.081145   \n",
       "Heat Pump Water Heater                                                    80.463085   \n",
       "Heat Pump Clothes Dryer                                                   18.779998   \n",
       "Induction Cooking                                                          4.380349   \n",
       "Electric Cooking                                                           3.077316   \n",
       "baseline                                                                   0.000000   \n",
       "Electric Clothes Dryer                                                   -23.421047   \n",
       "Mininum Efficiency Whole Home Electrification                           -635.105470   \n",
       "\n",
       "                                                    saving_cbill.total_usd wt_p0.75  \\\n",
       "upgrade_name                                                                          \n",
       "High Efficiency Heat Pump with Electric Heat Ba...                      1061.619888   \n",
       "Enhanced Enclosure                                                       733.989391   \n",
       "Basic Enclosure                                                          655.290063   \n",
       "Enhanced Enclosure + High Efficiency Whole Home...                       512.551001   \n",
       "Enhanced Enclosure + HPWH + High Efficiency HP/...                       490.725538   \n",
       "Basic Enclosure + High Efficiency Whole Home El...                       510.623845   \n",
       "Basic Enclosure + HPWH + High Efficiency HP/Ele...                       493.640667   \n",
       "Mininum Efficiency Heat Pump with Electric Heat...                       473.271923   \n",
       "Mininum Efficiency Heat Pump with Existing Heat...                       377.269444   \n",
       "High Efficiency Whole Home Electrification                               321.538375   \n",
       "Heat Pump Water Heater                                                   179.104740   \n",
       "Heat Pump Clothes Dryer                                                   38.454006   \n",
       "Induction Cooking                                                          8.553506   \n",
       "Electric Cooking                                                           6.740939   \n",
       "baseline                                                                   0.000000   \n",
       "Electric Clothes Dryer                                                   -12.580762   \n",
       "Mininum Efficiency Whole Home Electrification                           -106.204378   \n",
       "\n",
       "                                                    saving_cbill.total_usd wt_p0.9  \n",
       "upgrade_name                                                                        \n",
       "High Efficiency Heat Pump with Electric Heat Ba...                     1466.434737  \n",
       "Enhanced Enclosure                                                     1069.816531  \n",
       "Basic Enclosure                                                         971.514837  \n",
       "Enhanced Enclosure + High Efficiency Whole Home...                      784.191244  \n",
       "Enhanced Enclosure + HPWH + High Efficiency HP/...                      778.610380  \n",
       "Basic Enclosure + High Efficiency Whole Home El...                      783.495725  \n",
       "Basic Enclosure + HPWH + High Efficiency HP/Ele...                      775.783981  \n",
       "Mininum Efficiency Heat Pump with Electric Heat...                      740.175186  \n",
       "Mininum Efficiency Heat Pump with Existing Heat...                      566.874042  \n",
       "High Efficiency Whole Home Electrification                              586.433218  \n",
       "Heat Pump Water Heater                                                  224.704804  \n",
       "Heat Pump Clothes Dryer                                                  52.619085  \n",
       "Induction Cooking                                                        13.116229  \n",
       "Electric Cooking                                                         10.184317  \n",
       "baseline                                                                  0.000000  \n",
       "Electric Clothes Dryer                                                   -9.627492  \n",
       "Mininum Efficiency Whole Home Electrification                            37.272864  "
      ]
     },
     "metadata": {},
     "output_type": "display_data"
    },
    {
     "name": "stdout",
     "output_type": "stream",
     "text": [
      "Summary for segment: segment2: \n"
     ]
    },
    {
     "data": {
      "text/html": [
       "<div>\n",
       "<style scoped>\n",
       "    .dataframe tbody tr th:only-of-type {\n",
       "        vertical-align: middle;\n",
       "    }\n",
       "\n",
       "    .dataframe tbody tr th {\n",
       "        vertical-align: top;\n",
       "    }\n",
       "\n",
       "    .dataframe thead th {\n",
       "        text-align: right;\n",
       "    }\n",
       "</style>\n",
       "<table border=\"1\" class=\"dataframe\">\n",
       "  <thead>\n",
       "    <tr style=\"text-align: right;\">\n",
       "      <th></th>\n",
       "      <th>n_samples</th>\n",
       "      <th>n_represented</th>\n",
       "      <th>saving_cbill.total_usd wt_mean</th>\n",
       "      <th>saving_cbill.total_usd wt_p0.1</th>\n",
       "      <th>saving_cbill.total_usd wt_p0.25</th>\n",
       "      <th>saving_cbill.total_usd wt_p0.75</th>\n",
       "      <th>saving_cbill.total_usd wt_p0.9</th>\n",
       "    </tr>\n",
       "    <tr>\n",
       "      <th>upgrade_name</th>\n",
       "      <th></th>\n",
       "      <th></th>\n",
       "      <th></th>\n",
       "      <th></th>\n",
       "      <th></th>\n",
       "      <th></th>\n",
       "      <th></th>\n",
       "    </tr>\n",
       "  </thead>\n",
       "  <tbody>\n",
       "    <tr>\n",
       "      <th>Enhanced Enclosure + High Efficiency Whole Home Electrification</th>\n",
       "      <td>88</td>\n",
       "      <td>1193.806748</td>\n",
       "      <td>1462.397334</td>\n",
       "      <td>705.102075</td>\n",
       "      <td>985.612652</td>\n",
       "      <td>1857.755448</td>\n",
       "      <td>2117.713707</td>\n",
       "    </tr>\n",
       "    <tr>\n",
       "      <th>Basic Enclosure + High Efficiency Whole Home Electrification</th>\n",
       "      <td>88</td>\n",
       "      <td>1193.806748</td>\n",
       "      <td>1444.659517</td>\n",
       "      <td>705.102075</td>\n",
       "      <td>943.649063</td>\n",
       "      <td>1856.652661</td>\n",
       "      <td>2117.713707</td>\n",
       "    </tr>\n",
       "    <tr>\n",
       "      <th>Enhanced Enclosure + HPWH + High Efficiency HP/Electric Backup</th>\n",
       "      <td>88</td>\n",
       "      <td>1193.806748</td>\n",
       "      <td>1436.970645</td>\n",
       "      <td>674.842695</td>\n",
       "      <td>953.965452</td>\n",
       "      <td>1840.758701</td>\n",
       "      <td>2091.746264</td>\n",
       "    </tr>\n",
       "    <tr>\n",
       "      <th>Basic Enclosure + HPWH + High Efficiency HP/Electric Backup</th>\n",
       "      <td>88</td>\n",
       "      <td>1193.806748</td>\n",
       "      <td>1419.250782</td>\n",
       "      <td>674.718597</td>\n",
       "      <td>942.410037</td>\n",
       "      <td>1834.712031</td>\n",
       "      <td>2091.746264</td>\n",
       "    </tr>\n",
       "    <tr>\n",
       "      <th>High Efficiency Whole Home Electrification</th>\n",
       "      <td>88</td>\n",
       "      <td>1193.806748</td>\n",
       "      <td>1258.559878</td>\n",
       "      <td>620.229497</td>\n",
       "      <td>820.097740</td>\n",
       "      <td>1597.707293</td>\n",
       "      <td>1829.484229</td>\n",
       "    </tr>\n",
       "    <tr>\n",
       "      <th>High Efficiency Heat Pump with Electric Heat Backup</th>\n",
       "      <td>88</td>\n",
       "      <td>1193.806748</td>\n",
       "      <td>1080.458358</td>\n",
       "      <td>460.650399</td>\n",
       "      <td>596.837461</td>\n",
       "      <td>1460.831644</td>\n",
       "      <td>1681.195085</td>\n",
       "    </tr>\n",
       "    <tr>\n",
       "      <th>Enhanced Enclosure</th>\n",
       "      <td>88</td>\n",
       "      <td>1193.806748</td>\n",
       "      <td>677.097569</td>\n",
       "      <td>190.840288</td>\n",
       "      <td>324.195245</td>\n",
       "      <td>923.424226</td>\n",
       "      <td>1247.765042</td>\n",
       "    </tr>\n",
       "    <tr>\n",
       "      <th>Basic Enclosure</th>\n",
       "      <td>88</td>\n",
       "      <td>1193.806748</td>\n",
       "      <td>613.651181</td>\n",
       "      <td>162.340817</td>\n",
       "      <td>279.901342</td>\n",
       "      <td>880.214951</td>\n",
       "      <td>1073.038964</td>\n",
       "    </tr>\n",
       "    <tr>\n",
       "      <th>Mininum Efficiency Heat Pump with Electric Heat Backup</th>\n",
       "      <td>88</td>\n",
       "      <td>1193.806748</td>\n",
       "      <td>564.688765</td>\n",
       "      <td>88.118742</td>\n",
       "      <td>264.587290</td>\n",
       "      <td>855.238518</td>\n",
       "      <td>1127.170744</td>\n",
       "    </tr>\n",
       "    <tr>\n",
       "      <th>Mininum Efficiency Heat Pump with Existing Heat Backup</th>\n",
       "      <td>88</td>\n",
       "      <td>1193.806748</td>\n",
       "      <td>564.686392</td>\n",
       "      <td>88.118742</td>\n",
       "      <td>264.582389</td>\n",
       "      <td>855.238518</td>\n",
       "      <td>1127.169669</td>\n",
       "    </tr>\n",
       "    <tr>\n",
       "      <th>Heat Pump Water Heater</th>\n",
       "      <td>86</td>\n",
       "      <td>1172.910292</td>\n",
       "      <td>118.835030</td>\n",
       "      <td>34.809351</td>\n",
       "      <td>59.541619</td>\n",
       "      <td>145.012142</td>\n",
       "      <td>233.396303</td>\n",
       "    </tr>\n",
       "    <tr>\n",
       "      <th>Heat Pump Clothes Dryer</th>\n",
       "      <td>85</td>\n",
       "      <td>1139.630752</td>\n",
       "      <td>28.831577</td>\n",
       "      <td>12.489857</td>\n",
       "      <td>15.711529</td>\n",
       "      <td>35.024543</td>\n",
       "      <td>51.463739</td>\n",
       "    </tr>\n",
       "    <tr>\n",
       "      <th>Induction Cooking</th>\n",
       "      <td>88</td>\n",
       "      <td>1193.806748</td>\n",
       "      <td>2.076917</td>\n",
       "      <td>2.859887</td>\n",
       "      <td>3.528210</td>\n",
       "      <td>5.123000</td>\n",
       "      <td>8.511396</td>\n",
       "    </tr>\n",
       "    <tr>\n",
       "      <th>baseline</th>\n",
       "      <td>88</td>\n",
       "      <td>1193.806748</td>\n",
       "      <td>0.000000</td>\n",
       "      <td>0.000000</td>\n",
       "      <td>0.000000</td>\n",
       "      <td>0.000000</td>\n",
       "      <td>0.000000</td>\n",
       "    </tr>\n",
       "    <tr>\n",
       "      <th>Electric Cooking</th>\n",
       "      <td>15</td>\n",
       "      <td>204.707867</td>\n",
       "      <td>-12.911866</td>\n",
       "      <td>-51.728024</td>\n",
       "      <td>-37.412921</td>\n",
       "      <td>8.013056</td>\n",
       "      <td>11.039570</td>\n",
       "    </tr>\n",
       "    <tr>\n",
       "      <th>Mininum Efficiency Whole Home Electrification</th>\n",
       "      <td>22</td>\n",
       "      <td>344.017568</td>\n",
       "      <td>-18.679110</td>\n",
       "      <td>-132.406173</td>\n",
       "      <td>-57.550042</td>\n",
       "      <td>62.152475</td>\n",
       "      <td>85.262034</td>\n",
       "    </tr>\n",
       "    <tr>\n",
       "      <th>Electric Clothes Dryer</th>\n",
       "      <td>2</td>\n",
       "      <td>34.827425</td>\n",
       "      <td>-25.630575</td>\n",
       "      <td>-28.805811</td>\n",
       "      <td>-28.805811</td>\n",
       "      <td>-20.867720</td>\n",
       "      <td>-19.280101</td>\n",
       "    </tr>\n",
       "  </tbody>\n",
       "</table>\n",
       "</div>"
      ],
      "text/plain": [
       "                                                    n_samples  n_represented  \\\n",
       "upgrade_name                                                                   \n",
       "Enhanced Enclosure + High Efficiency Whole Home...         88    1193.806748   \n",
       "Basic Enclosure + High Efficiency Whole Home El...         88    1193.806748   \n",
       "Enhanced Enclosure + HPWH + High Efficiency HP/...         88    1193.806748   \n",
       "Basic Enclosure + HPWH + High Efficiency HP/Ele...         88    1193.806748   \n",
       "High Efficiency Whole Home Electrification                 88    1193.806748   \n",
       "High Efficiency Heat Pump with Electric Heat Ba...         88    1193.806748   \n",
       "Enhanced Enclosure                                         88    1193.806748   \n",
       "Basic Enclosure                                            88    1193.806748   \n",
       "Mininum Efficiency Heat Pump with Electric Heat...         88    1193.806748   \n",
       "Mininum Efficiency Heat Pump with Existing Heat...         88    1193.806748   \n",
       "Heat Pump Water Heater                                     86    1172.910292   \n",
       "Heat Pump Clothes Dryer                                    85    1139.630752   \n",
       "Induction Cooking                                          88    1193.806748   \n",
       "baseline                                                   88    1193.806748   \n",
       "Electric Cooking                                           15     204.707867   \n",
       "Mininum Efficiency Whole Home Electrification              22     344.017568   \n",
       "Electric Clothes Dryer                                      2      34.827425   \n",
       "\n",
       "                                                    saving_cbill.total_usd wt_mean  \\\n",
       "upgrade_name                                                                         \n",
       "Enhanced Enclosure + High Efficiency Whole Home...                     1462.397334   \n",
       "Basic Enclosure + High Efficiency Whole Home El...                     1444.659517   \n",
       "Enhanced Enclosure + HPWH + High Efficiency HP/...                     1436.970645   \n",
       "Basic Enclosure + HPWH + High Efficiency HP/Ele...                     1419.250782   \n",
       "High Efficiency Whole Home Electrification                             1258.559878   \n",
       "High Efficiency Heat Pump with Electric Heat Ba...                     1080.458358   \n",
       "Enhanced Enclosure                                                      677.097569   \n",
       "Basic Enclosure                                                         613.651181   \n",
       "Mininum Efficiency Heat Pump with Electric Heat...                      564.688765   \n",
       "Mininum Efficiency Heat Pump with Existing Heat...                      564.686392   \n",
       "Heat Pump Water Heater                                                  118.835030   \n",
       "Heat Pump Clothes Dryer                                                  28.831577   \n",
       "Induction Cooking                                                         2.076917   \n",
       "baseline                                                                  0.000000   \n",
       "Electric Cooking                                                        -12.911866   \n",
       "Mininum Efficiency Whole Home Electrification                           -18.679110   \n",
       "Electric Clothes Dryer                                                  -25.630575   \n",
       "\n",
       "                                                    saving_cbill.total_usd wt_p0.1  \\\n",
       "upgrade_name                                                                         \n",
       "Enhanced Enclosure + High Efficiency Whole Home...                      705.102075   \n",
       "Basic Enclosure + High Efficiency Whole Home El...                      705.102075   \n",
       "Enhanced Enclosure + HPWH + High Efficiency HP/...                      674.842695   \n",
       "Basic Enclosure + HPWH + High Efficiency HP/Ele...                      674.718597   \n",
       "High Efficiency Whole Home Electrification                              620.229497   \n",
       "High Efficiency Heat Pump with Electric Heat Ba...                      460.650399   \n",
       "Enhanced Enclosure                                                      190.840288   \n",
       "Basic Enclosure                                                         162.340817   \n",
       "Mininum Efficiency Heat Pump with Electric Heat...                       88.118742   \n",
       "Mininum Efficiency Heat Pump with Existing Heat...                       88.118742   \n",
       "Heat Pump Water Heater                                                   34.809351   \n",
       "Heat Pump Clothes Dryer                                                  12.489857   \n",
       "Induction Cooking                                                         2.859887   \n",
       "baseline                                                                  0.000000   \n",
       "Electric Cooking                                                        -51.728024   \n",
       "Mininum Efficiency Whole Home Electrification                          -132.406173   \n",
       "Electric Clothes Dryer                                                  -28.805811   \n",
       "\n",
       "                                                    saving_cbill.total_usd wt_p0.25  \\\n",
       "upgrade_name                                                                          \n",
       "Enhanced Enclosure + High Efficiency Whole Home...                       985.612652   \n",
       "Basic Enclosure + High Efficiency Whole Home El...                       943.649063   \n",
       "Enhanced Enclosure + HPWH + High Efficiency HP/...                       953.965452   \n",
       "Basic Enclosure + HPWH + High Efficiency HP/Ele...                       942.410037   \n",
       "High Efficiency Whole Home Electrification                               820.097740   \n",
       "High Efficiency Heat Pump with Electric Heat Ba...                       596.837461   \n",
       "Enhanced Enclosure                                                       324.195245   \n",
       "Basic Enclosure                                                          279.901342   \n",
       "Mininum Efficiency Heat Pump with Electric Heat...                       264.587290   \n",
       "Mininum Efficiency Heat Pump with Existing Heat...                       264.582389   \n",
       "Heat Pump Water Heater                                                    59.541619   \n",
       "Heat Pump Clothes Dryer                                                   15.711529   \n",
       "Induction Cooking                                                          3.528210   \n",
       "baseline                                                                   0.000000   \n",
       "Electric Cooking                                                         -37.412921   \n",
       "Mininum Efficiency Whole Home Electrification                            -57.550042   \n",
       "Electric Clothes Dryer                                                   -28.805811   \n",
       "\n",
       "                                                    saving_cbill.total_usd wt_p0.75  \\\n",
       "upgrade_name                                                                          \n",
       "Enhanced Enclosure + High Efficiency Whole Home...                      1857.755448   \n",
       "Basic Enclosure + High Efficiency Whole Home El...                      1856.652661   \n",
       "Enhanced Enclosure + HPWH + High Efficiency HP/...                      1840.758701   \n",
       "Basic Enclosure + HPWH + High Efficiency HP/Ele...                      1834.712031   \n",
       "High Efficiency Whole Home Electrification                              1597.707293   \n",
       "High Efficiency Heat Pump with Electric Heat Ba...                      1460.831644   \n",
       "Enhanced Enclosure                                                       923.424226   \n",
       "Basic Enclosure                                                          880.214951   \n",
       "Mininum Efficiency Heat Pump with Electric Heat...                       855.238518   \n",
       "Mininum Efficiency Heat Pump with Existing Heat...                       855.238518   \n",
       "Heat Pump Water Heater                                                   145.012142   \n",
       "Heat Pump Clothes Dryer                                                   35.024543   \n",
       "Induction Cooking                                                          5.123000   \n",
       "baseline                                                                   0.000000   \n",
       "Electric Cooking                                                           8.013056   \n",
       "Mininum Efficiency Whole Home Electrification                             62.152475   \n",
       "Electric Clothes Dryer                                                   -20.867720   \n",
       "\n",
       "                                                    saving_cbill.total_usd wt_p0.9  \n",
       "upgrade_name                                                                        \n",
       "Enhanced Enclosure + High Efficiency Whole Home...                     2117.713707  \n",
       "Basic Enclosure + High Efficiency Whole Home El...                     2117.713707  \n",
       "Enhanced Enclosure + HPWH + High Efficiency HP/...                     2091.746264  \n",
       "Basic Enclosure + HPWH + High Efficiency HP/Ele...                     2091.746264  \n",
       "High Efficiency Whole Home Electrification                             1829.484229  \n",
       "High Efficiency Heat Pump with Electric Heat Ba...                     1681.195085  \n",
       "Enhanced Enclosure                                                     1247.765042  \n",
       "Basic Enclosure                                                        1073.038964  \n",
       "Mininum Efficiency Heat Pump with Electric Heat...                     1127.170744  \n",
       "Mininum Efficiency Heat Pump with Existing Heat...                     1127.169669  \n",
       "Heat Pump Water Heater                                                  233.396303  \n",
       "Heat Pump Clothes Dryer                                                  51.463739  \n",
       "Induction Cooking                                                         8.511396  \n",
       "baseline                                                                  0.000000  \n",
       "Electric Cooking                                                         11.039570  \n",
       "Mininum Efficiency Whole Home Electrification                            85.262034  \n",
       "Electric Clothes Dryer                                                  -19.280101  "
      ]
     },
     "metadata": {},
     "output_type": "display_data"
    }
   ],
   "source": [
    "metric = 'saving_cbill.total_usd'  # TODO 'pct_saving_cbill.total_%' #'pct_saving_energy.total_%' #'saving_energy.total_mmbtu' #'saving_cbill.total_usd'\n",
    "\n",
    "for segment in sorted(community_results[\"segment\"].dropna().unique()):\n",
    "    print(f\"Summary for segment: {segment}: \")\n",
    "    df_seg = community_results.loc[community_results[\"segment\"]==segment]\n",
    "    results = get_summary(df_seg, metric, lower_percentile=0.10, middle_percentile1=0.25, middle_percentile2=0.75, upper_percentile=0.90)\n",
    "    saving_results[f'{segment}_{income}_saving_bill_total_usd_wt_p0.1'] = results.iloc[:, 3]\n",
    "    saving_results[f'{segment}_{income}_saving_bill_total_usd_wt_p0.25'] = results.iloc[:, 4]\n",
    "    saving_results[f'{segment}_{income}_saving_bill_total_usd_wt_p0.75'] = results.iloc[:, 5]\n",
    "    saving_results[f'{segment}_{income}_saving_bill_total_usd_wt_p0.9'] = results.iloc[:, 6]\n",
    "    display(results)"
   ]
  },
  {
   "cell_type": "markdown",
   "id": "2b599aa4",
   "metadata": {},
   "source": [
    "## 3.1 Upgrade Cost Per Dwelling Unit "
   ]
  },
  {
   "cell_type": "code",
   "execution_count": 37,
   "id": "8aa276ba",
   "metadata": {},
   "outputs": [
    {
     "name": "stdout",
     "output_type": "stream",
     "text": [
      "segment1: upgrade cost (usd) per dwelling unit\n"
     ]
    },
    {
     "data": {
      "text/plain": [
       "upgrade_name\n",
       "Electric Cooking                                                     977.8\n",
       "Electric Clothes Dryer                                              1098.0\n",
       "Induction Cooking                                                   1681.3\n",
       "Heat Pump Clothes Dryer                                             2209.5\n",
       "Heat Pump Water Heater                                              2786.2\n",
       "Basic Enclosure                                                     5946.2\n",
       "Enhanced Enclosure                                                  8143.3\n",
       "Mininum Efficiency Heat Pump with Existing Heat Backup             14267.0\n",
       "Mininum Efficiency Heat Pump with Electric Heat Backup             14488.1\n",
       "Mininum Efficiency Whole Home Electrification                      17387.3\n",
       "High Efficiency Heat Pump with Electric Heat Backup                25586.2\n",
       "Basic Enclosure + HPWH + High Efficiency HP/Electric Backup        30315.5\n",
       "Enhanced Enclosure + HPWH + High Efficiency HP/Electric Backup     31749.5\n",
       "High Efficiency Whole Home Electrification                         32143.9\n",
       "Basic Enclosure + High Efficiency Whole Home Electrification       34087.0\n",
       "Enhanced Enclosure + High Efficiency Whole Home Electrification    35521.1\n",
       "Name: upgrade_cost_usd, dtype: float64"
      ]
     },
     "metadata": {},
     "output_type": "display_data"
    },
    {
     "name": "stdout",
     "output_type": "stream",
     "text": [
      "segment2: upgrade cost (usd) per dwelling unit\n"
     ]
    },
    {
     "data": {
      "text/plain": [
       "upgrade_name\n",
       "Electric Cooking                                                     977.8\n",
       "Electric Clothes Dryer                                              1098.0\n",
       "Induction Cooking                                                   1681.3\n",
       "Mininum Efficiency Whole Home Electrification                       1858.5\n",
       "Heat Pump Clothes Dryer                                             2209.5\n",
       "Heat Pump Water Heater                                              2745.7\n",
       "Basic Enclosure                                                     5885.8\n",
       "Enhanced Enclosure                                                  7798.9\n",
       "Mininum Efficiency Heat Pump with Electric Heat Backup             14844.7\n",
       "Mininum Efficiency Heat Pump with Existing Heat Backup             14844.7\n",
       "High Efficiency Heat Pump with Electric Heat Backup                25993.9\n",
       "Basic Enclosure + HPWH + High Efficiency HP/Electric Backup        30603.3\n",
       "Enhanced Enclosure + HPWH + High Efficiency HP/Electric Backup     31935.0\n",
       "High Efficiency Whole Home Electrification                         32482.1\n",
       "Basic Enclosure + High Efficiency Whole Home Electrification       34393.9\n",
       "Enhanced Enclosure + High Efficiency Whole Home Electrification    35725.6\n",
       "Name: upgrade_cost_usd, dtype: float64"
      ]
     },
     "metadata": {},
     "output_type": "display_data"
    }
   ],
   "source": [
    "results = segment_mean_upgrade_cost(community_results) \n",
    "saving_results[f'segment1_{income}_upgrade_cost_mean_usd'] = results[0]\n",
    "saving_results[f'segment2_{income}_upgrade_cost_mean_usd'] = results[1]"
   ]
  },
  {
   "cell_type": "markdown",
   "id": "0c3d8db5",
   "metadata": {},
   "source": [
    " ## 3.2 Annual Savings Per Dollar Invested"
   ]
  },
  {
   "cell_type": "markdown",
   "id": "6d7106aa",
   "metadata": {},
   "source": [
    "### Annual Bill Savings Per Dollar Invested"
   ]
  },
  {
   "cell_type": "code",
   "execution_count": 38,
   "id": "da9bebdf",
   "metadata": {},
   "outputs": [
    {
     "name": "stdout",
     "output_type": "stream",
     "text": [
      "segment1\n"
     ]
    },
    {
     "data": {
      "text/plain": [
       "upgrade_name\n",
       "Basic Enclosure                                                    0.08263\n",
       "Enhanced Enclosure                                                 0.06934\n",
       "Heat Pump Water Heater                                             0.04950\n",
       "High Efficiency Heat Pump with Electric Heat Backup                0.03155\n",
       "Mininum Efficiency Heat Pump with Electric Heat Backup             0.02150\n",
       "Mininum Efficiency Heat Pump with Existing Heat Backup             0.01450\n",
       "Heat Pump Clothes Dryer                                            0.01435\n",
       "Enhanced Enclosure + HPWH + High Efficiency HP/Electric Backup     0.01084\n",
       "Basic Enclosure + HPWH + High Efficiency HP/Electric Backup        0.01074\n",
       "Enhanced Enclosure + High Efficiency Whole Home Electrification    0.01000\n",
       "Basic Enclosure + High Efficiency Whole Home Electrification       0.00988\n",
       "Electric Cooking                                                   0.00541\n",
       "High Efficiency Whole Home Electrification                         0.00507\n",
       "Induction Cooking                                                  0.00418\n",
       "Electric Clothes Dryer                                            -0.01662\n",
       "Mininum Efficiency Whole Home Electrification                     -0.02180\n",
       "Name: saving_cbill.total_usd, dtype: float64"
      ]
     },
     "metadata": {},
     "output_type": "display_data"
    },
    {
     "name": "stdout",
     "output_type": "stream",
     "text": [
      "segment2\n"
     ]
    },
    {
     "data": {
      "text/plain": [
       "upgrade_name\n",
       "Basic Enclosure                                                    0.10426\n",
       "Enhanced Enclosure                                                 0.08682\n",
       "Basic Enclosure + HPWH + High Efficiency HP/Electric Backup        0.04638\n",
       "Enhanced Enclosure + HPWH + High Efficiency HP/Electric Backup     0.04500\n",
       "Heat Pump Water Heater                                             0.04328\n",
       "Basic Enclosure + High Efficiency Whole Home Electrification       0.04200\n",
       "High Efficiency Heat Pump with Electric Heat Backup                0.04157\n",
       "Enhanced Enclosure + High Efficiency Whole Home Electrification    0.04093\n",
       "High Efficiency Whole Home Electrification                         0.03875\n",
       "Mininum Efficiency Heat Pump with Electric Heat Backup             0.03804\n",
       "Mininum Efficiency Heat Pump with Existing Heat Backup             0.03804\n",
       "Heat Pump Clothes Dryer                                            0.01305\n",
       "Induction Cooking                                                  0.00124\n",
       "Mininum Efficiency Whole Home Electrification                     -0.01005\n",
       "Electric Cooking                                                  -0.01321\n",
       "Electric Clothes Dryer                                            -0.02334\n",
       "Name: saving_cbill.total_usd, dtype: float64"
      ]
     },
     "metadata": {},
     "output_type": "display_data"
    }
   ],
   "source": [
    "indicator ='saving_cbill.total_usd'\n",
    "results = segment_savings_per_dollar(indicator, community_results) \n",
    "saving_results[f'segment1_{income}_saving_bill_per_dollar_invested_usd'] = results[0]\n",
    "saving_results[f'segment2_{income}_saving_bill_per_dollar_invested_usd'] = results[1]"
   ]
  },
  {
   "cell_type": "markdown",
   "id": "60fa915b",
   "metadata": {},
   "source": [
    " ### Annual Energy Savings Per Dollar Invested"
   ]
  },
  {
   "cell_type": "code",
   "execution_count": 39,
   "id": "0edaa5a4",
   "metadata": {},
   "outputs": [
    {
     "name": "stdout",
     "output_type": "stream",
     "text": [
      "segment1\n"
     ]
    },
    {
     "data": {
      "text/plain": [
       "upgrade_name\n",
       "Basic Enclosure                                                    0.00403\n",
       "Enhanced Enclosure                                                 0.00338\n",
       "Heat Pump Water Heater                                             0.00296\n",
       "Mininum Efficiency Whole Home Electrification                      0.00243\n",
       "Mininum Efficiency Heat Pump with Electric Heat Backup             0.00212\n",
       "Basic Enclosure + HPWH + High Efficiency HP/Electric Backup        0.00202\n",
       "Enhanced Enclosure + HPWH + High Efficiency HP/Electric Backup     0.00194\n",
       "Basic Enclosure + High Efficiency Whole Home Electrification       0.00185\n",
       "High Efficiency Whole Home Electrification                         0.00180\n",
       "Enhanced Enclosure + High Efficiency Whole Home Electrification    0.00179\n",
       "High Efficiency Heat Pump with Electric Heat Backup                0.00175\n",
       "Electric Cooking                                                   0.00172\n",
       "Mininum Efficiency Heat Pump with Existing Heat Backup             0.00117\n",
       "Induction Cooking                                                  0.00052\n",
       "Heat Pump Clothes Dryer                                            0.00044\n",
       "Electric Clothes Dryer                                             0.00042\n",
       "Name: saving_energy.total_mmbtu, dtype: float64"
      ]
     },
     "metadata": {},
     "output_type": "display_data"
    },
    {
     "name": "stdout",
     "output_type": "stream",
     "text": [
      "segment2\n"
     ]
    },
    {
     "data": {
      "text/plain": [
       "upgrade_name\n",
       "Mininum Efficiency Whole Home Electrification                      0.00313\n",
       "Basic Enclosure                                                    0.00309\n",
       "Enhanced Enclosure                                                 0.00257\n",
       "Heat Pump Water Heater                                             0.00170\n",
       "Electric Cooking                                                   0.00145\n",
       "Basic Enclosure + HPWH + High Efficiency HP/Electric Backup        0.00141\n",
       "Enhanced Enclosure + HPWH + High Efficiency HP/Electric Backup     0.00137\n",
       "Basic Enclosure + High Efficiency Whole Home Electrification       0.00129\n",
       "Enhanced Enclosure + High Efficiency Whole Home Electrification    0.00125\n",
       "High Efficiency Heat Pump with Electric Heat Backup                0.00123\n",
       "High Efficiency Whole Home Electrification                         0.00120\n",
       "Mininum Efficiency Heat Pump with Electric Heat Backup             0.00115\n",
       "Mininum Efficiency Heat Pump with Existing Heat Backup             0.00115\n",
       "Heat Pump Clothes Dryer                                            0.00040\n",
       "Electric Clothes Dryer                                             0.00033\n",
       "Induction Cooking                                                  0.00022\n",
       "Name: saving_energy.total_mmbtu, dtype: float64"
      ]
     },
     "metadata": {},
     "output_type": "display_data"
    }
   ],
   "source": [
    "indicator = 'saving_energy.total_mmbtu'\n",
    "results = segment_savings_per_dollar(indicator, community_results) \n",
    "saving_results[f'segment1_{income}_saving_energy_per_dollar_invested_mmbtu'] = results[0]\n",
    "saving_results[f'segment2_{income}_saving_energy_per_dollar_invested_mmbtu'] = results[1]"
   ]
  },
  {
   "cell_type": "markdown",
   "id": "e547f174",
   "metadata": {},
   "source": [
    " ### Annual Emission Savings Per Dollar Invested"
   ]
  },
  {
   "cell_type": "code",
   "execution_count": 40,
   "id": "1434b69a",
   "metadata": {},
   "outputs": [
    {
     "name": "stdout",
     "output_type": "stream",
     "text": [
      "segment1\n"
     ]
    },
    {
     "data": {
      "text/plain": [
       "upgrade_name\n",
       "Basic Enclosure                                                    0.26564\n",
       "Enhanced Enclosure                                                 0.22510\n",
       "Heat Pump Water Heater                                             0.19703\n",
       "Mininum Efficiency Whole Home Electrification                      0.13307\n",
       "Basic Enclosure + HPWH + High Efficiency HP/Electric Backup        0.13170\n",
       "Enhanced Enclosure + HPWH + High Efficiency HP/Electric Backup     0.12751\n",
       "Basic Enclosure + High Efficiency Whole Home Electrification       0.12062\n",
       "Enhanced Enclosure + High Efficiency Whole Home Electrification    0.11733\n",
       "High Efficiency Whole Home Electrification                         0.11421\n",
       "High Efficiency Heat Pump with Electric Heat Backup                0.10955\n",
       "Mininum Efficiency Heat Pump with Electric Heat Backup             0.10663\n",
       "Electric Cooking                                                   0.10047\n",
       "Mininum Efficiency Heat Pump with Existing Heat Backup             0.06614\n",
       "Induction Cooking                                                  0.03169\n",
       "Heat Pump Clothes Dryer                                            0.03146\n",
       "Electric Clothes Dryer                                             0.02110\n",
       "Name: saving_emission.total_kgCO2e, dtype: float64"
      ]
     },
     "metadata": {},
     "output_type": "display_data"
    },
    {
     "name": "stdout",
     "output_type": "stream",
     "text": [
      "segment2\n"
     ]
    },
    {
     "data": {
      "text/plain": [
       "upgrade_name\n",
       "Basic Enclosure                                                    0.28833\n",
       "Enhanced Enclosure                                                 0.24162\n",
       "Mininum Efficiency Whole Home Electrification                      0.22435\n",
       "Basic Enclosure + HPWH + High Efficiency HP/Electric Backup        0.12934\n",
       "Enhanced Enclosure + HPWH + High Efficiency HP/Electric Backup     0.12561\n",
       "Heat Pump Water Heater                                             0.12374\n",
       "Basic Enclosure + High Efficiency Whole Home Electrification       0.11761\n",
       "High Efficiency Heat Pump with Electric Heat Backup                0.11678\n",
       "Mininum Efficiency Heat Pump with Electric Heat Backup             0.11552\n",
       "Mininum Efficiency Heat Pump with Existing Heat Backup             0.11552\n",
       "Enhanced Enclosure + High Efficiency Whole Home Electrification    0.11471\n",
       "High Efficiency Whole Home Electrification                         0.10988\n",
       "Electric Cooking                                                   0.09272\n",
       "Heat Pump Clothes Dryer                                            0.02876\n",
       "Induction Cooking                                                  0.01551\n",
       "Electric Clothes Dryer                                             0.01179\n",
       "Name: saving_emission.total_kgCO2e, dtype: float64"
      ]
     },
     "metadata": {},
     "output_type": "display_data"
    }
   ],
   "source": [
    "indicator ='saving_emission.total_kgCO2e'\n",
    "results = segment_savings_per_dollar(indicator, community_results) \n",
    "saving_results[f'segment1_{income}_saving_emission_per_dollar_invested_kgCO2e'] = results[0]\n",
    "saving_results[f'segment2_{income}_saving_emission_per_dollar_invested_kgCO2e'] = results[1]"
   ]
  },
  {
   "cell_type": "markdown",
   "id": "dca98489",
   "metadata": {},
   "source": [
    "## 3.3 Annual Total Savings"
   ]
  },
  {
   "cell_type": "markdown",
   "id": "b549310c",
   "metadata": {},
   "source": [
    "### Annual Total Bill Savings"
   ]
  },
  {
   "cell_type": "code",
   "execution_count": 41,
   "id": "cb08983a",
   "metadata": {},
   "outputs": [
    {
     "data": {
      "text/plain": [
       "array(['whole_community_upgrade_cost_mean_usd',\n",
       "       'whole_community_saving_bill_total_usd',\n",
       "       'whole_community_saving_emission_total_kgCO2e',\n",
       "       'whole_community_saving_energy_total_mmbtu',\n",
       "       'whole_community_saving_electricity_total_kwh',\n",
       "       'whole_community_saving_natural_gas_fuel_oil_propane_total_mmbtu',\n",
       "       'whole_community_saving_bill_mean_usd',\n",
       "       'whole_community_saving_emission_mean_kgCO2e',\n",
       "       'whole_community_saving_energy_mean_mmbtu',\n",
       "       'whole_community_saving_bill_total_usd_wt_p0.1',\n",
       "       'whole_community_saving_bill_total_usd_wt_p0.25',\n",
       "       'whole_community_saving_bill_total_usd_wt_p0.75',\n",
       "       'whole_community_saving_bill_total_usd_wt_p0.9',\n",
       "       'nan_all_incomes_saving_bill_total_usd_wt_p0.1',\n",
       "       'nan_all_incomes_saving_bill_total_usd_wt_p0.25',\n",
       "       'nan_all_incomes_saving_bill_total_usd_wt_p0.75',\n",
       "       'nan_all_incomes_saving_bill_total_usd_wt_p0.9',\n",
       "       'segment1_all_incomes_saving_bill_total_usd_wt_p0.1',\n",
       "       'segment1_all_incomes_saving_bill_total_usd_wt_p0.25',\n",
       "       'segment1_all_incomes_saving_bill_total_usd_wt_p0.75',\n",
       "       'segment1_all_incomes_saving_bill_total_usd_wt_p0.9',\n",
       "       'segment2_all_incomes_saving_bill_total_usd_wt_p0.1',\n",
       "       'segment2_all_incomes_saving_bill_total_usd_wt_p0.25',\n",
       "       'segment2_all_incomes_saving_bill_total_usd_wt_p0.75',\n",
       "       'segment2_all_incomes_saving_bill_total_usd_wt_p0.9',\n",
       "       'segment1_all_incomes_upgrade_cost_mean_usd',\n",
       "       'segment2_all_incomes_upgrade_cost_mean_usd',\n",
       "       'segment1_all_incomes_saving_bill_per_dollar_invested_usd',\n",
       "       'segment2_all_incomes_saving_bill_per_dollar_invested_usd',\n",
       "       'segment1_all_incomes_saving_energy_per_dollar_invested_mmbtu',\n",
       "       'segment2_all_incomes_saving_energy_per_dollar_invested_mmbtu',\n",
       "       'segment1_all_incomes_saving_emission_per_dollar_invested_kgCO2e',\n",
       "       'segment2_all_incomes_saving_emission_per_dollar_invested_kgCO2e',\n",
       "       'segment1_all_incomes_saving_bill_total_usd',\n",
       "       'segment2_all_incomes_saving_bill_total_usd',\n",
       "       'segment1_all_incomes_saving_energy_total_mmbtu',\n",
       "       'segment2_all_incomes_saving_energy_total_mmbtu',\n",
       "       'segment1_all_incomes_saving_emission_total_kgCO2e',\n",
       "       'segment2_all_incomes_saving_emission_total_kgCO2e',\n",
       "       'segment1_all_incomes_saving_bill_mean_usd',\n",
       "       'segment2_all_incomes_saving_bill_mean_usd',\n",
       "       'segment1_all_incomes_saving_energy_mean_mmbtu',\n",
       "       'segment2_all_incomes_saving_energy_mean_mmbtu',\n",
       "       'segment1_all_incomes_pct_saving_energy_mean_%',\n",
       "       'segment2_all_incomes_pct_saving_energy_mean_%',\n",
       "       'segment1_all_incomes_saving_emission_mean_kgCO2e',\n",
       "       'segment2_all_incomes_saving_emission_mean_kgCO2e',\n",
       "       'segment1_all_incomes_pct_bill_positive_savings_%',\n",
       "       'segment1_all_incomes_pct_emission_positive_savings_%',\n",
       "       'segment1_all_incomes_pct_energy_positive_savings_%',\n",
       "       'segment2_all_incomes_pct_bill_positive_savings_%',\n",
       "       'segment2_all_incomes_pct_emission_positive_savings_%',\n",
       "       'segment2_all_incomes_pct_energy_positive_savings_%',\n",
       "       'segment1_all_incomes_energy_burden_before_upgrade_%',\n",
       "       'segment1_all_incomes_energy_burden_after_upgrade_%',\n",
       "       'segment2_all_incomes_energy_burden_before_upgrade_%',\n",
       "       'segment2_all_incomes_energy_burden_after_upgrade_%',\n",
       "       'nan_0-80%AMI_saving_bill_total_usd_wt_p0.1',\n",
       "       'nan_0-80%AMI_saving_bill_total_usd_wt_p0.25',\n",
       "       'nan_0-80%AMI_saving_bill_total_usd_wt_p0.75',\n",
       "       'nan_0-80%AMI_saving_bill_total_usd_wt_p0.9',\n",
       "       'segment1_0-80%AMI_saving_bill_total_usd_wt_p0.1',\n",
       "       'segment1_0-80%AMI_saving_bill_total_usd_wt_p0.25',\n",
       "       'segment1_0-80%AMI_saving_bill_total_usd_wt_p0.75',\n",
       "       'segment1_0-80%AMI_saving_bill_total_usd_wt_p0.9',\n",
       "       'segment2_0-80%AMI_saving_bill_total_usd_wt_p0.1',\n",
       "       'segment2_0-80%AMI_saving_bill_total_usd_wt_p0.25',\n",
       "       'segment2_0-80%AMI_saving_bill_total_usd_wt_p0.75',\n",
       "       'segment2_0-80%AMI_saving_bill_total_usd_wt_p0.9',\n",
       "       'segment1_0-80%AMI_upgrade_cost_mean_usd',\n",
       "       'segment2_0-80%AMI_upgrade_cost_mean_usd',\n",
       "       'segment1_0-80%AMI_saving_bill_per_dollar_invested_usd',\n",
       "       'segment2_0-80%AMI_saving_bill_per_dollar_invested_usd',\n",
       "       'segment1_0-80%AMI_saving_energy_per_dollar_invested_mmbtu',\n",
       "       'segment2_0-80%AMI_saving_energy_per_dollar_invested_mmbtu',\n",
       "       'segment1_0-80%AMI_saving_emission_per_dollar_invested_kgCO2e',\n",
       "       'segment2_0-80%AMI_saving_emission_per_dollar_invested_kgCO2e'],\n",
       "      dtype=object)"
      ]
     },
     "execution_count": 41,
     "metadata": {},
     "output_type": "execute_result"
    }
   ],
   "source": [
    "saving_results.columns.values"
   ]
  },
  {
   "cell_type": "code",
   "execution_count": 42,
   "id": "fdc30441",
   "metadata": {},
   "outputs": [
    {
     "name": "stdout",
     "output_type": "stream",
     "text": [
      "segment1\n"
     ]
    },
    {
     "data": {
      "text/plain": [
       "upgrade_name\n",
       "High Efficiency Heat Pump with Electric Heat Backup                1371670.4\n",
       "Enhanced Enclosure                                                  959400.5\n",
       "Basic Enclosure                                                     834824.8\n",
       "Enhanced Enclosure + High Efficiency Whole Home Electrification     603796.2\n",
       "Enhanced Enclosure + HPWH + High Efficiency HP/Electric Backup      584889.3\n",
       "Basic Enclosure + High Efficiency Whole Home Electrification        572358.0\n",
       "Basic Enclosure + HPWH + High Efficiency HP/Electric Backup         553440.7\n",
       "Mininum Efficiency Heat Pump with Electric Heat Backup              529252.2\n",
       "Mininum Efficiency Heat Pump with Existing Heat Backup              351491.8\n",
       "High Efficiency Whole Home Electrification                          277124.2\n",
       "Heat Pump Water Heater                                              234362.3\n",
       "Heat Pump Clothes Dryer                                              51668.1\n",
       "Induction Cooking                                                    11747.6\n",
       "Electric Cooking                                                      3877.1\n",
       "Electric Clothes Dryer                                               -2718.8\n",
       "Mininum Efficiency Whole Home Electrification                      -644025.2\n",
       "Name: saving_cbill.total_usd, dtype: float64"
      ]
     },
     "metadata": {},
     "output_type": "display_data"
    },
    {
     "name": "stdout",
     "output_type": "stream",
     "text": [
      "segment2\n"
     ]
    },
    {
     "data": {
      "text/plain": [
       "upgrade_name\n",
       "Enhanced Enclosure + High Efficiency Whole Home Electrification    1745819.8\n",
       "Basic Enclosure + High Efficiency Whole Home Electrification       1724644.3\n",
       "Enhanced Enclosure + HPWH + High Efficiency HP/Electric Backup     1715465.3\n",
       "Basic Enclosure + HPWH + High Efficiency HP/Electric Backup        1694311.2\n",
       "High Efficiency Whole Home Electrification                         1502477.3\n",
       "High Efficiency Heat Pump with Electric Heat Backup                1289858.5\n",
       "Enhanced Enclosure                                                  808323.6\n",
       "Basic Enclosure                                                     732580.9\n",
       "Mininum Efficiency Heat Pump with Electric Heat Backup              674129.3\n",
       "Mininum Efficiency Heat Pump with Existing Heat Backup              674126.4\n",
       "Heat Pump Water Heater                                              139382.8\n",
       "Heat Pump Clothes Dryer                                              32857.4\n",
       "Induction Cooking                                                     2479.4\n",
       "Electric Clothes Dryer                                                -892.6\n",
       "Electric Cooking                                                     -2643.2\n",
       "Mininum Efficiency Whole Home Electrification                        -6425.9\n",
       "Name: saving_cbill.total_usd, dtype: float64"
      ]
     },
     "metadata": {},
     "output_type": "display_data"
    }
   ],
   "source": [
    "indicator ='saving_cbill.total_usd'\n",
    "results = segment_annual_total_savings(indicator, community_results)\n",
    "saving_results[f'segment1_{income}_saving_bill_total_usd'] = results[0]\n",
    "saving_results[f'segment2_{income}_saving_bill_total_usd'] = results[1]"
   ]
  },
  {
   "cell_type": "markdown",
   "id": "394241c1",
   "metadata": {},
   "source": [
    "### Annual Total Energy Savings"
   ]
  },
  {
   "cell_type": "code",
   "execution_count": 43,
   "id": "8d5c8c52",
   "metadata": {},
   "outputs": [
    {
     "name": "stdout",
     "output_type": "stream",
     "text": [
      "segment1\n"
     ]
    },
    {
     "data": {
      "text/plain": [
       "upgrade_name\n",
       "Enhanced Enclosure + High Efficiency Whole Home Electrification    107840.3\n",
       "Basic Enclosure + High Efficiency Whole Home Electrification       106931.4\n",
       "Enhanced Enclosure + HPWH + High Efficiency HP/Electric Backup     104783.9\n",
       "Basic Enclosure + HPWH + High Efficiency HP/Electric Backup        103875.1\n",
       "High Efficiency Whole Home Electrification                          98425.2\n",
       "High Efficiency Heat Pump with Electric Heat Backup                 76297.2\n",
       "Mininum Efficiency Whole Home Electrification                       71933.2\n",
       "Mininum Efficiency Heat Pump with Electric Heat Backup              52134.4\n",
       "Enhanced Enclosure                                                  46796.6\n",
       "Basic Enclosure                                                     40688.1\n",
       "Mininum Efficiency Heat Pump with Existing Heat Backup              28469.3\n",
       "Heat Pump Water Heater                                              14001.0\n",
       "Heat Pump Clothes Dryer                                              1601.2\n",
       "Induction Cooking                                                    1455.2\n",
       "Electric Cooking                                                     1233.4\n",
       "Electric Clothes Dryer                                                 69.4\n",
       "Name: saving_energy.total_mmbtu, dtype: float64"
      ]
     },
     "metadata": {},
     "output_type": "display_data"
    },
    {
     "name": "stdout",
     "output_type": "stream",
     "text": [
      "segment2\n"
     ]
    },
    {
     "data": {
      "text/plain": [
       "upgrade_name\n",
       "Enhanced Enclosure + High Efficiency Whole Home Electrification    53502.8\n",
       "Basic Enclosure + High Efficiency Whole Home Electrification       52895.0\n",
       "Enhanced Enclosure + HPWH + High Efficiency HP/Electric Backup     52062.3\n",
       "Basic Enclosure + HPWH + High Efficiency HP/Electric Backup        51454.5\n",
       "High Efficiency Whole Home Electrification                         46478.1\n",
       "High Efficiency Heat Pump with Electric Heat Backup                38125.0\n",
       "Enhanced Enclosure                                                 23952.7\n",
       "Basic Enclosure                                                    21711.3\n",
       "Mininum Efficiency Heat Pump with Electric Heat Backup             20404.0\n",
       "Mininum Efficiency Heat Pump with Existing Heat Backup             20403.9\n",
       "Heat Pump Water Heater                                              5471.7\n",
       "Mininum Efficiency Whole Home Electrification                       2000.4\n",
       "Heat Pump Clothes Dryer                                              996.9\n",
       "Induction Cooking                                                    443.6\n",
       "Electric Cooking                                                     289.6\n",
       "Electric Clothes Dryer                                                12.5\n",
       "Name: saving_energy.total_mmbtu, dtype: float64"
      ]
     },
     "metadata": {},
     "output_type": "display_data"
    }
   ],
   "source": [
    "indicator ='saving_energy.total_mmbtu'\n",
    "results = segment_annual_total_savings(indicator, community_results)\n",
    "saving_results[f'segment1_{income}_saving_energy_total_mmbtu'] = results[0]\n",
    "saving_results[f'segment2_{income}_saving_energy_total_mmbtu'] = results[1]"
   ]
  },
  {
   "cell_type": "markdown",
   "id": "5763f90a",
   "metadata": {},
   "source": [
    "### Annual Total Emission Savings"
   ]
  },
  {
   "cell_type": "code",
   "execution_count": 44,
   "id": "f1023e8a",
   "metadata": {},
   "outputs": [
    {
     "name": "stdout",
     "output_type": "stream",
     "text": [
      "segment1\n"
     ]
    },
    {
     "data": {
      "text/plain": [
       "upgrade_name\n",
       "Enhanced Enclosure + High Efficiency Whole Home Electrification    7081392.8\n",
       "Basic Enclosure + High Efficiency Whole Home Electrification       6986142.6\n",
       "Enhanced Enclosure + HPWH + High Efficiency HP/Electric Backup     6879139.4\n",
       "Basic Enclosure + HPWH + High Efficiency HP/Electric Backup        6783889.2\n",
       "High Efficiency Whole Home Electrification                         6237861.5\n",
       "High Efficiency Heat Pump with Electric Heat Backup                4762953.5\n",
       "Mininum Efficiency Whole Home Electrification                      3931561.7\n",
       "Enhanced Enclosure                                                 3114701.1\n",
       "Basic Enclosure                                                    2683993.3\n",
       "Mininum Efficiency Heat Pump with Electric Heat Backup             2625139.1\n",
       "Mininum Efficiency Heat Pump with Existing Heat Backup             1603328.1\n",
       "Heat Pump Water Heater                                              932770.4\n",
       "Heat Pump Clothes Dryer                                             113266.2\n",
       "Induction Cooking                                                    88987.3\n",
       "Electric Cooking                                                     71951.1\n",
       "Electric Clothes Dryer                                                3451.7\n",
       "Name: saving_emission.total_kgCO2e, dtype: float64"
      ]
     },
     "metadata": {},
     "output_type": "display_data"
    },
    {
     "name": "stdout",
     "output_type": "stream",
     "text": [
      "segment2\n"
     ]
    },
    {
     "data": {
      "text/plain": [
       "upgrade_name\n",
       "Enhanced Enclosure + High Efficiency Whole Home Electrification    4892406.5\n",
       "Basic Enclosure + High Efficiency Whole Home Electrification       4829079.8\n",
       "Enhanced Enclosure + HPWH + High Efficiency HP/Electric Backup     4788849.4\n",
       "Basic Enclosure + HPWH + High Efficiency HP/Electric Backup        4725522.7\n",
       "High Efficiency Whole Home Electrification                         4260853.7\n",
       "High Efficiency Heat Pump with Electric Heat Backup                3623736.3\n",
       "Enhanced Enclosure                                                 2249525.2\n",
       "Mininum Efficiency Heat Pump with Electric Heat Backup             2047279.8\n",
       "Mininum Efficiency Heat Pump with Existing Heat Backup             2047274.2\n",
       "Basic Enclosure                                                    2025927.6\n",
       "Heat Pump Water Heater                                              398502.5\n",
       "Mininum Efficiency Whole Home Electrification                       143441.3\n",
       "Heat Pump Clothes Dryer                                              72425.4\n",
       "Induction Cooking                                                    31131.7\n",
       "Electric Cooking                                                     18557.7\n",
       "Electric Clothes Dryer                                                 450.8\n",
       "Name: saving_emission.total_kgCO2e, dtype: float64"
      ]
     },
     "metadata": {},
     "output_type": "display_data"
    }
   ],
   "source": [
    "indicator ='saving_emission.total_kgCO2e'\n",
    "results = segment_annual_total_savings(indicator, community_results)\n",
    "saving_results[f'segment1_{income}_saving_emission_total_kgCO2e'] = results[0]\n",
    "saving_results[f'segment2_{income}_saving_emission_total_kgCO2e'] = results[1]"
   ]
  },
  {
   "cell_type": "markdown",
   "id": "563da3e8",
   "metadata": {},
   "source": [
    "## 3.4 Annual Savings Per Dwelling Unit"
   ]
  },
  {
   "cell_type": "markdown",
   "id": "cc8ea738",
   "metadata": {},
   "source": [
    "### Annual Bill Savings Per Dwelling Unit"
   ]
  },
  {
   "cell_type": "code",
   "execution_count": 45,
   "id": "82aded52",
   "metadata": {},
   "outputs": [
    {
     "name": "stdout",
     "output_type": "stream",
     "text": [
      "segment1\n"
     ]
    },
    {
     "data": {
      "text/plain": [
       "upgrade_name\n",
       "High Efficiency Heat Pump with Electric Heat Backup                807.2\n",
       "Enhanced Enclosure                                                 564.6\n",
       "Basic Enclosure                                                    491.3\n",
       "Enhanced Enclosure + High Efficiency Whole Home Electrification    355.3\n",
       "Enhanced Enclosure + HPWH + High Efficiency HP/Electric Backup     344.2\n",
       "Basic Enclosure + High Efficiency Whole Home Electrification       336.8\n",
       "Basic Enclosure + HPWH + High Efficiency HP/Electric Backup        325.7\n",
       "Mininum Efficiency Heat Pump with Electric Heat Backup             311.5\n",
       "Mininum Efficiency Heat Pump with Existing Heat Backup             206.9\n",
       "High Efficiency Whole Home Electrification                         163.1\n",
       "Heat Pump Water Heater                                             137.9\n",
       "Heat Pump Clothes Dryer                                             31.7\n",
       "Induction Cooking                                                    7.0\n",
       "Electric Cooking                                                     5.3\n",
       "Electric Clothes Dryer                                             -18.2\n",
       "Mininum Efficiency Whole Home Electrification                     -379.0\n",
       "Name: saving_cbill.total_usd, dtype: float64"
      ]
     },
     "metadata": {},
     "output_type": "display_data"
    },
    {
     "name": "stdout",
     "output_type": "stream",
     "text": [
      "segment2\n"
     ]
    },
    {
     "data": {
      "text/plain": [
       "upgrade_name\n",
       "Enhanced Enclosure + High Efficiency Whole Home Electrification    1462.4\n",
       "Basic Enclosure + High Efficiency Whole Home Electrification       1444.7\n",
       "Enhanced Enclosure + HPWH + High Efficiency HP/Electric Backup     1437.0\n",
       "Basic Enclosure + HPWH + High Efficiency HP/Electric Backup        1419.3\n",
       "High Efficiency Whole Home Electrification                         1258.6\n",
       "High Efficiency Heat Pump with Electric Heat Backup                1080.5\n",
       "Enhanced Enclosure                                                  677.1\n",
       "Basic Enclosure                                                     613.7\n",
       "Mininum Efficiency Heat Pump with Electric Heat Backup              564.7\n",
       "Mininum Efficiency Heat Pump with Existing Heat Backup              564.7\n",
       "Heat Pump Water Heater                                              118.8\n",
       "Heat Pump Clothes Dryer                                              28.8\n",
       "Induction Cooking                                                     2.1\n",
       "Electric Cooking                                                    -12.9\n",
       "Mininum Efficiency Whole Home Electrification                       -18.7\n",
       "Electric Clothes Dryer                                              -25.6\n",
       "Name: saving_cbill.total_usd, dtype: float64"
      ]
     },
     "metadata": {},
     "output_type": "display_data"
    }
   ],
   "source": [
    "indicator ='saving_cbill.total_usd'\n",
    "results = segment_mean_savings(indicator, community_results)\n",
    "saving_results[f'segment1_{income}_saving_bill_mean_usd'] = results[0]\n",
    "saving_results[f'segment2_{income}_saving_bill_mean_usd'] = results[1]"
   ]
  },
  {
   "cell_type": "markdown",
   "id": "7b3bbdc3",
   "metadata": {},
   "source": [
    "### Annual Energy Savings Per Dwelling Unit"
   ]
  },
  {
   "cell_type": "code",
   "execution_count": 46,
   "id": "d554f5e1",
   "metadata": {},
   "outputs": [
    {
     "name": "stdout",
     "output_type": "stream",
     "text": [
      "segment1\n"
     ]
    },
    {
     "data": {
      "text/plain": [
       "upgrade_name\n",
       "Enhanced Enclosure + High Efficiency Whole Home Electrification    63.5\n",
       "Basic Enclosure + High Efficiency Whole Home Electrification       62.9\n",
       "Enhanced Enclosure + HPWH + High Efficiency HP/Electric Backup     61.7\n",
       "Basic Enclosure + HPWH + High Efficiency HP/Electric Backup        61.1\n",
       "High Efficiency Whole Home Electrification                         57.9\n",
       "High Efficiency Heat Pump with Electric Heat Backup                44.9\n",
       "Mininum Efficiency Whole Home Electrification                      42.3\n",
       "Mininum Efficiency Heat Pump with Electric Heat Backup             30.7\n",
       "Enhanced Enclosure                                                 27.5\n",
       "Basic Enclosure                                                    23.9\n",
       "Mininum Efficiency Heat Pump with Existing Heat Backup             16.8\n",
       "Heat Pump Water Heater                                              8.2\n",
       "Electric Cooking                                                    1.7\n",
       "Heat Pump Clothes Dryer                                             1.0\n",
       "Induction Cooking                                                   0.9\n",
       "Electric Clothes Dryer                                              0.5\n",
       "Name: saving_energy.total_mmbtu, dtype: float64"
      ]
     },
     "metadata": {},
     "output_type": "display_data"
    },
    {
     "name": "stdout",
     "output_type": "stream",
     "text": [
      "segment2\n"
     ]
    },
    {
     "data": {
      "text/plain": [
       "upgrade_name\n",
       "Enhanced Enclosure + High Efficiency Whole Home Electrification    44.8\n",
       "Basic Enclosure + High Efficiency Whole Home Electrification       44.3\n",
       "Enhanced Enclosure + HPWH + High Efficiency HP/Electric Backup     43.6\n",
       "Basic Enclosure + HPWH + High Efficiency HP/Electric Backup        43.1\n",
       "High Efficiency Whole Home Electrification                         38.9\n",
       "High Efficiency Heat Pump with Electric Heat Backup                31.9\n",
       "Enhanced Enclosure                                                 20.1\n",
       "Basic Enclosure                                                    18.2\n",
       "Mininum Efficiency Heat Pump with Electric Heat Backup             17.1\n",
       "Mininum Efficiency Heat Pump with Existing Heat Backup             17.1\n",
       "Mininum Efficiency Whole Home Electrification                       5.8\n",
       "Heat Pump Water Heater                                              4.7\n",
       "Electric Cooking                                                    1.4\n",
       "Heat Pump Clothes Dryer                                             0.9\n",
       "Induction Cooking                                                   0.4\n",
       "Electric Clothes Dryer                                              0.4\n",
       "Name: saving_energy.total_mmbtu, dtype: float64"
      ]
     },
     "metadata": {},
     "output_type": "display_data"
    }
   ],
   "source": [
    "indicator ='saving_energy.total_mmbtu'\n",
    "results = segment_mean_savings(indicator, community_results) \n",
    "saving_results[f'segment1_{income}_saving_energy_mean_mmbtu'] = results[0]\n",
    "saving_results[f'segment2_{income}_saving_energy_mean_mmbtu'] = results[1]"
   ]
  },
  {
   "cell_type": "markdown",
   "id": "1df2744e",
   "metadata": {},
   "source": [
    "### Annual Percentage Energy Savings Per Dwelling Unit"
   ]
  },
  {
   "cell_type": "code",
   "execution_count": 47,
   "id": "75fce0ec",
   "metadata": {},
   "outputs": [
    {
     "name": "stdout",
     "output_type": "stream",
     "text": [
      "segment1\n"
     ]
    },
    {
     "data": {
      "text/plain": [
       "upgrade_name\n",
       "Enhanced Enclosure + High Efficiency Whole Home Electrification    63.5\n",
       "Basic Enclosure + High Efficiency Whole Home Electrification       63.0\n",
       "Enhanced Enclosure + HPWH + High Efficiency HP/Electric Backup     61.5\n",
       "Basic Enclosure + HPWH + High Efficiency HP/Electric Backup        61.0\n",
       "High Efficiency Whole Home Electrification                         58.0\n",
       "High Efficiency Heat Pump with Electric Heat Backup                44.0\n",
       "Mininum Efficiency Whole Home Electrification                      41.8\n",
       "Mininum Efficiency Heat Pump with Electric Heat Backup             29.5\n",
       "Enhanced Enclosure                                                 26.8\n",
       "Basic Enclosure                                                    23.4\n",
       "Mininum Efficiency Heat Pump with Existing Heat Backup             15.2\n",
       "Heat Pump Water Heater                                              8.8\n",
       "Electric Cooking                                                    1.9\n",
       "Heat Pump Clothes Dryer                                             1.1\n",
       "Induction Cooking                                                   1.0\n",
       "Electric Clothes Dryer                                              0.6\n",
       "Name: pct_saving_energy.total_%, dtype: float64"
      ]
     },
     "metadata": {},
     "output_type": "display_data"
    },
    {
     "name": "stdout",
     "output_type": "stream",
     "text": [
      "segment2\n"
     ]
    },
    {
     "data": {
      "text/plain": [
       "upgrade_name\n",
       "Enhanced Enclosure + High Efficiency Whole Home Electrification    55.1\n",
       "Basic Enclosure + High Efficiency Whole Home Electrification       54.4\n",
       "Enhanced Enclosure + HPWH + High Efficiency HP/Electric Backup     53.4\n",
       "Basic Enclosure + HPWH + High Efficiency HP/Electric Backup        52.7\n",
       "High Efficiency Whole Home Electrification                         47.9\n",
       "High Efficiency Heat Pump with Electric Heat Backup                38.9\n",
       "Enhanced Enclosure                                                 23.8\n",
       "Basic Enclosure                                                    21.4\n",
       "Mininum Efficiency Heat Pump with Electric Heat Backup             20.1\n",
       "Mininum Efficiency Heat Pump with Existing Heat Backup             20.1\n",
       "Mininum Efficiency Whole Home Electrification                       7.3\n",
       "Heat Pump Water Heater                                              5.9\n",
       "Electric Cooking                                                    2.1\n",
       "Heat Pump Clothes Dryer                                             1.2\n",
       "Electric Clothes Dryer                                              0.6\n",
       "Induction Cooking                                                   0.5\n",
       "Name: pct_saving_energy.total_%, dtype: float64"
      ]
     },
     "metadata": {},
     "output_type": "display_data"
    }
   ],
   "source": [
    "indicator ='pct_saving_energy.total_%'\n",
    "results = segment_mean_savings(indicator, community_results)\n",
    "saving_results[f'segment1_{income}_pct_saving_energy_mean_%'] = results[0]\n",
    "saving_results[f'segment2_{income}_pct_saving_energy_mean_%'] = results[1]"
   ]
  },
  {
   "cell_type": "markdown",
   "id": "d2b75959",
   "metadata": {},
   "source": [
    "### Annual Emission Savings Per Dwelling Unit"
   ]
  },
  {
   "cell_type": "code",
   "execution_count": 48,
   "id": "564427ed",
   "metadata": {},
   "outputs": [
    {
     "name": "stdout",
     "output_type": "stream",
     "text": [
      "segment1\n"
     ]
    },
    {
     "data": {
      "text/plain": [
       "upgrade_name\n",
       "Enhanced Enclosure + High Efficiency Whole Home Electrification    4167.5\n",
       "Basic Enclosure + High Efficiency Whole Home Electrification       4111.5\n",
       "Enhanced Enclosure + HPWH + High Efficiency HP/Electric Backup     4048.5\n",
       "Basic Enclosure + HPWH + High Efficiency HP/Electric Backup        3992.4\n",
       "High Efficiency Whole Home Electrification                         3671.1\n",
       "High Efficiency Heat Pump with Electric Heat Backup                2803.1\n",
       "Mininum Efficiency Whole Home Electrification                      2313.8\n",
       "Enhanced Enclosure                                                 1833.0\n",
       "Basic Enclosure                                                    1579.6\n",
       "Mininum Efficiency Heat Pump with Electric Heat Backup             1544.9\n",
       "Mininum Efficiency Heat Pump with Existing Heat Backup              943.6\n",
       "Heat Pump Water Heater                                              548.9\n",
       "Electric Cooking                                                     98.2\n",
       "Heat Pump Clothes Dryer                                              69.5\n",
       "Induction Cooking                                                    53.3\n",
       "Electric Clothes Dryer                                               23.2\n",
       "Name: saving_emission.total_kgCO2e, dtype: float64"
      ]
     },
     "metadata": {},
     "output_type": "display_data"
    },
    {
     "name": "stdout",
     "output_type": "stream",
     "text": [
      "segment2\n"
     ]
    },
    {
     "data": {
      "text/plain": [
       "upgrade_name\n",
       "Enhanced Enclosure + High Efficiency Whole Home Electrification    4098.2\n",
       "Basic Enclosure + High Efficiency Whole Home Electrification       4045.1\n",
       "Enhanced Enclosure + HPWH + High Efficiency HP/Electric Backup     4011.4\n",
       "Basic Enclosure + HPWH + High Efficiency HP/Electric Backup        3958.4\n",
       "High Efficiency Whole Home Electrification                         3569.1\n",
       "High Efficiency Heat Pump with Electric Heat Backup                3035.4\n",
       "Enhanced Enclosure                                                 1884.3\n",
       "Mininum Efficiency Heat Pump with Electric Heat Backup             1714.9\n",
       "Mininum Efficiency Heat Pump with Existing Heat Backup             1714.9\n",
       "Basic Enclosure                                                    1697.0\n",
       "Mininum Efficiency Whole Home Electrification                       417.0\n",
       "Heat Pump Water Heater                                              339.8\n",
       "Electric Cooking                                                     90.7\n",
       "Heat Pump Clothes Dryer                                              63.6\n",
       "Induction Cooking                                                    26.1\n",
       "Electric Clothes Dryer                                               12.9\n",
       "Name: saving_emission.total_kgCO2e, dtype: float64"
      ]
     },
     "metadata": {},
     "output_type": "display_data"
    }
   ],
   "source": [
    "indicator ='saving_emission.total_kgCO2e'\n",
    "results = segment_mean_savings(indicator, community_results)\n",
    "saving_results[f'segment1_{income}_saving_emission_mean_kgCO2e'] = results[0]\n",
    "saving_results[f'segment2_{income}_saving_emission_mean_kgCO2e'] = results[1]"
   ]
  },
  {
   "cell_type": "markdown",
   "id": "1a6cb1c1",
   "metadata": {},
   "source": [
    "## 3.5. Pecent Stock with Positive and Negtive Savings"
   ]
  },
  {
   "cell_type": "markdown",
   "id": "ad9fca17",
   "metadata": {},
   "source": [
    "### Segment 1"
   ]
  },
  {
   "cell_type": "code",
   "execution_count": 49,
   "id": "a4c6dfcc",
   "metadata": {},
   "outputs": [
    {
     "data": {
      "application/vnd.plotly.v1+json": {
       "config": {
        "plotlyServerURL": "https://plot.ly"
       },
       "data": [
        {
         "marker": {
          "color": "red"
         },
         "name": "Negative",
         "orientation": "h",
         "text": [
          1,
          0.8432835820895522,
          0.2462686567164179,
          0.11194029850746269,
          0.1044776119402985,
          0.1044776119402985,
          0.09701492537313433,
          0.08955223880597014,
          0.08208955223880597,
          0.007462686567164179,
          0.007462686567164179,
          0,
          0,
          0,
          0,
          0
         ],
         "textposition": "inside",
         "texttemplate": "%{text:.0%}",
         "type": "bar",
         "x": [
          1,
          0.8432835820895522,
          0.2462686567164179,
          0.11194029850746269,
          0.1044776119402985,
          0.1044776119402985,
          0.09701492537313433,
          0.08955223880597014,
          0.08208955223880597,
          0.007462686567164179,
          0.007462686567164179,
          0,
          0,
          0,
          0,
          0
         ],
         "xaxis": "x",
         "y": [
          "Electric Clothes Dryer",
          "Mininum Efficiency Whole Home Electrification",
          "High Efficiency Whole Home Electrification",
          "Basic Enclosure + HPWH + High Efficiency HP/Electric Backup",
          "Basic Enclosure + High Efficiency Whole Home Electrification",
          "Enhanced Enclosure + HPWH + High Efficiency HP/Electric Backup",
          "Enhanced Enclosure + High Efficiency Whole Home Electrification",
          "Mininum Efficiency Heat Pump with Electric Heat Backup",
          "Mininum Efficiency Heat Pump with Existing Heat Backup",
          "Heat Pump Water Heater",
          "High Efficiency Heat Pump with Electric Heat Backup",
          "Basic Enclosure",
          "Electric Cooking",
          "Enhanced Enclosure",
          "Heat Pump Clothes Dryer",
          "Induction Cooking"
         ],
         "yaxis": "y"
        },
        {
         "marker": {
          "color": "green"
         },
         "name": "Positive",
         "orientation": "h",
         "text": [
          0,
          0.15671641791044777,
          0.753731343283582,
          0.8880597014925373,
          0.8955223880597015,
          0.8955223880597015,
          0.9029850746268657,
          0.9104477611940298,
          0.917910447761194,
          0.9925373134328358,
          0.9925373134328358,
          1,
          1,
          1,
          1,
          1
         ],
         "textposition": "inside",
         "texttemplate": "%{text:.0%}",
         "type": "bar",
         "x": [
          0,
          0.15671641791044777,
          0.753731343283582,
          0.8880597014925373,
          0.8955223880597015,
          0.8955223880597015,
          0.9029850746268657,
          0.9104477611940298,
          0.917910447761194,
          0.9925373134328358,
          0.9925373134328358,
          1,
          1,
          1,
          1,
          1
         ],
         "xaxis": "x",
         "y": [
          "Electric Clothes Dryer",
          "Mininum Efficiency Whole Home Electrification",
          "High Efficiency Whole Home Electrification",
          "Basic Enclosure + HPWH + High Efficiency HP/Electric Backup",
          "Basic Enclosure + High Efficiency Whole Home Electrification",
          "Enhanced Enclosure + HPWH + High Efficiency HP/Electric Backup",
          "Enhanced Enclosure + High Efficiency Whole Home Electrification",
          "Mininum Efficiency Heat Pump with Electric Heat Backup",
          "Mininum Efficiency Heat Pump with Existing Heat Backup",
          "Heat Pump Water Heater",
          "High Efficiency Heat Pump with Electric Heat Backup",
          "Basic Enclosure",
          "Electric Cooking",
          "Enhanced Enclosure",
          "Heat Pump Clothes Dryer",
          "Induction Cooking"
         ],
         "yaxis": "y"
        },
        {
         "marker": {
          "color": "red"
         },
         "orientation": "h",
         "showlegend": false,
         "text": [
          0,
          0,
          0,
          0,
          0,
          0,
          0,
          0.029850746268656716,
          0.07462686567164178,
          0,
          0,
          0,
          0,
          0,
          0,
          0
         ],
         "textposition": "inside",
         "texttemplate": "%{text:.0%}",
         "type": "bar",
         "x": [
          0,
          0,
          0,
          0,
          0,
          0,
          0,
          0.029850746268656716,
          0.07462686567164178,
          0,
          0,
          0,
          0,
          0,
          0,
          0
         ],
         "xaxis": "x2",
         "y": [
          "Electric Clothes Dryer",
          "Mininum Efficiency Whole Home Electrification",
          "High Efficiency Whole Home Electrification",
          "Basic Enclosure + HPWH + High Efficiency HP/Electric Backup",
          "Basic Enclosure + High Efficiency Whole Home Electrification",
          "Enhanced Enclosure + HPWH + High Efficiency HP/Electric Backup",
          "Enhanced Enclosure + High Efficiency Whole Home Electrification",
          "Mininum Efficiency Heat Pump with Electric Heat Backup",
          "Mininum Efficiency Heat Pump with Existing Heat Backup",
          "Heat Pump Water Heater",
          "High Efficiency Heat Pump with Electric Heat Backup",
          "Basic Enclosure",
          "Electric Cooking",
          "Enhanced Enclosure",
          "Heat Pump Clothes Dryer",
          "Induction Cooking"
         ],
         "yaxis": "y2"
        },
        {
         "marker": {
          "color": "green"
         },
         "orientation": "h",
         "showlegend": false,
         "text": [
          1,
          1,
          1,
          1,
          1,
          1,
          1,
          0.9701492537313433,
          0.9253731343283582,
          1,
          1,
          1,
          1,
          1,
          1,
          1
         ],
         "textposition": "inside",
         "texttemplate": "%{text:.0%}",
         "type": "bar",
         "x": [
          1,
          1,
          1,
          1,
          1,
          1,
          1,
          0.9701492537313433,
          0.9253731343283582,
          1,
          1,
          1,
          1,
          1,
          1,
          1
         ],
         "xaxis": "x2",
         "y": [
          "Electric Clothes Dryer",
          "Mininum Efficiency Whole Home Electrification",
          "High Efficiency Whole Home Electrification",
          "Basic Enclosure + HPWH + High Efficiency HP/Electric Backup",
          "Basic Enclosure + High Efficiency Whole Home Electrification",
          "Enhanced Enclosure + HPWH + High Efficiency HP/Electric Backup",
          "Enhanced Enclosure + High Efficiency Whole Home Electrification",
          "Mininum Efficiency Heat Pump with Electric Heat Backup",
          "Mininum Efficiency Heat Pump with Existing Heat Backup",
          "Heat Pump Water Heater",
          "High Efficiency Heat Pump with Electric Heat Backup",
          "Basic Enclosure",
          "Electric Cooking",
          "Enhanced Enclosure",
          "Heat Pump Clothes Dryer",
          "Induction Cooking"
         ],
         "yaxis": "y2"
        },
        {
         "marker": {
          "color": "red"
         },
         "orientation": "h",
         "showlegend": false,
         "text": [
          0,
          0,
          0,
          0,
          0,
          0,
          0,
          0,
          0.05970149253731343,
          0,
          0,
          0,
          0,
          0,
          0,
          0
         ],
         "textposition": "inside",
         "texttemplate": "%{text:.0%}",
         "type": "bar",
         "x": [
          0,
          0,
          0,
          0,
          0,
          0,
          0,
          0,
          0.05970149253731343,
          0,
          0,
          0,
          0,
          0,
          0,
          0
         ],
         "xaxis": "x3",
         "y": [
          "Electric Clothes Dryer",
          "Mininum Efficiency Whole Home Electrification",
          "High Efficiency Whole Home Electrification",
          "Basic Enclosure + HPWH + High Efficiency HP/Electric Backup",
          "Basic Enclosure + High Efficiency Whole Home Electrification",
          "Enhanced Enclosure + HPWH + High Efficiency HP/Electric Backup",
          "Enhanced Enclosure + High Efficiency Whole Home Electrification",
          "Mininum Efficiency Heat Pump with Electric Heat Backup",
          "Mininum Efficiency Heat Pump with Existing Heat Backup",
          "Heat Pump Water Heater",
          "High Efficiency Heat Pump with Electric Heat Backup",
          "Basic Enclosure",
          "Electric Cooking",
          "Enhanced Enclosure",
          "Heat Pump Clothes Dryer",
          "Induction Cooking"
         ],
         "yaxis": "y3"
        },
        {
         "marker": {
          "color": "green"
         },
         "orientation": "h",
         "showlegend": false,
         "text": [
          1,
          1,
          1,
          1,
          1,
          1,
          1,
          1,
          0.9402985074626866,
          1,
          1,
          1,
          1,
          1,
          1,
          1
         ],
         "textposition": "inside",
         "texttemplate": "%{text:.0%}",
         "type": "bar",
         "x": [
          1,
          1,
          1,
          1,
          1,
          1,
          1,
          1,
          0.9402985074626866,
          1,
          1,
          1,
          1,
          1,
          1,
          1
         ],
         "xaxis": "x3",
         "y": [
          "Electric Clothes Dryer",
          "Mininum Efficiency Whole Home Electrification",
          "High Efficiency Whole Home Electrification",
          "Basic Enclosure + HPWH + High Efficiency HP/Electric Backup",
          "Basic Enclosure + High Efficiency Whole Home Electrification",
          "Enhanced Enclosure + HPWH + High Efficiency HP/Electric Backup",
          "Enhanced Enclosure + High Efficiency Whole Home Electrification",
          "Mininum Efficiency Heat Pump with Electric Heat Backup",
          "Mininum Efficiency Heat Pump with Existing Heat Backup",
          "Heat Pump Water Heater",
          "High Efficiency Heat Pump with Electric Heat Backup",
          "Basic Enclosure",
          "Electric Cooking",
          "Enhanced Enclosure",
          "Heat Pump Clothes Dryer",
          "Induction Cooking"
         ],
         "yaxis": "y3"
        }
       ],
       "layout": {
        "autosize": false,
        "barmode": "relative",
        "font": {
         "size": 10
        },
        "height": 500,
        "template": {
         "data": {
          "bar": [
           {
            "error_x": {
             "color": "#2a3f5f"
            },
            "error_y": {
             "color": "#2a3f5f"
            },
            "marker": {
             "line": {
              "color": "#E5ECF6",
              "width": 0.5
             },
             "pattern": {
              "fillmode": "overlay",
              "size": 10,
              "solidity": 0.2
             }
            },
            "type": "bar"
           }
          ],
          "barpolar": [
           {
            "marker": {
             "line": {
              "color": "#E5ECF6",
              "width": 0.5
             },
             "pattern": {
              "fillmode": "overlay",
              "size": 10,
              "solidity": 0.2
             }
            },
            "type": "barpolar"
           }
          ],
          "carpet": [
           {
            "aaxis": {
             "endlinecolor": "#2a3f5f",
             "gridcolor": "white",
             "linecolor": "white",
             "minorgridcolor": "white",
             "startlinecolor": "#2a3f5f"
            },
            "baxis": {
             "endlinecolor": "#2a3f5f",
             "gridcolor": "white",
             "linecolor": "white",
             "minorgridcolor": "white",
             "startlinecolor": "#2a3f5f"
            },
            "type": "carpet"
           }
          ],
          "choropleth": [
           {
            "colorbar": {
             "outlinewidth": 0,
             "ticks": ""
            },
            "type": "choropleth"
           }
          ],
          "contour": [
           {
            "colorbar": {
             "outlinewidth": 0,
             "ticks": ""
            },
            "colorscale": [
             [
              0,
              "#0d0887"
             ],
             [
              0.1111111111111111,
              "#46039f"
             ],
             [
              0.2222222222222222,
              "#7201a8"
             ],
             [
              0.3333333333333333,
              "#9c179e"
             ],
             [
              0.4444444444444444,
              "#bd3786"
             ],
             [
              0.5555555555555556,
              "#d8576b"
             ],
             [
              0.6666666666666666,
              "#ed7953"
             ],
             [
              0.7777777777777778,
              "#fb9f3a"
             ],
             [
              0.8888888888888888,
              "#fdca26"
             ],
             [
              1,
              "#f0f921"
             ]
            ],
            "type": "contour"
           }
          ],
          "contourcarpet": [
           {
            "colorbar": {
             "outlinewidth": 0,
             "ticks": ""
            },
            "type": "contourcarpet"
           }
          ],
          "heatmap": [
           {
            "colorbar": {
             "outlinewidth": 0,
             "ticks": ""
            },
            "colorscale": [
             [
              0,
              "#0d0887"
             ],
             [
              0.1111111111111111,
              "#46039f"
             ],
             [
              0.2222222222222222,
              "#7201a8"
             ],
             [
              0.3333333333333333,
              "#9c179e"
             ],
             [
              0.4444444444444444,
              "#bd3786"
             ],
             [
              0.5555555555555556,
              "#d8576b"
             ],
             [
              0.6666666666666666,
              "#ed7953"
             ],
             [
              0.7777777777777778,
              "#fb9f3a"
             ],
             [
              0.8888888888888888,
              "#fdca26"
             ],
             [
              1,
              "#f0f921"
             ]
            ],
            "type": "heatmap"
           }
          ],
          "heatmapgl": [
           {
            "colorbar": {
             "outlinewidth": 0,
             "ticks": ""
            },
            "colorscale": [
             [
              0,
              "#0d0887"
             ],
             [
              0.1111111111111111,
              "#46039f"
             ],
             [
              0.2222222222222222,
              "#7201a8"
             ],
             [
              0.3333333333333333,
              "#9c179e"
             ],
             [
              0.4444444444444444,
              "#bd3786"
             ],
             [
              0.5555555555555556,
              "#d8576b"
             ],
             [
              0.6666666666666666,
              "#ed7953"
             ],
             [
              0.7777777777777778,
              "#fb9f3a"
             ],
             [
              0.8888888888888888,
              "#fdca26"
             ],
             [
              1,
              "#f0f921"
             ]
            ],
            "type": "heatmapgl"
           }
          ],
          "histogram": [
           {
            "marker": {
             "pattern": {
              "fillmode": "overlay",
              "size": 10,
              "solidity": 0.2
             }
            },
            "type": "histogram"
           }
          ],
          "histogram2d": [
           {
            "colorbar": {
             "outlinewidth": 0,
             "ticks": ""
            },
            "colorscale": [
             [
              0,
              "#0d0887"
             ],
             [
              0.1111111111111111,
              "#46039f"
             ],
             [
              0.2222222222222222,
              "#7201a8"
             ],
             [
              0.3333333333333333,
              "#9c179e"
             ],
             [
              0.4444444444444444,
              "#bd3786"
             ],
             [
              0.5555555555555556,
              "#d8576b"
             ],
             [
              0.6666666666666666,
              "#ed7953"
             ],
             [
              0.7777777777777778,
              "#fb9f3a"
             ],
             [
              0.8888888888888888,
              "#fdca26"
             ],
             [
              1,
              "#f0f921"
             ]
            ],
            "type": "histogram2d"
           }
          ],
          "histogram2dcontour": [
           {
            "colorbar": {
             "outlinewidth": 0,
             "ticks": ""
            },
            "colorscale": [
             [
              0,
              "#0d0887"
             ],
             [
              0.1111111111111111,
              "#46039f"
             ],
             [
              0.2222222222222222,
              "#7201a8"
             ],
             [
              0.3333333333333333,
              "#9c179e"
             ],
             [
              0.4444444444444444,
              "#bd3786"
             ],
             [
              0.5555555555555556,
              "#d8576b"
             ],
             [
              0.6666666666666666,
              "#ed7953"
             ],
             [
              0.7777777777777778,
              "#fb9f3a"
             ],
             [
              0.8888888888888888,
              "#fdca26"
             ],
             [
              1,
              "#f0f921"
             ]
            ],
            "type": "histogram2dcontour"
           }
          ],
          "mesh3d": [
           {
            "colorbar": {
             "outlinewidth": 0,
             "ticks": ""
            },
            "type": "mesh3d"
           }
          ],
          "parcoords": [
           {
            "line": {
             "colorbar": {
              "outlinewidth": 0,
              "ticks": ""
             }
            },
            "type": "parcoords"
           }
          ],
          "pie": [
           {
            "automargin": true,
            "type": "pie"
           }
          ],
          "scatter": [
           {
            "fillpattern": {
             "fillmode": "overlay",
             "size": 10,
             "solidity": 0.2
            },
            "type": "scatter"
           }
          ],
          "scatter3d": [
           {
            "line": {
             "colorbar": {
              "outlinewidth": 0,
              "ticks": ""
             }
            },
            "marker": {
             "colorbar": {
              "outlinewidth": 0,
              "ticks": ""
             }
            },
            "type": "scatter3d"
           }
          ],
          "scattercarpet": [
           {
            "marker": {
             "colorbar": {
              "outlinewidth": 0,
              "ticks": ""
             }
            },
            "type": "scattercarpet"
           }
          ],
          "scattergeo": [
           {
            "marker": {
             "colorbar": {
              "outlinewidth": 0,
              "ticks": ""
             }
            },
            "type": "scattergeo"
           }
          ],
          "scattergl": [
           {
            "marker": {
             "colorbar": {
              "outlinewidth": 0,
              "ticks": ""
             }
            },
            "type": "scattergl"
           }
          ],
          "scattermapbox": [
           {
            "marker": {
             "colorbar": {
              "outlinewidth": 0,
              "ticks": ""
             }
            },
            "type": "scattermapbox"
           }
          ],
          "scatterpolar": [
           {
            "marker": {
             "colorbar": {
              "outlinewidth": 0,
              "ticks": ""
             }
            },
            "type": "scatterpolar"
           }
          ],
          "scatterpolargl": [
           {
            "marker": {
             "colorbar": {
              "outlinewidth": 0,
              "ticks": ""
             }
            },
            "type": "scatterpolargl"
           }
          ],
          "scatterternary": [
           {
            "marker": {
             "colorbar": {
              "outlinewidth": 0,
              "ticks": ""
             }
            },
            "type": "scatterternary"
           }
          ],
          "surface": [
           {
            "colorbar": {
             "outlinewidth": 0,
             "ticks": ""
            },
            "colorscale": [
             [
              0,
              "#0d0887"
             ],
             [
              0.1111111111111111,
              "#46039f"
             ],
             [
              0.2222222222222222,
              "#7201a8"
             ],
             [
              0.3333333333333333,
              "#9c179e"
             ],
             [
              0.4444444444444444,
              "#bd3786"
             ],
             [
              0.5555555555555556,
              "#d8576b"
             ],
             [
              0.6666666666666666,
              "#ed7953"
             ],
             [
              0.7777777777777778,
              "#fb9f3a"
             ],
             [
              0.8888888888888888,
              "#fdca26"
             ],
             [
              1,
              "#f0f921"
             ]
            ],
            "type": "surface"
           }
          ],
          "table": [
           {
            "cells": {
             "fill": {
              "color": "#EBF0F8"
             },
             "line": {
              "color": "white"
             }
            },
            "header": {
             "fill": {
              "color": "#C8D4E3"
             },
             "line": {
              "color": "white"
             }
            },
            "type": "table"
           }
          ]
         },
         "layout": {
          "annotationdefaults": {
           "arrowcolor": "#2a3f5f",
           "arrowhead": 0,
           "arrowwidth": 1
          },
          "autotypenumbers": "strict",
          "coloraxis": {
           "colorbar": {
            "outlinewidth": 0,
            "ticks": ""
           }
          },
          "colorscale": {
           "diverging": [
            [
             0,
             "#8e0152"
            ],
            [
             0.1,
             "#c51b7d"
            ],
            [
             0.2,
             "#de77ae"
            ],
            [
             0.3,
             "#f1b6da"
            ],
            [
             0.4,
             "#fde0ef"
            ],
            [
             0.5,
             "#f7f7f7"
            ],
            [
             0.6,
             "#e6f5d0"
            ],
            [
             0.7,
             "#b8e186"
            ],
            [
             0.8,
             "#7fbc41"
            ],
            [
             0.9,
             "#4d9221"
            ],
            [
             1,
             "#276419"
            ]
           ],
           "sequential": [
            [
             0,
             "#0d0887"
            ],
            [
             0.1111111111111111,
             "#46039f"
            ],
            [
             0.2222222222222222,
             "#7201a8"
            ],
            [
             0.3333333333333333,
             "#9c179e"
            ],
            [
             0.4444444444444444,
             "#bd3786"
            ],
            [
             0.5555555555555556,
             "#d8576b"
            ],
            [
             0.6666666666666666,
             "#ed7953"
            ],
            [
             0.7777777777777778,
             "#fb9f3a"
            ],
            [
             0.8888888888888888,
             "#fdca26"
            ],
            [
             1,
             "#f0f921"
            ]
           ],
           "sequentialminus": [
            [
             0,
             "#0d0887"
            ],
            [
             0.1111111111111111,
             "#46039f"
            ],
            [
             0.2222222222222222,
             "#7201a8"
            ],
            [
             0.3333333333333333,
             "#9c179e"
            ],
            [
             0.4444444444444444,
             "#bd3786"
            ],
            [
             0.5555555555555556,
             "#d8576b"
            ],
            [
             0.6666666666666666,
             "#ed7953"
            ],
            [
             0.7777777777777778,
             "#fb9f3a"
            ],
            [
             0.8888888888888888,
             "#fdca26"
            ],
            [
             1,
             "#f0f921"
            ]
           ]
          },
          "colorway": [
           "#636efa",
           "#EF553B",
           "#00cc96",
           "#ab63fa",
           "#FFA15A",
           "#19d3f3",
           "#FF6692",
           "#B6E880",
           "#FF97FF",
           "#FECB52"
          ],
          "font": {
           "color": "#2a3f5f"
          },
          "geo": {
           "bgcolor": "white",
           "lakecolor": "white",
           "landcolor": "#E5ECF6",
           "showlakes": true,
           "showland": true,
           "subunitcolor": "white"
          },
          "hoverlabel": {
           "align": "left"
          },
          "hovermode": "closest",
          "mapbox": {
           "style": "light"
          },
          "paper_bgcolor": "white",
          "plot_bgcolor": "#E5ECF6",
          "polar": {
           "angularaxis": {
            "gridcolor": "white",
            "linecolor": "white",
            "ticks": ""
           },
           "bgcolor": "#E5ECF6",
           "radialaxis": {
            "gridcolor": "white",
            "linecolor": "white",
            "ticks": ""
           }
          },
          "scene": {
           "xaxis": {
            "backgroundcolor": "#E5ECF6",
            "gridcolor": "white",
            "gridwidth": 2,
            "linecolor": "white",
            "showbackground": true,
            "ticks": "",
            "zerolinecolor": "white"
           },
           "yaxis": {
            "backgroundcolor": "#E5ECF6",
            "gridcolor": "white",
            "gridwidth": 2,
            "linecolor": "white",
            "showbackground": true,
            "ticks": "",
            "zerolinecolor": "white"
           },
           "zaxis": {
            "backgroundcolor": "#E5ECF6",
            "gridcolor": "white",
            "gridwidth": 2,
            "linecolor": "white",
            "showbackground": true,
            "ticks": "",
            "zerolinecolor": "white"
           }
          },
          "shapedefaults": {
           "line": {
            "color": "#2a3f5f"
           }
          },
          "ternary": {
           "aaxis": {
            "gridcolor": "white",
            "linecolor": "white",
            "ticks": ""
           },
           "baxis": {
            "gridcolor": "white",
            "linecolor": "white",
            "ticks": ""
           },
           "bgcolor": "#E5ECF6",
           "caxis": {
            "gridcolor": "white",
            "linecolor": "white",
            "ticks": ""
           }
          },
          "title": {
           "x": 0.05
          },
          "xaxis": {
           "automargin": true,
           "gridcolor": "white",
           "linecolor": "white",
           "ticks": "",
           "title": {
            "standoff": 15
           },
           "zerolinecolor": "white",
           "zerolinewidth": 2
          },
          "yaxis": {
           "automargin": true,
           "gridcolor": "white",
           "linecolor": "white",
           "ticks": "",
           "title": {
            "standoff": 15
           },
           "zerolinecolor": "white",
           "zerolinewidth": 2
          }
         }
        },
        "title": {
         "text": "Percentage of Household in Positive and Negative Savings"
        },
        "width": 1000,
        "xaxis": {
         "anchor": "y",
         "domain": [
          0,
          0.2888888888888889
         ],
         "tickformat": ",.0%",
         "title": {
          "text": "Bill"
         },
         "visible": true
        },
        "xaxis2": {
         "anchor": "y2",
         "domain": [
          0.35555555555555557,
          0.6444444444444445
         ],
         "tickformat": ",.0%",
         "title": {
          "text": "Emission"
         },
         "visible": true
        },
        "xaxis3": {
         "anchor": "y3",
         "domain": [
          0.7111111111111111,
          1
         ],
         "tickformat": ",.0%",
         "title": {
          "text": "Total Energy"
         },
         "visible": true
        },
        "yaxis": {
         "anchor": "x",
         "domain": [
          0,
          1
         ],
         "visible": true
        },
        "yaxis2": {
         "anchor": "x2",
         "domain": [
          0,
          1
         ],
         "visible": false
        },
        "yaxis3": {
         "anchor": "x3",
         "domain": [
          0,
          1
         ],
         "visible": false
        }
       }
      }
     },
     "metadata": {},
     "output_type": "display_data"
    }
   ],
   "source": [
    "segment = 'segment1'\n",
    "results = figure_positive_negative_savings(segment, income, community_results) \n",
    "saving_results[f'segment1_{income}_pct_bill_positive_savings_%'] = results[0]*100\n",
    "saving_results[f'segment1_{income}_pct_emission_positive_savings_%'] = results[1]*100\n",
    "saving_results[f'segment1_{income}_pct_energy_positive_savings_%'] = results[2]*100"
   ]
  },
  {
   "cell_type": "markdown",
   "id": "8494ec4f",
   "metadata": {},
   "source": [
    "### Segment 2"
   ]
  },
  {
   "cell_type": "code",
   "execution_count": 50,
   "id": "e2c5e7d1",
   "metadata": {},
   "outputs": [
    {
     "data": {
      "application/vnd.plotly.v1+json": {
       "config": {
        "plotlyServerURL": "https://plot.ly"
       },
       "data": [
        {
         "marker": {
          "color": "red"
         },
         "name": "Negative",
         "orientation": "h",
         "text": [
          1,
          0.7272727272727273,
          0.4,
          0.06818181818181818,
          0.03409090909090909,
          0.03409090909090909,
          0.011764705882352941,
          0.011627906976744186,
          0.011363636363636364,
          0,
          0,
          0,
          0,
          0,
          0,
          0
         ],
         "textposition": "inside",
         "texttemplate": "%{text:.0%}",
         "type": "bar",
         "x": [
          1,
          0.7272727272727273,
          0.4,
          0.06818181818181818,
          0.03409090909090909,
          0.03409090909090909,
          0.011764705882352941,
          0.011627906976744186,
          0.011363636363636364,
          0,
          0,
          0,
          0,
          0,
          0,
          0
         ],
         "xaxis": "x",
         "y": [
          "Electric Clothes Dryer",
          "Mininum Efficiency Whole Home Electrification",
          "Electric Cooking",
          "Induction Cooking",
          "Mininum Efficiency Heat Pump with Electric Heat Backup",
          "Mininum Efficiency Heat Pump with Existing Heat Backup",
          "Heat Pump Clothes Dryer",
          "Heat Pump Water Heater",
          "High Efficiency Whole Home Electrification",
          "Basic Enclosure",
          "Basic Enclosure + HPWH + High Efficiency HP/Electric Backup",
          "Basic Enclosure + High Efficiency Whole Home Electrification",
          "Enhanced Enclosure",
          "Enhanced Enclosure + HPWH + High Efficiency HP/Electric Backup",
          "Enhanced Enclosure + High Efficiency Whole Home Electrification",
          "High Efficiency Heat Pump with Electric Heat Backup"
         ],
         "yaxis": "y"
        },
        {
         "marker": {
          "color": "green"
         },
         "name": "Positive",
         "orientation": "h",
         "text": [
          0,
          0.2727272727272727,
          0.6,
          0.9318181818181818,
          0.9659090909090909,
          0.9659090909090909,
          0.9882352941176471,
          0.9883720930232558,
          0.9886363636363636,
          1,
          1,
          1,
          1,
          1,
          1,
          1
         ],
         "textposition": "inside",
         "texttemplate": "%{text:.0%}",
         "type": "bar",
         "x": [
          0,
          0.2727272727272727,
          0.6,
          0.9318181818181818,
          0.9659090909090909,
          0.9659090909090909,
          0.9882352941176471,
          0.9883720930232558,
          0.9886363636363636,
          1,
          1,
          1,
          1,
          1,
          1,
          1
         ],
         "xaxis": "x",
         "y": [
          "Electric Clothes Dryer",
          "Mininum Efficiency Whole Home Electrification",
          "Electric Cooking",
          "Induction Cooking",
          "Mininum Efficiency Heat Pump with Electric Heat Backup",
          "Mininum Efficiency Heat Pump with Existing Heat Backup",
          "Heat Pump Clothes Dryer",
          "Heat Pump Water Heater",
          "High Efficiency Whole Home Electrification",
          "Basic Enclosure",
          "Basic Enclosure + HPWH + High Efficiency HP/Electric Backup",
          "Basic Enclosure + High Efficiency Whole Home Electrification",
          "Enhanced Enclosure",
          "Enhanced Enclosure + HPWH + High Efficiency HP/Electric Backup",
          "Enhanced Enclosure + High Efficiency Whole Home Electrification",
          "High Efficiency Heat Pump with Electric Heat Backup"
         ],
         "yaxis": "y"
        },
        {
         "marker": {
          "color": "red"
         },
         "orientation": "h",
         "showlegend": false,
         "text": [
          0,
          0,
          0,
          0,
          0.011363636363636364,
          0.011363636363636364,
          0,
          0,
          0,
          0,
          0,
          0,
          0,
          0,
          0,
          0
         ],
         "textposition": "inside",
         "texttemplate": "%{text:.0%}",
         "type": "bar",
         "x": [
          0,
          0,
          0,
          0,
          0.011363636363636364,
          0.011363636363636364,
          0,
          0,
          0,
          0,
          0,
          0,
          0,
          0,
          0,
          0
         ],
         "xaxis": "x2",
         "y": [
          "Electric Clothes Dryer",
          "Mininum Efficiency Whole Home Electrification",
          "Electric Cooking",
          "Induction Cooking",
          "Mininum Efficiency Heat Pump with Electric Heat Backup",
          "Mininum Efficiency Heat Pump with Existing Heat Backup",
          "Heat Pump Clothes Dryer",
          "Heat Pump Water Heater",
          "High Efficiency Whole Home Electrification",
          "Basic Enclosure",
          "Basic Enclosure + HPWH + High Efficiency HP/Electric Backup",
          "Basic Enclosure + High Efficiency Whole Home Electrification",
          "Enhanced Enclosure",
          "Enhanced Enclosure + HPWH + High Efficiency HP/Electric Backup",
          "Enhanced Enclosure + High Efficiency Whole Home Electrification",
          "High Efficiency Heat Pump with Electric Heat Backup"
         ],
         "yaxis": "y2"
        },
        {
         "marker": {
          "color": "green"
         },
         "orientation": "h",
         "showlegend": false,
         "text": [
          1,
          1,
          1,
          1,
          0.9886363636363636,
          0.9886363636363636,
          1,
          1,
          1,
          1,
          1,
          1,
          1,
          1,
          1,
          1
         ],
         "textposition": "inside",
         "texttemplate": "%{text:.0%}",
         "type": "bar",
         "x": [
          1,
          1,
          1,
          1,
          0.9886363636363636,
          0.9886363636363636,
          1,
          1,
          1,
          1,
          1,
          1,
          1,
          1,
          1,
          1
         ],
         "xaxis": "x2",
         "y": [
          "Electric Clothes Dryer",
          "Mininum Efficiency Whole Home Electrification",
          "Electric Cooking",
          "Induction Cooking",
          "Mininum Efficiency Heat Pump with Electric Heat Backup",
          "Mininum Efficiency Heat Pump with Existing Heat Backup",
          "Heat Pump Clothes Dryer",
          "Heat Pump Water Heater",
          "High Efficiency Whole Home Electrification",
          "Basic Enclosure",
          "Basic Enclosure + HPWH + High Efficiency HP/Electric Backup",
          "Basic Enclosure + High Efficiency Whole Home Electrification",
          "Enhanced Enclosure",
          "Enhanced Enclosure + HPWH + High Efficiency HP/Electric Backup",
          "Enhanced Enclosure + High Efficiency Whole Home Electrification",
          "High Efficiency Heat Pump with Electric Heat Backup"
         ],
         "yaxis": "y2"
        },
        {
         "marker": {
          "color": "red"
         },
         "orientation": "h",
         "showlegend": false,
         "text": [
          0,
          0,
          0,
          0,
          0.022727272727272728,
          0.022727272727272728,
          0,
          0,
          0,
          0,
          0,
          0,
          0,
          0,
          0,
          0
         ],
         "textposition": "inside",
         "texttemplate": "%{text:.0%}",
         "type": "bar",
         "x": [
          0,
          0,
          0,
          0,
          0.022727272727272728,
          0.022727272727272728,
          0,
          0,
          0,
          0,
          0,
          0,
          0,
          0,
          0,
          0
         ],
         "xaxis": "x3",
         "y": [
          "Electric Clothes Dryer",
          "Mininum Efficiency Whole Home Electrification",
          "Electric Cooking",
          "Induction Cooking",
          "Mininum Efficiency Heat Pump with Electric Heat Backup",
          "Mininum Efficiency Heat Pump with Existing Heat Backup",
          "Heat Pump Clothes Dryer",
          "Heat Pump Water Heater",
          "High Efficiency Whole Home Electrification",
          "Basic Enclosure",
          "Basic Enclosure + HPWH + High Efficiency HP/Electric Backup",
          "Basic Enclosure + High Efficiency Whole Home Electrification",
          "Enhanced Enclosure",
          "Enhanced Enclosure + HPWH + High Efficiency HP/Electric Backup",
          "Enhanced Enclosure + High Efficiency Whole Home Electrification",
          "High Efficiency Heat Pump with Electric Heat Backup"
         ],
         "yaxis": "y3"
        },
        {
         "marker": {
          "color": "green"
         },
         "orientation": "h",
         "showlegend": false,
         "text": [
          1,
          1,
          1,
          1,
          0.9772727272727273,
          0.9772727272727273,
          1,
          1,
          1,
          1,
          1,
          1,
          1,
          1,
          1,
          1
         ],
         "textposition": "inside",
         "texttemplate": "%{text:.0%}",
         "type": "bar",
         "x": [
          1,
          1,
          1,
          1,
          0.9772727272727273,
          0.9772727272727273,
          1,
          1,
          1,
          1,
          1,
          1,
          1,
          1,
          1,
          1
         ],
         "xaxis": "x3",
         "y": [
          "Electric Clothes Dryer",
          "Mininum Efficiency Whole Home Electrification",
          "Electric Cooking",
          "Induction Cooking",
          "Mininum Efficiency Heat Pump with Electric Heat Backup",
          "Mininum Efficiency Heat Pump with Existing Heat Backup",
          "Heat Pump Clothes Dryer",
          "Heat Pump Water Heater",
          "High Efficiency Whole Home Electrification",
          "Basic Enclosure",
          "Basic Enclosure + HPWH + High Efficiency HP/Electric Backup",
          "Basic Enclosure + High Efficiency Whole Home Electrification",
          "Enhanced Enclosure",
          "Enhanced Enclosure + HPWH + High Efficiency HP/Electric Backup",
          "Enhanced Enclosure + High Efficiency Whole Home Electrification",
          "High Efficiency Heat Pump with Electric Heat Backup"
         ],
         "yaxis": "y3"
        }
       ],
       "layout": {
        "autosize": false,
        "barmode": "relative",
        "font": {
         "size": 10
        },
        "height": 500,
        "template": {
         "data": {
          "bar": [
           {
            "error_x": {
             "color": "#2a3f5f"
            },
            "error_y": {
             "color": "#2a3f5f"
            },
            "marker": {
             "line": {
              "color": "#E5ECF6",
              "width": 0.5
             },
             "pattern": {
              "fillmode": "overlay",
              "size": 10,
              "solidity": 0.2
             }
            },
            "type": "bar"
           }
          ],
          "barpolar": [
           {
            "marker": {
             "line": {
              "color": "#E5ECF6",
              "width": 0.5
             },
             "pattern": {
              "fillmode": "overlay",
              "size": 10,
              "solidity": 0.2
             }
            },
            "type": "barpolar"
           }
          ],
          "carpet": [
           {
            "aaxis": {
             "endlinecolor": "#2a3f5f",
             "gridcolor": "white",
             "linecolor": "white",
             "minorgridcolor": "white",
             "startlinecolor": "#2a3f5f"
            },
            "baxis": {
             "endlinecolor": "#2a3f5f",
             "gridcolor": "white",
             "linecolor": "white",
             "minorgridcolor": "white",
             "startlinecolor": "#2a3f5f"
            },
            "type": "carpet"
           }
          ],
          "choropleth": [
           {
            "colorbar": {
             "outlinewidth": 0,
             "ticks": ""
            },
            "type": "choropleth"
           }
          ],
          "contour": [
           {
            "colorbar": {
             "outlinewidth": 0,
             "ticks": ""
            },
            "colorscale": [
             [
              0,
              "#0d0887"
             ],
             [
              0.1111111111111111,
              "#46039f"
             ],
             [
              0.2222222222222222,
              "#7201a8"
             ],
             [
              0.3333333333333333,
              "#9c179e"
             ],
             [
              0.4444444444444444,
              "#bd3786"
             ],
             [
              0.5555555555555556,
              "#d8576b"
             ],
             [
              0.6666666666666666,
              "#ed7953"
             ],
             [
              0.7777777777777778,
              "#fb9f3a"
             ],
             [
              0.8888888888888888,
              "#fdca26"
             ],
             [
              1,
              "#f0f921"
             ]
            ],
            "type": "contour"
           }
          ],
          "contourcarpet": [
           {
            "colorbar": {
             "outlinewidth": 0,
             "ticks": ""
            },
            "type": "contourcarpet"
           }
          ],
          "heatmap": [
           {
            "colorbar": {
             "outlinewidth": 0,
             "ticks": ""
            },
            "colorscale": [
             [
              0,
              "#0d0887"
             ],
             [
              0.1111111111111111,
              "#46039f"
             ],
             [
              0.2222222222222222,
              "#7201a8"
             ],
             [
              0.3333333333333333,
              "#9c179e"
             ],
             [
              0.4444444444444444,
              "#bd3786"
             ],
             [
              0.5555555555555556,
              "#d8576b"
             ],
             [
              0.6666666666666666,
              "#ed7953"
             ],
             [
              0.7777777777777778,
              "#fb9f3a"
             ],
             [
              0.8888888888888888,
              "#fdca26"
             ],
             [
              1,
              "#f0f921"
             ]
            ],
            "type": "heatmap"
           }
          ],
          "heatmapgl": [
           {
            "colorbar": {
             "outlinewidth": 0,
             "ticks": ""
            },
            "colorscale": [
             [
              0,
              "#0d0887"
             ],
             [
              0.1111111111111111,
              "#46039f"
             ],
             [
              0.2222222222222222,
              "#7201a8"
             ],
             [
              0.3333333333333333,
              "#9c179e"
             ],
             [
              0.4444444444444444,
              "#bd3786"
             ],
             [
              0.5555555555555556,
              "#d8576b"
             ],
             [
              0.6666666666666666,
              "#ed7953"
             ],
             [
              0.7777777777777778,
              "#fb9f3a"
             ],
             [
              0.8888888888888888,
              "#fdca26"
             ],
             [
              1,
              "#f0f921"
             ]
            ],
            "type": "heatmapgl"
           }
          ],
          "histogram": [
           {
            "marker": {
             "pattern": {
              "fillmode": "overlay",
              "size": 10,
              "solidity": 0.2
             }
            },
            "type": "histogram"
           }
          ],
          "histogram2d": [
           {
            "colorbar": {
             "outlinewidth": 0,
             "ticks": ""
            },
            "colorscale": [
             [
              0,
              "#0d0887"
             ],
             [
              0.1111111111111111,
              "#46039f"
             ],
             [
              0.2222222222222222,
              "#7201a8"
             ],
             [
              0.3333333333333333,
              "#9c179e"
             ],
             [
              0.4444444444444444,
              "#bd3786"
             ],
             [
              0.5555555555555556,
              "#d8576b"
             ],
             [
              0.6666666666666666,
              "#ed7953"
             ],
             [
              0.7777777777777778,
              "#fb9f3a"
             ],
             [
              0.8888888888888888,
              "#fdca26"
             ],
             [
              1,
              "#f0f921"
             ]
            ],
            "type": "histogram2d"
           }
          ],
          "histogram2dcontour": [
           {
            "colorbar": {
             "outlinewidth": 0,
             "ticks": ""
            },
            "colorscale": [
             [
              0,
              "#0d0887"
             ],
             [
              0.1111111111111111,
              "#46039f"
             ],
             [
              0.2222222222222222,
              "#7201a8"
             ],
             [
              0.3333333333333333,
              "#9c179e"
             ],
             [
              0.4444444444444444,
              "#bd3786"
             ],
             [
              0.5555555555555556,
              "#d8576b"
             ],
             [
              0.6666666666666666,
              "#ed7953"
             ],
             [
              0.7777777777777778,
              "#fb9f3a"
             ],
             [
              0.8888888888888888,
              "#fdca26"
             ],
             [
              1,
              "#f0f921"
             ]
            ],
            "type": "histogram2dcontour"
           }
          ],
          "mesh3d": [
           {
            "colorbar": {
             "outlinewidth": 0,
             "ticks": ""
            },
            "type": "mesh3d"
           }
          ],
          "parcoords": [
           {
            "line": {
             "colorbar": {
              "outlinewidth": 0,
              "ticks": ""
             }
            },
            "type": "parcoords"
           }
          ],
          "pie": [
           {
            "automargin": true,
            "type": "pie"
           }
          ],
          "scatter": [
           {
            "fillpattern": {
             "fillmode": "overlay",
             "size": 10,
             "solidity": 0.2
            },
            "type": "scatter"
           }
          ],
          "scatter3d": [
           {
            "line": {
             "colorbar": {
              "outlinewidth": 0,
              "ticks": ""
             }
            },
            "marker": {
             "colorbar": {
              "outlinewidth": 0,
              "ticks": ""
             }
            },
            "type": "scatter3d"
           }
          ],
          "scattercarpet": [
           {
            "marker": {
             "colorbar": {
              "outlinewidth": 0,
              "ticks": ""
             }
            },
            "type": "scattercarpet"
           }
          ],
          "scattergeo": [
           {
            "marker": {
             "colorbar": {
              "outlinewidth": 0,
              "ticks": ""
             }
            },
            "type": "scattergeo"
           }
          ],
          "scattergl": [
           {
            "marker": {
             "colorbar": {
              "outlinewidth": 0,
              "ticks": ""
             }
            },
            "type": "scattergl"
           }
          ],
          "scattermapbox": [
           {
            "marker": {
             "colorbar": {
              "outlinewidth": 0,
              "ticks": ""
             }
            },
            "type": "scattermapbox"
           }
          ],
          "scatterpolar": [
           {
            "marker": {
             "colorbar": {
              "outlinewidth": 0,
              "ticks": ""
             }
            },
            "type": "scatterpolar"
           }
          ],
          "scatterpolargl": [
           {
            "marker": {
             "colorbar": {
              "outlinewidth": 0,
              "ticks": ""
             }
            },
            "type": "scatterpolargl"
           }
          ],
          "scatterternary": [
           {
            "marker": {
             "colorbar": {
              "outlinewidth": 0,
              "ticks": ""
             }
            },
            "type": "scatterternary"
           }
          ],
          "surface": [
           {
            "colorbar": {
             "outlinewidth": 0,
             "ticks": ""
            },
            "colorscale": [
             [
              0,
              "#0d0887"
             ],
             [
              0.1111111111111111,
              "#46039f"
             ],
             [
              0.2222222222222222,
              "#7201a8"
             ],
             [
              0.3333333333333333,
              "#9c179e"
             ],
             [
              0.4444444444444444,
              "#bd3786"
             ],
             [
              0.5555555555555556,
              "#d8576b"
             ],
             [
              0.6666666666666666,
              "#ed7953"
             ],
             [
              0.7777777777777778,
              "#fb9f3a"
             ],
             [
              0.8888888888888888,
              "#fdca26"
             ],
             [
              1,
              "#f0f921"
             ]
            ],
            "type": "surface"
           }
          ],
          "table": [
           {
            "cells": {
             "fill": {
              "color": "#EBF0F8"
             },
             "line": {
              "color": "white"
             }
            },
            "header": {
             "fill": {
              "color": "#C8D4E3"
             },
             "line": {
              "color": "white"
             }
            },
            "type": "table"
           }
          ]
         },
         "layout": {
          "annotationdefaults": {
           "arrowcolor": "#2a3f5f",
           "arrowhead": 0,
           "arrowwidth": 1
          },
          "autotypenumbers": "strict",
          "coloraxis": {
           "colorbar": {
            "outlinewidth": 0,
            "ticks": ""
           }
          },
          "colorscale": {
           "diverging": [
            [
             0,
             "#8e0152"
            ],
            [
             0.1,
             "#c51b7d"
            ],
            [
             0.2,
             "#de77ae"
            ],
            [
             0.3,
             "#f1b6da"
            ],
            [
             0.4,
             "#fde0ef"
            ],
            [
             0.5,
             "#f7f7f7"
            ],
            [
             0.6,
             "#e6f5d0"
            ],
            [
             0.7,
             "#b8e186"
            ],
            [
             0.8,
             "#7fbc41"
            ],
            [
             0.9,
             "#4d9221"
            ],
            [
             1,
             "#276419"
            ]
           ],
           "sequential": [
            [
             0,
             "#0d0887"
            ],
            [
             0.1111111111111111,
             "#46039f"
            ],
            [
             0.2222222222222222,
             "#7201a8"
            ],
            [
             0.3333333333333333,
             "#9c179e"
            ],
            [
             0.4444444444444444,
             "#bd3786"
            ],
            [
             0.5555555555555556,
             "#d8576b"
            ],
            [
             0.6666666666666666,
             "#ed7953"
            ],
            [
             0.7777777777777778,
             "#fb9f3a"
            ],
            [
             0.8888888888888888,
             "#fdca26"
            ],
            [
             1,
             "#f0f921"
            ]
           ],
           "sequentialminus": [
            [
             0,
             "#0d0887"
            ],
            [
             0.1111111111111111,
             "#46039f"
            ],
            [
             0.2222222222222222,
             "#7201a8"
            ],
            [
             0.3333333333333333,
             "#9c179e"
            ],
            [
             0.4444444444444444,
             "#bd3786"
            ],
            [
             0.5555555555555556,
             "#d8576b"
            ],
            [
             0.6666666666666666,
             "#ed7953"
            ],
            [
             0.7777777777777778,
             "#fb9f3a"
            ],
            [
             0.8888888888888888,
             "#fdca26"
            ],
            [
             1,
             "#f0f921"
            ]
           ]
          },
          "colorway": [
           "#636efa",
           "#EF553B",
           "#00cc96",
           "#ab63fa",
           "#FFA15A",
           "#19d3f3",
           "#FF6692",
           "#B6E880",
           "#FF97FF",
           "#FECB52"
          ],
          "font": {
           "color": "#2a3f5f"
          },
          "geo": {
           "bgcolor": "white",
           "lakecolor": "white",
           "landcolor": "#E5ECF6",
           "showlakes": true,
           "showland": true,
           "subunitcolor": "white"
          },
          "hoverlabel": {
           "align": "left"
          },
          "hovermode": "closest",
          "mapbox": {
           "style": "light"
          },
          "paper_bgcolor": "white",
          "plot_bgcolor": "#E5ECF6",
          "polar": {
           "angularaxis": {
            "gridcolor": "white",
            "linecolor": "white",
            "ticks": ""
           },
           "bgcolor": "#E5ECF6",
           "radialaxis": {
            "gridcolor": "white",
            "linecolor": "white",
            "ticks": ""
           }
          },
          "scene": {
           "xaxis": {
            "backgroundcolor": "#E5ECF6",
            "gridcolor": "white",
            "gridwidth": 2,
            "linecolor": "white",
            "showbackground": true,
            "ticks": "",
            "zerolinecolor": "white"
           },
           "yaxis": {
            "backgroundcolor": "#E5ECF6",
            "gridcolor": "white",
            "gridwidth": 2,
            "linecolor": "white",
            "showbackground": true,
            "ticks": "",
            "zerolinecolor": "white"
           },
           "zaxis": {
            "backgroundcolor": "#E5ECF6",
            "gridcolor": "white",
            "gridwidth": 2,
            "linecolor": "white",
            "showbackground": true,
            "ticks": "",
            "zerolinecolor": "white"
           }
          },
          "shapedefaults": {
           "line": {
            "color": "#2a3f5f"
           }
          },
          "ternary": {
           "aaxis": {
            "gridcolor": "white",
            "linecolor": "white",
            "ticks": ""
           },
           "baxis": {
            "gridcolor": "white",
            "linecolor": "white",
            "ticks": ""
           },
           "bgcolor": "#E5ECF6",
           "caxis": {
            "gridcolor": "white",
            "linecolor": "white",
            "ticks": ""
           }
          },
          "title": {
           "x": 0.05
          },
          "xaxis": {
           "automargin": true,
           "gridcolor": "white",
           "linecolor": "white",
           "ticks": "",
           "title": {
            "standoff": 15
           },
           "zerolinecolor": "white",
           "zerolinewidth": 2
          },
          "yaxis": {
           "automargin": true,
           "gridcolor": "white",
           "linecolor": "white",
           "ticks": "",
           "title": {
            "standoff": 15
           },
           "zerolinecolor": "white",
           "zerolinewidth": 2
          }
         }
        },
        "title": {
         "text": "Percentage of Household in Positive and Negative Savings"
        },
        "width": 1000,
        "xaxis": {
         "anchor": "y",
         "domain": [
          0,
          0.2888888888888889
         ],
         "tickformat": ",.0%",
         "title": {
          "text": "Bill"
         },
         "visible": true
        },
        "xaxis2": {
         "anchor": "y2",
         "domain": [
          0.35555555555555557,
          0.6444444444444445
         ],
         "tickformat": ",.0%",
         "title": {
          "text": "Emission"
         },
         "visible": true
        },
        "xaxis3": {
         "anchor": "y3",
         "domain": [
          0.7111111111111111,
          1
         ],
         "tickformat": ",.0%",
         "title": {
          "text": "Total Energy"
         },
         "visible": true
        },
        "yaxis": {
         "anchor": "x",
         "domain": [
          0,
          1
         ],
         "visible": true
        },
        "yaxis2": {
         "anchor": "x2",
         "domain": [
          0,
          1
         ],
         "visible": false
        },
        "yaxis3": {
         "anchor": "x3",
         "domain": [
          0,
          1
         ],
         "visible": false
        }
       }
      }
     },
     "metadata": {},
     "output_type": "display_data"
    }
   ],
   "source": [
    "segment = 'segment2'\n",
    "results = figure_positive_negative_savings(segment, income, community_results)\n",
    "saving_results[f'segment2_{income}_pct_bill_positive_savings_%'] = results[0]*100\n",
    "saving_results[f'segment2_{income}_pct_emission_positive_savings_%'] = results[1]*100\n",
    "saving_results[f'segment2_{income}_pct_energy_positive_savings_%'] = results[2]*100"
   ]
  },
  {
   "cell_type": "markdown",
   "id": "45f2fa39",
   "metadata": {},
   "source": [
    "## 3.6. Average Energy Burden (%) Before and after Upgrade"
   ]
  },
  {
   "cell_type": "code",
   "execution_count": 51,
   "id": "9b9fbe35",
   "metadata": {},
   "outputs": [
    {
     "name": "stdout",
     "output_type": "stream",
     "text": [
      "energy burden (%) before and after upgrade\n",
      "segment1\n"
     ]
    },
    {
     "name": "stderr",
     "output_type": "stream",
     "text": [
      "/var/folders/qt/5nrnlf6148z2jxyxx_5yqgl0z8pq2p/T/ipykernel_42782/2800418672.py:4: SettingWithCopyWarning:\n",
      "\n",
      "\n",
      "A value is trying to be set on a copy of a slice from a DataFrame\n",
      "\n",
      "See the caveats in the documentation: https://pandas.pydata.org/pandas-docs/stable/user_guide/indexing.html#returning-a-view-versus-a-copy\n",
      "\n",
      "/var/folders/qt/5nrnlf6148z2jxyxx_5yqgl0z8pq2p/T/ipykernel_42782/2800418672.py:5: SettingWithCopyWarning:\n",
      "\n",
      "\n",
      "A value is trying to be set on a copy of a slice from a DataFrame\n",
      "\n",
      "See the caveats in the documentation: https://pandas.pydata.org/pandas-docs/stable/user_guide/indexing.html#returning-a-view-versus-a-copy\n",
      "\n",
      "/var/folders/qt/5nrnlf6148z2jxyxx_5yqgl0z8pq2p/T/ipykernel_42782/2800418672.py:6: SettingWithCopyWarning:\n",
      "\n",
      "\n",
      "A value is trying to be set on a copy of a slice from a DataFrame.\n",
      "Try using .loc[row_indexer,col_indexer] = value instead\n",
      "\n",
      "See the caveats in the documentation: https://pandas.pydata.org/pandas-docs/stable/user_guide/indexing.html#returning-a-view-versus-a-copy\n",
      "\n",
      "/var/folders/qt/5nrnlf6148z2jxyxx_5yqgl0z8pq2p/T/ipykernel_42782/2800418672.py:7: SettingWithCopyWarning:\n",
      "\n",
      "\n",
      "A value is trying to be set on a copy of a slice from a DataFrame.\n",
      "Try using .loc[row_indexer,col_indexer] = value instead\n",
      "\n",
      "See the caveats in the documentation: https://pandas.pydata.org/pandas-docs/stable/user_guide/indexing.html#returning-a-view-versus-a-copy\n",
      "\n"
     ]
    },
    {
     "data": {
      "text/html": [
       "<div>\n",
       "<style scoped>\n",
       "    .dataframe tbody tr th:only-of-type {\n",
       "        vertical-align: middle;\n",
       "    }\n",
       "\n",
       "    .dataframe tbody tr th {\n",
       "        vertical-align: top;\n",
       "    }\n",
       "\n",
       "    .dataframe thead th {\n",
       "        text-align: right;\n",
       "    }\n",
       "</style>\n",
       "<table border=\"1\" class=\"dataframe\">\n",
       "  <thead>\n",
       "    <tr style=\"text-align: right;\">\n",
       "      <th></th>\n",
       "      <th>before</th>\n",
       "      <th>after</th>\n",
       "    </tr>\n",
       "    <tr>\n",
       "      <th>upgrade_name</th>\n",
       "      <th></th>\n",
       "      <th></th>\n",
       "    </tr>\n",
       "  </thead>\n",
       "  <tbody>\n",
       "    <tr>\n",
       "      <th>High Efficiency Heat Pump with Electric Heat Backup</th>\n",
       "      <td>15.6</td>\n",
       "      <td>10.7</td>\n",
       "    </tr>\n",
       "    <tr>\n",
       "      <th>Enhanced Enclosure</th>\n",
       "      <td>15.6</td>\n",
       "      <td>12.2</td>\n",
       "    </tr>\n",
       "    <tr>\n",
       "      <th>Basic Enclosure</th>\n",
       "      <td>15.6</td>\n",
       "      <td>12.6</td>\n",
       "    </tr>\n",
       "    <tr>\n",
       "      <th>Enhanced Enclosure + High Efficiency Whole Home Electrification</th>\n",
       "      <td>15.6</td>\n",
       "      <td>13.2</td>\n",
       "    </tr>\n",
       "    <tr>\n",
       "      <th>Enhanced Enclosure + HPWH + High Efficiency HP/Electric Backup</th>\n",
       "      <td>15.6</td>\n",
       "      <td>13.3</td>\n",
       "    </tr>\n",
       "    <tr>\n",
       "      <th>Basic Enclosure + High Efficiency Whole Home Electrification</th>\n",
       "      <td>15.6</td>\n",
       "      <td>13.3</td>\n",
       "    </tr>\n",
       "    <tr>\n",
       "      <th>Basic Enclosure + HPWH + High Efficiency HP/Electric Backup</th>\n",
       "      <td>15.6</td>\n",
       "      <td>13.4</td>\n",
       "    </tr>\n",
       "    <tr>\n",
       "      <th>Mininum Efficiency Heat Pump with Electric Heat Backup</th>\n",
       "      <td>15.6</td>\n",
       "      <td>13.5</td>\n",
       "    </tr>\n",
       "    <tr>\n",
       "      <th>Mininum Efficiency Heat Pump with Existing Heat Backup</th>\n",
       "      <td>15.6</td>\n",
       "      <td>14.2</td>\n",
       "    </tr>\n",
       "    <tr>\n",
       "      <th>High Efficiency Whole Home Electrification</th>\n",
       "      <td>15.6</td>\n",
       "      <td>14.3</td>\n",
       "    </tr>\n",
       "    <tr>\n",
       "      <th>Heat Pump Water Heater</th>\n",
       "      <td>15.6</td>\n",
       "      <td>14.8</td>\n",
       "    </tr>\n",
       "    <tr>\n",
       "      <th>Heat Pump Clothes Dryer</th>\n",
       "      <td>15.8</td>\n",
       "      <td>15.7</td>\n",
       "    </tr>\n",
       "    <tr>\n",
       "      <th>Induction Cooking</th>\n",
       "      <td>15.7</td>\n",
       "      <td>15.7</td>\n",
       "    </tr>\n",
       "    <tr>\n",
       "      <th>Electric Cooking</th>\n",
       "      <td>16.4</td>\n",
       "      <td>16.4</td>\n",
       "    </tr>\n",
       "    <tr>\n",
       "      <th>Electric Clothes Dryer</th>\n",
       "      <td>8.7</td>\n",
       "      <td>8.7</td>\n",
       "    </tr>\n",
       "    <tr>\n",
       "      <th>Mininum Efficiency Whole Home Electrification</th>\n",
       "      <td>15.6</td>\n",
       "      <td>17.3</td>\n",
       "    </tr>\n",
       "  </tbody>\n",
       "</table>\n",
       "</div>"
      ],
      "text/plain": [
       "                                                    before  after\n",
       "upgrade_name                                                     \n",
       "High Efficiency Heat Pump with Electric Heat Ba...    15.6   10.7\n",
       "Enhanced Enclosure                                    15.6   12.2\n",
       "Basic Enclosure                                       15.6   12.6\n",
       "Enhanced Enclosure + High Efficiency Whole Home...    15.6   13.2\n",
       "Enhanced Enclosure + HPWH + High Efficiency HP/...    15.6   13.3\n",
       "Basic Enclosure + High Efficiency Whole Home El...    15.6   13.3\n",
       "Basic Enclosure + HPWH + High Efficiency HP/Ele...    15.6   13.4\n",
       "Mininum Efficiency Heat Pump with Electric Heat...    15.6   13.5\n",
       "Mininum Efficiency Heat Pump with Existing Heat...    15.6   14.2\n",
       "High Efficiency Whole Home Electrification            15.6   14.3\n",
       "Heat Pump Water Heater                                15.6   14.8\n",
       "Heat Pump Clothes Dryer                               15.8   15.7\n",
       "Induction Cooking                                     15.7   15.7\n",
       "Electric Cooking                                      16.4   16.4\n",
       "Electric Clothes Dryer                                 8.7    8.7\n",
       "Mininum Efficiency Whole Home Electrification         15.6   17.3"
      ]
     },
     "metadata": {},
     "output_type": "display_data"
    },
    {
     "name": "stdout",
     "output_type": "stream",
     "text": [
      "segment2\n"
     ]
    },
    {
     "data": {
      "text/html": [
       "<div>\n",
       "<style scoped>\n",
       "    .dataframe tbody tr th:only-of-type {\n",
       "        vertical-align: middle;\n",
       "    }\n",
       "\n",
       "    .dataframe tbody tr th {\n",
       "        vertical-align: top;\n",
       "    }\n",
       "\n",
       "    .dataframe thead th {\n",
       "        text-align: right;\n",
       "    }\n",
       "</style>\n",
       "<table border=\"1\" class=\"dataframe\">\n",
       "  <thead>\n",
       "    <tr style=\"text-align: right;\">\n",
       "      <th></th>\n",
       "      <th>before</th>\n",
       "      <th>after</th>\n",
       "    </tr>\n",
       "    <tr>\n",
       "      <th>upgrade_name</th>\n",
       "      <th></th>\n",
       "      <th></th>\n",
       "    </tr>\n",
       "  </thead>\n",
       "  <tbody>\n",
       "    <tr>\n",
       "      <th>Enhanced Enclosure + High Efficiency Whole Home Electrification</th>\n",
       "      <td>21.4</td>\n",
       "      <td>9.9</td>\n",
       "    </tr>\n",
       "    <tr>\n",
       "      <th>Basic Enclosure + High Efficiency Whole Home Electrification</th>\n",
       "      <td>21.4</td>\n",
       "      <td>10.1</td>\n",
       "    </tr>\n",
       "    <tr>\n",
       "      <th>Enhanced Enclosure + HPWH + High Efficiency HP/Electric Backup</th>\n",
       "      <td>21.4</td>\n",
       "      <td>10.1</td>\n",
       "    </tr>\n",
       "    <tr>\n",
       "      <th>Basic Enclosure + HPWH + High Efficiency HP/Electric Backup</th>\n",
       "      <td>21.4</td>\n",
       "      <td>10.2</td>\n",
       "    </tr>\n",
       "    <tr>\n",
       "      <th>High Efficiency Whole Home Electrification</th>\n",
       "      <td>21.4</td>\n",
       "      <td>11.5</td>\n",
       "    </tr>\n",
       "    <tr>\n",
       "      <th>High Efficiency Heat Pump with Electric Heat Backup</th>\n",
       "      <td>21.4</td>\n",
       "      <td>12.7</td>\n",
       "    </tr>\n",
       "    <tr>\n",
       "      <th>Enhanced Enclosure</th>\n",
       "      <td>21.4</td>\n",
       "      <td>16.1</td>\n",
       "    </tr>\n",
       "    <tr>\n",
       "      <th>Basic Enclosure</th>\n",
       "      <td>21.4</td>\n",
       "      <td>16.5</td>\n",
       "    </tr>\n",
       "    <tr>\n",
       "      <th>Mininum Efficiency Heat Pump with Electric Heat Backup</th>\n",
       "      <td>21.4</td>\n",
       "      <td>16.7</td>\n",
       "    </tr>\n",
       "    <tr>\n",
       "      <th>Mininum Efficiency Heat Pump with Existing Heat Backup</th>\n",
       "      <td>21.4</td>\n",
       "      <td>16.7</td>\n",
       "    </tr>\n",
       "    <tr>\n",
       "      <th>Heat Pump Water Heater</th>\n",
       "      <td>21.6</td>\n",
       "      <td>20.8</td>\n",
       "    </tr>\n",
       "    <tr>\n",
       "      <th>Heat Pump Clothes Dryer</th>\n",
       "      <td>22.0</td>\n",
       "      <td>21.9</td>\n",
       "    </tr>\n",
       "    <tr>\n",
       "      <th>Induction Cooking</th>\n",
       "      <td>21.4</td>\n",
       "      <td>21.4</td>\n",
       "    </tr>\n",
       "    <tr>\n",
       "      <th>Electric Cooking</th>\n",
       "      <td>18.8</td>\n",
       "      <td>18.8</td>\n",
       "    </tr>\n",
       "    <tr>\n",
       "      <th>Mininum Efficiency Whole Home Electrification</th>\n",
       "      <td>17.2</td>\n",
       "      <td>17.3</td>\n",
       "    </tr>\n",
       "    <tr>\n",
       "      <th>Electric Clothes Dryer</th>\n",
       "      <td>18.3</td>\n",
       "      <td>18.5</td>\n",
       "    </tr>\n",
       "  </tbody>\n",
       "</table>\n",
       "</div>"
      ],
      "text/plain": [
       "                                                    before  after\n",
       "upgrade_name                                                     \n",
       "Enhanced Enclosure + High Efficiency Whole Home...    21.4    9.9\n",
       "Basic Enclosure + High Efficiency Whole Home El...    21.4   10.1\n",
       "Enhanced Enclosure + HPWH + High Efficiency HP/...    21.4   10.1\n",
       "Basic Enclosure + HPWH + High Efficiency HP/Ele...    21.4   10.2\n",
       "High Efficiency Whole Home Electrification            21.4   11.5\n",
       "High Efficiency Heat Pump with Electric Heat Ba...    21.4   12.7\n",
       "Enhanced Enclosure                                    21.4   16.1\n",
       "Basic Enclosure                                       21.4   16.5\n",
       "Mininum Efficiency Heat Pump with Electric Heat...    21.4   16.7\n",
       "Mininum Efficiency Heat Pump with Existing Heat...    21.4   16.7\n",
       "Heat Pump Water Heater                                21.6   20.8\n",
       "Heat Pump Clothes Dryer                               22.0   21.9\n",
       "Induction Cooking                                     21.4   21.4\n",
       "Electric Cooking                                      18.8   18.8\n",
       "Mininum Efficiency Whole Home Electrification         17.2   17.3\n",
       "Electric Clothes Dryer                                18.3   18.5"
      ]
     },
     "metadata": {},
     "output_type": "display_data"
    },
    {
     "name": "stderr",
     "output_type": "stream",
     "text": [
      "/var/folders/qt/5nrnlf6148z2jxyxx_5yqgl0z8pq2p/T/ipykernel_42782/505849424.py:3: PerformanceWarning:\n",
      "\n",
      "DataFrame is highly fragmented.  This is usually the result of calling `frame.insert` many times, which has poor performance.  Consider joining all columns at once using pd.concat(axis=1) instead. To get a de-fragmented frame, use `newframe = frame.copy()`\n",
      "\n"
     ]
    }
   ],
   "source": [
    "results = segment_mean_energy_burden('post-upgrade_energy_burden_2023_cbills.%', community_results) \n",
    "saving_results[[f'segment1_{income}_energy_burden_before_upgrade_%',f'segment1_{income}_energy_burden_after_upgrade_%']] = results[0]\n",
    "saving_results[[f'segment2_{income}_energy_burden_before_upgrade_%',f'segment2_{income}_energy_burden_after_upgrade_%']] = results[1]"
   ]
  },
  {
   "cell_type": "code",
   "execution_count": 52,
   "id": "45f4b53f",
   "metadata": {},
   "outputs": [],
   "source": [
    "saving_results.to_csv(fig_dir / f'saving_results_{community}.csv')"
   ]
  },
  {
   "cell_type": "markdown",
   "id": "cf0b6391",
   "metadata": {},
   "source": [
    "### Save html file"
   ]
  },
  {
   "cell_type": "code",
   "execution_count": 53,
   "id": "442ef0c6",
   "metadata": {},
   "outputs": [
    {
     "name": "stdout",
     "output_type": "stream",
     "text": [
      "[NbConvertApp] Converting notebook saving_results_reports_for_north_birmingham.ipynb to html\n",
      "/Users/nmerket/mambaforge/envs/datatools/share/jupyter/nbconvert/templates/base/display_priority.j2:32: UserWarning: Your element with mimetype(s) dict_keys(['application/vnd.plotly.v1+json']) is not able to be represented.\n",
      "  {%- elif type == 'application/javascript' -%}\n",
      "[NbConvertApp] Writing 658501 bytes to results/north_birmingham/saving_results_reports_for_north_birmingham.html\n"
     ]
    }
   ],
   "source": [
    "! jupyter nbconvert --output-dir='./results/north_birmingham/' --to=html --no-input saving_results_reports_for_north_birmingham.ipynb"
   ]
  },
  {
   "cell_type": "code",
   "execution_count": 55,
   "id": "2a7948d9",
   "metadata": {},
   "outputs": [
    {
     "data": {
      "text/plain": [
       "array(['whole_community_upgrade_cost_mean_usd',\n",
       "       'whole_community_saving_bill_total_usd',\n",
       "       'whole_community_saving_emission_total_kgCO2e',\n",
       "       'whole_community_saving_energy_total_mmbtu',\n",
       "       'whole_community_saving_electricity_total_kwh',\n",
       "       'whole_community_saving_natural_gas_fuel_oil_propane_total_mmbtu',\n",
       "       'whole_community_saving_bill_mean_usd',\n",
       "       'whole_community_saving_emission_mean_kgCO2e',\n",
       "       'whole_community_saving_energy_mean_mmbtu',\n",
       "       'whole_community_saving_bill_total_usd_wt_p0.1',\n",
       "       'whole_community_saving_bill_total_usd_wt_p0.25',\n",
       "       'whole_community_saving_bill_total_usd_wt_p0.75',\n",
       "       'whole_community_saving_bill_total_usd_wt_p0.9',\n",
       "       'nan_all_incomes_saving_bill_total_usd_wt_p0.1',\n",
       "       'nan_all_incomes_saving_bill_total_usd_wt_p0.25',\n",
       "       'nan_all_incomes_saving_bill_total_usd_wt_p0.75',\n",
       "       'nan_all_incomes_saving_bill_total_usd_wt_p0.9',\n",
       "       'segment1_all_incomes_saving_bill_total_usd_wt_p0.1',\n",
       "       'segment1_all_incomes_saving_bill_total_usd_wt_p0.25',\n",
       "       'segment1_all_incomes_saving_bill_total_usd_wt_p0.75',\n",
       "       'segment1_all_incomes_saving_bill_total_usd_wt_p0.9',\n",
       "       'segment2_all_incomes_saving_bill_total_usd_wt_p0.1',\n",
       "       'segment2_all_incomes_saving_bill_total_usd_wt_p0.25',\n",
       "       'segment2_all_incomes_saving_bill_total_usd_wt_p0.75',\n",
       "       'segment2_all_incomes_saving_bill_total_usd_wt_p0.9',\n",
       "       'segment1_all_incomes_upgrade_cost_mean_usd',\n",
       "       'segment2_all_incomes_upgrade_cost_mean_usd',\n",
       "       'segment1_all_incomes_saving_bill_per_dollar_invested_usd',\n",
       "       'segment2_all_incomes_saving_bill_per_dollar_invested_usd',\n",
       "       'segment1_all_incomes_saving_energy_per_dollar_invested_mmbtu',\n",
       "       'segment2_all_incomes_saving_energy_per_dollar_invested_mmbtu',\n",
       "       'segment1_all_incomes_saving_emission_per_dollar_invested_kgCO2e',\n",
       "       'segment2_all_incomes_saving_emission_per_dollar_invested_kgCO2e',\n",
       "       'segment1_all_incomes_saving_bill_total_usd',\n",
       "       'segment2_all_incomes_saving_bill_total_usd',\n",
       "       'segment1_all_incomes_saving_energy_total_mmbtu',\n",
       "       'segment2_all_incomes_saving_energy_total_mmbtu',\n",
       "       'segment1_all_incomes_saving_emission_total_kgCO2e',\n",
       "       'segment2_all_incomes_saving_emission_total_kgCO2e',\n",
       "       'segment1_all_incomes_saving_bill_mean_usd',\n",
       "       'segment2_all_incomes_saving_bill_mean_usd',\n",
       "       'segment1_all_incomes_saving_energy_mean_mmbtu',\n",
       "       'segment2_all_incomes_saving_energy_mean_mmbtu',\n",
       "       'segment1_all_incomes_pct_saving_energy_mean_%',\n",
       "       'segment2_all_incomes_pct_saving_energy_mean_%',\n",
       "       'segment1_all_incomes_saving_emission_mean_kgCO2e',\n",
       "       'segment2_all_incomes_saving_emission_mean_kgCO2e',\n",
       "       'segment1_all_incomes_pct_bill_positive_savings_%',\n",
       "       'segment1_all_incomes_pct_emission_positive_savings_%',\n",
       "       'segment1_all_incomes_pct_energy_positive_savings_%',\n",
       "       'segment2_all_incomes_pct_bill_positive_savings_%',\n",
       "       'segment2_all_incomes_pct_emission_positive_savings_%',\n",
       "       'segment2_all_incomes_pct_energy_positive_savings_%',\n",
       "       'segment1_all_incomes_energy_burden_before_upgrade_%',\n",
       "       'segment1_all_incomes_energy_burden_after_upgrade_%',\n",
       "       'segment2_all_incomes_energy_burden_before_upgrade_%',\n",
       "       'segment2_all_incomes_energy_burden_after_upgrade_%',\n",
       "       'nan_0-80%AMI_saving_bill_total_usd_wt_p0.1',\n",
       "       'nan_0-80%AMI_saving_bill_total_usd_wt_p0.25',\n",
       "       'nan_0-80%AMI_saving_bill_total_usd_wt_p0.75',\n",
       "       'nan_0-80%AMI_saving_bill_total_usd_wt_p0.9',\n",
       "       'segment1_0-80%AMI_saving_bill_total_usd_wt_p0.1',\n",
       "       'segment1_0-80%AMI_saving_bill_total_usd_wt_p0.25',\n",
       "       'segment1_0-80%AMI_saving_bill_total_usd_wt_p0.75',\n",
       "       'segment1_0-80%AMI_saving_bill_total_usd_wt_p0.9',\n",
       "       'segment2_0-80%AMI_saving_bill_total_usd_wt_p0.1',\n",
       "       'segment2_0-80%AMI_saving_bill_total_usd_wt_p0.25',\n",
       "       'segment2_0-80%AMI_saving_bill_total_usd_wt_p0.75',\n",
       "       'segment2_0-80%AMI_saving_bill_total_usd_wt_p0.9',\n",
       "       'segment1_0-80%AMI_upgrade_cost_mean_usd',\n",
       "       'segment2_0-80%AMI_upgrade_cost_mean_usd',\n",
       "       'segment1_0-80%AMI_saving_bill_per_dollar_invested_usd',\n",
       "       'segment2_0-80%AMI_saving_bill_per_dollar_invested_usd',\n",
       "       'segment1_0-80%AMI_saving_energy_per_dollar_invested_mmbtu',\n",
       "       'segment2_0-80%AMI_saving_energy_per_dollar_invested_mmbtu',\n",
       "       'segment1_0-80%AMI_saving_emission_per_dollar_invested_kgCO2e',\n",
       "       'segment2_0-80%AMI_saving_emission_per_dollar_invested_kgCO2e',\n",
       "       'segment1_0-80%AMI_saving_bill_total_usd',\n",
       "       'segment2_0-80%AMI_saving_bill_total_usd',\n",
       "       'segment1_0-80%AMI_saving_energy_total_mmbtu',\n",
       "       'segment2_0-80%AMI_saving_energy_total_mmbtu',\n",
       "       'segment1_0-80%AMI_saving_emission_total_kgCO2e',\n",
       "       'segment2_0-80%AMI_saving_emission_total_kgCO2e',\n",
       "       'segment1_0-80%AMI_saving_bill_mean_usd',\n",
       "       'segment2_0-80%AMI_saving_bill_mean_usd',\n",
       "       'segment1_0-80%AMI_saving_energy_mean_mmbtu',\n",
       "       'segment2_0-80%AMI_saving_energy_mean_mmbtu',\n",
       "       'segment1_0-80%AMI_pct_saving_energy_mean_%',\n",
       "       'segment2_0-80%AMI_pct_saving_energy_mean_%',\n",
       "       'segment1_0-80%AMI_saving_emission_mean_kgCO2e',\n",
       "       'segment2_0-80%AMI_saving_emission_mean_kgCO2e',\n",
       "       'segment1_0-80%AMI_pct_bill_positive_savings_%',\n",
       "       'segment1_0-80%AMI_pct_emission_positive_savings_%',\n",
       "       'segment1_0-80%AMI_pct_energy_positive_savings_%',\n",
       "       'segment2_0-80%AMI_pct_bill_positive_savings_%',\n",
       "       'segment2_0-80%AMI_pct_emission_positive_savings_%',\n",
       "       'segment2_0-80%AMI_pct_energy_positive_savings_%',\n",
       "       'segment1_0-80%AMI_energy_burden_before_upgrade_%',\n",
       "       'segment1_0-80%AMI_energy_burden_after_upgrade_%',\n",
       "       'segment2_0-80%AMI_energy_burden_before_upgrade_%',\n",
       "       'segment2_0-80%AMI_energy_burden_after_upgrade_%'], dtype=object)"
      ]
     },
     "execution_count": 55,
     "metadata": {},
     "output_type": "execute_result"
    }
   ],
   "source": [
    "saving_results.columns.values"
   ]
  },
  {
   "cell_type": "code",
   "execution_count": 70,
   "id": "6af6dc9f",
   "metadata": {},
   "outputs": [],
   "source": [
    "rows = ['Basic Enclosure', 'Enhanced Enclosure', 'Heat Pump Water Heater', 'Mininum Efficiency Heat Pump with Electric Heat Backup']\n",
    "saving_results.loc[rows, ['whole_community_saving_bill_total_usd', 'whole_community_saving_emission_total_kgCO2e']].to_clipboard()"
   ]
  },
  {
   "cell_type": "code",
   "execution_count": null,
   "id": "a130b214",
   "metadata": {},
   "outputs": [],
   "source": []
  }
 ],
 "metadata": {
  "kernelspec": {
   "display_name": "Python 3 (ipykernel)",
   "language": "python",
   "name": "python3"
  },
  "language_info": {
   "codemirror_mode": {
    "name": "ipython",
    "version": 3
   },
   "file_extension": ".py",
   "mimetype": "text/x-python",
   "name": "python",
   "nbconvert_exporter": "python",
   "pygments_lexer": "ipython3",
   "version": "3.11.4"
  }
 },
 "nbformat": 4,
 "nbformat_minor": 5
}
