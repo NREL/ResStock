{
 "cells": [
  {
   "cell_type": "code",
   "execution_count": 1,
   "id": "db22b178",
   "metadata": {},
   "outputs": [],
   "source": [
    "import plotly.graph_objects as go\n",
    "from plotly.subplots import make_subplots\n",
    "import plotly.express as px\n",
    "import pandas as pd\n",
    "import numpy as np\n",
    "from pathlib import Path"
   ]
  },
  {
   "cell_type": "markdown",
   "id": "4d6ffd8b",
   "metadata": {},
   "source": [
    "# Functions"
   ]
  },
  {
   "cell_type": "code",
   "execution_count": 2,
   "id": "37898dad",
   "metadata": {},
   "outputs": [],
   "source": [
    "def weighted_mean(x, metric: str):\n",
    "    if len(x[metric].dropna()) == 0:\n",
    "        res = 0\n",
    "    else:\n",
    "        res = (x[metric] * x[\"sample_weight\"]).sum()/x[\"sample_weight\"].sum()\n",
    "    col_name = f\"{metric} wt_mean\"\n",
    "    return pd.Series({col_name: res})\n",
    "\n",
    "def weighted_percentile(x, metric: str, percents: int):\n",
    "    col_name = f\"{metric} wt_p{percents}\"\n",
    "    res = _weighted_percentile(x[metric], percents, weights=x[\"sample_weight\"])\n",
    "    return pd.Series({col_name: res})\n",
    "\n",
    "def _weighted_percentile(data, percents: int, weights=None):\n",
    "    \"\"\"\n",
    "    perc : percentile in 0 - 1\n",
    "    \"\"\"\n",
    "    # dropna\n",
    "    idx = ~np.isnan(data) & ~np.isnan(weights)\n",
    "    data = np.array(data)[idx]\n",
    "    if len(data) == 0:\n",
    "        return np.nan\n",
    "    if weights is None:\n",
    "        return np.percentile(data, percents)\n",
    "    weights = np.array(weights)[idx]\n",
    "    ix = np.argsort(data)\n",
    "    data = data[ix] # sort data\n",
    "    weights = weights[ix] # sort weights\n",
    "    cdf = (np.cumsum(weights) - 0.5 * weights) / np.sum(weights) # 'like' a CDF function\n",
    "    return np.interp(percents, cdf, data)\n",
    "\n",
    "def get_summary(df, metric, lower_percentile=0.10, middle_percentile1=0.25, middle_percentile2=0.75, upper_percentile=0.90):\n",
    "    dfgb = df.groupby([\"upgrade_name\"])\n",
    "    dfs = pd.concat([\n",
    "        dfgb[\"sample_weight\"].count().rename(\"n_samples\"),\n",
    "        dfgb[\"sample_weight\"].sum().rename(\"n_represented\"),\n",
    "        dfgb.apply(lambda x: weighted_mean(x, metric)),\n",
    "        dfgb.apply(lambda x: weighted_percentile(x, metric, percents=lower_percentile)),\n",
    "        dfgb.apply(lambda x: weighted_percentile(x, metric, percents=middle_percentile1)),\n",
    "        dfgb.apply(lambda x: weighted_percentile(x, metric, percents=middle_percentile2)),\n",
    "        dfgb.apply(lambda x: weighted_percentile(x, metric, percents=upper_percentile)),\n",
    "    ], axis=1)\n",
    "    dfs = dfs.sort_values(by=f\"{metric} wt_mean\", ascending=False)\n",
    "\n",
    "    return dfs"
   ]
  },
  {
   "cell_type": "markdown",
   "id": "e2c92a98",
   "metadata": {},
   "source": [
    "## Whole Community Upgrade Cost Per Dwelling Unit"
   ]
  },
  {
   "cell_type": "code",
   "execution_count": 3,
   "id": "db8bfb6a",
   "metadata": {},
   "outputs": [],
   "source": [
    "def community_mean_upgrade_cost(commnity_results):\n",
    "    results = commnity_results[['upgrade_name',\n",
    "                       'upgrade_cost_usd',\n",
    "                                'sample_weight']]\n",
    "    results = results.loc[results['upgrade_name'] != 'baseline']\n",
    "    results['upgrade_cost_usd'] = results['upgrade_cost_usd']*results['sample_weight']\n",
    "    \n",
    "    agg_functions = {'upgrade_name': 'first',\n",
    "                     'upgrade_cost_usd': 'sum',\n",
    "                    'sample_weight': 'sum'}\n",
    "    results = results.groupby(results['upgrade_name']).aggregate(agg_functions)\n",
    "    results['upgrade_cost_usd'] = results['upgrade_cost_usd']/results['sample_weight']\n",
    "    results = results.sort_values('upgrade_cost_usd')\n",
    "    results['upgrade_cost_usd'] = results['upgrade_cost_usd'].round(1) \n",
    "    \n",
    "    print('upgrade_cost_usd per dwelling unit')\n",
    "    display(results['upgrade_cost_usd'])\n",
    "    return results['upgrade_cost_usd']"
   ]
  },
  {
   "cell_type": "markdown",
   "id": "0a8130e7",
   "metadata": {},
   "source": [
    "## Whole Community Total Annual Savings"
   ]
  },
  {
   "cell_type": "code",
   "execution_count": 4,
   "id": "eaa95d01",
   "metadata": {},
   "outputs": [],
   "source": [
    "# flavor 1 - with electricity and non-electricity split\n",
    "def figure_total_savings_1(commnity_results):\n",
    "    results = commnity_results[['upgrade_name',\n",
    "                       'saving_energy.electricity_kwh',\n",
    "                      'saving_energy.natural_gas_therm',\n",
    "                                'saving_energy.fuel_oil_mmbtu',\n",
    "                                'saving_energy.propane_mmbtu',\n",
    "                       'saving_cbill.total_usd',\n",
    "                       'saving_emission.total_kgCO2e',\n",
    "                                'sample_weight']]\n",
    "    results = results.loc[results['upgrade_name'] != 'baseline']\n",
    "    results['saving_energy.natural_gas_fuel_oil_propane_mmbtu'] = results['saving_energy.natural_gas_therm']*0.1 + results['saving_energy.fuel_oil_mmbtu']+ results['saving_energy.propane_mmbtu']\n",
    "    results['saving_energy.electricity_kwh'] = results['saving_energy.electricity_kwh']*results['sample_weight']\n",
    "    results['saving_energy.natural_gas_fuel_oil_propane_mmbtu'] = results['saving_energy.natural_gas_fuel_oil_propane_mmbtu']*results['sample_weight']\n",
    "    results['saving_cbill.total_usd'] = results['saving_cbill.total_usd']*results['sample_weight']\n",
    "    results['saving_emission.total_kgCO2e'] = results['saving_emission.total_kgCO2e']*results['sample_weight']\n",
    "    \n",
    "    agg_functions = {'upgrade_name': 'first',\n",
    "                     'saving_energy.electricity_kwh': 'sum',\n",
    "                     'saving_energy.natural_gas_fuel_oil_propane_mmbtu': 'sum', \n",
    "                     'saving_cbill.total_usd': 'sum',\n",
    "                     'saving_emission.total_kgCO2e': 'sum'}\n",
    "    results = results.groupby(results['upgrade_name']).aggregate(agg_functions)\n",
    "    results = results.sort_values('saving_cbill.total_usd')\n",
    "    \n",
    "    fig = make_subplots(rows=1, cols=5, horizontal_spacing=0.12, column_widths=[0.001, 1, 1, 1, 1])\n",
    "    \n",
    "    fig.add_trace(go.Bar(\n",
    "        x=[0] * 176,\n",
    "        y=results['upgrade_name'],\n",
    "        text=None,\n",
    "        orientation='h'), row=1, col=1)\n",
    "    \n",
    "    fig.add_trace(go.Bar(\n",
    "        x=results['saving_cbill.total_usd'],\n",
    "        y=results['upgrade_name'],\n",
    "        text=results['saving_cbill.total_usd'],\n",
    "        orientation='h'), row=1, col=2)\n",
    "    \n",
    "    fig.add_trace(go.Bar(\n",
    "        x=results['saving_emission.total_kgCO2e'],\n",
    "        y=results['upgrade_name'],\n",
    "        text=results['saving_emission.total_kgCO2e'],\n",
    "        orientation='h'),row=1, col=3)\n",
    "    \n",
    "    fig.add_trace(go.Bar(\n",
    "        x=results['saving_energy.electricity_kwh'],\n",
    "        y=results['upgrade_name'],\n",
    "        text=results['saving_energy.electricity_kwh'],\n",
    "        orientation='h'),row=1, col=4)\n",
    "    \n",
    "    fig.add_trace(go.Bar(\n",
    "        x=results['saving_energy.natural_gas_fuel_oil_propane_mmbtu'],\n",
    "        y=results['upgrade_name'],\n",
    "        text=results['saving_energy.natural_gas_fuel_oil_propane_mmbtu'],\n",
    "        orientation='h'),row=1, col=5)\n",
    "\n",
    "    fig.update_traces(textfont_size=10, textangle=0, textposition=\"outside\", cliponaxis=False)\n",
    "    fig.update_traces(marker_color='rgb(0, 121, 61)', marker_line_color='rgb(0, 121, 61)')\n",
    "    fig.update_traces(marker_color='rgb(255, 255, 255)', marker_line_color='rgb(255, 255, 255)',row=1,col=1)\n",
    "    fig.update_traces(texttemplate='%{text:.3s}', textposition='outside',row=1,col=2)\n",
    "    fig.update_traces(texttemplate='%{text:.3s}', textposition='outside',row=1,col=3)\n",
    "    fig.update_traces(texttemplate='%{text:.3s}', textposition='outside',row=1,col=4)\n",
    "    fig.update_traces(texttemplate='%{text:.3s}', textposition='outside',row=1,col=5)\n",
    "    fig.update_layout(xaxis_title=\"\", xaxis_visible=False, yaxis_visible=True,\n",
    "                      xaxis2_title=\"Bill<br>Savings<br>usd\", xaxis2_visible=True, yaxis2_visible=False,\n",
    "                      xaxis3_title=\"Emission<br>Savings<br>kgCO2e\", xaxis3_visible=True, yaxis3_visible=False,\n",
    "                      xaxis4_title=\"Electricity<br>Savings<br>kwh\", xaxis4_visible=True, yaxis4_visible=False,\n",
    "                      xaxis5_title=\"Gas, Propane,<br>Fuel Oil Savings<br>MMBtu\", xaxis5_visible=True, yaxis5_visible=False,\n",
    "                     title='Total Annual Savings for the Whole Community')\n",
    "    fig.update_layout(\n",
    "    autosize=False,\n",
    "    width=900,\n",
    "    height=500,\n",
    "    font=dict(size=10),\n",
    "    plot_bgcolor='rgba(0, 0, 0, 0)',)\n",
    "    fig.update_xaxes(tickangle=45)\n",
    "    fig.update_layout(showlegend=False)\n",
    "    \n",
    "    fig.show()\n",
    "    fig.write_image(fig_dir / 'total_annual_savings_1.svg')    \n",
    "\n",
    "# flavor 2 - site, electricity, and non-electricity\n",
    "def figure_total_savings_2(commnity_results):\n",
    "    results = commnity_results[[\n",
    "        'upgrade_name',\n",
    "        'saving_energy.total_mmbtu',\n",
    "        'saving_energy.electricity_kwh',\n",
    "        'saving_energy.natural_gas_therm',\n",
    "        'saving_energy.fuel_oil_mmbtu',\n",
    "        'saving_energy.propane_mmbtu',\n",
    "        'saving_cbill.total_usd',\n",
    "        'saving_emission.total_kgCO2e',\n",
    "        'sample_weight']]\n",
    "    results = results.loc[results['upgrade_name'] != 'baseline']\n",
    "    results['saving_energy.natural_gas_fuel_oil_propane_mmbtu'] = results['saving_energy.natural_gas_therm']*0.1 + results['saving_energy.fuel_oil_mmbtu']+ results['saving_energy.propane_mmbtu']\n",
    "    results['saving_energy.electricity_kwh'] = results['saving_energy.electricity_kwh']*results['sample_weight']\n",
    "    results['saving_energy.natural_gas_fuel_oil_propane_mmbtu'] = results['saving_energy.natural_gas_fuel_oil_propane_mmbtu']*results['sample_weight']\n",
    "    results['saving_cbill.total_usd'] = results['saving_cbill.total_usd']*results['sample_weight']\n",
    "    results['saving_emission.total_kgCO2e'] = results['saving_emission.total_kgCO2e']*results['sample_weight']\n",
    "    results['saving_energy.total_mmbtu'] = results['saving_energy.total_mmbtu']*results['sample_weight']\n",
    "    \n",
    "    agg_functions = {'upgrade_name': 'first',\n",
    "                     'saving_energy.electricity_kwh': 'sum',\n",
    "                     'saving_energy.natural_gas_fuel_oil_propane_mmbtu': 'sum', \n",
    "                      'saving_energy.total_mmbtu': 'sum', \n",
    "                     'saving_cbill.total_usd': 'sum',\n",
    "                     'saving_emission.total_kgCO2e': 'sum'}\n",
    "    results = results.groupby(results['upgrade_name']).aggregate(agg_functions)\n",
    "    results = results.sort_values('saving_cbill.total_usd')\n",
    "    \n",
    "    fig = make_subplots(rows=1, cols=6, horizontal_spacing=0.12, column_widths=[0.001, 1, 1, 1, 1, 1])\n",
    "    \n",
    "    fig.add_trace(go.Bar(\n",
    "        x=[0] * 176,\n",
    "        y=results['upgrade_name'],\n",
    "        text=None,\n",
    "        orientation='h'), row=1, col=1)\n",
    "    \n",
    "    fig.add_trace(go.Bar(\n",
    "        x=results['saving_cbill.total_usd'],\n",
    "        y=results['upgrade_name'],\n",
    "        text=results['saving_cbill.total_usd'],\n",
    "        orientation='h'), row=1, col=2)\n",
    "    \n",
    "    fig.add_trace(go.Bar(\n",
    "        x=results['saving_emission.total_kgCO2e'],\n",
    "        y=results['upgrade_name'],\n",
    "        text=results['saving_emission.total_kgCO2e'],\n",
    "        orientation='h'),row=1, col=3)\n",
    "\n",
    "    fig.add_trace(go.Bar(\n",
    "        x=results['saving_energy.total_mmbtu'],\n",
    "        y=results['upgrade_name'],\n",
    "        text=results['saving_energy.total_mmbtu'],\n",
    "        orientation='h'),row=1, col=4)\n",
    "    \n",
    "    fig.add_trace(go.Bar(\n",
    "        x=results['saving_energy.electricity_kwh'],\n",
    "        y=results['upgrade_name'],\n",
    "        text=results['saving_energy.electricity_kwh'],\n",
    "        orientation='h'),row=1, col=5)\n",
    "    \n",
    "    fig.add_trace(go.Bar(\n",
    "        x=results['saving_energy.natural_gas_fuel_oil_propane_mmbtu'],\n",
    "        y=results['upgrade_name'],\n",
    "        text=results['saving_energy.natural_gas_fuel_oil_propane_mmbtu'],\n",
    "        orientation='h'),row=1, col=6)\n",
    "\n",
    "    fig.update_traces(textfont_size=10, textangle=0, textposition=\"outside\", cliponaxis=False)\n",
    "    fig.update_traces(marker_color='rgb(0, 121, 61)', marker_line_color='rgb(0, 121, 61)')\n",
    "    fig.update_traces(marker_color='rgb(255, 255, 255)', marker_line_color='rgb(255, 255, 255)',row=1,col=1)\n",
    "    fig.update_traces(texttemplate='%{text:.3s}', textposition='outside',row=1,col=2)\n",
    "    fig.update_traces(texttemplate='%{text:.3s}', textposition='outside',row=1,col=3)\n",
    "    fig.update_traces(texttemplate='%{text:.3s}', textposition='outside',row=1,col=4)\n",
    "    fig.update_traces(texttemplate='%{text:.3s}', textposition='outside',row=1,col=5)\n",
    "    fig.update_traces(texttemplate='%{text:.3s}', textposition='outside',row=1,col=6)\n",
    "    fig.update_layout(xaxis_title=\"\", xaxis_visible=False, yaxis_visible=True,\n",
    "                      xaxis2_title=\"Bill<br>Savings<br>usd\", xaxis2_visible=True, yaxis2_visible=False,\n",
    "                      xaxis3_title=\"Site Emission<br>Saving<br>kgCO2e\", xaxis3_visible=True, yaxis3_visible=False,\n",
    "                      xaxis4_title=\"Site Energy<br>Saving<br>MMBtu\", xaxis4_visible=True, yaxis4_visible=False,\n",
    "                      xaxis5_title=\"Electricity<br>Saving<br>kwh\", xaxis5_visible=True, yaxis5_visible=False,\n",
    "                      xaxis6_title=\"Gas, Propane,<br>Fuel Oil Saving<br>MMBtu\", xaxis6_visible=True, yaxis6_visible=False,\n",
    "                     title='Community Total Annual Savings')\n",
    "    fig.update_layout(\n",
    "    autosize=False,\n",
    "    width=1100,\n",
    "    height=500,\n",
    "    font=dict(size=10),\n",
    "    plot_bgcolor='rgba(0, 0, 0, 0)',)\n",
    "    fig.update_xaxes(tickangle=45)\n",
    "    fig.update_layout(showlegend=False)\n",
    "    \n",
    "    fig.show()\n",
    "    fig.write_image(fig_dir / 'total_annual_savings.svg')\n",
    "    \n",
    "    return results[['saving_cbill.total_usd','saving_emission.total_kgCO2e','saving_energy.total_mmbtu','saving_energy.electricity_kwh','saving_energy.natural_gas_fuel_oil_propane_mmbtu']]\n",
    "\n",
    "# flavor 3 - site energy only\n",
    "def figure_total_savings_3(commnity_results):\n",
    "    results = commnity_results[[\n",
    "        'upgrade_name',\n",
    "        'saving_energy.total_mmbtu',\n",
    "        'saving_cbill.total_usd',\n",
    "        'saving_emission.total_kgCO2e',\n",
    "        'sample_weight']]\n",
    "    results = results.loc[results['upgrade_name'] != 'baseline']\n",
    "    results['saving_energy.total_mmbtu'] = results['saving_energy.total_mmbtu']*results['sample_weight']\n",
    "    results['saving_cbill.total_usd'] = results['saving_cbill.total_usd']*results['sample_weight']\n",
    "    results['saving_emission.total_kgCO2e'] = results['saving_emission.total_kgCO2e']*results['sample_weight']\n",
    "    \n",
    "    agg_functions = {'upgrade_name': 'first',\n",
    "                     'saving_energy.total_mmbtu': 'sum', \n",
    "                     'saving_cbill.total_usd': 'sum',\n",
    "                     'saving_emission.total_kgCO2e': 'sum'}\n",
    "    results = results.groupby(results['upgrade_name']).aggregate(agg_functions)\n",
    "    results = results.sort_values('saving_cbill.total_usd')\n",
    "    \n",
    "    fig = make_subplots(rows=1, cols=4, horizontal_spacing=0.1, column_widths=[0.02, 1, 1, 1])\n",
    "    \n",
    "    fig.add_trace(go.Bar(\n",
    "        x=[0] * 176,\n",
    "        y=results['upgrade_name'],\n",
    "        text=None,\n",
    "        orientation='h'), row=1, col=1)\n",
    "    \n",
    "    fig.add_trace(go.Bar(\n",
    "        x=results['saving_cbill.total_usd'],\n",
    "        y=results['upgrade_name'],\n",
    "        text=results['saving_cbill.total_usd'],\n",
    "        orientation='h'), row=1, col=2)\n",
    "    \n",
    "    fig.add_trace(go.Bar(\n",
    "        x=results['saving_emission.total_kgCO2e'],\n",
    "        y=results['upgrade_name'],\n",
    "        text=results['saving_emission.total_kgCO2e'],\n",
    "        orientation='h'),row=1, col=3)\n",
    "    \n",
    "    fig.add_trace(go.Bar(\n",
    "        x=results['saving_energy.total_mmbtu'],\n",
    "        y=results['upgrade_name'],\n",
    "        text=results['saving_energy.total_mmbtu'],\n",
    "        orientation='h'),row=1, col=4)\n",
    "\n",
    "    fig.update_traces(textfont_size=10, textangle=0, textposition=\"outside\", cliponaxis=False)\n",
    "    fig.update_traces(marker_color='rgb(0, 121, 61)', marker_line_color='rgb(0, 121, 61)')\n",
    "    fig.update_traces(marker_color='rgb(255, 255, 255)', marker_line_color='rgb(255, 255, 255)',row=1,col=1)\n",
    "    fig.update_traces(texttemplate='%{text:.3s}', textposition='outside',row=1,col=2)\n",
    "    fig.update_traces(texttemplate='%{text:.3s}', textposition='outside',row=1,col=3)\n",
    "    fig.update_traces(texttemplate='%{text:.3s}', textposition='outside',row=1,col=4)\n",
    "    fig.update_layout(xaxis_title=\"\", xaxis_visible=False, yaxis_visible=True,\n",
    "                      xaxis2_title=\"Bill Savings<br>usd\", xaxis2_visible=True, yaxis2_visible=False,\n",
    "                      xaxis3_title=\"Emission Savings<br>kgCO2e\", xaxis3_visible=True, yaxis3_visible=False,\n",
    "                      xaxis4_title=\"Energy Savings<br>MMBtu\", xaxis4_visible=True, yaxis4_visible=False,\n",
    "                     title='Total Annual Savings for the Whole Community')\n",
    "    fig.update_layout(\n",
    "    autosize=False,\n",
    "    width=850,\n",
    "    height=500,\n",
    "    font=dict(size=10),\n",
    "    plot_bgcolor='rgba(0, 0, 0, 0)',)\n",
    "    fig.update_xaxes(tickangle=45)\n",
    "    fig.update_layout(showlegend=False)\n",
    "    \n",
    "    fig.show()\n",
    "    fig.write_image(fig_dir / 'total_annual_savings_3.svg')"
   ]
  },
  {
   "cell_type": "markdown",
   "id": "5e598a0f",
   "metadata": {},
   "source": [
    "## Whole Community Annual Savings Per Dewlling Unit"
   ]
  },
  {
   "cell_type": "code",
   "execution_count": 5,
   "id": "7df58f8e",
   "metadata": {},
   "outputs": [],
   "source": [
    "def figure_mean_savings(commnity_results):\n",
    "    results = commnity_results[['upgrade_name',\n",
    "                       'saving_energy.total_mmbtu',\n",
    "                       'saving_cbill.total_usd',\n",
    "                       'saving_emission.total_kgCO2e',\n",
    "                                'sample_weight']]\n",
    "    results = results.loc[results['upgrade_name'] != 'baseline']\n",
    "    results['saving_energy.total_mmbtu'] = results['saving_energy.total_mmbtu']*results['sample_weight']\n",
    "    results['saving_cbill.total_usd'] = results['saving_cbill.total_usd']*results['sample_weight']\n",
    "    results['saving_emission.total_kgCO2e'] = results['saving_emission.total_kgCO2e']*results['sample_weight']\n",
    "    \n",
    "    agg_functions = {'upgrade_name': 'first',\n",
    "                     'saving_energy.total_mmbtu': 'sum', \n",
    "                     'saving_cbill.total_usd': 'sum',\n",
    "                     'saving_emission.total_kgCO2e': 'sum',\n",
    "                    'sample_weight': 'sum'}\n",
    "    results = results.groupby(results['upgrade_name']).aggregate(agg_functions)\n",
    "    results['saving_energy.total_mmbtu'] = results['saving_energy.total_mmbtu']/results['sample_weight']\n",
    "    results['saving_cbill.total_usd'] = results['saving_cbill.total_usd']/results['sample_weight']\n",
    "    results['saving_emission.total_kgCO2e'] = results['saving_emission.total_kgCO2e']/results['sample_weight']\n",
    "    results = results.sort_values('saving_cbill.total_usd')\n",
    "    \n",
    "    print('sample_weight')\n",
    "    display(results['sample_weight'])\n",
    "  \n",
    "    fig = make_subplots(rows=1, cols=4, horizontal_spacing=0.1, column_widths=[0.02, 1, 1, 1])\n",
    "    \n",
    "    fig.add_trace(go.Bar(\n",
    "        x=[0] * 176,\n",
    "        y=results['upgrade_name'],\n",
    "        text=None,\n",
    "        orientation='h'), row=1, col=1)\n",
    "    \n",
    "    fig.add_trace(go.Bar(\n",
    "        x=results['saving_cbill.total_usd'],\n",
    "        y=results['upgrade_name'],\n",
    "        text=results['saving_cbill.total_usd'],\n",
    "        orientation='h'), row=1, col=2)\n",
    "    \n",
    "    fig.add_trace(go.Bar(\n",
    "        x=results['saving_emission.total_kgCO2e'],\n",
    "        y=results['upgrade_name'],\n",
    "        text=results['saving_emission.total_kgCO2e'],\n",
    "        orientation='h'),row=1, col=3)\n",
    "    \n",
    "    fig.add_trace(go.Bar(\n",
    "        x=results['saving_energy.total_mmbtu'],\n",
    "        y=results['upgrade_name'],\n",
    "        text=results['saving_energy.total_mmbtu'],\n",
    "        orientation='h'),row=1, col=4)\n",
    "\n",
    "    fig.update_traces(textfont_size=10, textangle=0, textposition=\"outside\", cliponaxis=False)\n",
    "    fig.update_traces(marker_color='rgb(0, 121, 61)', marker_line_color='rgb(0, 121, 61)')\n",
    "    fig.update_traces(marker_color='rgb(255, 255, 255)', marker_line_color='rgb(255, 255, 255)',row=1,col=1)\n",
    "    fig.update_traces(texttemplate='%{text:.3s}', textposition='outside',row=1,col=2)\n",
    "    fig.update_traces(texttemplate='%{text:.3s}', textposition='outside',row=1,col=3)\n",
    "    fig.update_traces(texttemplate='%{text:.3s}', textposition='outside',row=1,col=4)\n",
    "    fig.update_layout(xaxis_title=\"\", xaxis_visible=False, yaxis_visible=True,\n",
    "                      xaxis2_title=\"Bill Savings<br>usd\", xaxis2_visible=True, yaxis2_visible=False,\n",
    "                      xaxis3_title=\"Emission Savings<br>kgCO2e\", xaxis3_visible=True, yaxis3_visible=False,\n",
    "                      xaxis4_title=\"Energy Savings<br>MMBtu\", xaxis4_visible=True, yaxis4_visible=False,\n",
    "                     title='Annual Savings Per Dwelling Unit')\n",
    "    fig.update_layout(\n",
    "    autosize=False,\n",
    "    width=850,\n",
    "    height=500,\n",
    "    font=dict(size=10),\n",
    "    plot_bgcolor='rgba(0, 0, 0, 0)',)\n",
    "    fig.update_xaxes(tickangle=45)\n",
    "    fig.update_layout(showlegend=False)\n",
    "    \n",
    "    fig.show()\n",
    "    fig.write_image(fig_dir / 'annual_saving_per_dwelling_unit.svg')\n",
    "    \n",
    "    return results[['saving_cbill.total_usd','saving_emission.total_kgCO2e','saving_energy.total_mmbtu']]"
   ]
  },
  {
   "cell_type": "markdown",
   "id": "629953b2",
   "metadata": {},
   "source": [
    "## Segment Upgrade Cost Per Dwelling Unit"
   ]
  },
  {
   "cell_type": "code",
   "execution_count": 6,
   "id": "b17b036c",
   "metadata": {},
   "outputs": [],
   "source": [
    "def segment_mean_upgrade_cost(commnity_results):\n",
    "    results = commnity_results[['upgrade_name',\n",
    "                       'upgrade_cost_usd',\n",
    "                                'sample_weight',\n",
    "                                'segment']]\n",
    "    results = results.loc[results['upgrade_name'] != 'baseline']\n",
    "    results['upgrade_cost_usd'] = results['upgrade_cost_usd']*results['sample_weight']\n",
    "    \n",
    "    segment1 = results.loc[results['segment'] == 'segment1']\n",
    "    segment2 = results.loc[results['segment'] == 'segment2']\n",
    "    \n",
    "    agg_functions = {'upgrade_name': 'first',\n",
    "                     'segment': 'first',\n",
    "                     'upgrade_cost_usd': 'sum',\n",
    "                    'sample_weight': 'sum'}\n",
    "    \n",
    "    segment1 = segment1.groupby(segment1['upgrade_name']).aggregate(agg_functions)\n",
    "    segment2 = segment2.groupby(segment2['upgrade_name']).aggregate(agg_functions)\n",
    "    \n",
    "    segment1['upgrade_cost_usd'] = segment1['upgrade_cost_usd']/segment1['sample_weight']\n",
    "    segment2['upgrade_cost_usd'] = segment2['upgrade_cost_usd']/segment2['sample_weight']\n",
    "    \n",
    "    segment1 = segment1.sort_values('upgrade_cost_usd')\n",
    "    segment2 = segment2.sort_values('upgrade_cost_usd')\n",
    "    \n",
    "    segment1['upgrade_cost_usd'] = segment1['upgrade_cost_usd'].round(1)\n",
    "    segment2['upgrade_cost_usd'] = segment2['upgrade_cost_usd'].round(1)\n",
    "    \n",
    "    print('segment1: upgrade cost (usd) per dwelling unit')\n",
    "    display(segment1['upgrade_cost_usd'])\n",
    "    print('segment2: upgrade cost (usd) per dwelling unit')\n",
    "    display(segment2['upgrade_cost_usd'])\n",
    "    \n",
    "    return (segment1['upgrade_cost_usd'], segment2['upgrade_cost_usd'])"
   ]
  },
  {
   "cell_type": "markdown",
   "id": "2233e9eb",
   "metadata": {},
   "source": [
    "## Segment Savings Per Dollar Invested"
   ]
  },
  {
   "cell_type": "code",
   "execution_count": 7,
   "id": "b63f0b29",
   "metadata": {},
   "outputs": [],
   "source": [
    "def segment_savings_per_dollar(indicator, commnity_results):\n",
    "    \n",
    "    results = commnity_results[['upgrade_name', indicator, 'upgrade_cost_usd', 'sample_weight', 'segment']]\n",
    "    results = results.loc[results['upgrade_name'] != 'baseline']\n",
    "    results[indicator] = results[indicator]*results['sample_weight']\n",
    "    results['upgrade_cost_usd'] = results['upgrade_cost_usd']*results['sample_weight']\n",
    "    \n",
    "    segment1 = results.loc[results['segment'] == 'segment1']\n",
    "    segment2 = results.loc[results['segment'] == 'segment2']\n",
    "    \n",
    "    agg_functions = {'upgrade_name': 'first',\n",
    "                     indicator: 'sum',\n",
    "                     'upgrade_cost_usd': 'sum',\n",
    "                     'sample_weight': 'sum'}\n",
    "    \n",
    "    segment1_agg = segment1.groupby(segment1['upgrade_name']).aggregate(agg_functions)\n",
    "    segment2_agg = segment2.groupby(segment2['upgrade_name']).aggregate(agg_functions)\n",
    "    \n",
    "    segment1_agg[indicator] = segment1_agg[indicator]/segment1_agg['upgrade_cost_usd']\n",
    "    segment2_agg[indicator] = segment2_agg[indicator]/segment2_agg['upgrade_cost_usd']\n",
    "    \n",
    "    segment1_agg = segment1_agg.sort_values([indicator], ascending=False)\n",
    "    segment2_agg = segment2_agg.sort_values([indicator], ascending=False)\n",
    "    \n",
    "    segment1_agg[indicator] = segment1_agg[indicator].round(5)\n",
    "    segment2_agg[indicator] = segment2_agg[indicator].round(5)\n",
    "    \n",
    "    print('segment1')\n",
    "    display(segment1_agg[indicator])\n",
    "    print('segment2')\n",
    "    display(segment2_agg[indicator])\n",
    "    \n",
    "    return (segment1_agg[indicator],segment2_agg[indicator])"
   ]
  },
  {
   "cell_type": "markdown",
   "id": "4578ff09",
   "metadata": {},
   "source": [
    "## Segment Annual Total Savings"
   ]
  },
  {
   "cell_type": "code",
   "execution_count": 8,
   "id": "f1de1889",
   "metadata": {},
   "outputs": [],
   "source": [
    "def segment_annual_total_savings(indicator, commnity_results):\n",
    "    \n",
    "    results = commnity_results[['upgrade_name', indicator, 'sample_weight', 'segment']]\n",
    "    results = results.loc[results['upgrade_name'] != 'baseline']\n",
    "    results[indicator] = results[indicator]*results['sample_weight']\n",
    "    \n",
    "    segment1 = results.loc[results['segment'] == 'segment1']\n",
    "    segment2 = results.loc[results['segment'] == 'segment2']\n",
    "    \n",
    "    agg_functions = {'upgrade_name': 'first',\n",
    "                     indicator: 'sum',\n",
    "                    'sample_weight': 'sum'}\n",
    "    \n",
    "    segment1_agg = segment1.groupby(segment1['upgrade_name']).aggregate(agg_functions)\n",
    "    segment2_agg = segment2.groupby(segment2['upgrade_name']).aggregate(agg_functions)\n",
    "    \n",
    "    segment1_agg = segment1_agg.sort_values([indicator], ascending=False)\n",
    "    segment2_agg = segment2_agg.sort_values([indicator], ascending=False)\n",
    "    \n",
    "    segment1_agg[indicator] = segment1_agg[indicator].round(1)\n",
    "    segment2_agg[indicator] = segment2_agg[indicator].round(1)\n",
    "\n",
    "    print('segment1')\n",
    "    display(segment1_agg[indicator])\n",
    "    print('segment2')\n",
    "    display(segment2_agg[indicator])\n",
    "    \n",
    "    return (segment1_agg[indicator],segment2_agg[indicator])"
   ]
  },
  {
   "cell_type": "markdown",
   "id": "102d90f1",
   "metadata": {},
   "source": [
    "## Segment Annual Savings Per Dwelling Unit"
   ]
  },
  {
   "cell_type": "code",
   "execution_count": 9,
   "id": "6b74793b",
   "metadata": {},
   "outputs": [],
   "source": [
    "def segment_mean_savings(indicator, commnity_results):\n",
    "    \n",
    "    results = commnity_results[['upgrade_name', indicator, 'sample_weight', 'segment']]\n",
    "    results = results.loc[results['upgrade_name'] != 'baseline']\n",
    "    results[indicator] = results[indicator]*results['sample_weight']\n",
    "    \n",
    "    segment1 = results.loc[results['segment'] == 'segment1']\n",
    "    segment2 = results.loc[results['segment'] == 'segment2']\n",
    "    \n",
    "    agg_functions = {'upgrade_name': 'first',\n",
    "                     indicator: 'sum',\n",
    "                    'sample_weight': 'sum'}\n",
    "    \n",
    "    segment1_agg = segment1.groupby(segment1['upgrade_name']).aggregate(agg_functions)\n",
    "    segment2_agg = segment2.groupby(segment2['upgrade_name']).aggregate(agg_functions)\n",
    "    \n",
    "    segment1_agg[indicator] = segment1_agg[indicator]/segment1_agg['sample_weight']\n",
    "    segment2_agg[indicator] = segment2_agg[indicator]/segment2_agg['sample_weight']\n",
    "    \n",
    "    segment1_agg = segment1_agg.sort_values([indicator], ascending=False)\n",
    "    segment2_agg = segment2_agg.sort_values([indicator], ascending=False)\n",
    "    \n",
    "    segment1_agg[indicator] = segment1_agg[indicator].round(1)\n",
    "    segment2_agg[indicator] = segment2_agg[indicator].round(1)\n",
    "    \n",
    "    print('segment1')\n",
    "    display(segment1_agg[indicator])\n",
    "    print('segment2')\n",
    "    display(segment2_agg[indicator])\n",
    "    \n",
    "    return (segment1_agg[indicator],segment2_agg[indicator])"
   ]
  },
  {
   "cell_type": "markdown",
   "id": "4e3a051b",
   "metadata": {},
   "source": [
    "## Segment Percent Stock with Net Positive Savings"
   ]
  },
  {
   "cell_type": "code",
   "execution_count": 10,
   "id": "862cf0d7",
   "metadata": {},
   "outputs": [],
   "source": [
    "def figure_positive_negative_savings(segment, income, commnity_results):\n",
    "    results = commnity_results[['upgrade_name',\n",
    "                                  'saving_energy.total_mmbtu',\n",
    "                                  'saving_cbill.total_usd',\n",
    "                                  'saving_emission.total_kgCO2e',\n",
    "                                'sample_weight',\n",
    "                               'segment']]\n",
    "    results = results.loc[results['upgrade_name'] != 'baseline']\n",
    "    results = results.loc[results['segment'] == segment]\n",
    "    results = results.groupby(results['upgrade_name'])\n",
    "  \n",
    "    def pos(col): \n",
    "      return col[col > 0].count()\n",
    "  \n",
    "    def neg(col): \n",
    "      return col[col < 0].count() \n",
    "\n",
    "    percentage = pd.DataFrame()\n",
    "\n",
    "    bill = results['saving_cbill.total_usd'].agg([('negative_values', neg),('positive_values', pos)])\n",
    "    emission = results['saving_emission.total_kgCO2e'].agg([('negative_values', neg),('positive_values', pos)])\n",
    "    energy = results['saving_energy.total_mmbtu'].agg([('negative_values', neg),('positive_values', pos)])\n",
    "    \n",
    "    percentage ['cbill_n'] = bill['negative_values']/(bill['negative_values']+bill['positive_values'])\n",
    "    percentage ['cbill_p'] = bill['positive_values']/(bill['negative_values']+bill['positive_values'])\n",
    "    percentage ['emission_n'] = emission['negative_values']/(emission['negative_values']+emission['positive_values'])\n",
    "    percentage ['emission_p'] = emission['positive_values']/(emission['negative_values']+emission['positive_values'])\n",
    "    percentage ['energy_n'] = energy['negative_values']/(energy['negative_values']+energy['positive_values'])\n",
    "    percentage ['energy_p'] = energy['positive_values']/(energy['negative_values']+energy['positive_values'])\n",
    "    \n",
    "    \n",
    "    percentage = percentage.sort_values(('cbill_p'))\n",
    "    upgrade_name = percentage.index\n",
    "    \n",
    "    fig = make_subplots(rows=1, cols=3)\n",
    "    marker1= dict(color='red')\n",
    "    marker2= dict(color='green')\n",
    "    \n",
    "    fig.add_bar(y=upgrade_name, x=percentage ['cbill_n'], text=percentage ['cbill_n'],\n",
    "                orientation='h',name = \"Negative\",row=1, col=1, marker=marker1)\n",
    "    fig.add_bar(y=upgrade_name, x=percentage ['cbill_p'],text=percentage ['cbill_p'],\n",
    "                orientation='h', name = \"Positive\", row=1, col=1, marker=marker2)\n",
    "    \n",
    "    fig.add_bar(y=upgrade_name, x=percentage ['emission_n'], text=percentage ['emission_n'],\n",
    "                orientation='h',showlegend=False, row=1, col=2, marker=marker1)\n",
    "    fig.add_bar(y=upgrade_name, x=percentage ['emission_p'],text=percentage ['emission_p'],\n",
    "                orientation='h', showlegend=False, row=1, col=2, marker=marker2)\n",
    "    \n",
    "    fig.add_bar(y=upgrade_name, x=percentage ['energy_n'],text=percentage ['energy_n'],\n",
    "                orientation='h',showlegend=False, row=1, col=3, marker=marker1)\n",
    "    fig.add_bar(y=upgrade_name, x=percentage ['energy_p'],text=percentage ['energy_p'],\n",
    "                orientation='h', showlegend=False, row=1, col=3, marker=marker2)\n",
    "   \n",
    "  \n",
    "    fig.update_layout(barmode=\"relative\")\n",
    "    fig.update_traces(texttemplate='%{text:.0%}', textposition='inside')\n",
    "    \n",
    "    fig.update_layout(xaxis_title=\"Bill\", xaxis_visible=True, yaxis_visible=True,\n",
    "                      xaxis2_title=\"Emission\", xaxis2_visible=True, yaxis2_visible=False,\n",
    "                      xaxis3_title=\"Total Energy\", xaxis3_visible=True, yaxis3_visible=False,\n",
    "                      font=dict(size=10))\n",
    "    \n",
    "    fig.update_layout(\n",
    "        title='Percentage of Household in Positive and Negative Savings')\n",
    "    \n",
    "    fig.update_layout(\n",
    "    autosize=False,\n",
    "    width=1000,\n",
    "    height=500,\n",
    "    font=dict(size=10))\n",
    "    fig.layout.xaxis1.tickformat = ',.0%'\n",
    "    fig.layout.xaxis2.tickformat = ',.0%'\n",
    "    fig.layout.xaxis3.tickformat = ',.0%'\n",
    "    \n",
    "    fig.show()\n",
    "    fig.write_image(fig_dir / f'percentage_positive_saving_{segment}_{income}.svg')\n",
    "    return (percentage ['cbill_p'],percentage ['emission_p'],percentage ['energy_p'])"
   ]
  },
  {
   "cell_type": "markdown",
   "id": "63119384",
   "metadata": {},
   "source": [
    "## Segment Average Energy Burden (%) Before and after Upgrade."
   ]
  },
  {
   "cell_type": "code",
   "execution_count": 11,
   "id": "81da90ec",
   "metadata": {},
   "outputs": [],
   "source": [
    "def segment_mean_energy_burden(indicator, commnity_results):\n",
    "    \n",
    "    results = commnity_results[['upgrade_name', indicator, 'baseline_energy_burden_2023_cbills.%', 'sample_weight', 'segment']]\n",
    "    results.replace([np.inf, -np.inf], np.nan, inplace=True)\n",
    "    results.dropna(subset=['baseline_energy_burden_2023_cbills.%'], how=\"all\", inplace=True)\n",
    "    results[indicator] = results[indicator]*results['sample_weight']\n",
    "    results['baseline_energy_burden_2023_cbills.%'] = results['baseline_energy_burden_2023_cbills.%']*results['sample_weight']\n",
    "    \n",
    "    segment1 = results.loc[results['segment'] == 'segment1']\n",
    "    segment2 = results.loc[results['segment'] == 'segment2']\n",
    "    \n",
    "    agg_functions = {'upgrade_name': 'first',\n",
    "                     indicator: 'sum',\n",
    "                     'baseline_energy_burden_2023_cbills.%': 'sum',\n",
    "                    'sample_weight': 'sum'}\n",
    "    \n",
    "    segment1_agg = segment1.groupby(segment1['upgrade_name']).aggregate(agg_functions)\n",
    "    segment2_agg = segment2.groupby(segment2['upgrade_name']).aggregate(agg_functions)\n",
    "    \n",
    "    segment1_agg['baseline_energy_burden_2023_cbills.%'] = segment1_agg['baseline_energy_burden_2023_cbills.%']/segment1_agg['sample_weight']\n",
    "    segment2_agg['baseline_energy_burden_2023_cbills.%'] = segment2_agg['baseline_energy_burden_2023_cbills.%']/segment2_agg['sample_weight']\n",
    "    \n",
    "    segment1_agg[indicator] = segment1_agg[indicator]/segment1_agg['sample_weight']\n",
    "    segment2_agg[indicator] = segment2_agg[indicator]/segment2_agg['sample_weight']\n",
    "    \n",
    "    segment1_agg['energy_burden_diff'] = segment1_agg['baseline_energy_burden_2023_cbills.%'] - segment1_agg[indicator]\n",
    "    segment2_agg['energy_burden_diff'] = segment2_agg['baseline_energy_burden_2023_cbills.%'] - segment2_agg[indicator]\n",
    "    \n",
    "    segment1_agg = segment1_agg.sort_values(['energy_burden_diff'], ascending=False)\n",
    "    segment2_agg = segment2_agg.sort_values(['energy_burden_diff'], ascending=False)\n",
    "     \n",
    "    segment1_agg = segment1_agg[segment1_agg.upgrade_name != 'baseline']\n",
    "    segment2_agg = segment2_agg[segment2_agg.upgrade_name != 'baseline']\n",
    "     \n",
    "    segment1_agg = segment1_agg.rename(columns={'baseline_energy_burden_2023_cbills.%': 'before', indicator: 'after'})\n",
    "    segment2_agg = segment2_agg.rename(columns={'baseline_energy_burden_2023_cbills.%': 'before', indicator: 'after'})\n",
    "     \n",
    "    segment1_agg['before'] = segment1_agg['before'].round(1)\n",
    "    segment2_agg['before'] = segment2_agg['before'].round(1)\n",
    "    segment1_agg['after'] = segment1_agg['after'].round(1)\n",
    "    segment2_agg['after'] = segment2_agg['after'].round(1)\n",
    "    \n",
    "    print ('energy burden (%) before and after upgrade')\n",
    "    print('segment1')\n",
    "    display(segment1_agg[['before', 'after']])\n",
    "    print('segment2')\n",
    "    display(segment2_agg[['before', 'after']])\n",
    "    \n",
    "    return(segment1_agg[['before', 'after']],segment2_agg[['before', 'after']])"
   ]
  },
  {
   "cell_type": "code",
   "execution_count": 12,
   "id": "97b37ad7",
   "metadata": {},
   "outputs": [],
   "source": [
    "community = 'north_birmingham'\n",
    "fig_dir = Path(\".\").resolve() / \"results\" / community\n",
    "community_results = pd.read_parquet(f\"data_/community_building_samples_with_upgrade_cost_and_bill/{community}/processed_upgrade_results_tiered.parquet\")\n",
    "saving_results = pd.DataFrame()"
   ]
  },
  {
   "cell_type": "markdown",
   "id": "712ba191",
   "metadata": {},
   "source": [
    "# 1. Results for Whole Community"
   ]
  },
  {
   "cell_type": "markdown",
   "id": "825d991e",
   "metadata": {},
   "source": [
    "## 1.1 Upgrade Cost Per Dwelling Unit"
   ]
  },
  {
   "cell_type": "code",
   "execution_count": 13,
   "id": "d2f8640e",
   "metadata": {},
   "outputs": [
    {
     "name": "stdout",
     "output_type": "stream",
     "text": [
      "upgrade_cost_usd per dwelling unit\n"
     ]
    },
    {
     "data": {
      "text/plain": [
       "upgrade_name\n",
       "Electric Cooking                                                     977.8\n",
       "Electric Clothes Dryer                                              1098.0\n",
       "Induction Cooking                                                   1681.3\n",
       "Heat Pump Clothes Dryer                                             2209.5\n",
       "Heat Pump Water Heater                                              2784.0\n",
       "Basic Enclosure                                                     4919.5\n",
       "Enhanced Enclosure                                                  6923.8\n",
       "Mininum Efficiency Heat Pump with Existing Heat Backup             13767.5\n",
       "Mininum Efficiency Heat Pump with Electric Heat Backup             13870.7\n",
       "Mininum Efficiency Whole Home Electrification                      14705.3\n",
       "High Efficiency Heat Pump with Electric Heat Backup                24709.8\n",
       "Basic Enclosure + HPWH + High Efficiency HP/Electric Backup        29055.7\n",
       "Enhanced Enclosure + HPWH + High Efficiency HP/Electric Backup     30475.4\n",
       "High Efficiency Whole Home Electrification                         31012.5\n",
       "Basic Enclosure + High Efficiency Whole Home Electrification       32614.8\n",
       "Enhanced Enclosure + High Efficiency Whole Home Electrification    34034.5\n",
       "Name: upgrade_cost_usd, dtype: float64"
      ]
     },
     "metadata": {},
     "output_type": "display_data"
    }
   ],
   "source": [
    "results = community_mean_upgrade_cost(community_results)\n",
    "saving_results['whole_community_upgrade_cost_mean_usd'] = results"
   ]
  },
  {
   "cell_type": "markdown",
   "id": "8612601a",
   "metadata": {},
   "source": [
    "## 1.2 Total Annual Savings"
   ]
  },
  {
   "cell_type": "code",
   "execution_count": 14,
   "id": "2d30637c",
   "metadata": {},
   "outputs": [
    {
     "data": {
      "application/vnd.plotly.v1+json": {
       "config": {
        "plotlyServerURL": "https://plot.ly"
       },
       "data": [
        {
         "cliponaxis": false,
         "marker": {
          "color": "rgb(255, 255, 255)",
          "line": {
           "color": "rgb(255, 255, 255)"
          }
         },
         "orientation": "h",
         "textangle": 0,
         "textfont": {
          "size": 10
         },
         "textposition": "outside",
         "type": "bar",
         "x": [
          0,
          0,
          0,
          0,
          0,
          0,
          0,
          0,
          0,
          0,
          0,
          0,
          0,
          0,
          0,
          0,
          0,
          0,
          0,
          0,
          0,
          0,
          0,
          0,
          0,
          0,
          0,
          0,
          0,
          0,
          0,
          0,
          0,
          0,
          0,
          0,
          0,
          0,
          0,
          0,
          0,
          0,
          0,
          0,
          0,
          0,
          0,
          0,
          0,
          0,
          0,
          0,
          0,
          0,
          0,
          0,
          0,
          0,
          0,
          0,
          0,
          0,
          0,
          0,
          0,
          0,
          0,
          0,
          0,
          0,
          0,
          0,
          0,
          0,
          0,
          0,
          0,
          0,
          0,
          0,
          0,
          0,
          0,
          0,
          0,
          0,
          0,
          0,
          0,
          0,
          0,
          0,
          0,
          0,
          0,
          0,
          0,
          0,
          0,
          0,
          0,
          0,
          0,
          0,
          0,
          0,
          0,
          0,
          0,
          0,
          0,
          0,
          0,
          0,
          0,
          0,
          0,
          0,
          0,
          0,
          0,
          0,
          0,
          0,
          0,
          0,
          0,
          0,
          0,
          0,
          0,
          0,
          0,
          0,
          0,
          0,
          0,
          0,
          0,
          0,
          0,
          0,
          0,
          0,
          0,
          0,
          0,
          0,
          0,
          0,
          0,
          0,
          0,
          0,
          0,
          0,
          0,
          0,
          0,
          0,
          0,
          0,
          0,
          0,
          0,
          0,
          0,
          0,
          0,
          0,
          0,
          0,
          0,
          0,
          0,
          0
         ],
         "xaxis": "x",
         "y": [
          "Electric Clothes Dryer",
          "Electric Cooking",
          "Induction Cooking",
          "Heat Pump Clothes Dryer",
          "Heat Pump Water Heater",
          "Mininum Efficiency Whole Home Electrification",
          "Mininum Efficiency Heat Pump with Existing Heat Backup",
          "Mininum Efficiency Heat Pump with Electric Heat Backup",
          "Basic Enclosure",
          "Enhanced Enclosure",
          "High Efficiency Heat Pump with Electric Heat Backup",
          "High Efficiency Whole Home Electrification",
          "Basic Enclosure + HPWH + High Efficiency HP/Electric Backup",
          "Basic Enclosure + High Efficiency Whole Home Electrification",
          "Enhanced Enclosure + HPWH + High Efficiency HP/Electric Backup",
          "Enhanced Enclosure + High Efficiency Whole Home Electrification"
         ],
         "yaxis": "y"
        },
        {
         "cliponaxis": false,
         "marker": {
          "color": "rgb(0, 121, 61)",
          "line": {
           "color": "rgb(0, 121, 61)"
          }
         },
         "orientation": "h",
         "text": [
          -3672.3893774957473,
          43684.63352975841,
          92119.76956870437,
          309630.2988054087,
          1722025.1665743769,
          3617749.84469839,
          3741078.756819002,
          4455389.280730918,
          4911569.278918155,
          5686193.46324872,
          9661827.482670832,
          12747220.676881567,
          14194761.862461941,
          14390113.313962178,
          14428941.952476645,
          14624319.50121758
         ],
         "textangle": 0,
         "textfont": {
          "size": 10
         },
         "textposition": "outside",
         "texttemplate": "%{text:.3s}",
         "type": "bar",
         "x": [
          -3672.3893774957473,
          43684.63352975841,
          92119.76956870437,
          309630.2988054087,
          1722025.1665743769,
          3617749.84469839,
          3741078.756819002,
          4455389.280730918,
          4911569.278918155,
          5686193.46324872,
          9661827.482670832,
          12747220.676881567,
          14194761.862461941,
          14390113.313962178,
          14428941.952476645,
          14624319.50121758
         ],
         "xaxis": "x2",
         "y": [
          "Electric Clothes Dryer",
          "Electric Cooking",
          "Induction Cooking",
          "Heat Pump Clothes Dryer",
          "Heat Pump Water Heater",
          "Mininum Efficiency Whole Home Electrification",
          "Mininum Efficiency Heat Pump with Existing Heat Backup",
          "Mininum Efficiency Heat Pump with Electric Heat Backup",
          "Basic Enclosure",
          "Enhanced Enclosure",
          "High Efficiency Heat Pump with Electric Heat Backup",
          "High Efficiency Whole Home Electrification",
          "Basic Enclosure + HPWH + High Efficiency HP/Electric Backup",
          "Basic Enclosure + High Efficiency Whole Home Electrification",
          "Enhanced Enclosure + HPWH + High Efficiency HP/Electric Backup",
          "Enhanced Enclosure + High Efficiency Whole Home Electrification"
         ],
         "yaxis": "y2"
        },
        {
         "cliponaxis": false,
         "marker": {
          "color": "rgb(0, 121, 61)",
          "line": {
           "color": "rgb(0, 121, 61)"
          }
         },
         "orientation": "h",
         "text": [
          9733.240020114155,
          307758.32867574174,
          417483.9784088161,
          658063.9491377809,
          4842915.236298059,
          13741062.843165243,
          13432912.073972806,
          16756994.545025315,
          14889738.032951057,
          17394154.288633905,
          29879646.70498943,
          37614079.787796766,
          40687252.74006965,
          41762800.66761625,
          41346875.484037,
          42422423.411583595
         ],
         "textangle": 0,
         "textfont": {
          "size": 10
         },
         "textposition": "outside",
         "texttemplate": "%{text:.3s}",
         "type": "bar",
         "x": [
          9733.240020114155,
          307758.32867574174,
          417483.9784088161,
          658063.9491377809,
          4842915.236298059,
          13741062.843165243,
          13432912.073972806,
          16756994.545025315,
          14889738.032951057,
          17394154.288633905,
          29879646.70498943,
          37614079.787796766,
          40687252.74006965,
          41762800.66761625,
          41346875.484037,
          42422423.411583595
         ],
         "xaxis": "x3",
         "y": [
          "Electric Clothes Dryer",
          "Electric Cooking",
          "Induction Cooking",
          "Heat Pump Clothes Dryer",
          "Heat Pump Water Heater",
          "Mininum Efficiency Whole Home Electrification",
          "Mininum Efficiency Heat Pump with Existing Heat Backup",
          "Mininum Efficiency Heat Pump with Electric Heat Backup",
          "Basic Enclosure",
          "Enhanced Enclosure",
          "High Efficiency Heat Pump with Electric Heat Backup",
          "High Efficiency Whole Home Electrification",
          "Basic Enclosure + HPWH + High Efficiency HP/Electric Backup",
          "Basic Enclosure + High Efficiency Whole Home Electrification",
          "Enhanced Enclosure + HPWH + High Efficiency HP/Electric Backup",
          "Enhanced Enclosure + High Efficiency Whole Home Electrification"
         ],
         "yaxis": "y3"
        },
        {
         "cliponaxis": false,
         "marker": {
          "color": "rgb(0, 121, 61)",
          "line": {
           "color": "rgb(0, 121, 61)"
          }
         },
         "orientation": "h",
         "text": [
          -199952.9887178384,
          -1292239.3942671693,
          -884748.0462564568,
          2430161.7529147915,
          5794416.0459879935,
          -22440576.854309507,
          13673083.888238685,
          2428704.0883910223,
          27312889.048652284,
          31213247.63007825,
          46050371.24285545,
          55267726.89996701,
          67543240.77417393,
          69088654.48083226,
          69502689.38663587,
          71048103.0932942
         ],
         "textangle": 0,
         "textfont": {
          "size": 10
         },
         "textposition": "outside",
         "texttemplate": "%{text:.3s}",
         "type": "bar",
         "x": [
          -199952.9887178384,
          -1292239.3942671693,
          -884748.0462564568,
          2430161.7529147915,
          5794416.0459879935,
          -22440576.854309507,
          13673083.888238685,
          2428704.0883910223,
          27312889.048652284,
          31213247.63007825,
          46050371.24285545,
          55267726.89996701,
          67543240.77417393,
          69088654.48083226,
          69502689.38663587,
          71048103.0932942
         ],
         "xaxis": "x4",
         "y": [
          "Electric Clothes Dryer",
          "Electric Cooking",
          "Induction Cooking",
          "Heat Pump Clothes Dryer",
          "Heat Pump Water Heater",
          "Mininum Efficiency Whole Home Electrification",
          "Mininum Efficiency Heat Pump with Existing Heat Backup",
          "Mininum Efficiency Heat Pump with Electric Heat Backup",
          "Basic Enclosure",
          "Enhanced Enclosure",
          "High Efficiency Heat Pump with Electric Heat Backup",
          "High Efficiency Whole Home Electrification",
          "Basic Enclosure + HPWH + High Efficiency HP/Electric Backup",
          "Basic Enclosure + High Efficiency Whole Home Electrification",
          "Enhanced Enclosure + HPWH + High Efficiency HP/Electric Backup",
          "Enhanced Enclosure + High Efficiency Whole Home Electrification"
         ],
         "yaxis": "y4"
        },
        {
         "cliponaxis": false,
         "marker": {
          "color": "rgb(0, 121, 61)",
          "line": {
           "color": "rgb(0, 121, 61)"
          }
         },
         "orientation": "h",
         "text": [
          889.082705819859,
          9491.524205487582,
          9491.537749486339,
          889.082705819859,
          50899.262733504074,
          323469.95337490394,
          130857.98163047989,
          244416.68826921732,
          102676.98776723658,
          121352.91767267692,
          244394.82611599332,
          323469.95337490394,
          313089.33291959774,
          323469.95337490394,
          313089.33291959774,
          323469.95337490394
         ],
         "textangle": 0,
         "textfont": {
          "size": 10
         },
         "textposition": "outside",
         "texttemplate": "%{text:.3s}",
         "type": "bar",
         "x": [
          889.082705819859,
          9491.524205487582,
          9491.537749486339,
          889.082705819859,
          50899.262733504074,
          323469.95337490394,
          130857.98163047989,
          244416.68826921732,
          102676.98776723658,
          121352.91767267692,
          244394.82611599332,
          323469.95337490394,
          313089.33291959774,
          323469.95337490394,
          313089.33291959774,
          323469.95337490394
         ],
         "xaxis": "x5",
         "y": [
          "Electric Clothes Dryer",
          "Electric Cooking",
          "Induction Cooking",
          "Heat Pump Clothes Dryer",
          "Heat Pump Water Heater",
          "Mininum Efficiency Whole Home Electrification",
          "Mininum Efficiency Heat Pump with Existing Heat Backup",
          "Mininum Efficiency Heat Pump with Electric Heat Backup",
          "Basic Enclosure",
          "Enhanced Enclosure",
          "High Efficiency Heat Pump with Electric Heat Backup",
          "High Efficiency Whole Home Electrification",
          "Basic Enclosure + HPWH + High Efficiency HP/Electric Backup",
          "Basic Enclosure + High Efficiency Whole Home Electrification",
          "Enhanced Enclosure + HPWH + High Efficiency HP/Electric Backup",
          "Enhanced Enclosure + High Efficiency Whole Home Electrification"
         ],
         "yaxis": "y5"
        }
       ],
       "layout": {
        "autosize": false,
        "font": {
         "size": 10
        },
        "height": 500,
        "plot_bgcolor": "rgba(0, 0, 0, 0)",
        "showlegend": false,
        "template": {
         "data": {
          "bar": [
           {
            "error_x": {
             "color": "#2a3f5f"
            },
            "error_y": {
             "color": "#2a3f5f"
            },
            "marker": {
             "line": {
              "color": "#E5ECF6",
              "width": 0.5
             },
             "pattern": {
              "fillmode": "overlay",
              "size": 10,
              "solidity": 0.2
             }
            },
            "type": "bar"
           }
          ],
          "barpolar": [
           {
            "marker": {
             "line": {
              "color": "#E5ECF6",
              "width": 0.5
             },
             "pattern": {
              "fillmode": "overlay",
              "size": 10,
              "solidity": 0.2
             }
            },
            "type": "barpolar"
           }
          ],
          "carpet": [
           {
            "aaxis": {
             "endlinecolor": "#2a3f5f",
             "gridcolor": "white",
             "linecolor": "white",
             "minorgridcolor": "white",
             "startlinecolor": "#2a3f5f"
            },
            "baxis": {
             "endlinecolor": "#2a3f5f",
             "gridcolor": "white",
             "linecolor": "white",
             "minorgridcolor": "white",
             "startlinecolor": "#2a3f5f"
            },
            "type": "carpet"
           }
          ],
          "choropleth": [
           {
            "colorbar": {
             "outlinewidth": 0,
             "ticks": ""
            },
            "type": "choropleth"
           }
          ],
          "contour": [
           {
            "colorbar": {
             "outlinewidth": 0,
             "ticks": ""
            },
            "colorscale": [
             [
              0,
              "#0d0887"
             ],
             [
              0.1111111111111111,
              "#46039f"
             ],
             [
              0.2222222222222222,
              "#7201a8"
             ],
             [
              0.3333333333333333,
              "#9c179e"
             ],
             [
              0.4444444444444444,
              "#bd3786"
             ],
             [
              0.5555555555555556,
              "#d8576b"
             ],
             [
              0.6666666666666666,
              "#ed7953"
             ],
             [
              0.7777777777777778,
              "#fb9f3a"
             ],
             [
              0.8888888888888888,
              "#fdca26"
             ],
             [
              1,
              "#f0f921"
             ]
            ],
            "type": "contour"
           }
          ],
          "contourcarpet": [
           {
            "colorbar": {
             "outlinewidth": 0,
             "ticks": ""
            },
            "type": "contourcarpet"
           }
          ],
          "heatmap": [
           {
            "colorbar": {
             "outlinewidth": 0,
             "ticks": ""
            },
            "colorscale": [
             [
              0,
              "#0d0887"
             ],
             [
              0.1111111111111111,
              "#46039f"
             ],
             [
              0.2222222222222222,
              "#7201a8"
             ],
             [
              0.3333333333333333,
              "#9c179e"
             ],
             [
              0.4444444444444444,
              "#bd3786"
             ],
             [
              0.5555555555555556,
              "#d8576b"
             ],
             [
              0.6666666666666666,
              "#ed7953"
             ],
             [
              0.7777777777777778,
              "#fb9f3a"
             ],
             [
              0.8888888888888888,
              "#fdca26"
             ],
             [
              1,
              "#f0f921"
             ]
            ],
            "type": "heatmap"
           }
          ],
          "heatmapgl": [
           {
            "colorbar": {
             "outlinewidth": 0,
             "ticks": ""
            },
            "colorscale": [
             [
              0,
              "#0d0887"
             ],
             [
              0.1111111111111111,
              "#46039f"
             ],
             [
              0.2222222222222222,
              "#7201a8"
             ],
             [
              0.3333333333333333,
              "#9c179e"
             ],
             [
              0.4444444444444444,
              "#bd3786"
             ],
             [
              0.5555555555555556,
              "#d8576b"
             ],
             [
              0.6666666666666666,
              "#ed7953"
             ],
             [
              0.7777777777777778,
              "#fb9f3a"
             ],
             [
              0.8888888888888888,
              "#fdca26"
             ],
             [
              1,
              "#f0f921"
             ]
            ],
            "type": "heatmapgl"
           }
          ],
          "histogram": [
           {
            "marker": {
             "pattern": {
              "fillmode": "overlay",
              "size": 10,
              "solidity": 0.2
             }
            },
            "type": "histogram"
           }
          ],
          "histogram2d": [
           {
            "colorbar": {
             "outlinewidth": 0,
             "ticks": ""
            },
            "colorscale": [
             [
              0,
              "#0d0887"
             ],
             [
              0.1111111111111111,
              "#46039f"
             ],
             [
              0.2222222222222222,
              "#7201a8"
             ],
             [
              0.3333333333333333,
              "#9c179e"
             ],
             [
              0.4444444444444444,
              "#bd3786"
             ],
             [
              0.5555555555555556,
              "#d8576b"
             ],
             [
              0.6666666666666666,
              "#ed7953"
             ],
             [
              0.7777777777777778,
              "#fb9f3a"
             ],
             [
              0.8888888888888888,
              "#fdca26"
             ],
             [
              1,
              "#f0f921"
             ]
            ],
            "type": "histogram2d"
           }
          ],
          "histogram2dcontour": [
           {
            "colorbar": {
             "outlinewidth": 0,
             "ticks": ""
            },
            "colorscale": [
             [
              0,
              "#0d0887"
             ],
             [
              0.1111111111111111,
              "#46039f"
             ],
             [
              0.2222222222222222,
              "#7201a8"
             ],
             [
              0.3333333333333333,
              "#9c179e"
             ],
             [
              0.4444444444444444,
              "#bd3786"
             ],
             [
              0.5555555555555556,
              "#d8576b"
             ],
             [
              0.6666666666666666,
              "#ed7953"
             ],
             [
              0.7777777777777778,
              "#fb9f3a"
             ],
             [
              0.8888888888888888,
              "#fdca26"
             ],
             [
              1,
              "#f0f921"
             ]
            ],
            "type": "histogram2dcontour"
           }
          ],
          "mesh3d": [
           {
            "colorbar": {
             "outlinewidth": 0,
             "ticks": ""
            },
            "type": "mesh3d"
           }
          ],
          "parcoords": [
           {
            "line": {
             "colorbar": {
              "outlinewidth": 0,
              "ticks": ""
             }
            },
            "type": "parcoords"
           }
          ],
          "pie": [
           {
            "automargin": true,
            "type": "pie"
           }
          ],
          "scatter": [
           {
            "fillpattern": {
             "fillmode": "overlay",
             "size": 10,
             "solidity": 0.2
            },
            "type": "scatter"
           }
          ],
          "scatter3d": [
           {
            "line": {
             "colorbar": {
              "outlinewidth": 0,
              "ticks": ""
             }
            },
            "marker": {
             "colorbar": {
              "outlinewidth": 0,
              "ticks": ""
             }
            },
            "type": "scatter3d"
           }
          ],
          "scattercarpet": [
           {
            "marker": {
             "colorbar": {
              "outlinewidth": 0,
              "ticks": ""
             }
            },
            "type": "scattercarpet"
           }
          ],
          "scattergeo": [
           {
            "marker": {
             "colorbar": {
              "outlinewidth": 0,
              "ticks": ""
             }
            },
            "type": "scattergeo"
           }
          ],
          "scattergl": [
           {
            "marker": {
             "colorbar": {
              "outlinewidth": 0,
              "ticks": ""
             }
            },
            "type": "scattergl"
           }
          ],
          "scattermapbox": [
           {
            "marker": {
             "colorbar": {
              "outlinewidth": 0,
              "ticks": ""
             }
            },
            "type": "scattermapbox"
           }
          ],
          "scatterpolar": [
           {
            "marker": {
             "colorbar": {
              "outlinewidth": 0,
              "ticks": ""
             }
            },
            "type": "scatterpolar"
           }
          ],
          "scatterpolargl": [
           {
            "marker": {
             "colorbar": {
              "outlinewidth": 0,
              "ticks": ""
             }
            },
            "type": "scatterpolargl"
           }
          ],
          "scatterternary": [
           {
            "marker": {
             "colorbar": {
              "outlinewidth": 0,
              "ticks": ""
             }
            },
            "type": "scatterternary"
           }
          ],
          "surface": [
           {
            "colorbar": {
             "outlinewidth": 0,
             "ticks": ""
            },
            "colorscale": [
             [
              0,
              "#0d0887"
             ],
             [
              0.1111111111111111,
              "#46039f"
             ],
             [
              0.2222222222222222,
              "#7201a8"
             ],
             [
              0.3333333333333333,
              "#9c179e"
             ],
             [
              0.4444444444444444,
              "#bd3786"
             ],
             [
              0.5555555555555556,
              "#d8576b"
             ],
             [
              0.6666666666666666,
              "#ed7953"
             ],
             [
              0.7777777777777778,
              "#fb9f3a"
             ],
             [
              0.8888888888888888,
              "#fdca26"
             ],
             [
              1,
              "#f0f921"
             ]
            ],
            "type": "surface"
           }
          ],
          "table": [
           {
            "cells": {
             "fill": {
              "color": "#EBF0F8"
             },
             "line": {
              "color": "white"
             }
            },
            "header": {
             "fill": {
              "color": "#C8D4E3"
             },
             "line": {
              "color": "white"
             }
            },
            "type": "table"
           }
          ]
         },
         "layout": {
          "annotationdefaults": {
           "arrowcolor": "#2a3f5f",
           "arrowhead": 0,
           "arrowwidth": 1
          },
          "autotypenumbers": "strict",
          "coloraxis": {
           "colorbar": {
            "outlinewidth": 0,
            "ticks": ""
           }
          },
          "colorscale": {
           "diverging": [
            [
             0,
             "#8e0152"
            ],
            [
             0.1,
             "#c51b7d"
            ],
            [
             0.2,
             "#de77ae"
            ],
            [
             0.3,
             "#f1b6da"
            ],
            [
             0.4,
             "#fde0ef"
            ],
            [
             0.5,
             "#f7f7f7"
            ],
            [
             0.6,
             "#e6f5d0"
            ],
            [
             0.7,
             "#b8e186"
            ],
            [
             0.8,
             "#7fbc41"
            ],
            [
             0.9,
             "#4d9221"
            ],
            [
             1,
             "#276419"
            ]
           ],
           "sequential": [
            [
             0,
             "#0d0887"
            ],
            [
             0.1111111111111111,
             "#46039f"
            ],
            [
             0.2222222222222222,
             "#7201a8"
            ],
            [
             0.3333333333333333,
             "#9c179e"
            ],
            [
             0.4444444444444444,
             "#bd3786"
            ],
            [
             0.5555555555555556,
             "#d8576b"
            ],
            [
             0.6666666666666666,
             "#ed7953"
            ],
            [
             0.7777777777777778,
             "#fb9f3a"
            ],
            [
             0.8888888888888888,
             "#fdca26"
            ],
            [
             1,
             "#f0f921"
            ]
           ],
           "sequentialminus": [
            [
             0,
             "#0d0887"
            ],
            [
             0.1111111111111111,
             "#46039f"
            ],
            [
             0.2222222222222222,
             "#7201a8"
            ],
            [
             0.3333333333333333,
             "#9c179e"
            ],
            [
             0.4444444444444444,
             "#bd3786"
            ],
            [
             0.5555555555555556,
             "#d8576b"
            ],
            [
             0.6666666666666666,
             "#ed7953"
            ],
            [
             0.7777777777777778,
             "#fb9f3a"
            ],
            [
             0.8888888888888888,
             "#fdca26"
            ],
            [
             1,
             "#f0f921"
            ]
           ]
          },
          "colorway": [
           "#636efa",
           "#EF553B",
           "#00cc96",
           "#ab63fa",
           "#FFA15A",
           "#19d3f3",
           "#FF6692",
           "#B6E880",
           "#FF97FF",
           "#FECB52"
          ],
          "font": {
           "color": "#2a3f5f"
          },
          "geo": {
           "bgcolor": "white",
           "lakecolor": "white",
           "landcolor": "#E5ECF6",
           "showlakes": true,
           "showland": true,
           "subunitcolor": "white"
          },
          "hoverlabel": {
           "align": "left"
          },
          "hovermode": "closest",
          "mapbox": {
           "style": "light"
          },
          "paper_bgcolor": "white",
          "plot_bgcolor": "#E5ECF6",
          "polar": {
           "angularaxis": {
            "gridcolor": "white",
            "linecolor": "white",
            "ticks": ""
           },
           "bgcolor": "#E5ECF6",
           "radialaxis": {
            "gridcolor": "white",
            "linecolor": "white",
            "ticks": ""
           }
          },
          "scene": {
           "xaxis": {
            "backgroundcolor": "#E5ECF6",
            "gridcolor": "white",
            "gridwidth": 2,
            "linecolor": "white",
            "showbackground": true,
            "ticks": "",
            "zerolinecolor": "white"
           },
           "yaxis": {
            "backgroundcolor": "#E5ECF6",
            "gridcolor": "white",
            "gridwidth": 2,
            "linecolor": "white",
            "showbackground": true,
            "ticks": "",
            "zerolinecolor": "white"
           },
           "zaxis": {
            "backgroundcolor": "#E5ECF6",
            "gridcolor": "white",
            "gridwidth": 2,
            "linecolor": "white",
            "showbackground": true,
            "ticks": "",
            "zerolinecolor": "white"
           }
          },
          "shapedefaults": {
           "line": {
            "color": "#2a3f5f"
           }
          },
          "ternary": {
           "aaxis": {
            "gridcolor": "white",
            "linecolor": "white",
            "ticks": ""
           },
           "baxis": {
            "gridcolor": "white",
            "linecolor": "white",
            "ticks": ""
           },
           "bgcolor": "#E5ECF6",
           "caxis": {
            "gridcolor": "white",
            "linecolor": "white",
            "ticks": ""
           }
          },
          "title": {
           "x": 0.05
          },
          "xaxis": {
           "automargin": true,
           "gridcolor": "white",
           "linecolor": "white",
           "ticks": "",
           "title": {
            "standoff": 15
           },
           "zerolinecolor": "white",
           "zerolinewidth": 2
          },
          "yaxis": {
           "automargin": true,
           "gridcolor": "white",
           "linecolor": "white",
           "ticks": "",
           "title": {
            "standoff": 15
           },
           "zerolinecolor": "white",
           "zerolinewidth": 2
          }
         }
        },
        "title": {
         "text": "Total Annual Savings for the Whole Community"
        },
        "width": 900,
        "xaxis": {
         "anchor": "y",
         "domain": [
          0,
          0.00012996750812296928
         ],
         "tickangle": 45,
         "title": {
          "text": ""
         },
         "visible": false
        },
        "xaxis2": {
         "anchor": "y2",
         "domain": [
          0.12012996750812296,
          0.25009747563109225
         ],
         "tickangle": 45,
         "title": {
          "text": "Bill<br>Savings<br>usd"
         },
         "visible": true
        },
        "xaxis3": {
         "anchor": "y3",
         "domain": [
          0.37009747563109224,
          0.5000649837540615
         ],
         "tickangle": 45,
         "title": {
          "text": "Emission<br>Savings<br>kgCO2e"
         },
         "visible": true
        },
        "xaxis4": {
         "anchor": "y4",
         "domain": [
          0.6200649837540615,
          0.7500324918770308
         ],
         "tickangle": 45,
         "title": {
          "text": "Electricity<br>Savings<br>kwh"
         },
         "visible": true
        },
        "xaxis5": {
         "anchor": "y5",
         "domain": [
          0.8700324918770308,
          1
         ],
         "tickangle": 45,
         "title": {
          "text": "Gas, Propane,<br>Fuel Oil Savings<br>MMBtu"
         },
         "visible": true
        },
        "yaxis": {
         "anchor": "x",
         "domain": [
          0,
          1
         ],
         "visible": true
        },
        "yaxis2": {
         "anchor": "x2",
         "domain": [
          0,
          1
         ],
         "visible": false
        },
        "yaxis3": {
         "anchor": "x3",
         "domain": [
          0,
          1
         ],
         "visible": false
        },
        "yaxis4": {
         "anchor": "x4",
         "domain": [
          0,
          1
         ],
         "visible": false
        },
        "yaxis5": {
         "anchor": "x5",
         "domain": [
          0,
          1
         ],
         "visible": false
        }
       }
      }
     },
     "metadata": {},
     "output_type": "display_data"
    }
   ],
   "source": [
    "figure_total_savings_1(community_results)"
   ]
  },
  {
   "cell_type": "code",
   "execution_count": 15,
   "id": "ebec6b8d",
   "metadata": {},
   "outputs": [
    {
     "data": {
      "application/vnd.plotly.v1+json": {
       "config": {
        "plotlyServerURL": "https://plot.ly"
       },
       "data": [
        {
         "cliponaxis": false,
         "marker": {
          "color": "rgb(255, 255, 255)",
          "line": {
           "color": "rgb(255, 255, 255)"
          }
         },
         "orientation": "h",
         "textangle": 0,
         "textfont": {
          "size": 10
         },
         "textposition": "outside",
         "type": "bar",
         "x": [
          0,
          0,
          0,
          0,
          0,
          0,
          0,
          0,
          0,
          0,
          0,
          0,
          0,
          0,
          0,
          0,
          0,
          0,
          0,
          0,
          0,
          0,
          0,
          0,
          0,
          0,
          0,
          0,
          0,
          0,
          0,
          0,
          0,
          0,
          0,
          0,
          0,
          0,
          0,
          0,
          0,
          0,
          0,
          0,
          0,
          0,
          0,
          0,
          0,
          0,
          0,
          0,
          0,
          0,
          0,
          0,
          0,
          0,
          0,
          0,
          0,
          0,
          0,
          0,
          0,
          0,
          0,
          0,
          0,
          0,
          0,
          0,
          0,
          0,
          0,
          0,
          0,
          0,
          0,
          0,
          0,
          0,
          0,
          0,
          0,
          0,
          0,
          0,
          0,
          0,
          0,
          0,
          0,
          0,
          0,
          0,
          0,
          0,
          0,
          0,
          0,
          0,
          0,
          0,
          0,
          0,
          0,
          0,
          0,
          0,
          0,
          0,
          0,
          0,
          0,
          0,
          0,
          0,
          0,
          0,
          0,
          0,
          0,
          0,
          0,
          0,
          0,
          0,
          0,
          0,
          0,
          0,
          0,
          0,
          0,
          0,
          0,
          0,
          0,
          0,
          0,
          0,
          0,
          0,
          0,
          0,
          0,
          0,
          0,
          0,
          0,
          0,
          0,
          0,
          0,
          0,
          0,
          0,
          0,
          0,
          0,
          0,
          0,
          0,
          0,
          0,
          0,
          0,
          0,
          0,
          0,
          0,
          0,
          0,
          0,
          0
         ],
         "xaxis": "x",
         "y": [
          "Electric Clothes Dryer",
          "Electric Cooking",
          "Induction Cooking",
          "Heat Pump Clothes Dryer",
          "Heat Pump Water Heater",
          "Mininum Efficiency Whole Home Electrification",
          "Mininum Efficiency Heat Pump with Existing Heat Backup",
          "Mininum Efficiency Heat Pump with Electric Heat Backup",
          "Basic Enclosure",
          "Enhanced Enclosure",
          "High Efficiency Heat Pump with Electric Heat Backup",
          "High Efficiency Whole Home Electrification",
          "Basic Enclosure + HPWH + High Efficiency HP/Electric Backup",
          "Basic Enclosure + High Efficiency Whole Home Electrification",
          "Enhanced Enclosure + HPWH + High Efficiency HP/Electric Backup",
          "Enhanced Enclosure + High Efficiency Whole Home Electrification"
         ],
         "yaxis": "y"
        },
        {
         "cliponaxis": false,
         "marker": {
          "color": "rgb(0, 121, 61)",
          "line": {
           "color": "rgb(0, 121, 61)"
          }
         },
         "orientation": "h",
         "text": [
          -3672.3893774957473,
          43684.63352975841,
          92119.76956870437,
          309630.2988054087,
          1722025.1665743769,
          3617749.84469839,
          3741078.756819002,
          4455389.280730918,
          4911569.278918155,
          5686193.46324872,
          9661827.482670832,
          12747220.676881567,
          14194761.862461941,
          14390113.313962178,
          14428941.952476645,
          14624319.50121758
         ],
         "textangle": 0,
         "textfont": {
          "size": 10
         },
         "textposition": "outside",
         "texttemplate": "%{text:.3s}",
         "type": "bar",
         "x": [
          -3672.3893774957473,
          43684.63352975841,
          92119.76956870437,
          309630.2988054087,
          1722025.1665743769,
          3617749.84469839,
          3741078.756819002,
          4455389.280730918,
          4911569.278918155,
          5686193.46324872,
          9661827.482670832,
          12747220.676881567,
          14194761.862461941,
          14390113.313962178,
          14428941.952476645,
          14624319.50121758
         ],
         "xaxis": "x2",
         "y": [
          "Electric Clothes Dryer",
          "Electric Cooking",
          "Induction Cooking",
          "Heat Pump Clothes Dryer",
          "Heat Pump Water Heater",
          "Mininum Efficiency Whole Home Electrification",
          "Mininum Efficiency Heat Pump with Existing Heat Backup",
          "Mininum Efficiency Heat Pump with Electric Heat Backup",
          "Basic Enclosure",
          "Enhanced Enclosure",
          "High Efficiency Heat Pump with Electric Heat Backup",
          "High Efficiency Whole Home Electrification",
          "Basic Enclosure + HPWH + High Efficiency HP/Electric Backup",
          "Basic Enclosure + High Efficiency Whole Home Electrification",
          "Enhanced Enclosure + HPWH + High Efficiency HP/Electric Backup",
          "Enhanced Enclosure + High Efficiency Whole Home Electrification"
         ],
         "yaxis": "y2"
        },
        {
         "cliponaxis": false,
         "marker": {
          "color": "rgb(0, 121, 61)",
          "line": {
           "color": "rgb(0, 121, 61)"
          }
         },
         "orientation": "h",
         "text": [
          9733.240020114155,
          307758.32867574174,
          417483.9784088161,
          658063.9491377809,
          4842915.236298059,
          13741062.843165243,
          13432912.073972806,
          16756994.545025315,
          14889738.032951057,
          17394154.288633905,
          29879646.70498943,
          37614079.787796766,
          40687252.74006965,
          41762800.66761625,
          41346875.484037,
          42422423.411583595
         ],
         "textangle": 0,
         "textfont": {
          "size": 10
         },
         "textposition": "outside",
         "texttemplate": "%{text:.3s}",
         "type": "bar",
         "x": [
          9733.240020114155,
          307758.32867574174,
          417483.9784088161,
          658063.9491377809,
          4842915.236298059,
          13741062.843165243,
          13432912.073972806,
          16756994.545025315,
          14889738.032951057,
          17394154.288633905,
          29879646.70498943,
          37614079.787796766,
          40687252.74006965,
          41762800.66761625,
          41346875.484037,
          42422423.411583595
         ],
         "xaxis": "x3",
         "y": [
          "Electric Clothes Dryer",
          "Electric Cooking",
          "Induction Cooking",
          "Heat Pump Clothes Dryer",
          "Heat Pump Water Heater",
          "Mininum Efficiency Whole Home Electrification",
          "Mininum Efficiency Heat Pump with Existing Heat Backup",
          "Mininum Efficiency Heat Pump with Electric Heat Backup",
          "Basic Enclosure",
          "Enhanced Enclosure",
          "High Efficiency Heat Pump with Electric Heat Backup",
          "High Efficiency Whole Home Electrification",
          "Basic Enclosure + HPWH + High Efficiency HP/Electric Backup",
          "Basic Enclosure + High Efficiency Whole Home Electrification",
          "Enhanced Enclosure + HPWH + High Efficiency HP/Electric Backup",
          "Enhanced Enclosure + High Efficiency Whole Home Electrification"
         ],
         "yaxis": "y3"
        },
        {
         "cliponaxis": false,
         "marker": {
          "color": "rgb(0, 121, 61)",
          "line": {
           "color": "rgb(0, 121, 61)"
          }
         },
         "orientation": "h",
         "text": [
          206.81478794642882,
          5082.194845482177,
          6472.652104252045,
          9181.1388030484,
          70670.79540270798,
          246899.45894477126,
          177512.64457452364,
          252703.78796339277,
          195872.43757918238,
          227857.25160743098,
          401525.3785065398,
          512051.1660300889,
          543556.268068612,
          559210.0589759124,
          550242.2109621232,
          565896.0018694237
         ],
         "textangle": 0,
         "textfont": {
          "size": 10
         },
         "textposition": "outside",
         "texttemplate": "%{text:.3s}",
         "type": "bar",
         "x": [
          206.81478794642882,
          5082.194845482177,
          6472.652104252045,
          9181.1388030484,
          70670.79540270798,
          246899.45894477126,
          177512.64457452364,
          252703.78796339277,
          195872.43757918238,
          227857.25160743098,
          401525.3785065398,
          512051.1660300889,
          543556.268068612,
          559210.0589759124,
          550242.2109621232,
          565896.0018694237
         ],
         "xaxis": "x4",
         "y": [
          "Electric Clothes Dryer",
          "Electric Cooking",
          "Induction Cooking",
          "Heat Pump Clothes Dryer",
          "Heat Pump Water Heater",
          "Mininum Efficiency Whole Home Electrification",
          "Mininum Efficiency Heat Pump with Existing Heat Backup",
          "Mininum Efficiency Heat Pump with Electric Heat Backup",
          "Basic Enclosure",
          "Enhanced Enclosure",
          "High Efficiency Heat Pump with Electric Heat Backup",
          "High Efficiency Whole Home Electrification",
          "Basic Enclosure + HPWH + High Efficiency HP/Electric Backup",
          "Basic Enclosure + High Efficiency Whole Home Electrification",
          "Enhanced Enclosure + HPWH + High Efficiency HP/Electric Backup",
          "Enhanced Enclosure + High Efficiency Whole Home Electrification"
         ],
         "yaxis": "y4"
        },
        {
         "cliponaxis": false,
         "marker": {
          "color": "rgb(0, 121, 61)",
          "line": {
           "color": "rgb(0, 121, 61)"
          }
         },
         "orientation": "h",
         "text": [
          -199952.9887178384,
          -1292239.3942671693,
          -884748.0462564568,
          2430161.7529147915,
          5794416.0459879935,
          -22440576.854309507,
          13673083.888238685,
          2428704.0883910223,
          27312889.048652284,
          31213247.63007825,
          46050371.24285545,
          55267726.89996701,
          67543240.77417393,
          69088654.48083226,
          69502689.38663587,
          71048103.0932942
         ],
         "textangle": 0,
         "textfont": {
          "size": 10
         },
         "textposition": "outside",
         "texttemplate": "%{text:.3s}",
         "type": "bar",
         "x": [
          -199952.9887178384,
          -1292239.3942671693,
          -884748.0462564568,
          2430161.7529147915,
          5794416.0459879935,
          -22440576.854309507,
          13673083.888238685,
          2428704.0883910223,
          27312889.048652284,
          31213247.63007825,
          46050371.24285545,
          55267726.89996701,
          67543240.77417393,
          69088654.48083226,
          69502689.38663587,
          71048103.0932942
         ],
         "xaxis": "x5",
         "y": [
          "Electric Clothes Dryer",
          "Electric Cooking",
          "Induction Cooking",
          "Heat Pump Clothes Dryer",
          "Heat Pump Water Heater",
          "Mininum Efficiency Whole Home Electrification",
          "Mininum Efficiency Heat Pump with Existing Heat Backup",
          "Mininum Efficiency Heat Pump with Electric Heat Backup",
          "Basic Enclosure",
          "Enhanced Enclosure",
          "High Efficiency Heat Pump with Electric Heat Backup",
          "High Efficiency Whole Home Electrification",
          "Basic Enclosure + HPWH + High Efficiency HP/Electric Backup",
          "Basic Enclosure + High Efficiency Whole Home Electrification",
          "Enhanced Enclosure + HPWH + High Efficiency HP/Electric Backup",
          "Enhanced Enclosure + High Efficiency Whole Home Electrification"
         ],
         "yaxis": "y5"
        },
        {
         "cliponaxis": false,
         "marker": {
          "color": "rgb(0, 121, 61)",
          "line": {
           "color": "rgb(0, 121, 61)"
          }
         },
         "orientation": "h",
         "text": [
          889.082705819859,
          9491.524205487582,
          9491.537749486339,
          889.082705819859,
          50899.262733504074,
          323469.95337490394,
          130857.98163047989,
          244416.68826921732,
          102676.98776723658,
          121352.91767267692,
          244394.82611599332,
          323469.95337490394,
          313089.33291959774,
          323469.95337490394,
          313089.33291959774,
          323469.95337490394
         ],
         "textangle": 0,
         "textfont": {
          "size": 10
         },
         "textposition": "outside",
         "texttemplate": "%{text:.3s}",
         "type": "bar",
         "x": [
          889.082705819859,
          9491.524205487582,
          9491.537749486339,
          889.082705819859,
          50899.262733504074,
          323469.95337490394,
          130857.98163047989,
          244416.68826921732,
          102676.98776723658,
          121352.91767267692,
          244394.82611599332,
          323469.95337490394,
          313089.33291959774,
          323469.95337490394,
          313089.33291959774,
          323469.95337490394
         ],
         "xaxis": "x6",
         "y": [
          "Electric Clothes Dryer",
          "Electric Cooking",
          "Induction Cooking",
          "Heat Pump Clothes Dryer",
          "Heat Pump Water Heater",
          "Mininum Efficiency Whole Home Electrification",
          "Mininum Efficiency Heat Pump with Existing Heat Backup",
          "Mininum Efficiency Heat Pump with Electric Heat Backup",
          "Basic Enclosure",
          "Enhanced Enclosure",
          "High Efficiency Heat Pump with Electric Heat Backup",
          "High Efficiency Whole Home Electrification",
          "Basic Enclosure + HPWH + High Efficiency HP/Electric Backup",
          "Basic Enclosure + High Efficiency Whole Home Electrification",
          "Enhanced Enclosure + HPWH + High Efficiency HP/Electric Backup",
          "Enhanced Enclosure + High Efficiency Whole Home Electrification"
         ],
         "yaxis": "y6"
        }
       ],
       "layout": {
        "autosize": false,
        "font": {
         "size": 10
        },
        "height": 500,
        "plot_bgcolor": "rgba(0, 0, 0, 0)",
        "showlegend": false,
        "template": {
         "data": {
          "bar": [
           {
            "error_x": {
             "color": "#2a3f5f"
            },
            "error_y": {
             "color": "#2a3f5f"
            },
            "marker": {
             "line": {
              "color": "#E5ECF6",
              "width": 0.5
             },
             "pattern": {
              "fillmode": "overlay",
              "size": 10,
              "solidity": 0.2
             }
            },
            "type": "bar"
           }
          ],
          "barpolar": [
           {
            "marker": {
             "line": {
              "color": "#E5ECF6",
              "width": 0.5
             },
             "pattern": {
              "fillmode": "overlay",
              "size": 10,
              "solidity": 0.2
             }
            },
            "type": "barpolar"
           }
          ],
          "carpet": [
           {
            "aaxis": {
             "endlinecolor": "#2a3f5f",
             "gridcolor": "white",
             "linecolor": "white",
             "minorgridcolor": "white",
             "startlinecolor": "#2a3f5f"
            },
            "baxis": {
             "endlinecolor": "#2a3f5f",
             "gridcolor": "white",
             "linecolor": "white",
             "minorgridcolor": "white",
             "startlinecolor": "#2a3f5f"
            },
            "type": "carpet"
           }
          ],
          "choropleth": [
           {
            "colorbar": {
             "outlinewidth": 0,
             "ticks": ""
            },
            "type": "choropleth"
           }
          ],
          "contour": [
           {
            "colorbar": {
             "outlinewidth": 0,
             "ticks": ""
            },
            "colorscale": [
             [
              0,
              "#0d0887"
             ],
             [
              0.1111111111111111,
              "#46039f"
             ],
             [
              0.2222222222222222,
              "#7201a8"
             ],
             [
              0.3333333333333333,
              "#9c179e"
             ],
             [
              0.4444444444444444,
              "#bd3786"
             ],
             [
              0.5555555555555556,
              "#d8576b"
             ],
             [
              0.6666666666666666,
              "#ed7953"
             ],
             [
              0.7777777777777778,
              "#fb9f3a"
             ],
             [
              0.8888888888888888,
              "#fdca26"
             ],
             [
              1,
              "#f0f921"
             ]
            ],
            "type": "contour"
           }
          ],
          "contourcarpet": [
           {
            "colorbar": {
             "outlinewidth": 0,
             "ticks": ""
            },
            "type": "contourcarpet"
           }
          ],
          "heatmap": [
           {
            "colorbar": {
             "outlinewidth": 0,
             "ticks": ""
            },
            "colorscale": [
             [
              0,
              "#0d0887"
             ],
             [
              0.1111111111111111,
              "#46039f"
             ],
             [
              0.2222222222222222,
              "#7201a8"
             ],
             [
              0.3333333333333333,
              "#9c179e"
             ],
             [
              0.4444444444444444,
              "#bd3786"
             ],
             [
              0.5555555555555556,
              "#d8576b"
             ],
             [
              0.6666666666666666,
              "#ed7953"
             ],
             [
              0.7777777777777778,
              "#fb9f3a"
             ],
             [
              0.8888888888888888,
              "#fdca26"
             ],
             [
              1,
              "#f0f921"
             ]
            ],
            "type": "heatmap"
           }
          ],
          "heatmapgl": [
           {
            "colorbar": {
             "outlinewidth": 0,
             "ticks": ""
            },
            "colorscale": [
             [
              0,
              "#0d0887"
             ],
             [
              0.1111111111111111,
              "#46039f"
             ],
             [
              0.2222222222222222,
              "#7201a8"
             ],
             [
              0.3333333333333333,
              "#9c179e"
             ],
             [
              0.4444444444444444,
              "#bd3786"
             ],
             [
              0.5555555555555556,
              "#d8576b"
             ],
             [
              0.6666666666666666,
              "#ed7953"
             ],
             [
              0.7777777777777778,
              "#fb9f3a"
             ],
             [
              0.8888888888888888,
              "#fdca26"
             ],
             [
              1,
              "#f0f921"
             ]
            ],
            "type": "heatmapgl"
           }
          ],
          "histogram": [
           {
            "marker": {
             "pattern": {
              "fillmode": "overlay",
              "size": 10,
              "solidity": 0.2
             }
            },
            "type": "histogram"
           }
          ],
          "histogram2d": [
           {
            "colorbar": {
             "outlinewidth": 0,
             "ticks": ""
            },
            "colorscale": [
             [
              0,
              "#0d0887"
             ],
             [
              0.1111111111111111,
              "#46039f"
             ],
             [
              0.2222222222222222,
              "#7201a8"
             ],
             [
              0.3333333333333333,
              "#9c179e"
             ],
             [
              0.4444444444444444,
              "#bd3786"
             ],
             [
              0.5555555555555556,
              "#d8576b"
             ],
             [
              0.6666666666666666,
              "#ed7953"
             ],
             [
              0.7777777777777778,
              "#fb9f3a"
             ],
             [
              0.8888888888888888,
              "#fdca26"
             ],
             [
              1,
              "#f0f921"
             ]
            ],
            "type": "histogram2d"
           }
          ],
          "histogram2dcontour": [
           {
            "colorbar": {
             "outlinewidth": 0,
             "ticks": ""
            },
            "colorscale": [
             [
              0,
              "#0d0887"
             ],
             [
              0.1111111111111111,
              "#46039f"
             ],
             [
              0.2222222222222222,
              "#7201a8"
             ],
             [
              0.3333333333333333,
              "#9c179e"
             ],
             [
              0.4444444444444444,
              "#bd3786"
             ],
             [
              0.5555555555555556,
              "#d8576b"
             ],
             [
              0.6666666666666666,
              "#ed7953"
             ],
             [
              0.7777777777777778,
              "#fb9f3a"
             ],
             [
              0.8888888888888888,
              "#fdca26"
             ],
             [
              1,
              "#f0f921"
             ]
            ],
            "type": "histogram2dcontour"
           }
          ],
          "mesh3d": [
           {
            "colorbar": {
             "outlinewidth": 0,
             "ticks": ""
            },
            "type": "mesh3d"
           }
          ],
          "parcoords": [
           {
            "line": {
             "colorbar": {
              "outlinewidth": 0,
              "ticks": ""
             }
            },
            "type": "parcoords"
           }
          ],
          "pie": [
           {
            "automargin": true,
            "type": "pie"
           }
          ],
          "scatter": [
           {
            "fillpattern": {
             "fillmode": "overlay",
             "size": 10,
             "solidity": 0.2
            },
            "type": "scatter"
           }
          ],
          "scatter3d": [
           {
            "line": {
             "colorbar": {
              "outlinewidth": 0,
              "ticks": ""
             }
            },
            "marker": {
             "colorbar": {
              "outlinewidth": 0,
              "ticks": ""
             }
            },
            "type": "scatter3d"
           }
          ],
          "scattercarpet": [
           {
            "marker": {
             "colorbar": {
              "outlinewidth": 0,
              "ticks": ""
             }
            },
            "type": "scattercarpet"
           }
          ],
          "scattergeo": [
           {
            "marker": {
             "colorbar": {
              "outlinewidth": 0,
              "ticks": ""
             }
            },
            "type": "scattergeo"
           }
          ],
          "scattergl": [
           {
            "marker": {
             "colorbar": {
              "outlinewidth": 0,
              "ticks": ""
             }
            },
            "type": "scattergl"
           }
          ],
          "scattermapbox": [
           {
            "marker": {
             "colorbar": {
              "outlinewidth": 0,
              "ticks": ""
             }
            },
            "type": "scattermapbox"
           }
          ],
          "scatterpolar": [
           {
            "marker": {
             "colorbar": {
              "outlinewidth": 0,
              "ticks": ""
             }
            },
            "type": "scatterpolar"
           }
          ],
          "scatterpolargl": [
           {
            "marker": {
             "colorbar": {
              "outlinewidth": 0,
              "ticks": ""
             }
            },
            "type": "scatterpolargl"
           }
          ],
          "scatterternary": [
           {
            "marker": {
             "colorbar": {
              "outlinewidth": 0,
              "ticks": ""
             }
            },
            "type": "scatterternary"
           }
          ],
          "surface": [
           {
            "colorbar": {
             "outlinewidth": 0,
             "ticks": ""
            },
            "colorscale": [
             [
              0,
              "#0d0887"
             ],
             [
              0.1111111111111111,
              "#46039f"
             ],
             [
              0.2222222222222222,
              "#7201a8"
             ],
             [
              0.3333333333333333,
              "#9c179e"
             ],
             [
              0.4444444444444444,
              "#bd3786"
             ],
             [
              0.5555555555555556,
              "#d8576b"
             ],
             [
              0.6666666666666666,
              "#ed7953"
             ],
             [
              0.7777777777777778,
              "#fb9f3a"
             ],
             [
              0.8888888888888888,
              "#fdca26"
             ],
             [
              1,
              "#f0f921"
             ]
            ],
            "type": "surface"
           }
          ],
          "table": [
           {
            "cells": {
             "fill": {
              "color": "#EBF0F8"
             },
             "line": {
              "color": "white"
             }
            },
            "header": {
             "fill": {
              "color": "#C8D4E3"
             },
             "line": {
              "color": "white"
             }
            },
            "type": "table"
           }
          ]
         },
         "layout": {
          "annotationdefaults": {
           "arrowcolor": "#2a3f5f",
           "arrowhead": 0,
           "arrowwidth": 1
          },
          "autotypenumbers": "strict",
          "coloraxis": {
           "colorbar": {
            "outlinewidth": 0,
            "ticks": ""
           }
          },
          "colorscale": {
           "diverging": [
            [
             0,
             "#8e0152"
            ],
            [
             0.1,
             "#c51b7d"
            ],
            [
             0.2,
             "#de77ae"
            ],
            [
             0.3,
             "#f1b6da"
            ],
            [
             0.4,
             "#fde0ef"
            ],
            [
             0.5,
             "#f7f7f7"
            ],
            [
             0.6,
             "#e6f5d0"
            ],
            [
             0.7,
             "#b8e186"
            ],
            [
             0.8,
             "#7fbc41"
            ],
            [
             0.9,
             "#4d9221"
            ],
            [
             1,
             "#276419"
            ]
           ],
           "sequential": [
            [
             0,
             "#0d0887"
            ],
            [
             0.1111111111111111,
             "#46039f"
            ],
            [
             0.2222222222222222,
             "#7201a8"
            ],
            [
             0.3333333333333333,
             "#9c179e"
            ],
            [
             0.4444444444444444,
             "#bd3786"
            ],
            [
             0.5555555555555556,
             "#d8576b"
            ],
            [
             0.6666666666666666,
             "#ed7953"
            ],
            [
             0.7777777777777778,
             "#fb9f3a"
            ],
            [
             0.8888888888888888,
             "#fdca26"
            ],
            [
             1,
             "#f0f921"
            ]
           ],
           "sequentialminus": [
            [
             0,
             "#0d0887"
            ],
            [
             0.1111111111111111,
             "#46039f"
            ],
            [
             0.2222222222222222,
             "#7201a8"
            ],
            [
             0.3333333333333333,
             "#9c179e"
            ],
            [
             0.4444444444444444,
             "#bd3786"
            ],
            [
             0.5555555555555556,
             "#d8576b"
            ],
            [
             0.6666666666666666,
             "#ed7953"
            ],
            [
             0.7777777777777778,
             "#fb9f3a"
            ],
            [
             0.8888888888888888,
             "#fdca26"
            ],
            [
             1,
             "#f0f921"
            ]
           ]
          },
          "colorway": [
           "#636efa",
           "#EF553B",
           "#00cc96",
           "#ab63fa",
           "#FFA15A",
           "#19d3f3",
           "#FF6692",
           "#B6E880",
           "#FF97FF",
           "#FECB52"
          ],
          "font": {
           "color": "#2a3f5f"
          },
          "geo": {
           "bgcolor": "white",
           "lakecolor": "white",
           "landcolor": "#E5ECF6",
           "showlakes": true,
           "showland": true,
           "subunitcolor": "white"
          },
          "hoverlabel": {
           "align": "left"
          },
          "hovermode": "closest",
          "mapbox": {
           "style": "light"
          },
          "paper_bgcolor": "white",
          "plot_bgcolor": "#E5ECF6",
          "polar": {
           "angularaxis": {
            "gridcolor": "white",
            "linecolor": "white",
            "ticks": ""
           },
           "bgcolor": "#E5ECF6",
           "radialaxis": {
            "gridcolor": "white",
            "linecolor": "white",
            "ticks": ""
           }
          },
          "scene": {
           "xaxis": {
            "backgroundcolor": "#E5ECF6",
            "gridcolor": "white",
            "gridwidth": 2,
            "linecolor": "white",
            "showbackground": true,
            "ticks": "",
            "zerolinecolor": "white"
           },
           "yaxis": {
            "backgroundcolor": "#E5ECF6",
            "gridcolor": "white",
            "gridwidth": 2,
            "linecolor": "white",
            "showbackground": true,
            "ticks": "",
            "zerolinecolor": "white"
           },
           "zaxis": {
            "backgroundcolor": "#E5ECF6",
            "gridcolor": "white",
            "gridwidth": 2,
            "linecolor": "white",
            "showbackground": true,
            "ticks": "",
            "zerolinecolor": "white"
           }
          },
          "shapedefaults": {
           "line": {
            "color": "#2a3f5f"
           }
          },
          "ternary": {
           "aaxis": {
            "gridcolor": "white",
            "linecolor": "white",
            "ticks": ""
           },
           "baxis": {
            "gridcolor": "white",
            "linecolor": "white",
            "ticks": ""
           },
           "bgcolor": "#E5ECF6",
           "caxis": {
            "gridcolor": "white",
            "linecolor": "white",
            "ticks": ""
           }
          },
          "title": {
           "x": 0.05
          },
          "xaxis": {
           "automargin": true,
           "gridcolor": "white",
           "linecolor": "white",
           "ticks": "",
           "title": {
            "standoff": 15
           },
           "zerolinecolor": "white",
           "zerolinewidth": 2
          },
          "yaxis": {
           "automargin": true,
           "gridcolor": "white",
           "linecolor": "white",
           "ticks": "",
           "title": {
            "standoff": 15
           },
           "zerolinecolor": "white",
           "zerolinewidth": 2
          }
         }
        },
        "title": {
         "text": "Community Total Annual Savings"
        },
        "width": 1100,
        "xaxis": {
         "anchor": "y",
         "domain": [
          0,
          0.00007998400319936014
         ],
         "tickangle": 45,
         "title": {
          "text": ""
         },
         "visible": false
        },
        "xaxis2": {
         "anchor": "y2",
         "domain": [
          0.12007998400319936,
          0.2000639872025595
         ],
         "tickangle": 45,
         "title": {
          "text": "Bill<br>Savings<br>usd"
         },
         "visible": true
        },
        "xaxis3": {
         "anchor": "y3",
         "domain": [
          0.32006398720255946,
          0.40004799040191963
         ],
         "tickangle": 45,
         "title": {
          "text": "Site Emission<br>Saving<br>kgCO2e"
         },
         "visible": true
        },
        "xaxis4": {
         "anchor": "y4",
         "domain": [
          0.5200479904019196,
          0.6000319936012798
         ],
         "tickangle": 45,
         "title": {
          "text": "Site Energy<br>Saving<br>MMBtu"
         },
         "visible": true
        },
        "xaxis5": {
         "anchor": "y5",
         "domain": [
          0.7200319936012798,
          0.80001599680064
         ],
         "tickangle": 45,
         "title": {
          "text": "Electricity<br>Saving<br>kwh"
         },
         "visible": true
        },
        "xaxis6": {
         "anchor": "y6",
         "domain": [
          0.9200159968006398,
          1
         ],
         "tickangle": 45,
         "title": {
          "text": "Gas, Propane,<br>Fuel Oil Saving<br>MMBtu"
         },
         "visible": true
        },
        "yaxis": {
         "anchor": "x",
         "domain": [
          0,
          1
         ],
         "visible": true
        },
        "yaxis2": {
         "anchor": "x2",
         "domain": [
          0,
          1
         ],
         "visible": false
        },
        "yaxis3": {
         "anchor": "x3",
         "domain": [
          0,
          1
         ],
         "visible": false
        },
        "yaxis4": {
         "anchor": "x4",
         "domain": [
          0,
          1
         ],
         "visible": false
        },
        "yaxis5": {
         "anchor": "x5",
         "domain": [
          0,
          1
         ],
         "visible": false
        },
        "yaxis6": {
         "anchor": "x6",
         "domain": [
          0,
          1
         ],
         "visible": false
        }
       }
      }
     },
     "metadata": {},
     "output_type": "display_data"
    }
   ],
   "source": [
    "results = figure_total_savings_2(community_results)\n",
    "saving_results[['whole_community_saving_bill_total_usd','whole_community_saving_emission_total_kgCO2e','whole_community_saving_energy_total_mmbtu','whole_community_saving_electricity_total_kwh','whole_community_saving_natural_gas_fuel_oil_propane_total_mmbtu']] = results"
   ]
  },
  {
   "cell_type": "code",
   "execution_count": 16,
   "id": "e7ef5df2",
   "metadata": {},
   "outputs": [
    {
     "data": {
      "application/vnd.plotly.v1+json": {
       "config": {
        "plotlyServerURL": "https://plot.ly"
       },
       "data": [
        {
         "cliponaxis": false,
         "marker": {
          "color": "rgb(255, 255, 255)",
          "line": {
           "color": "rgb(255, 255, 255)"
          }
         },
         "orientation": "h",
         "textangle": 0,
         "textfont": {
          "size": 10
         },
         "textposition": "outside",
         "type": "bar",
         "x": [
          0,
          0,
          0,
          0,
          0,
          0,
          0,
          0,
          0,
          0,
          0,
          0,
          0,
          0,
          0,
          0,
          0,
          0,
          0,
          0,
          0,
          0,
          0,
          0,
          0,
          0,
          0,
          0,
          0,
          0,
          0,
          0,
          0,
          0,
          0,
          0,
          0,
          0,
          0,
          0,
          0,
          0,
          0,
          0,
          0,
          0,
          0,
          0,
          0,
          0,
          0,
          0,
          0,
          0,
          0,
          0,
          0,
          0,
          0,
          0,
          0,
          0,
          0,
          0,
          0,
          0,
          0,
          0,
          0,
          0,
          0,
          0,
          0,
          0,
          0,
          0,
          0,
          0,
          0,
          0,
          0,
          0,
          0,
          0,
          0,
          0,
          0,
          0,
          0,
          0,
          0,
          0,
          0,
          0,
          0,
          0,
          0,
          0,
          0,
          0,
          0,
          0,
          0,
          0,
          0,
          0,
          0,
          0,
          0,
          0,
          0,
          0,
          0,
          0,
          0,
          0,
          0,
          0,
          0,
          0,
          0,
          0,
          0,
          0,
          0,
          0,
          0,
          0,
          0,
          0,
          0,
          0,
          0,
          0,
          0,
          0,
          0,
          0,
          0,
          0,
          0,
          0,
          0,
          0,
          0,
          0,
          0,
          0,
          0,
          0,
          0,
          0,
          0,
          0,
          0,
          0,
          0,
          0,
          0,
          0,
          0,
          0,
          0,
          0,
          0,
          0,
          0,
          0,
          0,
          0,
          0,
          0,
          0,
          0,
          0,
          0
         ],
         "xaxis": "x",
         "y": [
          "Electric Clothes Dryer",
          "Electric Cooking",
          "Induction Cooking",
          "Heat Pump Clothes Dryer",
          "Heat Pump Water Heater",
          "Mininum Efficiency Whole Home Electrification",
          "Mininum Efficiency Heat Pump with Existing Heat Backup",
          "Mininum Efficiency Heat Pump with Electric Heat Backup",
          "Basic Enclosure",
          "Enhanced Enclosure",
          "High Efficiency Heat Pump with Electric Heat Backup",
          "High Efficiency Whole Home Electrification",
          "Basic Enclosure + HPWH + High Efficiency HP/Electric Backup",
          "Basic Enclosure + High Efficiency Whole Home Electrification",
          "Enhanced Enclosure + HPWH + High Efficiency HP/Electric Backup",
          "Enhanced Enclosure + High Efficiency Whole Home Electrification"
         ],
         "yaxis": "y"
        },
        {
         "cliponaxis": false,
         "marker": {
          "color": "rgb(0, 121, 61)",
          "line": {
           "color": "rgb(0, 121, 61)"
          }
         },
         "orientation": "h",
         "text": [
          -3672.3893774957473,
          43684.63352975841,
          92119.76956870437,
          309630.2988054087,
          1722025.1665743769,
          3617749.84469839,
          3741078.756819002,
          4455389.280730918,
          4911569.278918155,
          5686193.46324872,
          9661827.482670832,
          12747220.676881567,
          14194761.862461941,
          14390113.313962178,
          14428941.952476645,
          14624319.50121758
         ],
         "textangle": 0,
         "textfont": {
          "size": 10
         },
         "textposition": "outside",
         "texttemplate": "%{text:.3s}",
         "type": "bar",
         "x": [
          -3672.3893774957473,
          43684.63352975841,
          92119.76956870437,
          309630.2988054087,
          1722025.1665743769,
          3617749.84469839,
          3741078.756819002,
          4455389.280730918,
          4911569.278918155,
          5686193.46324872,
          9661827.482670832,
          12747220.676881567,
          14194761.862461941,
          14390113.313962178,
          14428941.952476645,
          14624319.50121758
         ],
         "xaxis": "x2",
         "y": [
          "Electric Clothes Dryer",
          "Electric Cooking",
          "Induction Cooking",
          "Heat Pump Clothes Dryer",
          "Heat Pump Water Heater",
          "Mininum Efficiency Whole Home Electrification",
          "Mininum Efficiency Heat Pump with Existing Heat Backup",
          "Mininum Efficiency Heat Pump with Electric Heat Backup",
          "Basic Enclosure",
          "Enhanced Enclosure",
          "High Efficiency Heat Pump with Electric Heat Backup",
          "High Efficiency Whole Home Electrification",
          "Basic Enclosure + HPWH + High Efficiency HP/Electric Backup",
          "Basic Enclosure + High Efficiency Whole Home Electrification",
          "Enhanced Enclosure + HPWH + High Efficiency HP/Electric Backup",
          "Enhanced Enclosure + High Efficiency Whole Home Electrification"
         ],
         "yaxis": "y2"
        },
        {
         "cliponaxis": false,
         "marker": {
          "color": "rgb(0, 121, 61)",
          "line": {
           "color": "rgb(0, 121, 61)"
          }
         },
         "orientation": "h",
         "text": [
          9733.240020114155,
          307758.32867574174,
          417483.9784088161,
          658063.9491377809,
          4842915.236298059,
          13741062.843165243,
          13432912.073972806,
          16756994.545025315,
          14889738.032951057,
          17394154.288633905,
          29879646.70498943,
          37614079.787796766,
          40687252.74006965,
          41762800.66761625,
          41346875.484037,
          42422423.411583595
         ],
         "textangle": 0,
         "textfont": {
          "size": 10
         },
         "textposition": "outside",
         "texttemplate": "%{text:.3s}",
         "type": "bar",
         "x": [
          9733.240020114155,
          307758.32867574174,
          417483.9784088161,
          658063.9491377809,
          4842915.236298059,
          13741062.843165243,
          13432912.073972806,
          16756994.545025315,
          14889738.032951057,
          17394154.288633905,
          29879646.70498943,
          37614079.787796766,
          40687252.74006965,
          41762800.66761625,
          41346875.484037,
          42422423.411583595
         ],
         "xaxis": "x3",
         "y": [
          "Electric Clothes Dryer",
          "Electric Cooking",
          "Induction Cooking",
          "Heat Pump Clothes Dryer",
          "Heat Pump Water Heater",
          "Mininum Efficiency Whole Home Electrification",
          "Mininum Efficiency Heat Pump with Existing Heat Backup",
          "Mininum Efficiency Heat Pump with Electric Heat Backup",
          "Basic Enclosure",
          "Enhanced Enclosure",
          "High Efficiency Heat Pump with Electric Heat Backup",
          "High Efficiency Whole Home Electrification",
          "Basic Enclosure + HPWH + High Efficiency HP/Electric Backup",
          "Basic Enclosure + High Efficiency Whole Home Electrification",
          "Enhanced Enclosure + HPWH + High Efficiency HP/Electric Backup",
          "Enhanced Enclosure + High Efficiency Whole Home Electrification"
         ],
         "yaxis": "y3"
        },
        {
         "cliponaxis": false,
         "marker": {
          "color": "rgb(0, 121, 61)",
          "line": {
           "color": "rgb(0, 121, 61)"
          }
         },
         "orientation": "h",
         "text": [
          206.81478794642882,
          5082.194845482177,
          6472.652104252045,
          9181.1388030484,
          70670.79540270798,
          246899.45894477126,
          177512.64457452364,
          252703.78796339277,
          195872.43757918238,
          227857.25160743098,
          401525.3785065398,
          512051.1660300889,
          543556.268068612,
          559210.0589759124,
          550242.2109621232,
          565896.0018694237
         ],
         "textangle": 0,
         "textfont": {
          "size": 10
         },
         "textposition": "outside",
         "texttemplate": "%{text:.3s}",
         "type": "bar",
         "x": [
          206.81478794642882,
          5082.194845482177,
          6472.652104252045,
          9181.1388030484,
          70670.79540270798,
          246899.45894477126,
          177512.64457452364,
          252703.78796339277,
          195872.43757918238,
          227857.25160743098,
          401525.3785065398,
          512051.1660300889,
          543556.268068612,
          559210.0589759124,
          550242.2109621232,
          565896.0018694237
         ],
         "xaxis": "x4",
         "y": [
          "Electric Clothes Dryer",
          "Electric Cooking",
          "Induction Cooking",
          "Heat Pump Clothes Dryer",
          "Heat Pump Water Heater",
          "Mininum Efficiency Whole Home Electrification",
          "Mininum Efficiency Heat Pump with Existing Heat Backup",
          "Mininum Efficiency Heat Pump with Electric Heat Backup",
          "Basic Enclosure",
          "Enhanced Enclosure",
          "High Efficiency Heat Pump with Electric Heat Backup",
          "High Efficiency Whole Home Electrification",
          "Basic Enclosure + HPWH + High Efficiency HP/Electric Backup",
          "Basic Enclosure + High Efficiency Whole Home Electrification",
          "Enhanced Enclosure + HPWH + High Efficiency HP/Electric Backup",
          "Enhanced Enclosure + High Efficiency Whole Home Electrification"
         ],
         "yaxis": "y4"
        }
       ],
       "layout": {
        "autosize": false,
        "font": {
         "size": 10
        },
        "height": 500,
        "plot_bgcolor": "rgba(0, 0, 0, 0)",
        "showlegend": false,
        "template": {
         "data": {
          "bar": [
           {
            "error_x": {
             "color": "#2a3f5f"
            },
            "error_y": {
             "color": "#2a3f5f"
            },
            "marker": {
             "line": {
              "color": "#E5ECF6",
              "width": 0.5
             },
             "pattern": {
              "fillmode": "overlay",
              "size": 10,
              "solidity": 0.2
             }
            },
            "type": "bar"
           }
          ],
          "barpolar": [
           {
            "marker": {
             "line": {
              "color": "#E5ECF6",
              "width": 0.5
             },
             "pattern": {
              "fillmode": "overlay",
              "size": 10,
              "solidity": 0.2
             }
            },
            "type": "barpolar"
           }
          ],
          "carpet": [
           {
            "aaxis": {
             "endlinecolor": "#2a3f5f",
             "gridcolor": "white",
             "linecolor": "white",
             "minorgridcolor": "white",
             "startlinecolor": "#2a3f5f"
            },
            "baxis": {
             "endlinecolor": "#2a3f5f",
             "gridcolor": "white",
             "linecolor": "white",
             "minorgridcolor": "white",
             "startlinecolor": "#2a3f5f"
            },
            "type": "carpet"
           }
          ],
          "choropleth": [
           {
            "colorbar": {
             "outlinewidth": 0,
             "ticks": ""
            },
            "type": "choropleth"
           }
          ],
          "contour": [
           {
            "colorbar": {
             "outlinewidth": 0,
             "ticks": ""
            },
            "colorscale": [
             [
              0,
              "#0d0887"
             ],
             [
              0.1111111111111111,
              "#46039f"
             ],
             [
              0.2222222222222222,
              "#7201a8"
             ],
             [
              0.3333333333333333,
              "#9c179e"
             ],
             [
              0.4444444444444444,
              "#bd3786"
             ],
             [
              0.5555555555555556,
              "#d8576b"
             ],
             [
              0.6666666666666666,
              "#ed7953"
             ],
             [
              0.7777777777777778,
              "#fb9f3a"
             ],
             [
              0.8888888888888888,
              "#fdca26"
             ],
             [
              1,
              "#f0f921"
             ]
            ],
            "type": "contour"
           }
          ],
          "contourcarpet": [
           {
            "colorbar": {
             "outlinewidth": 0,
             "ticks": ""
            },
            "type": "contourcarpet"
           }
          ],
          "heatmap": [
           {
            "colorbar": {
             "outlinewidth": 0,
             "ticks": ""
            },
            "colorscale": [
             [
              0,
              "#0d0887"
             ],
             [
              0.1111111111111111,
              "#46039f"
             ],
             [
              0.2222222222222222,
              "#7201a8"
             ],
             [
              0.3333333333333333,
              "#9c179e"
             ],
             [
              0.4444444444444444,
              "#bd3786"
             ],
             [
              0.5555555555555556,
              "#d8576b"
             ],
             [
              0.6666666666666666,
              "#ed7953"
             ],
             [
              0.7777777777777778,
              "#fb9f3a"
             ],
             [
              0.8888888888888888,
              "#fdca26"
             ],
             [
              1,
              "#f0f921"
             ]
            ],
            "type": "heatmap"
           }
          ],
          "heatmapgl": [
           {
            "colorbar": {
             "outlinewidth": 0,
             "ticks": ""
            },
            "colorscale": [
             [
              0,
              "#0d0887"
             ],
             [
              0.1111111111111111,
              "#46039f"
             ],
             [
              0.2222222222222222,
              "#7201a8"
             ],
             [
              0.3333333333333333,
              "#9c179e"
             ],
             [
              0.4444444444444444,
              "#bd3786"
             ],
             [
              0.5555555555555556,
              "#d8576b"
             ],
             [
              0.6666666666666666,
              "#ed7953"
             ],
             [
              0.7777777777777778,
              "#fb9f3a"
             ],
             [
              0.8888888888888888,
              "#fdca26"
             ],
             [
              1,
              "#f0f921"
             ]
            ],
            "type": "heatmapgl"
           }
          ],
          "histogram": [
           {
            "marker": {
             "pattern": {
              "fillmode": "overlay",
              "size": 10,
              "solidity": 0.2
             }
            },
            "type": "histogram"
           }
          ],
          "histogram2d": [
           {
            "colorbar": {
             "outlinewidth": 0,
             "ticks": ""
            },
            "colorscale": [
             [
              0,
              "#0d0887"
             ],
             [
              0.1111111111111111,
              "#46039f"
             ],
             [
              0.2222222222222222,
              "#7201a8"
             ],
             [
              0.3333333333333333,
              "#9c179e"
             ],
             [
              0.4444444444444444,
              "#bd3786"
             ],
             [
              0.5555555555555556,
              "#d8576b"
             ],
             [
              0.6666666666666666,
              "#ed7953"
             ],
             [
              0.7777777777777778,
              "#fb9f3a"
             ],
             [
              0.8888888888888888,
              "#fdca26"
             ],
             [
              1,
              "#f0f921"
             ]
            ],
            "type": "histogram2d"
           }
          ],
          "histogram2dcontour": [
           {
            "colorbar": {
             "outlinewidth": 0,
             "ticks": ""
            },
            "colorscale": [
             [
              0,
              "#0d0887"
             ],
             [
              0.1111111111111111,
              "#46039f"
             ],
             [
              0.2222222222222222,
              "#7201a8"
             ],
             [
              0.3333333333333333,
              "#9c179e"
             ],
             [
              0.4444444444444444,
              "#bd3786"
             ],
             [
              0.5555555555555556,
              "#d8576b"
             ],
             [
              0.6666666666666666,
              "#ed7953"
             ],
             [
              0.7777777777777778,
              "#fb9f3a"
             ],
             [
              0.8888888888888888,
              "#fdca26"
             ],
             [
              1,
              "#f0f921"
             ]
            ],
            "type": "histogram2dcontour"
           }
          ],
          "mesh3d": [
           {
            "colorbar": {
             "outlinewidth": 0,
             "ticks": ""
            },
            "type": "mesh3d"
           }
          ],
          "parcoords": [
           {
            "line": {
             "colorbar": {
              "outlinewidth": 0,
              "ticks": ""
             }
            },
            "type": "parcoords"
           }
          ],
          "pie": [
           {
            "automargin": true,
            "type": "pie"
           }
          ],
          "scatter": [
           {
            "fillpattern": {
             "fillmode": "overlay",
             "size": 10,
             "solidity": 0.2
            },
            "type": "scatter"
           }
          ],
          "scatter3d": [
           {
            "line": {
             "colorbar": {
              "outlinewidth": 0,
              "ticks": ""
             }
            },
            "marker": {
             "colorbar": {
              "outlinewidth": 0,
              "ticks": ""
             }
            },
            "type": "scatter3d"
           }
          ],
          "scattercarpet": [
           {
            "marker": {
             "colorbar": {
              "outlinewidth": 0,
              "ticks": ""
             }
            },
            "type": "scattercarpet"
           }
          ],
          "scattergeo": [
           {
            "marker": {
             "colorbar": {
              "outlinewidth": 0,
              "ticks": ""
             }
            },
            "type": "scattergeo"
           }
          ],
          "scattergl": [
           {
            "marker": {
             "colorbar": {
              "outlinewidth": 0,
              "ticks": ""
             }
            },
            "type": "scattergl"
           }
          ],
          "scattermapbox": [
           {
            "marker": {
             "colorbar": {
              "outlinewidth": 0,
              "ticks": ""
             }
            },
            "type": "scattermapbox"
           }
          ],
          "scatterpolar": [
           {
            "marker": {
             "colorbar": {
              "outlinewidth": 0,
              "ticks": ""
             }
            },
            "type": "scatterpolar"
           }
          ],
          "scatterpolargl": [
           {
            "marker": {
             "colorbar": {
              "outlinewidth": 0,
              "ticks": ""
             }
            },
            "type": "scatterpolargl"
           }
          ],
          "scatterternary": [
           {
            "marker": {
             "colorbar": {
              "outlinewidth": 0,
              "ticks": ""
             }
            },
            "type": "scatterternary"
           }
          ],
          "surface": [
           {
            "colorbar": {
             "outlinewidth": 0,
             "ticks": ""
            },
            "colorscale": [
             [
              0,
              "#0d0887"
             ],
             [
              0.1111111111111111,
              "#46039f"
             ],
             [
              0.2222222222222222,
              "#7201a8"
             ],
             [
              0.3333333333333333,
              "#9c179e"
             ],
             [
              0.4444444444444444,
              "#bd3786"
             ],
             [
              0.5555555555555556,
              "#d8576b"
             ],
             [
              0.6666666666666666,
              "#ed7953"
             ],
             [
              0.7777777777777778,
              "#fb9f3a"
             ],
             [
              0.8888888888888888,
              "#fdca26"
             ],
             [
              1,
              "#f0f921"
             ]
            ],
            "type": "surface"
           }
          ],
          "table": [
           {
            "cells": {
             "fill": {
              "color": "#EBF0F8"
             },
             "line": {
              "color": "white"
             }
            },
            "header": {
             "fill": {
              "color": "#C8D4E3"
             },
             "line": {
              "color": "white"
             }
            },
            "type": "table"
           }
          ]
         },
         "layout": {
          "annotationdefaults": {
           "arrowcolor": "#2a3f5f",
           "arrowhead": 0,
           "arrowwidth": 1
          },
          "autotypenumbers": "strict",
          "coloraxis": {
           "colorbar": {
            "outlinewidth": 0,
            "ticks": ""
           }
          },
          "colorscale": {
           "diverging": [
            [
             0,
             "#8e0152"
            ],
            [
             0.1,
             "#c51b7d"
            ],
            [
             0.2,
             "#de77ae"
            ],
            [
             0.3,
             "#f1b6da"
            ],
            [
             0.4,
             "#fde0ef"
            ],
            [
             0.5,
             "#f7f7f7"
            ],
            [
             0.6,
             "#e6f5d0"
            ],
            [
             0.7,
             "#b8e186"
            ],
            [
             0.8,
             "#7fbc41"
            ],
            [
             0.9,
             "#4d9221"
            ],
            [
             1,
             "#276419"
            ]
           ],
           "sequential": [
            [
             0,
             "#0d0887"
            ],
            [
             0.1111111111111111,
             "#46039f"
            ],
            [
             0.2222222222222222,
             "#7201a8"
            ],
            [
             0.3333333333333333,
             "#9c179e"
            ],
            [
             0.4444444444444444,
             "#bd3786"
            ],
            [
             0.5555555555555556,
             "#d8576b"
            ],
            [
             0.6666666666666666,
             "#ed7953"
            ],
            [
             0.7777777777777778,
             "#fb9f3a"
            ],
            [
             0.8888888888888888,
             "#fdca26"
            ],
            [
             1,
             "#f0f921"
            ]
           ],
           "sequentialminus": [
            [
             0,
             "#0d0887"
            ],
            [
             0.1111111111111111,
             "#46039f"
            ],
            [
             0.2222222222222222,
             "#7201a8"
            ],
            [
             0.3333333333333333,
             "#9c179e"
            ],
            [
             0.4444444444444444,
             "#bd3786"
            ],
            [
             0.5555555555555556,
             "#d8576b"
            ],
            [
             0.6666666666666666,
             "#ed7953"
            ],
            [
             0.7777777777777778,
             "#fb9f3a"
            ],
            [
             0.8888888888888888,
             "#fdca26"
            ],
            [
             1,
             "#f0f921"
            ]
           ]
          },
          "colorway": [
           "#636efa",
           "#EF553B",
           "#00cc96",
           "#ab63fa",
           "#FFA15A",
           "#19d3f3",
           "#FF6692",
           "#B6E880",
           "#FF97FF",
           "#FECB52"
          ],
          "font": {
           "color": "#2a3f5f"
          },
          "geo": {
           "bgcolor": "white",
           "lakecolor": "white",
           "landcolor": "#E5ECF6",
           "showlakes": true,
           "showland": true,
           "subunitcolor": "white"
          },
          "hoverlabel": {
           "align": "left"
          },
          "hovermode": "closest",
          "mapbox": {
           "style": "light"
          },
          "paper_bgcolor": "white",
          "plot_bgcolor": "#E5ECF6",
          "polar": {
           "angularaxis": {
            "gridcolor": "white",
            "linecolor": "white",
            "ticks": ""
           },
           "bgcolor": "#E5ECF6",
           "radialaxis": {
            "gridcolor": "white",
            "linecolor": "white",
            "ticks": ""
           }
          },
          "scene": {
           "xaxis": {
            "backgroundcolor": "#E5ECF6",
            "gridcolor": "white",
            "gridwidth": 2,
            "linecolor": "white",
            "showbackground": true,
            "ticks": "",
            "zerolinecolor": "white"
           },
           "yaxis": {
            "backgroundcolor": "#E5ECF6",
            "gridcolor": "white",
            "gridwidth": 2,
            "linecolor": "white",
            "showbackground": true,
            "ticks": "",
            "zerolinecolor": "white"
           },
           "zaxis": {
            "backgroundcolor": "#E5ECF6",
            "gridcolor": "white",
            "gridwidth": 2,
            "linecolor": "white",
            "showbackground": true,
            "ticks": "",
            "zerolinecolor": "white"
           }
          },
          "shapedefaults": {
           "line": {
            "color": "#2a3f5f"
           }
          },
          "ternary": {
           "aaxis": {
            "gridcolor": "white",
            "linecolor": "white",
            "ticks": ""
           },
           "baxis": {
            "gridcolor": "white",
            "linecolor": "white",
            "ticks": ""
           },
           "bgcolor": "#E5ECF6",
           "caxis": {
            "gridcolor": "white",
            "linecolor": "white",
            "ticks": ""
           }
          },
          "title": {
           "x": 0.05
          },
          "xaxis": {
           "automargin": true,
           "gridcolor": "white",
           "linecolor": "white",
           "ticks": "",
           "title": {
            "standoff": 15
           },
           "zerolinecolor": "white",
           "zerolinewidth": 2
          },
          "yaxis": {
           "automargin": true,
           "gridcolor": "white",
           "linecolor": "white",
           "ticks": "",
           "title": {
            "standoff": 15
           },
           "zerolinecolor": "white",
           "zerolinewidth": 2
          }
         }
        },
        "title": {
         "text": "Total Annual Savings for the Whole Community"
        },
        "width": 850,
        "xaxis": {
         "anchor": "y",
         "domain": [
          0,
          0.004635761589403973
         ],
         "tickangle": 45,
         "title": {
          "text": ""
         },
         "visible": false
        },
        "xaxis2": {
         "anchor": "y2",
         "domain": [
          0.10463576158940398,
          0.33642384105960266
         ],
         "tickangle": 45,
         "title": {
          "text": "Bill Savings<br>usd"
         },
         "visible": true
        },
        "xaxis3": {
         "anchor": "y3",
         "domain": [
          0.43642384105960264,
          0.6682119205298013
         ],
         "tickangle": 45,
         "title": {
          "text": "Emission Savings<br>kgCO2e"
         },
         "visible": true
        },
        "xaxis4": {
         "anchor": "y4",
         "domain": [
          0.7682119205298014,
          1
         ],
         "tickangle": 45,
         "title": {
          "text": "Energy Savings<br>MMBtu"
         },
         "visible": true
        },
        "yaxis": {
         "anchor": "x",
         "domain": [
          0,
          1
         ],
         "visible": true
        },
        "yaxis2": {
         "anchor": "x2",
         "domain": [
          0,
          1
         ],
         "visible": false
        },
        "yaxis3": {
         "anchor": "x3",
         "domain": [
          0,
          1
         ],
         "visible": false
        },
        "yaxis4": {
         "anchor": "x4",
         "domain": [
          0,
          1
         ],
         "visible": false
        }
       }
      }
     },
     "metadata": {},
     "output_type": "display_data"
    }
   ],
   "source": [
    "figure_total_savings_3(community_results) "
   ]
  },
  {
   "cell_type": "markdown",
   "id": "e25c8f8e",
   "metadata": {},
   "source": [
    "## 1.3 Annual Savings Per Dwelling Unit"
   ]
  },
  {
   "cell_type": "code",
   "execution_count": 17,
   "id": "9ba37c55",
   "metadata": {},
   "outputs": [
    {
     "name": "stdout",
     "output_type": "stream",
     "text": [
      "sample_weight\n"
     ]
    },
    {
     "data": {
      "text/plain": [
       "upgrade_name\n",
       "Electric Clothes Dryer                                               551.443449\n",
       "Induction Cooking                                                  12295.020944\n",
       "Electric Cooking                                                    3699.568356\n",
       "Heat Pump Clothes Dryer                                            10690.615578\n",
       "Heat Pump Water Heater                                             12368.694344\n",
       "Mininum Efficiency Heat Pump with Existing Heat Backup             12421.781716\n",
       "Mininum Efficiency Heat Pump with Electric Heat Backup             12433.212256\n",
       "Basic Enclosure                                                    12314.594893\n",
       "Enhanced Enclosure                                                 12340.998249\n",
       "Mininum Efficiency Whole Home Electrification                       7450.699007\n",
       "High Efficiency Heat Pump with Electric Heat Backup                12433.212256\n",
       "High Efficiency Whole Home Electrification                         12445.000000\n",
       "Basic Enclosure + HPWH + High Efficiency HP/Electric Backup        12445.000000\n",
       "Basic Enclosure + High Efficiency Whole Home Electrification       12445.000000\n",
       "Enhanced Enclosure + HPWH + High Efficiency HP/Electric Backup     12445.000000\n",
       "Enhanced Enclosure + High Efficiency Whole Home Electrification    12445.000000\n",
       "Name: sample_weight, dtype: float64"
      ]
     },
     "metadata": {},
     "output_type": "display_data"
    },
    {
     "data": {
      "application/vnd.plotly.v1+json": {
       "config": {
        "plotlyServerURL": "https://plot.ly"
       },
       "data": [
        {
         "cliponaxis": false,
         "marker": {
          "color": "rgb(255, 255, 255)",
          "line": {
           "color": "rgb(255, 255, 255)"
          }
         },
         "orientation": "h",
         "textangle": 0,
         "textfont": {
          "size": 10
         },
         "textposition": "outside",
         "type": "bar",
         "x": [
          0,
          0,
          0,
          0,
          0,
          0,
          0,
          0,
          0,
          0,
          0,
          0,
          0,
          0,
          0,
          0,
          0,
          0,
          0,
          0,
          0,
          0,
          0,
          0,
          0,
          0,
          0,
          0,
          0,
          0,
          0,
          0,
          0,
          0,
          0,
          0,
          0,
          0,
          0,
          0,
          0,
          0,
          0,
          0,
          0,
          0,
          0,
          0,
          0,
          0,
          0,
          0,
          0,
          0,
          0,
          0,
          0,
          0,
          0,
          0,
          0,
          0,
          0,
          0,
          0,
          0,
          0,
          0,
          0,
          0,
          0,
          0,
          0,
          0,
          0,
          0,
          0,
          0,
          0,
          0,
          0,
          0,
          0,
          0,
          0,
          0,
          0,
          0,
          0,
          0,
          0,
          0,
          0,
          0,
          0,
          0,
          0,
          0,
          0,
          0,
          0,
          0,
          0,
          0,
          0,
          0,
          0,
          0,
          0,
          0,
          0,
          0,
          0,
          0,
          0,
          0,
          0,
          0,
          0,
          0,
          0,
          0,
          0,
          0,
          0,
          0,
          0,
          0,
          0,
          0,
          0,
          0,
          0,
          0,
          0,
          0,
          0,
          0,
          0,
          0,
          0,
          0,
          0,
          0,
          0,
          0,
          0,
          0,
          0,
          0,
          0,
          0,
          0,
          0,
          0,
          0,
          0,
          0,
          0,
          0,
          0,
          0,
          0,
          0,
          0,
          0,
          0,
          0,
          0,
          0,
          0,
          0,
          0,
          0,
          0,
          0
         ],
         "xaxis": "x",
         "y": [
          "Electric Clothes Dryer",
          "Induction Cooking",
          "Electric Cooking",
          "Heat Pump Clothes Dryer",
          "Heat Pump Water Heater",
          "Mininum Efficiency Heat Pump with Existing Heat Backup",
          "Mininum Efficiency Heat Pump with Electric Heat Backup",
          "Basic Enclosure",
          "Enhanced Enclosure",
          "Mininum Efficiency Whole Home Electrification",
          "High Efficiency Heat Pump with Electric Heat Backup",
          "High Efficiency Whole Home Electrification",
          "Basic Enclosure + HPWH + High Efficiency HP/Electric Backup",
          "Basic Enclosure + High Efficiency Whole Home Electrification",
          "Enhanced Enclosure + HPWH + High Efficiency HP/Electric Backup",
          "Enhanced Enclosure + High Efficiency Whole Home Electrification"
         ],
         "yaxis": "y"
        },
        {
         "cliponaxis": false,
         "marker": {
          "color": "rgb(0, 121, 61)",
          "line": {
           "color": "rgb(0, 121, 61)"
          }
         },
         "orientation": "h",
         "text": [
          -6.659593810193207,
          7.49244511134996,
          11.808035242333464,
          28.962812903287052,
          139.22449036668684,
          301.1708660018076,
          358.3457910139811,
          398.84131971876394,
          460.75636254165323,
          485.558447761288,
          777.0982497292147,
          1024.2845059768235,
          1140.5995871805499,
          1156.296770908974,
          1159.4167900744594,
          1175.116070808966
         ],
         "textangle": 0,
         "textfont": {
          "size": 10
         },
         "textposition": "outside",
         "texttemplate": "%{text:.3s}",
         "type": "bar",
         "x": [
          -6.659593810193207,
          7.49244511134996,
          11.808035242333464,
          28.962812903287052,
          139.22449036668684,
          301.1708660018076,
          358.3457910139811,
          398.84131971876394,
          460.75636254165323,
          485.558447761288,
          777.0982497292147,
          1024.2845059768235,
          1140.5995871805499,
          1156.296770908974,
          1159.4167900744594,
          1175.116070808966
         ],
         "xaxis": "x2",
         "y": [
          "Electric Clothes Dryer",
          "Induction Cooking",
          "Electric Cooking",
          "Heat Pump Clothes Dryer",
          "Heat Pump Water Heater",
          "Mininum Efficiency Heat Pump with Existing Heat Backup",
          "Mininum Efficiency Heat Pump with Electric Heat Backup",
          "Basic Enclosure",
          "Enhanced Enclosure",
          "Mininum Efficiency Whole Home Electrification",
          "High Efficiency Heat Pump with Electric Heat Backup",
          "High Efficiency Whole Home Electrification",
          "Basic Enclosure + HPWH + High Efficiency HP/Electric Backup",
          "Basic Enclosure + High Efficiency Whole Home Electrification",
          "Enhanced Enclosure + HPWH + High Efficiency HP/Electric Backup",
          "Enhanced Enclosure + High Efficiency Whole Home Electrification"
         ],
         "yaxis": "y2"
        },
        {
         "cliponaxis": false,
         "marker": {
          "color": "rgb(0, 121, 61)",
          "line": {
           "color": "rgb(0, 121, 61)"
          }
         },
         "orientation": "h",
         "text": [
          17.650477203830246,
          33.95553210500785,
          83.1876313818513,
          61.55529065084771,
          391.5461973206523,
          1081.3997847199716,
          1347.7606751949093,
          1209.113102164558,
          1409.4608829823937,
          1844.2649246451354,
          2403.2121457995654,
          3022.4250532580772,
          3269.3654270847455,
          3355.7895273295503,
          3322.368459946726,
          3408.792560191531
         ],
         "textangle": 0,
         "textfont": {
          "size": 10
         },
         "textposition": "outside",
         "texttemplate": "%{text:.3s}",
         "type": "bar",
         "x": [
          17.650477203830246,
          33.95553210500785,
          83.1876313818513,
          61.55529065084771,
          391.5461973206523,
          1081.3997847199716,
          1347.7606751949093,
          1209.113102164558,
          1409.4608829823937,
          1844.2649246451354,
          2403.2121457995654,
          3022.4250532580772,
          3269.3654270847455,
          3355.7895273295503,
          3322.368459946726,
          3408.792560191531
         ],
         "xaxis": "x3",
         "y": [
          "Electric Clothes Dryer",
          "Induction Cooking",
          "Electric Cooking",
          "Heat Pump Clothes Dryer",
          "Heat Pump Water Heater",
          "Mininum Efficiency Heat Pump with Existing Heat Backup",
          "Mininum Efficiency Heat Pump with Electric Heat Backup",
          "Basic Enclosure",
          "Enhanced Enclosure",
          "Mininum Efficiency Whole Home Electrification",
          "High Efficiency Heat Pump with Electric Heat Backup",
          "High Efficiency Whole Home Electrification",
          "Basic Enclosure + HPWH + High Efficiency HP/Electric Backup",
          "Basic Enclosure + High Efficiency Whole Home Electrification",
          "Enhanced Enclosure + HPWH + High Efficiency HP/Electric Backup",
          "Enhanced Enclosure + High Efficiency Whole Home Electrification"
         ],
         "yaxis": "y3"
        },
        {
         "cliponaxis": false,
         "marker": {
          "color": "rgb(0, 121, 61)",
          "line": {
           "color": "rgb(0, 121, 61)"
          }
         },
         "orientation": "h",
         "text": [
          0.37504260580441484,
          0.5264449839923144,
          1.3737264341013438,
          0.8588035680542857,
          5.713682740957461,
          14.29043341986155,
          20.32489937110849,
          15.90571507072783,
          18.463437642059336,
          33.137757773387364,
          32.29458085635774,
          41.14513186260257,
          43.67667883235131,
          44.934516591073724,
          44.213918116683274,
          45.471755875405684
         ],
         "textangle": 0,
         "textfont": {
          "size": 10
         },
         "textposition": "outside",
         "texttemplate": "%{text:.3s}",
         "type": "bar",
         "x": [
          0.37504260580441484,
          0.5264449839923144,
          1.3737264341013438,
          0.8588035680542857,
          5.713682740957461,
          14.29043341986155,
          20.32489937110849,
          15.90571507072783,
          18.463437642059336,
          33.137757773387364,
          32.29458085635774,
          41.14513186260257,
          43.67667883235131,
          44.934516591073724,
          44.213918116683274,
          45.471755875405684
         ],
         "xaxis": "x4",
         "y": [
          "Electric Clothes Dryer",
          "Induction Cooking",
          "Electric Cooking",
          "Heat Pump Clothes Dryer",
          "Heat Pump Water Heater",
          "Mininum Efficiency Heat Pump with Existing Heat Backup",
          "Mininum Efficiency Heat Pump with Electric Heat Backup",
          "Basic Enclosure",
          "Enhanced Enclosure",
          "Mininum Efficiency Whole Home Electrification",
          "High Efficiency Heat Pump with Electric Heat Backup",
          "High Efficiency Whole Home Electrification",
          "Basic Enclosure + HPWH + High Efficiency HP/Electric Backup",
          "Basic Enclosure + High Efficiency Whole Home Electrification",
          "Enhanced Enclosure + HPWH + High Efficiency HP/Electric Backup",
          "Enhanced Enclosure + High Efficiency Whole Home Electrification"
         ],
         "yaxis": "y4"
        }
       ],
       "layout": {
        "autosize": false,
        "font": {
         "size": 10
        },
        "height": 500,
        "plot_bgcolor": "rgba(0, 0, 0, 0)",
        "showlegend": false,
        "template": {
         "data": {
          "bar": [
           {
            "error_x": {
             "color": "#2a3f5f"
            },
            "error_y": {
             "color": "#2a3f5f"
            },
            "marker": {
             "line": {
              "color": "#E5ECF6",
              "width": 0.5
             },
             "pattern": {
              "fillmode": "overlay",
              "size": 10,
              "solidity": 0.2
             }
            },
            "type": "bar"
           }
          ],
          "barpolar": [
           {
            "marker": {
             "line": {
              "color": "#E5ECF6",
              "width": 0.5
             },
             "pattern": {
              "fillmode": "overlay",
              "size": 10,
              "solidity": 0.2
             }
            },
            "type": "barpolar"
           }
          ],
          "carpet": [
           {
            "aaxis": {
             "endlinecolor": "#2a3f5f",
             "gridcolor": "white",
             "linecolor": "white",
             "minorgridcolor": "white",
             "startlinecolor": "#2a3f5f"
            },
            "baxis": {
             "endlinecolor": "#2a3f5f",
             "gridcolor": "white",
             "linecolor": "white",
             "minorgridcolor": "white",
             "startlinecolor": "#2a3f5f"
            },
            "type": "carpet"
           }
          ],
          "choropleth": [
           {
            "colorbar": {
             "outlinewidth": 0,
             "ticks": ""
            },
            "type": "choropleth"
           }
          ],
          "contour": [
           {
            "colorbar": {
             "outlinewidth": 0,
             "ticks": ""
            },
            "colorscale": [
             [
              0,
              "#0d0887"
             ],
             [
              0.1111111111111111,
              "#46039f"
             ],
             [
              0.2222222222222222,
              "#7201a8"
             ],
             [
              0.3333333333333333,
              "#9c179e"
             ],
             [
              0.4444444444444444,
              "#bd3786"
             ],
             [
              0.5555555555555556,
              "#d8576b"
             ],
             [
              0.6666666666666666,
              "#ed7953"
             ],
             [
              0.7777777777777778,
              "#fb9f3a"
             ],
             [
              0.8888888888888888,
              "#fdca26"
             ],
             [
              1,
              "#f0f921"
             ]
            ],
            "type": "contour"
           }
          ],
          "contourcarpet": [
           {
            "colorbar": {
             "outlinewidth": 0,
             "ticks": ""
            },
            "type": "contourcarpet"
           }
          ],
          "heatmap": [
           {
            "colorbar": {
             "outlinewidth": 0,
             "ticks": ""
            },
            "colorscale": [
             [
              0,
              "#0d0887"
             ],
             [
              0.1111111111111111,
              "#46039f"
             ],
             [
              0.2222222222222222,
              "#7201a8"
             ],
             [
              0.3333333333333333,
              "#9c179e"
             ],
             [
              0.4444444444444444,
              "#bd3786"
             ],
             [
              0.5555555555555556,
              "#d8576b"
             ],
             [
              0.6666666666666666,
              "#ed7953"
             ],
             [
              0.7777777777777778,
              "#fb9f3a"
             ],
             [
              0.8888888888888888,
              "#fdca26"
             ],
             [
              1,
              "#f0f921"
             ]
            ],
            "type": "heatmap"
           }
          ],
          "heatmapgl": [
           {
            "colorbar": {
             "outlinewidth": 0,
             "ticks": ""
            },
            "colorscale": [
             [
              0,
              "#0d0887"
             ],
             [
              0.1111111111111111,
              "#46039f"
             ],
             [
              0.2222222222222222,
              "#7201a8"
             ],
             [
              0.3333333333333333,
              "#9c179e"
             ],
             [
              0.4444444444444444,
              "#bd3786"
             ],
             [
              0.5555555555555556,
              "#d8576b"
             ],
             [
              0.6666666666666666,
              "#ed7953"
             ],
             [
              0.7777777777777778,
              "#fb9f3a"
             ],
             [
              0.8888888888888888,
              "#fdca26"
             ],
             [
              1,
              "#f0f921"
             ]
            ],
            "type": "heatmapgl"
           }
          ],
          "histogram": [
           {
            "marker": {
             "pattern": {
              "fillmode": "overlay",
              "size": 10,
              "solidity": 0.2
             }
            },
            "type": "histogram"
           }
          ],
          "histogram2d": [
           {
            "colorbar": {
             "outlinewidth": 0,
             "ticks": ""
            },
            "colorscale": [
             [
              0,
              "#0d0887"
             ],
             [
              0.1111111111111111,
              "#46039f"
             ],
             [
              0.2222222222222222,
              "#7201a8"
             ],
             [
              0.3333333333333333,
              "#9c179e"
             ],
             [
              0.4444444444444444,
              "#bd3786"
             ],
             [
              0.5555555555555556,
              "#d8576b"
             ],
             [
              0.6666666666666666,
              "#ed7953"
             ],
             [
              0.7777777777777778,
              "#fb9f3a"
             ],
             [
              0.8888888888888888,
              "#fdca26"
             ],
             [
              1,
              "#f0f921"
             ]
            ],
            "type": "histogram2d"
           }
          ],
          "histogram2dcontour": [
           {
            "colorbar": {
             "outlinewidth": 0,
             "ticks": ""
            },
            "colorscale": [
             [
              0,
              "#0d0887"
             ],
             [
              0.1111111111111111,
              "#46039f"
             ],
             [
              0.2222222222222222,
              "#7201a8"
             ],
             [
              0.3333333333333333,
              "#9c179e"
             ],
             [
              0.4444444444444444,
              "#bd3786"
             ],
             [
              0.5555555555555556,
              "#d8576b"
             ],
             [
              0.6666666666666666,
              "#ed7953"
             ],
             [
              0.7777777777777778,
              "#fb9f3a"
             ],
             [
              0.8888888888888888,
              "#fdca26"
             ],
             [
              1,
              "#f0f921"
             ]
            ],
            "type": "histogram2dcontour"
           }
          ],
          "mesh3d": [
           {
            "colorbar": {
             "outlinewidth": 0,
             "ticks": ""
            },
            "type": "mesh3d"
           }
          ],
          "parcoords": [
           {
            "line": {
             "colorbar": {
              "outlinewidth": 0,
              "ticks": ""
             }
            },
            "type": "parcoords"
           }
          ],
          "pie": [
           {
            "automargin": true,
            "type": "pie"
           }
          ],
          "scatter": [
           {
            "fillpattern": {
             "fillmode": "overlay",
             "size": 10,
             "solidity": 0.2
            },
            "type": "scatter"
           }
          ],
          "scatter3d": [
           {
            "line": {
             "colorbar": {
              "outlinewidth": 0,
              "ticks": ""
             }
            },
            "marker": {
             "colorbar": {
              "outlinewidth": 0,
              "ticks": ""
             }
            },
            "type": "scatter3d"
           }
          ],
          "scattercarpet": [
           {
            "marker": {
             "colorbar": {
              "outlinewidth": 0,
              "ticks": ""
             }
            },
            "type": "scattercarpet"
           }
          ],
          "scattergeo": [
           {
            "marker": {
             "colorbar": {
              "outlinewidth": 0,
              "ticks": ""
             }
            },
            "type": "scattergeo"
           }
          ],
          "scattergl": [
           {
            "marker": {
             "colorbar": {
              "outlinewidth": 0,
              "ticks": ""
             }
            },
            "type": "scattergl"
           }
          ],
          "scattermapbox": [
           {
            "marker": {
             "colorbar": {
              "outlinewidth": 0,
              "ticks": ""
             }
            },
            "type": "scattermapbox"
           }
          ],
          "scatterpolar": [
           {
            "marker": {
             "colorbar": {
              "outlinewidth": 0,
              "ticks": ""
             }
            },
            "type": "scatterpolar"
           }
          ],
          "scatterpolargl": [
           {
            "marker": {
             "colorbar": {
              "outlinewidth": 0,
              "ticks": ""
             }
            },
            "type": "scatterpolargl"
           }
          ],
          "scatterternary": [
           {
            "marker": {
             "colorbar": {
              "outlinewidth": 0,
              "ticks": ""
             }
            },
            "type": "scatterternary"
           }
          ],
          "surface": [
           {
            "colorbar": {
             "outlinewidth": 0,
             "ticks": ""
            },
            "colorscale": [
             [
              0,
              "#0d0887"
             ],
             [
              0.1111111111111111,
              "#46039f"
             ],
             [
              0.2222222222222222,
              "#7201a8"
             ],
             [
              0.3333333333333333,
              "#9c179e"
             ],
             [
              0.4444444444444444,
              "#bd3786"
             ],
             [
              0.5555555555555556,
              "#d8576b"
             ],
             [
              0.6666666666666666,
              "#ed7953"
             ],
             [
              0.7777777777777778,
              "#fb9f3a"
             ],
             [
              0.8888888888888888,
              "#fdca26"
             ],
             [
              1,
              "#f0f921"
             ]
            ],
            "type": "surface"
           }
          ],
          "table": [
           {
            "cells": {
             "fill": {
              "color": "#EBF0F8"
             },
             "line": {
              "color": "white"
             }
            },
            "header": {
             "fill": {
              "color": "#C8D4E3"
             },
             "line": {
              "color": "white"
             }
            },
            "type": "table"
           }
          ]
         },
         "layout": {
          "annotationdefaults": {
           "arrowcolor": "#2a3f5f",
           "arrowhead": 0,
           "arrowwidth": 1
          },
          "autotypenumbers": "strict",
          "coloraxis": {
           "colorbar": {
            "outlinewidth": 0,
            "ticks": ""
           }
          },
          "colorscale": {
           "diverging": [
            [
             0,
             "#8e0152"
            ],
            [
             0.1,
             "#c51b7d"
            ],
            [
             0.2,
             "#de77ae"
            ],
            [
             0.3,
             "#f1b6da"
            ],
            [
             0.4,
             "#fde0ef"
            ],
            [
             0.5,
             "#f7f7f7"
            ],
            [
             0.6,
             "#e6f5d0"
            ],
            [
             0.7,
             "#b8e186"
            ],
            [
             0.8,
             "#7fbc41"
            ],
            [
             0.9,
             "#4d9221"
            ],
            [
             1,
             "#276419"
            ]
           ],
           "sequential": [
            [
             0,
             "#0d0887"
            ],
            [
             0.1111111111111111,
             "#46039f"
            ],
            [
             0.2222222222222222,
             "#7201a8"
            ],
            [
             0.3333333333333333,
             "#9c179e"
            ],
            [
             0.4444444444444444,
             "#bd3786"
            ],
            [
             0.5555555555555556,
             "#d8576b"
            ],
            [
             0.6666666666666666,
             "#ed7953"
            ],
            [
             0.7777777777777778,
             "#fb9f3a"
            ],
            [
             0.8888888888888888,
             "#fdca26"
            ],
            [
             1,
             "#f0f921"
            ]
           ],
           "sequentialminus": [
            [
             0,
             "#0d0887"
            ],
            [
             0.1111111111111111,
             "#46039f"
            ],
            [
             0.2222222222222222,
             "#7201a8"
            ],
            [
             0.3333333333333333,
             "#9c179e"
            ],
            [
             0.4444444444444444,
             "#bd3786"
            ],
            [
             0.5555555555555556,
             "#d8576b"
            ],
            [
             0.6666666666666666,
             "#ed7953"
            ],
            [
             0.7777777777777778,
             "#fb9f3a"
            ],
            [
             0.8888888888888888,
             "#fdca26"
            ],
            [
             1,
             "#f0f921"
            ]
           ]
          },
          "colorway": [
           "#636efa",
           "#EF553B",
           "#00cc96",
           "#ab63fa",
           "#FFA15A",
           "#19d3f3",
           "#FF6692",
           "#B6E880",
           "#FF97FF",
           "#FECB52"
          ],
          "font": {
           "color": "#2a3f5f"
          },
          "geo": {
           "bgcolor": "white",
           "lakecolor": "white",
           "landcolor": "#E5ECF6",
           "showlakes": true,
           "showland": true,
           "subunitcolor": "white"
          },
          "hoverlabel": {
           "align": "left"
          },
          "hovermode": "closest",
          "mapbox": {
           "style": "light"
          },
          "paper_bgcolor": "white",
          "plot_bgcolor": "#E5ECF6",
          "polar": {
           "angularaxis": {
            "gridcolor": "white",
            "linecolor": "white",
            "ticks": ""
           },
           "bgcolor": "#E5ECF6",
           "radialaxis": {
            "gridcolor": "white",
            "linecolor": "white",
            "ticks": ""
           }
          },
          "scene": {
           "xaxis": {
            "backgroundcolor": "#E5ECF6",
            "gridcolor": "white",
            "gridwidth": 2,
            "linecolor": "white",
            "showbackground": true,
            "ticks": "",
            "zerolinecolor": "white"
           },
           "yaxis": {
            "backgroundcolor": "#E5ECF6",
            "gridcolor": "white",
            "gridwidth": 2,
            "linecolor": "white",
            "showbackground": true,
            "ticks": "",
            "zerolinecolor": "white"
           },
           "zaxis": {
            "backgroundcolor": "#E5ECF6",
            "gridcolor": "white",
            "gridwidth": 2,
            "linecolor": "white",
            "showbackground": true,
            "ticks": "",
            "zerolinecolor": "white"
           }
          },
          "shapedefaults": {
           "line": {
            "color": "#2a3f5f"
           }
          },
          "ternary": {
           "aaxis": {
            "gridcolor": "white",
            "linecolor": "white",
            "ticks": ""
           },
           "baxis": {
            "gridcolor": "white",
            "linecolor": "white",
            "ticks": ""
           },
           "bgcolor": "#E5ECF6",
           "caxis": {
            "gridcolor": "white",
            "linecolor": "white",
            "ticks": ""
           }
          },
          "title": {
           "x": 0.05
          },
          "xaxis": {
           "automargin": true,
           "gridcolor": "white",
           "linecolor": "white",
           "ticks": "",
           "title": {
            "standoff": 15
           },
           "zerolinecolor": "white",
           "zerolinewidth": 2
          },
          "yaxis": {
           "automargin": true,
           "gridcolor": "white",
           "linecolor": "white",
           "ticks": "",
           "title": {
            "standoff": 15
           },
           "zerolinecolor": "white",
           "zerolinewidth": 2
          }
         }
        },
        "title": {
         "text": "Annual Savings Per Dwelling Unit"
        },
        "width": 850,
        "xaxis": {
         "anchor": "y",
         "domain": [
          0,
          0.004635761589403973
         ],
         "tickangle": 45,
         "title": {
          "text": ""
         },
         "visible": false
        },
        "xaxis2": {
         "anchor": "y2",
         "domain": [
          0.10463576158940398,
          0.33642384105960266
         ],
         "tickangle": 45,
         "title": {
          "text": "Bill Savings<br>usd"
         },
         "visible": true
        },
        "xaxis3": {
         "anchor": "y3",
         "domain": [
          0.43642384105960264,
          0.6682119205298013
         ],
         "tickangle": 45,
         "title": {
          "text": "Emission Savings<br>kgCO2e"
         },
         "visible": true
        },
        "xaxis4": {
         "anchor": "y4",
         "domain": [
          0.7682119205298014,
          1
         ],
         "tickangle": 45,
         "title": {
          "text": "Energy Savings<br>MMBtu"
         },
         "visible": true
        },
        "yaxis": {
         "anchor": "x",
         "domain": [
          0,
          1
         ],
         "visible": true
        },
        "yaxis2": {
         "anchor": "x2",
         "domain": [
          0,
          1
         ],
         "visible": false
        },
        "yaxis3": {
         "anchor": "x3",
         "domain": [
          0,
          1
         ],
         "visible": false
        },
        "yaxis4": {
         "anchor": "x4",
         "domain": [
          0,
          1
         ],
         "visible": false
        }
       }
      }
     },
     "metadata": {},
     "output_type": "display_data"
    }
   ],
   "source": [
    "results = figure_mean_savings(community_results) \n",
    "saving_results[['whole_community_saving_bill_mean_usd','whole_community_saving_emission_mean_kgCO2e','whole_community_saving_energy_mean_mmbtu']] = results"
   ]
  },
  {
   "cell_type": "code",
   "execution_count": 18,
   "id": "56acc7f3",
   "metadata": {},
   "outputs": [
    {
     "name": "stdout",
     "output_type": "stream",
     "text": [
      "Community summary:\n"
     ]
    },
    {
     "data": {
      "text/html": [
       "<div>\n",
       "<style scoped>\n",
       "    .dataframe tbody tr th:only-of-type {\n",
       "        vertical-align: middle;\n",
       "    }\n",
       "\n",
       "    .dataframe tbody tr th {\n",
       "        vertical-align: top;\n",
       "    }\n",
       "\n",
       "    .dataframe thead th {\n",
       "        text-align: right;\n",
       "    }\n",
       "</style>\n",
       "<table border=\"1\" class=\"dataframe\">\n",
       "  <thead>\n",
       "    <tr style=\"text-align: right;\">\n",
       "      <th></th>\n",
       "      <th>n_samples</th>\n",
       "      <th>n_represented</th>\n",
       "      <th>saving_cbill.total_usd wt_mean</th>\n",
       "      <th>saving_cbill.total_usd wt_p0.1</th>\n",
       "      <th>saving_cbill.total_usd wt_p0.25</th>\n",
       "      <th>saving_cbill.total_usd wt_p0.75</th>\n",
       "      <th>saving_cbill.total_usd wt_p0.9</th>\n",
       "    </tr>\n",
       "    <tr>\n",
       "      <th>upgrade_name</th>\n",
       "      <th></th>\n",
       "      <th></th>\n",
       "      <th></th>\n",
       "      <th></th>\n",
       "      <th></th>\n",
       "      <th></th>\n",
       "      <th></th>\n",
       "    </tr>\n",
       "  </thead>\n",
       "  <tbody>\n",
       "    <tr>\n",
       "      <th>Enhanced Enclosure + High Efficiency Whole Home Electrification</th>\n",
       "      <td>1158</td>\n",
       "      <td>12445.000000</td>\n",
       "      <td>1175.116071</td>\n",
       "      <td>394.103078</td>\n",
       "      <td>629.625502</td>\n",
       "      <td>1611.996975</td>\n",
       "      <td>2084.804720</td>\n",
       "    </tr>\n",
       "    <tr>\n",
       "      <th>Enhanced Enclosure + HPWH + High Efficiency HP/Electric Backup</th>\n",
       "      <td>1158</td>\n",
       "      <td>12445.000000</td>\n",
       "      <td>1159.416790</td>\n",
       "      <td>386.921065</td>\n",
       "      <td>606.917602</td>\n",
       "      <td>1584.457874</td>\n",
       "      <td>2071.420383</td>\n",
       "    </tr>\n",
       "    <tr>\n",
       "      <th>Basic Enclosure + High Efficiency Whole Home Electrification</th>\n",
       "      <td>1158</td>\n",
       "      <td>12445.000000</td>\n",
       "      <td>1156.296771</td>\n",
       "      <td>381.003816</td>\n",
       "      <td>628.266715</td>\n",
       "      <td>1574.476899</td>\n",
       "      <td>2054.959524</td>\n",
       "    </tr>\n",
       "    <tr>\n",
       "      <th>Basic Enclosure + HPWH + High Efficiency HP/Electric Backup</th>\n",
       "      <td>1158</td>\n",
       "      <td>12445.000000</td>\n",
       "      <td>1140.599587</td>\n",
       "      <td>380.646818</td>\n",
       "      <td>602.598162</td>\n",
       "      <td>1558.889681</td>\n",
       "      <td>2015.857187</td>\n",
       "    </tr>\n",
       "    <tr>\n",
       "      <th>High Efficiency Whole Home Electrification</th>\n",
       "      <td>1158</td>\n",
       "      <td>12445.000000</td>\n",
       "      <td>1024.284506</td>\n",
       "      <td>347.634864</td>\n",
       "      <td>534.538925</td>\n",
       "      <td>1368.997110</td>\n",
       "      <td>1791.731692</td>\n",
       "    </tr>\n",
       "    <tr>\n",
       "      <th>High Efficiency Heat Pump with Electric Heat Backup</th>\n",
       "      <td>1155</td>\n",
       "      <td>12433.212256</td>\n",
       "      <td>777.098250</td>\n",
       "      <td>183.275977</td>\n",
       "      <td>351.621997</td>\n",
       "      <td>1068.819393</td>\n",
       "      <td>1490.309589</td>\n",
       "    </tr>\n",
       "    <tr>\n",
       "      <th>Mininum Efficiency Whole Home Electrification</th>\n",
       "      <td>613</td>\n",
       "      <td>7450.699007</td>\n",
       "      <td>485.558448</td>\n",
       "      <td>0.000000</td>\n",
       "      <td>189.758950</td>\n",
       "      <td>743.975982</td>\n",
       "      <td>997.617755</td>\n",
       "    </tr>\n",
       "    <tr>\n",
       "      <th>Enhanced Enclosure</th>\n",
       "      <td>1148</td>\n",
       "      <td>12340.998249</td>\n",
       "      <td>460.756363</td>\n",
       "      <td>49.386936</td>\n",
       "      <td>142.944359</td>\n",
       "      <td>639.227845</td>\n",
       "      <td>1026.134614</td>\n",
       "    </tr>\n",
       "    <tr>\n",
       "      <th>Basic Enclosure</th>\n",
       "      <td>1143</td>\n",
       "      <td>12314.594893</td>\n",
       "      <td>398.841320</td>\n",
       "      <td>42.410174</td>\n",
       "      <td>117.696592</td>\n",
       "      <td>564.438690</td>\n",
       "      <td>902.914178</td>\n",
       "    </tr>\n",
       "    <tr>\n",
       "      <th>Mininum Efficiency Heat Pump with Electric Heat Backup</th>\n",
       "      <td>1155</td>\n",
       "      <td>12433.212256</td>\n",
       "      <td>358.345791</td>\n",
       "      <td>17.347030</td>\n",
       "      <td>102.566673</td>\n",
       "      <td>523.764628</td>\n",
       "      <td>829.516017</td>\n",
       "    </tr>\n",
       "    <tr>\n",
       "      <th>Mininum Efficiency Heat Pump with Existing Heat Backup</th>\n",
       "      <td>1157</td>\n",
       "      <td>12421.781716</td>\n",
       "      <td>301.170866</td>\n",
       "      <td>6.705248</td>\n",
       "      <td>74.554773</td>\n",
       "      <td>454.497412</td>\n",
       "      <td>765.218144</td>\n",
       "    </tr>\n",
       "    <tr>\n",
       "      <th>Heat Pump Water Heater</th>\n",
       "      <td>1149</td>\n",
       "      <td>12368.694344</td>\n",
       "      <td>139.224490</td>\n",
       "      <td>28.809916</td>\n",
       "      <td>71.008738</td>\n",
       "      <td>189.655024</td>\n",
       "      <td>268.549324</td>\n",
       "    </tr>\n",
       "    <tr>\n",
       "      <th>Heat Pump Clothes Dryer</th>\n",
       "      <td>991</td>\n",
       "      <td>10690.615578</td>\n",
       "      <td>28.962813</td>\n",
       "      <td>0.000000</td>\n",
       "      <td>16.464154</td>\n",
       "      <td>38.428586</td>\n",
       "      <td>55.746395</td>\n",
       "    </tr>\n",
       "    <tr>\n",
       "      <th>Electric Cooking</th>\n",
       "      <td>326</td>\n",
       "      <td>3699.568356</td>\n",
       "      <td>11.808035</td>\n",
       "      <td>-31.360736</td>\n",
       "      <td>1.565313</td>\n",
       "      <td>8.630264</td>\n",
       "      <td>100.250735</td>\n",
       "    </tr>\n",
       "    <tr>\n",
       "      <th>Induction Cooking</th>\n",
       "      <td>1146</td>\n",
       "      <td>12295.020944</td>\n",
       "      <td>7.492445</td>\n",
       "      <td>0.000000</td>\n",
       "      <td>3.550336</td>\n",
       "      <td>6.301688</td>\n",
       "      <td>11.068272</td>\n",
       "    </tr>\n",
       "    <tr>\n",
       "      <th>baseline</th>\n",
       "      <td>1158</td>\n",
       "      <td>12445.000000</td>\n",
       "      <td>0.000000</td>\n",
       "      <td>0.000000</td>\n",
       "      <td>0.000000</td>\n",
       "      <td>0.000000</td>\n",
       "      <td>0.000000</td>\n",
       "    </tr>\n",
       "    <tr>\n",
       "      <th>Electric Clothes Dryer</th>\n",
       "      <td>45</td>\n",
       "      <td>551.443449</td>\n",
       "      <td>-6.659594</td>\n",
       "      <td>-32.643883</td>\n",
       "      <td>-23.759039</td>\n",
       "      <td>0.000000</td>\n",
       "      <td>22.183797</td>\n",
       "    </tr>\n",
       "  </tbody>\n",
       "</table>\n",
       "</div>"
      ],
      "text/plain": [
       "                                                    n_samples  n_represented  \\\n",
       "upgrade_name                                                                   \n",
       "Enhanced Enclosure + High Efficiency Whole Home...       1158   12445.000000   \n",
       "Enhanced Enclosure + HPWH + High Efficiency HP/...       1158   12445.000000   \n",
       "Basic Enclosure + High Efficiency Whole Home El...       1158   12445.000000   \n",
       "Basic Enclosure + HPWH + High Efficiency HP/Ele...       1158   12445.000000   \n",
       "High Efficiency Whole Home Electrification               1158   12445.000000   \n",
       "High Efficiency Heat Pump with Electric Heat Ba...       1155   12433.212256   \n",
       "Mininum Efficiency Whole Home Electrification             613    7450.699007   \n",
       "Enhanced Enclosure                                       1148   12340.998249   \n",
       "Basic Enclosure                                          1143   12314.594893   \n",
       "Mininum Efficiency Heat Pump with Electric Heat...       1155   12433.212256   \n",
       "Mininum Efficiency Heat Pump with Existing Heat...       1157   12421.781716   \n",
       "Heat Pump Water Heater                                   1149   12368.694344   \n",
       "Heat Pump Clothes Dryer                                   991   10690.615578   \n",
       "Electric Cooking                                          326    3699.568356   \n",
       "Induction Cooking                                        1146   12295.020944   \n",
       "baseline                                                 1158   12445.000000   \n",
       "Electric Clothes Dryer                                     45     551.443449   \n",
       "\n",
       "                                                    saving_cbill.total_usd wt_mean  \\\n",
       "upgrade_name                                                                         \n",
       "Enhanced Enclosure + High Efficiency Whole Home...                     1175.116071   \n",
       "Enhanced Enclosure + HPWH + High Efficiency HP/...                     1159.416790   \n",
       "Basic Enclosure + High Efficiency Whole Home El...                     1156.296771   \n",
       "Basic Enclosure + HPWH + High Efficiency HP/Ele...                     1140.599587   \n",
       "High Efficiency Whole Home Electrification                             1024.284506   \n",
       "High Efficiency Heat Pump with Electric Heat Ba...                      777.098250   \n",
       "Mininum Efficiency Whole Home Electrification                           485.558448   \n",
       "Enhanced Enclosure                                                      460.756363   \n",
       "Basic Enclosure                                                         398.841320   \n",
       "Mininum Efficiency Heat Pump with Electric Heat...                      358.345791   \n",
       "Mininum Efficiency Heat Pump with Existing Heat...                      301.170866   \n",
       "Heat Pump Water Heater                                                  139.224490   \n",
       "Heat Pump Clothes Dryer                                                  28.962813   \n",
       "Electric Cooking                                                         11.808035   \n",
       "Induction Cooking                                                         7.492445   \n",
       "baseline                                                                  0.000000   \n",
       "Electric Clothes Dryer                                                   -6.659594   \n",
       "\n",
       "                                                    saving_cbill.total_usd wt_p0.1  \\\n",
       "upgrade_name                                                                         \n",
       "Enhanced Enclosure + High Efficiency Whole Home...                      394.103078   \n",
       "Enhanced Enclosure + HPWH + High Efficiency HP/...                      386.921065   \n",
       "Basic Enclosure + High Efficiency Whole Home El...                      381.003816   \n",
       "Basic Enclosure + HPWH + High Efficiency HP/Ele...                      380.646818   \n",
       "High Efficiency Whole Home Electrification                              347.634864   \n",
       "High Efficiency Heat Pump with Electric Heat Ba...                      183.275977   \n",
       "Mininum Efficiency Whole Home Electrification                             0.000000   \n",
       "Enhanced Enclosure                                                       49.386936   \n",
       "Basic Enclosure                                                          42.410174   \n",
       "Mininum Efficiency Heat Pump with Electric Heat...                       17.347030   \n",
       "Mininum Efficiency Heat Pump with Existing Heat...                        6.705248   \n",
       "Heat Pump Water Heater                                                   28.809916   \n",
       "Heat Pump Clothes Dryer                                                   0.000000   \n",
       "Electric Cooking                                                        -31.360736   \n",
       "Induction Cooking                                                         0.000000   \n",
       "baseline                                                                  0.000000   \n",
       "Electric Clothes Dryer                                                  -32.643883   \n",
       "\n",
       "                                                    saving_cbill.total_usd wt_p0.25  \\\n",
       "upgrade_name                                                                          \n",
       "Enhanced Enclosure + High Efficiency Whole Home...                       629.625502   \n",
       "Enhanced Enclosure + HPWH + High Efficiency HP/...                       606.917602   \n",
       "Basic Enclosure + High Efficiency Whole Home El...                       628.266715   \n",
       "Basic Enclosure + HPWH + High Efficiency HP/Ele...                       602.598162   \n",
       "High Efficiency Whole Home Electrification                               534.538925   \n",
       "High Efficiency Heat Pump with Electric Heat Ba...                       351.621997   \n",
       "Mininum Efficiency Whole Home Electrification                            189.758950   \n",
       "Enhanced Enclosure                                                       142.944359   \n",
       "Basic Enclosure                                                          117.696592   \n",
       "Mininum Efficiency Heat Pump with Electric Heat...                       102.566673   \n",
       "Mininum Efficiency Heat Pump with Existing Heat...                        74.554773   \n",
       "Heat Pump Water Heater                                                    71.008738   \n",
       "Heat Pump Clothes Dryer                                                   16.464154   \n",
       "Electric Cooking                                                           1.565313   \n",
       "Induction Cooking                                                          3.550336   \n",
       "baseline                                                                   0.000000   \n",
       "Electric Clothes Dryer                                                   -23.759039   \n",
       "\n",
       "                                                    saving_cbill.total_usd wt_p0.75  \\\n",
       "upgrade_name                                                                          \n",
       "Enhanced Enclosure + High Efficiency Whole Home...                      1611.996975   \n",
       "Enhanced Enclosure + HPWH + High Efficiency HP/...                      1584.457874   \n",
       "Basic Enclosure + High Efficiency Whole Home El...                      1574.476899   \n",
       "Basic Enclosure + HPWH + High Efficiency HP/Ele...                      1558.889681   \n",
       "High Efficiency Whole Home Electrification                              1368.997110   \n",
       "High Efficiency Heat Pump with Electric Heat Ba...                      1068.819393   \n",
       "Mininum Efficiency Whole Home Electrification                            743.975982   \n",
       "Enhanced Enclosure                                                       639.227845   \n",
       "Basic Enclosure                                                          564.438690   \n",
       "Mininum Efficiency Heat Pump with Electric Heat...                       523.764628   \n",
       "Mininum Efficiency Heat Pump with Existing Heat...                       454.497412   \n",
       "Heat Pump Water Heater                                                   189.655024   \n",
       "Heat Pump Clothes Dryer                                                   38.428586   \n",
       "Electric Cooking                                                           8.630264   \n",
       "Induction Cooking                                                          6.301688   \n",
       "baseline                                                                   0.000000   \n",
       "Electric Clothes Dryer                                                     0.000000   \n",
       "\n",
       "                                                    saving_cbill.total_usd wt_p0.9  \n",
       "upgrade_name                                                                        \n",
       "Enhanced Enclosure + High Efficiency Whole Home...                     2084.804720  \n",
       "Enhanced Enclosure + HPWH + High Efficiency HP/...                     2071.420383  \n",
       "Basic Enclosure + High Efficiency Whole Home El...                     2054.959524  \n",
       "Basic Enclosure + HPWH + High Efficiency HP/Ele...                     2015.857187  \n",
       "High Efficiency Whole Home Electrification                             1791.731692  \n",
       "High Efficiency Heat Pump with Electric Heat Ba...                     1490.309589  \n",
       "Mininum Efficiency Whole Home Electrification                           997.617755  \n",
       "Enhanced Enclosure                                                     1026.134614  \n",
       "Basic Enclosure                                                         902.914178  \n",
       "Mininum Efficiency Heat Pump with Electric Heat...                      829.516017  \n",
       "Mininum Efficiency Heat Pump with Existing Heat...                      765.218144  \n",
       "Heat Pump Water Heater                                                  268.549324  \n",
       "Heat Pump Clothes Dryer                                                  55.746395  \n",
       "Electric Cooking                                                        100.250735  \n",
       "Induction Cooking                                                        11.068272  \n",
       "baseline                                                                  0.000000  \n",
       "Electric Clothes Dryer                                                   22.183797  "
      ]
     },
     "execution_count": 18,
     "metadata": {},
     "output_type": "execute_result"
    }
   ],
   "source": [
    "metric = \"saving_cbill.total_usd\"\n",
    "print(\"Community summary:\")\n",
    "results = get_summary(community_results, metric, lower_percentile=0.10, middle_percentile1=0.25, middle_percentile2=0.75, upper_percentile=0.90)\n",
    "saving_results['whole_community_saving_bill_total_usd_wt_p0.1'] = results.iloc[:, 3]\n",
    "saving_results['whole_community_saving_bill_total_usd_wt_p0.25'] = results.iloc[:, 4]\n",
    "saving_results['whole_community_saving_bill_total_usd_wt_p0.75'] = results.iloc[:, 5]\n",
    "saving_results['whole_community_saving_bill_total_usd_wt_p0.9'] = results.iloc[:, 6]\n",
    "results"
   ]
  },
  {
   "cell_type": "markdown",
   "id": "35e7b6ad",
   "metadata": {},
   "source": [
    "# 2. Results for Segments (All Income)"
   ]
  },
  {
   "cell_type": "markdown",
   "id": "9c79f834",
   "metadata": {},
   "source": [
    "Segment Definition\n",
    "\n",
    "Segment 1. Occupied, Single family detached, gas heating, all income  \n",
    "\n",
    "Segment 2. Occupied, Single family detached, electric heating, all income   \n"
   ]
  },
  {
   "cell_type": "code",
   "execution_count": 19,
   "id": "42e13001",
   "metadata": {},
   "outputs": [],
   "source": [
    "income = 'all_incomes'\n",
    "vacancy_status = ['Occupied']\n",
    "\n",
    "seg1_building_type = ['Single-Family Detached']\n",
    "seg1_heating_fuel = ['Natural Gas']\n",
    "\n",
    "seg2_building_type = ['Single-Family Detached']\n",
    "seg2_heating_fuel = ['Electricity']\n",
    "\n",
    "\n",
    "community_results.loc[community_results['build_existing_model.vacancy_status'].isin(vacancy_status) & \n",
    "                     community_results['build_existing_model.geometry_building_type_recs'].isin(seg1_building_type) &\n",
    "                      community_results['build_existing_model.heating_fuel'].isin(seg1_heating_fuel),\n",
    "                     'segment'] = 'segment1'\n",
    "community_results.loc[community_results['build_existing_model.vacancy_status'].isin(vacancy_status) & \n",
    "                     community_results['build_existing_model.geometry_building_type_recs'].isin(seg2_building_type) & \n",
    "                      community_results['build_existing_model.heating_fuel'].isin(seg2_heating_fuel),\n",
    "                     'segment'] = 'segment2'"
   ]
  },
  {
   "cell_type": "code",
   "execution_count": 20,
   "id": "b35bfa65",
   "metadata": {},
   "outputs": [
    {
     "name": "stdout",
     "output_type": "stream",
     "text": [
      "Summary for segment: nan: \n"
     ]
    },
    {
     "data": {
      "text/html": [
       "<div>\n",
       "<style scoped>\n",
       "    .dataframe tbody tr th:only-of-type {\n",
       "        vertical-align: middle;\n",
       "    }\n",
       "\n",
       "    .dataframe tbody tr th {\n",
       "        vertical-align: top;\n",
       "    }\n",
       "\n",
       "    .dataframe thead th {\n",
       "        text-align: right;\n",
       "    }\n",
       "</style>\n",
       "<table border=\"1\" class=\"dataframe\">\n",
       "  <thead>\n",
       "    <tr style=\"text-align: right;\">\n",
       "      <th></th>\n",
       "      <th>n_samples</th>\n",
       "      <th>n_represented</th>\n",
       "      <th>saving_cbill.total_usd wt_mean</th>\n",
       "      <th>saving_cbill.total_usd wt_p0.1</th>\n",
       "      <th>saving_cbill.total_usd wt_p0.25</th>\n",
       "      <th>saving_cbill.total_usd wt_p0.75</th>\n",
       "      <th>saving_cbill.total_usd wt_p0.9</th>\n",
       "    </tr>\n",
       "    <tr>\n",
       "      <th>upgrade_name</th>\n",
       "      <th></th>\n",
       "      <th></th>\n",
       "      <th></th>\n",
       "      <th></th>\n",
       "      <th></th>\n",
       "      <th></th>\n",
       "      <th></th>\n",
       "    </tr>\n",
       "  </thead>\n",
       "  <tbody>\n",
       "    <tr>\n",
       "      <th>Enhanced Enclosure + High Efficiency Whole Home Electrification</th>\n",
       "      <td>410</td>\n",
       "      <td>4945.494403</td>\n",
       "      <td>658.267124</td>\n",
       "      <td>253.503206</td>\n",
       "      <td>400.627697</td>\n",
       "      <td>820.408957</td>\n",
       "      <td>1149.605435</td>\n",
       "    </tr>\n",
       "    <tr>\n",
       "      <th>Enhanced Enclosure + HPWH + High Efficiency HP/Electric Backup</th>\n",
       "      <td>410</td>\n",
       "      <td>4945.494403</td>\n",
       "      <td>649.572223</td>\n",
       "      <td>240.461035</td>\n",
       "      <td>396.894229</td>\n",
       "      <td>826.905862</td>\n",
       "      <td>1134.528344</td>\n",
       "    </tr>\n",
       "    <tr>\n",
       "      <th>Basic Enclosure + High Efficiency Whole Home Electrification</th>\n",
       "      <td>410</td>\n",
       "      <td>4945.494403</td>\n",
       "      <td>643.998112</td>\n",
       "      <td>254.692000</td>\n",
       "      <td>383.634165</td>\n",
       "      <td>810.608499</td>\n",
       "      <td>1129.454082</td>\n",
       "    </tr>\n",
       "    <tr>\n",
       "      <th>Basic Enclosure + HPWH + High Efficiency HP/Electric Backup</th>\n",
       "      <td>410</td>\n",
       "      <td>4945.494403</td>\n",
       "      <td>635.303720</td>\n",
       "      <td>239.640184</td>\n",
       "      <td>385.381718</td>\n",
       "      <td>815.421196</td>\n",
       "      <td>1106.989568</td>\n",
       "    </tr>\n",
       "    <tr>\n",
       "      <th>High Efficiency Whole Home Electrification</th>\n",
       "      <td>410</td>\n",
       "      <td>4945.494403</td>\n",
       "      <td>575.252118</td>\n",
       "      <td>223.510469</td>\n",
       "      <td>358.181227</td>\n",
       "      <td>713.786822</td>\n",
       "      <td>979.960511</td>\n",
       "    </tr>\n",
       "    <tr>\n",
       "      <th>High Efficiency Heat Pump with Electric Heat Backup</th>\n",
       "      <td>407</td>\n",
       "      <td>4933.706659</td>\n",
       "      <td>404.670626</td>\n",
       "      <td>118.193551</td>\n",
       "      <td>208.342574</td>\n",
       "      <td>526.284104</td>\n",
       "      <td>726.896936</td>\n",
       "    </tr>\n",
       "    <tr>\n",
       "      <th>Mininum Efficiency Whole Home Electrification</th>\n",
       "      <td>142</td>\n",
       "      <td>2389.616391</td>\n",
       "      <td>234.827077</td>\n",
       "      <td>-39.661362</td>\n",
       "      <td>80.384783</td>\n",
       "      <td>379.801208</td>\n",
       "      <td>533.133157</td>\n",
       "    </tr>\n",
       "    <tr>\n",
       "      <th>Enhanced Enclosure</th>\n",
       "      <td>404</td>\n",
       "      <td>4895.519812</td>\n",
       "      <td>219.297242</td>\n",
       "      <td>31.057752</td>\n",
       "      <td>63.968032</td>\n",
       "      <td>315.039148</td>\n",
       "      <td>462.308780</td>\n",
       "    </tr>\n",
       "    <tr>\n",
       "      <th>Basic Enclosure</th>\n",
       "      <td>400</td>\n",
       "      <td>4874.921027</td>\n",
       "      <td>183.405854</td>\n",
       "      <td>25.057879</td>\n",
       "      <td>52.660875</td>\n",
       "      <td>271.378779</td>\n",
       "      <td>408.027748</td>\n",
       "    </tr>\n",
       "    <tr>\n",
       "      <th>Mininum Efficiency Heat Pump with Electric Heat Backup</th>\n",
       "      <td>407</td>\n",
       "      <td>4933.706659</td>\n",
       "      <td>158.352760</td>\n",
       "      <td>-4.486580</td>\n",
       "      <td>49.696209</td>\n",
       "      <td>229.686689</td>\n",
       "      <td>425.653764</td>\n",
       "    </tr>\n",
       "    <tr>\n",
       "      <th>Mininum Efficiency Heat Pump with Existing Heat Backup</th>\n",
       "      <td>409</td>\n",
       "      <td>4922.276119</td>\n",
       "      <td>140.494004</td>\n",
       "      <td>-27.771204</td>\n",
       "      <td>37.361225</td>\n",
       "      <td>208.218142</td>\n",
       "      <td>390.866071</td>\n",
       "    </tr>\n",
       "    <tr>\n",
       "      <th>Heat Pump Water Heater</th>\n",
       "      <td>408</td>\n",
       "      <td>4930.568364</td>\n",
       "      <td>112.303519</td>\n",
       "      <td>18.523183</td>\n",
       "      <td>45.709425</td>\n",
       "      <td>154.666608</td>\n",
       "      <td>231.714126</td>\n",
       "    </tr>\n",
       "    <tr>\n",
       "      <th>Heat Pump Clothes Dryer</th>\n",
       "      <td>271</td>\n",
       "      <td>3474.620390</td>\n",
       "      <td>17.884603</td>\n",
       "      <td>0.000000</td>\n",
       "      <td>0.000000</td>\n",
       "      <td>29.740433</td>\n",
       "      <td>42.794372</td>\n",
       "    </tr>\n",
       "    <tr>\n",
       "      <th>Electric Cooking</th>\n",
       "      <td>87</td>\n",
       "      <td>1254.242324</td>\n",
       "      <td>6.161763</td>\n",
       "      <td>-40.037788</td>\n",
       "      <td>0.000000</td>\n",
       "      <td>4.847178</td>\n",
       "      <td>100.357131</td>\n",
       "    </tr>\n",
       "    <tr>\n",
       "      <th>Induction Cooking</th>\n",
       "      <td>404</td>\n",
       "      <td>4863.235341</td>\n",
       "      <td>4.393169</td>\n",
       "      <td>0.000000</td>\n",
       "      <td>0.000000</td>\n",
       "      <td>4.647138</td>\n",
       "      <td>7.160476</td>\n",
       "    </tr>\n",
       "    <tr>\n",
       "      <th>Electric Clothes Dryer</th>\n",
       "      <td>7</td>\n",
       "      <td>147.049129</td>\n",
       "      <td>0.000000</td>\n",
       "      <td>0.000000</td>\n",
       "      <td>0.000000</td>\n",
       "      <td>0.000000</td>\n",
       "      <td>0.000000</td>\n",
       "    </tr>\n",
       "    <tr>\n",
       "      <th>baseline</th>\n",
       "      <td>410</td>\n",
       "      <td>4945.494403</td>\n",
       "      <td>0.000000</td>\n",
       "      <td>0.000000</td>\n",
       "      <td>0.000000</td>\n",
       "      <td>0.000000</td>\n",
       "      <td>0.000000</td>\n",
       "    </tr>\n",
       "  </tbody>\n",
       "</table>\n",
       "</div>"
      ],
      "text/plain": [
       "                                                    n_samples  n_represented  \\\n",
       "upgrade_name                                                                   \n",
       "Enhanced Enclosure + High Efficiency Whole Home...        410    4945.494403   \n",
       "Enhanced Enclosure + HPWH + High Efficiency HP/...        410    4945.494403   \n",
       "Basic Enclosure + High Efficiency Whole Home El...        410    4945.494403   \n",
       "Basic Enclosure + HPWH + High Efficiency HP/Ele...        410    4945.494403   \n",
       "High Efficiency Whole Home Electrification                410    4945.494403   \n",
       "High Efficiency Heat Pump with Electric Heat Ba...        407    4933.706659   \n",
       "Mininum Efficiency Whole Home Electrification             142    2389.616391   \n",
       "Enhanced Enclosure                                        404    4895.519812   \n",
       "Basic Enclosure                                           400    4874.921027   \n",
       "Mininum Efficiency Heat Pump with Electric Heat...        407    4933.706659   \n",
       "Mininum Efficiency Heat Pump with Existing Heat...        409    4922.276119   \n",
       "Heat Pump Water Heater                                    408    4930.568364   \n",
       "Heat Pump Clothes Dryer                                   271    3474.620390   \n",
       "Electric Cooking                                           87    1254.242324   \n",
       "Induction Cooking                                         404    4863.235341   \n",
       "Electric Clothes Dryer                                      7     147.049129   \n",
       "baseline                                                  410    4945.494403   \n",
       "\n",
       "                                                    saving_cbill.total_usd wt_mean  \\\n",
       "upgrade_name                                                                         \n",
       "Enhanced Enclosure + High Efficiency Whole Home...                      658.267124   \n",
       "Enhanced Enclosure + HPWH + High Efficiency HP/...                      649.572223   \n",
       "Basic Enclosure + High Efficiency Whole Home El...                      643.998112   \n",
       "Basic Enclosure + HPWH + High Efficiency HP/Ele...                      635.303720   \n",
       "High Efficiency Whole Home Electrification                              575.252118   \n",
       "High Efficiency Heat Pump with Electric Heat Ba...                      404.670626   \n",
       "Mininum Efficiency Whole Home Electrification                           234.827077   \n",
       "Enhanced Enclosure                                                      219.297242   \n",
       "Basic Enclosure                                                         183.405854   \n",
       "Mininum Efficiency Heat Pump with Electric Heat...                      158.352760   \n",
       "Mininum Efficiency Heat Pump with Existing Heat...                      140.494004   \n",
       "Heat Pump Water Heater                                                  112.303519   \n",
       "Heat Pump Clothes Dryer                                                  17.884603   \n",
       "Electric Cooking                                                          6.161763   \n",
       "Induction Cooking                                                         4.393169   \n",
       "Electric Clothes Dryer                                                    0.000000   \n",
       "baseline                                                                  0.000000   \n",
       "\n",
       "                                                    saving_cbill.total_usd wt_p0.1  \\\n",
       "upgrade_name                                                                         \n",
       "Enhanced Enclosure + High Efficiency Whole Home...                      253.503206   \n",
       "Enhanced Enclosure + HPWH + High Efficiency HP/...                      240.461035   \n",
       "Basic Enclosure + High Efficiency Whole Home El...                      254.692000   \n",
       "Basic Enclosure + HPWH + High Efficiency HP/Ele...                      239.640184   \n",
       "High Efficiency Whole Home Electrification                              223.510469   \n",
       "High Efficiency Heat Pump with Electric Heat Ba...                      118.193551   \n",
       "Mininum Efficiency Whole Home Electrification                           -39.661362   \n",
       "Enhanced Enclosure                                                       31.057752   \n",
       "Basic Enclosure                                                          25.057879   \n",
       "Mininum Efficiency Heat Pump with Electric Heat...                       -4.486580   \n",
       "Mininum Efficiency Heat Pump with Existing Heat...                      -27.771204   \n",
       "Heat Pump Water Heater                                                   18.523183   \n",
       "Heat Pump Clothes Dryer                                                   0.000000   \n",
       "Electric Cooking                                                        -40.037788   \n",
       "Induction Cooking                                                         0.000000   \n",
       "Electric Clothes Dryer                                                    0.000000   \n",
       "baseline                                                                  0.000000   \n",
       "\n",
       "                                                    saving_cbill.total_usd wt_p0.25  \\\n",
       "upgrade_name                                                                          \n",
       "Enhanced Enclosure + High Efficiency Whole Home...                       400.627697   \n",
       "Enhanced Enclosure + HPWH + High Efficiency HP/...                       396.894229   \n",
       "Basic Enclosure + High Efficiency Whole Home El...                       383.634165   \n",
       "Basic Enclosure + HPWH + High Efficiency HP/Ele...                       385.381718   \n",
       "High Efficiency Whole Home Electrification                               358.181227   \n",
       "High Efficiency Heat Pump with Electric Heat Ba...                       208.342574   \n",
       "Mininum Efficiency Whole Home Electrification                             80.384783   \n",
       "Enhanced Enclosure                                                        63.968032   \n",
       "Basic Enclosure                                                           52.660875   \n",
       "Mininum Efficiency Heat Pump with Electric Heat...                        49.696209   \n",
       "Mininum Efficiency Heat Pump with Existing Heat...                        37.361225   \n",
       "Heat Pump Water Heater                                                    45.709425   \n",
       "Heat Pump Clothes Dryer                                                    0.000000   \n",
       "Electric Cooking                                                           0.000000   \n",
       "Induction Cooking                                                          0.000000   \n",
       "Electric Clothes Dryer                                                     0.000000   \n",
       "baseline                                                                   0.000000   \n",
       "\n",
       "                                                    saving_cbill.total_usd wt_p0.75  \\\n",
       "upgrade_name                                                                          \n",
       "Enhanced Enclosure + High Efficiency Whole Home...                       820.408957   \n",
       "Enhanced Enclosure + HPWH + High Efficiency HP/...                       826.905862   \n",
       "Basic Enclosure + High Efficiency Whole Home El...                       810.608499   \n",
       "Basic Enclosure + HPWH + High Efficiency HP/Ele...                       815.421196   \n",
       "High Efficiency Whole Home Electrification                               713.786822   \n",
       "High Efficiency Heat Pump with Electric Heat Ba...                       526.284104   \n",
       "Mininum Efficiency Whole Home Electrification                            379.801208   \n",
       "Enhanced Enclosure                                                       315.039148   \n",
       "Basic Enclosure                                                          271.378779   \n",
       "Mininum Efficiency Heat Pump with Electric Heat...                       229.686689   \n",
       "Mininum Efficiency Heat Pump with Existing Heat...                       208.218142   \n",
       "Heat Pump Water Heater                                                   154.666608   \n",
       "Heat Pump Clothes Dryer                                                   29.740433   \n",
       "Electric Cooking                                                           4.847178   \n",
       "Induction Cooking                                                          4.647138   \n",
       "Electric Clothes Dryer                                                     0.000000   \n",
       "baseline                                                                   0.000000   \n",
       "\n",
       "                                                    saving_cbill.total_usd wt_p0.9  \n",
       "upgrade_name                                                                        \n",
       "Enhanced Enclosure + High Efficiency Whole Home...                     1149.605435  \n",
       "Enhanced Enclosure + HPWH + High Efficiency HP/...                     1134.528344  \n",
       "Basic Enclosure + High Efficiency Whole Home El...                     1129.454082  \n",
       "Basic Enclosure + HPWH + High Efficiency HP/Ele...                     1106.989568  \n",
       "High Efficiency Whole Home Electrification                              979.960511  \n",
       "High Efficiency Heat Pump with Electric Heat Ba...                      726.896936  \n",
       "Mininum Efficiency Whole Home Electrification                           533.133157  \n",
       "Enhanced Enclosure                                                      462.308780  \n",
       "Basic Enclosure                                                         408.027748  \n",
       "Mininum Efficiency Heat Pump with Electric Heat...                      425.653764  \n",
       "Mininum Efficiency Heat Pump with Existing Heat...                      390.866071  \n",
       "Heat Pump Water Heater                                                  231.714126  \n",
       "Heat Pump Clothes Dryer                                                  42.794372  \n",
       "Electric Cooking                                                        100.357131  \n",
       "Induction Cooking                                                         7.160476  \n",
       "Electric Clothes Dryer                                                    0.000000  \n",
       "baseline                                                                  0.000000  "
      ]
     },
     "metadata": {},
     "output_type": "display_data"
    },
    {
     "name": "stdout",
     "output_type": "stream",
     "text": [
      "Summary for segment: segment1: \n"
     ]
    },
    {
     "data": {
      "text/html": [
       "<div>\n",
       "<style scoped>\n",
       "    .dataframe tbody tr th:only-of-type {\n",
       "        vertical-align: middle;\n",
       "    }\n",
       "\n",
       "    .dataframe tbody tr th {\n",
       "        vertical-align: top;\n",
       "    }\n",
       "\n",
       "    .dataframe thead th {\n",
       "        text-align: right;\n",
       "    }\n",
       "</style>\n",
       "<table border=\"1\" class=\"dataframe\">\n",
       "  <thead>\n",
       "    <tr style=\"text-align: right;\">\n",
       "      <th></th>\n",
       "      <th>n_samples</th>\n",
       "      <th>n_represented</th>\n",
       "      <th>saving_cbill.total_usd wt_mean</th>\n",
       "      <th>saving_cbill.total_usd wt_p0.1</th>\n",
       "      <th>saving_cbill.total_usd wt_p0.25</th>\n",
       "      <th>saving_cbill.total_usd wt_p0.75</th>\n",
       "      <th>saving_cbill.total_usd wt_p0.9</th>\n",
       "    </tr>\n",
       "    <tr>\n",
       "      <th>upgrade_name</th>\n",
       "      <th></th>\n",
       "      <th></th>\n",
       "      <th></th>\n",
       "      <th></th>\n",
       "      <th></th>\n",
       "      <th></th>\n",
       "      <th></th>\n",
       "    </tr>\n",
       "  </thead>\n",
       "  <tbody>\n",
       "    <tr>\n",
       "      <th>Enhanced Enclosure + High Efficiency Whole Home Electrification</th>\n",
       "      <td>392</td>\n",
       "      <td>4225.727612</td>\n",
       "      <td>1500.093380</td>\n",
       "      <td>769.455731</td>\n",
       "      <td>1051.899745</td>\n",
       "      <td>1863.496449</td>\n",
       "      <td>2287.412751</td>\n",
       "    </tr>\n",
       "    <tr>\n",
       "      <th>Enhanced Enclosure + HPWH + High Efficiency HP/Electric Backup</th>\n",
       "      <td>392</td>\n",
       "      <td>4225.727612</td>\n",
       "      <td>1487.665778</td>\n",
       "      <td>785.411385</td>\n",
       "      <td>1057.958870</td>\n",
       "      <td>1834.593511</td>\n",
       "      <td>2265.991863</td>\n",
       "    </tr>\n",
       "    <tr>\n",
       "      <th>Basic Enclosure + High Efficiency Whole Home Electrification</th>\n",
       "      <td>392</td>\n",
       "      <td>4225.727612</td>\n",
       "      <td>1475.975915</td>\n",
       "      <td>769.455731</td>\n",
       "      <td>1030.528326</td>\n",
       "      <td>1813.911349</td>\n",
       "      <td>2237.472724</td>\n",
       "    </tr>\n",
       "    <tr>\n",
       "      <th>Basic Enclosure + HPWH + High Efficiency HP/Electric Backup</th>\n",
       "      <td>392</td>\n",
       "      <td>4225.727612</td>\n",
       "      <td>1463.535748</td>\n",
       "      <td>781.268491</td>\n",
       "      <td>1029.989995</td>\n",
       "      <td>1816.889551</td>\n",
       "      <td>2218.917545</td>\n",
       "    </tr>\n",
       "    <tr>\n",
       "      <th>High Efficiency Whole Home Electrification</th>\n",
       "      <td>392</td>\n",
       "      <td>4225.727612</td>\n",
       "      <td>1293.487901</td>\n",
       "      <td>712.545895</td>\n",
       "      <td>940.597920</td>\n",
       "      <td>1589.598999</td>\n",
       "      <td>1930.625102</td>\n",
       "    </tr>\n",
       "    <tr>\n",
       "      <th>High Efficiency Heat Pump with Electric Heat Backup</th>\n",
       "      <td>392</td>\n",
       "      <td>4225.727612</td>\n",
       "      <td>954.792735</td>\n",
       "      <td>362.218170</td>\n",
       "      <td>623.930226</td>\n",
       "      <td>1211.935375</td>\n",
       "      <td>1518.750765</td>\n",
       "    </tr>\n",
       "    <tr>\n",
       "      <th>Mininum Efficiency Whole Home Electrification</th>\n",
       "      <td>392</td>\n",
       "      <td>4225.727612</td>\n",
       "      <td>697.680570</td>\n",
       "      <td>278.998070</td>\n",
       "      <td>471.107472</td>\n",
       "      <td>909.562042</td>\n",
       "      <td>1188.388654</td>\n",
       "    </tr>\n",
       "    <tr>\n",
       "      <th>Enhanced Enclosure</th>\n",
       "      <td>391</td>\n",
       "      <td>4202.509328</td>\n",
       "      <td>609.838113</td>\n",
       "      <td>137.912045</td>\n",
       "      <td>299.163127</td>\n",
       "      <td>828.242459</td>\n",
       "      <td>1101.239432</td>\n",
       "    </tr>\n",
       "    <tr>\n",
       "      <th>Basic Enclosure</th>\n",
       "      <td>390</td>\n",
       "      <td>4196.704757</td>\n",
       "      <td>522.978059</td>\n",
       "      <td>122.399898</td>\n",
       "      <td>246.689317</td>\n",
       "      <td>714.975082</td>\n",
       "      <td>967.786354</td>\n",
       "    </tr>\n",
       "    <tr>\n",
       "      <th>Mininum Efficiency Heat Pump with Electric Heat Backup</th>\n",
       "      <td>392</td>\n",
       "      <td>4225.727612</td>\n",
       "      <td>408.035411</td>\n",
       "      <td>20.329423</td>\n",
       "      <td>223.478911</td>\n",
       "      <td>579.774683</td>\n",
       "      <td>820.394111</td>\n",
       "    </tr>\n",
       "    <tr>\n",
       "      <th>Mininum Efficiency Heat Pump with Existing Heat Backup</th>\n",
       "      <td>392</td>\n",
       "      <td>4225.727612</td>\n",
       "      <td>260.228763</td>\n",
       "      <td>-68.876760</td>\n",
       "      <td>97.986635</td>\n",
       "      <td>454.324533</td>\n",
       "      <td>632.599367</td>\n",
       "    </tr>\n",
       "    <tr>\n",
       "      <th>Heat Pump Water Heater</th>\n",
       "      <td>392</td>\n",
       "      <td>4225.727612</td>\n",
       "      <td>156.912011</td>\n",
       "      <td>71.113494</td>\n",
       "      <td>99.633176</td>\n",
       "      <td>209.164975</td>\n",
       "      <td>267.127429</td>\n",
       "    </tr>\n",
       "    <tr>\n",
       "      <th>Heat Pump Clothes Dryer</th>\n",
       "      <td>379</td>\n",
       "      <td>4070.054549</td>\n",
       "      <td>33.715682</td>\n",
       "      <td>15.318778</td>\n",
       "      <td>19.607340</td>\n",
       "      <td>44.284980</td>\n",
       "      <td>56.443098</td>\n",
       "    </tr>\n",
       "    <tr>\n",
       "      <th>Electric Cooking</th>\n",
       "      <td>183</td>\n",
       "      <td>1960.594751</td>\n",
       "      <td>9.770732</td>\n",
       "      <td>2.093652</td>\n",
       "      <td>3.176514</td>\n",
       "      <td>7.825733</td>\n",
       "      <td>34.707049</td>\n",
       "    </tr>\n",
       "    <tr>\n",
       "      <th>Induction Cooking</th>\n",
       "      <td>389</td>\n",
       "      <td>4192.835044</td>\n",
       "      <td>9.329113</td>\n",
       "      <td>3.766327</td>\n",
       "      <td>4.496725</td>\n",
       "      <td>9.063898</td>\n",
       "      <td>15.995319</td>\n",
       "    </tr>\n",
       "    <tr>\n",
       "      <th>baseline</th>\n",
       "      <td>392</td>\n",
       "      <td>4225.727612</td>\n",
       "      <td>0.000000</td>\n",
       "      <td>0.000000</td>\n",
       "      <td>0.000000</td>\n",
       "      <td>0.000000</td>\n",
       "      <td>0.000000</td>\n",
       "    </tr>\n",
       "    <tr>\n",
       "      <th>Electric Clothes Dryer</th>\n",
       "      <td>29</td>\n",
       "      <td>337.549618</td>\n",
       "      <td>-17.758689</td>\n",
       "      <td>-34.325768</td>\n",
       "      <td>-26.003352</td>\n",
       "      <td>-12.308463</td>\n",
       "      <td>-7.620747</td>\n",
       "    </tr>\n",
       "  </tbody>\n",
       "</table>\n",
       "</div>"
      ],
      "text/plain": [
       "                                                    n_samples  n_represented  \\\n",
       "upgrade_name                                                                   \n",
       "Enhanced Enclosure + High Efficiency Whole Home...        392    4225.727612   \n",
       "Enhanced Enclosure + HPWH + High Efficiency HP/...        392    4225.727612   \n",
       "Basic Enclosure + High Efficiency Whole Home El...        392    4225.727612   \n",
       "Basic Enclosure + HPWH + High Efficiency HP/Ele...        392    4225.727612   \n",
       "High Efficiency Whole Home Electrification                392    4225.727612   \n",
       "High Efficiency Heat Pump with Electric Heat Ba...        392    4225.727612   \n",
       "Mininum Efficiency Whole Home Electrification             392    4225.727612   \n",
       "Enhanced Enclosure                                        391    4202.509328   \n",
       "Basic Enclosure                                           390    4196.704757   \n",
       "Mininum Efficiency Heat Pump with Electric Heat...        392    4225.727612   \n",
       "Mininum Efficiency Heat Pump with Existing Heat...        392    4225.727612   \n",
       "Heat Pump Water Heater                                    392    4225.727612   \n",
       "Heat Pump Clothes Dryer                                   379    4070.054549   \n",
       "Electric Cooking                                          183    1960.594751   \n",
       "Induction Cooking                                         389    4192.835044   \n",
       "baseline                                                  392    4225.727612   \n",
       "Electric Clothes Dryer                                     29     337.549618   \n",
       "\n",
       "                                                    saving_cbill.total_usd wt_mean  \\\n",
       "upgrade_name                                                                         \n",
       "Enhanced Enclosure + High Efficiency Whole Home...                     1500.093380   \n",
       "Enhanced Enclosure + HPWH + High Efficiency HP/...                     1487.665778   \n",
       "Basic Enclosure + High Efficiency Whole Home El...                     1475.975915   \n",
       "Basic Enclosure + HPWH + High Efficiency HP/Ele...                     1463.535748   \n",
       "High Efficiency Whole Home Electrification                             1293.487901   \n",
       "High Efficiency Heat Pump with Electric Heat Ba...                      954.792735   \n",
       "Mininum Efficiency Whole Home Electrification                           697.680570   \n",
       "Enhanced Enclosure                                                      609.838113   \n",
       "Basic Enclosure                                                         522.978059   \n",
       "Mininum Efficiency Heat Pump with Electric Heat...                      408.035411   \n",
       "Mininum Efficiency Heat Pump with Existing Heat...                      260.228763   \n",
       "Heat Pump Water Heater                                                  156.912011   \n",
       "Heat Pump Clothes Dryer                                                  33.715682   \n",
       "Electric Cooking                                                          9.770732   \n",
       "Induction Cooking                                                         9.329113   \n",
       "baseline                                                                  0.000000   \n",
       "Electric Clothes Dryer                                                  -17.758689   \n",
       "\n",
       "                                                    saving_cbill.total_usd wt_p0.1  \\\n",
       "upgrade_name                                                                         \n",
       "Enhanced Enclosure + High Efficiency Whole Home...                      769.455731   \n",
       "Enhanced Enclosure + HPWH + High Efficiency HP/...                      785.411385   \n",
       "Basic Enclosure + High Efficiency Whole Home El...                      769.455731   \n",
       "Basic Enclosure + HPWH + High Efficiency HP/Ele...                      781.268491   \n",
       "High Efficiency Whole Home Electrification                              712.545895   \n",
       "High Efficiency Heat Pump with Electric Heat Ba...                      362.218170   \n",
       "Mininum Efficiency Whole Home Electrification                           278.998070   \n",
       "Enhanced Enclosure                                                      137.912045   \n",
       "Basic Enclosure                                                         122.399898   \n",
       "Mininum Efficiency Heat Pump with Electric Heat...                       20.329423   \n",
       "Mininum Efficiency Heat Pump with Existing Heat...                      -68.876760   \n",
       "Heat Pump Water Heater                                                   71.113494   \n",
       "Heat Pump Clothes Dryer                                                  15.318778   \n",
       "Electric Cooking                                                          2.093652   \n",
       "Induction Cooking                                                         3.766327   \n",
       "baseline                                                                  0.000000   \n",
       "Electric Clothes Dryer                                                  -34.325768   \n",
       "\n",
       "                                                    saving_cbill.total_usd wt_p0.25  \\\n",
       "upgrade_name                                                                          \n",
       "Enhanced Enclosure + High Efficiency Whole Home...                      1051.899745   \n",
       "Enhanced Enclosure + HPWH + High Efficiency HP/...                      1057.958870   \n",
       "Basic Enclosure + High Efficiency Whole Home El...                      1030.528326   \n",
       "Basic Enclosure + HPWH + High Efficiency HP/Ele...                      1029.989995   \n",
       "High Efficiency Whole Home Electrification                               940.597920   \n",
       "High Efficiency Heat Pump with Electric Heat Ba...                       623.930226   \n",
       "Mininum Efficiency Whole Home Electrification                            471.107472   \n",
       "Enhanced Enclosure                                                       299.163127   \n",
       "Basic Enclosure                                                          246.689317   \n",
       "Mininum Efficiency Heat Pump with Electric Heat...                       223.478911   \n",
       "Mininum Efficiency Heat Pump with Existing Heat...                        97.986635   \n",
       "Heat Pump Water Heater                                                    99.633176   \n",
       "Heat Pump Clothes Dryer                                                   19.607340   \n",
       "Electric Cooking                                                           3.176514   \n",
       "Induction Cooking                                                          4.496725   \n",
       "baseline                                                                   0.000000   \n",
       "Electric Clothes Dryer                                                   -26.003352   \n",
       "\n",
       "                                                    saving_cbill.total_usd wt_p0.75  \\\n",
       "upgrade_name                                                                          \n",
       "Enhanced Enclosure + High Efficiency Whole Home...                      1863.496449   \n",
       "Enhanced Enclosure + HPWH + High Efficiency HP/...                      1834.593511   \n",
       "Basic Enclosure + High Efficiency Whole Home El...                      1813.911349   \n",
       "Basic Enclosure + HPWH + High Efficiency HP/Ele...                      1816.889551   \n",
       "High Efficiency Whole Home Electrification                              1589.598999   \n",
       "High Efficiency Heat Pump with Electric Heat Ba...                      1211.935375   \n",
       "Mininum Efficiency Whole Home Electrification                            909.562042   \n",
       "Enhanced Enclosure                                                       828.242459   \n",
       "Basic Enclosure                                                          714.975082   \n",
       "Mininum Efficiency Heat Pump with Electric Heat...                       579.774683   \n",
       "Mininum Efficiency Heat Pump with Existing Heat...                       454.324533   \n",
       "Heat Pump Water Heater                                                   209.164975   \n",
       "Heat Pump Clothes Dryer                                                   44.284980   \n",
       "Electric Cooking                                                           7.825733   \n",
       "Induction Cooking                                                          9.063898   \n",
       "baseline                                                                   0.000000   \n",
       "Electric Clothes Dryer                                                   -12.308463   \n",
       "\n",
       "                                                    saving_cbill.total_usd wt_p0.9  \n",
       "upgrade_name                                                                        \n",
       "Enhanced Enclosure + High Efficiency Whole Home...                     2287.412751  \n",
       "Enhanced Enclosure + HPWH + High Efficiency HP/...                     2265.991863  \n",
       "Basic Enclosure + High Efficiency Whole Home El...                     2237.472724  \n",
       "Basic Enclosure + HPWH + High Efficiency HP/Ele...                     2218.917545  \n",
       "High Efficiency Whole Home Electrification                             1930.625102  \n",
       "High Efficiency Heat Pump with Electric Heat Ba...                     1518.750765  \n",
       "Mininum Efficiency Whole Home Electrification                          1188.388654  \n",
       "Enhanced Enclosure                                                     1101.239432  \n",
       "Basic Enclosure                                                         967.786354  \n",
       "Mininum Efficiency Heat Pump with Electric Heat...                      820.394111  \n",
       "Mininum Efficiency Heat Pump with Existing Heat...                      632.599367  \n",
       "Heat Pump Water Heater                                                  267.127429  \n",
       "Heat Pump Clothes Dryer                                                  56.443098  \n",
       "Electric Cooking                                                         34.707049  \n",
       "Induction Cooking                                                        15.995319  \n",
       "baseline                                                                  0.000000  \n",
       "Electric Clothes Dryer                                                   -7.620747  "
      ]
     },
     "metadata": {},
     "output_type": "display_data"
    },
    {
     "name": "stdout",
     "output_type": "stream",
     "text": [
      "Summary for segment: segment2: \n"
     ]
    },
    {
     "data": {
      "text/html": [
       "<div>\n",
       "<style scoped>\n",
       "    .dataframe tbody tr th:only-of-type {\n",
       "        vertical-align: middle;\n",
       "    }\n",
       "\n",
       "    .dataframe tbody tr th {\n",
       "        vertical-align: top;\n",
       "    }\n",
       "\n",
       "    .dataframe thead th {\n",
       "        text-align: right;\n",
       "    }\n",
       "</style>\n",
       "<table border=\"1\" class=\"dataframe\">\n",
       "  <thead>\n",
       "    <tr style=\"text-align: right;\">\n",
       "      <th></th>\n",
       "      <th>n_samples</th>\n",
       "      <th>n_represented</th>\n",
       "      <th>saving_cbill.total_usd wt_mean</th>\n",
       "      <th>saving_cbill.total_usd wt_p0.1</th>\n",
       "      <th>saving_cbill.total_usd wt_p0.25</th>\n",
       "      <th>saving_cbill.total_usd wt_p0.75</th>\n",
       "      <th>saving_cbill.total_usd wt_p0.9</th>\n",
       "    </tr>\n",
       "    <tr>\n",
       "      <th>upgrade_name</th>\n",
       "      <th></th>\n",
       "      <th></th>\n",
       "      <th></th>\n",
       "      <th></th>\n",
       "      <th></th>\n",
       "      <th></th>\n",
       "      <th></th>\n",
       "    </tr>\n",
       "  </thead>\n",
       "  <tbody>\n",
       "    <tr>\n",
       "      <th>Enhanced Enclosure + High Efficiency Whole Home Electrification</th>\n",
       "      <td>356</td>\n",
       "      <td>3273.777985</td>\n",
       "      <td>1536.413627</td>\n",
       "      <td>716.029951</td>\n",
       "      <td>968.426667</td>\n",
       "      <td>1868.786825</td>\n",
       "      <td>2573.328802</td>\n",
       "    </tr>\n",
       "    <tr>\n",
       "      <th>Basic Enclosure + High Efficiency Whole Home Electrification</th>\n",
       "      <td>356</td>\n",
       "      <td>3273.777985</td>\n",
       "      <td>1517.559253</td>\n",
       "      <td>709.926140</td>\n",
       "      <td>967.247142</td>\n",
       "      <td>1852.524440</td>\n",
       "      <td>2564.662594</td>\n",
       "    </tr>\n",
       "    <tr>\n",
       "      <th>Enhanced Enclosure + HPWH + High Efficiency HP/Electric Backup</th>\n",
       "      <td>356</td>\n",
       "      <td>3273.777985</td>\n",
       "      <td>1505.910244</td>\n",
       "      <td>679.596734</td>\n",
       "      <td>945.472538</td>\n",
       "      <td>1842.563089</td>\n",
       "      <td>2540.534235</td>\n",
       "    </tr>\n",
       "    <tr>\n",
       "      <th>Basic Enclosure + HPWH + High Efficiency HP/Electric Backup</th>\n",
       "      <td>356</td>\n",
       "      <td>3273.777985</td>\n",
       "      <td>1487.079293</td>\n",
       "      <td>679.596734</td>\n",
       "      <td>935.635408</td>\n",
       "      <td>1831.483503</td>\n",
       "      <td>2516.826741</td>\n",
       "    </tr>\n",
       "    <tr>\n",
       "      <th>High Efficiency Whole Home Electrification</th>\n",
       "      <td>356</td>\n",
       "      <td>3273.777985</td>\n",
       "      <td>1355.127632</td>\n",
       "      <td>654.215073</td>\n",
       "      <td>877.752957</td>\n",
       "      <td>1611.905335</td>\n",
       "      <td>2174.781222</td>\n",
       "    </tr>\n",
       "    <tr>\n",
       "      <th>High Efficiency Heat Pump with Electric Heat Backup</th>\n",
       "      <td>356</td>\n",
       "      <td>3273.777985</td>\n",
       "      <td>1108.996186</td>\n",
       "      <td>430.160330</td>\n",
       "      <td>601.836225</td>\n",
       "      <td>1388.713866</td>\n",
       "      <td>1911.180045</td>\n",
       "    </tr>\n",
       "    <tr>\n",
       "      <th>Enhanced Enclosure</th>\n",
       "      <td>353</td>\n",
       "      <td>3242.969109</td>\n",
       "      <td>632.065567</td>\n",
       "      <td>114.341272</td>\n",
       "      <td>257.076004</td>\n",
       "      <td>837.608002</td>\n",
       "      <td>1341.124291</td>\n",
       "    </tr>\n",
       "    <tr>\n",
       "      <th>Mininum Efficiency Heat Pump with Electric Heat Backup</th>\n",
       "      <td>356</td>\n",
       "      <td>3273.777985</td>\n",
       "      <td>595.604443</td>\n",
       "      <td>114.100929</td>\n",
       "      <td>228.912488</td>\n",
       "      <td>799.342914</td>\n",
       "      <td>1241.220886</td>\n",
       "    </tr>\n",
       "    <tr>\n",
       "      <th>Mininum Efficiency Heat Pump with Existing Heat Backup</th>\n",
       "      <td>356</td>\n",
       "      <td>3273.777985</td>\n",
       "      <td>595.603189</td>\n",
       "      <td>114.100929</td>\n",
       "      <td>228.912488</td>\n",
       "      <td>799.342914</td>\n",
       "      <td>1241.220886</td>\n",
       "    </tr>\n",
       "    <tr>\n",
       "      <th>Basic Enclosure</th>\n",
       "      <td>353</td>\n",
       "      <td>3242.969109</td>\n",
       "      <td>562.045352</td>\n",
       "      <td>86.469676</td>\n",
       "      <td>211.983760</td>\n",
       "      <td>791.558444</td>\n",
       "      <td>1168.406155</td>\n",
       "    </tr>\n",
       "    <tr>\n",
       "      <th>Heat Pump Water Heater</th>\n",
       "      <td>349</td>\n",
       "      <td>3212.398369</td>\n",
       "      <td>157.277372</td>\n",
       "      <td>47.795478</td>\n",
       "      <td>69.452048</td>\n",
       "      <td>216.921971</td>\n",
       "      <td>324.151474</td>\n",
       "    </tr>\n",
       "    <tr>\n",
       "      <th>Mininum Efficiency Whole Home Electrification</th>\n",
       "      <td>79</td>\n",
       "      <td>835.355004</td>\n",
       "      <td>129.759400</td>\n",
       "      <td>-55.503604</td>\n",
       "      <td>8.163284</td>\n",
       "      <td>231.724449</td>\n",
       "      <td>375.640090</td>\n",
       "    </tr>\n",
       "    <tr>\n",
       "      <th>Heat Pump Clothes Dryer</th>\n",
       "      <td>341</td>\n",
       "      <td>3145.940639</td>\n",
       "      <td>35.049431</td>\n",
       "      <td>15.549509</td>\n",
       "      <td>22.350600</td>\n",
       "      <td>43.430491</td>\n",
       "      <td>56.229243</td>\n",
       "    </tr>\n",
       "    <tr>\n",
       "      <th>Electric Clothes Dryer</th>\n",
       "      <td>9</td>\n",
       "      <td>66.844701</td>\n",
       "      <td>34.737972</td>\n",
       "      <td>-28.805811</td>\n",
       "      <td>-23.432747</td>\n",
       "      <td>76.641585</td>\n",
       "      <td>80.044454</td>\n",
       "    </tr>\n",
       "    <tr>\n",
       "      <th>Electric Cooking</th>\n",
       "      <td>56</td>\n",
       "      <td>484.731281</td>\n",
       "      <td>34.658055</td>\n",
       "      <td>-52.733806</td>\n",
       "      <td>-44.054221</td>\n",
       "      <td>104.127054</td>\n",
       "      <td>107.073832</td>\n",
       "    </tr>\n",
       "    <tr>\n",
       "      <th>Induction Cooking</th>\n",
       "      <td>353</td>\n",
       "      <td>3238.950560</td>\n",
       "      <td>9.768388</td>\n",
       "      <td>3.371966</td>\n",
       "      <td>3.627435</td>\n",
       "      <td>5.249537</td>\n",
       "      <td>7.968464</td>\n",
       "    </tr>\n",
       "    <tr>\n",
       "      <th>baseline</th>\n",
       "      <td>356</td>\n",
       "      <td>3273.777985</td>\n",
       "      <td>0.000000</td>\n",
       "      <td>0.000000</td>\n",
       "      <td>0.000000</td>\n",
       "      <td>0.000000</td>\n",
       "      <td>0.000000</td>\n",
       "    </tr>\n",
       "  </tbody>\n",
       "</table>\n",
       "</div>"
      ],
      "text/plain": [
       "                                                    n_samples  n_represented  \\\n",
       "upgrade_name                                                                   \n",
       "Enhanced Enclosure + High Efficiency Whole Home...        356    3273.777985   \n",
       "Basic Enclosure + High Efficiency Whole Home El...        356    3273.777985   \n",
       "Enhanced Enclosure + HPWH + High Efficiency HP/...        356    3273.777985   \n",
       "Basic Enclosure + HPWH + High Efficiency HP/Ele...        356    3273.777985   \n",
       "High Efficiency Whole Home Electrification                356    3273.777985   \n",
       "High Efficiency Heat Pump with Electric Heat Ba...        356    3273.777985   \n",
       "Enhanced Enclosure                                        353    3242.969109   \n",
       "Mininum Efficiency Heat Pump with Electric Heat...        356    3273.777985   \n",
       "Mininum Efficiency Heat Pump with Existing Heat...        356    3273.777985   \n",
       "Basic Enclosure                                           353    3242.969109   \n",
       "Heat Pump Water Heater                                    349    3212.398369   \n",
       "Mininum Efficiency Whole Home Electrification              79     835.355004   \n",
       "Heat Pump Clothes Dryer                                   341    3145.940639   \n",
       "Electric Clothes Dryer                                      9      66.844701   \n",
       "Electric Cooking                                           56     484.731281   \n",
       "Induction Cooking                                         353    3238.950560   \n",
       "baseline                                                  356    3273.777985   \n",
       "\n",
       "                                                    saving_cbill.total_usd wt_mean  \\\n",
       "upgrade_name                                                                         \n",
       "Enhanced Enclosure + High Efficiency Whole Home...                     1536.413627   \n",
       "Basic Enclosure + High Efficiency Whole Home El...                     1517.559253   \n",
       "Enhanced Enclosure + HPWH + High Efficiency HP/...                     1505.910244   \n",
       "Basic Enclosure + HPWH + High Efficiency HP/Ele...                     1487.079293   \n",
       "High Efficiency Whole Home Electrification                             1355.127632   \n",
       "High Efficiency Heat Pump with Electric Heat Ba...                     1108.996186   \n",
       "Enhanced Enclosure                                                      632.065567   \n",
       "Mininum Efficiency Heat Pump with Electric Heat...                      595.604443   \n",
       "Mininum Efficiency Heat Pump with Existing Heat...                      595.603189   \n",
       "Basic Enclosure                                                         562.045352   \n",
       "Heat Pump Water Heater                                                  157.277372   \n",
       "Mininum Efficiency Whole Home Electrification                           129.759400   \n",
       "Heat Pump Clothes Dryer                                                  35.049431   \n",
       "Electric Clothes Dryer                                                   34.737972   \n",
       "Electric Cooking                                                         34.658055   \n",
       "Induction Cooking                                                         9.768388   \n",
       "baseline                                                                  0.000000   \n",
       "\n",
       "                                                    saving_cbill.total_usd wt_p0.1  \\\n",
       "upgrade_name                                                                         \n",
       "Enhanced Enclosure + High Efficiency Whole Home...                      716.029951   \n",
       "Basic Enclosure + High Efficiency Whole Home El...                      709.926140   \n",
       "Enhanced Enclosure + HPWH + High Efficiency HP/...                      679.596734   \n",
       "Basic Enclosure + HPWH + High Efficiency HP/Ele...                      679.596734   \n",
       "High Efficiency Whole Home Electrification                              654.215073   \n",
       "High Efficiency Heat Pump with Electric Heat Ba...                      430.160330   \n",
       "Enhanced Enclosure                                                      114.341272   \n",
       "Mininum Efficiency Heat Pump with Electric Heat...                      114.100929   \n",
       "Mininum Efficiency Heat Pump with Existing Heat...                      114.100929   \n",
       "Basic Enclosure                                                          86.469676   \n",
       "Heat Pump Water Heater                                                   47.795478   \n",
       "Mininum Efficiency Whole Home Electrification                           -55.503604   \n",
       "Heat Pump Clothes Dryer                                                  15.549509   \n",
       "Electric Clothes Dryer                                                  -28.805811   \n",
       "Electric Cooking                                                        -52.733806   \n",
       "Induction Cooking                                                         3.371966   \n",
       "baseline                                                                  0.000000   \n",
       "\n",
       "                                                    saving_cbill.total_usd wt_p0.25  \\\n",
       "upgrade_name                                                                          \n",
       "Enhanced Enclosure + High Efficiency Whole Home...                       968.426667   \n",
       "Basic Enclosure + High Efficiency Whole Home El...                       967.247142   \n",
       "Enhanced Enclosure + HPWH + High Efficiency HP/...                       945.472538   \n",
       "Basic Enclosure + HPWH + High Efficiency HP/Ele...                       935.635408   \n",
       "High Efficiency Whole Home Electrification                               877.752957   \n",
       "High Efficiency Heat Pump with Electric Heat Ba...                       601.836225   \n",
       "Enhanced Enclosure                                                       257.076004   \n",
       "Mininum Efficiency Heat Pump with Electric Heat...                       228.912488   \n",
       "Mininum Efficiency Heat Pump with Existing Heat...                       228.912488   \n",
       "Basic Enclosure                                                          211.983760   \n",
       "Heat Pump Water Heater                                                    69.452048   \n",
       "Mininum Efficiency Whole Home Electrification                              8.163284   \n",
       "Heat Pump Clothes Dryer                                                   22.350600   \n",
       "Electric Clothes Dryer                                                   -23.432747   \n",
       "Electric Cooking                                                         -44.054221   \n",
       "Induction Cooking                                                          3.627435   \n",
       "baseline                                                                   0.000000   \n",
       "\n",
       "                                                    saving_cbill.total_usd wt_p0.75  \\\n",
       "upgrade_name                                                                          \n",
       "Enhanced Enclosure + High Efficiency Whole Home...                      1868.786825   \n",
       "Basic Enclosure + High Efficiency Whole Home El...                      1852.524440   \n",
       "Enhanced Enclosure + HPWH + High Efficiency HP/...                      1842.563089   \n",
       "Basic Enclosure + HPWH + High Efficiency HP/Ele...                      1831.483503   \n",
       "High Efficiency Whole Home Electrification                              1611.905335   \n",
       "High Efficiency Heat Pump with Electric Heat Ba...                      1388.713866   \n",
       "Enhanced Enclosure                                                       837.608002   \n",
       "Mininum Efficiency Heat Pump with Electric Heat...                       799.342914   \n",
       "Mininum Efficiency Heat Pump with Existing Heat...                       799.342914   \n",
       "Basic Enclosure                                                          791.558444   \n",
       "Heat Pump Water Heater                                                   216.921971   \n",
       "Mininum Efficiency Whole Home Electrification                            231.724449   \n",
       "Heat Pump Clothes Dryer                                                   43.430491   \n",
       "Electric Clothes Dryer                                                    76.641585   \n",
       "Electric Cooking                                                         104.127054   \n",
       "Induction Cooking                                                          5.249537   \n",
       "baseline                                                                   0.000000   \n",
       "\n",
       "                                                    saving_cbill.total_usd wt_p0.9  \n",
       "upgrade_name                                                                        \n",
       "Enhanced Enclosure + High Efficiency Whole Home...                     2573.328802  \n",
       "Basic Enclosure + High Efficiency Whole Home El...                     2564.662594  \n",
       "Enhanced Enclosure + HPWH + High Efficiency HP/...                     2540.534235  \n",
       "Basic Enclosure + HPWH + High Efficiency HP/Ele...                     2516.826741  \n",
       "High Efficiency Whole Home Electrification                             2174.781222  \n",
       "High Efficiency Heat Pump with Electric Heat Ba...                     1911.180045  \n",
       "Enhanced Enclosure                                                     1341.124291  \n",
       "Mininum Efficiency Heat Pump with Electric Heat...                     1241.220886  \n",
       "Mininum Efficiency Heat Pump with Existing Heat...                     1241.220886  \n",
       "Basic Enclosure                                                        1168.406155  \n",
       "Heat Pump Water Heater                                                  324.151474  \n",
       "Mininum Efficiency Whole Home Electrification                           375.640090  \n",
       "Heat Pump Clothes Dryer                                                  56.229243  \n",
       "Electric Clothes Dryer                                                   80.044454  \n",
       "Electric Cooking                                                        107.073832  \n",
       "Induction Cooking                                                         7.968464  \n",
       "baseline                                                                  0.000000  "
      ]
     },
     "metadata": {},
     "output_type": "display_data"
    }
   ],
   "source": [
    "metric = 'saving_cbill.total_usd'  # TODO 'pct_saving_cbill.total_%' #'pct_saving_energy.total_%' #'saving_energy.total_mmbtu' #'saving_cbill.total_usd'\n",
    "\n",
    "for segment in sorted(community_results[\"segment\"].dropna().unique()):\n",
    "    print(f\"Summary for segment: {segment}: \")\n",
    "    df_seg = community_results.loc[community_results[\"segment\"]==segment]\n",
    "    results = get_summary(df_seg, metric, lower_percentile=0.10, middle_percentile1=0.25, middle_percentile2=0.75, upper_percentile=0.90)\n",
    "    saving_results[f'{segment}_{income}_saving_bill_total_usd_wt_p0.1'] = results.iloc[:, 3]\n",
    "    saving_results[f'{segment}_{income}_saving_bill_total_usd_wt_p0.25'] = results.iloc[:, 4]\n",
    "    saving_results[f'{segment}_{income}_saving_bill_total_usd_wt_p0.75'] = results.iloc[:, 5]\n",
    "    saving_results[f'{segment}_{income}_saving_bill_total_usd_wt_p0.9'] = results.iloc[:, 6]\n",
    "    display(results)"
   ]
  },
  {
   "cell_type": "markdown",
   "id": "13fe6b47",
   "metadata": {},
   "source": [
    "## 2.1 Upgrade Cost Per Dwelling Unit "
   ]
  },
  {
   "cell_type": "code",
   "execution_count": 21,
   "id": "585a1a25",
   "metadata": {},
   "outputs": [
    {
     "name": "stdout",
     "output_type": "stream",
     "text": [
      "segment1: upgrade cost (usd) per dwelling unit\n"
     ]
    },
    {
     "data": {
      "text/plain": [
       "upgrade_name\n",
       "Electric Cooking                                                     977.8\n",
       "Electric Clothes Dryer                                              1098.0\n",
       "Induction Cooking                                                   1681.3\n",
       "Heat Pump Clothes Dryer                                             2209.5\n",
       "Heat Pump Water Heater                                              2891.3\n",
       "Basic Enclosure                                                     6464.5\n",
       "Enhanced Enclosure                                                  8852.1\n",
       "Mininum Efficiency Heat Pump with Existing Heat Backup             16194.6\n",
       "Mininum Efficiency Heat Pump with Electric Heat Backup             16443.3\n",
       "Mininum Efficiency Whole Home Electrification                      19425.5\n",
       "High Efficiency Heat Pump with Electric Heat Backup                26772.6\n",
       "Basic Enclosure + HPWH + High Efficiency HP/Electric Backup        31746.5\n",
       "Enhanced Enclosure + HPWH + High Efficiency HP/Electric Backup     33345.8\n",
       "High Efficiency Whole Home Electrification                         33460.2\n",
       "Basic Enclosure + High Efficiency Whole Home Electrification       35542.8\n",
       "Enhanced Enclosure + High Efficiency Whole Home Electrification    37142.2\n",
       "Name: upgrade_cost_usd, dtype: float64"
      ]
     },
     "metadata": {},
     "output_type": "display_data"
    },
    {
     "name": "stdout",
     "output_type": "stream",
     "text": [
      "segment2: upgrade cost (usd) per dwelling unit\n"
     ]
    },
    {
     "data": {
      "text/plain": [
       "upgrade_name\n",
       "Electric Cooking                                                     977.8\n",
       "Electric Clothes Dryer                                              1098.0\n",
       "Induction Cooking                                                   1681.3\n",
       "Mininum Efficiency Whole Home Electrification                       2050.6\n",
       "Heat Pump Clothes Dryer                                             2209.5\n",
       "Heat Pump Water Heater                                              2896.3\n",
       "Basic Enclosure                                                     5699.3\n",
       "Enhanced Enclosure                                                  7654.7\n",
       "Mininum Efficiency Heat Pump with Electric Heat Backup             15591.5\n",
       "Mininum Efficiency Heat Pump with Existing Heat Backup             15591.5\n",
       "High Efficiency Heat Pump with Electric Heat Backup                26662.5\n",
       "Basic Enclosure + HPWH + High Efficiency HP/Electric Backup        31360.1\n",
       "Enhanced Enclosure + HPWH + High Efficiency HP/Electric Backup     32694.8\n",
       "High Efficiency Whole Home Electrification                         33291.2\n",
       "Basic Enclosure + High Efficiency Whole Home Electrification       35146.7\n",
       "Enhanced Enclosure + High Efficiency Whole Home Electrification    36481.5\n",
       "Name: upgrade_cost_usd, dtype: float64"
      ]
     },
     "metadata": {},
     "output_type": "display_data"
    }
   ],
   "source": [
    "results = segment_mean_upgrade_cost(community_results) \n",
    "saving_results[f'segment1_{income}_upgrade_cost_mean_usd'] = results[0]\n",
    "saving_results[f'segment2_{income}_upgrade_cost_mean_usd'] = results[1]"
   ]
  },
  {
   "cell_type": "markdown",
   "id": "660e0aa3",
   "metadata": {},
   "source": [
    " ## 2.2 Annual Savings Per Dollar Invested"
   ]
  },
  {
   "cell_type": "markdown",
   "id": "9492f6e1",
   "metadata": {},
   "source": [
    " ### Annual Bill Savings Per Dollar Invested"
   ]
  },
  {
   "cell_type": "code",
   "execution_count": 22,
   "id": "6e31ced4",
   "metadata": {},
   "outputs": [
    {
     "name": "stdout",
     "output_type": "stream",
     "text": [
      "segment1\n"
     ]
    },
    {
     "data": {
      "text/plain": [
       "upgrade_name\n",
       "Basic Enclosure                                                    0.08090\n",
       "Enhanced Enclosure                                                 0.06889\n",
       "Heat Pump Water Heater                                             0.05427\n",
       "Basic Enclosure + HPWH + High Efficiency HP/Electric Backup        0.04610\n",
       "Enhanced Enclosure + HPWH + High Efficiency HP/Electric Backup     0.04461\n",
       "Basic Enclosure + High Efficiency Whole Home Electrification       0.04153\n",
       "Enhanced Enclosure + High Efficiency Whole Home Electrification    0.04039\n",
       "High Efficiency Whole Home Electrification                         0.03866\n",
       "Mininum Efficiency Whole Home Electrification                      0.03592\n",
       "High Efficiency Heat Pump with Electric Heat Backup                0.03566\n",
       "Mininum Efficiency Heat Pump with Electric Heat Backup             0.02481\n",
       "Mininum Efficiency Heat Pump with Existing Heat Backup             0.01607\n",
       "Heat Pump Clothes Dryer                                            0.01526\n",
       "Electric Cooking                                                   0.00999\n",
       "Induction Cooking                                                  0.00555\n",
       "Electric Clothes Dryer                                            -0.01617\n",
       "Name: saving_cbill.total_usd, dtype: float64"
      ]
     },
     "metadata": {},
     "output_type": "display_data"
    },
    {
     "name": "stdout",
     "output_type": "stream",
     "text": [
      "segment2\n"
     ]
    },
    {
     "data": {
      "text/plain": [
       "upgrade_name\n",
       "Basic Enclosure                                                    0.09862\n",
       "Enhanced Enclosure                                                 0.08257\n",
       "Mininum Efficiency Whole Home Electrification                      0.06328\n",
       "Heat Pump Water Heater                                             0.05430\n",
       "Basic Enclosure + HPWH + High Efficiency HP/Electric Backup        0.04742\n",
       "Enhanced Enclosure + HPWH + High Efficiency HP/Electric Backup     0.04606\n",
       "Basic Enclosure + High Efficiency Whole Home Electrification       0.04318\n",
       "Enhanced Enclosure + High Efficiency Whole Home Electrification    0.04211\n",
       "High Efficiency Heat Pump with Electric Heat Backup                0.04159\n",
       "High Efficiency Whole Home Electrification                         0.04071\n",
       "Mininum Efficiency Heat Pump with Electric Heat Backup             0.03820\n",
       "Mininum Efficiency Heat Pump with Existing Heat Backup             0.03820\n",
       "Electric Cooking                                                   0.03545\n",
       "Electric Clothes Dryer                                             0.03164\n",
       "Heat Pump Clothes Dryer                                            0.01586\n",
       "Induction Cooking                                                  0.00581\n",
       "Name: saving_cbill.total_usd, dtype: float64"
      ]
     },
     "metadata": {},
     "output_type": "display_data"
    }
   ],
   "source": [
    "indicator ='saving_cbill.total_usd'\n",
    "results = segment_savings_per_dollar(indicator, community_results) \n",
    "saving_results[f'segment1_{income}_saving_bill_per_dollar_invested_usd'] = results[0]\n",
    "saving_results[f'segment2_{income}_saving_bill_per_dollar_invested_usd'] = results[1]"
   ]
  },
  {
   "cell_type": "markdown",
   "id": "4be95afb",
   "metadata": {},
   "source": [
    " ### Annual Energy Savings Per Dollar Invested"
   ]
  },
  {
   "cell_type": "code",
   "execution_count": 23,
   "id": "d03da729",
   "metadata": {},
   "outputs": [
    {
     "name": "stdout",
     "output_type": "stream",
     "text": [
      "segment1\n"
     ]
    },
    {
     "data": {
      "text/plain": [
       "upgrade_name\n",
       "Basic Enclosure                                                    0.00403\n",
       "Enhanced Enclosure                                                 0.00343\n",
       "Heat Pump Water Heater                                             0.00284\n",
       "Mininum Efficiency Whole Home Electrification                      0.00251\n",
       "Mininum Efficiency Heat Pump with Electric Heat Backup             0.00223\n",
       "Basic Enclosure + HPWH + High Efficiency HP/Electric Backup        0.00218\n",
       "Enhanced Enclosure + HPWH + High Efficiency HP/Electric Backup     0.00210\n",
       "Basic Enclosure + High Efficiency Whole Home Electrification       0.00200\n",
       "High Efficiency Whole Home Electrification                         0.00197\n",
       "High Efficiency Heat Pump with Electric Heat Backup                0.00196\n",
       "Enhanced Enclosure + High Efficiency Whole Home Electrification    0.00194\n",
       "Electric Cooking                                                   0.00166\n",
       "Mininum Efficiency Heat Pump with Existing Heat Backup             0.00132\n",
       "Induction Cooking                                                  0.00053\n",
       "Heat Pump Clothes Dryer                                            0.00047\n",
       "Electric Clothes Dryer                                             0.00046\n",
       "Name: saving_energy.total_mmbtu, dtype: float64"
      ]
     },
     "metadata": {},
     "output_type": "display_data"
    },
    {
     "name": "stdout",
     "output_type": "stream",
     "text": [
      "segment2\n"
     ]
    },
    {
     "data": {
      "text/plain": [
       "upgrade_name\n",
       "Mininum Efficiency Whole Home Electrification                      0.00351\n",
       "Basic Enclosure                                                    0.00292\n",
       "Enhanced Enclosure                                                 0.00245\n",
       "Heat Pump Water Heater                                             0.00185\n",
       "Electric Cooking                                                   0.00155\n",
       "Basic Enclosure + HPWH + High Efficiency HP/Electric Backup        0.00141\n",
       "Enhanced Enclosure + HPWH + High Efficiency HP/Electric Backup     0.00137\n",
       "Basic Enclosure + High Efficiency Whole Home Electrification       0.00129\n",
       "Enhanced Enclosure + High Efficiency Whole Home Electrification    0.00126\n",
       "High Efficiency Heat Pump with Electric Heat Backup                0.00123\n",
       "High Efficiency Whole Home Electrification                         0.00123\n",
       "Mininum Efficiency Heat Pump with Electric Heat Backup             0.00115\n",
       "Mininum Efficiency Heat Pump with Existing Heat Backup             0.00115\n",
       "Electric Clothes Dryer                                             0.00048\n",
       "Heat Pump Clothes Dryer                                            0.00046\n",
       "Induction Cooking                                                  0.00022\n",
       "Name: saving_energy.total_mmbtu, dtype: float64"
      ]
     },
     "metadata": {},
     "output_type": "display_data"
    }
   ],
   "source": [
    "indicator = 'saving_energy.total_mmbtu'\n",
    "results = segment_savings_per_dollar(indicator, community_results) \n",
    "saving_results[f'segment1_{income}_saving_energy_per_dollar_invested_mmbtu'] = results[0]\n",
    "saving_results[f'segment2_{income}_saving_energy_per_dollar_invested_mmbtu'] = results[1]"
   ]
  },
  {
   "cell_type": "markdown",
   "id": "3b3ea80f",
   "metadata": {},
   "source": [
    " ### Annual Emission Savings Per Dollar Invested"
   ]
  },
  {
   "cell_type": "code",
   "execution_count": 24,
   "id": "b538dff9",
   "metadata": {},
   "outputs": [
    {
     "name": "stdout",
     "output_type": "stream",
     "text": [
      "segment1\n"
     ]
    },
    {
     "data": {
      "text/plain": [
       "upgrade_name\n",
       "Basic Enclosure                                                    0.26693\n",
       "Enhanced Enclosure                                                 0.22932\n",
       "Heat Pump Water Heater                                             0.18778\n",
       "Basic Enclosure + HPWH + High Efficiency HP/Electric Backup        0.14223\n",
       "Enhanced Enclosure + HPWH + High Efficiency HP/Electric Backup     0.13756\n",
       "Mininum Efficiency Whole Home Electrification                      0.13729\n",
       "Basic Enclosure + High Efficiency Whole Home Electrification       0.13055\n",
       "Enhanced Enclosure + High Efficiency Whole Home Electrification    0.12687\n",
       "High Efficiency Whole Home Electrification                         0.12472\n",
       "High Efficiency Heat Pump with Electric Heat Backup                0.12231\n",
       "Mininum Efficiency Heat Pump with Electric Heat Backup             0.11393\n",
       "Electric Cooking                                                   0.09686\n",
       "Mininum Efficiency Heat Pump with Existing Heat Backup             0.07509\n",
       "Heat Pump Clothes Dryer                                            0.03329\n",
       "Induction Cooking                                                  0.03249\n",
       "Electric Clothes Dryer                                             0.02235\n",
       "Name: saving_emission.total_kgCO2e, dtype: float64"
      ]
     },
     "metadata": {},
     "output_type": "display_data"
    },
    {
     "name": "stdout",
     "output_type": "stream",
     "text": [
      "segment2\n"
     ]
    },
    {
     "data": {
      "text/plain": [
       "upgrade_name\n",
       "Basic Enclosure                                                    0.27353\n",
       "Mininum Efficiency Whole Home Electrification                      0.24477\n",
       "Enhanced Enclosure                                                 0.23061\n",
       "Heat Pump Water Heater                                             0.13367\n",
       "Basic Enclosure + HPWH + High Efficiency HP/Electric Backup        0.12916\n",
       "Enhanced Enclosure + HPWH + High Efficiency HP/Electric Backup     0.12560\n",
       "Basic Enclosure + High Efficiency Whole Home Electrification       0.11797\n",
       "High Efficiency Heat Pump with Electric Heat Backup                0.11717\n",
       "Mininum Efficiency Heat Pump with Electric Heat Backup             0.11637\n",
       "Mininum Efficiency Heat Pump with Existing Heat Backup             0.11637\n",
       "Enhanced Enclosure + High Efficiency Whole Home Electrification    0.11519\n",
       "High Efficiency Whole Home Electrification                         0.11211\n",
       "Electric Cooking                                                   0.10019\n",
       "Heat Pump Clothes Dryer                                            0.03302\n",
       "Electric Clothes Dryer                                             0.01976\n",
       "Induction Cooking                                                  0.01539\n",
       "Name: saving_emission.total_kgCO2e, dtype: float64"
      ]
     },
     "metadata": {},
     "output_type": "display_data"
    }
   ],
   "source": [
    "indicator ='saving_emission.total_kgCO2e'\n",
    "results = segment_savings_per_dollar(indicator, community_results) \n",
    "saving_results[f'segment1_{income}_saving_emission_per_dollar_invested_kgCO2e'] = results[0]\n",
    "saving_results[f'segment2_{income}_saving_emission_per_dollar_invested_kgCO2e'] = results[1]"
   ]
  },
  {
   "cell_type": "markdown",
   "id": "961cd050",
   "metadata": {},
   "source": [
    "## 2.3 Annual Total Savings"
   ]
  },
  {
   "cell_type": "markdown",
   "id": "702400cd",
   "metadata": {},
   "source": [
    "### Annual Total Bill Savings"
   ]
  },
  {
   "cell_type": "code",
   "execution_count": 25,
   "id": "4cb37f5f",
   "metadata": {},
   "outputs": [
    {
     "name": "stdout",
     "output_type": "stream",
     "text": [
      "segment1\n"
     ]
    },
    {
     "data": {
      "text/plain": [
       "upgrade_name\n",
       "Enhanced Enclosure + High Efficiency Whole Home Electrification    6338986.0\n",
       "Enhanced Enclosure + HPWH + High Efficiency HP/Electric Backup     6286470.4\n",
       "Basic Enclosure + High Efficiency Whole Home Electrification       6237072.2\n",
       "Basic Enclosure + HPWH + High Efficiency HP/Electric Backup        6184503.4\n",
       "High Efficiency Whole Home Electrification                         5465927.5\n",
       "High Efficiency Heat Pump with Electric Heat Backup                4034694.0\n",
       "Mininum Efficiency Whole Home Electrification                      2948208.0\n",
       "Enhanced Enclosure                                                 2562850.4\n",
       "Basic Enclosure                                                    2194784.5\n",
       "Mininum Efficiency Heat Pump with Electric Heat Backup             1724246.5\n",
       "Mininum Efficiency Heat Pump with Existing Heat Backup             1099655.9\n",
       "Heat Pump Water Heater                                              663067.4\n",
       "Heat Pump Clothes Dryer                                             137224.7\n",
       "Induction Cooking                                                    39115.4\n",
       "Electric Cooking                                                     19156.4\n",
       "Electric Clothes Dryer                                               -5994.4\n",
       "Name: saving_cbill.total_usd, dtype: float64"
      ]
     },
     "metadata": {},
     "output_type": "display_data"
    },
    {
     "name": "stdout",
     "output_type": "stream",
     "text": [
      "segment2\n"
     ]
    },
    {
     "data": {
      "text/plain": [
       "upgrade_name\n",
       "Enhanced Enclosure + High Efficiency Whole Home Electrification    5029877.1\n",
       "Basic Enclosure + High Efficiency Whole Home Electrification       4968152.1\n",
       "Enhanced Enclosure + HPWH + High Efficiency HP/Electric Backup     4930015.8\n",
       "Basic Enclosure + HPWH + High Efficiency HP/Electric Backup        4868367.5\n",
       "High Efficiency Whole Home Electrification                         4436387.0\n",
       "High Efficiency Heat Pump with Electric Heat Backup                3630607.3\n",
       "Enhanced Enclosure                                                 2049769.1\n",
       "Mininum Efficiency Heat Pump with Electric Heat Backup             1949876.7\n",
       "Mininum Efficiency Heat Pump with Existing Heat Backup             1949872.6\n",
       "Basic Enclosure                                                    1822695.7\n",
       "Heat Pump Water Heater                                              505237.6\n",
       "Heat Pump Clothes Dryer                                             110263.4\n",
       "Mininum Efficiency Whole Home Electrification                       108395.2\n",
       "Induction Cooking                                                    31639.3\n",
       "Electric Cooking                                                     16799.8\n",
       "Electric Clothes Dryer                                                2322.0\n",
       "Name: saving_cbill.total_usd, dtype: float64"
      ]
     },
     "metadata": {},
     "output_type": "display_data"
    }
   ],
   "source": [
    "indicator ='saving_cbill.total_usd'\n",
    "results = segment_annual_total_savings(indicator, community_results)\n",
    "saving_results[f'segment1_{income}_saving_bill_total_usd'] = results[0]\n",
    "saving_results[f'segment2_{income}_saving_bill_total_usd'] = results[1]"
   ]
  },
  {
   "cell_type": "markdown",
   "id": "5a9433f1",
   "metadata": {},
   "source": [
    "### Annual Total Energy Savings"
   ]
  },
  {
   "cell_type": "code",
   "execution_count": 26,
   "id": "772222fe",
   "metadata": {},
   "outputs": [
    {
     "name": "stdout",
     "output_type": "stream",
     "text": [
      "segment1\n"
     ]
    },
    {
     "data": {
      "text/plain": [
       "upgrade_name\n",
       "Enhanced Enclosure + High Efficiency Whole Home Electrification    303890.4\n",
       "Basic Enclosure + High Efficiency Whole Home Electrification       300939.4\n",
       "Enhanced Enclosure + HPWH + High Efficiency HP/Electric Backup     295912.1\n",
       "Basic Enclosure + HPWH + High Efficiency HP/Electric Backup        292961.1\n",
       "High Efficiency Whole Home Electrification                         278650.0\n",
       "High Efficiency Heat Pump with Electric Heat Backup                221488.4\n",
       "Mininum Efficiency Whole Home Electrification                      206091.2\n",
       "Mininum Efficiency Heat Pump with Electric Heat Backup             155075.5\n",
       "Enhanced Enclosure                                                 127596.2\n",
       "Basic Enclosure                                                    109290.2\n",
       "Mininum Efficiency Heat Pump with Existing Heat Backup              90556.1\n",
       "Heat Pump Water Heater                                              34728.1\n",
       "Heat Pump Clothes Dryer                                              4222.2\n",
       "Induction Cooking                                                    3756.1\n",
       "Electric Cooking                                                     3191.3\n",
       "Electric Clothes Dryer                                                171.8\n",
       "Name: saving_energy.total_mmbtu, dtype: float64"
      ]
     },
     "metadata": {},
     "output_type": "display_data"
    },
    {
     "name": "stdout",
     "output_type": "stream",
     "text": [
      "segment2\n"
     ]
    },
    {
     "data": {
      "text/plain": [
       "upgrade_name\n",
       "Enhanced Enclosure + High Efficiency Whole Home Electrification    150703.0\n",
       "Basic Enclosure + High Efficiency Whole Home Electrification       148922.3\n",
       "Enhanced Enclosure + HPWH + High Efficiency HP/Electric Backup     146336.8\n",
       "Basic Enclosure + HPWH + High Efficiency HP/Electric Backup        144556.0\n",
       "High Efficiency Whole Home Electrification                         133545.4\n",
       "High Efficiency Heat Pump with Electric Heat Backup                107275.3\n",
       "Enhanced Enclosure                                                  60767.5\n",
       "Mininum Efficiency Heat Pump with Electric Heat Backup              58951.1\n",
       "Mininum Efficiency Heat Pump with Existing Heat Backup              58951.0\n",
       "Basic Enclosure                                                     54035.9\n",
       "Heat Pump Water Heater                                              17221.3\n",
       "Mininum Efficiency Whole Home Electrification                        6014.9\n",
       "Heat Pump Clothes Dryer                                              3181.3\n",
       "Induction Cooking                                                    1185.0\n",
       "Electric Cooking                                                      736.0\n",
       "Electric Clothes Dryer                                                 35.0\n",
       "Name: saving_energy.total_mmbtu, dtype: float64"
      ]
     },
     "metadata": {},
     "output_type": "display_data"
    }
   ],
   "source": [
    "indicator ='saving_energy.total_mmbtu'\n",
    "results = segment_annual_total_savings(indicator, community_results)\n",
    "saving_results[f'segment1_{income}_saving_energy_total_mmbtu'] = results[0]\n",
    "saving_results[f'segment2_{income}_saving_energy_total_mmbtu'] = results[1]"
   ]
  },
  {
   "cell_type": "markdown",
   "id": "468edc4e",
   "metadata": {},
   "source": [
    "### Annual Total Emission Savings"
   ]
  },
  {
   "cell_type": "code",
   "execution_count": 27,
   "id": "5fb13c1b",
   "metadata": {},
   "outputs": [
    {
     "name": "stdout",
     "output_type": "stream",
     "text": [
      "segment1\n"
     ]
    },
    {
     "data": {
      "text/plain": [
       "upgrade_name\n",
       "Enhanced Enclosure + High Efficiency Whole Home Electrification    19912155.1\n",
       "Basic Enclosure + High Efficiency Whole Home Electrification       19608300.7\n",
       "Enhanced Enclosure + HPWH + High Efficiency HP/Electric Backup     19383775.0\n",
       "Basic Enclosure + HPWH + High Efficiency HP/Electric Backup        19079920.6\n",
       "High Efficiency Whole Home Electrification                         17634382.5\n",
       "High Efficiency Heat Pump with Electric Heat Backup                13836953.5\n",
       "Mininum Efficiency Whole Home Electrification                      11269415.2\n",
       "Enhanced Enclosure                                                  8530978.5\n",
       "Mininum Efficiency Heat Pump with Electric Heat Backup              7916340.1\n",
       "Basic Enclosure                                                     7241656.4\n",
       "Mininum Efficiency Heat Pump with Existing Heat Backup              5138743.1\n",
       "Heat Pump Water Heater                                              2294283.7\n",
       "Heat Pump Clothes Dryer                                              299376.1\n",
       "Induction Cooking                                                    229004.0\n",
       "Electric Cooking                                                     185682.8\n",
       "Electric Clothes Dryer                                                 8282.7\n",
       "Name: saving_emission.total_kgCO2e, dtype: float64"
      ]
     },
     "metadata": {},
     "output_type": "display_data"
    },
    {
     "name": "stdout",
     "output_type": "stream",
     "text": [
      "segment2\n"
     ]
    },
    {
     "data": {
      "text/plain": [
       "upgrade_name\n",
       "Enhanced Enclosure + High Efficiency Whole Home Electrification    13756931.3\n",
       "Basic Enclosure + High Efficiency Whole Home Electrification       13573474.2\n",
       "Enhanced Enclosure + HPWH + High Efficiency HP/Electric Backup     13443613.6\n",
       "Basic Enclosure + HPWH + High Efficiency HP/Electric Backup        13260156.5\n",
       "High Efficiency Whole Home Electrification                         12218838.8\n",
       "High Efficiency Heat Pump with Electric Heat Backup                10227312.5\n",
       "Mininum Efficiency Heat Pump with Electric Heat Backup              5939976.6\n",
       "Mininum Efficiency Heat Pump with Existing Heat Backup              5939968.4\n",
       "Enhanced Enclosure                                                  5724741.4\n",
       "Basic Enclosure                                                     5055598.3\n",
       "Heat Pump Water Heater                                              1243667.8\n",
       "Mininum Efficiency Whole Home Electrification                        419285.1\n",
       "Heat Pump Clothes Dryer                                              229515.7\n",
       "Induction Cooking                                                     83802.1\n",
       "Electric Cooking                                                      47485.2\n",
       "Electric Clothes Dryer                                                 1450.5\n",
       "Name: saving_emission.total_kgCO2e, dtype: float64"
      ]
     },
     "metadata": {},
     "output_type": "display_data"
    }
   ],
   "source": [
    "indicator ='saving_emission.total_kgCO2e'\n",
    "results = segment_annual_total_savings(indicator, community_results)\n",
    "saving_results[f'segment1_{income}_saving_emission_total_kgCO2e'] = results[0]\n",
    "saving_results[f'segment2_{income}_saving_emission_total_kgCO2e'] = results[1]"
   ]
  },
  {
   "cell_type": "markdown",
   "id": "83cbedb9",
   "metadata": {},
   "source": [
    "## 2.4 Annual Savings Per Dwelling Unit"
   ]
  },
  {
   "cell_type": "markdown",
   "id": "eb35438b",
   "metadata": {},
   "source": [
    "### Annual Bill Savings Per Dwelling Unit"
   ]
  },
  {
   "cell_type": "code",
   "execution_count": 28,
   "id": "876cf387",
   "metadata": {},
   "outputs": [
    {
     "name": "stdout",
     "output_type": "stream",
     "text": [
      "segment1\n"
     ]
    },
    {
     "data": {
      "text/plain": [
       "upgrade_name\n",
       "Enhanced Enclosure + High Efficiency Whole Home Electrification    1500.1\n",
       "Enhanced Enclosure + HPWH + High Efficiency HP/Electric Backup     1487.7\n",
       "Basic Enclosure + High Efficiency Whole Home Electrification       1476.0\n",
       "Basic Enclosure + HPWH + High Efficiency HP/Electric Backup        1463.5\n",
       "High Efficiency Whole Home Electrification                         1293.5\n",
       "High Efficiency Heat Pump with Electric Heat Backup                 954.8\n",
       "Mininum Efficiency Whole Home Electrification                       697.7\n",
       "Enhanced Enclosure                                                  609.8\n",
       "Basic Enclosure                                                     523.0\n",
       "Mininum Efficiency Heat Pump with Electric Heat Backup              408.0\n",
       "Mininum Efficiency Heat Pump with Existing Heat Backup              260.2\n",
       "Heat Pump Water Heater                                              156.9\n",
       "Heat Pump Clothes Dryer                                              33.7\n",
       "Electric Cooking                                                      9.8\n",
       "Induction Cooking                                                     9.3\n",
       "Electric Clothes Dryer                                              -17.8\n",
       "Name: saving_cbill.total_usd, dtype: float64"
      ]
     },
     "metadata": {},
     "output_type": "display_data"
    },
    {
     "name": "stdout",
     "output_type": "stream",
     "text": [
      "segment2\n"
     ]
    },
    {
     "data": {
      "text/plain": [
       "upgrade_name\n",
       "Enhanced Enclosure + High Efficiency Whole Home Electrification    1536.4\n",
       "Basic Enclosure + High Efficiency Whole Home Electrification       1517.6\n",
       "Enhanced Enclosure + HPWH + High Efficiency HP/Electric Backup     1505.9\n",
       "Basic Enclosure + HPWH + High Efficiency HP/Electric Backup        1487.1\n",
       "High Efficiency Whole Home Electrification                         1355.1\n",
       "High Efficiency Heat Pump with Electric Heat Backup                1109.0\n",
       "Enhanced Enclosure                                                  632.1\n",
       "Mininum Efficiency Heat Pump with Electric Heat Backup              595.6\n",
       "Mininum Efficiency Heat Pump with Existing Heat Backup              595.6\n",
       "Basic Enclosure                                                     562.0\n",
       "Heat Pump Water Heater                                              157.3\n",
       "Mininum Efficiency Whole Home Electrification                       129.8\n",
       "Heat Pump Clothes Dryer                                              35.0\n",
       "Electric Clothes Dryer                                               34.7\n",
       "Electric Cooking                                                     34.7\n",
       "Induction Cooking                                                     9.8\n",
       "Name: saving_cbill.total_usd, dtype: float64"
      ]
     },
     "metadata": {},
     "output_type": "display_data"
    }
   ],
   "source": [
    "indicator ='saving_cbill.total_usd'\n",
    "results = segment_mean_savings(indicator, community_results)\n",
    "saving_results[f'segment1_{income}_saving_bill_mean_usd'] = results[0]\n",
    "saving_results[f'segment2_{income}_saving_bill_mean_usd'] = results[1]"
   ]
  },
  {
   "cell_type": "markdown",
   "id": "e902c573",
   "metadata": {},
   "source": [
    "### Annual Energy Savings Per Dwelling Unit"
   ]
  },
  {
   "cell_type": "code",
   "execution_count": 29,
   "id": "5ad585ad",
   "metadata": {},
   "outputs": [
    {
     "name": "stdout",
     "output_type": "stream",
     "text": [
      "segment1\n"
     ]
    },
    {
     "data": {
      "text/plain": [
       "upgrade_name\n",
       "Enhanced Enclosure + High Efficiency Whole Home Electrification    71.9\n",
       "Basic Enclosure + High Efficiency Whole Home Electrification       71.2\n",
       "Enhanced Enclosure + HPWH + High Efficiency HP/Electric Backup     70.0\n",
       "Basic Enclosure + HPWH + High Efficiency HP/Electric Backup        69.3\n",
       "High Efficiency Whole Home Electrification                         65.9\n",
       "High Efficiency Heat Pump with Electric Heat Backup                52.4\n",
       "Mininum Efficiency Whole Home Electrification                      48.8\n",
       "Mininum Efficiency Heat Pump with Electric Heat Backup             36.7\n",
       "Enhanced Enclosure                                                 30.4\n",
       "Basic Enclosure                                                    26.0\n",
       "Mininum Efficiency Heat Pump with Existing Heat Backup             21.4\n",
       "Heat Pump Water Heater                                              8.2\n",
       "Electric Cooking                                                    1.6\n",
       "Heat Pump Clothes Dryer                                             1.0\n",
       "Induction Cooking                                                   0.9\n",
       "Electric Clothes Dryer                                              0.5\n",
       "Name: saving_energy.total_mmbtu, dtype: float64"
      ]
     },
     "metadata": {},
     "output_type": "display_data"
    },
    {
     "name": "stdout",
     "output_type": "stream",
     "text": [
      "segment2\n"
     ]
    },
    {
     "data": {
      "text/plain": [
       "upgrade_name\n",
       "Enhanced Enclosure + High Efficiency Whole Home Electrification    46.0\n",
       "Basic Enclosure + High Efficiency Whole Home Electrification       45.5\n",
       "Enhanced Enclosure + HPWH + High Efficiency HP/Electric Backup     44.7\n",
       "Basic Enclosure + HPWH + High Efficiency HP/Electric Backup        44.2\n",
       "High Efficiency Whole Home Electrification                         40.8\n",
       "High Efficiency Heat Pump with Electric Heat Backup                32.8\n",
       "Enhanced Enclosure                                                 18.7\n",
       "Mininum Efficiency Heat Pump with Electric Heat Backup             18.0\n",
       "Mininum Efficiency Heat Pump with Existing Heat Backup             18.0\n",
       "Basic Enclosure                                                    16.7\n",
       "Mininum Efficiency Whole Home Electrification                       7.2\n",
       "Heat Pump Water Heater                                              5.4\n",
       "Electric Cooking                                                    1.5\n",
       "Heat Pump Clothes Dryer                                             1.0\n",
       "Electric Clothes Dryer                                              0.5\n",
       "Induction Cooking                                                   0.4\n",
       "Name: saving_energy.total_mmbtu, dtype: float64"
      ]
     },
     "metadata": {},
     "output_type": "display_data"
    }
   ],
   "source": [
    "indicator ='saving_energy.total_mmbtu'\n",
    "results = segment_mean_savings(indicator, community_results) \n",
    "saving_results[f'segment1_{income}_saving_energy_mean_mmbtu'] = results[0]\n",
    "saving_results[f'segment2_{income}_saving_energy_mean_mmbtu'] = results[1]"
   ]
  },
  {
   "cell_type": "markdown",
   "id": "6d99e632",
   "metadata": {},
   "source": [
    "### Annual Percentage Energy Savings Per Dwelling Unit"
   ]
  },
  {
   "cell_type": "code",
   "execution_count": 30,
   "id": "ae160b7b",
   "metadata": {},
   "outputs": [
    {
     "name": "stdout",
     "output_type": "stream",
     "text": [
      "segment1\n"
     ]
    },
    {
     "data": {
      "text/plain": [
       "upgrade_name\n",
       "Enhanced Enclosure + High Efficiency Whole Home Electrification    64.5\n",
       "Basic Enclosure + High Efficiency Whole Home Electrification       63.9\n",
       "Enhanced Enclosure + HPWH + High Efficiency HP/Electric Backup     62.6\n",
       "Basic Enclosure + HPWH + High Efficiency HP/Electric Backup        62.0\n",
       "High Efficiency Whole Home Electrification                         59.2\n",
       "High Efficiency Heat Pump with Electric Heat Backup                45.9\n",
       "Mininum Efficiency Whole Home Electrification                      43.3\n",
       "Mininum Efficiency Heat Pump with Electric Heat Backup             31.5\n",
       "Enhanced Enclosure                                                 26.4\n",
       "Basic Enclosure                                                    22.7\n",
       "Mininum Efficiency Heat Pump with Existing Heat Backup             17.6\n",
       "Heat Pump Water Heater                                              8.2\n",
       "Electric Cooking                                                    1.7\n",
       "Heat Pump Clothes Dryer                                             1.0\n",
       "Induction Cooking                                                   0.9\n",
       "Electric Clothes Dryer                                              0.6\n",
       "Name: pct_saving_energy.total_%, dtype: float64"
      ]
     },
     "metadata": {},
     "output_type": "display_data"
    },
    {
     "name": "stdout",
     "output_type": "stream",
     "text": [
      "segment2\n"
     ]
    },
    {
     "data": {
      "text/plain": [
       "upgrade_name\n",
       "Enhanced Enclosure + High Efficiency Whole Home Electrification    53.0\n",
       "Basic Enclosure + High Efficiency Whole Home Electrification       52.4\n",
       "Enhanced Enclosure + HPWH + High Efficiency HP/Electric Backup     51.3\n",
       "Basic Enclosure + HPWH + High Efficiency HP/Electric Backup        50.6\n",
       "High Efficiency Whole Home Electrification                         47.1\n",
       "High Efficiency Heat Pump with Electric Heat Backup                37.0\n",
       "Enhanced Enclosure                                                 20.5\n",
       "Mininum Efficiency Heat Pump with Electric Heat Backup             19.4\n",
       "Mininum Efficiency Heat Pump with Existing Heat Backup             19.4\n",
       "Basic Enclosure                                                    18.1\n",
       "Mininum Efficiency Whole Home Electrification                       8.1\n",
       "Heat Pump Water Heater                                              6.6\n",
       "Electric Cooking                                                    2.1\n",
       "Heat Pump Clothes Dryer                                             1.3\n",
       "Electric Clothes Dryer                                              0.7\n",
       "Induction Cooking                                                   0.5\n",
       "Name: pct_saving_energy.total_%, dtype: float64"
      ]
     },
     "metadata": {},
     "output_type": "display_data"
    }
   ],
   "source": [
    "indicator ='pct_saving_energy.total_%'\n",
    "results = segment_mean_savings(indicator, community_results)\n",
    "saving_results[f'segment1_{income}_pct_saving_energy_mean_%'] = results[0]\n",
    "saving_results[f'segment2_{income}_pct_saving_energy_mean_%'] = results[1]"
   ]
  },
  {
   "cell_type": "markdown",
   "id": "4c18ce08",
   "metadata": {},
   "source": [
    "### Annual Emission Savings Per Dwelling Unit"
   ]
  },
  {
   "cell_type": "code",
   "execution_count": 31,
   "id": "a310fa8d",
   "metadata": {},
   "outputs": [
    {
     "name": "stdout",
     "output_type": "stream",
     "text": [
      "segment1\n"
     ]
    },
    {
     "data": {
      "text/plain": [
       "upgrade_name\n",
       "Enhanced Enclosure + High Efficiency Whole Home Electrification    4712.1\n",
       "Basic Enclosure + High Efficiency Whole Home Electrification       4640.2\n",
       "Enhanced Enclosure + HPWH + High Efficiency HP/Electric Backup     4587.1\n",
       "Basic Enclosure + HPWH + High Efficiency HP/Electric Backup        4515.2\n",
       "High Efficiency Whole Home Electrification                         4173.1\n",
       "High Efficiency Heat Pump with Electric Heat Backup                3274.5\n",
       "Mininum Efficiency Whole Home Electrification                      2666.9\n",
       "Enhanced Enclosure                                                 2030.0\n",
       "Mininum Efficiency Heat Pump with Electric Heat Backup             1873.4\n",
       "Basic Enclosure                                                    1725.6\n",
       "Mininum Efficiency Heat Pump with Existing Heat Backup             1216.1\n",
       "Heat Pump Water Heater                                              542.9\n",
       "Electric Cooking                                                     94.7\n",
       "Heat Pump Clothes Dryer                                              73.6\n",
       "Induction Cooking                                                    54.6\n",
       "Electric Clothes Dryer                                               24.5\n",
       "Name: saving_emission.total_kgCO2e, dtype: float64"
      ]
     },
     "metadata": {},
     "output_type": "display_data"
    },
    {
     "name": "stdout",
     "output_type": "stream",
     "text": [
      "segment2\n"
     ]
    },
    {
     "data": {
      "text/plain": [
       "upgrade_name\n",
       "Enhanced Enclosure + High Efficiency Whole Home Electrification    4202.2\n",
       "Basic Enclosure + High Efficiency Whole Home Electrification       4146.1\n",
       "Enhanced Enclosure + HPWH + High Efficiency HP/Electric Backup     4106.5\n",
       "Basic Enclosure + HPWH + High Efficiency HP/Electric Backup        4050.4\n",
       "High Efficiency Whole Home Electrification                         3732.3\n",
       "High Efficiency Heat Pump with Electric Heat Backup                3124.0\n",
       "Mininum Efficiency Heat Pump with Electric Heat Backup             1814.4\n",
       "Mininum Efficiency Heat Pump with Existing Heat Backup             1814.4\n",
       "Enhanced Enclosure                                                 1765.3\n",
       "Basic Enclosure                                                    1558.9\n",
       "Mininum Efficiency Whole Home Electrification                       501.9\n",
       "Heat Pump Water Heater                                              387.1\n",
       "Electric Cooking                                                     98.0\n",
       "Heat Pump Clothes Dryer                                              73.0\n",
       "Induction Cooking                                                    25.9\n",
       "Electric Clothes Dryer                                               21.7\n",
       "Name: saving_emission.total_kgCO2e, dtype: float64"
      ]
     },
     "metadata": {},
     "output_type": "display_data"
    }
   ],
   "source": [
    "indicator ='saving_emission.total_kgCO2e'\n",
    "results = segment_mean_savings(indicator, community_results)\n",
    "saving_results[f'segment1_{income}_saving_emission_mean_kgCO2e'] = results[0]\n",
    "saving_results[f'segment2_{income}_saving_emission_mean_kgCO2e'] = results[1]"
   ]
  },
  {
   "cell_type": "markdown",
   "id": "ebaaed40",
   "metadata": {},
   "source": [
    "## 2.5. Pecent Stock with Positive and Negtive Savings"
   ]
  },
  {
   "cell_type": "markdown",
   "id": "2660dc7b",
   "metadata": {},
   "source": [
    "### Segment 1"
   ]
  },
  {
   "cell_type": "code",
   "execution_count": 32,
   "id": "361be888",
   "metadata": {},
   "outputs": [
    {
     "data": {
      "application/vnd.plotly.v1+json": {
       "config": {
        "plotlyServerURL": "https://plot.ly"
       },
       "data": [
        {
         "marker": {
          "color": "red"
         },
         "name": "Negative",
         "orientation": "h",
         "text": [
          0.9655172413793104,
          0.07908163265306123,
          0.04846938775510204,
          0.015306122448979591,
          0.00510204081632653,
          0.002551020408163265,
          0,
          0,
          0,
          0,
          0,
          0,
          0,
          0,
          0,
          0
         ],
         "textposition": "inside",
         "texttemplate": "%{text:.0%}",
         "type": "bar",
         "x": [
          0.9655172413793104,
          0.07908163265306123,
          0.04846938775510204,
          0.015306122448979591,
          0.00510204081632653,
          0.002551020408163265,
          0,
          0,
          0,
          0,
          0,
          0,
          0,
          0,
          0,
          0
         ],
         "xaxis": "x",
         "y": [
          "Electric Clothes Dryer",
          "Mininum Efficiency Heat Pump with Existing Heat Backup",
          "Mininum Efficiency Heat Pump with Electric Heat Backup",
          "Mininum Efficiency Whole Home Electrification",
          "High Efficiency Heat Pump with Electric Heat Backup",
          "Heat Pump Water Heater",
          "Basic Enclosure",
          "Basic Enclosure + HPWH + High Efficiency HP/Electric Backup",
          "Basic Enclosure + High Efficiency Whole Home Electrification",
          "Electric Cooking",
          "Enhanced Enclosure",
          "Enhanced Enclosure + HPWH + High Efficiency HP/Electric Backup",
          "Enhanced Enclosure + High Efficiency Whole Home Electrification",
          "Heat Pump Clothes Dryer",
          "High Efficiency Whole Home Electrification",
          "Induction Cooking"
         ],
         "yaxis": "y"
        },
        {
         "marker": {
          "color": "green"
         },
         "name": "Positive",
         "orientation": "h",
         "text": [
          0.034482758620689655,
          0.9209183673469388,
          0.951530612244898,
          0.9846938775510204,
          0.9948979591836735,
          0.9974489795918368,
          1,
          1,
          1,
          1,
          1,
          1,
          1,
          1,
          1,
          1
         ],
         "textposition": "inside",
         "texttemplate": "%{text:.0%}",
         "type": "bar",
         "x": [
          0.034482758620689655,
          0.9209183673469388,
          0.951530612244898,
          0.9846938775510204,
          0.9948979591836735,
          0.9974489795918368,
          1,
          1,
          1,
          1,
          1,
          1,
          1,
          1,
          1,
          1
         ],
         "xaxis": "x",
         "y": [
          "Electric Clothes Dryer",
          "Mininum Efficiency Heat Pump with Existing Heat Backup",
          "Mininum Efficiency Heat Pump with Electric Heat Backup",
          "Mininum Efficiency Whole Home Electrification",
          "High Efficiency Heat Pump with Electric Heat Backup",
          "Heat Pump Water Heater",
          "Basic Enclosure",
          "Basic Enclosure + HPWH + High Efficiency HP/Electric Backup",
          "Basic Enclosure + High Efficiency Whole Home Electrification",
          "Electric Cooking",
          "Enhanced Enclosure",
          "Enhanced Enclosure + HPWH + High Efficiency HP/Electric Backup",
          "Enhanced Enclosure + High Efficiency Whole Home Electrification",
          "Heat Pump Clothes Dryer",
          "High Efficiency Whole Home Electrification",
          "Induction Cooking"
         ],
         "yaxis": "y"
        },
        {
         "marker": {
          "color": "red"
         },
         "orientation": "h",
         "showlegend": false,
         "text": [
          0,
          0.058673469387755105,
          0.017857142857142856,
          0,
          0,
          0,
          0,
          0,
          0,
          0,
          0,
          0,
          0,
          0,
          0,
          0
         ],
         "textposition": "inside",
         "texttemplate": "%{text:.0%}",
         "type": "bar",
         "x": [
          0,
          0.058673469387755105,
          0.017857142857142856,
          0,
          0,
          0,
          0,
          0,
          0,
          0,
          0,
          0,
          0,
          0,
          0,
          0
         ],
         "xaxis": "x2",
         "y": [
          "Electric Clothes Dryer",
          "Mininum Efficiency Heat Pump with Existing Heat Backup",
          "Mininum Efficiency Heat Pump with Electric Heat Backup",
          "Mininum Efficiency Whole Home Electrification",
          "High Efficiency Heat Pump with Electric Heat Backup",
          "Heat Pump Water Heater",
          "Basic Enclosure",
          "Basic Enclosure + HPWH + High Efficiency HP/Electric Backup",
          "Basic Enclosure + High Efficiency Whole Home Electrification",
          "Electric Cooking",
          "Enhanced Enclosure",
          "Enhanced Enclosure + HPWH + High Efficiency HP/Electric Backup",
          "Enhanced Enclosure + High Efficiency Whole Home Electrification",
          "Heat Pump Clothes Dryer",
          "High Efficiency Whole Home Electrification",
          "Induction Cooking"
         ],
         "yaxis": "y2"
        },
        {
         "marker": {
          "color": "green"
         },
         "orientation": "h",
         "showlegend": false,
         "text": [
          1,
          0.9413265306122449,
          0.9821428571428571,
          1,
          1,
          1,
          1,
          1,
          1,
          1,
          1,
          1,
          1,
          1,
          1,
          1
         ],
         "textposition": "inside",
         "texttemplate": "%{text:.0%}",
         "type": "bar",
         "x": [
          1,
          0.9413265306122449,
          0.9821428571428571,
          1,
          1,
          1,
          1,
          1,
          1,
          1,
          1,
          1,
          1,
          1,
          1,
          1
         ],
         "xaxis": "x2",
         "y": [
          "Electric Clothes Dryer",
          "Mininum Efficiency Heat Pump with Existing Heat Backup",
          "Mininum Efficiency Heat Pump with Electric Heat Backup",
          "Mininum Efficiency Whole Home Electrification",
          "High Efficiency Heat Pump with Electric Heat Backup",
          "Heat Pump Water Heater",
          "Basic Enclosure",
          "Basic Enclosure + HPWH + High Efficiency HP/Electric Backup",
          "Basic Enclosure + High Efficiency Whole Home Electrification",
          "Electric Cooking",
          "Enhanced Enclosure",
          "Enhanced Enclosure + HPWH + High Efficiency HP/Electric Backup",
          "Enhanced Enclosure + High Efficiency Whole Home Electrification",
          "Heat Pump Clothes Dryer",
          "High Efficiency Whole Home Electrification",
          "Induction Cooking"
         ],
         "yaxis": "y2"
        },
        {
         "marker": {
          "color": "red"
         },
         "orientation": "h",
         "showlegend": false,
         "text": [
          0,
          0.04081632653061224,
          0.002551020408163265,
          0,
          0,
          0,
          0,
          0,
          0,
          0,
          0,
          0,
          0,
          0,
          0,
          0
         ],
         "textposition": "inside",
         "texttemplate": "%{text:.0%}",
         "type": "bar",
         "x": [
          0,
          0.04081632653061224,
          0.002551020408163265,
          0,
          0,
          0,
          0,
          0,
          0,
          0,
          0,
          0,
          0,
          0,
          0,
          0
         ],
         "xaxis": "x3",
         "y": [
          "Electric Clothes Dryer",
          "Mininum Efficiency Heat Pump with Existing Heat Backup",
          "Mininum Efficiency Heat Pump with Electric Heat Backup",
          "Mininum Efficiency Whole Home Electrification",
          "High Efficiency Heat Pump with Electric Heat Backup",
          "Heat Pump Water Heater",
          "Basic Enclosure",
          "Basic Enclosure + HPWH + High Efficiency HP/Electric Backup",
          "Basic Enclosure + High Efficiency Whole Home Electrification",
          "Electric Cooking",
          "Enhanced Enclosure",
          "Enhanced Enclosure + HPWH + High Efficiency HP/Electric Backup",
          "Enhanced Enclosure + High Efficiency Whole Home Electrification",
          "Heat Pump Clothes Dryer",
          "High Efficiency Whole Home Electrification",
          "Induction Cooking"
         ],
         "yaxis": "y3"
        },
        {
         "marker": {
          "color": "green"
         },
         "orientation": "h",
         "showlegend": false,
         "text": [
          1,
          0.9591836734693877,
          0.9974489795918368,
          1,
          1,
          1,
          1,
          1,
          1,
          1,
          1,
          1,
          1,
          1,
          1,
          1
         ],
         "textposition": "inside",
         "texttemplate": "%{text:.0%}",
         "type": "bar",
         "x": [
          1,
          0.9591836734693877,
          0.9974489795918368,
          1,
          1,
          1,
          1,
          1,
          1,
          1,
          1,
          1,
          1,
          1,
          1,
          1
         ],
         "xaxis": "x3",
         "y": [
          "Electric Clothes Dryer",
          "Mininum Efficiency Heat Pump with Existing Heat Backup",
          "Mininum Efficiency Heat Pump with Electric Heat Backup",
          "Mininum Efficiency Whole Home Electrification",
          "High Efficiency Heat Pump with Electric Heat Backup",
          "Heat Pump Water Heater",
          "Basic Enclosure",
          "Basic Enclosure + HPWH + High Efficiency HP/Electric Backup",
          "Basic Enclosure + High Efficiency Whole Home Electrification",
          "Electric Cooking",
          "Enhanced Enclosure",
          "Enhanced Enclosure + HPWH + High Efficiency HP/Electric Backup",
          "Enhanced Enclosure + High Efficiency Whole Home Electrification",
          "Heat Pump Clothes Dryer",
          "High Efficiency Whole Home Electrification",
          "Induction Cooking"
         ],
         "yaxis": "y3"
        }
       ],
       "layout": {
        "autosize": false,
        "barmode": "relative",
        "font": {
         "size": 10
        },
        "height": 500,
        "template": {
         "data": {
          "bar": [
           {
            "error_x": {
             "color": "#2a3f5f"
            },
            "error_y": {
             "color": "#2a3f5f"
            },
            "marker": {
             "line": {
              "color": "#E5ECF6",
              "width": 0.5
             },
             "pattern": {
              "fillmode": "overlay",
              "size": 10,
              "solidity": 0.2
             }
            },
            "type": "bar"
           }
          ],
          "barpolar": [
           {
            "marker": {
             "line": {
              "color": "#E5ECF6",
              "width": 0.5
             },
             "pattern": {
              "fillmode": "overlay",
              "size": 10,
              "solidity": 0.2
             }
            },
            "type": "barpolar"
           }
          ],
          "carpet": [
           {
            "aaxis": {
             "endlinecolor": "#2a3f5f",
             "gridcolor": "white",
             "linecolor": "white",
             "minorgridcolor": "white",
             "startlinecolor": "#2a3f5f"
            },
            "baxis": {
             "endlinecolor": "#2a3f5f",
             "gridcolor": "white",
             "linecolor": "white",
             "minorgridcolor": "white",
             "startlinecolor": "#2a3f5f"
            },
            "type": "carpet"
           }
          ],
          "choropleth": [
           {
            "colorbar": {
             "outlinewidth": 0,
             "ticks": ""
            },
            "type": "choropleth"
           }
          ],
          "contour": [
           {
            "colorbar": {
             "outlinewidth": 0,
             "ticks": ""
            },
            "colorscale": [
             [
              0,
              "#0d0887"
             ],
             [
              0.1111111111111111,
              "#46039f"
             ],
             [
              0.2222222222222222,
              "#7201a8"
             ],
             [
              0.3333333333333333,
              "#9c179e"
             ],
             [
              0.4444444444444444,
              "#bd3786"
             ],
             [
              0.5555555555555556,
              "#d8576b"
             ],
             [
              0.6666666666666666,
              "#ed7953"
             ],
             [
              0.7777777777777778,
              "#fb9f3a"
             ],
             [
              0.8888888888888888,
              "#fdca26"
             ],
             [
              1,
              "#f0f921"
             ]
            ],
            "type": "contour"
           }
          ],
          "contourcarpet": [
           {
            "colorbar": {
             "outlinewidth": 0,
             "ticks": ""
            },
            "type": "contourcarpet"
           }
          ],
          "heatmap": [
           {
            "colorbar": {
             "outlinewidth": 0,
             "ticks": ""
            },
            "colorscale": [
             [
              0,
              "#0d0887"
             ],
             [
              0.1111111111111111,
              "#46039f"
             ],
             [
              0.2222222222222222,
              "#7201a8"
             ],
             [
              0.3333333333333333,
              "#9c179e"
             ],
             [
              0.4444444444444444,
              "#bd3786"
             ],
             [
              0.5555555555555556,
              "#d8576b"
             ],
             [
              0.6666666666666666,
              "#ed7953"
             ],
             [
              0.7777777777777778,
              "#fb9f3a"
             ],
             [
              0.8888888888888888,
              "#fdca26"
             ],
             [
              1,
              "#f0f921"
             ]
            ],
            "type": "heatmap"
           }
          ],
          "heatmapgl": [
           {
            "colorbar": {
             "outlinewidth": 0,
             "ticks": ""
            },
            "colorscale": [
             [
              0,
              "#0d0887"
             ],
             [
              0.1111111111111111,
              "#46039f"
             ],
             [
              0.2222222222222222,
              "#7201a8"
             ],
             [
              0.3333333333333333,
              "#9c179e"
             ],
             [
              0.4444444444444444,
              "#bd3786"
             ],
             [
              0.5555555555555556,
              "#d8576b"
             ],
             [
              0.6666666666666666,
              "#ed7953"
             ],
             [
              0.7777777777777778,
              "#fb9f3a"
             ],
             [
              0.8888888888888888,
              "#fdca26"
             ],
             [
              1,
              "#f0f921"
             ]
            ],
            "type": "heatmapgl"
           }
          ],
          "histogram": [
           {
            "marker": {
             "pattern": {
              "fillmode": "overlay",
              "size": 10,
              "solidity": 0.2
             }
            },
            "type": "histogram"
           }
          ],
          "histogram2d": [
           {
            "colorbar": {
             "outlinewidth": 0,
             "ticks": ""
            },
            "colorscale": [
             [
              0,
              "#0d0887"
             ],
             [
              0.1111111111111111,
              "#46039f"
             ],
             [
              0.2222222222222222,
              "#7201a8"
             ],
             [
              0.3333333333333333,
              "#9c179e"
             ],
             [
              0.4444444444444444,
              "#bd3786"
             ],
             [
              0.5555555555555556,
              "#d8576b"
             ],
             [
              0.6666666666666666,
              "#ed7953"
             ],
             [
              0.7777777777777778,
              "#fb9f3a"
             ],
             [
              0.8888888888888888,
              "#fdca26"
             ],
             [
              1,
              "#f0f921"
             ]
            ],
            "type": "histogram2d"
           }
          ],
          "histogram2dcontour": [
           {
            "colorbar": {
             "outlinewidth": 0,
             "ticks": ""
            },
            "colorscale": [
             [
              0,
              "#0d0887"
             ],
             [
              0.1111111111111111,
              "#46039f"
             ],
             [
              0.2222222222222222,
              "#7201a8"
             ],
             [
              0.3333333333333333,
              "#9c179e"
             ],
             [
              0.4444444444444444,
              "#bd3786"
             ],
             [
              0.5555555555555556,
              "#d8576b"
             ],
             [
              0.6666666666666666,
              "#ed7953"
             ],
             [
              0.7777777777777778,
              "#fb9f3a"
             ],
             [
              0.8888888888888888,
              "#fdca26"
             ],
             [
              1,
              "#f0f921"
             ]
            ],
            "type": "histogram2dcontour"
           }
          ],
          "mesh3d": [
           {
            "colorbar": {
             "outlinewidth": 0,
             "ticks": ""
            },
            "type": "mesh3d"
           }
          ],
          "parcoords": [
           {
            "line": {
             "colorbar": {
              "outlinewidth": 0,
              "ticks": ""
             }
            },
            "type": "parcoords"
           }
          ],
          "pie": [
           {
            "automargin": true,
            "type": "pie"
           }
          ],
          "scatter": [
           {
            "fillpattern": {
             "fillmode": "overlay",
             "size": 10,
             "solidity": 0.2
            },
            "type": "scatter"
           }
          ],
          "scatter3d": [
           {
            "line": {
             "colorbar": {
              "outlinewidth": 0,
              "ticks": ""
             }
            },
            "marker": {
             "colorbar": {
              "outlinewidth": 0,
              "ticks": ""
             }
            },
            "type": "scatter3d"
           }
          ],
          "scattercarpet": [
           {
            "marker": {
             "colorbar": {
              "outlinewidth": 0,
              "ticks": ""
             }
            },
            "type": "scattercarpet"
           }
          ],
          "scattergeo": [
           {
            "marker": {
             "colorbar": {
              "outlinewidth": 0,
              "ticks": ""
             }
            },
            "type": "scattergeo"
           }
          ],
          "scattergl": [
           {
            "marker": {
             "colorbar": {
              "outlinewidth": 0,
              "ticks": ""
             }
            },
            "type": "scattergl"
           }
          ],
          "scattermapbox": [
           {
            "marker": {
             "colorbar": {
              "outlinewidth": 0,
              "ticks": ""
             }
            },
            "type": "scattermapbox"
           }
          ],
          "scatterpolar": [
           {
            "marker": {
             "colorbar": {
              "outlinewidth": 0,
              "ticks": ""
             }
            },
            "type": "scatterpolar"
           }
          ],
          "scatterpolargl": [
           {
            "marker": {
             "colorbar": {
              "outlinewidth": 0,
              "ticks": ""
             }
            },
            "type": "scatterpolargl"
           }
          ],
          "scatterternary": [
           {
            "marker": {
             "colorbar": {
              "outlinewidth": 0,
              "ticks": ""
             }
            },
            "type": "scatterternary"
           }
          ],
          "surface": [
           {
            "colorbar": {
             "outlinewidth": 0,
             "ticks": ""
            },
            "colorscale": [
             [
              0,
              "#0d0887"
             ],
             [
              0.1111111111111111,
              "#46039f"
             ],
             [
              0.2222222222222222,
              "#7201a8"
             ],
             [
              0.3333333333333333,
              "#9c179e"
             ],
             [
              0.4444444444444444,
              "#bd3786"
             ],
             [
              0.5555555555555556,
              "#d8576b"
             ],
             [
              0.6666666666666666,
              "#ed7953"
             ],
             [
              0.7777777777777778,
              "#fb9f3a"
             ],
             [
              0.8888888888888888,
              "#fdca26"
             ],
             [
              1,
              "#f0f921"
             ]
            ],
            "type": "surface"
           }
          ],
          "table": [
           {
            "cells": {
             "fill": {
              "color": "#EBF0F8"
             },
             "line": {
              "color": "white"
             }
            },
            "header": {
             "fill": {
              "color": "#C8D4E3"
             },
             "line": {
              "color": "white"
             }
            },
            "type": "table"
           }
          ]
         },
         "layout": {
          "annotationdefaults": {
           "arrowcolor": "#2a3f5f",
           "arrowhead": 0,
           "arrowwidth": 1
          },
          "autotypenumbers": "strict",
          "coloraxis": {
           "colorbar": {
            "outlinewidth": 0,
            "ticks": ""
           }
          },
          "colorscale": {
           "diverging": [
            [
             0,
             "#8e0152"
            ],
            [
             0.1,
             "#c51b7d"
            ],
            [
             0.2,
             "#de77ae"
            ],
            [
             0.3,
             "#f1b6da"
            ],
            [
             0.4,
             "#fde0ef"
            ],
            [
             0.5,
             "#f7f7f7"
            ],
            [
             0.6,
             "#e6f5d0"
            ],
            [
             0.7,
             "#b8e186"
            ],
            [
             0.8,
             "#7fbc41"
            ],
            [
             0.9,
             "#4d9221"
            ],
            [
             1,
             "#276419"
            ]
           ],
           "sequential": [
            [
             0,
             "#0d0887"
            ],
            [
             0.1111111111111111,
             "#46039f"
            ],
            [
             0.2222222222222222,
             "#7201a8"
            ],
            [
             0.3333333333333333,
             "#9c179e"
            ],
            [
             0.4444444444444444,
             "#bd3786"
            ],
            [
             0.5555555555555556,
             "#d8576b"
            ],
            [
             0.6666666666666666,
             "#ed7953"
            ],
            [
             0.7777777777777778,
             "#fb9f3a"
            ],
            [
             0.8888888888888888,
             "#fdca26"
            ],
            [
             1,
             "#f0f921"
            ]
           ],
           "sequentialminus": [
            [
             0,
             "#0d0887"
            ],
            [
             0.1111111111111111,
             "#46039f"
            ],
            [
             0.2222222222222222,
             "#7201a8"
            ],
            [
             0.3333333333333333,
             "#9c179e"
            ],
            [
             0.4444444444444444,
             "#bd3786"
            ],
            [
             0.5555555555555556,
             "#d8576b"
            ],
            [
             0.6666666666666666,
             "#ed7953"
            ],
            [
             0.7777777777777778,
             "#fb9f3a"
            ],
            [
             0.8888888888888888,
             "#fdca26"
            ],
            [
             1,
             "#f0f921"
            ]
           ]
          },
          "colorway": [
           "#636efa",
           "#EF553B",
           "#00cc96",
           "#ab63fa",
           "#FFA15A",
           "#19d3f3",
           "#FF6692",
           "#B6E880",
           "#FF97FF",
           "#FECB52"
          ],
          "font": {
           "color": "#2a3f5f"
          },
          "geo": {
           "bgcolor": "white",
           "lakecolor": "white",
           "landcolor": "#E5ECF6",
           "showlakes": true,
           "showland": true,
           "subunitcolor": "white"
          },
          "hoverlabel": {
           "align": "left"
          },
          "hovermode": "closest",
          "mapbox": {
           "style": "light"
          },
          "paper_bgcolor": "white",
          "plot_bgcolor": "#E5ECF6",
          "polar": {
           "angularaxis": {
            "gridcolor": "white",
            "linecolor": "white",
            "ticks": ""
           },
           "bgcolor": "#E5ECF6",
           "radialaxis": {
            "gridcolor": "white",
            "linecolor": "white",
            "ticks": ""
           }
          },
          "scene": {
           "xaxis": {
            "backgroundcolor": "#E5ECF6",
            "gridcolor": "white",
            "gridwidth": 2,
            "linecolor": "white",
            "showbackground": true,
            "ticks": "",
            "zerolinecolor": "white"
           },
           "yaxis": {
            "backgroundcolor": "#E5ECF6",
            "gridcolor": "white",
            "gridwidth": 2,
            "linecolor": "white",
            "showbackground": true,
            "ticks": "",
            "zerolinecolor": "white"
           },
           "zaxis": {
            "backgroundcolor": "#E5ECF6",
            "gridcolor": "white",
            "gridwidth": 2,
            "linecolor": "white",
            "showbackground": true,
            "ticks": "",
            "zerolinecolor": "white"
           }
          },
          "shapedefaults": {
           "line": {
            "color": "#2a3f5f"
           }
          },
          "ternary": {
           "aaxis": {
            "gridcolor": "white",
            "linecolor": "white",
            "ticks": ""
           },
           "baxis": {
            "gridcolor": "white",
            "linecolor": "white",
            "ticks": ""
           },
           "bgcolor": "#E5ECF6",
           "caxis": {
            "gridcolor": "white",
            "linecolor": "white",
            "ticks": ""
           }
          },
          "title": {
           "x": 0.05
          },
          "xaxis": {
           "automargin": true,
           "gridcolor": "white",
           "linecolor": "white",
           "ticks": "",
           "title": {
            "standoff": 15
           },
           "zerolinecolor": "white",
           "zerolinewidth": 2
          },
          "yaxis": {
           "automargin": true,
           "gridcolor": "white",
           "linecolor": "white",
           "ticks": "",
           "title": {
            "standoff": 15
           },
           "zerolinecolor": "white",
           "zerolinewidth": 2
          }
         }
        },
        "title": {
         "text": "Percentage of Household in Positive and Negative Savings"
        },
        "width": 1000,
        "xaxis": {
         "anchor": "y",
         "domain": [
          0,
          0.2888888888888889
         ],
         "tickformat": ",.0%",
         "title": {
          "text": "Bill"
         },
         "visible": true
        },
        "xaxis2": {
         "anchor": "y2",
         "domain": [
          0.35555555555555557,
          0.6444444444444445
         ],
         "tickformat": ",.0%",
         "title": {
          "text": "Emission"
         },
         "visible": true
        },
        "xaxis3": {
         "anchor": "y3",
         "domain": [
          0.7111111111111111,
          1
         ],
         "tickformat": ",.0%",
         "title": {
          "text": "Total Energy"
         },
         "visible": true
        },
        "yaxis": {
         "anchor": "x",
         "domain": [
          0,
          1
         ],
         "visible": true
        },
        "yaxis2": {
         "anchor": "x2",
         "domain": [
          0,
          1
         ],
         "visible": false
        },
        "yaxis3": {
         "anchor": "x3",
         "domain": [
          0,
          1
         ],
         "visible": false
        }
       }
      }
     },
     "metadata": {},
     "output_type": "display_data"
    }
   ],
   "source": [
    "segment = 'segment1'\n",
    "results = figure_positive_negative_savings(segment, income, community_results) \n",
    "saving_results[f'segment1_{income}_pct_bill_positive_savings_%'] = results[0]*100\n",
    "saving_results[f'segment1_{income}_pct_emission_positive_savings_%'] = results[1]*100\n",
    "saving_results[f'segment1_{income}_pct_energy_positive_savings_%'] = results[2]*100"
   ]
  },
  {
   "cell_type": "markdown",
   "id": "f3357f7f",
   "metadata": {},
   "source": [
    "### Segment 2"
   ]
  },
  {
   "cell_type": "code",
   "execution_count": 33,
   "id": "362580ae",
   "metadata": {},
   "outputs": [
    {
     "data": {
      "application/vnd.plotly.v1+json": {
       "config": {
        "plotlyServerURL": "https://plot.ly"
       },
       "data": [
        {
         "marker": {
          "color": "red"
         },
         "name": "Negative",
         "orientation": "h",
         "text": [
          0.3392857142857143,
          0.24050632911392406,
          0.2222222222222222,
          0.053824362606232294,
          0.025280898876404494,
          0.025280898876404494,
          0.008595988538681949,
          0.002932551319648094,
          0,
          0,
          0,
          0,
          0,
          0,
          0,
          0
         ],
         "textposition": "inside",
         "texttemplate": "%{text:.0%}",
         "type": "bar",
         "x": [
          0.3392857142857143,
          0.24050632911392406,
          0.2222222222222222,
          0.053824362606232294,
          0.025280898876404494,
          0.025280898876404494,
          0.008595988538681949,
          0.002932551319648094,
          0,
          0,
          0,
          0,
          0,
          0,
          0,
          0
         ],
         "xaxis": "x",
         "y": [
          "Electric Cooking",
          "Mininum Efficiency Whole Home Electrification",
          "Electric Clothes Dryer",
          "Induction Cooking",
          "Mininum Efficiency Heat Pump with Electric Heat Backup",
          "Mininum Efficiency Heat Pump with Existing Heat Backup",
          "Heat Pump Water Heater",
          "Heat Pump Clothes Dryer",
          "Basic Enclosure",
          "Basic Enclosure + HPWH + High Efficiency HP/Electric Backup",
          "Basic Enclosure + High Efficiency Whole Home Electrification",
          "Enhanced Enclosure",
          "Enhanced Enclosure + HPWH + High Efficiency HP/Electric Backup",
          "Enhanced Enclosure + High Efficiency Whole Home Electrification",
          "High Efficiency Heat Pump with Electric Heat Backup",
          "High Efficiency Whole Home Electrification"
         ],
         "yaxis": "y"
        },
        {
         "marker": {
          "color": "green"
         },
         "name": "Positive",
         "orientation": "h",
         "text": [
          0.6607142857142857,
          0.759493670886076,
          0.7777777777777778,
          0.9461756373937678,
          0.9747191011235955,
          0.9747191011235955,
          0.9914040114613181,
          0.9970674486803519,
          1,
          1,
          1,
          1,
          1,
          1,
          1,
          1
         ],
         "textposition": "inside",
         "texttemplate": "%{text:.0%}",
         "type": "bar",
         "x": [
          0.6607142857142857,
          0.759493670886076,
          0.7777777777777778,
          0.9461756373937678,
          0.9747191011235955,
          0.9747191011235955,
          0.9914040114613181,
          0.9970674486803519,
          1,
          1,
          1,
          1,
          1,
          1,
          1,
          1
         ],
         "xaxis": "x",
         "y": [
          "Electric Cooking",
          "Mininum Efficiency Whole Home Electrification",
          "Electric Clothes Dryer",
          "Induction Cooking",
          "Mininum Efficiency Heat Pump with Electric Heat Backup",
          "Mininum Efficiency Heat Pump with Existing Heat Backup",
          "Heat Pump Water Heater",
          "Heat Pump Clothes Dryer",
          "Basic Enclosure",
          "Basic Enclosure + HPWH + High Efficiency HP/Electric Backup",
          "Basic Enclosure + High Efficiency Whole Home Electrification",
          "Enhanced Enclosure",
          "Enhanced Enclosure + HPWH + High Efficiency HP/Electric Backup",
          "Enhanced Enclosure + High Efficiency Whole Home Electrification",
          "High Efficiency Heat Pump with Electric Heat Backup",
          "High Efficiency Whole Home Electrification"
         ],
         "yaxis": "y"
        },
        {
         "marker": {
          "color": "red"
         },
         "orientation": "h",
         "showlegend": false,
         "text": [
          0,
          0,
          0,
          0,
          0.008426966292134831,
          0.008426966292134831,
          0,
          0,
          0,
          0,
          0,
          0,
          0,
          0,
          0,
          0
         ],
         "textposition": "inside",
         "texttemplate": "%{text:.0%}",
         "type": "bar",
         "x": [
          0,
          0,
          0,
          0,
          0.008426966292134831,
          0.008426966292134831,
          0,
          0,
          0,
          0,
          0,
          0,
          0,
          0,
          0,
          0
         ],
         "xaxis": "x2",
         "y": [
          "Electric Cooking",
          "Mininum Efficiency Whole Home Electrification",
          "Electric Clothes Dryer",
          "Induction Cooking",
          "Mininum Efficiency Heat Pump with Electric Heat Backup",
          "Mininum Efficiency Heat Pump with Existing Heat Backup",
          "Heat Pump Water Heater",
          "Heat Pump Clothes Dryer",
          "Basic Enclosure",
          "Basic Enclosure + HPWH + High Efficiency HP/Electric Backup",
          "Basic Enclosure + High Efficiency Whole Home Electrification",
          "Enhanced Enclosure",
          "Enhanced Enclosure + HPWH + High Efficiency HP/Electric Backup",
          "Enhanced Enclosure + High Efficiency Whole Home Electrification",
          "High Efficiency Heat Pump with Electric Heat Backup",
          "High Efficiency Whole Home Electrification"
         ],
         "yaxis": "y2"
        },
        {
         "marker": {
          "color": "green"
         },
         "orientation": "h",
         "showlegend": false,
         "text": [
          1,
          1,
          1,
          1,
          0.9915730337078652,
          0.9915730337078652,
          1,
          1,
          1,
          1,
          1,
          1,
          1,
          1,
          1,
          1
         ],
         "textposition": "inside",
         "texttemplate": "%{text:.0%}",
         "type": "bar",
         "x": [
          1,
          1,
          1,
          1,
          0.9915730337078652,
          0.9915730337078652,
          1,
          1,
          1,
          1,
          1,
          1,
          1,
          1,
          1,
          1
         ],
         "xaxis": "x2",
         "y": [
          "Electric Cooking",
          "Mininum Efficiency Whole Home Electrification",
          "Electric Clothes Dryer",
          "Induction Cooking",
          "Mininum Efficiency Heat Pump with Electric Heat Backup",
          "Mininum Efficiency Heat Pump with Existing Heat Backup",
          "Heat Pump Water Heater",
          "Heat Pump Clothes Dryer",
          "Basic Enclosure",
          "Basic Enclosure + HPWH + High Efficiency HP/Electric Backup",
          "Basic Enclosure + High Efficiency Whole Home Electrification",
          "Enhanced Enclosure",
          "Enhanced Enclosure + HPWH + High Efficiency HP/Electric Backup",
          "Enhanced Enclosure + High Efficiency Whole Home Electrification",
          "High Efficiency Heat Pump with Electric Heat Backup",
          "High Efficiency Whole Home Electrification"
         ],
         "yaxis": "y2"
        },
        {
         "marker": {
          "color": "red"
         },
         "orientation": "h",
         "showlegend": false,
         "text": [
          0,
          0,
          0,
          0,
          0.019662921348314606,
          0.019662921348314606,
          0,
          0,
          0,
          0,
          0,
          0,
          0,
          0,
          0,
          0
         ],
         "textposition": "inside",
         "texttemplate": "%{text:.0%}",
         "type": "bar",
         "x": [
          0,
          0,
          0,
          0,
          0.019662921348314606,
          0.019662921348314606,
          0,
          0,
          0,
          0,
          0,
          0,
          0,
          0,
          0,
          0
         ],
         "xaxis": "x3",
         "y": [
          "Electric Cooking",
          "Mininum Efficiency Whole Home Electrification",
          "Electric Clothes Dryer",
          "Induction Cooking",
          "Mininum Efficiency Heat Pump with Electric Heat Backup",
          "Mininum Efficiency Heat Pump with Existing Heat Backup",
          "Heat Pump Water Heater",
          "Heat Pump Clothes Dryer",
          "Basic Enclosure",
          "Basic Enclosure + HPWH + High Efficiency HP/Electric Backup",
          "Basic Enclosure + High Efficiency Whole Home Electrification",
          "Enhanced Enclosure",
          "Enhanced Enclosure + HPWH + High Efficiency HP/Electric Backup",
          "Enhanced Enclosure + High Efficiency Whole Home Electrification",
          "High Efficiency Heat Pump with Electric Heat Backup",
          "High Efficiency Whole Home Electrification"
         ],
         "yaxis": "y3"
        },
        {
         "marker": {
          "color": "green"
         },
         "orientation": "h",
         "showlegend": false,
         "text": [
          1,
          1,
          1,
          1,
          0.9803370786516854,
          0.9803370786516854,
          1,
          1,
          1,
          1,
          1,
          1,
          1,
          1,
          1,
          1
         ],
         "textposition": "inside",
         "texttemplate": "%{text:.0%}",
         "type": "bar",
         "x": [
          1,
          1,
          1,
          1,
          0.9803370786516854,
          0.9803370786516854,
          1,
          1,
          1,
          1,
          1,
          1,
          1,
          1,
          1,
          1
         ],
         "xaxis": "x3",
         "y": [
          "Electric Cooking",
          "Mininum Efficiency Whole Home Electrification",
          "Electric Clothes Dryer",
          "Induction Cooking",
          "Mininum Efficiency Heat Pump with Electric Heat Backup",
          "Mininum Efficiency Heat Pump with Existing Heat Backup",
          "Heat Pump Water Heater",
          "Heat Pump Clothes Dryer",
          "Basic Enclosure",
          "Basic Enclosure + HPWH + High Efficiency HP/Electric Backup",
          "Basic Enclosure + High Efficiency Whole Home Electrification",
          "Enhanced Enclosure",
          "Enhanced Enclosure + HPWH + High Efficiency HP/Electric Backup",
          "Enhanced Enclosure + High Efficiency Whole Home Electrification",
          "High Efficiency Heat Pump with Electric Heat Backup",
          "High Efficiency Whole Home Electrification"
         ],
         "yaxis": "y3"
        }
       ],
       "layout": {
        "autosize": false,
        "barmode": "relative",
        "font": {
         "size": 10
        },
        "height": 500,
        "template": {
         "data": {
          "bar": [
           {
            "error_x": {
             "color": "#2a3f5f"
            },
            "error_y": {
             "color": "#2a3f5f"
            },
            "marker": {
             "line": {
              "color": "#E5ECF6",
              "width": 0.5
             },
             "pattern": {
              "fillmode": "overlay",
              "size": 10,
              "solidity": 0.2
             }
            },
            "type": "bar"
           }
          ],
          "barpolar": [
           {
            "marker": {
             "line": {
              "color": "#E5ECF6",
              "width": 0.5
             },
             "pattern": {
              "fillmode": "overlay",
              "size": 10,
              "solidity": 0.2
             }
            },
            "type": "barpolar"
           }
          ],
          "carpet": [
           {
            "aaxis": {
             "endlinecolor": "#2a3f5f",
             "gridcolor": "white",
             "linecolor": "white",
             "minorgridcolor": "white",
             "startlinecolor": "#2a3f5f"
            },
            "baxis": {
             "endlinecolor": "#2a3f5f",
             "gridcolor": "white",
             "linecolor": "white",
             "minorgridcolor": "white",
             "startlinecolor": "#2a3f5f"
            },
            "type": "carpet"
           }
          ],
          "choropleth": [
           {
            "colorbar": {
             "outlinewidth": 0,
             "ticks": ""
            },
            "type": "choropleth"
           }
          ],
          "contour": [
           {
            "colorbar": {
             "outlinewidth": 0,
             "ticks": ""
            },
            "colorscale": [
             [
              0,
              "#0d0887"
             ],
             [
              0.1111111111111111,
              "#46039f"
             ],
             [
              0.2222222222222222,
              "#7201a8"
             ],
             [
              0.3333333333333333,
              "#9c179e"
             ],
             [
              0.4444444444444444,
              "#bd3786"
             ],
             [
              0.5555555555555556,
              "#d8576b"
             ],
             [
              0.6666666666666666,
              "#ed7953"
             ],
             [
              0.7777777777777778,
              "#fb9f3a"
             ],
             [
              0.8888888888888888,
              "#fdca26"
             ],
             [
              1,
              "#f0f921"
             ]
            ],
            "type": "contour"
           }
          ],
          "contourcarpet": [
           {
            "colorbar": {
             "outlinewidth": 0,
             "ticks": ""
            },
            "type": "contourcarpet"
           }
          ],
          "heatmap": [
           {
            "colorbar": {
             "outlinewidth": 0,
             "ticks": ""
            },
            "colorscale": [
             [
              0,
              "#0d0887"
             ],
             [
              0.1111111111111111,
              "#46039f"
             ],
             [
              0.2222222222222222,
              "#7201a8"
             ],
             [
              0.3333333333333333,
              "#9c179e"
             ],
             [
              0.4444444444444444,
              "#bd3786"
             ],
             [
              0.5555555555555556,
              "#d8576b"
             ],
             [
              0.6666666666666666,
              "#ed7953"
             ],
             [
              0.7777777777777778,
              "#fb9f3a"
             ],
             [
              0.8888888888888888,
              "#fdca26"
             ],
             [
              1,
              "#f0f921"
             ]
            ],
            "type": "heatmap"
           }
          ],
          "heatmapgl": [
           {
            "colorbar": {
             "outlinewidth": 0,
             "ticks": ""
            },
            "colorscale": [
             [
              0,
              "#0d0887"
             ],
             [
              0.1111111111111111,
              "#46039f"
             ],
             [
              0.2222222222222222,
              "#7201a8"
             ],
             [
              0.3333333333333333,
              "#9c179e"
             ],
             [
              0.4444444444444444,
              "#bd3786"
             ],
             [
              0.5555555555555556,
              "#d8576b"
             ],
             [
              0.6666666666666666,
              "#ed7953"
             ],
             [
              0.7777777777777778,
              "#fb9f3a"
             ],
             [
              0.8888888888888888,
              "#fdca26"
             ],
             [
              1,
              "#f0f921"
             ]
            ],
            "type": "heatmapgl"
           }
          ],
          "histogram": [
           {
            "marker": {
             "pattern": {
              "fillmode": "overlay",
              "size": 10,
              "solidity": 0.2
             }
            },
            "type": "histogram"
           }
          ],
          "histogram2d": [
           {
            "colorbar": {
             "outlinewidth": 0,
             "ticks": ""
            },
            "colorscale": [
             [
              0,
              "#0d0887"
             ],
             [
              0.1111111111111111,
              "#46039f"
             ],
             [
              0.2222222222222222,
              "#7201a8"
             ],
             [
              0.3333333333333333,
              "#9c179e"
             ],
             [
              0.4444444444444444,
              "#bd3786"
             ],
             [
              0.5555555555555556,
              "#d8576b"
             ],
             [
              0.6666666666666666,
              "#ed7953"
             ],
             [
              0.7777777777777778,
              "#fb9f3a"
             ],
             [
              0.8888888888888888,
              "#fdca26"
             ],
             [
              1,
              "#f0f921"
             ]
            ],
            "type": "histogram2d"
           }
          ],
          "histogram2dcontour": [
           {
            "colorbar": {
             "outlinewidth": 0,
             "ticks": ""
            },
            "colorscale": [
             [
              0,
              "#0d0887"
             ],
             [
              0.1111111111111111,
              "#46039f"
             ],
             [
              0.2222222222222222,
              "#7201a8"
             ],
             [
              0.3333333333333333,
              "#9c179e"
             ],
             [
              0.4444444444444444,
              "#bd3786"
             ],
             [
              0.5555555555555556,
              "#d8576b"
             ],
             [
              0.6666666666666666,
              "#ed7953"
             ],
             [
              0.7777777777777778,
              "#fb9f3a"
             ],
             [
              0.8888888888888888,
              "#fdca26"
             ],
             [
              1,
              "#f0f921"
             ]
            ],
            "type": "histogram2dcontour"
           }
          ],
          "mesh3d": [
           {
            "colorbar": {
             "outlinewidth": 0,
             "ticks": ""
            },
            "type": "mesh3d"
           }
          ],
          "parcoords": [
           {
            "line": {
             "colorbar": {
              "outlinewidth": 0,
              "ticks": ""
             }
            },
            "type": "parcoords"
           }
          ],
          "pie": [
           {
            "automargin": true,
            "type": "pie"
           }
          ],
          "scatter": [
           {
            "fillpattern": {
             "fillmode": "overlay",
             "size": 10,
             "solidity": 0.2
            },
            "type": "scatter"
           }
          ],
          "scatter3d": [
           {
            "line": {
             "colorbar": {
              "outlinewidth": 0,
              "ticks": ""
             }
            },
            "marker": {
             "colorbar": {
              "outlinewidth": 0,
              "ticks": ""
             }
            },
            "type": "scatter3d"
           }
          ],
          "scattercarpet": [
           {
            "marker": {
             "colorbar": {
              "outlinewidth": 0,
              "ticks": ""
             }
            },
            "type": "scattercarpet"
           }
          ],
          "scattergeo": [
           {
            "marker": {
             "colorbar": {
              "outlinewidth": 0,
              "ticks": ""
             }
            },
            "type": "scattergeo"
           }
          ],
          "scattergl": [
           {
            "marker": {
             "colorbar": {
              "outlinewidth": 0,
              "ticks": ""
             }
            },
            "type": "scattergl"
           }
          ],
          "scattermapbox": [
           {
            "marker": {
             "colorbar": {
              "outlinewidth": 0,
              "ticks": ""
             }
            },
            "type": "scattermapbox"
           }
          ],
          "scatterpolar": [
           {
            "marker": {
             "colorbar": {
              "outlinewidth": 0,
              "ticks": ""
             }
            },
            "type": "scatterpolar"
           }
          ],
          "scatterpolargl": [
           {
            "marker": {
             "colorbar": {
              "outlinewidth": 0,
              "ticks": ""
             }
            },
            "type": "scatterpolargl"
           }
          ],
          "scatterternary": [
           {
            "marker": {
             "colorbar": {
              "outlinewidth": 0,
              "ticks": ""
             }
            },
            "type": "scatterternary"
           }
          ],
          "surface": [
           {
            "colorbar": {
             "outlinewidth": 0,
             "ticks": ""
            },
            "colorscale": [
             [
              0,
              "#0d0887"
             ],
             [
              0.1111111111111111,
              "#46039f"
             ],
             [
              0.2222222222222222,
              "#7201a8"
             ],
             [
              0.3333333333333333,
              "#9c179e"
             ],
             [
              0.4444444444444444,
              "#bd3786"
             ],
             [
              0.5555555555555556,
              "#d8576b"
             ],
             [
              0.6666666666666666,
              "#ed7953"
             ],
             [
              0.7777777777777778,
              "#fb9f3a"
             ],
             [
              0.8888888888888888,
              "#fdca26"
             ],
             [
              1,
              "#f0f921"
             ]
            ],
            "type": "surface"
           }
          ],
          "table": [
           {
            "cells": {
             "fill": {
              "color": "#EBF0F8"
             },
             "line": {
              "color": "white"
             }
            },
            "header": {
             "fill": {
              "color": "#C8D4E3"
             },
             "line": {
              "color": "white"
             }
            },
            "type": "table"
           }
          ]
         },
         "layout": {
          "annotationdefaults": {
           "arrowcolor": "#2a3f5f",
           "arrowhead": 0,
           "arrowwidth": 1
          },
          "autotypenumbers": "strict",
          "coloraxis": {
           "colorbar": {
            "outlinewidth": 0,
            "ticks": ""
           }
          },
          "colorscale": {
           "diverging": [
            [
             0,
             "#8e0152"
            ],
            [
             0.1,
             "#c51b7d"
            ],
            [
             0.2,
             "#de77ae"
            ],
            [
             0.3,
             "#f1b6da"
            ],
            [
             0.4,
             "#fde0ef"
            ],
            [
             0.5,
             "#f7f7f7"
            ],
            [
             0.6,
             "#e6f5d0"
            ],
            [
             0.7,
             "#b8e186"
            ],
            [
             0.8,
             "#7fbc41"
            ],
            [
             0.9,
             "#4d9221"
            ],
            [
             1,
             "#276419"
            ]
           ],
           "sequential": [
            [
             0,
             "#0d0887"
            ],
            [
             0.1111111111111111,
             "#46039f"
            ],
            [
             0.2222222222222222,
             "#7201a8"
            ],
            [
             0.3333333333333333,
             "#9c179e"
            ],
            [
             0.4444444444444444,
             "#bd3786"
            ],
            [
             0.5555555555555556,
             "#d8576b"
            ],
            [
             0.6666666666666666,
             "#ed7953"
            ],
            [
             0.7777777777777778,
             "#fb9f3a"
            ],
            [
             0.8888888888888888,
             "#fdca26"
            ],
            [
             1,
             "#f0f921"
            ]
           ],
           "sequentialminus": [
            [
             0,
             "#0d0887"
            ],
            [
             0.1111111111111111,
             "#46039f"
            ],
            [
             0.2222222222222222,
             "#7201a8"
            ],
            [
             0.3333333333333333,
             "#9c179e"
            ],
            [
             0.4444444444444444,
             "#bd3786"
            ],
            [
             0.5555555555555556,
             "#d8576b"
            ],
            [
             0.6666666666666666,
             "#ed7953"
            ],
            [
             0.7777777777777778,
             "#fb9f3a"
            ],
            [
             0.8888888888888888,
             "#fdca26"
            ],
            [
             1,
             "#f0f921"
            ]
           ]
          },
          "colorway": [
           "#636efa",
           "#EF553B",
           "#00cc96",
           "#ab63fa",
           "#FFA15A",
           "#19d3f3",
           "#FF6692",
           "#B6E880",
           "#FF97FF",
           "#FECB52"
          ],
          "font": {
           "color": "#2a3f5f"
          },
          "geo": {
           "bgcolor": "white",
           "lakecolor": "white",
           "landcolor": "#E5ECF6",
           "showlakes": true,
           "showland": true,
           "subunitcolor": "white"
          },
          "hoverlabel": {
           "align": "left"
          },
          "hovermode": "closest",
          "mapbox": {
           "style": "light"
          },
          "paper_bgcolor": "white",
          "plot_bgcolor": "#E5ECF6",
          "polar": {
           "angularaxis": {
            "gridcolor": "white",
            "linecolor": "white",
            "ticks": ""
           },
           "bgcolor": "#E5ECF6",
           "radialaxis": {
            "gridcolor": "white",
            "linecolor": "white",
            "ticks": ""
           }
          },
          "scene": {
           "xaxis": {
            "backgroundcolor": "#E5ECF6",
            "gridcolor": "white",
            "gridwidth": 2,
            "linecolor": "white",
            "showbackground": true,
            "ticks": "",
            "zerolinecolor": "white"
           },
           "yaxis": {
            "backgroundcolor": "#E5ECF6",
            "gridcolor": "white",
            "gridwidth": 2,
            "linecolor": "white",
            "showbackground": true,
            "ticks": "",
            "zerolinecolor": "white"
           },
           "zaxis": {
            "backgroundcolor": "#E5ECF6",
            "gridcolor": "white",
            "gridwidth": 2,
            "linecolor": "white",
            "showbackground": true,
            "ticks": "",
            "zerolinecolor": "white"
           }
          },
          "shapedefaults": {
           "line": {
            "color": "#2a3f5f"
           }
          },
          "ternary": {
           "aaxis": {
            "gridcolor": "white",
            "linecolor": "white",
            "ticks": ""
           },
           "baxis": {
            "gridcolor": "white",
            "linecolor": "white",
            "ticks": ""
           },
           "bgcolor": "#E5ECF6",
           "caxis": {
            "gridcolor": "white",
            "linecolor": "white",
            "ticks": ""
           }
          },
          "title": {
           "x": 0.05
          },
          "xaxis": {
           "automargin": true,
           "gridcolor": "white",
           "linecolor": "white",
           "ticks": "",
           "title": {
            "standoff": 15
           },
           "zerolinecolor": "white",
           "zerolinewidth": 2
          },
          "yaxis": {
           "automargin": true,
           "gridcolor": "white",
           "linecolor": "white",
           "ticks": "",
           "title": {
            "standoff": 15
           },
           "zerolinecolor": "white",
           "zerolinewidth": 2
          }
         }
        },
        "title": {
         "text": "Percentage of Household in Positive and Negative Savings"
        },
        "width": 1000,
        "xaxis": {
         "anchor": "y",
         "domain": [
          0,
          0.2888888888888889
         ],
         "tickformat": ",.0%",
         "title": {
          "text": "Bill"
         },
         "visible": true
        },
        "xaxis2": {
         "anchor": "y2",
         "domain": [
          0.35555555555555557,
          0.6444444444444445
         ],
         "tickformat": ",.0%",
         "title": {
          "text": "Emission"
         },
         "visible": true
        },
        "xaxis3": {
         "anchor": "y3",
         "domain": [
          0.7111111111111111,
          1
         ],
         "tickformat": ",.0%",
         "title": {
          "text": "Total Energy"
         },
         "visible": true
        },
        "yaxis": {
         "anchor": "x",
         "domain": [
          0,
          1
         ],
         "visible": true
        },
        "yaxis2": {
         "anchor": "x2",
         "domain": [
          0,
          1
         ],
         "visible": false
        },
        "yaxis3": {
         "anchor": "x3",
         "domain": [
          0,
          1
         ],
         "visible": false
        }
       }
      }
     },
     "metadata": {},
     "output_type": "display_data"
    }
   ],
   "source": [
    "segment = 'segment2'\n",
    "results = figure_positive_negative_savings(segment, income, community_results)\n",
    "saving_results[f'segment2_{income}_pct_bill_positive_savings_%'] = results[0]*100\n",
    "saving_results[f'segment2_{income}_pct_emission_positive_savings_%'] = results[1]*100\n",
    "saving_results[f'segment2_{income}_pct_energy_positive_savings_%'] = results[2]*100"
   ]
  },
  {
   "cell_type": "markdown",
   "id": "b53c1061",
   "metadata": {},
   "source": [
    "## 2.6. Average Energy Burden (%) Before and after Upgrade"
   ]
  },
  {
   "cell_type": "code",
   "execution_count": 34,
   "id": "1c373671",
   "metadata": {},
   "outputs": [
    {
     "name": "stdout",
     "output_type": "stream",
     "text": [
      "energy burden (%) before and after upgrade\n",
      "segment1\n"
     ]
    },
    {
     "name": "stderr",
     "output_type": "stream",
     "text": [
      "/var/folders/qt/5nrnlf6148z2jxyxx_5yqgl0z8pq2p/T/ipykernel_79926/2800418672.py:4: SettingWithCopyWarning:\n",
      "\n",
      "\n",
      "A value is trying to be set on a copy of a slice from a DataFrame\n",
      "\n",
      "See the caveats in the documentation: https://pandas.pydata.org/pandas-docs/stable/user_guide/indexing.html#returning-a-view-versus-a-copy\n",
      "\n",
      "/var/folders/qt/5nrnlf6148z2jxyxx_5yqgl0z8pq2p/T/ipykernel_79926/2800418672.py:5: SettingWithCopyWarning:\n",
      "\n",
      "\n",
      "A value is trying to be set on a copy of a slice from a DataFrame\n",
      "\n",
      "See the caveats in the documentation: https://pandas.pydata.org/pandas-docs/stable/user_guide/indexing.html#returning-a-view-versus-a-copy\n",
      "\n",
      "/var/folders/qt/5nrnlf6148z2jxyxx_5yqgl0z8pq2p/T/ipykernel_79926/2800418672.py:6: SettingWithCopyWarning:\n",
      "\n",
      "\n",
      "A value is trying to be set on a copy of a slice from a DataFrame.\n",
      "Try using .loc[row_indexer,col_indexer] = value instead\n",
      "\n",
      "See the caveats in the documentation: https://pandas.pydata.org/pandas-docs/stable/user_guide/indexing.html#returning-a-view-versus-a-copy\n",
      "\n",
      "/var/folders/qt/5nrnlf6148z2jxyxx_5yqgl0z8pq2p/T/ipykernel_79926/2800418672.py:7: SettingWithCopyWarning:\n",
      "\n",
      "\n",
      "A value is trying to be set on a copy of a slice from a DataFrame.\n",
      "Try using .loc[row_indexer,col_indexer] = value instead\n",
      "\n",
      "See the caveats in the documentation: https://pandas.pydata.org/pandas-docs/stable/user_guide/indexing.html#returning-a-view-versus-a-copy\n",
      "\n"
     ]
    },
    {
     "data": {
      "text/html": [
       "<div>\n",
       "<style scoped>\n",
       "    .dataframe tbody tr th:only-of-type {\n",
       "        vertical-align: middle;\n",
       "    }\n",
       "\n",
       "    .dataframe tbody tr th {\n",
       "        vertical-align: top;\n",
       "    }\n",
       "\n",
       "    .dataframe thead th {\n",
       "        text-align: right;\n",
       "    }\n",
       "</style>\n",
       "<table border=\"1\" class=\"dataframe\">\n",
       "  <thead>\n",
       "    <tr style=\"text-align: right;\">\n",
       "      <th></th>\n",
       "      <th>before</th>\n",
       "      <th>after</th>\n",
       "    </tr>\n",
       "    <tr>\n",
       "      <th>upgrade_name</th>\n",
       "      <th></th>\n",
       "      <th></th>\n",
       "    </tr>\n",
       "  </thead>\n",
       "  <tbody>\n",
       "    <tr>\n",
       "      <th>Enhanced Enclosure + High Efficiency Whole Home Electrification</th>\n",
       "      <td>8.4</td>\n",
       "      <td>4.1</td>\n",
       "    </tr>\n",
       "    <tr>\n",
       "      <th>Enhanced Enclosure + HPWH + High Efficiency HP/Electric Backup</th>\n",
       "      <td>8.4</td>\n",
       "      <td>4.2</td>\n",
       "    </tr>\n",
       "    <tr>\n",
       "      <th>Basic Enclosure + High Efficiency Whole Home Electrification</th>\n",
       "      <td>8.4</td>\n",
       "      <td>4.2</td>\n",
       "    </tr>\n",
       "    <tr>\n",
       "      <th>Basic Enclosure + HPWH + High Efficiency HP/Electric Backup</th>\n",
       "      <td>8.4</td>\n",
       "      <td>4.2</td>\n",
       "    </tr>\n",
       "    <tr>\n",
       "      <th>High Efficiency Whole Home Electrification</th>\n",
       "      <td>8.4</td>\n",
       "      <td>4.7</td>\n",
       "    </tr>\n",
       "    <tr>\n",
       "      <th>High Efficiency Heat Pump with Electric Heat Backup</th>\n",
       "      <td>8.4</td>\n",
       "      <td>5.7</td>\n",
       "    </tr>\n",
       "    <tr>\n",
       "      <th>Mininum Efficiency Whole Home Electrification</th>\n",
       "      <td>8.4</td>\n",
       "      <td>6.4</td>\n",
       "    </tr>\n",
       "    <tr>\n",
       "      <th>Enhanced Enclosure</th>\n",
       "      <td>8.4</td>\n",
       "      <td>6.6</td>\n",
       "    </tr>\n",
       "    <tr>\n",
       "      <th>Basic Enclosure</th>\n",
       "      <td>8.4</td>\n",
       "      <td>6.8</td>\n",
       "    </tr>\n",
       "    <tr>\n",
       "      <th>Mininum Efficiency Heat Pump with Electric Heat Backup</th>\n",
       "      <td>8.4</td>\n",
       "      <td>7.2</td>\n",
       "    </tr>\n",
       "    <tr>\n",
       "      <th>Mininum Efficiency Heat Pump with Existing Heat Backup</th>\n",
       "      <td>8.4</td>\n",
       "      <td>7.6</td>\n",
       "    </tr>\n",
       "    <tr>\n",
       "      <th>Heat Pump Water Heater</th>\n",
       "      <td>8.4</td>\n",
       "      <td>8.0</td>\n",
       "    </tr>\n",
       "    <tr>\n",
       "      <th>Heat Pump Clothes Dryer</th>\n",
       "      <td>8.5</td>\n",
       "      <td>8.4</td>\n",
       "    </tr>\n",
       "    <tr>\n",
       "      <th>Electric Cooking</th>\n",
       "      <td>8.4</td>\n",
       "      <td>8.4</td>\n",
       "    </tr>\n",
       "    <tr>\n",
       "      <th>Induction Cooking</th>\n",
       "      <td>8.4</td>\n",
       "      <td>8.4</td>\n",
       "    </tr>\n",
       "    <tr>\n",
       "      <th>Electric Clothes Dryer</th>\n",
       "      <td>5.5</td>\n",
       "      <td>5.5</td>\n",
       "    </tr>\n",
       "  </tbody>\n",
       "</table>\n",
       "</div>"
      ],
      "text/plain": [
       "                                                    before  after\n",
       "upgrade_name                                                     \n",
       "Enhanced Enclosure + High Efficiency Whole Home...     8.4    4.1\n",
       "Enhanced Enclosure + HPWH + High Efficiency HP/...     8.4    4.2\n",
       "Basic Enclosure + High Efficiency Whole Home El...     8.4    4.2\n",
       "Basic Enclosure + HPWH + High Efficiency HP/Ele...     8.4    4.2\n",
       "High Efficiency Whole Home Electrification             8.4    4.7\n",
       "High Efficiency Heat Pump with Electric Heat Ba...     8.4    5.7\n",
       "Mininum Efficiency Whole Home Electrification          8.4    6.4\n",
       "Enhanced Enclosure                                     8.4    6.6\n",
       "Basic Enclosure                                        8.4    6.8\n",
       "Mininum Efficiency Heat Pump with Electric Heat...     8.4    7.2\n",
       "Mininum Efficiency Heat Pump with Existing Heat...     8.4    7.6\n",
       "Heat Pump Water Heater                                 8.4    8.0\n",
       "Heat Pump Clothes Dryer                                8.5    8.4\n",
       "Electric Cooking                                       8.4    8.4\n",
       "Induction Cooking                                      8.4    8.4\n",
       "Electric Clothes Dryer                                 5.5    5.5"
      ]
     },
     "metadata": {},
     "output_type": "display_data"
    },
    {
     "name": "stdout",
     "output_type": "stream",
     "text": [
      "segment2\n"
     ]
    },
    {
     "data": {
      "text/html": [
       "<div>\n",
       "<style scoped>\n",
       "    .dataframe tbody tr th:only-of-type {\n",
       "        vertical-align: middle;\n",
       "    }\n",
       "\n",
       "    .dataframe tbody tr th {\n",
       "        vertical-align: top;\n",
       "    }\n",
       "\n",
       "    .dataframe thead th {\n",
       "        text-align: right;\n",
       "    }\n",
       "</style>\n",
       "<table border=\"1\" class=\"dataframe\">\n",
       "  <thead>\n",
       "    <tr style=\"text-align: right;\">\n",
       "      <th></th>\n",
       "      <th>before</th>\n",
       "      <th>after</th>\n",
       "    </tr>\n",
       "    <tr>\n",
       "      <th>upgrade_name</th>\n",
       "      <th></th>\n",
       "      <th></th>\n",
       "    </tr>\n",
       "  </thead>\n",
       "  <tbody>\n",
       "    <tr>\n",
       "      <th>Enhanced Enclosure + High Efficiency Whole Home Electrification</th>\n",
       "      <td>10.1</td>\n",
       "      <td>4.7</td>\n",
       "    </tr>\n",
       "    <tr>\n",
       "      <th>Basic Enclosure + High Efficiency Whole Home Electrification</th>\n",
       "      <td>10.1</td>\n",
       "      <td>4.8</td>\n",
       "    </tr>\n",
       "    <tr>\n",
       "      <th>Enhanced Enclosure + HPWH + High Efficiency HP/Electric Backup</th>\n",
       "      <td>10.1</td>\n",
       "      <td>4.8</td>\n",
       "    </tr>\n",
       "    <tr>\n",
       "      <th>Basic Enclosure + HPWH + High Efficiency HP/Electric Backup</th>\n",
       "      <td>10.1</td>\n",
       "      <td>4.8</td>\n",
       "    </tr>\n",
       "    <tr>\n",
       "      <th>High Efficiency Whole Home Electrification</th>\n",
       "      <td>10.1</td>\n",
       "      <td>5.4</td>\n",
       "    </tr>\n",
       "    <tr>\n",
       "      <th>High Efficiency Heat Pump with Electric Heat Backup</th>\n",
       "      <td>10.1</td>\n",
       "      <td>6.1</td>\n",
       "    </tr>\n",
       "    <tr>\n",
       "      <th>Enhanced Enclosure</th>\n",
       "      <td>10.1</td>\n",
       "      <td>7.8</td>\n",
       "    </tr>\n",
       "    <tr>\n",
       "      <th>Basic Enclosure</th>\n",
       "      <td>10.1</td>\n",
       "      <td>7.9</td>\n",
       "    </tr>\n",
       "    <tr>\n",
       "      <th>Mininum Efficiency Heat Pump with Electric Heat Backup</th>\n",
       "      <td>10.1</td>\n",
       "      <td>7.9</td>\n",
       "    </tr>\n",
       "    <tr>\n",
       "      <th>Mininum Efficiency Heat Pump with Existing Heat Backup</th>\n",
       "      <td>10.1</td>\n",
       "      <td>7.9</td>\n",
       "    </tr>\n",
       "    <tr>\n",
       "      <th>Heat Pump Water Heater</th>\n",
       "      <td>10.1</td>\n",
       "      <td>9.7</td>\n",
       "    </tr>\n",
       "    <tr>\n",
       "      <th>Mininum Efficiency Whole Home Electrification</th>\n",
       "      <td>9.3</td>\n",
       "      <td>9.0</td>\n",
       "    </tr>\n",
       "    <tr>\n",
       "      <th>Electric Cooking</th>\n",
       "      <td>10.0</td>\n",
       "      <td>9.9</td>\n",
       "    </tr>\n",
       "    <tr>\n",
       "      <th>Heat Pump Clothes Dryer</th>\n",
       "      <td>10.3</td>\n",
       "      <td>10.2</td>\n",
       "    </tr>\n",
       "    <tr>\n",
       "      <th>Induction Cooking</th>\n",
       "      <td>10.2</td>\n",
       "      <td>10.1</td>\n",
       "    </tr>\n",
       "    <tr>\n",
       "      <th>Electric Clothes Dryer</th>\n",
       "      <td>10.9</td>\n",
       "      <td>10.9</td>\n",
       "    </tr>\n",
       "  </tbody>\n",
       "</table>\n",
       "</div>"
      ],
      "text/plain": [
       "                                                    before  after\n",
       "upgrade_name                                                     \n",
       "Enhanced Enclosure + High Efficiency Whole Home...    10.1    4.7\n",
       "Basic Enclosure + High Efficiency Whole Home El...    10.1    4.8\n",
       "Enhanced Enclosure + HPWH + High Efficiency HP/...    10.1    4.8\n",
       "Basic Enclosure + HPWH + High Efficiency HP/Ele...    10.1    4.8\n",
       "High Efficiency Whole Home Electrification            10.1    5.4\n",
       "High Efficiency Heat Pump with Electric Heat Ba...    10.1    6.1\n",
       "Enhanced Enclosure                                    10.1    7.8\n",
       "Basic Enclosure                                       10.1    7.9\n",
       "Mininum Efficiency Heat Pump with Electric Heat...    10.1    7.9\n",
       "Mininum Efficiency Heat Pump with Existing Heat...    10.1    7.9\n",
       "Heat Pump Water Heater                                10.1    9.7\n",
       "Mininum Efficiency Whole Home Electrification          9.3    9.0\n",
       "Electric Cooking                                      10.0    9.9\n",
       "Heat Pump Clothes Dryer                               10.3   10.2\n",
       "Induction Cooking                                     10.2   10.1\n",
       "Electric Clothes Dryer                                10.9   10.9"
      ]
     },
     "metadata": {},
     "output_type": "display_data"
    }
   ],
   "source": [
    "results = segment_mean_energy_burden('post-upgrade_energy_burden_2023_cbills.%', community_results) \n",
    "saving_results[[f'segment1_{income}_energy_burden_before_upgrade_%',f'segment1_{income}_energy_burden_after_upgrade_%']] = results[0]\n",
    "saving_results[[f'segment2_{income}_energy_burden_before_upgrade_%',f'segment2_{income}_energy_burden_after_upgrade_%']] = results[1]"
   ]
  },
  {
   "cell_type": "markdown",
   "id": "0dc19882",
   "metadata": {},
   "source": [
    "# 3. Results for Segments (0-80% AMI)"
   ]
  },
  {
   "cell_type": "markdown",
   "id": "baa2745c",
   "metadata": {},
   "source": [
    "Segment Definition\n",
    "\n",
    "Segment 1. Occupied, Single family detached, gas heating, 0-80% AMI  \n",
    "\n",
    "Segment 2. Occupied, Single family detached, electric heating, 0-80% AMI      "
   ]
  },
  {
   "cell_type": "code",
   "execution_count": 35,
   "id": "b85921e5",
   "metadata": {},
   "outputs": [],
   "source": [
    "community_results = pd.read_parquet(f\"data_/community_building_samples_with_upgrade_cost_and_bill/{community}/processed_upgrade_results_tiered.parquet\")\n",
    "\n",
    "income = '0-80%AMI'\n",
    "vacancy_status = ['Occupied']\n",
    "\n",
    "seg1_building_type = ['Single-Family Detached']\n",
    "seg1_heating_fuel = ['Natural Gas']\n",
    "seg1_median_income = ['0-30%','30-60%','60-80%']\n",
    "\n",
    "seg2_building_type = ['Single-Family Detached']\n",
    "seg2_heating_fuel = ['Electricity']\n",
    "seg2_median_income = ['0-30%','30-60%','60-80%']\n",
    "\n",
    "\n",
    "community_results.loc[community_results['build_existing_model.vacancy_status'].isin(vacancy_status) & \n",
    "                     community_results['build_existing_model.geometry_building_type_recs'].isin(seg1_building_type) & \n",
    "                      community_results['build_existing_model.heating_fuel'].isin(seg1_heating_fuel) &\n",
    "                     community_results['build_existing_model.area_median_income'].isin(seg1_median_income),\n",
    "                     'segment'] = 'segment1'\n",
    "community_results.loc[community_results['build_existing_model.vacancy_status'].isin(vacancy_status) & \n",
    "                     community_results['build_existing_model.geometry_building_type_recs'].isin(seg2_building_type) &\n",
    "                      community_results['build_existing_model.heating_fuel'].isin(seg2_heating_fuel) &\n",
    "                     community_results['build_existing_model.area_median_income'].isin(seg2_median_income),\n",
    "                     'segment'] = 'segment2'"
   ]
  },
  {
   "cell_type": "code",
   "execution_count": 36,
   "id": "fabe3d8a",
   "metadata": {},
   "outputs": [
    {
     "name": "stdout",
     "output_type": "stream",
     "text": [
      "Summary for segment: nan: \n"
     ]
    },
    {
     "data": {
      "text/html": [
       "<div>\n",
       "<style scoped>\n",
       "    .dataframe tbody tr th:only-of-type {\n",
       "        vertical-align: middle;\n",
       "    }\n",
       "\n",
       "    .dataframe tbody tr th {\n",
       "        vertical-align: top;\n",
       "    }\n",
       "\n",
       "    .dataframe thead th {\n",
       "        text-align: right;\n",
       "    }\n",
       "</style>\n",
       "<table border=\"1\" class=\"dataframe\">\n",
       "  <thead>\n",
       "    <tr style=\"text-align: right;\">\n",
       "      <th></th>\n",
       "      <th>n_samples</th>\n",
       "      <th>n_represented</th>\n",
       "      <th>saving_cbill.total_usd wt_mean</th>\n",
       "      <th>saving_cbill.total_usd wt_p0.1</th>\n",
       "      <th>saving_cbill.total_usd wt_p0.25</th>\n",
       "      <th>saving_cbill.total_usd wt_p0.75</th>\n",
       "      <th>saving_cbill.total_usd wt_p0.9</th>\n",
       "    </tr>\n",
       "    <tr>\n",
       "      <th>upgrade_name</th>\n",
       "      <th></th>\n",
       "      <th></th>\n",
       "      <th></th>\n",
       "      <th></th>\n",
       "      <th></th>\n",
       "      <th></th>\n",
       "      <th></th>\n",
       "    </tr>\n",
       "  </thead>\n",
       "  <tbody>\n",
       "    <tr>\n",
       "      <th>Enhanced Enclosure + High Efficiency Whole Home Electrification</th>\n",
       "      <td>936</td>\n",
       "      <td>9552.001866</td>\n",
       "      <td>1103.494266</td>\n",
       "      <td>3.515703e+02</td>\n",
       "      <td>556.193866</td>\n",
       "      <td>1456.885576</td>\n",
       "      <td>2026.734608</td>\n",
       "    </tr>\n",
       "    <tr>\n",
       "      <th>Enhanced Enclosure + HPWH + High Efficiency HP/Electric Backup</th>\n",
       "      <td>936</td>\n",
       "      <td>9552.001866</td>\n",
       "      <td>1088.197359</td>\n",
       "      <td>3.341119e+02</td>\n",
       "      <td>555.879296</td>\n",
       "      <td>1429.586821</td>\n",
       "      <td>2014.996404</td>\n",
       "    </tr>\n",
       "    <tr>\n",
       "      <th>Basic Enclosure + High Efficiency Whole Home Electrification</th>\n",
       "      <td>936</td>\n",
       "      <td>9552.001866</td>\n",
       "      <td>1084.483330</td>\n",
       "      <td>3.411636e+02</td>\n",
       "      <td>543.950864</td>\n",
       "      <td>1417.811676</td>\n",
       "      <td>1984.465342</td>\n",
       "    </tr>\n",
       "    <tr>\n",
       "      <th>Basic Enclosure + HPWH + High Efficiency HP/Electric Backup</th>\n",
       "      <td>936</td>\n",
       "      <td>9552.001866</td>\n",
       "      <td>1069.187997</td>\n",
       "      <td>3.291457e+02</td>\n",
       "      <td>543.980918</td>\n",
       "      <td>1410.519839</td>\n",
       "      <td>1958.340684</td>\n",
       "    </tr>\n",
       "    <tr>\n",
       "      <th>High Efficiency Whole Home Electrification</th>\n",
       "      <td>936</td>\n",
       "      <td>9552.001866</td>\n",
       "      <td>966.655486</td>\n",
       "      <td>3.020733e+02</td>\n",
       "      <td>496.939548</td>\n",
       "      <td>1277.255334</td>\n",
       "      <td>1766.832619</td>\n",
       "    </tr>\n",
       "    <tr>\n",
       "      <th>High Efficiency Heat Pump with Electric Heat Backup</th>\n",
       "      <td>933</td>\n",
       "      <td>9540.214122</td>\n",
       "      <td>727.844042</td>\n",
       "      <td>1.678641e+02</td>\n",
       "      <td>313.074287</td>\n",
       "      <td>975.912234</td>\n",
       "      <td>1454.088192</td>\n",
       "    </tr>\n",
       "    <tr>\n",
       "      <th>Mininum Efficiency Whole Home Electrification</th>\n",
       "      <td>457</td>\n",
       "      <td>5407.490052</td>\n",
       "      <td>468.623480</td>\n",
       "      <td>-1.538479e-13</td>\n",
       "      <td>168.269139</td>\n",
       "      <td>733.298279</td>\n",
       "      <td>1006.119360</td>\n",
       "    </tr>\n",
       "    <tr>\n",
       "      <th>Enhanced Enclosure</th>\n",
       "      <td>926</td>\n",
       "      <td>9448.000114</td>\n",
       "      <td>414.740609</td>\n",
       "      <td>4.044700e+01</td>\n",
       "      <td>113.725675</td>\n",
       "      <td>573.417270</td>\n",
       "      <td>960.501334</td>\n",
       "    </tr>\n",
       "    <tr>\n",
       "      <th>Basic Enclosure</th>\n",
       "      <td>921</td>\n",
       "      <td>9421.596759</td>\n",
       "      <td>354.946582</td>\n",
       "      <td>3.608277e+01</td>\n",
       "      <td>88.533163</td>\n",
       "      <td>488.501564</td>\n",
       "      <td>848.974398</td>\n",
       "    </tr>\n",
       "    <tr>\n",
       "      <th>Mininum Efficiency Heat Pump with Electric Heat Backup</th>\n",
       "      <td>933</td>\n",
       "      <td>9540.214122</td>\n",
       "      <td>334.950260</td>\n",
       "      <td>1.675011e+01</td>\n",
       "      <td>87.596144</td>\n",
       "      <td>493.091869</td>\n",
       "      <td>805.429587</td>\n",
       "    </tr>\n",
       "    <tr>\n",
       "      <th>Mininum Efficiency Heat Pump with Existing Heat Backup</th>\n",
       "      <td>935</td>\n",
       "      <td>9528.783582</td>\n",
       "      <td>284.974524</td>\n",
       "      <td>8.223031e+00</td>\n",
       "      <td>62.445051</td>\n",
       "      <td>412.471198</td>\n",
       "      <td>723.762780</td>\n",
       "    </tr>\n",
       "    <tr>\n",
       "      <th>Heat Pump Water Heater</th>\n",
       "      <td>929</td>\n",
       "      <td>9496.592665</td>\n",
       "      <td>137.990670</td>\n",
       "      <td>2.161940e+01</td>\n",
       "      <td>69.325145</td>\n",
       "      <td>189.240909</td>\n",
       "      <td>268.818742</td>\n",
       "    </tr>\n",
       "    <tr>\n",
       "      <th>Heat Pump Clothes Dryer</th>\n",
       "      <td>775</td>\n",
       "      <td>7921.448289</td>\n",
       "      <td>28.159846</td>\n",
       "      <td>0.000000e+00</td>\n",
       "      <td>15.802205</td>\n",
       "      <td>37.689516</td>\n",
       "      <td>55.953266</td>\n",
       "    </tr>\n",
       "    <tr>\n",
       "      <th>Electric Cooking</th>\n",
       "      <td>252</td>\n",
       "      <td>2762.397351</td>\n",
       "      <td>11.255767</td>\n",
       "      <td>-3.652675e+01</td>\n",
       "      <td>0.000000</td>\n",
       "      <td>7.781761</td>\n",
       "      <td>100.753468</td>\n",
       "    </tr>\n",
       "    <tr>\n",
       "      <th>Induction Cooking</th>\n",
       "      <td>926</td>\n",
       "      <td>9431.045665</td>\n",
       "      <td>7.054887</td>\n",
       "      <td>0.000000e+00</td>\n",
       "      <td>3.287447</td>\n",
       "      <td>5.965646</td>\n",
       "      <td>10.498384</td>\n",
       "    </tr>\n",
       "    <tr>\n",
       "      <th>baseline</th>\n",
       "      <td>936</td>\n",
       "      <td>9552.001866</td>\n",
       "      <td>0.000000</td>\n",
       "      <td>0.000000e+00</td>\n",
       "      <td>0.000000</td>\n",
       "      <td>0.000000</td>\n",
       "      <td>0.000000</td>\n",
       "    </tr>\n",
       "    <tr>\n",
       "      <th>Electric Clothes Dryer</th>\n",
       "      <td>33</td>\n",
       "      <td>367.632037</td>\n",
       "      <td>-5.709753</td>\n",
       "      <td>-3.259963e+01</td>\n",
       "      <td>-19.814355</td>\n",
       "      <td>0.000000</td>\n",
       "      <td>15.273543</td>\n",
       "    </tr>\n",
       "  </tbody>\n",
       "</table>\n",
       "</div>"
      ],
      "text/plain": [
       "                                                    n_samples  n_represented  \\\n",
       "upgrade_name                                                                   \n",
       "Enhanced Enclosure + High Efficiency Whole Home...        936    9552.001866   \n",
       "Enhanced Enclosure + HPWH + High Efficiency HP/...        936    9552.001866   \n",
       "Basic Enclosure + High Efficiency Whole Home El...        936    9552.001866   \n",
       "Basic Enclosure + HPWH + High Efficiency HP/Ele...        936    9552.001866   \n",
       "High Efficiency Whole Home Electrification                936    9552.001866   \n",
       "High Efficiency Heat Pump with Electric Heat Ba...        933    9540.214122   \n",
       "Mininum Efficiency Whole Home Electrification             457    5407.490052   \n",
       "Enhanced Enclosure                                        926    9448.000114   \n",
       "Basic Enclosure                                           921    9421.596759   \n",
       "Mininum Efficiency Heat Pump with Electric Heat...        933    9540.214122   \n",
       "Mininum Efficiency Heat Pump with Existing Heat...        935    9528.783582   \n",
       "Heat Pump Water Heater                                    929    9496.592665   \n",
       "Heat Pump Clothes Dryer                                   775    7921.448289   \n",
       "Electric Cooking                                          252    2762.397351   \n",
       "Induction Cooking                                         926    9431.045665   \n",
       "baseline                                                  936    9552.001866   \n",
       "Electric Clothes Dryer                                     33     367.632037   \n",
       "\n",
       "                                                    saving_cbill.total_usd wt_mean  \\\n",
       "upgrade_name                                                                         \n",
       "Enhanced Enclosure + High Efficiency Whole Home...                     1103.494266   \n",
       "Enhanced Enclosure + HPWH + High Efficiency HP/...                     1088.197359   \n",
       "Basic Enclosure + High Efficiency Whole Home El...                     1084.483330   \n",
       "Basic Enclosure + HPWH + High Efficiency HP/Ele...                     1069.187997   \n",
       "High Efficiency Whole Home Electrification                              966.655486   \n",
       "High Efficiency Heat Pump with Electric Heat Ba...                      727.844042   \n",
       "Mininum Efficiency Whole Home Electrification                           468.623480   \n",
       "Enhanced Enclosure                                                      414.740609   \n",
       "Basic Enclosure                                                         354.946582   \n",
       "Mininum Efficiency Heat Pump with Electric Heat...                      334.950260   \n",
       "Mininum Efficiency Heat Pump with Existing Heat...                      284.974524   \n",
       "Heat Pump Water Heater                                                  137.990670   \n",
       "Heat Pump Clothes Dryer                                                  28.159846   \n",
       "Electric Cooking                                                         11.255767   \n",
       "Induction Cooking                                                         7.054887   \n",
       "baseline                                                                  0.000000   \n",
       "Electric Clothes Dryer                                                   -5.709753   \n",
       "\n",
       "                                                    saving_cbill.total_usd wt_p0.1  \\\n",
       "upgrade_name                                                                         \n",
       "Enhanced Enclosure + High Efficiency Whole Home...                    3.515703e+02   \n",
       "Enhanced Enclosure + HPWH + High Efficiency HP/...                    3.341119e+02   \n",
       "Basic Enclosure + High Efficiency Whole Home El...                    3.411636e+02   \n",
       "Basic Enclosure + HPWH + High Efficiency HP/Ele...                    3.291457e+02   \n",
       "High Efficiency Whole Home Electrification                            3.020733e+02   \n",
       "High Efficiency Heat Pump with Electric Heat Ba...                    1.678641e+02   \n",
       "Mininum Efficiency Whole Home Electrification                        -1.538479e-13   \n",
       "Enhanced Enclosure                                                    4.044700e+01   \n",
       "Basic Enclosure                                                       3.608277e+01   \n",
       "Mininum Efficiency Heat Pump with Electric Heat...                    1.675011e+01   \n",
       "Mininum Efficiency Heat Pump with Existing Heat...                    8.223031e+00   \n",
       "Heat Pump Water Heater                                                2.161940e+01   \n",
       "Heat Pump Clothes Dryer                                               0.000000e+00   \n",
       "Electric Cooking                                                     -3.652675e+01   \n",
       "Induction Cooking                                                     0.000000e+00   \n",
       "baseline                                                              0.000000e+00   \n",
       "Electric Clothes Dryer                                               -3.259963e+01   \n",
       "\n",
       "                                                    saving_cbill.total_usd wt_p0.25  \\\n",
       "upgrade_name                                                                          \n",
       "Enhanced Enclosure + High Efficiency Whole Home...                       556.193866   \n",
       "Enhanced Enclosure + HPWH + High Efficiency HP/...                       555.879296   \n",
       "Basic Enclosure + High Efficiency Whole Home El...                       543.950864   \n",
       "Basic Enclosure + HPWH + High Efficiency HP/Ele...                       543.980918   \n",
       "High Efficiency Whole Home Electrification                               496.939548   \n",
       "High Efficiency Heat Pump with Electric Heat Ba...                       313.074287   \n",
       "Mininum Efficiency Whole Home Electrification                            168.269139   \n",
       "Enhanced Enclosure                                                       113.725675   \n",
       "Basic Enclosure                                                           88.533163   \n",
       "Mininum Efficiency Heat Pump with Electric Heat...                        87.596144   \n",
       "Mininum Efficiency Heat Pump with Existing Heat...                        62.445051   \n",
       "Heat Pump Water Heater                                                    69.325145   \n",
       "Heat Pump Clothes Dryer                                                   15.802205   \n",
       "Electric Cooking                                                           0.000000   \n",
       "Induction Cooking                                                          3.287447   \n",
       "baseline                                                                   0.000000   \n",
       "Electric Clothes Dryer                                                   -19.814355   \n",
       "\n",
       "                                                    saving_cbill.total_usd wt_p0.75  \\\n",
       "upgrade_name                                                                          \n",
       "Enhanced Enclosure + High Efficiency Whole Home...                      1456.885576   \n",
       "Enhanced Enclosure + HPWH + High Efficiency HP/...                      1429.586821   \n",
       "Basic Enclosure + High Efficiency Whole Home El...                      1417.811676   \n",
       "Basic Enclosure + HPWH + High Efficiency HP/Ele...                      1410.519839   \n",
       "High Efficiency Whole Home Electrification                              1277.255334   \n",
       "High Efficiency Heat Pump with Electric Heat Ba...                       975.912234   \n",
       "Mininum Efficiency Whole Home Electrification                            733.298279   \n",
       "Enhanced Enclosure                                                       573.417270   \n",
       "Basic Enclosure                                                          488.501564   \n",
       "Mininum Efficiency Heat Pump with Electric Heat...                       493.091869   \n",
       "Mininum Efficiency Heat Pump with Existing Heat...                       412.471198   \n",
       "Heat Pump Water Heater                                                   189.240909   \n",
       "Heat Pump Clothes Dryer                                                   37.689516   \n",
       "Electric Cooking                                                           7.781761   \n",
       "Induction Cooking                                                          5.965646   \n",
       "baseline                                                                   0.000000   \n",
       "Electric Clothes Dryer                                                     0.000000   \n",
       "\n",
       "                                                    saving_cbill.total_usd wt_p0.9  \n",
       "upgrade_name                                                                        \n",
       "Enhanced Enclosure + High Efficiency Whole Home...                     2026.734608  \n",
       "Enhanced Enclosure + HPWH + High Efficiency HP/...                     2014.996404  \n",
       "Basic Enclosure + High Efficiency Whole Home El...                     1984.465342  \n",
       "Basic Enclosure + HPWH + High Efficiency HP/Ele...                     1958.340684  \n",
       "High Efficiency Whole Home Electrification                             1766.832619  \n",
       "High Efficiency Heat Pump with Electric Heat Ba...                     1454.088192  \n",
       "Mininum Efficiency Whole Home Electrification                          1006.119360  \n",
       "Enhanced Enclosure                                                      960.501334  \n",
       "Basic Enclosure                                                         848.974398  \n",
       "Mininum Efficiency Heat Pump with Electric Heat...                      805.429587  \n",
       "Mininum Efficiency Heat Pump with Existing Heat...                      723.762780  \n",
       "Heat Pump Water Heater                                                  268.818742  \n",
       "Heat Pump Clothes Dryer                                                  55.953266  \n",
       "Electric Cooking                                                        100.753468  \n",
       "Induction Cooking                                                        10.498384  \n",
       "baseline                                                                  0.000000  \n",
       "Electric Clothes Dryer                                                   15.273543  "
      ]
     },
     "metadata": {},
     "output_type": "display_data"
    },
    {
     "name": "stdout",
     "output_type": "stream",
     "text": [
      "Summary for segment: segment1: \n"
     ]
    },
    {
     "data": {
      "text/html": [
       "<div>\n",
       "<style scoped>\n",
       "    .dataframe tbody tr th:only-of-type {\n",
       "        vertical-align: middle;\n",
       "    }\n",
       "\n",
       "    .dataframe tbody tr th {\n",
       "        vertical-align: top;\n",
       "    }\n",
       "\n",
       "    .dataframe thead th {\n",
       "        text-align: right;\n",
       "    }\n",
       "</style>\n",
       "<table border=\"1\" class=\"dataframe\">\n",
       "  <thead>\n",
       "    <tr style=\"text-align: right;\">\n",
       "      <th></th>\n",
       "      <th>n_samples</th>\n",
       "      <th>n_represented</th>\n",
       "      <th>saving_cbill.total_usd wt_mean</th>\n",
       "      <th>saving_cbill.total_usd wt_p0.1</th>\n",
       "      <th>saving_cbill.total_usd wt_p0.25</th>\n",
       "      <th>saving_cbill.total_usd wt_p0.75</th>\n",
       "      <th>saving_cbill.total_usd wt_p0.9</th>\n",
       "    </tr>\n",
       "    <tr>\n",
       "      <th>upgrade_name</th>\n",
       "      <th></th>\n",
       "      <th></th>\n",
       "      <th></th>\n",
       "      <th></th>\n",
       "      <th></th>\n",
       "      <th></th>\n",
       "      <th></th>\n",
       "    </tr>\n",
       "  </thead>\n",
       "  <tbody>\n",
       "    <tr>\n",
       "      <th>Enhanced Enclosure + High Efficiency Whole Home Electrification</th>\n",
       "      <td>134</td>\n",
       "      <td>1699.191387</td>\n",
       "      <td>1352.128972</td>\n",
       "      <td>685.272188</td>\n",
       "      <td>998.359713</td>\n",
       "      <td>1640.848986</td>\n",
       "      <td>2128.923770</td>\n",
       "    </tr>\n",
       "    <tr>\n",
       "      <th>Enhanced Enclosure + HPWH + High Efficiency HP/Electric Backup</th>\n",
       "      <td>134</td>\n",
       "      <td>1699.191387</td>\n",
       "      <td>1341.001967</td>\n",
       "      <td>682.271373</td>\n",
       "      <td>988.933448</td>\n",
       "      <td>1646.437334</td>\n",
       "      <td>2087.915568</td>\n",
       "    </tr>\n",
       "    <tr>\n",
       "      <th>Basic Enclosure + High Efficiency Whole Home Electrification</th>\n",
       "      <td>134</td>\n",
       "      <td>1699.191387</td>\n",
       "      <td>1333.627134</td>\n",
       "      <td>682.744540</td>\n",
       "      <td>981.296926</td>\n",
       "      <td>1616.869375</td>\n",
       "      <td>2081.207047</td>\n",
       "    </tr>\n",
       "    <tr>\n",
       "      <th>Basic Enclosure + HPWH + High Efficiency HP/Electric Backup</th>\n",
       "      <td>134</td>\n",
       "      <td>1699.191387</td>\n",
       "      <td>1322.494023</td>\n",
       "      <td>682.271373</td>\n",
       "      <td>971.968994</td>\n",
       "      <td>1591.985854</td>\n",
       "      <td>2044.621152</td>\n",
       "    </tr>\n",
       "    <tr>\n",
       "      <th>High Efficiency Whole Home Electrification</th>\n",
       "      <td>134</td>\n",
       "      <td>1699.191387</td>\n",
       "      <td>1159.877519</td>\n",
       "      <td>577.934498</td>\n",
       "      <td>859.771543</td>\n",
       "      <td>1400.546964</td>\n",
       "      <td>1798.578483</td>\n",
       "    </tr>\n",
       "    <tr>\n",
       "      <th>High Efficiency Heat Pump with Electric Heat Backup</th>\n",
       "      <td>134</td>\n",
       "      <td>1699.191387</td>\n",
       "      <td>840.506259</td>\n",
       "      <td>241.749884</td>\n",
       "      <td>558.692336</td>\n",
       "      <td>1069.601117</td>\n",
       "      <td>1466.434737</td>\n",
       "    </tr>\n",
       "    <tr>\n",
       "      <th>Mininum Efficiency Whole Home Electrification</th>\n",
       "      <td>134</td>\n",
       "      <td>1699.191387</td>\n",
       "      <td>617.767065</td>\n",
       "      <td>175.460583</td>\n",
       "      <td>426.854317</td>\n",
       "      <td>804.687055</td>\n",
       "      <td>1056.931170</td>\n",
       "    </tr>\n",
       "    <tr>\n",
       "      <th>Enhanced Enclosure</th>\n",
       "      <td>134</td>\n",
       "      <td>1699.191387</td>\n",
       "      <td>564.621797</td>\n",
       "      <td>211.588833</td>\n",
       "      <td>297.021540</td>\n",
       "      <td>733.989391</td>\n",
       "      <td>1069.816531</td>\n",
       "    </tr>\n",
       "    <tr>\n",
       "      <th>Basic Enclosure</th>\n",
       "      <td>134</td>\n",
       "      <td>1699.191387</td>\n",
       "      <td>491.307100</td>\n",
       "      <td>158.586311</td>\n",
       "      <td>251.601503</td>\n",
       "      <td>655.290063</td>\n",
       "      <td>971.514837</td>\n",
       "    </tr>\n",
       "    <tr>\n",
       "      <th>Mininum Efficiency Heat Pump with Electric Heat Backup</th>\n",
       "      <td>134</td>\n",
       "      <td>1699.191387</td>\n",
       "      <td>344.730338</td>\n",
       "      <td>-103.683664</td>\n",
       "      <td>208.625738</td>\n",
       "      <td>496.388493</td>\n",
       "      <td>762.195163</td>\n",
       "    </tr>\n",
       "    <tr>\n",
       "      <th>Mininum Efficiency Heat Pump with Existing Heat Backup</th>\n",
       "      <td>134</td>\n",
       "      <td>1699.191387</td>\n",
       "      <td>206.858255</td>\n",
       "      <td>-180.800942</td>\n",
       "      <td>91.382722</td>\n",
       "      <td>377.269444</td>\n",
       "      <td>566.874042</td>\n",
       "    </tr>\n",
       "    <tr>\n",
       "      <th>Heat Pump Water Heater</th>\n",
       "      <td>134</td>\n",
       "      <td>1699.191387</td>\n",
       "      <td>148.555142</td>\n",
       "      <td>75.668656</td>\n",
       "      <td>99.462410</td>\n",
       "      <td>207.756777</td>\n",
       "      <td>238.918814</td>\n",
       "    </tr>\n",
       "    <tr>\n",
       "      <th>Heat Pump Clothes Dryer</th>\n",
       "      <td>131</td>\n",
       "      <td>1629.536536</td>\n",
       "      <td>32.275739</td>\n",
       "      <td>13.436018</td>\n",
       "      <td>18.874150</td>\n",
       "      <td>43.892078</td>\n",
       "      <td>52.623787</td>\n",
       "    </tr>\n",
       "    <tr>\n",
       "      <th>Electric Cooking</th>\n",
       "      <td>59</td>\n",
       "      <td>732.463138</td>\n",
       "      <td>11.490708</td>\n",
       "      <td>2.404467</td>\n",
       "      <td>3.389164</td>\n",
       "      <td>10.092335</td>\n",
       "      <td>43.135118</td>\n",
       "    </tr>\n",
       "    <tr>\n",
       "      <th>Induction Cooking</th>\n",
       "      <td>132</td>\n",
       "      <td>1670.168532</td>\n",
       "      <td>9.751709</td>\n",
       "      <td>3.657801</td>\n",
       "      <td>4.380349</td>\n",
       "      <td>9.038600</td>\n",
       "      <td>16.157723</td>\n",
       "    </tr>\n",
       "    <tr>\n",
       "      <th>baseline</th>\n",
       "      <td>134</td>\n",
       "      <td>1699.191387</td>\n",
       "      <td>0.000000</td>\n",
       "      <td>0.000000</td>\n",
       "      <td>0.000000</td>\n",
       "      <td>0.000000</td>\n",
       "      <td>0.000000</td>\n",
       "    </tr>\n",
       "    <tr>\n",
       "      <th>Electric Clothes Dryer</th>\n",
       "      <td>10</td>\n",
       "      <td>148.983986</td>\n",
       "      <td>-12.030460</td>\n",
       "      <td>-32.979847</td>\n",
       "      <td>-23.421047</td>\n",
       "      <td>-9.512499</td>\n",
       "      <td>20.024620</td>\n",
       "    </tr>\n",
       "  </tbody>\n",
       "</table>\n",
       "</div>"
      ],
      "text/plain": [
       "                                                    n_samples  n_represented  \\\n",
       "upgrade_name                                                                   \n",
       "Enhanced Enclosure + High Efficiency Whole Home...        134    1699.191387   \n",
       "Enhanced Enclosure + HPWH + High Efficiency HP/...        134    1699.191387   \n",
       "Basic Enclosure + High Efficiency Whole Home El...        134    1699.191387   \n",
       "Basic Enclosure + HPWH + High Efficiency HP/Ele...        134    1699.191387   \n",
       "High Efficiency Whole Home Electrification                134    1699.191387   \n",
       "High Efficiency Heat Pump with Electric Heat Ba...        134    1699.191387   \n",
       "Mininum Efficiency Whole Home Electrification             134    1699.191387   \n",
       "Enhanced Enclosure                                        134    1699.191387   \n",
       "Basic Enclosure                                           134    1699.191387   \n",
       "Mininum Efficiency Heat Pump with Electric Heat...        134    1699.191387   \n",
       "Mininum Efficiency Heat Pump with Existing Heat...        134    1699.191387   \n",
       "Heat Pump Water Heater                                    134    1699.191387   \n",
       "Heat Pump Clothes Dryer                                   131    1629.536536   \n",
       "Electric Cooking                                           59     732.463138   \n",
       "Induction Cooking                                         132    1670.168532   \n",
       "baseline                                                  134    1699.191387   \n",
       "Electric Clothes Dryer                                     10     148.983986   \n",
       "\n",
       "                                                    saving_cbill.total_usd wt_mean  \\\n",
       "upgrade_name                                                                         \n",
       "Enhanced Enclosure + High Efficiency Whole Home...                     1352.128972   \n",
       "Enhanced Enclosure + HPWH + High Efficiency HP/...                     1341.001967   \n",
       "Basic Enclosure + High Efficiency Whole Home El...                     1333.627134   \n",
       "Basic Enclosure + HPWH + High Efficiency HP/Ele...                     1322.494023   \n",
       "High Efficiency Whole Home Electrification                             1159.877519   \n",
       "High Efficiency Heat Pump with Electric Heat Ba...                      840.506259   \n",
       "Mininum Efficiency Whole Home Electrification                           617.767065   \n",
       "Enhanced Enclosure                                                      564.621797   \n",
       "Basic Enclosure                                                         491.307100   \n",
       "Mininum Efficiency Heat Pump with Electric Heat...                      344.730338   \n",
       "Mininum Efficiency Heat Pump with Existing Heat...                      206.858255   \n",
       "Heat Pump Water Heater                                                  148.555142   \n",
       "Heat Pump Clothes Dryer                                                  32.275739   \n",
       "Electric Cooking                                                         11.490708   \n",
       "Induction Cooking                                                         9.751709   \n",
       "baseline                                                                  0.000000   \n",
       "Electric Clothes Dryer                                                  -12.030460   \n",
       "\n",
       "                                                    saving_cbill.total_usd wt_p0.1  \\\n",
       "upgrade_name                                                                         \n",
       "Enhanced Enclosure + High Efficiency Whole Home...                      685.272188   \n",
       "Enhanced Enclosure + HPWH + High Efficiency HP/...                      682.271373   \n",
       "Basic Enclosure + High Efficiency Whole Home El...                      682.744540   \n",
       "Basic Enclosure + HPWH + High Efficiency HP/Ele...                      682.271373   \n",
       "High Efficiency Whole Home Electrification                              577.934498   \n",
       "High Efficiency Heat Pump with Electric Heat Ba...                      241.749884   \n",
       "Mininum Efficiency Whole Home Electrification                           175.460583   \n",
       "Enhanced Enclosure                                                      211.588833   \n",
       "Basic Enclosure                                                         158.586311   \n",
       "Mininum Efficiency Heat Pump with Electric Heat...                     -103.683664   \n",
       "Mininum Efficiency Heat Pump with Existing Heat...                     -180.800942   \n",
       "Heat Pump Water Heater                                                   75.668656   \n",
       "Heat Pump Clothes Dryer                                                  13.436018   \n",
       "Electric Cooking                                                          2.404467   \n",
       "Induction Cooking                                                         3.657801   \n",
       "baseline                                                                  0.000000   \n",
       "Electric Clothes Dryer                                                  -32.979847   \n",
       "\n",
       "                                                    saving_cbill.total_usd wt_p0.25  \\\n",
       "upgrade_name                                                                          \n",
       "Enhanced Enclosure + High Efficiency Whole Home...                       998.359713   \n",
       "Enhanced Enclosure + HPWH + High Efficiency HP/...                       988.933448   \n",
       "Basic Enclosure + High Efficiency Whole Home El...                       981.296926   \n",
       "Basic Enclosure + HPWH + High Efficiency HP/Ele...                       971.968994   \n",
       "High Efficiency Whole Home Electrification                               859.771543   \n",
       "High Efficiency Heat Pump with Electric Heat Ba...                       558.692336   \n",
       "Mininum Efficiency Whole Home Electrification                            426.854317   \n",
       "Enhanced Enclosure                                                       297.021540   \n",
       "Basic Enclosure                                                          251.601503   \n",
       "Mininum Efficiency Heat Pump with Electric Heat...                       208.625738   \n",
       "Mininum Efficiency Heat Pump with Existing Heat...                        91.382722   \n",
       "Heat Pump Water Heater                                                    99.462410   \n",
       "Heat Pump Clothes Dryer                                                   18.874150   \n",
       "Electric Cooking                                                           3.389164   \n",
       "Induction Cooking                                                          4.380349   \n",
       "baseline                                                                   0.000000   \n",
       "Electric Clothes Dryer                                                   -23.421047   \n",
       "\n",
       "                                                    saving_cbill.total_usd wt_p0.75  \\\n",
       "upgrade_name                                                                          \n",
       "Enhanced Enclosure + High Efficiency Whole Home...                      1640.848986   \n",
       "Enhanced Enclosure + HPWH + High Efficiency HP/...                      1646.437334   \n",
       "Basic Enclosure + High Efficiency Whole Home El...                      1616.869375   \n",
       "Basic Enclosure + HPWH + High Efficiency HP/Ele...                      1591.985854   \n",
       "High Efficiency Whole Home Electrification                              1400.546964   \n",
       "High Efficiency Heat Pump with Electric Heat Ba...                      1069.601117   \n",
       "Mininum Efficiency Whole Home Electrification                            804.687055   \n",
       "Enhanced Enclosure                                                       733.989391   \n",
       "Basic Enclosure                                                          655.290063   \n",
       "Mininum Efficiency Heat Pump with Electric Heat...                       496.388493   \n",
       "Mininum Efficiency Heat Pump with Existing Heat...                       377.269444   \n",
       "Heat Pump Water Heater                                                   207.756777   \n",
       "Heat Pump Clothes Dryer                                                   43.892078   \n",
       "Electric Cooking                                                          10.092335   \n",
       "Induction Cooking                                                          9.038600   \n",
       "baseline                                                                   0.000000   \n",
       "Electric Clothes Dryer                                                    -9.512499   \n",
       "\n",
       "                                                    saving_cbill.total_usd wt_p0.9  \n",
       "upgrade_name                                                                        \n",
       "Enhanced Enclosure + High Efficiency Whole Home...                     2128.923770  \n",
       "Enhanced Enclosure + HPWH + High Efficiency HP/...                     2087.915568  \n",
       "Basic Enclosure + High Efficiency Whole Home El...                     2081.207047  \n",
       "Basic Enclosure + HPWH + High Efficiency HP/Ele...                     2044.621152  \n",
       "High Efficiency Whole Home Electrification                             1798.578483  \n",
       "High Efficiency Heat Pump with Electric Heat Ba...                     1466.434737  \n",
       "Mininum Efficiency Whole Home Electrification                          1056.931170  \n",
       "Enhanced Enclosure                                                     1069.816531  \n",
       "Basic Enclosure                                                         971.514837  \n",
       "Mininum Efficiency Heat Pump with Electric Heat...                      762.195163  \n",
       "Mininum Efficiency Heat Pump with Existing Heat...                      566.874042  \n",
       "Heat Pump Water Heater                                                  238.918814  \n",
       "Heat Pump Clothes Dryer                                                  52.623787  \n",
       "Electric Cooking                                                         43.135118  \n",
       "Induction Cooking                                                        16.157723  \n",
       "baseline                                                                  0.000000  \n",
       "Electric Clothes Dryer                                                   20.024620  "
      ]
     },
     "metadata": {},
     "output_type": "display_data"
    },
    {
     "name": "stdout",
     "output_type": "stream",
     "text": [
      "Summary for segment: segment2: \n"
     ]
    },
    {
     "data": {
      "text/html": [
       "<div>\n",
       "<style scoped>\n",
       "    .dataframe tbody tr th:only-of-type {\n",
       "        vertical-align: middle;\n",
       "    }\n",
       "\n",
       "    .dataframe tbody tr th {\n",
       "        vertical-align: top;\n",
       "    }\n",
       "\n",
       "    .dataframe thead th {\n",
       "        text-align: right;\n",
       "    }\n",
       "</style>\n",
       "<table border=\"1\" class=\"dataframe\">\n",
       "  <thead>\n",
       "    <tr style=\"text-align: right;\">\n",
       "      <th></th>\n",
       "      <th>n_samples</th>\n",
       "      <th>n_represented</th>\n",
       "      <th>saving_cbill.total_usd wt_mean</th>\n",
       "      <th>saving_cbill.total_usd wt_p0.1</th>\n",
       "      <th>saving_cbill.total_usd wt_p0.25</th>\n",
       "      <th>saving_cbill.total_usd wt_p0.75</th>\n",
       "      <th>saving_cbill.total_usd wt_p0.9</th>\n",
       "    </tr>\n",
       "    <tr>\n",
       "      <th>upgrade_name</th>\n",
       "      <th></th>\n",
       "      <th></th>\n",
       "      <th></th>\n",
       "      <th></th>\n",
       "      <th></th>\n",
       "      <th></th>\n",
       "      <th></th>\n",
       "    </tr>\n",
       "  </thead>\n",
       "  <tbody>\n",
       "    <tr>\n",
       "      <th>Enhanced Enclosure + High Efficiency Whole Home Electrification</th>\n",
       "      <td>88</td>\n",
       "      <td>1193.806748</td>\n",
       "      <td>1496.234054</td>\n",
       "      <td>705.102075</td>\n",
       "      <td>1028.644425</td>\n",
       "      <td>1863.047420</td>\n",
       "      <td>2230.453494</td>\n",
       "    </tr>\n",
       "    <tr>\n",
       "      <th>Basic Enclosure + High Efficiency Whole Home Electrification</th>\n",
       "      <td>88</td>\n",
       "      <td>1193.806748</td>\n",
       "      <td>1478.496237</td>\n",
       "      <td>705.102075</td>\n",
       "      <td>987.593106</td>\n",
       "      <td>1857.951349</td>\n",
       "      <td>2170.403709</td>\n",
       "    </tr>\n",
       "    <tr>\n",
       "      <th>Enhanced Enclosure + HPWH + High Efficiency HP/Electric Backup</th>\n",
       "      <td>88</td>\n",
       "      <td>1193.806748</td>\n",
       "      <td>1470.807365</td>\n",
       "      <td>674.842695</td>\n",
       "      <td>996.224013</td>\n",
       "      <td>1844.282155</td>\n",
       "      <td>2194.703755</td>\n",
       "    </tr>\n",
       "    <tr>\n",
       "      <th>Basic Enclosure + HPWH + High Efficiency HP/Electric Backup</th>\n",
       "      <td>88</td>\n",
       "      <td>1193.806748</td>\n",
       "      <td>1453.087502</td>\n",
       "      <td>674.718597</td>\n",
       "      <td>955.853555</td>\n",
       "      <td>1834.712031</td>\n",
       "      <td>2134.905615</td>\n",
       "    </tr>\n",
       "    <tr>\n",
       "      <th>High Efficiency Whole Home Electrification</th>\n",
       "      <td>88</td>\n",
       "      <td>1193.806748</td>\n",
       "      <td>1292.396598</td>\n",
       "      <td>620.229497</td>\n",
       "      <td>892.370525</td>\n",
       "      <td>1597.707293</td>\n",
       "      <td>1906.563619</td>\n",
       "    </tr>\n",
       "    <tr>\n",
       "      <th>High Efficiency Heat Pump with Electric Heat Backup</th>\n",
       "      <td>88</td>\n",
       "      <td>1193.806748</td>\n",
       "      <td>1080.458358</td>\n",
       "      <td>460.650399</td>\n",
       "      <td>596.837461</td>\n",
       "      <td>1460.831644</td>\n",
       "      <td>1681.195085</td>\n",
       "    </tr>\n",
       "    <tr>\n",
       "      <th>Enhanced Enclosure</th>\n",
       "      <td>88</td>\n",
       "      <td>1193.806748</td>\n",
       "      <td>677.097569</td>\n",
       "      <td>190.840288</td>\n",
       "      <td>324.195245</td>\n",
       "      <td>923.424226</td>\n",
       "      <td>1247.765042</td>\n",
       "    </tr>\n",
       "    <tr>\n",
       "      <th>Basic Enclosure</th>\n",
       "      <td>88</td>\n",
       "      <td>1193.806748</td>\n",
       "      <td>613.651181</td>\n",
       "      <td>162.340817</td>\n",
       "      <td>279.901342</td>\n",
       "      <td>880.214951</td>\n",
       "      <td>1073.038964</td>\n",
       "    </tr>\n",
       "    <tr>\n",
       "      <th>Mininum Efficiency Heat Pump with Electric Heat Backup</th>\n",
       "      <td>88</td>\n",
       "      <td>1193.806748</td>\n",
       "      <td>564.688765</td>\n",
       "      <td>88.118742</td>\n",
       "      <td>264.587290</td>\n",
       "      <td>855.238518</td>\n",
       "      <td>1127.170744</td>\n",
       "    </tr>\n",
       "    <tr>\n",
       "      <th>Mininum Efficiency Heat Pump with Existing Heat Backup</th>\n",
       "      <td>88</td>\n",
       "      <td>1193.806748</td>\n",
       "      <td>564.686392</td>\n",
       "      <td>88.118742</td>\n",
       "      <td>264.582389</td>\n",
       "      <td>855.238518</td>\n",
       "      <td>1127.169669</td>\n",
       "    </tr>\n",
       "    <tr>\n",
       "      <th>Heat Pump Water Heater</th>\n",
       "      <td>86</td>\n",
       "      <td>1172.910292</td>\n",
       "      <td>135.696967</td>\n",
       "      <td>34.809351</td>\n",
       "      <td>59.541619</td>\n",
       "      <td>174.078867</td>\n",
       "      <td>301.076851</td>\n",
       "    </tr>\n",
       "    <tr>\n",
       "      <th>Mininum Efficiency Whole Home Electrification</th>\n",
       "      <td>22</td>\n",
       "      <td>344.017568</td>\n",
       "      <td>98.740779</td>\n",
       "      <td>-56.873317</td>\n",
       "      <td>-31.930948</td>\n",
       "      <td>241.164825</td>\n",
       "      <td>328.374146</td>\n",
       "    </tr>\n",
       "    <tr>\n",
       "      <th>Heat Pump Clothes Dryer</th>\n",
       "      <td>85</td>\n",
       "      <td>1139.630752</td>\n",
       "      <td>29.807061</td>\n",
       "      <td>12.489857</td>\n",
       "      <td>15.731829</td>\n",
       "      <td>35.081204</td>\n",
       "      <td>53.901029</td>\n",
       "    </tr>\n",
       "    <tr>\n",
       "      <th>Electric Cooking</th>\n",
       "      <td>15</td>\n",
       "      <td>204.707867</td>\n",
       "      <td>20.395961</td>\n",
       "      <td>-51.728024</td>\n",
       "      <td>-37.412921</td>\n",
       "      <td>101.926821</td>\n",
       "      <td>106.706013</td>\n",
       "    </tr>\n",
       "    <tr>\n",
       "      <th>Induction Cooking</th>\n",
       "      <td>88</td>\n",
       "      <td>1193.806748</td>\n",
       "      <td>7.788372</td>\n",
       "      <td>2.859887</td>\n",
       "      <td>3.528210</td>\n",
       "      <td>5.123000</td>\n",
       "      <td>9.564192</td>\n",
       "    </tr>\n",
       "    <tr>\n",
       "      <th>Electric Clothes Dryer</th>\n",
       "      <td>2</td>\n",
       "      <td>34.827425</td>\n",
       "      <td>6.289425</td>\n",
       "      <td>-28.805811</td>\n",
       "      <td>-28.805811</td>\n",
       "      <td>58.932280</td>\n",
       "      <td>76.479899</td>\n",
       "    </tr>\n",
       "    <tr>\n",
       "      <th>baseline</th>\n",
       "      <td>88</td>\n",
       "      <td>1193.806748</td>\n",
       "      <td>0.000000</td>\n",
       "      <td>0.000000</td>\n",
       "      <td>0.000000</td>\n",
       "      <td>0.000000</td>\n",
       "      <td>0.000000</td>\n",
       "    </tr>\n",
       "  </tbody>\n",
       "</table>\n",
       "</div>"
      ],
      "text/plain": [
       "                                                    n_samples  n_represented  \\\n",
       "upgrade_name                                                                   \n",
       "Enhanced Enclosure + High Efficiency Whole Home...         88    1193.806748   \n",
       "Basic Enclosure + High Efficiency Whole Home El...         88    1193.806748   \n",
       "Enhanced Enclosure + HPWH + High Efficiency HP/...         88    1193.806748   \n",
       "Basic Enclosure + HPWH + High Efficiency HP/Ele...         88    1193.806748   \n",
       "High Efficiency Whole Home Electrification                 88    1193.806748   \n",
       "High Efficiency Heat Pump with Electric Heat Ba...         88    1193.806748   \n",
       "Enhanced Enclosure                                         88    1193.806748   \n",
       "Basic Enclosure                                            88    1193.806748   \n",
       "Mininum Efficiency Heat Pump with Electric Heat...         88    1193.806748   \n",
       "Mininum Efficiency Heat Pump with Existing Heat...         88    1193.806748   \n",
       "Heat Pump Water Heater                                     86    1172.910292   \n",
       "Mininum Efficiency Whole Home Electrification              22     344.017568   \n",
       "Heat Pump Clothes Dryer                                    85    1139.630752   \n",
       "Electric Cooking                                           15     204.707867   \n",
       "Induction Cooking                                          88    1193.806748   \n",
       "Electric Clothes Dryer                                      2      34.827425   \n",
       "baseline                                                   88    1193.806748   \n",
       "\n",
       "                                                    saving_cbill.total_usd wt_mean  \\\n",
       "upgrade_name                                                                         \n",
       "Enhanced Enclosure + High Efficiency Whole Home...                     1496.234054   \n",
       "Basic Enclosure + High Efficiency Whole Home El...                     1478.496237   \n",
       "Enhanced Enclosure + HPWH + High Efficiency HP/...                     1470.807365   \n",
       "Basic Enclosure + HPWH + High Efficiency HP/Ele...                     1453.087502   \n",
       "High Efficiency Whole Home Electrification                             1292.396598   \n",
       "High Efficiency Heat Pump with Electric Heat Ba...                     1080.458358   \n",
       "Enhanced Enclosure                                                      677.097569   \n",
       "Basic Enclosure                                                         613.651181   \n",
       "Mininum Efficiency Heat Pump with Electric Heat...                      564.688765   \n",
       "Mininum Efficiency Heat Pump with Existing Heat...                      564.686392   \n",
       "Heat Pump Water Heater                                                  135.696967   \n",
       "Mininum Efficiency Whole Home Electrification                            98.740779   \n",
       "Heat Pump Clothes Dryer                                                  29.807061   \n",
       "Electric Cooking                                                         20.395961   \n",
       "Induction Cooking                                                         7.788372   \n",
       "Electric Clothes Dryer                                                    6.289425   \n",
       "baseline                                                                  0.000000   \n",
       "\n",
       "                                                    saving_cbill.total_usd wt_p0.1  \\\n",
       "upgrade_name                                                                         \n",
       "Enhanced Enclosure + High Efficiency Whole Home...                      705.102075   \n",
       "Basic Enclosure + High Efficiency Whole Home El...                      705.102075   \n",
       "Enhanced Enclosure + HPWH + High Efficiency HP/...                      674.842695   \n",
       "Basic Enclosure + HPWH + High Efficiency HP/Ele...                      674.718597   \n",
       "High Efficiency Whole Home Electrification                              620.229497   \n",
       "High Efficiency Heat Pump with Electric Heat Ba...                      460.650399   \n",
       "Enhanced Enclosure                                                      190.840288   \n",
       "Basic Enclosure                                                         162.340817   \n",
       "Mininum Efficiency Heat Pump with Electric Heat...                       88.118742   \n",
       "Mininum Efficiency Heat Pump with Existing Heat...                       88.118742   \n",
       "Heat Pump Water Heater                                                   34.809351   \n",
       "Mininum Efficiency Whole Home Electrification                           -56.873317   \n",
       "Heat Pump Clothes Dryer                                                  12.489857   \n",
       "Electric Cooking                                                        -51.728024   \n",
       "Induction Cooking                                                         2.859887   \n",
       "Electric Clothes Dryer                                                  -28.805811   \n",
       "baseline                                                                  0.000000   \n",
       "\n",
       "                                                    saving_cbill.total_usd wt_p0.25  \\\n",
       "upgrade_name                                                                          \n",
       "Enhanced Enclosure + High Efficiency Whole Home...                      1028.644425   \n",
       "Basic Enclosure + High Efficiency Whole Home El...                       987.593106   \n",
       "Enhanced Enclosure + HPWH + High Efficiency HP/...                       996.224013   \n",
       "Basic Enclosure + HPWH + High Efficiency HP/Ele...                       955.853555   \n",
       "High Efficiency Whole Home Electrification                               892.370525   \n",
       "High Efficiency Heat Pump with Electric Heat Ba...                       596.837461   \n",
       "Enhanced Enclosure                                                       324.195245   \n",
       "Basic Enclosure                                                          279.901342   \n",
       "Mininum Efficiency Heat Pump with Electric Heat...                       264.587290   \n",
       "Mininum Efficiency Heat Pump with Existing Heat...                       264.582389   \n",
       "Heat Pump Water Heater                                                    59.541619   \n",
       "Mininum Efficiency Whole Home Electrification                            -31.930948   \n",
       "Heat Pump Clothes Dryer                                                   15.731829   \n",
       "Electric Cooking                                                         -37.412921   \n",
       "Induction Cooking                                                          3.528210   \n",
       "Electric Clothes Dryer                                                   -28.805811   \n",
       "baseline                                                                   0.000000   \n",
       "\n",
       "                                                    saving_cbill.total_usd wt_p0.75  \\\n",
       "upgrade_name                                                                          \n",
       "Enhanced Enclosure + High Efficiency Whole Home...                      1863.047420   \n",
       "Basic Enclosure + High Efficiency Whole Home El...                      1857.951349   \n",
       "Enhanced Enclosure + HPWH + High Efficiency HP/...                      1844.282155   \n",
       "Basic Enclosure + HPWH + High Efficiency HP/Ele...                      1834.712031   \n",
       "High Efficiency Whole Home Electrification                              1597.707293   \n",
       "High Efficiency Heat Pump with Electric Heat Ba...                      1460.831644   \n",
       "Enhanced Enclosure                                                       923.424226   \n",
       "Basic Enclosure                                                          880.214951   \n",
       "Mininum Efficiency Heat Pump with Electric Heat...                       855.238518   \n",
       "Mininum Efficiency Heat Pump with Existing Heat...                       855.238518   \n",
       "Heat Pump Water Heater                                                   174.078867   \n",
       "Mininum Efficiency Whole Home Electrification                            241.164825   \n",
       "Heat Pump Clothes Dryer                                                   35.081204   \n",
       "Electric Cooking                                                         101.926821   \n",
       "Induction Cooking                                                          5.123000   \n",
       "Electric Clothes Dryer                                                    58.932280   \n",
       "baseline                                                                   0.000000   \n",
       "\n",
       "                                                    saving_cbill.total_usd wt_p0.9  \n",
       "upgrade_name                                                                        \n",
       "Enhanced Enclosure + High Efficiency Whole Home...                     2230.453494  \n",
       "Basic Enclosure + High Efficiency Whole Home El...                     2170.403709  \n",
       "Enhanced Enclosure + HPWH + High Efficiency HP/...                     2194.703755  \n",
       "Basic Enclosure + HPWH + High Efficiency HP/Ele...                     2134.905615  \n",
       "High Efficiency Whole Home Electrification                             1906.563619  \n",
       "High Efficiency Heat Pump with Electric Heat Ba...                     1681.195085  \n",
       "Enhanced Enclosure                                                     1247.765042  \n",
       "Basic Enclosure                                                        1073.038964  \n",
       "Mininum Efficiency Heat Pump with Electric Heat...                     1127.170744  \n",
       "Mininum Efficiency Heat Pump with Existing Heat...                     1127.169669  \n",
       "Heat Pump Water Heater                                                  301.076851  \n",
       "Mininum Efficiency Whole Home Electrification                           328.374146  \n",
       "Heat Pump Clothes Dryer                                                  53.901029  \n",
       "Electric Cooking                                                        106.706013  \n",
       "Induction Cooking                                                         9.564192  \n",
       "Electric Clothes Dryer                                                   76.479899  \n",
       "baseline                                                                  0.000000  "
      ]
     },
     "metadata": {},
     "output_type": "display_data"
    }
   ],
   "source": [
    "metric = 'saving_cbill.total_usd'  # TODO 'pct_saving_cbill.total_%' #'pct_saving_energy.total_%' #'saving_energy.total_mmbtu' #'saving_cbill.total_usd'\n",
    "\n",
    "for segment in sorted(community_results[\"segment\"].dropna().unique()):\n",
    "    print(f\"Summary for segment: {segment}: \")\n",
    "    df_seg = community_results.loc[community_results[\"segment\"]==segment]\n",
    "    results = get_summary(df_seg, metric, lower_percentile=0.10, middle_percentile1=0.25, middle_percentile2=0.75, upper_percentile=0.90)\n",
    "    saving_results[f'{segment}_{income}_saving_bill_total_usd_wt_p0.1'] = results.iloc[:, 3]\n",
    "    saving_results[f'{segment}_{income}_saving_bill_total_usd_wt_p0.25'] = results.iloc[:, 4]\n",
    "    saving_results[f'{segment}_{income}_saving_bill_total_usd_wt_p0.75'] = results.iloc[:, 5]\n",
    "    saving_results[f'{segment}_{income}_saving_bill_total_usd_wt_p0.9'] = results.iloc[:, 6]\n",
    "    display(results)"
   ]
  },
  {
   "cell_type": "markdown",
   "id": "2b599aa4",
   "metadata": {},
   "source": [
    "## 3.1 Upgrade Cost Per Dwelling Unit "
   ]
  },
  {
   "cell_type": "code",
   "execution_count": 37,
   "id": "8aa276ba",
   "metadata": {},
   "outputs": [
    {
     "name": "stdout",
     "output_type": "stream",
     "text": [
      "segment1: upgrade cost (usd) per dwelling unit\n"
     ]
    },
    {
     "data": {
      "text/plain": [
       "upgrade_name\n",
       "Electric Cooking                                                     977.8\n",
       "Electric Clothes Dryer                                              1098.0\n",
       "Induction Cooking                                                   1681.3\n",
       "Heat Pump Clothes Dryer                                             2209.5\n",
       "Heat Pump Water Heater                                              2786.2\n",
       "Basic Enclosure                                                     5946.2\n",
       "Enhanced Enclosure                                                  8143.3\n",
       "Mininum Efficiency Heat Pump with Existing Heat Backup             14267.0\n",
       "Mininum Efficiency Heat Pump with Electric Heat Backup             14488.1\n",
       "Mininum Efficiency Whole Home Electrification                      17387.3\n",
       "High Efficiency Heat Pump with Electric Heat Backup                25586.2\n",
       "Basic Enclosure + HPWH + High Efficiency HP/Electric Backup        30315.5\n",
       "Enhanced Enclosure + HPWH + High Efficiency HP/Electric Backup     31749.5\n",
       "High Efficiency Whole Home Electrification                         32143.9\n",
       "Basic Enclosure + High Efficiency Whole Home Electrification       34087.0\n",
       "Enhanced Enclosure + High Efficiency Whole Home Electrification    35521.1\n",
       "Name: upgrade_cost_usd, dtype: float64"
      ]
     },
     "metadata": {},
     "output_type": "display_data"
    },
    {
     "name": "stdout",
     "output_type": "stream",
     "text": [
      "segment2: upgrade cost (usd) per dwelling unit\n"
     ]
    },
    {
     "data": {
      "text/plain": [
       "upgrade_name\n",
       "Electric Cooking                                                     977.8\n",
       "Electric Clothes Dryer                                              1098.0\n",
       "Induction Cooking                                                   1681.3\n",
       "Mininum Efficiency Whole Home Electrification                       1858.5\n",
       "Heat Pump Clothes Dryer                                             2209.5\n",
       "Heat Pump Water Heater                                              2745.7\n",
       "Basic Enclosure                                                     5885.8\n",
       "Enhanced Enclosure                                                  7798.9\n",
       "Mininum Efficiency Heat Pump with Electric Heat Backup             14844.7\n",
       "Mininum Efficiency Heat Pump with Existing Heat Backup             14844.7\n",
       "High Efficiency Heat Pump with Electric Heat Backup                25993.9\n",
       "Basic Enclosure + HPWH + High Efficiency HP/Electric Backup        30603.3\n",
       "Enhanced Enclosure + HPWH + High Efficiency HP/Electric Backup     31935.0\n",
       "High Efficiency Whole Home Electrification                         32482.1\n",
       "Basic Enclosure + High Efficiency Whole Home Electrification       34393.9\n",
       "Enhanced Enclosure + High Efficiency Whole Home Electrification    35725.6\n",
       "Name: upgrade_cost_usd, dtype: float64"
      ]
     },
     "metadata": {},
     "output_type": "display_data"
    }
   ],
   "source": [
    "results = segment_mean_upgrade_cost(community_results) \n",
    "saving_results[f'segment1_{income}_upgrade_cost_mean_usd'] = results[0]\n",
    "saving_results[f'segment2_{income}_upgrade_cost_mean_usd'] = results[1]"
   ]
  },
  {
   "cell_type": "markdown",
   "id": "0c3d8db5",
   "metadata": {},
   "source": [
    " ## 3.2 Annual Savings Per Dollar Invested"
   ]
  },
  {
   "cell_type": "markdown",
   "id": "6d7106aa",
   "metadata": {},
   "source": [
    "### Annual Bill Savings Per Dollar Invested"
   ]
  },
  {
   "cell_type": "code",
   "execution_count": 38,
   "id": "da9bebdf",
   "metadata": {},
   "outputs": [
    {
     "name": "stdout",
     "output_type": "stream",
     "text": [
      "segment1\n"
     ]
    },
    {
     "data": {
      "text/plain": [
       "upgrade_name\n",
       "Basic Enclosure                                                    0.08263\n",
       "Enhanced Enclosure                                                 0.06934\n",
       "Heat Pump Water Heater                                             0.05332\n",
       "Basic Enclosure + HPWH + High Efficiency HP/Electric Backup        0.04362\n",
       "Enhanced Enclosure + HPWH + High Efficiency HP/Electric Backup     0.04224\n",
       "Basic Enclosure + High Efficiency Whole Home Electrification       0.03912\n",
       "Enhanced Enclosure + High Efficiency Whole Home Electrification    0.03807\n",
       "High Efficiency Whole Home Electrification                         0.03608\n",
       "Mininum Efficiency Whole Home Electrification                      0.03553\n",
       "High Efficiency Heat Pump with Electric Heat Backup                0.03285\n",
       "Mininum Efficiency Heat Pump with Electric Heat Backup             0.02379\n",
       "Heat Pump Clothes Dryer                                            0.01461\n",
       "Mininum Efficiency Heat Pump with Existing Heat Backup             0.01450\n",
       "Electric Cooking                                                   0.01175\n",
       "Induction Cooking                                                  0.00580\n",
       "Electric Clothes Dryer                                            -0.01096\n",
       "Name: saving_cbill.total_usd, dtype: float64"
      ]
     },
     "metadata": {},
     "output_type": "display_data"
    },
    {
     "name": "stdout",
     "output_type": "stream",
     "text": [
      "segment2\n"
     ]
    },
    {
     "data": {
      "text/plain": [
       "upgrade_name\n",
       "Basic Enclosure                                                    0.10426\n",
       "Enhanced Enclosure                                                 0.08682\n",
       "Mininum Efficiency Whole Home Electrification                      0.05313\n",
       "Heat Pump Water Heater                                             0.04942\n",
       "Basic Enclosure + HPWH + High Efficiency HP/Electric Backup        0.04748\n",
       "Enhanced Enclosure + HPWH + High Efficiency HP/Electric Backup     0.04606\n",
       "Basic Enclosure + High Efficiency Whole Home Electrification       0.04299\n",
       "Enhanced Enclosure + High Efficiency Whole Home Electrification    0.04188\n",
       "High Efficiency Heat Pump with Electric Heat Backup                0.04157\n",
       "High Efficiency Whole Home Electrification                         0.03979\n",
       "Mininum Efficiency Heat Pump with Electric Heat Backup             0.03804\n",
       "Mininum Efficiency Heat Pump with Existing Heat Backup             0.03804\n",
       "Electric Cooking                                                   0.02086\n",
       "Heat Pump Clothes Dryer                                            0.01349\n",
       "Electric Clothes Dryer                                             0.00573\n",
       "Induction Cooking                                                  0.00463\n",
       "Name: saving_cbill.total_usd, dtype: float64"
      ]
     },
     "metadata": {},
     "output_type": "display_data"
    }
   ],
   "source": [
    "indicator ='saving_cbill.total_usd'\n",
    "results = segment_savings_per_dollar(indicator, community_results) \n",
    "saving_results[f'segment1_{income}_saving_bill_per_dollar_invested_usd'] = results[0]\n",
    "saving_results[f'segment2_{income}_saving_bill_per_dollar_invested_usd'] = results[1]"
   ]
  },
  {
   "cell_type": "markdown",
   "id": "60fa915b",
   "metadata": {},
   "source": [
    " ### Annual Energy Savings Per Dollar Invested"
   ]
  },
  {
   "cell_type": "code",
   "execution_count": 39,
   "id": "0edaa5a4",
   "metadata": {},
   "outputs": [
    {
     "name": "stdout",
     "output_type": "stream",
     "text": [
      "segment1\n"
     ]
    },
    {
     "data": {
      "text/plain": [
       "upgrade_name\n",
       "Basic Enclosure                                                    0.00403\n",
       "Enhanced Enclosure                                                 0.00338\n",
       "Heat Pump Water Heater                                             0.00296\n",
       "Mininum Efficiency Whole Home Electrification                      0.00243\n",
       "Mininum Efficiency Heat Pump with Electric Heat Backup             0.00212\n",
       "Basic Enclosure + HPWH + High Efficiency HP/Electric Backup        0.00202\n",
       "Enhanced Enclosure + HPWH + High Efficiency HP/Electric Backup     0.00194\n",
       "Basic Enclosure + High Efficiency Whole Home Electrification       0.00185\n",
       "High Efficiency Whole Home Electrification                         0.00180\n",
       "Enhanced Enclosure + High Efficiency Whole Home Electrification    0.00179\n",
       "High Efficiency Heat Pump with Electric Heat Backup                0.00175\n",
       "Electric Cooking                                                   0.00172\n",
       "Mininum Efficiency Heat Pump with Existing Heat Backup             0.00117\n",
       "Induction Cooking                                                  0.00052\n",
       "Heat Pump Clothes Dryer                                            0.00044\n",
       "Electric Clothes Dryer                                             0.00042\n",
       "Name: saving_energy.total_mmbtu, dtype: float64"
      ]
     },
     "metadata": {},
     "output_type": "display_data"
    },
    {
     "name": "stdout",
     "output_type": "stream",
     "text": [
      "segment2\n"
     ]
    },
    {
     "data": {
      "text/plain": [
       "upgrade_name\n",
       "Mininum Efficiency Whole Home Electrification                      0.00313\n",
       "Basic Enclosure                                                    0.00309\n",
       "Enhanced Enclosure                                                 0.00257\n",
       "Heat Pump Water Heater                                             0.00170\n",
       "Electric Cooking                                                   0.00145\n",
       "Basic Enclosure + HPWH + High Efficiency HP/Electric Backup        0.00141\n",
       "Enhanced Enclosure + HPWH + High Efficiency HP/Electric Backup     0.00137\n",
       "Basic Enclosure + High Efficiency Whole Home Electrification       0.00129\n",
       "Enhanced Enclosure + High Efficiency Whole Home Electrification    0.00125\n",
       "High Efficiency Heat Pump with Electric Heat Backup                0.00123\n",
       "High Efficiency Whole Home Electrification                         0.00120\n",
       "Mininum Efficiency Heat Pump with Electric Heat Backup             0.00115\n",
       "Mininum Efficiency Heat Pump with Existing Heat Backup             0.00115\n",
       "Heat Pump Clothes Dryer                                            0.00040\n",
       "Electric Clothes Dryer                                             0.00033\n",
       "Induction Cooking                                                  0.00022\n",
       "Name: saving_energy.total_mmbtu, dtype: float64"
      ]
     },
     "metadata": {},
     "output_type": "display_data"
    }
   ],
   "source": [
    "indicator = 'saving_energy.total_mmbtu'\n",
    "results = segment_savings_per_dollar(indicator, community_results) \n",
    "saving_results[f'segment1_{income}_saving_energy_per_dollar_invested_mmbtu'] = results[0]\n",
    "saving_results[f'segment2_{income}_saving_energy_per_dollar_invested_mmbtu'] = results[1]"
   ]
  },
  {
   "cell_type": "markdown",
   "id": "e547f174",
   "metadata": {},
   "source": [
    " ### Annual Emission Savings Per Dollar Invested"
   ]
  },
  {
   "cell_type": "code",
   "execution_count": 40,
   "id": "1434b69a",
   "metadata": {},
   "outputs": [
    {
     "name": "stdout",
     "output_type": "stream",
     "text": [
      "segment1\n"
     ]
    },
    {
     "data": {
      "text/plain": [
       "upgrade_name\n",
       "Basic Enclosure                                                    0.26564\n",
       "Enhanced Enclosure                                                 0.22510\n",
       "Heat Pump Water Heater                                             0.19703\n",
       "Mininum Efficiency Whole Home Electrification                      0.13307\n",
       "Basic Enclosure + HPWH + High Efficiency HP/Electric Backup        0.13170\n",
       "Enhanced Enclosure + HPWH + High Efficiency HP/Electric Backup     0.12751\n",
       "Basic Enclosure + High Efficiency Whole Home Electrification       0.12062\n",
       "Enhanced Enclosure + High Efficiency Whole Home Electrification    0.11733\n",
       "High Efficiency Whole Home Electrification                         0.11421\n",
       "High Efficiency Heat Pump with Electric Heat Backup                0.10955\n",
       "Mininum Efficiency Heat Pump with Electric Heat Backup             0.10663\n",
       "Electric Cooking                                                   0.10047\n",
       "Mininum Efficiency Heat Pump with Existing Heat Backup             0.06614\n",
       "Induction Cooking                                                  0.03169\n",
       "Heat Pump Clothes Dryer                                            0.03146\n",
       "Electric Clothes Dryer                                             0.02110\n",
       "Name: saving_emission.total_kgCO2e, dtype: float64"
      ]
     },
     "metadata": {},
     "output_type": "display_data"
    },
    {
     "name": "stdout",
     "output_type": "stream",
     "text": [
      "segment2\n"
     ]
    },
    {
     "data": {
      "text/plain": [
       "upgrade_name\n",
       "Basic Enclosure                                                    0.28833\n",
       "Enhanced Enclosure                                                 0.24162\n",
       "Mininum Efficiency Whole Home Electrification                      0.22435\n",
       "Basic Enclosure + HPWH + High Efficiency HP/Electric Backup        0.12934\n",
       "Enhanced Enclosure + HPWH + High Efficiency HP/Electric Backup     0.12561\n",
       "Heat Pump Water Heater                                             0.12374\n",
       "Basic Enclosure + High Efficiency Whole Home Electrification       0.11761\n",
       "High Efficiency Heat Pump with Electric Heat Backup                0.11678\n",
       "Mininum Efficiency Heat Pump with Electric Heat Backup             0.11552\n",
       "Mininum Efficiency Heat Pump with Existing Heat Backup             0.11552\n",
       "Enhanced Enclosure + High Efficiency Whole Home Electrification    0.11471\n",
       "High Efficiency Whole Home Electrification                         0.10988\n",
       "Electric Cooking                                                   0.09272\n",
       "Heat Pump Clothes Dryer                                            0.02876\n",
       "Induction Cooking                                                  0.01551\n",
       "Electric Clothes Dryer                                             0.01179\n",
       "Name: saving_emission.total_kgCO2e, dtype: float64"
      ]
     },
     "metadata": {},
     "output_type": "display_data"
    }
   ],
   "source": [
    "indicator ='saving_emission.total_kgCO2e'\n",
    "results = segment_savings_per_dollar(indicator, community_results) \n",
    "saving_results[f'segment1_{income}_saving_emission_per_dollar_invested_kgCO2e'] = results[0]\n",
    "saving_results[f'segment2_{income}_saving_emission_per_dollar_invested_kgCO2e'] = results[1]"
   ]
  },
  {
   "cell_type": "markdown",
   "id": "dca98489",
   "metadata": {},
   "source": [
    "## 3.3 Annual Total Savings"
   ]
  },
  {
   "cell_type": "markdown",
   "id": "b549310c",
   "metadata": {},
   "source": [
    "### Annual Total Bill Savings"
   ]
  },
  {
   "cell_type": "code",
   "execution_count": 41,
   "id": "cb08983a",
   "metadata": {},
   "outputs": [
    {
     "data": {
      "text/plain": [
       "array(['whole_community_upgrade_cost_mean_usd',\n",
       "       'whole_community_saving_bill_total_usd',\n",
       "       'whole_community_saving_emission_total_kgCO2e',\n",
       "       'whole_community_saving_energy_total_mmbtu',\n",
       "       'whole_community_saving_electricity_total_kwh',\n",
       "       'whole_community_saving_natural_gas_fuel_oil_propane_total_mmbtu',\n",
       "       'whole_community_saving_bill_mean_usd',\n",
       "       'whole_community_saving_emission_mean_kgCO2e',\n",
       "       'whole_community_saving_energy_mean_mmbtu',\n",
       "       'whole_community_saving_bill_total_usd_wt_p0.1',\n",
       "       'whole_community_saving_bill_total_usd_wt_p0.25',\n",
       "       'whole_community_saving_bill_total_usd_wt_p0.75',\n",
       "       'whole_community_saving_bill_total_usd_wt_p0.9',\n",
       "       'nan_all_incomes_saving_bill_total_usd_wt_p0.1',\n",
       "       'nan_all_incomes_saving_bill_total_usd_wt_p0.25',\n",
       "       'nan_all_incomes_saving_bill_total_usd_wt_p0.75',\n",
       "       'nan_all_incomes_saving_bill_total_usd_wt_p0.9',\n",
       "       'segment1_all_incomes_saving_bill_total_usd_wt_p0.1',\n",
       "       'segment1_all_incomes_saving_bill_total_usd_wt_p0.25',\n",
       "       'segment1_all_incomes_saving_bill_total_usd_wt_p0.75',\n",
       "       'segment1_all_incomes_saving_bill_total_usd_wt_p0.9',\n",
       "       'segment2_all_incomes_saving_bill_total_usd_wt_p0.1',\n",
       "       'segment2_all_incomes_saving_bill_total_usd_wt_p0.25',\n",
       "       'segment2_all_incomes_saving_bill_total_usd_wt_p0.75',\n",
       "       'segment2_all_incomes_saving_bill_total_usd_wt_p0.9',\n",
       "       'segment1_all_incomes_upgrade_cost_mean_usd',\n",
       "       'segment2_all_incomes_upgrade_cost_mean_usd',\n",
       "       'segment1_all_incomes_saving_bill_per_dollar_invested_usd',\n",
       "       'segment2_all_incomes_saving_bill_per_dollar_invested_usd',\n",
       "       'segment1_all_incomes_saving_energy_per_dollar_invested_mmbtu',\n",
       "       'segment2_all_incomes_saving_energy_per_dollar_invested_mmbtu',\n",
       "       'segment1_all_incomes_saving_emission_per_dollar_invested_kgCO2e',\n",
       "       'segment2_all_incomes_saving_emission_per_dollar_invested_kgCO2e',\n",
       "       'segment1_all_incomes_saving_bill_total_usd',\n",
       "       'segment2_all_incomes_saving_bill_total_usd',\n",
       "       'segment1_all_incomes_saving_energy_total_mmbtu',\n",
       "       'segment2_all_incomes_saving_energy_total_mmbtu',\n",
       "       'segment1_all_incomes_saving_emission_total_kgCO2e',\n",
       "       'segment2_all_incomes_saving_emission_total_kgCO2e',\n",
       "       'segment1_all_incomes_saving_bill_mean_usd',\n",
       "       'segment2_all_incomes_saving_bill_mean_usd',\n",
       "       'segment1_all_incomes_saving_energy_mean_mmbtu',\n",
       "       'segment2_all_incomes_saving_energy_mean_mmbtu',\n",
       "       'segment1_all_incomes_pct_saving_energy_mean_%',\n",
       "       'segment2_all_incomes_pct_saving_energy_mean_%',\n",
       "       'segment1_all_incomes_saving_emission_mean_kgCO2e',\n",
       "       'segment2_all_incomes_saving_emission_mean_kgCO2e',\n",
       "       'segment1_all_incomes_pct_bill_positive_savings_%',\n",
       "       'segment1_all_incomes_pct_emission_positive_savings_%',\n",
       "       'segment1_all_incomes_pct_energy_positive_savings_%',\n",
       "       'segment2_all_incomes_pct_bill_positive_savings_%',\n",
       "       'segment2_all_incomes_pct_emission_positive_savings_%',\n",
       "       'segment2_all_incomes_pct_energy_positive_savings_%',\n",
       "       'segment1_all_incomes_energy_burden_before_upgrade_%',\n",
       "       'segment1_all_incomes_energy_burden_after_upgrade_%',\n",
       "       'segment2_all_incomes_energy_burden_before_upgrade_%',\n",
       "       'segment2_all_incomes_energy_burden_after_upgrade_%',\n",
       "       'nan_0-80%AMI_saving_bill_total_usd_wt_p0.1',\n",
       "       'nan_0-80%AMI_saving_bill_total_usd_wt_p0.25',\n",
       "       'nan_0-80%AMI_saving_bill_total_usd_wt_p0.75',\n",
       "       'nan_0-80%AMI_saving_bill_total_usd_wt_p0.9',\n",
       "       'segment1_0-80%AMI_saving_bill_total_usd_wt_p0.1',\n",
       "       'segment1_0-80%AMI_saving_bill_total_usd_wt_p0.25',\n",
       "       'segment1_0-80%AMI_saving_bill_total_usd_wt_p0.75',\n",
       "       'segment1_0-80%AMI_saving_bill_total_usd_wt_p0.9',\n",
       "       'segment2_0-80%AMI_saving_bill_total_usd_wt_p0.1',\n",
       "       'segment2_0-80%AMI_saving_bill_total_usd_wt_p0.25',\n",
       "       'segment2_0-80%AMI_saving_bill_total_usd_wt_p0.75',\n",
       "       'segment2_0-80%AMI_saving_bill_total_usd_wt_p0.9',\n",
       "       'segment1_0-80%AMI_upgrade_cost_mean_usd',\n",
       "       'segment2_0-80%AMI_upgrade_cost_mean_usd',\n",
       "       'segment1_0-80%AMI_saving_bill_per_dollar_invested_usd',\n",
       "       'segment2_0-80%AMI_saving_bill_per_dollar_invested_usd',\n",
       "       'segment1_0-80%AMI_saving_energy_per_dollar_invested_mmbtu',\n",
       "       'segment2_0-80%AMI_saving_energy_per_dollar_invested_mmbtu',\n",
       "       'segment1_0-80%AMI_saving_emission_per_dollar_invested_kgCO2e',\n",
       "       'segment2_0-80%AMI_saving_emission_per_dollar_invested_kgCO2e'],\n",
       "      dtype=object)"
      ]
     },
     "execution_count": 41,
     "metadata": {},
     "output_type": "execute_result"
    }
   ],
   "source": [
    "saving_results.columns.values"
   ]
  },
  {
   "cell_type": "code",
   "execution_count": 42,
   "id": "fdc30441",
   "metadata": {},
   "outputs": [
    {
     "name": "stdout",
     "output_type": "stream",
     "text": [
      "segment1\n"
     ]
    },
    {
     "data": {
      "text/plain": [
       "upgrade_name\n",
       "Enhanced Enclosure + High Efficiency Whole Home Electrification    2297525.9\n",
       "Enhanced Enclosure + HPWH + High Efficiency HP/Electric Backup     2278619.0\n",
       "Basic Enclosure + High Efficiency Whole Home Electrification       2266087.7\n",
       "Basic Enclosure + HPWH + High Efficiency HP/Electric Backup        2247170.5\n",
       "High Efficiency Whole Home Electrification                         1970853.9\n",
       "High Efficiency Heat Pump with Electric Heat Backup                1428181.0\n",
       "Mininum Efficiency Whole Home Electrification                      1049704.5\n",
       "Enhanced Enclosure                                                  959400.5\n",
       "Basic Enclosure                                                     834824.8\n",
       "Mininum Efficiency Heat Pump with Electric Heat Backup              585762.8\n",
       "Mininum Efficiency Heat Pump with Existing Heat Backup              351491.8\n",
       "Heat Pump Water Heater                                              252423.6\n",
       "Heat Pump Clothes Dryer                                              52594.5\n",
       "Induction Cooking                                                    16287.0\n",
       "Electric Cooking                                                      8416.5\n",
       "Electric Clothes Dryer                                               -1792.3\n",
       "Name: saving_cbill.total_usd, dtype: float64"
      ]
     },
     "metadata": {},
     "output_type": "display_data"
    },
    {
     "name": "stdout",
     "output_type": "stream",
     "text": [
      "segment2\n"
     ]
    },
    {
     "data": {
      "text/plain": [
       "upgrade_name\n",
       "Enhanced Enclosure + High Efficiency Whole Home Electrification    1786214.3\n",
       "Basic Enclosure + High Efficiency Whole Home Electrification       1765038.8\n",
       "Enhanced Enclosure + HPWH + High Efficiency HP/Electric Backup     1755859.8\n",
       "Basic Enclosure + HPWH + High Efficiency HP/Electric Backup        1734705.7\n",
       "High Efficiency Whole Home Electrification                         1542871.8\n",
       "High Efficiency Heat Pump with Electric Heat Backup                1289858.5\n",
       "Enhanced Enclosure                                                  808323.6\n",
       "Basic Enclosure                                                     732580.9\n",
       "Mininum Efficiency Heat Pump with Electric Heat Backup              674129.3\n",
       "Mininum Efficiency Heat Pump with Existing Heat Backup              674126.4\n",
       "Heat Pump Water Heater                                              159160.4\n",
       "Heat Pump Clothes Dryer                                              33969.0\n",
       "Mininum Efficiency Whole Home Electrification                        33968.6\n",
       "Induction Cooking                                                     9297.8\n",
       "Electric Cooking                                                      4175.2\n",
       "Electric Clothes Dryer                                                 219.0\n",
       "Name: saving_cbill.total_usd, dtype: float64"
      ]
     },
     "metadata": {},
     "output_type": "display_data"
    }
   ],
   "source": [
    "indicator ='saving_cbill.total_usd'\n",
    "results = segment_annual_total_savings(indicator, community_results)\n",
    "saving_results[f'segment1_{income}_saving_bill_total_usd'] = results[0]\n",
    "saving_results[f'segment2_{income}_saving_bill_total_usd'] = results[1]"
   ]
  },
  {
   "cell_type": "markdown",
   "id": "394241c1",
   "metadata": {},
   "source": [
    "### Annual Total Energy Savings"
   ]
  },
  {
   "cell_type": "code",
   "execution_count": 43,
   "id": "8d5c8c52",
   "metadata": {},
   "outputs": [
    {
     "name": "stdout",
     "output_type": "stream",
     "text": [
      "segment1\n"
     ]
    },
    {
     "data": {
      "text/plain": [
       "upgrade_name\n",
       "Enhanced Enclosure + High Efficiency Whole Home Electrification    107840.3\n",
       "Basic Enclosure + High Efficiency Whole Home Electrification       106931.4\n",
       "Enhanced Enclosure + HPWH + High Efficiency HP/Electric Backup     104783.9\n",
       "Basic Enclosure + HPWH + High Efficiency HP/Electric Backup        103875.1\n",
       "High Efficiency Whole Home Electrification                          98425.2\n",
       "High Efficiency Heat Pump with Electric Heat Backup                 76297.2\n",
       "Mininum Efficiency Whole Home Electrification                       71933.2\n",
       "Mininum Efficiency Heat Pump with Electric Heat Backup              52134.4\n",
       "Enhanced Enclosure                                                  46796.6\n",
       "Basic Enclosure                                                     40688.1\n",
       "Mininum Efficiency Heat Pump with Existing Heat Backup              28469.3\n",
       "Heat Pump Water Heater                                              14001.0\n",
       "Heat Pump Clothes Dryer                                              1601.2\n",
       "Induction Cooking                                                    1455.2\n",
       "Electric Cooking                                                     1233.4\n",
       "Electric Clothes Dryer                                                 69.4\n",
       "Name: saving_energy.total_mmbtu, dtype: float64"
      ]
     },
     "metadata": {},
     "output_type": "display_data"
    },
    {
     "name": "stdout",
     "output_type": "stream",
     "text": [
      "segment2\n"
     ]
    },
    {
     "data": {
      "text/plain": [
       "upgrade_name\n",
       "Enhanced Enclosure + High Efficiency Whole Home Electrification    53502.8\n",
       "Basic Enclosure + High Efficiency Whole Home Electrification       52895.0\n",
       "Enhanced Enclosure + HPWH + High Efficiency HP/Electric Backup     52062.3\n",
       "Basic Enclosure + HPWH + High Efficiency HP/Electric Backup        51454.5\n",
       "High Efficiency Whole Home Electrification                         46478.1\n",
       "High Efficiency Heat Pump with Electric Heat Backup                38125.0\n",
       "Enhanced Enclosure                                                 23952.7\n",
       "Basic Enclosure                                                    21711.3\n",
       "Mininum Efficiency Heat Pump with Electric Heat Backup             20404.0\n",
       "Mininum Efficiency Heat Pump with Existing Heat Backup             20403.9\n",
       "Heat Pump Water Heater                                              5471.7\n",
       "Mininum Efficiency Whole Home Electrification                       2000.4\n",
       "Heat Pump Clothes Dryer                                              996.9\n",
       "Induction Cooking                                                    443.6\n",
       "Electric Cooking                                                     289.6\n",
       "Electric Clothes Dryer                                                12.5\n",
       "Name: saving_energy.total_mmbtu, dtype: float64"
      ]
     },
     "metadata": {},
     "output_type": "display_data"
    }
   ],
   "source": [
    "indicator ='saving_energy.total_mmbtu'\n",
    "results = segment_annual_total_savings(indicator, community_results)\n",
    "saving_results[f'segment1_{income}_saving_energy_total_mmbtu'] = results[0]\n",
    "saving_results[f'segment2_{income}_saving_energy_total_mmbtu'] = results[1]"
   ]
  },
  {
   "cell_type": "markdown",
   "id": "5763f90a",
   "metadata": {},
   "source": [
    "### Annual Total Emission Savings"
   ]
  },
  {
   "cell_type": "code",
   "execution_count": 44,
   "id": "f1023e8a",
   "metadata": {},
   "outputs": [
    {
     "name": "stdout",
     "output_type": "stream",
     "text": [
      "segment1\n"
     ]
    },
    {
     "data": {
      "text/plain": [
       "upgrade_name\n",
       "Enhanced Enclosure + High Efficiency Whole Home Electrification    7081392.8\n",
       "Basic Enclosure + High Efficiency Whole Home Electrification       6986142.6\n",
       "Enhanced Enclosure + HPWH + High Efficiency HP/Electric Backup     6879139.4\n",
       "Basic Enclosure + HPWH + High Efficiency HP/Electric Backup        6783889.2\n",
       "High Efficiency Whole Home Electrification                         6237861.5\n",
       "High Efficiency Heat Pump with Electric Heat Backup                4762953.5\n",
       "Mininum Efficiency Whole Home Electrification                      3931561.7\n",
       "Enhanced Enclosure                                                 3114701.1\n",
       "Basic Enclosure                                                    2683993.3\n",
       "Mininum Efficiency Heat Pump with Electric Heat Backup             2625139.1\n",
       "Mininum Efficiency Heat Pump with Existing Heat Backup             1603328.1\n",
       "Heat Pump Water Heater                                              932770.4\n",
       "Heat Pump Clothes Dryer                                             113266.2\n",
       "Induction Cooking                                                    88987.3\n",
       "Electric Cooking                                                     71951.1\n",
       "Electric Clothes Dryer                                                3451.7\n",
       "Name: saving_emission.total_kgCO2e, dtype: float64"
      ]
     },
     "metadata": {},
     "output_type": "display_data"
    },
    {
     "name": "stdout",
     "output_type": "stream",
     "text": [
      "segment2\n"
     ]
    },
    {
     "data": {
      "text/plain": [
       "upgrade_name\n",
       "Enhanced Enclosure + High Efficiency Whole Home Electrification    4892406.5\n",
       "Basic Enclosure + High Efficiency Whole Home Electrification       4829079.8\n",
       "Enhanced Enclosure + HPWH + High Efficiency HP/Electric Backup     4788849.4\n",
       "Basic Enclosure + HPWH + High Efficiency HP/Electric Backup        4725522.7\n",
       "High Efficiency Whole Home Electrification                         4260853.7\n",
       "High Efficiency Heat Pump with Electric Heat Backup                3623736.3\n",
       "Enhanced Enclosure                                                 2249525.2\n",
       "Mininum Efficiency Heat Pump with Electric Heat Backup             2047279.8\n",
       "Mininum Efficiency Heat Pump with Existing Heat Backup             2047274.2\n",
       "Basic Enclosure                                                    2025927.6\n",
       "Heat Pump Water Heater                                              398502.5\n",
       "Mininum Efficiency Whole Home Electrification                       143441.3\n",
       "Heat Pump Clothes Dryer                                              72425.4\n",
       "Induction Cooking                                                    31131.7\n",
       "Electric Cooking                                                     18557.7\n",
       "Electric Clothes Dryer                                                 450.8\n",
       "Name: saving_emission.total_kgCO2e, dtype: float64"
      ]
     },
     "metadata": {},
     "output_type": "display_data"
    }
   ],
   "source": [
    "indicator ='saving_emission.total_kgCO2e'\n",
    "results = segment_annual_total_savings(indicator, community_results)\n",
    "saving_results[f'segment1_{income}_saving_emission_total_kgCO2e'] = results[0]\n",
    "saving_results[f'segment2_{income}_saving_emission_total_kgCO2e'] = results[1]"
   ]
  },
  {
   "cell_type": "markdown",
   "id": "563da3e8",
   "metadata": {},
   "source": [
    "## 3.4 Annual Savings Per Dwelling Unit"
   ]
  },
  {
   "cell_type": "markdown",
   "id": "cc8ea738",
   "metadata": {},
   "source": [
    "### Annual Bill Savings Per Dwelling Unit"
   ]
  },
  {
   "cell_type": "code",
   "execution_count": 45,
   "id": "82aded52",
   "metadata": {},
   "outputs": [
    {
     "name": "stdout",
     "output_type": "stream",
     "text": [
      "segment1\n"
     ]
    },
    {
     "data": {
      "text/plain": [
       "upgrade_name\n",
       "Enhanced Enclosure + High Efficiency Whole Home Electrification    1352.1\n",
       "Enhanced Enclosure + HPWH + High Efficiency HP/Electric Backup     1341.0\n",
       "Basic Enclosure + High Efficiency Whole Home Electrification       1333.6\n",
       "Basic Enclosure + HPWH + High Efficiency HP/Electric Backup        1322.5\n",
       "High Efficiency Whole Home Electrification                         1159.9\n",
       "High Efficiency Heat Pump with Electric Heat Backup                 840.5\n",
       "Mininum Efficiency Whole Home Electrification                       617.8\n",
       "Enhanced Enclosure                                                  564.6\n",
       "Basic Enclosure                                                     491.3\n",
       "Mininum Efficiency Heat Pump with Electric Heat Backup              344.7\n",
       "Mininum Efficiency Heat Pump with Existing Heat Backup              206.9\n",
       "Heat Pump Water Heater                                              148.6\n",
       "Heat Pump Clothes Dryer                                              32.3\n",
       "Electric Cooking                                                     11.5\n",
       "Induction Cooking                                                     9.8\n",
       "Electric Clothes Dryer                                              -12.0\n",
       "Name: saving_cbill.total_usd, dtype: float64"
      ]
     },
     "metadata": {},
     "output_type": "display_data"
    },
    {
     "name": "stdout",
     "output_type": "stream",
     "text": [
      "segment2\n"
     ]
    },
    {
     "data": {
      "text/plain": [
       "upgrade_name\n",
       "Enhanced Enclosure + High Efficiency Whole Home Electrification    1496.2\n",
       "Basic Enclosure + High Efficiency Whole Home Electrification       1478.5\n",
       "Enhanced Enclosure + HPWH + High Efficiency HP/Electric Backup     1470.8\n",
       "Basic Enclosure + HPWH + High Efficiency HP/Electric Backup        1453.1\n",
       "High Efficiency Whole Home Electrification                         1292.4\n",
       "High Efficiency Heat Pump with Electric Heat Backup                1080.5\n",
       "Enhanced Enclosure                                                  677.1\n",
       "Basic Enclosure                                                     613.7\n",
       "Mininum Efficiency Heat Pump with Electric Heat Backup              564.7\n",
       "Mininum Efficiency Heat Pump with Existing Heat Backup              564.7\n",
       "Heat Pump Water Heater                                              135.7\n",
       "Mininum Efficiency Whole Home Electrification                        98.7\n",
       "Heat Pump Clothes Dryer                                              29.8\n",
       "Electric Cooking                                                     20.4\n",
       "Induction Cooking                                                     7.8\n",
       "Electric Clothes Dryer                                                6.3\n",
       "Name: saving_cbill.total_usd, dtype: float64"
      ]
     },
     "metadata": {},
     "output_type": "display_data"
    }
   ],
   "source": [
    "indicator ='saving_cbill.total_usd'\n",
    "results = segment_mean_savings(indicator, community_results)\n",
    "saving_results[f'segment1_{income}_saving_bill_mean_usd'] = results[0]\n",
    "saving_results[f'segment2_{income}_saving_bill_mean_usd'] = results[1]"
   ]
  },
  {
   "cell_type": "markdown",
   "id": "7b3bbdc3",
   "metadata": {},
   "source": [
    "### Annual Energy Savings Per Dwelling Unit"
   ]
  },
  {
   "cell_type": "code",
   "execution_count": 46,
   "id": "d554f5e1",
   "metadata": {},
   "outputs": [
    {
     "name": "stdout",
     "output_type": "stream",
     "text": [
      "segment1\n"
     ]
    },
    {
     "data": {
      "text/plain": [
       "upgrade_name\n",
       "Enhanced Enclosure + High Efficiency Whole Home Electrification    63.5\n",
       "Basic Enclosure + High Efficiency Whole Home Electrification       62.9\n",
       "Enhanced Enclosure + HPWH + High Efficiency HP/Electric Backup     61.7\n",
       "Basic Enclosure + HPWH + High Efficiency HP/Electric Backup        61.1\n",
       "High Efficiency Whole Home Electrification                         57.9\n",
       "High Efficiency Heat Pump with Electric Heat Backup                44.9\n",
       "Mininum Efficiency Whole Home Electrification                      42.3\n",
       "Mininum Efficiency Heat Pump with Electric Heat Backup             30.7\n",
       "Enhanced Enclosure                                                 27.5\n",
       "Basic Enclosure                                                    23.9\n",
       "Mininum Efficiency Heat Pump with Existing Heat Backup             16.8\n",
       "Heat Pump Water Heater                                              8.2\n",
       "Electric Cooking                                                    1.7\n",
       "Heat Pump Clothes Dryer                                             1.0\n",
       "Induction Cooking                                                   0.9\n",
       "Electric Clothes Dryer                                              0.5\n",
       "Name: saving_energy.total_mmbtu, dtype: float64"
      ]
     },
     "metadata": {},
     "output_type": "display_data"
    },
    {
     "name": "stdout",
     "output_type": "stream",
     "text": [
      "segment2\n"
     ]
    },
    {
     "data": {
      "text/plain": [
       "upgrade_name\n",
       "Enhanced Enclosure + High Efficiency Whole Home Electrification    44.8\n",
       "Basic Enclosure + High Efficiency Whole Home Electrification       44.3\n",
       "Enhanced Enclosure + HPWH + High Efficiency HP/Electric Backup     43.6\n",
       "Basic Enclosure + HPWH + High Efficiency HP/Electric Backup        43.1\n",
       "High Efficiency Whole Home Electrification                         38.9\n",
       "High Efficiency Heat Pump with Electric Heat Backup                31.9\n",
       "Enhanced Enclosure                                                 20.1\n",
       "Basic Enclosure                                                    18.2\n",
       "Mininum Efficiency Heat Pump with Electric Heat Backup             17.1\n",
       "Mininum Efficiency Heat Pump with Existing Heat Backup             17.1\n",
       "Mininum Efficiency Whole Home Electrification                       5.8\n",
       "Heat Pump Water Heater                                              4.7\n",
       "Electric Cooking                                                    1.4\n",
       "Heat Pump Clothes Dryer                                             0.9\n",
       "Induction Cooking                                                   0.4\n",
       "Electric Clothes Dryer                                              0.4\n",
       "Name: saving_energy.total_mmbtu, dtype: float64"
      ]
     },
     "metadata": {},
     "output_type": "display_data"
    }
   ],
   "source": [
    "indicator ='saving_energy.total_mmbtu'\n",
    "results = segment_mean_savings(indicator, community_results) \n",
    "saving_results[f'segment1_{income}_saving_energy_mean_mmbtu'] = results[0]\n",
    "saving_results[f'segment2_{income}_saving_energy_mean_mmbtu'] = results[1]"
   ]
  },
  {
   "cell_type": "markdown",
   "id": "1df2744e",
   "metadata": {},
   "source": [
    "### Annual Percentage Energy Savings Per Dwelling Unit"
   ]
  },
  {
   "cell_type": "code",
   "execution_count": 47,
   "id": "75fce0ec",
   "metadata": {},
   "outputs": [
    {
     "name": "stdout",
     "output_type": "stream",
     "text": [
      "segment1\n"
     ]
    },
    {
     "data": {
      "text/plain": [
       "upgrade_name\n",
       "Enhanced Enclosure + High Efficiency Whole Home Electrification    63.5\n",
       "Basic Enclosure + High Efficiency Whole Home Electrification       63.0\n",
       "Enhanced Enclosure + HPWH + High Efficiency HP/Electric Backup     61.5\n",
       "Basic Enclosure + HPWH + High Efficiency HP/Electric Backup        61.0\n",
       "High Efficiency Whole Home Electrification                         58.0\n",
       "High Efficiency Heat Pump with Electric Heat Backup                44.0\n",
       "Mininum Efficiency Whole Home Electrification                      41.8\n",
       "Mininum Efficiency Heat Pump with Electric Heat Backup             29.5\n",
       "Enhanced Enclosure                                                 26.8\n",
       "Basic Enclosure                                                    23.4\n",
       "Mininum Efficiency Heat Pump with Existing Heat Backup             15.2\n",
       "Heat Pump Water Heater                                              8.8\n",
       "Electric Cooking                                                    1.9\n",
       "Heat Pump Clothes Dryer                                             1.1\n",
       "Induction Cooking                                                   1.0\n",
       "Electric Clothes Dryer                                              0.6\n",
       "Name: pct_saving_energy.total_%, dtype: float64"
      ]
     },
     "metadata": {},
     "output_type": "display_data"
    },
    {
     "name": "stdout",
     "output_type": "stream",
     "text": [
      "segment2\n"
     ]
    },
    {
     "data": {
      "text/plain": [
       "upgrade_name\n",
       "Enhanced Enclosure + High Efficiency Whole Home Electrification    55.1\n",
       "Basic Enclosure + High Efficiency Whole Home Electrification       54.4\n",
       "Enhanced Enclosure + HPWH + High Efficiency HP/Electric Backup     53.4\n",
       "Basic Enclosure + HPWH + High Efficiency HP/Electric Backup        52.7\n",
       "High Efficiency Whole Home Electrification                         47.9\n",
       "High Efficiency Heat Pump with Electric Heat Backup                38.9\n",
       "Enhanced Enclosure                                                 23.8\n",
       "Basic Enclosure                                                    21.4\n",
       "Mininum Efficiency Heat Pump with Electric Heat Backup             20.1\n",
       "Mininum Efficiency Heat Pump with Existing Heat Backup             20.1\n",
       "Mininum Efficiency Whole Home Electrification                       7.3\n",
       "Heat Pump Water Heater                                              5.9\n",
       "Electric Cooking                                                    2.1\n",
       "Heat Pump Clothes Dryer                                             1.2\n",
       "Electric Clothes Dryer                                              0.6\n",
       "Induction Cooking                                                   0.5\n",
       "Name: pct_saving_energy.total_%, dtype: float64"
      ]
     },
     "metadata": {},
     "output_type": "display_data"
    }
   ],
   "source": [
    "indicator ='pct_saving_energy.total_%'\n",
    "results = segment_mean_savings(indicator, community_results)\n",
    "saving_results[f'segment1_{income}_pct_saving_energy_mean_%'] = results[0]\n",
    "saving_results[f'segment2_{income}_pct_saving_energy_mean_%'] = results[1]"
   ]
  },
  {
   "cell_type": "markdown",
   "id": "d2b75959",
   "metadata": {},
   "source": [
    "### Annual Emission Savings Per Dwelling Unit"
   ]
  },
  {
   "cell_type": "code",
   "execution_count": 48,
   "id": "564427ed",
   "metadata": {},
   "outputs": [
    {
     "name": "stdout",
     "output_type": "stream",
     "text": [
      "segment1\n"
     ]
    },
    {
     "data": {
      "text/plain": [
       "upgrade_name\n",
       "Enhanced Enclosure + High Efficiency Whole Home Electrification    4167.5\n",
       "Basic Enclosure + High Efficiency Whole Home Electrification       4111.5\n",
       "Enhanced Enclosure + HPWH + High Efficiency HP/Electric Backup     4048.5\n",
       "Basic Enclosure + HPWH + High Efficiency HP/Electric Backup        3992.4\n",
       "High Efficiency Whole Home Electrification                         3671.1\n",
       "High Efficiency Heat Pump with Electric Heat Backup                2803.1\n",
       "Mininum Efficiency Whole Home Electrification                      2313.8\n",
       "Enhanced Enclosure                                                 1833.0\n",
       "Basic Enclosure                                                    1579.6\n",
       "Mininum Efficiency Heat Pump with Electric Heat Backup             1544.9\n",
       "Mininum Efficiency Heat Pump with Existing Heat Backup              943.6\n",
       "Heat Pump Water Heater                                              548.9\n",
       "Electric Cooking                                                     98.2\n",
       "Heat Pump Clothes Dryer                                              69.5\n",
       "Induction Cooking                                                    53.3\n",
       "Electric Clothes Dryer                                               23.2\n",
       "Name: saving_emission.total_kgCO2e, dtype: float64"
      ]
     },
     "metadata": {},
     "output_type": "display_data"
    },
    {
     "name": "stdout",
     "output_type": "stream",
     "text": [
      "segment2\n"
     ]
    },
    {
     "data": {
      "text/plain": [
       "upgrade_name\n",
       "Enhanced Enclosure + High Efficiency Whole Home Electrification    4098.2\n",
       "Basic Enclosure + High Efficiency Whole Home Electrification       4045.1\n",
       "Enhanced Enclosure + HPWH + High Efficiency HP/Electric Backup     4011.4\n",
       "Basic Enclosure + HPWH + High Efficiency HP/Electric Backup        3958.4\n",
       "High Efficiency Whole Home Electrification                         3569.1\n",
       "High Efficiency Heat Pump with Electric Heat Backup                3035.4\n",
       "Enhanced Enclosure                                                 1884.3\n",
       "Mininum Efficiency Heat Pump with Electric Heat Backup             1714.9\n",
       "Mininum Efficiency Heat Pump with Existing Heat Backup             1714.9\n",
       "Basic Enclosure                                                    1697.0\n",
       "Mininum Efficiency Whole Home Electrification                       417.0\n",
       "Heat Pump Water Heater                                              339.8\n",
       "Electric Cooking                                                     90.7\n",
       "Heat Pump Clothes Dryer                                              63.6\n",
       "Induction Cooking                                                    26.1\n",
       "Electric Clothes Dryer                                               12.9\n",
       "Name: saving_emission.total_kgCO2e, dtype: float64"
      ]
     },
     "metadata": {},
     "output_type": "display_data"
    }
   ],
   "source": [
    "indicator ='saving_emission.total_kgCO2e'\n",
    "results = segment_mean_savings(indicator, community_results)\n",
    "saving_results[f'segment1_{income}_saving_emission_mean_kgCO2e'] = results[0]\n",
    "saving_results[f'segment2_{income}_saving_emission_mean_kgCO2e'] = results[1]"
   ]
  },
  {
   "cell_type": "markdown",
   "id": "1a6cb1c1",
   "metadata": {},
   "source": [
    "## 3.5. Pecent Stock with Positive and Negtive Savings"
   ]
  },
  {
   "cell_type": "markdown",
   "id": "ad9fca17",
   "metadata": {},
   "source": [
    "### Segment 1"
   ]
  },
  {
   "cell_type": "code",
   "execution_count": 49,
   "id": "a4c6dfcc",
   "metadata": {},
   "outputs": [
    {
     "data": {
      "application/vnd.plotly.v1+json": {
       "config": {
        "plotlyServerURL": "https://plot.ly"
       },
       "data": [
        {
         "marker": {
          "color": "red"
         },
         "name": "Negative",
         "orientation": "h",
         "text": [
          0.9,
          0.08208955223880597,
          0.07462686567164178,
          0.014925373134328358,
          0.007462686567164179,
          0.007462686567164179,
          0,
          0,
          0,
          0,
          0,
          0,
          0,
          0,
          0,
          0
         ],
         "textposition": "inside",
         "texttemplate": "%{text:.0%}",
         "type": "bar",
         "x": [
          0.9,
          0.08208955223880597,
          0.07462686567164178,
          0.014925373134328358,
          0.007462686567164179,
          0.007462686567164179,
          0,
          0,
          0,
          0,
          0,
          0,
          0,
          0,
          0,
          0
         ],
         "xaxis": "x",
         "y": [
          "Electric Clothes Dryer",
          "Mininum Efficiency Heat Pump with Existing Heat Backup",
          "Mininum Efficiency Heat Pump with Electric Heat Backup",
          "Mininum Efficiency Whole Home Electrification",
          "Heat Pump Water Heater",
          "High Efficiency Heat Pump with Electric Heat Backup",
          "Basic Enclosure",
          "Basic Enclosure + HPWH + High Efficiency HP/Electric Backup",
          "Basic Enclosure + High Efficiency Whole Home Electrification",
          "Electric Cooking",
          "Enhanced Enclosure",
          "Enhanced Enclosure + HPWH + High Efficiency HP/Electric Backup",
          "Enhanced Enclosure + High Efficiency Whole Home Electrification",
          "Heat Pump Clothes Dryer",
          "High Efficiency Whole Home Electrification",
          "Induction Cooking"
         ],
         "yaxis": "y"
        },
        {
         "marker": {
          "color": "green"
         },
         "name": "Positive",
         "orientation": "h",
         "text": [
          0.1,
          0.917910447761194,
          0.9253731343283582,
          0.9850746268656716,
          0.9925373134328358,
          0.9925373134328358,
          1,
          1,
          1,
          1,
          1,
          1,
          1,
          1,
          1,
          1
         ],
         "textposition": "inside",
         "texttemplate": "%{text:.0%}",
         "type": "bar",
         "x": [
          0.1,
          0.917910447761194,
          0.9253731343283582,
          0.9850746268656716,
          0.9925373134328358,
          0.9925373134328358,
          1,
          1,
          1,
          1,
          1,
          1,
          1,
          1,
          1,
          1
         ],
         "xaxis": "x",
         "y": [
          "Electric Clothes Dryer",
          "Mininum Efficiency Heat Pump with Existing Heat Backup",
          "Mininum Efficiency Heat Pump with Electric Heat Backup",
          "Mininum Efficiency Whole Home Electrification",
          "Heat Pump Water Heater",
          "High Efficiency Heat Pump with Electric Heat Backup",
          "Basic Enclosure",
          "Basic Enclosure + HPWH + High Efficiency HP/Electric Backup",
          "Basic Enclosure + High Efficiency Whole Home Electrification",
          "Electric Cooking",
          "Enhanced Enclosure",
          "Enhanced Enclosure + HPWH + High Efficiency HP/Electric Backup",
          "Enhanced Enclosure + High Efficiency Whole Home Electrification",
          "Heat Pump Clothes Dryer",
          "High Efficiency Whole Home Electrification",
          "Induction Cooking"
         ],
         "yaxis": "y"
        },
        {
         "marker": {
          "color": "red"
         },
         "orientation": "h",
         "showlegend": false,
         "text": [
          0,
          0.07462686567164178,
          0.029850746268656716,
          0,
          0,
          0,
          0,
          0,
          0,
          0,
          0,
          0,
          0,
          0,
          0,
          0
         ],
         "textposition": "inside",
         "texttemplate": "%{text:.0%}",
         "type": "bar",
         "x": [
          0,
          0.07462686567164178,
          0.029850746268656716,
          0,
          0,
          0,
          0,
          0,
          0,
          0,
          0,
          0,
          0,
          0,
          0,
          0
         ],
         "xaxis": "x2",
         "y": [
          "Electric Clothes Dryer",
          "Mininum Efficiency Heat Pump with Existing Heat Backup",
          "Mininum Efficiency Heat Pump with Electric Heat Backup",
          "Mininum Efficiency Whole Home Electrification",
          "Heat Pump Water Heater",
          "High Efficiency Heat Pump with Electric Heat Backup",
          "Basic Enclosure",
          "Basic Enclosure + HPWH + High Efficiency HP/Electric Backup",
          "Basic Enclosure + High Efficiency Whole Home Electrification",
          "Electric Cooking",
          "Enhanced Enclosure",
          "Enhanced Enclosure + HPWH + High Efficiency HP/Electric Backup",
          "Enhanced Enclosure + High Efficiency Whole Home Electrification",
          "Heat Pump Clothes Dryer",
          "High Efficiency Whole Home Electrification",
          "Induction Cooking"
         ],
         "yaxis": "y2"
        },
        {
         "marker": {
          "color": "green"
         },
         "orientation": "h",
         "showlegend": false,
         "text": [
          1,
          0.9253731343283582,
          0.9701492537313433,
          1,
          1,
          1,
          1,
          1,
          1,
          1,
          1,
          1,
          1,
          1,
          1,
          1
         ],
         "textposition": "inside",
         "texttemplate": "%{text:.0%}",
         "type": "bar",
         "x": [
          1,
          0.9253731343283582,
          0.9701492537313433,
          1,
          1,
          1,
          1,
          1,
          1,
          1,
          1,
          1,
          1,
          1,
          1,
          1
         ],
         "xaxis": "x2",
         "y": [
          "Electric Clothes Dryer",
          "Mininum Efficiency Heat Pump with Existing Heat Backup",
          "Mininum Efficiency Heat Pump with Electric Heat Backup",
          "Mininum Efficiency Whole Home Electrification",
          "Heat Pump Water Heater",
          "High Efficiency Heat Pump with Electric Heat Backup",
          "Basic Enclosure",
          "Basic Enclosure + HPWH + High Efficiency HP/Electric Backup",
          "Basic Enclosure + High Efficiency Whole Home Electrification",
          "Electric Cooking",
          "Enhanced Enclosure",
          "Enhanced Enclosure + HPWH + High Efficiency HP/Electric Backup",
          "Enhanced Enclosure + High Efficiency Whole Home Electrification",
          "Heat Pump Clothes Dryer",
          "High Efficiency Whole Home Electrification",
          "Induction Cooking"
         ],
         "yaxis": "y2"
        },
        {
         "marker": {
          "color": "red"
         },
         "orientation": "h",
         "showlegend": false,
         "text": [
          0,
          0.05970149253731343,
          0,
          0,
          0,
          0,
          0,
          0,
          0,
          0,
          0,
          0,
          0,
          0,
          0,
          0
         ],
         "textposition": "inside",
         "texttemplate": "%{text:.0%}",
         "type": "bar",
         "x": [
          0,
          0.05970149253731343,
          0,
          0,
          0,
          0,
          0,
          0,
          0,
          0,
          0,
          0,
          0,
          0,
          0,
          0
         ],
         "xaxis": "x3",
         "y": [
          "Electric Clothes Dryer",
          "Mininum Efficiency Heat Pump with Existing Heat Backup",
          "Mininum Efficiency Heat Pump with Electric Heat Backup",
          "Mininum Efficiency Whole Home Electrification",
          "Heat Pump Water Heater",
          "High Efficiency Heat Pump with Electric Heat Backup",
          "Basic Enclosure",
          "Basic Enclosure + HPWH + High Efficiency HP/Electric Backup",
          "Basic Enclosure + High Efficiency Whole Home Electrification",
          "Electric Cooking",
          "Enhanced Enclosure",
          "Enhanced Enclosure + HPWH + High Efficiency HP/Electric Backup",
          "Enhanced Enclosure + High Efficiency Whole Home Electrification",
          "Heat Pump Clothes Dryer",
          "High Efficiency Whole Home Electrification",
          "Induction Cooking"
         ],
         "yaxis": "y3"
        },
        {
         "marker": {
          "color": "green"
         },
         "orientation": "h",
         "showlegend": false,
         "text": [
          1,
          0.9402985074626866,
          1,
          1,
          1,
          1,
          1,
          1,
          1,
          1,
          1,
          1,
          1,
          1,
          1,
          1
         ],
         "textposition": "inside",
         "texttemplate": "%{text:.0%}",
         "type": "bar",
         "x": [
          1,
          0.9402985074626866,
          1,
          1,
          1,
          1,
          1,
          1,
          1,
          1,
          1,
          1,
          1,
          1,
          1,
          1
         ],
         "xaxis": "x3",
         "y": [
          "Electric Clothes Dryer",
          "Mininum Efficiency Heat Pump with Existing Heat Backup",
          "Mininum Efficiency Heat Pump with Electric Heat Backup",
          "Mininum Efficiency Whole Home Electrification",
          "Heat Pump Water Heater",
          "High Efficiency Heat Pump with Electric Heat Backup",
          "Basic Enclosure",
          "Basic Enclosure + HPWH + High Efficiency HP/Electric Backup",
          "Basic Enclosure + High Efficiency Whole Home Electrification",
          "Electric Cooking",
          "Enhanced Enclosure",
          "Enhanced Enclosure + HPWH + High Efficiency HP/Electric Backup",
          "Enhanced Enclosure + High Efficiency Whole Home Electrification",
          "Heat Pump Clothes Dryer",
          "High Efficiency Whole Home Electrification",
          "Induction Cooking"
         ],
         "yaxis": "y3"
        }
       ],
       "layout": {
        "autosize": false,
        "barmode": "relative",
        "font": {
         "size": 10
        },
        "height": 500,
        "template": {
         "data": {
          "bar": [
           {
            "error_x": {
             "color": "#2a3f5f"
            },
            "error_y": {
             "color": "#2a3f5f"
            },
            "marker": {
             "line": {
              "color": "#E5ECF6",
              "width": 0.5
             },
             "pattern": {
              "fillmode": "overlay",
              "size": 10,
              "solidity": 0.2
             }
            },
            "type": "bar"
           }
          ],
          "barpolar": [
           {
            "marker": {
             "line": {
              "color": "#E5ECF6",
              "width": 0.5
             },
             "pattern": {
              "fillmode": "overlay",
              "size": 10,
              "solidity": 0.2
             }
            },
            "type": "barpolar"
           }
          ],
          "carpet": [
           {
            "aaxis": {
             "endlinecolor": "#2a3f5f",
             "gridcolor": "white",
             "linecolor": "white",
             "minorgridcolor": "white",
             "startlinecolor": "#2a3f5f"
            },
            "baxis": {
             "endlinecolor": "#2a3f5f",
             "gridcolor": "white",
             "linecolor": "white",
             "minorgridcolor": "white",
             "startlinecolor": "#2a3f5f"
            },
            "type": "carpet"
           }
          ],
          "choropleth": [
           {
            "colorbar": {
             "outlinewidth": 0,
             "ticks": ""
            },
            "type": "choropleth"
           }
          ],
          "contour": [
           {
            "colorbar": {
             "outlinewidth": 0,
             "ticks": ""
            },
            "colorscale": [
             [
              0,
              "#0d0887"
             ],
             [
              0.1111111111111111,
              "#46039f"
             ],
             [
              0.2222222222222222,
              "#7201a8"
             ],
             [
              0.3333333333333333,
              "#9c179e"
             ],
             [
              0.4444444444444444,
              "#bd3786"
             ],
             [
              0.5555555555555556,
              "#d8576b"
             ],
             [
              0.6666666666666666,
              "#ed7953"
             ],
             [
              0.7777777777777778,
              "#fb9f3a"
             ],
             [
              0.8888888888888888,
              "#fdca26"
             ],
             [
              1,
              "#f0f921"
             ]
            ],
            "type": "contour"
           }
          ],
          "contourcarpet": [
           {
            "colorbar": {
             "outlinewidth": 0,
             "ticks": ""
            },
            "type": "contourcarpet"
           }
          ],
          "heatmap": [
           {
            "colorbar": {
             "outlinewidth": 0,
             "ticks": ""
            },
            "colorscale": [
             [
              0,
              "#0d0887"
             ],
             [
              0.1111111111111111,
              "#46039f"
             ],
             [
              0.2222222222222222,
              "#7201a8"
             ],
             [
              0.3333333333333333,
              "#9c179e"
             ],
             [
              0.4444444444444444,
              "#bd3786"
             ],
             [
              0.5555555555555556,
              "#d8576b"
             ],
             [
              0.6666666666666666,
              "#ed7953"
             ],
             [
              0.7777777777777778,
              "#fb9f3a"
             ],
             [
              0.8888888888888888,
              "#fdca26"
             ],
             [
              1,
              "#f0f921"
             ]
            ],
            "type": "heatmap"
           }
          ],
          "heatmapgl": [
           {
            "colorbar": {
             "outlinewidth": 0,
             "ticks": ""
            },
            "colorscale": [
             [
              0,
              "#0d0887"
             ],
             [
              0.1111111111111111,
              "#46039f"
             ],
             [
              0.2222222222222222,
              "#7201a8"
             ],
             [
              0.3333333333333333,
              "#9c179e"
             ],
             [
              0.4444444444444444,
              "#bd3786"
             ],
             [
              0.5555555555555556,
              "#d8576b"
             ],
             [
              0.6666666666666666,
              "#ed7953"
             ],
             [
              0.7777777777777778,
              "#fb9f3a"
             ],
             [
              0.8888888888888888,
              "#fdca26"
             ],
             [
              1,
              "#f0f921"
             ]
            ],
            "type": "heatmapgl"
           }
          ],
          "histogram": [
           {
            "marker": {
             "pattern": {
              "fillmode": "overlay",
              "size": 10,
              "solidity": 0.2
             }
            },
            "type": "histogram"
           }
          ],
          "histogram2d": [
           {
            "colorbar": {
             "outlinewidth": 0,
             "ticks": ""
            },
            "colorscale": [
             [
              0,
              "#0d0887"
             ],
             [
              0.1111111111111111,
              "#46039f"
             ],
             [
              0.2222222222222222,
              "#7201a8"
             ],
             [
              0.3333333333333333,
              "#9c179e"
             ],
             [
              0.4444444444444444,
              "#bd3786"
             ],
             [
              0.5555555555555556,
              "#d8576b"
             ],
             [
              0.6666666666666666,
              "#ed7953"
             ],
             [
              0.7777777777777778,
              "#fb9f3a"
             ],
             [
              0.8888888888888888,
              "#fdca26"
             ],
             [
              1,
              "#f0f921"
             ]
            ],
            "type": "histogram2d"
           }
          ],
          "histogram2dcontour": [
           {
            "colorbar": {
             "outlinewidth": 0,
             "ticks": ""
            },
            "colorscale": [
             [
              0,
              "#0d0887"
             ],
             [
              0.1111111111111111,
              "#46039f"
             ],
             [
              0.2222222222222222,
              "#7201a8"
             ],
             [
              0.3333333333333333,
              "#9c179e"
             ],
             [
              0.4444444444444444,
              "#bd3786"
             ],
             [
              0.5555555555555556,
              "#d8576b"
             ],
             [
              0.6666666666666666,
              "#ed7953"
             ],
             [
              0.7777777777777778,
              "#fb9f3a"
             ],
             [
              0.8888888888888888,
              "#fdca26"
             ],
             [
              1,
              "#f0f921"
             ]
            ],
            "type": "histogram2dcontour"
           }
          ],
          "mesh3d": [
           {
            "colorbar": {
             "outlinewidth": 0,
             "ticks": ""
            },
            "type": "mesh3d"
           }
          ],
          "parcoords": [
           {
            "line": {
             "colorbar": {
              "outlinewidth": 0,
              "ticks": ""
             }
            },
            "type": "parcoords"
           }
          ],
          "pie": [
           {
            "automargin": true,
            "type": "pie"
           }
          ],
          "scatter": [
           {
            "fillpattern": {
             "fillmode": "overlay",
             "size": 10,
             "solidity": 0.2
            },
            "type": "scatter"
           }
          ],
          "scatter3d": [
           {
            "line": {
             "colorbar": {
              "outlinewidth": 0,
              "ticks": ""
             }
            },
            "marker": {
             "colorbar": {
              "outlinewidth": 0,
              "ticks": ""
             }
            },
            "type": "scatter3d"
           }
          ],
          "scattercarpet": [
           {
            "marker": {
             "colorbar": {
              "outlinewidth": 0,
              "ticks": ""
             }
            },
            "type": "scattercarpet"
           }
          ],
          "scattergeo": [
           {
            "marker": {
             "colorbar": {
              "outlinewidth": 0,
              "ticks": ""
             }
            },
            "type": "scattergeo"
           }
          ],
          "scattergl": [
           {
            "marker": {
             "colorbar": {
              "outlinewidth": 0,
              "ticks": ""
             }
            },
            "type": "scattergl"
           }
          ],
          "scattermapbox": [
           {
            "marker": {
             "colorbar": {
              "outlinewidth": 0,
              "ticks": ""
             }
            },
            "type": "scattermapbox"
           }
          ],
          "scatterpolar": [
           {
            "marker": {
             "colorbar": {
              "outlinewidth": 0,
              "ticks": ""
             }
            },
            "type": "scatterpolar"
           }
          ],
          "scatterpolargl": [
           {
            "marker": {
             "colorbar": {
              "outlinewidth": 0,
              "ticks": ""
             }
            },
            "type": "scatterpolargl"
           }
          ],
          "scatterternary": [
           {
            "marker": {
             "colorbar": {
              "outlinewidth": 0,
              "ticks": ""
             }
            },
            "type": "scatterternary"
           }
          ],
          "surface": [
           {
            "colorbar": {
             "outlinewidth": 0,
             "ticks": ""
            },
            "colorscale": [
             [
              0,
              "#0d0887"
             ],
             [
              0.1111111111111111,
              "#46039f"
             ],
             [
              0.2222222222222222,
              "#7201a8"
             ],
             [
              0.3333333333333333,
              "#9c179e"
             ],
             [
              0.4444444444444444,
              "#bd3786"
             ],
             [
              0.5555555555555556,
              "#d8576b"
             ],
             [
              0.6666666666666666,
              "#ed7953"
             ],
             [
              0.7777777777777778,
              "#fb9f3a"
             ],
             [
              0.8888888888888888,
              "#fdca26"
             ],
             [
              1,
              "#f0f921"
             ]
            ],
            "type": "surface"
           }
          ],
          "table": [
           {
            "cells": {
             "fill": {
              "color": "#EBF0F8"
             },
             "line": {
              "color": "white"
             }
            },
            "header": {
             "fill": {
              "color": "#C8D4E3"
             },
             "line": {
              "color": "white"
             }
            },
            "type": "table"
           }
          ]
         },
         "layout": {
          "annotationdefaults": {
           "arrowcolor": "#2a3f5f",
           "arrowhead": 0,
           "arrowwidth": 1
          },
          "autotypenumbers": "strict",
          "coloraxis": {
           "colorbar": {
            "outlinewidth": 0,
            "ticks": ""
           }
          },
          "colorscale": {
           "diverging": [
            [
             0,
             "#8e0152"
            ],
            [
             0.1,
             "#c51b7d"
            ],
            [
             0.2,
             "#de77ae"
            ],
            [
             0.3,
             "#f1b6da"
            ],
            [
             0.4,
             "#fde0ef"
            ],
            [
             0.5,
             "#f7f7f7"
            ],
            [
             0.6,
             "#e6f5d0"
            ],
            [
             0.7,
             "#b8e186"
            ],
            [
             0.8,
             "#7fbc41"
            ],
            [
             0.9,
             "#4d9221"
            ],
            [
             1,
             "#276419"
            ]
           ],
           "sequential": [
            [
             0,
             "#0d0887"
            ],
            [
             0.1111111111111111,
             "#46039f"
            ],
            [
             0.2222222222222222,
             "#7201a8"
            ],
            [
             0.3333333333333333,
             "#9c179e"
            ],
            [
             0.4444444444444444,
             "#bd3786"
            ],
            [
             0.5555555555555556,
             "#d8576b"
            ],
            [
             0.6666666666666666,
             "#ed7953"
            ],
            [
             0.7777777777777778,
             "#fb9f3a"
            ],
            [
             0.8888888888888888,
             "#fdca26"
            ],
            [
             1,
             "#f0f921"
            ]
           ],
           "sequentialminus": [
            [
             0,
             "#0d0887"
            ],
            [
             0.1111111111111111,
             "#46039f"
            ],
            [
             0.2222222222222222,
             "#7201a8"
            ],
            [
             0.3333333333333333,
             "#9c179e"
            ],
            [
             0.4444444444444444,
             "#bd3786"
            ],
            [
             0.5555555555555556,
             "#d8576b"
            ],
            [
             0.6666666666666666,
             "#ed7953"
            ],
            [
             0.7777777777777778,
             "#fb9f3a"
            ],
            [
             0.8888888888888888,
             "#fdca26"
            ],
            [
             1,
             "#f0f921"
            ]
           ]
          },
          "colorway": [
           "#636efa",
           "#EF553B",
           "#00cc96",
           "#ab63fa",
           "#FFA15A",
           "#19d3f3",
           "#FF6692",
           "#B6E880",
           "#FF97FF",
           "#FECB52"
          ],
          "font": {
           "color": "#2a3f5f"
          },
          "geo": {
           "bgcolor": "white",
           "lakecolor": "white",
           "landcolor": "#E5ECF6",
           "showlakes": true,
           "showland": true,
           "subunitcolor": "white"
          },
          "hoverlabel": {
           "align": "left"
          },
          "hovermode": "closest",
          "mapbox": {
           "style": "light"
          },
          "paper_bgcolor": "white",
          "plot_bgcolor": "#E5ECF6",
          "polar": {
           "angularaxis": {
            "gridcolor": "white",
            "linecolor": "white",
            "ticks": ""
           },
           "bgcolor": "#E5ECF6",
           "radialaxis": {
            "gridcolor": "white",
            "linecolor": "white",
            "ticks": ""
           }
          },
          "scene": {
           "xaxis": {
            "backgroundcolor": "#E5ECF6",
            "gridcolor": "white",
            "gridwidth": 2,
            "linecolor": "white",
            "showbackground": true,
            "ticks": "",
            "zerolinecolor": "white"
           },
           "yaxis": {
            "backgroundcolor": "#E5ECF6",
            "gridcolor": "white",
            "gridwidth": 2,
            "linecolor": "white",
            "showbackground": true,
            "ticks": "",
            "zerolinecolor": "white"
           },
           "zaxis": {
            "backgroundcolor": "#E5ECF6",
            "gridcolor": "white",
            "gridwidth": 2,
            "linecolor": "white",
            "showbackground": true,
            "ticks": "",
            "zerolinecolor": "white"
           }
          },
          "shapedefaults": {
           "line": {
            "color": "#2a3f5f"
           }
          },
          "ternary": {
           "aaxis": {
            "gridcolor": "white",
            "linecolor": "white",
            "ticks": ""
           },
           "baxis": {
            "gridcolor": "white",
            "linecolor": "white",
            "ticks": ""
           },
           "bgcolor": "#E5ECF6",
           "caxis": {
            "gridcolor": "white",
            "linecolor": "white",
            "ticks": ""
           }
          },
          "title": {
           "x": 0.05
          },
          "xaxis": {
           "automargin": true,
           "gridcolor": "white",
           "linecolor": "white",
           "ticks": "",
           "title": {
            "standoff": 15
           },
           "zerolinecolor": "white",
           "zerolinewidth": 2
          },
          "yaxis": {
           "automargin": true,
           "gridcolor": "white",
           "linecolor": "white",
           "ticks": "",
           "title": {
            "standoff": 15
           },
           "zerolinecolor": "white",
           "zerolinewidth": 2
          }
         }
        },
        "title": {
         "text": "Percentage of Household in Positive and Negative Savings"
        },
        "width": 1000,
        "xaxis": {
         "anchor": "y",
         "domain": [
          0,
          0.2888888888888889
         ],
         "tickformat": ",.0%",
         "title": {
          "text": "Bill"
         },
         "visible": true
        },
        "xaxis2": {
         "anchor": "y2",
         "domain": [
          0.35555555555555557,
          0.6444444444444445
         ],
         "tickformat": ",.0%",
         "title": {
          "text": "Emission"
         },
         "visible": true
        },
        "xaxis3": {
         "anchor": "y3",
         "domain": [
          0.7111111111111111,
          1
         ],
         "tickformat": ",.0%",
         "title": {
          "text": "Total Energy"
         },
         "visible": true
        },
        "yaxis": {
         "anchor": "x",
         "domain": [
          0,
          1
         ],
         "visible": true
        },
        "yaxis2": {
         "anchor": "x2",
         "domain": [
          0,
          1
         ],
         "visible": false
        },
        "yaxis3": {
         "anchor": "x3",
         "domain": [
          0,
          1
         ],
         "visible": false
        }
       }
      }
     },
     "metadata": {},
     "output_type": "display_data"
    }
   ],
   "source": [
    "segment = 'segment1'\n",
    "results = figure_positive_negative_savings(segment, income, community_results) \n",
    "saving_results[f'segment1_{income}_pct_bill_positive_savings_%'] = results[0]*100\n",
    "saving_results[f'segment1_{income}_pct_emission_positive_savings_%'] = results[1]*100\n",
    "saving_results[f'segment1_{income}_pct_energy_positive_savings_%'] = results[2]*100"
   ]
  },
  {
   "cell_type": "markdown",
   "id": "8494ec4f",
   "metadata": {},
   "source": [
    "### Segment 2"
   ]
  },
  {
   "cell_type": "code",
   "execution_count": 50,
   "id": "e2c5e7d1",
   "metadata": {},
   "outputs": [
    {
     "data": {
      "application/vnd.plotly.v1+json": {
       "config": {
        "plotlyServerURL": "https://plot.ly"
       },
       "data": [
        {
         "marker": {
          "color": "red"
         },
         "name": "Negative",
         "orientation": "h",
         "text": [
          0.5,
          0.4,
          0.36363636363636365,
          0.06818181818181818,
          0.03409090909090909,
          0.03409090909090909,
          0.011764705882352941,
          0.011627906976744186,
          0,
          0,
          0,
          0,
          0,
          0,
          0,
          0
         ],
         "textposition": "inside",
         "texttemplate": "%{text:.0%}",
         "type": "bar",
         "x": [
          0.5,
          0.4,
          0.36363636363636365,
          0.06818181818181818,
          0.03409090909090909,
          0.03409090909090909,
          0.011764705882352941,
          0.011627906976744186,
          0,
          0,
          0,
          0,
          0,
          0,
          0,
          0
         ],
         "xaxis": "x",
         "y": [
          "Electric Clothes Dryer",
          "Electric Cooking",
          "Mininum Efficiency Whole Home Electrification",
          "Induction Cooking",
          "Mininum Efficiency Heat Pump with Electric Heat Backup",
          "Mininum Efficiency Heat Pump with Existing Heat Backup",
          "Heat Pump Clothes Dryer",
          "Heat Pump Water Heater",
          "Basic Enclosure",
          "Basic Enclosure + HPWH + High Efficiency HP/Electric Backup",
          "Basic Enclosure + High Efficiency Whole Home Electrification",
          "Enhanced Enclosure",
          "Enhanced Enclosure + HPWH + High Efficiency HP/Electric Backup",
          "Enhanced Enclosure + High Efficiency Whole Home Electrification",
          "High Efficiency Heat Pump with Electric Heat Backup",
          "High Efficiency Whole Home Electrification"
         ],
         "yaxis": "y"
        },
        {
         "marker": {
          "color": "green"
         },
         "name": "Positive",
         "orientation": "h",
         "text": [
          0.5,
          0.6,
          0.6363636363636364,
          0.9318181818181818,
          0.9659090909090909,
          0.9659090909090909,
          0.9882352941176471,
          0.9883720930232558,
          1,
          1,
          1,
          1,
          1,
          1,
          1,
          1
         ],
         "textposition": "inside",
         "texttemplate": "%{text:.0%}",
         "type": "bar",
         "x": [
          0.5,
          0.6,
          0.6363636363636364,
          0.9318181818181818,
          0.9659090909090909,
          0.9659090909090909,
          0.9882352941176471,
          0.9883720930232558,
          1,
          1,
          1,
          1,
          1,
          1,
          1,
          1
         ],
         "xaxis": "x",
         "y": [
          "Electric Clothes Dryer",
          "Electric Cooking",
          "Mininum Efficiency Whole Home Electrification",
          "Induction Cooking",
          "Mininum Efficiency Heat Pump with Electric Heat Backup",
          "Mininum Efficiency Heat Pump with Existing Heat Backup",
          "Heat Pump Clothes Dryer",
          "Heat Pump Water Heater",
          "Basic Enclosure",
          "Basic Enclosure + HPWH + High Efficiency HP/Electric Backup",
          "Basic Enclosure + High Efficiency Whole Home Electrification",
          "Enhanced Enclosure",
          "Enhanced Enclosure + HPWH + High Efficiency HP/Electric Backup",
          "Enhanced Enclosure + High Efficiency Whole Home Electrification",
          "High Efficiency Heat Pump with Electric Heat Backup",
          "High Efficiency Whole Home Electrification"
         ],
         "yaxis": "y"
        },
        {
         "marker": {
          "color": "red"
         },
         "orientation": "h",
         "showlegend": false,
         "text": [
          0,
          0,
          0,
          0,
          0.011363636363636364,
          0.011363636363636364,
          0,
          0,
          0,
          0,
          0,
          0,
          0,
          0,
          0,
          0
         ],
         "textposition": "inside",
         "texttemplate": "%{text:.0%}",
         "type": "bar",
         "x": [
          0,
          0,
          0,
          0,
          0.011363636363636364,
          0.011363636363636364,
          0,
          0,
          0,
          0,
          0,
          0,
          0,
          0,
          0,
          0
         ],
         "xaxis": "x2",
         "y": [
          "Electric Clothes Dryer",
          "Electric Cooking",
          "Mininum Efficiency Whole Home Electrification",
          "Induction Cooking",
          "Mininum Efficiency Heat Pump with Electric Heat Backup",
          "Mininum Efficiency Heat Pump with Existing Heat Backup",
          "Heat Pump Clothes Dryer",
          "Heat Pump Water Heater",
          "Basic Enclosure",
          "Basic Enclosure + HPWH + High Efficiency HP/Electric Backup",
          "Basic Enclosure + High Efficiency Whole Home Electrification",
          "Enhanced Enclosure",
          "Enhanced Enclosure + HPWH + High Efficiency HP/Electric Backup",
          "Enhanced Enclosure + High Efficiency Whole Home Electrification",
          "High Efficiency Heat Pump with Electric Heat Backup",
          "High Efficiency Whole Home Electrification"
         ],
         "yaxis": "y2"
        },
        {
         "marker": {
          "color": "green"
         },
         "orientation": "h",
         "showlegend": false,
         "text": [
          1,
          1,
          1,
          1,
          0.9886363636363636,
          0.9886363636363636,
          1,
          1,
          1,
          1,
          1,
          1,
          1,
          1,
          1,
          1
         ],
         "textposition": "inside",
         "texttemplate": "%{text:.0%}",
         "type": "bar",
         "x": [
          1,
          1,
          1,
          1,
          0.9886363636363636,
          0.9886363636363636,
          1,
          1,
          1,
          1,
          1,
          1,
          1,
          1,
          1,
          1
         ],
         "xaxis": "x2",
         "y": [
          "Electric Clothes Dryer",
          "Electric Cooking",
          "Mininum Efficiency Whole Home Electrification",
          "Induction Cooking",
          "Mininum Efficiency Heat Pump with Electric Heat Backup",
          "Mininum Efficiency Heat Pump with Existing Heat Backup",
          "Heat Pump Clothes Dryer",
          "Heat Pump Water Heater",
          "Basic Enclosure",
          "Basic Enclosure + HPWH + High Efficiency HP/Electric Backup",
          "Basic Enclosure + High Efficiency Whole Home Electrification",
          "Enhanced Enclosure",
          "Enhanced Enclosure + HPWH + High Efficiency HP/Electric Backup",
          "Enhanced Enclosure + High Efficiency Whole Home Electrification",
          "High Efficiency Heat Pump with Electric Heat Backup",
          "High Efficiency Whole Home Electrification"
         ],
         "yaxis": "y2"
        },
        {
         "marker": {
          "color": "red"
         },
         "orientation": "h",
         "showlegend": false,
         "text": [
          0,
          0,
          0,
          0,
          0.022727272727272728,
          0.022727272727272728,
          0,
          0,
          0,
          0,
          0,
          0,
          0,
          0,
          0,
          0
         ],
         "textposition": "inside",
         "texttemplate": "%{text:.0%}",
         "type": "bar",
         "x": [
          0,
          0,
          0,
          0,
          0.022727272727272728,
          0.022727272727272728,
          0,
          0,
          0,
          0,
          0,
          0,
          0,
          0,
          0,
          0
         ],
         "xaxis": "x3",
         "y": [
          "Electric Clothes Dryer",
          "Electric Cooking",
          "Mininum Efficiency Whole Home Electrification",
          "Induction Cooking",
          "Mininum Efficiency Heat Pump with Electric Heat Backup",
          "Mininum Efficiency Heat Pump with Existing Heat Backup",
          "Heat Pump Clothes Dryer",
          "Heat Pump Water Heater",
          "Basic Enclosure",
          "Basic Enclosure + HPWH + High Efficiency HP/Electric Backup",
          "Basic Enclosure + High Efficiency Whole Home Electrification",
          "Enhanced Enclosure",
          "Enhanced Enclosure + HPWH + High Efficiency HP/Electric Backup",
          "Enhanced Enclosure + High Efficiency Whole Home Electrification",
          "High Efficiency Heat Pump with Electric Heat Backup",
          "High Efficiency Whole Home Electrification"
         ],
         "yaxis": "y3"
        },
        {
         "marker": {
          "color": "green"
         },
         "orientation": "h",
         "showlegend": false,
         "text": [
          1,
          1,
          1,
          1,
          0.9772727272727273,
          0.9772727272727273,
          1,
          1,
          1,
          1,
          1,
          1,
          1,
          1,
          1,
          1
         ],
         "textposition": "inside",
         "texttemplate": "%{text:.0%}",
         "type": "bar",
         "x": [
          1,
          1,
          1,
          1,
          0.9772727272727273,
          0.9772727272727273,
          1,
          1,
          1,
          1,
          1,
          1,
          1,
          1,
          1,
          1
         ],
         "xaxis": "x3",
         "y": [
          "Electric Clothes Dryer",
          "Electric Cooking",
          "Mininum Efficiency Whole Home Electrification",
          "Induction Cooking",
          "Mininum Efficiency Heat Pump with Electric Heat Backup",
          "Mininum Efficiency Heat Pump with Existing Heat Backup",
          "Heat Pump Clothes Dryer",
          "Heat Pump Water Heater",
          "Basic Enclosure",
          "Basic Enclosure + HPWH + High Efficiency HP/Electric Backup",
          "Basic Enclosure + High Efficiency Whole Home Electrification",
          "Enhanced Enclosure",
          "Enhanced Enclosure + HPWH + High Efficiency HP/Electric Backup",
          "Enhanced Enclosure + High Efficiency Whole Home Electrification",
          "High Efficiency Heat Pump with Electric Heat Backup",
          "High Efficiency Whole Home Electrification"
         ],
         "yaxis": "y3"
        }
       ],
       "layout": {
        "autosize": false,
        "barmode": "relative",
        "font": {
         "size": 10
        },
        "height": 500,
        "template": {
         "data": {
          "bar": [
           {
            "error_x": {
             "color": "#2a3f5f"
            },
            "error_y": {
             "color": "#2a3f5f"
            },
            "marker": {
             "line": {
              "color": "#E5ECF6",
              "width": 0.5
             },
             "pattern": {
              "fillmode": "overlay",
              "size": 10,
              "solidity": 0.2
             }
            },
            "type": "bar"
           }
          ],
          "barpolar": [
           {
            "marker": {
             "line": {
              "color": "#E5ECF6",
              "width": 0.5
             },
             "pattern": {
              "fillmode": "overlay",
              "size": 10,
              "solidity": 0.2
             }
            },
            "type": "barpolar"
           }
          ],
          "carpet": [
           {
            "aaxis": {
             "endlinecolor": "#2a3f5f",
             "gridcolor": "white",
             "linecolor": "white",
             "minorgridcolor": "white",
             "startlinecolor": "#2a3f5f"
            },
            "baxis": {
             "endlinecolor": "#2a3f5f",
             "gridcolor": "white",
             "linecolor": "white",
             "minorgridcolor": "white",
             "startlinecolor": "#2a3f5f"
            },
            "type": "carpet"
           }
          ],
          "choropleth": [
           {
            "colorbar": {
             "outlinewidth": 0,
             "ticks": ""
            },
            "type": "choropleth"
           }
          ],
          "contour": [
           {
            "colorbar": {
             "outlinewidth": 0,
             "ticks": ""
            },
            "colorscale": [
             [
              0,
              "#0d0887"
             ],
             [
              0.1111111111111111,
              "#46039f"
             ],
             [
              0.2222222222222222,
              "#7201a8"
             ],
             [
              0.3333333333333333,
              "#9c179e"
             ],
             [
              0.4444444444444444,
              "#bd3786"
             ],
             [
              0.5555555555555556,
              "#d8576b"
             ],
             [
              0.6666666666666666,
              "#ed7953"
             ],
             [
              0.7777777777777778,
              "#fb9f3a"
             ],
             [
              0.8888888888888888,
              "#fdca26"
             ],
             [
              1,
              "#f0f921"
             ]
            ],
            "type": "contour"
           }
          ],
          "contourcarpet": [
           {
            "colorbar": {
             "outlinewidth": 0,
             "ticks": ""
            },
            "type": "contourcarpet"
           }
          ],
          "heatmap": [
           {
            "colorbar": {
             "outlinewidth": 0,
             "ticks": ""
            },
            "colorscale": [
             [
              0,
              "#0d0887"
             ],
             [
              0.1111111111111111,
              "#46039f"
             ],
             [
              0.2222222222222222,
              "#7201a8"
             ],
             [
              0.3333333333333333,
              "#9c179e"
             ],
             [
              0.4444444444444444,
              "#bd3786"
             ],
             [
              0.5555555555555556,
              "#d8576b"
             ],
             [
              0.6666666666666666,
              "#ed7953"
             ],
             [
              0.7777777777777778,
              "#fb9f3a"
             ],
             [
              0.8888888888888888,
              "#fdca26"
             ],
             [
              1,
              "#f0f921"
             ]
            ],
            "type": "heatmap"
           }
          ],
          "heatmapgl": [
           {
            "colorbar": {
             "outlinewidth": 0,
             "ticks": ""
            },
            "colorscale": [
             [
              0,
              "#0d0887"
             ],
             [
              0.1111111111111111,
              "#46039f"
             ],
             [
              0.2222222222222222,
              "#7201a8"
             ],
             [
              0.3333333333333333,
              "#9c179e"
             ],
             [
              0.4444444444444444,
              "#bd3786"
             ],
             [
              0.5555555555555556,
              "#d8576b"
             ],
             [
              0.6666666666666666,
              "#ed7953"
             ],
             [
              0.7777777777777778,
              "#fb9f3a"
             ],
             [
              0.8888888888888888,
              "#fdca26"
             ],
             [
              1,
              "#f0f921"
             ]
            ],
            "type": "heatmapgl"
           }
          ],
          "histogram": [
           {
            "marker": {
             "pattern": {
              "fillmode": "overlay",
              "size": 10,
              "solidity": 0.2
             }
            },
            "type": "histogram"
           }
          ],
          "histogram2d": [
           {
            "colorbar": {
             "outlinewidth": 0,
             "ticks": ""
            },
            "colorscale": [
             [
              0,
              "#0d0887"
             ],
             [
              0.1111111111111111,
              "#46039f"
             ],
             [
              0.2222222222222222,
              "#7201a8"
             ],
             [
              0.3333333333333333,
              "#9c179e"
             ],
             [
              0.4444444444444444,
              "#bd3786"
             ],
             [
              0.5555555555555556,
              "#d8576b"
             ],
             [
              0.6666666666666666,
              "#ed7953"
             ],
             [
              0.7777777777777778,
              "#fb9f3a"
             ],
             [
              0.8888888888888888,
              "#fdca26"
             ],
             [
              1,
              "#f0f921"
             ]
            ],
            "type": "histogram2d"
           }
          ],
          "histogram2dcontour": [
           {
            "colorbar": {
             "outlinewidth": 0,
             "ticks": ""
            },
            "colorscale": [
             [
              0,
              "#0d0887"
             ],
             [
              0.1111111111111111,
              "#46039f"
             ],
             [
              0.2222222222222222,
              "#7201a8"
             ],
             [
              0.3333333333333333,
              "#9c179e"
             ],
             [
              0.4444444444444444,
              "#bd3786"
             ],
             [
              0.5555555555555556,
              "#d8576b"
             ],
             [
              0.6666666666666666,
              "#ed7953"
             ],
             [
              0.7777777777777778,
              "#fb9f3a"
             ],
             [
              0.8888888888888888,
              "#fdca26"
             ],
             [
              1,
              "#f0f921"
             ]
            ],
            "type": "histogram2dcontour"
           }
          ],
          "mesh3d": [
           {
            "colorbar": {
             "outlinewidth": 0,
             "ticks": ""
            },
            "type": "mesh3d"
           }
          ],
          "parcoords": [
           {
            "line": {
             "colorbar": {
              "outlinewidth": 0,
              "ticks": ""
             }
            },
            "type": "parcoords"
           }
          ],
          "pie": [
           {
            "automargin": true,
            "type": "pie"
           }
          ],
          "scatter": [
           {
            "fillpattern": {
             "fillmode": "overlay",
             "size": 10,
             "solidity": 0.2
            },
            "type": "scatter"
           }
          ],
          "scatter3d": [
           {
            "line": {
             "colorbar": {
              "outlinewidth": 0,
              "ticks": ""
             }
            },
            "marker": {
             "colorbar": {
              "outlinewidth": 0,
              "ticks": ""
             }
            },
            "type": "scatter3d"
           }
          ],
          "scattercarpet": [
           {
            "marker": {
             "colorbar": {
              "outlinewidth": 0,
              "ticks": ""
             }
            },
            "type": "scattercarpet"
           }
          ],
          "scattergeo": [
           {
            "marker": {
             "colorbar": {
              "outlinewidth": 0,
              "ticks": ""
             }
            },
            "type": "scattergeo"
           }
          ],
          "scattergl": [
           {
            "marker": {
             "colorbar": {
              "outlinewidth": 0,
              "ticks": ""
             }
            },
            "type": "scattergl"
           }
          ],
          "scattermapbox": [
           {
            "marker": {
             "colorbar": {
              "outlinewidth": 0,
              "ticks": ""
             }
            },
            "type": "scattermapbox"
           }
          ],
          "scatterpolar": [
           {
            "marker": {
             "colorbar": {
              "outlinewidth": 0,
              "ticks": ""
             }
            },
            "type": "scatterpolar"
           }
          ],
          "scatterpolargl": [
           {
            "marker": {
             "colorbar": {
              "outlinewidth": 0,
              "ticks": ""
             }
            },
            "type": "scatterpolargl"
           }
          ],
          "scatterternary": [
           {
            "marker": {
             "colorbar": {
              "outlinewidth": 0,
              "ticks": ""
             }
            },
            "type": "scatterternary"
           }
          ],
          "surface": [
           {
            "colorbar": {
             "outlinewidth": 0,
             "ticks": ""
            },
            "colorscale": [
             [
              0,
              "#0d0887"
             ],
             [
              0.1111111111111111,
              "#46039f"
             ],
             [
              0.2222222222222222,
              "#7201a8"
             ],
             [
              0.3333333333333333,
              "#9c179e"
             ],
             [
              0.4444444444444444,
              "#bd3786"
             ],
             [
              0.5555555555555556,
              "#d8576b"
             ],
             [
              0.6666666666666666,
              "#ed7953"
             ],
             [
              0.7777777777777778,
              "#fb9f3a"
             ],
             [
              0.8888888888888888,
              "#fdca26"
             ],
             [
              1,
              "#f0f921"
             ]
            ],
            "type": "surface"
           }
          ],
          "table": [
           {
            "cells": {
             "fill": {
              "color": "#EBF0F8"
             },
             "line": {
              "color": "white"
             }
            },
            "header": {
             "fill": {
              "color": "#C8D4E3"
             },
             "line": {
              "color": "white"
             }
            },
            "type": "table"
           }
          ]
         },
         "layout": {
          "annotationdefaults": {
           "arrowcolor": "#2a3f5f",
           "arrowhead": 0,
           "arrowwidth": 1
          },
          "autotypenumbers": "strict",
          "coloraxis": {
           "colorbar": {
            "outlinewidth": 0,
            "ticks": ""
           }
          },
          "colorscale": {
           "diverging": [
            [
             0,
             "#8e0152"
            ],
            [
             0.1,
             "#c51b7d"
            ],
            [
             0.2,
             "#de77ae"
            ],
            [
             0.3,
             "#f1b6da"
            ],
            [
             0.4,
             "#fde0ef"
            ],
            [
             0.5,
             "#f7f7f7"
            ],
            [
             0.6,
             "#e6f5d0"
            ],
            [
             0.7,
             "#b8e186"
            ],
            [
             0.8,
             "#7fbc41"
            ],
            [
             0.9,
             "#4d9221"
            ],
            [
             1,
             "#276419"
            ]
           ],
           "sequential": [
            [
             0,
             "#0d0887"
            ],
            [
             0.1111111111111111,
             "#46039f"
            ],
            [
             0.2222222222222222,
             "#7201a8"
            ],
            [
             0.3333333333333333,
             "#9c179e"
            ],
            [
             0.4444444444444444,
             "#bd3786"
            ],
            [
             0.5555555555555556,
             "#d8576b"
            ],
            [
             0.6666666666666666,
             "#ed7953"
            ],
            [
             0.7777777777777778,
             "#fb9f3a"
            ],
            [
             0.8888888888888888,
             "#fdca26"
            ],
            [
             1,
             "#f0f921"
            ]
           ],
           "sequentialminus": [
            [
             0,
             "#0d0887"
            ],
            [
             0.1111111111111111,
             "#46039f"
            ],
            [
             0.2222222222222222,
             "#7201a8"
            ],
            [
             0.3333333333333333,
             "#9c179e"
            ],
            [
             0.4444444444444444,
             "#bd3786"
            ],
            [
             0.5555555555555556,
             "#d8576b"
            ],
            [
             0.6666666666666666,
             "#ed7953"
            ],
            [
             0.7777777777777778,
             "#fb9f3a"
            ],
            [
             0.8888888888888888,
             "#fdca26"
            ],
            [
             1,
             "#f0f921"
            ]
           ]
          },
          "colorway": [
           "#636efa",
           "#EF553B",
           "#00cc96",
           "#ab63fa",
           "#FFA15A",
           "#19d3f3",
           "#FF6692",
           "#B6E880",
           "#FF97FF",
           "#FECB52"
          ],
          "font": {
           "color": "#2a3f5f"
          },
          "geo": {
           "bgcolor": "white",
           "lakecolor": "white",
           "landcolor": "#E5ECF6",
           "showlakes": true,
           "showland": true,
           "subunitcolor": "white"
          },
          "hoverlabel": {
           "align": "left"
          },
          "hovermode": "closest",
          "mapbox": {
           "style": "light"
          },
          "paper_bgcolor": "white",
          "plot_bgcolor": "#E5ECF6",
          "polar": {
           "angularaxis": {
            "gridcolor": "white",
            "linecolor": "white",
            "ticks": ""
           },
           "bgcolor": "#E5ECF6",
           "radialaxis": {
            "gridcolor": "white",
            "linecolor": "white",
            "ticks": ""
           }
          },
          "scene": {
           "xaxis": {
            "backgroundcolor": "#E5ECF6",
            "gridcolor": "white",
            "gridwidth": 2,
            "linecolor": "white",
            "showbackground": true,
            "ticks": "",
            "zerolinecolor": "white"
           },
           "yaxis": {
            "backgroundcolor": "#E5ECF6",
            "gridcolor": "white",
            "gridwidth": 2,
            "linecolor": "white",
            "showbackground": true,
            "ticks": "",
            "zerolinecolor": "white"
           },
           "zaxis": {
            "backgroundcolor": "#E5ECF6",
            "gridcolor": "white",
            "gridwidth": 2,
            "linecolor": "white",
            "showbackground": true,
            "ticks": "",
            "zerolinecolor": "white"
           }
          },
          "shapedefaults": {
           "line": {
            "color": "#2a3f5f"
           }
          },
          "ternary": {
           "aaxis": {
            "gridcolor": "white",
            "linecolor": "white",
            "ticks": ""
           },
           "baxis": {
            "gridcolor": "white",
            "linecolor": "white",
            "ticks": ""
           },
           "bgcolor": "#E5ECF6",
           "caxis": {
            "gridcolor": "white",
            "linecolor": "white",
            "ticks": ""
           }
          },
          "title": {
           "x": 0.05
          },
          "xaxis": {
           "automargin": true,
           "gridcolor": "white",
           "linecolor": "white",
           "ticks": "",
           "title": {
            "standoff": 15
           },
           "zerolinecolor": "white",
           "zerolinewidth": 2
          },
          "yaxis": {
           "automargin": true,
           "gridcolor": "white",
           "linecolor": "white",
           "ticks": "",
           "title": {
            "standoff": 15
           },
           "zerolinecolor": "white",
           "zerolinewidth": 2
          }
         }
        },
        "title": {
         "text": "Percentage of Household in Positive and Negative Savings"
        },
        "width": 1000,
        "xaxis": {
         "anchor": "y",
         "domain": [
          0,
          0.2888888888888889
         ],
         "tickformat": ",.0%",
         "title": {
          "text": "Bill"
         },
         "visible": true
        },
        "xaxis2": {
         "anchor": "y2",
         "domain": [
          0.35555555555555557,
          0.6444444444444445
         ],
         "tickformat": ",.0%",
         "title": {
          "text": "Emission"
         },
         "visible": true
        },
        "xaxis3": {
         "anchor": "y3",
         "domain": [
          0.7111111111111111,
          1
         ],
         "tickformat": ",.0%",
         "title": {
          "text": "Total Energy"
         },
         "visible": true
        },
        "yaxis": {
         "anchor": "x",
         "domain": [
          0,
          1
         ],
         "visible": true
        },
        "yaxis2": {
         "anchor": "x2",
         "domain": [
          0,
          1
         ],
         "visible": false
        },
        "yaxis3": {
         "anchor": "x3",
         "domain": [
          0,
          1
         ],
         "visible": false
        }
       }
      }
     },
     "metadata": {},
     "output_type": "display_data"
    }
   ],
   "source": [
    "segment = 'segment2'\n",
    "results = figure_positive_negative_savings(segment, income, community_results)\n",
    "saving_results[f'segment2_{income}_pct_bill_positive_savings_%'] = results[0]*100\n",
    "saving_results[f'segment2_{income}_pct_emission_positive_savings_%'] = results[1]*100\n",
    "saving_results[f'segment2_{income}_pct_energy_positive_savings_%'] = results[2]*100"
   ]
  },
  {
   "cell_type": "markdown",
   "id": "45f2fa39",
   "metadata": {},
   "source": [
    "## 3.6. Average Energy Burden (%) Before and after Upgrade"
   ]
  },
  {
   "cell_type": "code",
   "execution_count": 51,
   "id": "9b9fbe35",
   "metadata": {},
   "outputs": [
    {
     "name": "stdout",
     "output_type": "stream",
     "text": [
      "energy burden (%) before and after upgrade\n",
      "segment1\n"
     ]
    },
    {
     "name": "stderr",
     "output_type": "stream",
     "text": [
      "/var/folders/qt/5nrnlf6148z2jxyxx_5yqgl0z8pq2p/T/ipykernel_79926/2800418672.py:4: SettingWithCopyWarning:\n",
      "\n",
      "\n",
      "A value is trying to be set on a copy of a slice from a DataFrame\n",
      "\n",
      "See the caveats in the documentation: https://pandas.pydata.org/pandas-docs/stable/user_guide/indexing.html#returning-a-view-versus-a-copy\n",
      "\n",
      "/var/folders/qt/5nrnlf6148z2jxyxx_5yqgl0z8pq2p/T/ipykernel_79926/2800418672.py:5: SettingWithCopyWarning:\n",
      "\n",
      "\n",
      "A value is trying to be set on a copy of a slice from a DataFrame\n",
      "\n",
      "See the caveats in the documentation: https://pandas.pydata.org/pandas-docs/stable/user_guide/indexing.html#returning-a-view-versus-a-copy\n",
      "\n",
      "/var/folders/qt/5nrnlf6148z2jxyxx_5yqgl0z8pq2p/T/ipykernel_79926/2800418672.py:6: SettingWithCopyWarning:\n",
      "\n",
      "\n",
      "A value is trying to be set on a copy of a slice from a DataFrame.\n",
      "Try using .loc[row_indexer,col_indexer] = value instead\n",
      "\n",
      "See the caveats in the documentation: https://pandas.pydata.org/pandas-docs/stable/user_guide/indexing.html#returning-a-view-versus-a-copy\n",
      "\n",
      "/var/folders/qt/5nrnlf6148z2jxyxx_5yqgl0z8pq2p/T/ipykernel_79926/2800418672.py:7: SettingWithCopyWarning:\n",
      "\n",
      "\n",
      "A value is trying to be set on a copy of a slice from a DataFrame.\n",
      "Try using .loc[row_indexer,col_indexer] = value instead\n",
      "\n",
      "See the caveats in the documentation: https://pandas.pydata.org/pandas-docs/stable/user_guide/indexing.html#returning-a-view-versus-a-copy\n",
      "\n"
     ]
    },
    {
     "data": {
      "text/html": [
       "<div>\n",
       "<style scoped>\n",
       "    .dataframe tbody tr th:only-of-type {\n",
       "        vertical-align: middle;\n",
       "    }\n",
       "\n",
       "    .dataframe tbody tr th {\n",
       "        vertical-align: top;\n",
       "    }\n",
       "\n",
       "    .dataframe thead th {\n",
       "        text-align: right;\n",
       "    }\n",
       "</style>\n",
       "<table border=\"1\" class=\"dataframe\">\n",
       "  <thead>\n",
       "    <tr style=\"text-align: right;\">\n",
       "      <th></th>\n",
       "      <th>before</th>\n",
       "      <th>after</th>\n",
       "    </tr>\n",
       "    <tr>\n",
       "      <th>upgrade_name</th>\n",
       "      <th></th>\n",
       "      <th></th>\n",
       "    </tr>\n",
       "  </thead>\n",
       "  <tbody>\n",
       "    <tr>\n",
       "      <th>Enhanced Enclosure + High Efficiency Whole Home Electrification</th>\n",
       "      <td>15.6</td>\n",
       "      <td>7.7</td>\n",
       "    </tr>\n",
       "    <tr>\n",
       "      <th>Enhanced Enclosure + HPWH + High Efficiency HP/Electric Backup</th>\n",
       "      <td>15.6</td>\n",
       "      <td>7.7</td>\n",
       "    </tr>\n",
       "    <tr>\n",
       "      <th>Basic Enclosure + High Efficiency Whole Home Electrification</th>\n",
       "      <td>15.6</td>\n",
       "      <td>7.8</td>\n",
       "    </tr>\n",
       "    <tr>\n",
       "      <th>Basic Enclosure + HPWH + High Efficiency HP/Electric Backup</th>\n",
       "      <td>15.6</td>\n",
       "      <td>7.8</td>\n",
       "    </tr>\n",
       "    <tr>\n",
       "      <th>High Efficiency Whole Home Electrification</th>\n",
       "      <td>15.6</td>\n",
       "      <td>8.8</td>\n",
       "    </tr>\n",
       "    <tr>\n",
       "      <th>High Efficiency Heat Pump with Electric Heat Backup</th>\n",
       "      <td>15.6</td>\n",
       "      <td>10.6</td>\n",
       "    </tr>\n",
       "    <tr>\n",
       "      <th>Mininum Efficiency Whole Home Electrification</th>\n",
       "      <td>15.6</td>\n",
       "      <td>11.8</td>\n",
       "    </tr>\n",
       "    <tr>\n",
       "      <th>Enhanced Enclosure</th>\n",
       "      <td>15.6</td>\n",
       "      <td>12.2</td>\n",
       "    </tr>\n",
       "    <tr>\n",
       "      <th>Basic Enclosure</th>\n",
       "      <td>15.6</td>\n",
       "      <td>12.6</td>\n",
       "    </tr>\n",
       "    <tr>\n",
       "      <th>Mininum Efficiency Heat Pump with Electric Heat Backup</th>\n",
       "      <td>15.6</td>\n",
       "      <td>13.3</td>\n",
       "    </tr>\n",
       "    <tr>\n",
       "      <th>Mininum Efficiency Heat Pump with Existing Heat Backup</th>\n",
       "      <td>15.6</td>\n",
       "      <td>14.2</td>\n",
       "    </tr>\n",
       "    <tr>\n",
       "      <th>Heat Pump Water Heater</th>\n",
       "      <td>15.6</td>\n",
       "      <td>14.8</td>\n",
       "    </tr>\n",
       "    <tr>\n",
       "      <th>Heat Pump Clothes Dryer</th>\n",
       "      <td>15.8</td>\n",
       "      <td>15.7</td>\n",
       "    </tr>\n",
       "    <tr>\n",
       "      <th>Electric Cooking</th>\n",
       "      <td>16.4</td>\n",
       "      <td>16.4</td>\n",
       "    </tr>\n",
       "    <tr>\n",
       "      <th>Induction Cooking</th>\n",
       "      <td>15.7</td>\n",
       "      <td>15.7</td>\n",
       "    </tr>\n",
       "    <tr>\n",
       "      <th>Electric Clothes Dryer</th>\n",
       "      <td>8.7</td>\n",
       "      <td>8.7</td>\n",
       "    </tr>\n",
       "  </tbody>\n",
       "</table>\n",
       "</div>"
      ],
      "text/plain": [
       "                                                    before  after\n",
       "upgrade_name                                                     \n",
       "Enhanced Enclosure + High Efficiency Whole Home...    15.6    7.7\n",
       "Enhanced Enclosure + HPWH + High Efficiency HP/...    15.6    7.7\n",
       "Basic Enclosure + High Efficiency Whole Home El...    15.6    7.8\n",
       "Basic Enclosure + HPWH + High Efficiency HP/Ele...    15.6    7.8\n",
       "High Efficiency Whole Home Electrification            15.6    8.8\n",
       "High Efficiency Heat Pump with Electric Heat Ba...    15.6   10.6\n",
       "Mininum Efficiency Whole Home Electrification         15.6   11.8\n",
       "Enhanced Enclosure                                    15.6   12.2\n",
       "Basic Enclosure                                       15.6   12.6\n",
       "Mininum Efficiency Heat Pump with Electric Heat...    15.6   13.3\n",
       "Mininum Efficiency Heat Pump with Existing Heat...    15.6   14.2\n",
       "Heat Pump Water Heater                                15.6   14.8\n",
       "Heat Pump Clothes Dryer                               15.8   15.7\n",
       "Electric Cooking                                      16.4   16.4\n",
       "Induction Cooking                                     15.7   15.7\n",
       "Electric Clothes Dryer                                 8.7    8.7"
      ]
     },
     "metadata": {},
     "output_type": "display_data"
    },
    {
     "name": "stdout",
     "output_type": "stream",
     "text": [
      "segment2\n"
     ]
    },
    {
     "data": {
      "text/html": [
       "<div>\n",
       "<style scoped>\n",
       "    .dataframe tbody tr th:only-of-type {\n",
       "        vertical-align: middle;\n",
       "    }\n",
       "\n",
       "    .dataframe tbody tr th {\n",
       "        vertical-align: top;\n",
       "    }\n",
       "\n",
       "    .dataframe thead th {\n",
       "        text-align: right;\n",
       "    }\n",
       "</style>\n",
       "<table border=\"1\" class=\"dataframe\">\n",
       "  <thead>\n",
       "    <tr style=\"text-align: right;\">\n",
       "      <th></th>\n",
       "      <th>before</th>\n",
       "      <th>after</th>\n",
       "    </tr>\n",
       "    <tr>\n",
       "      <th>upgrade_name</th>\n",
       "      <th></th>\n",
       "      <th></th>\n",
       "    </tr>\n",
       "  </thead>\n",
       "  <tbody>\n",
       "    <tr>\n",
       "      <th>Enhanced Enclosure + High Efficiency Whole Home Electrification</th>\n",
       "      <td>21.4</td>\n",
       "      <td>9.8</td>\n",
       "    </tr>\n",
       "    <tr>\n",
       "      <th>Basic Enclosure + High Efficiency Whole Home Electrification</th>\n",
       "      <td>21.4</td>\n",
       "      <td>9.9</td>\n",
       "    </tr>\n",
       "    <tr>\n",
       "      <th>Enhanced Enclosure + HPWH + High Efficiency HP/Electric Backup</th>\n",
       "      <td>21.4</td>\n",
       "      <td>9.9</td>\n",
       "    </tr>\n",
       "    <tr>\n",
       "      <th>Basic Enclosure + HPWH + High Efficiency HP/Electric Backup</th>\n",
       "      <td>21.4</td>\n",
       "      <td>10.1</td>\n",
       "    </tr>\n",
       "    <tr>\n",
       "      <th>High Efficiency Whole Home Electrification</th>\n",
       "      <td>21.4</td>\n",
       "      <td>11.4</td>\n",
       "    </tr>\n",
       "    <tr>\n",
       "      <th>High Efficiency Heat Pump with Electric Heat Backup</th>\n",
       "      <td>21.4</td>\n",
       "      <td>12.7</td>\n",
       "    </tr>\n",
       "    <tr>\n",
       "      <th>Enhanced Enclosure</th>\n",
       "      <td>21.4</td>\n",
       "      <td>16.1</td>\n",
       "    </tr>\n",
       "    <tr>\n",
       "      <th>Basic Enclosure</th>\n",
       "      <td>21.4</td>\n",
       "      <td>16.5</td>\n",
       "    </tr>\n",
       "    <tr>\n",
       "      <th>Mininum Efficiency Heat Pump with Electric Heat Backup</th>\n",
       "      <td>21.4</td>\n",
       "      <td>16.7</td>\n",
       "    </tr>\n",
       "    <tr>\n",
       "      <th>Mininum Efficiency Heat Pump with Existing Heat Backup</th>\n",
       "      <td>21.4</td>\n",
       "      <td>16.7</td>\n",
       "    </tr>\n",
       "    <tr>\n",
       "      <th>Heat Pump Water Heater</th>\n",
       "      <td>21.6</td>\n",
       "      <td>20.8</td>\n",
       "    </tr>\n",
       "    <tr>\n",
       "      <th>Mininum Efficiency Whole Home Electrification</th>\n",
       "      <td>17.2</td>\n",
       "      <td>16.7</td>\n",
       "    </tr>\n",
       "    <tr>\n",
       "      <th>Electric Cooking</th>\n",
       "      <td>18.8</td>\n",
       "      <td>18.5</td>\n",
       "    </tr>\n",
       "    <tr>\n",
       "      <th>Heat Pump Clothes Dryer</th>\n",
       "      <td>22.0</td>\n",
       "      <td>21.8</td>\n",
       "    </tr>\n",
       "    <tr>\n",
       "      <th>Induction Cooking</th>\n",
       "      <td>21.4</td>\n",
       "      <td>21.3</td>\n",
       "    </tr>\n",
       "    <tr>\n",
       "      <th>Electric Clothes Dryer</th>\n",
       "      <td>18.3</td>\n",
       "      <td>18.3</td>\n",
       "    </tr>\n",
       "  </tbody>\n",
       "</table>\n",
       "</div>"
      ],
      "text/plain": [
       "                                                    before  after\n",
       "upgrade_name                                                     \n",
       "Enhanced Enclosure + High Efficiency Whole Home...    21.4    9.8\n",
       "Basic Enclosure + High Efficiency Whole Home El...    21.4    9.9\n",
       "Enhanced Enclosure + HPWH + High Efficiency HP/...    21.4    9.9\n",
       "Basic Enclosure + HPWH + High Efficiency HP/Ele...    21.4   10.1\n",
       "High Efficiency Whole Home Electrification            21.4   11.4\n",
       "High Efficiency Heat Pump with Electric Heat Ba...    21.4   12.7\n",
       "Enhanced Enclosure                                    21.4   16.1\n",
       "Basic Enclosure                                       21.4   16.5\n",
       "Mininum Efficiency Heat Pump with Electric Heat...    21.4   16.7\n",
       "Mininum Efficiency Heat Pump with Existing Heat...    21.4   16.7\n",
       "Heat Pump Water Heater                                21.6   20.8\n",
       "Mininum Efficiency Whole Home Electrification         17.2   16.7\n",
       "Electric Cooking                                      18.8   18.5\n",
       "Heat Pump Clothes Dryer                               22.0   21.8\n",
       "Induction Cooking                                     21.4   21.3\n",
       "Electric Clothes Dryer                                18.3   18.3"
      ]
     },
     "metadata": {},
     "output_type": "display_data"
    },
    {
     "name": "stderr",
     "output_type": "stream",
     "text": [
      "/var/folders/qt/5nrnlf6148z2jxyxx_5yqgl0z8pq2p/T/ipykernel_79926/505849424.py:3: PerformanceWarning:\n",
      "\n",
      "DataFrame is highly fragmented.  This is usually the result of calling `frame.insert` many times, which has poor performance.  Consider joining all columns at once using pd.concat(axis=1) instead. To get a de-fragmented frame, use `newframe = frame.copy()`\n",
      "\n"
     ]
    }
   ],
   "source": [
    "results = segment_mean_energy_burden('post-upgrade_energy_burden_2023_cbills.%', community_results) \n",
    "saving_results[[f'segment1_{income}_energy_burden_before_upgrade_%',f'segment1_{income}_energy_burden_after_upgrade_%']] = results[0]\n",
    "saving_results[[f'segment2_{income}_energy_burden_before_upgrade_%',f'segment2_{income}_energy_burden_after_upgrade_%']] = results[1]"
   ]
  },
  {
   "cell_type": "code",
   "execution_count": 52,
   "id": "45f4b53f",
   "metadata": {},
   "outputs": [],
   "source": [
    "saving_results.to_csv(fig_dir / f'saving_results_{community}.csv')"
   ]
  },
  {
   "cell_type": "markdown",
   "id": "cf0b6391",
   "metadata": {},
   "source": [
    "### Save html file"
   ]
  },
  {
   "cell_type": "code",
   "execution_count": 53,
   "id": "442ef0c6",
   "metadata": {},
   "outputs": [
    {
     "name": "stdout",
     "output_type": "stream",
     "text": [
      "[NbConvertApp] Converting notebook saving_results_reports_for_north_birmingham.ipynb to html\n",
      "/Users/nmerket/mambaforge/envs/datatools/share/jupyter/nbconvert/templates/base/display_priority.j2:32: UserWarning: Your element with mimetype(s) dict_keys(['application/vnd.plotly.v1+json']) is not able to be represented.\n",
      "  {%- elif type == 'application/javascript' -%}\n",
      "[NbConvertApp] Writing 797444 bytes to results/north_birmingham/saving_results_reports_for_north_birmingham.html\n"
     ]
    }
   ],
   "source": [
    "! jupyter nbconvert --output-dir='./results/north_birmingham/' --to=html --no-input saving_results_reports_for_north_birmingham.ipynb"
   ]
  },
  {
   "cell_type": "code",
   "execution_count": 54,
   "id": "6af6dc9f",
   "metadata": {},
   "outputs": [],
   "source": [
    "rows = ['Basic Enclosure', 'Enhanced Enclosure', 'Heat Pump Water Heater', 'Mininum Efficiency Heat Pump with Electric Heat Backup']\n",
    "saving_results.loc[rows, ['whole_community_saving_bill_total_usd', 'whole_community_saving_emission_total_kgCO2e']].to_clipboard()"
   ]
  },
  {
   "cell_type": "code",
   "execution_count": 55,
   "id": "b3f8ff1c-217c-4632-9c83-239ca8a342c8",
   "metadata": {
    "scrolled": true
   },
   "outputs": [
    {
     "data": {
      "text/plain": [
       "array(['building_id', 'build_existing_model.ahs_region',\n",
       "       'build_existing_model.area_median_income',\n",
       "       'build_existing_model.ashrae_iecc_climate_zone_2004_2_a_split',\n",
       "       'build_existing_model.ashrae_iecc_climate_zone_2004',\n",
       "       'build_existing_model.bathroom_spot_vent_hour',\n",
       "       'build_existing_model.bedrooms',\n",
       "       'build_existing_model.building_america_climate_zone',\n",
       "       'build_existing_model.cec_climate_zone',\n",
       "       'build_existing_model.ceiling_fan',\n",
       "       'build_existing_model.census_division_recs',\n",
       "       'build_existing_model.census_division',\n",
       "       'build_existing_model.census_region', 'build_existing_model.city',\n",
       "       'build_existing_model.clothes_dryer',\n",
       "       'build_existing_model.clothes_washer_presence',\n",
       "       'build_existing_model.clothes_washer',\n",
       "       'build_existing_model.cooking_range',\n",
       "       'build_existing_model.cooling_setpoint_has_offset',\n",
       "       'build_existing_model.cooling_setpoint_offset_magnitude',\n",
       "       'build_existing_model.cooling_setpoint_offset_period',\n",
       "       'build_existing_model.cooling_setpoint',\n",
       "       'build_existing_model.corridor',\n",
       "       'build_existing_model.county_and_puma',\n",
       "       'build_existing_model.county', 'build_existing_model.dehumidifier',\n",
       "       'build_existing_model.dishwasher',\n",
       "       'build_existing_model.door_area', 'build_existing_model.doors',\n",
       "       'build_existing_model.ducts', 'build_existing_model.eaves',\n",
       "       'build_existing_model.electric_vehicle',\n",
       "       'build_existing_model.federal_poverty_level',\n",
       "       'build_existing_model.generation_and_emissions_assessment_region',\n",
       "       'build_existing_model.geometry_attic_type',\n",
       "       'build_existing_model.geometry_building_horizontal_location_mf',\n",
       "       'build_existing_model.geometry_building_horizontal_location_sfa',\n",
       "       'build_existing_model.geometry_building_level_mf',\n",
       "       'build_existing_model.geometry_building_number_units_mf',\n",
       "       'build_existing_model.geometry_building_number_units_sfa',\n",
       "       'build_existing_model.geometry_building_type_acs',\n",
       "       'build_existing_model.geometry_building_type_height',\n",
       "       'build_existing_model.geometry_building_type_recs',\n",
       "       'build_existing_model.geometry_floor_area_bin',\n",
       "       'build_existing_model.geometry_floor_area',\n",
       "       'build_existing_model.geometry_foundation_type',\n",
       "       'build_existing_model.geometry_garage',\n",
       "       'build_existing_model.geometry_stories_low_rise',\n",
       "       'build_existing_model.geometry_stories',\n",
       "       'build_existing_model.geometry_story_bin',\n",
       "       'build_existing_model.geometry_wall_exterior_finish',\n",
       "       'build_existing_model.geometry_wall_type',\n",
       "       'build_existing_model.has_pv', 'build_existing_model.heating_fuel',\n",
       "       'build_existing_model.heating_setpoint_has_offset',\n",
       "       'build_existing_model.heating_setpoint_offset_magnitude',\n",
       "       'build_existing_model.heating_setpoint_offset_period',\n",
       "       'build_existing_model.heating_setpoint',\n",
       "       'build_existing_model.holiday_lighting',\n",
       "       'build_existing_model.hot_water_distribution',\n",
       "       'build_existing_model.hot_water_fixtures',\n",
       "       'build_existing_model.hvac_cooling_efficiency',\n",
       "       'build_existing_model.hvac_cooling_partial_space_conditioning',\n",
       "       'build_existing_model.hvac_cooling_type',\n",
       "       'build_existing_model.hvac_has_ducts',\n",
       "       'build_existing_model.hvac_has_shared_system',\n",
       "       'build_existing_model.hvac_has_zonal_electric_heating',\n",
       "       'build_existing_model.hvac_heating_efficiency',\n",
       "       'build_existing_model.hvac_heating_type_and_fuel',\n",
       "       'build_existing_model.hvac_heating_type',\n",
       "       'build_existing_model.hvac_secondary_heating_efficiency',\n",
       "       'build_existing_model.hvac_secondary_heating_type_and_fuel',\n",
       "       'build_existing_model.hvac_shared_efficiencies',\n",
       "       'build_existing_model.hvac_system_is_faulted',\n",
       "       'build_existing_model.hvac_system_single_speed_ac_airflow',\n",
       "       'build_existing_model.hvac_system_single_speed_ac_charge',\n",
       "       'build_existing_model.hvac_system_single_speed_ashp_airflow',\n",
       "       'build_existing_model.hvac_system_single_speed_ashp_charge',\n",
       "       'build_existing_model.income_recs_2015',\n",
       "       'build_existing_model.income_recs_2020',\n",
       "       'build_existing_model.income', 'build_existing_model.infiltration',\n",
       "       'build_existing_model.insulation_ceiling',\n",
       "       'build_existing_model.insulation_floor',\n",
       "       'build_existing_model.insulation_foundation_wall',\n",
       "       'build_existing_model.insulation_rim_joist',\n",
       "       'build_existing_model.insulation_roof',\n",
       "       'build_existing_model.insulation_slab',\n",
       "       'build_existing_model.insulation_wall',\n",
       "       'build_existing_model.interior_shading',\n",
       "       'build_existing_model.iso_rto_region',\n",
       "       'build_existing_model.lighting_interior_use',\n",
       "       'build_existing_model.lighting_other_use',\n",
       "       'build_existing_model.lighting',\n",
       "       'build_existing_model.location_region',\n",
       "       'build_existing_model.mechanical_ventilation',\n",
       "       'build_existing_model.misc_extra_refrigerator',\n",
       "       'build_existing_model.misc_freezer',\n",
       "       'build_existing_model.misc_gas_fireplace',\n",
       "       'build_existing_model.misc_gas_grill',\n",
       "       'build_existing_model.misc_gas_lighting',\n",
       "       'build_existing_model.misc_hot_tub_spa',\n",
       "       'build_existing_model.misc_pool_heater',\n",
       "       'build_existing_model.misc_pool_pump',\n",
       "       'build_existing_model.misc_pool',\n",
       "       'build_existing_model.misc_well_pump',\n",
       "       'build_existing_model.natural_ventilation',\n",
       "       'build_existing_model.neighbors', 'build_existing_model.occupants',\n",
       "       'build_existing_model.orientation',\n",
       "       'build_existing_model.overhangs',\n",
       "       'build_existing_model.plug_load_diversity',\n",
       "       'build_existing_model.plug_loads',\n",
       "       'build_existing_model.puma_metro_status',\n",
       "       'build_existing_model.puma', 'build_existing_model.pv_orientation',\n",
       "       'build_existing_model.pv_system_size',\n",
       "       'build_existing_model.radiant_barrier',\n",
       "       'build_existing_model.range_spot_vent_hour',\n",
       "       'build_existing_model.reeds_balancing_area',\n",
       "       'build_existing_model.refrigerator',\n",
       "       'build_existing_model.roof_material',\n",
       "       'build_existing_model.schedules',\n",
       "       'build_existing_model.solar_hot_water',\n",
       "       'build_existing_model.state', 'build_existing_model.tenure',\n",
       "       'build_existing_model.usage_level',\n",
       "       'build_existing_model.vacancy_status',\n",
       "       'build_existing_model.vintage_acs', 'build_existing_model.vintage',\n",
       "       'build_existing_model.water_heater_efficiency',\n",
       "       'build_existing_model.water_heater_fuel',\n",
       "       'build_existing_model.water_heater_in_unit',\n",
       "       'build_existing_model.window_areas',\n",
       "       'build_existing_model.windows', 'rep_income', 'sample_weight',\n",
       "       'wall_rating', 'ceiling_roof_rating', 'infiltration_rating',\n",
       "       'combined_envelope_rating', 'energy_burden', 'upgrade_name',\n",
       "       'baseline_energy.electricity_kwh',\n",
       "       'baseline_emission.electricity_kgCO2e',\n",
       "       'baseline_cbill.electricity_usd', 'baseline_bill.electricity_usd',\n",
       "       'baseline_energy.natural_gas_therm',\n",
       "       'baseline_emission.natural_gas_kgCO2e',\n",
       "       'baseline_cbill.natural_gas_usd', 'baseline_bill.natural_gas_usd',\n",
       "       'baseline_energy.fuel_oil_mmbtu',\n",
       "       'baseline_emission.fuel_oil_kgCO2e', 'baseline_cbill.fuel_oil_usd',\n",
       "       'baseline_bill.fuel_oil_usd', 'baseline_energy.propane_mmbtu',\n",
       "       'baseline_emission.propane_kgCO2e', 'baseline_cbill.propane_usd',\n",
       "       'baseline_bill.propane_usd', 'baseline_energy.total_mmbtu',\n",
       "       'baseline_emission.total_kgCO2e', 'baseline_cbill.total_usd',\n",
       "       'baseline_bill.total_usd', 'baseline_energy_burden_2019_bills.%',\n",
       "       'baseline_energy_burden_2023_cbills.%', 'upgrade_cost_usd',\n",
       "       'saving_energy.electricity_kwh', 'pct_saving_energy.electricity_%',\n",
       "       'saving_emission.electricity_kgCO2e',\n",
       "       'pct_saving_emission.electricity_%', 'saving_bill.electricity_usd',\n",
       "       'pct_saving_bill.electricity_%', 'saving_cbill.electricity_usd',\n",
       "       'pct_saving_cbill.electricity_%',\n",
       "       'saving_energy.natural_gas_therm',\n",
       "       'pct_saving_energy.natural_gas_%',\n",
       "       'saving_emission.natural_gas_kgCO2e',\n",
       "       'pct_saving_emission.natural_gas_%', 'saving_bill.natural_gas_usd',\n",
       "       'pct_saving_bill.natural_gas_%', 'saving_cbill.natural_gas_usd',\n",
       "       'pct_saving_cbill.natural_gas_%', 'saving_energy.fuel_oil_mmbtu',\n",
       "       'pct_saving_energy.fuel_oil_%', 'saving_emission.fuel_oil_kgCO2e',\n",
       "       'pct_saving_emission.fuel_oil_%', 'saving_bill.fuel_oil_usd',\n",
       "       'pct_saving_bill.fuel_oil_%', 'saving_cbill.fuel_oil_usd',\n",
       "       'pct_saving_cbill.fuel_oil_%', 'saving_energy.propane_mmbtu',\n",
       "       'pct_saving_energy.propane_%', 'saving_emission.propane_kgCO2e',\n",
       "       'pct_saving_emission.propane_%', 'saving_bill.propane_usd',\n",
       "       'pct_saving_bill.propane_%', 'saving_cbill.propane_usd',\n",
       "       'pct_saving_cbill.propane_%', 'saving_energy.total_mmbtu',\n",
       "       'pct_saving_energy.total_%', 'saving_emission.total_kgCO2e',\n",
       "       'pct_saving_emission.total_%', 'saving_bill.total_usd',\n",
       "       'pct_saving_bill.total_%', 'saving_cbill.total_usd',\n",
       "       'pct_saving_cbill.total_%',\n",
       "       'post-upgrade_energy_burden_2019_bills.%',\n",
       "       'post-upgrade_energy_burden_2023_cbills.%', 'segment'],\n",
       "      dtype=object)"
      ]
     },
     "execution_count": 55,
     "metadata": {},
     "output_type": "execute_result"
    }
   ],
   "source": [
    "community_results.columns.values"
   ]
  },
  {
   "cell_type": "code",
   "execution_count": 56,
   "id": "cb2fbf51-3b3d-4536-b517-204b32539b71",
   "metadata": {},
   "outputs": [
    {
     "data": {
      "text/plain": [
       "array(['baseline', 'Basic Enclosure', 'Enhanced Enclosure',\n",
       "       'Mininum Efficiency Heat Pump with Electric Heat Backup',\n",
       "       'High Efficiency Heat Pump with Electric Heat Backup',\n",
       "       'Mininum Efficiency Heat Pump with Existing Heat Backup',\n",
       "       'Basic Enclosure + HPWH + High Efficiency HP/Electric Backup',\n",
       "       'Enhanced Enclosure + HPWH + High Efficiency HP/Electric Backup',\n",
       "       'Heat Pump Water Heater', 'Electric Clothes Dryer',\n",
       "       'Heat Pump Clothes Dryer', 'Electric Cooking', 'Induction Cooking',\n",
       "       'Mininum Efficiency Whole Home Electrification',\n",
       "       'High Efficiency Whole Home Electrification',\n",
       "       'Basic Enclosure + High Efficiency Whole Home Electrification',\n",
       "       'Enhanced Enclosure + High Efficiency Whole Home Electrification'],\n",
       "      dtype=object)"
      ]
     },
     "execution_count": 56,
     "metadata": {},
     "output_type": "execute_result"
    }
   ],
   "source": [
    "community_results['upgrade_name'].unique()"
   ]
  },
  {
   "cell_type": "code",
   "execution_count": 57,
   "id": "6831cca1-e3a7-4307-b3a0-1fceb42a201a",
   "metadata": {},
   "outputs": [
    {
     "data": {
      "text/plain": [
       "array(['Heat pumps, min-efficiency, electric backup'], dtype=object)"
      ]
     },
     "execution_count": 57,
     "metadata": {},
     "output_type": "execute_result"
    }
   ],
   "source": [
    "floor_areas = pd.read_parquet(\n",
    "    'data_/community_building_samples_with_upgrade_cost_and_bill/north_birmingham/up03__north_birmingham.parquet',\n",
    "    columns=['building_id', \n",
    "             'apply_upgrade.upgrade_name',\n",
    "             'upgrade_costs.floor_area_conditioned_ft_2', \n",
    "             'upgrade_costs.size_heating_system_primary_k_btu_h',\n",
    "             'completed_status']\n",
    ")\n",
    "floor_areas['apply_upgrade.upgrade_name'].unique()"
   ]
  },
  {
   "cell_type": "code",
   "execution_count": 58,
   "id": "0cec6de6-baa5-40af-8ded-f39727db8a39",
   "metadata": {},
   "outputs": [
    {
     "data": {
      "text/plain": [
       "array(['building_id', 'apply_upgrade.upgrade_name',\n",
       "       'upgrade_costs.floor_area_conditioned_ft_2',\n",
       "       'upgrade_costs.size_heating_system_primary_k_btu_h',\n",
       "       'completed_status'], dtype=object)"
      ]
     },
     "execution_count": 58,
     "metadata": {},
     "output_type": "execute_result"
    }
   ],
   "source": [
    "floor_areas.columns.values"
   ]
  },
  {
   "cell_type": "code",
   "execution_count": 59,
   "id": "250ef6c8-e9a7-43d2-bec5-9716e5bda849",
   "metadata": {},
   "outputs": [
    {
     "data": {
      "text/html": [
       "<div>\n",
       "<style scoped>\n",
       "    .dataframe tbody tr th:only-of-type {\n",
       "        vertical-align: middle;\n",
       "    }\n",
       "\n",
       "    .dataframe tbody tr th {\n",
       "        vertical-align: top;\n",
       "    }\n",
       "\n",
       "    .dataframe thead th {\n",
       "        text-align: right;\n",
       "    }\n",
       "</style>\n",
       "<table border=\"1\" class=\"dataframe\">\n",
       "  <thead>\n",
       "    <tr style=\"text-align: right;\">\n",
       "      <th></th>\n",
       "      <th>building_id</th>\n",
       "      <th>apply_upgrade.upgrade_name</th>\n",
       "      <th>upgrade_costs.floor_area_conditioned_ft_2</th>\n",
       "      <th>upgrade_costs.size_heating_system_primary_k_btu_h</th>\n",
       "      <th>completed_status</th>\n",
       "    </tr>\n",
       "  </thead>\n",
       "  <tbody>\n",
       "    <tr>\n",
       "      <th>0</th>\n",
       "      <td>239</td>\n",
       "      <td>Heat pumps, min-efficiency, electric backup</td>\n",
       "      <td>1690.0</td>\n",
       "      <td>39.22</td>\n",
       "      <td>Success</td>\n",
       "    </tr>\n",
       "    <tr>\n",
       "      <th>1</th>\n",
       "      <td>789</td>\n",
       "      <td>Heat pumps, min-efficiency, electric backup</td>\n",
       "      <td>1220.0</td>\n",
       "      <td>62.34</td>\n",
       "      <td>Success</td>\n",
       "    </tr>\n",
       "    <tr>\n",
       "      <th>2</th>\n",
       "      <td>1185</td>\n",
       "      <td>Heat pumps, min-efficiency, electric backup</td>\n",
       "      <td>853.0</td>\n",
       "      <td>11.65</td>\n",
       "      <td>Success</td>\n",
       "    </tr>\n",
       "    <tr>\n",
       "      <th>3</th>\n",
       "      <td>1433</td>\n",
       "      <td>Heat pumps, min-efficiency, electric backup</td>\n",
       "      <td>2663.0</td>\n",
       "      <td>46.69</td>\n",
       "      <td>Success</td>\n",
       "    </tr>\n",
       "    <tr>\n",
       "      <th>4</th>\n",
       "      <td>1907</td>\n",
       "      <td>Heat pumps, min-efficiency, electric backup</td>\n",
       "      <td>1220.0</td>\n",
       "      <td>43.26</td>\n",
       "      <td>Success</td>\n",
       "    </tr>\n",
       "    <tr>\n",
       "      <th>...</th>\n",
       "      <td>...</td>\n",
       "      <td>...</td>\n",
       "      <td>...</td>\n",
       "      <td>...</td>\n",
       "      <td>...</td>\n",
       "    </tr>\n",
       "    <tr>\n",
       "      <th>1150</th>\n",
       "      <td>546426</td>\n",
       "      <td>Heat pumps, min-efficiency, electric backup</td>\n",
       "      <td>1220.0</td>\n",
       "      <td>60.20</td>\n",
       "      <td>Success</td>\n",
       "    </tr>\n",
       "    <tr>\n",
       "      <th>1151</th>\n",
       "      <td>548159</td>\n",
       "      <td>Heat pumps, min-efficiency, electric backup</td>\n",
       "      <td>617.0</td>\n",
       "      <td>12.69</td>\n",
       "      <td>Success</td>\n",
       "    </tr>\n",
       "    <tr>\n",
       "      <th>1152</th>\n",
       "      <td>548178</td>\n",
       "      <td>Heat pumps, min-efficiency, electric backup</td>\n",
       "      <td>2663.0</td>\n",
       "      <td>69.32</td>\n",
       "      <td>Success</td>\n",
       "    </tr>\n",
       "    <tr>\n",
       "      <th>1153</th>\n",
       "      <td>548982</td>\n",
       "      <td>Heat pumps, min-efficiency, electric backup</td>\n",
       "      <td>617.0</td>\n",
       "      <td>18.12</td>\n",
       "      <td>Success</td>\n",
       "    </tr>\n",
       "    <tr>\n",
       "      <th>1154</th>\n",
       "      <td>549628</td>\n",
       "      <td>Heat pumps, min-efficiency, electric backup</td>\n",
       "      <td>1220.0</td>\n",
       "      <td>38.28</td>\n",
       "      <td>Success</td>\n",
       "    </tr>\n",
       "  </tbody>\n",
       "</table>\n",
       "<p>1155 rows × 5 columns</p>\n",
       "</div>"
      ],
      "text/plain": [
       "      building_id                   apply_upgrade.upgrade_name  \\\n",
       "0             239  Heat pumps, min-efficiency, electric backup   \n",
       "1             789  Heat pumps, min-efficiency, electric backup   \n",
       "2            1185  Heat pumps, min-efficiency, electric backup   \n",
       "3            1433  Heat pumps, min-efficiency, electric backup   \n",
       "4            1907  Heat pumps, min-efficiency, electric backup   \n",
       "...           ...                                          ...   \n",
       "1150       546426  Heat pumps, min-efficiency, electric backup   \n",
       "1151       548159  Heat pumps, min-efficiency, electric backup   \n",
       "1152       548178  Heat pumps, min-efficiency, electric backup   \n",
       "1153       548982  Heat pumps, min-efficiency, electric backup   \n",
       "1154       549628  Heat pumps, min-efficiency, electric backup   \n",
       "\n",
       "      upgrade_costs.floor_area_conditioned_ft_2  \\\n",
       "0                                        1690.0   \n",
       "1                                        1220.0   \n",
       "2                                         853.0   \n",
       "3                                        2663.0   \n",
       "4                                        1220.0   \n",
       "...                                         ...   \n",
       "1150                                     1220.0   \n",
       "1151                                      617.0   \n",
       "1152                                     2663.0   \n",
       "1153                                      617.0   \n",
       "1154                                     1220.0   \n",
       "\n",
       "      upgrade_costs.size_heating_system_primary_k_btu_h completed_status  \n",
       "0                                                 39.22          Success  \n",
       "1                                                 62.34          Success  \n",
       "2                                                 11.65          Success  \n",
       "3                                                 46.69          Success  \n",
       "4                                                 43.26          Success  \n",
       "...                                                 ...              ...  \n",
       "1150                                              60.20          Success  \n",
       "1151                                              12.69          Success  \n",
       "1152                                              69.32          Success  \n",
       "1153                                              18.12          Success  \n",
       "1154                                              38.28          Success  \n",
       "\n",
       "[1155 rows x 5 columns]"
      ]
     },
     "execution_count": 59,
     "metadata": {},
     "output_type": "execute_result"
    }
   ],
   "source": [
    "floor_areas"
   ]
  },
  {
   "cell_type": "code",
   "execution_count": 60,
   "id": "c91b4921-c0ef-4a62-af35-8d01ff42465b",
   "metadata": {},
   "outputs": [],
   "source": [
    "df2 = community_results.merge(floor_areas, how='left', on='building_id')"
   ]
  },
  {
   "cell_type": "code",
   "execution_count": 61,
   "id": "f9804556-35f9-4bd2-b1e2-bc97dad27d87",
   "metadata": {},
   "outputs": [
    {
     "data": {
      "text/html": [
       "<div>\n",
       "<style scoped>\n",
       "    .dataframe tbody tr th:only-of-type {\n",
       "        vertical-align: middle;\n",
       "    }\n",
       "\n",
       "    .dataframe tbody tr th {\n",
       "        vertical-align: top;\n",
       "    }\n",
       "\n",
       "    .dataframe thead th {\n",
       "        text-align: right;\n",
       "    }\n",
       "</style>\n",
       "<table border=\"1\" class=\"dataframe\">\n",
       "  <thead>\n",
       "    <tr style=\"text-align: right;\">\n",
       "      <th></th>\n",
       "      <th>upgrade_costs.floor_area_conditioned_ft_2</th>\n",
       "      <th>upgrade_costs.size_heating_system_primary_k_btu_h</th>\n",
       "    </tr>\n",
       "    <tr>\n",
       "      <th>segment</th>\n",
       "      <th></th>\n",
       "      <th></th>\n",
       "    </tr>\n",
       "  </thead>\n",
       "  <tbody>\n",
       "    <tr>\n",
       "      <th>nan</th>\n",
       "      <td>1702.605573</td>\n",
       "      <td>43.588006</td>\n",
       "    </tr>\n",
       "    <tr>\n",
       "      <th>segment1</th>\n",
       "      <td>1444.388060</td>\n",
       "      <td>50.346642</td>\n",
       "    </tr>\n",
       "    <tr>\n",
       "      <th>segment2</th>\n",
       "      <td>1514.806818</td>\n",
       "      <td>52.268068</td>\n",
       "    </tr>\n",
       "  </tbody>\n",
       "</table>\n",
       "</div>"
      ],
      "text/plain": [
       "          upgrade_costs.floor_area_conditioned_ft_2  \\\n",
       "segment                                               \n",
       "nan                                     1702.605573   \n",
       "segment1                                1444.388060   \n",
       "segment2                                1514.806818   \n",
       "\n",
       "          upgrade_costs.size_heating_system_primary_k_btu_h  \n",
       "segment                                                      \n",
       "nan                                               43.588006  \n",
       "segment1                                          50.346642  \n",
       "segment2                                          52.268068  "
      ]
     },
     "execution_count": 61,
     "metadata": {},
     "output_type": "execute_result"
    }
   ],
   "source": [
    "upg_name = 'High Efficiency Heat Pump with Electric Heat Backup'\n",
    "df2[df2['upgrade_name'] == upg_name].groupby('segment')[[\n",
    "    'upgrade_costs.floor_area_conditioned_ft_2',\n",
    "    'upgrade_costs.size_heating_system_primary_k_btu_h',\n",
    "]].mean()"
   ]
  },
  {
   "cell_type": "code",
   "execution_count": null,
   "id": "2b866318-8d2d-426d-9c71-25d9b232b558",
   "metadata": {},
   "outputs": [],
   "source": []
  }
 ],
 "metadata": {
  "kernelspec": {
   "display_name": "Python 3 (ipykernel)",
   "language": "python",
   "name": "python3"
  },
  "language_info": {
   "codemirror_mode": {
    "name": "ipython",
    "version": 3
   },
   "file_extension": ".py",
   "mimetype": "text/x-python",
   "name": "python",
   "nbconvert_exporter": "python",
   "pygments_lexer": "ipython3",
   "version": "3.11.4"
  }
 },
 "nbformat": 4,
 "nbformat_minor": 5
}
